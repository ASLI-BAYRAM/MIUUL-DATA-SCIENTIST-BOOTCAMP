{
 "cells": [
  {
   "cell_type": "markdown",
   "id": "882ef02c-6ebb-41f9-a6e7-af81e9508be7",
   "metadata": {},
   "source": [
    " <h1 style=\"text-align: center; color: RED\">TAVSİYE SİSTEMLERİ</h1>"
   ]
  },
  {
   "cell_type": "markdown",
   "id": "716c5c31-31ee-4dc9-bf96-826c0b2a1f1d",
   "metadata": {},
   "source": [
    "Öneri Sistemleri (Recommendation Systems), kullanıcıların tercihlerine, geçmiş etkileşimlerine veya benzer kullanıcıların davranışlarına dayanarak ürün, hizmet veya içerik öneren yapay zeka tabanlı sistemlerdir. Günümüzde e-ticaret, dijital platformlar (Netflix, Spotify, YouTube gibi) ve sosyal medya uygulamalarında sıklıkla kullanılmaktadır.\n",
    "\n",
    "Öneri sistemleri, üç ana bileşenden oluşur:\n",
    "\n",
    "1.\tKullanıcılar (Users): Önerilerin sunulduğu kişiler. Kullanıcıların geçmiş davranışları, beğenileri ve tercihleri sistemin temelini oluşturur.\n",
    "  \n",
    "2.\tÜrünler/İçerikler (Items): Önerilen ürünler veya içerikler. Bu bir film, kitap, müzik, ürün ya da blog yazısı olabilir.\n",
    "\n",
    "3.\tEtkileşimler (Interactions): Kullanıcıların ürünlerle olan geçmiş etkileşimleri (izlenen filmler, satın alınan ürünler, tıklanan linkler vb.).\n",
    "\n",
    "Tavsiye sistemleri, kullanıcılara bazı teknikleri kullanarak ürünleri ya da hizmetleri önermek demektir. İşleyeceğimiz konular başlıkları şunlardır:\n",
    "\n",
    "* 1-Simple Recommender Systems(Basit Tavsiye Sistemleri):\n",
    "\n",
    "İş bilgisi ya da basit tekniklerle yapılan genel öneriler. \n",
    "Örneğin kategorinin en yüksek puanlıları, trend olanlar, efsaneler, son haftada en cok izlenen on film vs.\n",
    "\n",
    "* 2-Association Rule Learning(Birliktelik Kuralı Öğrenimi)\n",
    "\n",
    "Birliktelik analizi ile öğrenilen kurallara göre ürün önerileri:\n",
    "Buda kısaca şunu yapar çok sık şekilde birlikte satın alınan ürünlerin olasılıklarını çıkarır ve bunlara göre belirli öneriler yapar. Sepet analizi de denilir.\n",
    "\n",
    "* 3-Content Based Filtering(İçerik Temelli Filtreleme)\n",
    "Ürün benzerliğine göre öneriler yapılan uzaklık temelli yöntemler\n",
    "\n",
    "* 4-Collaborative Filtering(İş Birlikçi Filtreleme)\n",
    "\n",
    "Topluluğun kullanıcı ya da ürün bazında ortak kanaatlerini yansıtan yöntemler\n",
    "-User Based\n",
    "-Item Based\n",
    "-Model Based(Matrix Factorization)\n",
    "\n"
   ]
  },
  {
   "cell_type": "markdown",
   "id": "42172e79-3acf-4349-b573-b033827917a4",
   "metadata": {},
   "source": [
    " <h1 style=\"text-align: center; color: RED\">1-BİRLİKTELİK KURALI ÖĞRENİMİ ( Association Rule Learning )</h1>\n",
    "\n",
    "Veri içerisindeki örüntüleri (pattern, ilişki, yapı) bulmak için kullanılan kural tabanlı bir makine öğrenmesi tekniğidir. Bebek bezi ile biranın birlikte satılma örneği buna örnektir. En çok pazar sepeti analizi (Market Basket Analysis) ile tanınır ve e-ticaret, öneri sistemleri, sahtekarlık tespiti gibi alanlarda sıklıkla kullanılır.\n",
    "\n",
    "Birliktelik kuralları, “Eğer X olursa, Y de olur” şeklinde ifade edilen kurallardır. Örneğin:\n",
    "\n",
    "•\tBir markette “Müşteri süt alırsa, ekmek alma olasılığı da yüksektir.” gibi bir ilişki bulunabilir\n"
   ]
  },
  {
   "cell_type": "markdown",
   "id": "0c2534b2-327f-4991-bbf0-fa0c8c1cb473",
   "metadata": {},
   "source": [
    "<span style=\"color: blue; font-weight: bold;\">APRİORİ ALGORİTMASI</span>\n",
    "\n",
    "Sepet analizi yöntemidir. Ürün birlikteliklerini ortaya çıkarmak için kullanılır.\n",
    "Bu algoritma üzerinden hesaplayacağımız 3 temel metrik vardır. Bu 3 metrik ile veri seti içerisindeki ilişki örüntülerini, yapılarını gözlemleme imkânı buluruz ve bunları istatistiksel bir ölçütle değerlendirme imkânımız olur.\n",
    "\n",
    "a)Destek (Support): X ve Y’nin birlikte görülme olasılığı\n",
    "\n",
    "    Support(X, Y)  = Freq(X, Y)/N => X ve Y’nin birlikte görülme frekansı / Tüm işlem\n",
    "\n",
    "b)Güven (Confidence):X satın alındığında Y’nin satılma olasılığı\n",
    "\n",
    "    Confidence(X,Y) = Freq(X, Y) / Freq(X)\n",
    "\n",
    "c)X satın alındığında Y’nin satın alınma olasılığı lift kat kadar artar.\n",
    "\n",
    "    Lift = Support (X, Y) / (Support(X) * Support(Y))\n",
    "    \n",
    "Lift, iki olayın (X ve Y'nin satın alınması) bağımsız olma durumuna göre ne kadar daha olası olduğunu ölçer.\n",
    "\n",
    "Lift Değerinin Yorumlanması:\n",
    "\n",
    "•\tLift > 1:\n",
    "o\tX ve Y birlikte beklenenden daha sık gerçekleşiyor. Bu, pozitif bir ilişki olduğunu gösterir.\n",
    "\n",
    "o\tÖrneğin, bir markette \"ekmek\" ve \"peynir\" birlikte satın alınıyorsa ve lift > 1 ise, bu ikisinin birlikte alınmasının rastgele bir duruma göre daha olası olduğu anlamına gelir.\n",
    "\n",
    "•\tLift = 1:\n",
    "o\tX ve Y’nin birlikte gerçekleşme olasılığı, X ve Y’nin bağımsız olarak gerçekleşme olasılığına eşittir.\n",
    "\n",
    "o\tBu durumda, iki öğe arasında ne pozitif ne de negatif bir ilişki vardır.\n",
    "\n",
    "o\tÖrneğin, \"su\" ve \"kraker\" ürünlerinin lift değeri 1 ise, bunların birlikte alınması tamamen rastgele bir durumdur ve birbiriyle anlamlı bir ilişkisi yoktur.\n",
    "\n",
    "•\tLift < 1:\n",
    "\n",
    "o\tX’in varlığı, Y’nin gerçekleşme olasılığını azaltıyor demektir.\n",
    "\n",
    "o\tBu durumda, iki öğe arasında negatif bir ilişki vardır.\n",
    "\n",
    "o\tÖrneğin, bir markette \"süt\" ve \"maden suyu\" ürünlerinin lift değeri < 1 ise, bu ikisinin birlikte satın alınması beklenenden daha düşük bir olasılıkla gerçekleşiyor anlamına gelir.\n",
    "\n"
   ]
  },
  {
   "cell_type": "markdown",
   "id": "8b58a5f3-14a0-4480-ba43-1599d415c3f9",
   "metadata": {},
   "source": [
    "![Test](datasets/1.png)"
   ]
  },
  {
   "cell_type": "markdown",
   "id": "a63cb6cd-c7d9-46d7-bb0e-8851868e2ee1",
   "metadata": {},
   "source": [
    "**Apriori Nasıl Çalışır:**\n",
    "\n",
    "Çalışmanın başında belirlenecek bir support eşik değerine göre olası ürün çiftelerini hesaplar ve her iterasyonda belirlenen Support değerine göre elemeler yaparak bir final tablosu oluşturur. Örneğin support eşik değeri %20 olsun. Bu demektir ki bir ürünün support değeri %20 ve altındaysa o ürünü liste dışında bırak.\n",
    "\n",
    "Adım 1: Her ürünün support değerini hesapla\n",
    "\n",
    "Adım2: Support değerinin altında kalanları ele\n",
    "\n",
    "Adım3: Ürün çiftlemelerine bakarak yeni liste ve alışveriş kayıtlarına göre supportu oluştur.\n",
    "\n",
    "Adım4: Support değerinin altında kalanları ele\n",
    "\n",
    "Adım5: Tekrar ürün çiftlemeleri oluştur (elde ettiğimiz ikinCi tablo üzerinden yapılır). Yeni liste oluştur ve supportu hesapla.\n",
    "\n",
    "Adım6: Support değerinin altında kalanları ele.\n",
    "\n",
    "Adım7: Her iterasyonda elimde kalan birlikte alanın ürünleri final tablosunda oluştur. Daha sonra apriori metriklerini uygula.\n"
   ]
  },
  {
   "cell_type": "markdown",
   "id": "6a6e7a7c-d7a5-4cd4-b2eb-a86f20393898",
   "metadata": {},
   "source": [
    "![Test](datasets/2.png)\n",
    "\n",
    "![Test](datasets/3.png)\n",
    "\n",
    "![Test](datasets/4.png)\n",
    "\n",
    "![Test](datasets/5.png)\n",
    "\n",
    "![Test](datasets/6.png)\n",
    "\n",
    "![Test](datasets/7.png)\n",
    "\n",
    "![Test](datasets/8.png)\n",
    "\n",
    "![Test](datasets/9.png)\n",
    "\n",
    "![Test](datasets/10.png)"
   ]
  },
  {
   "cell_type": "code",
   "execution_count": null,
   "id": "472603df-e579-4236-9c1e-9f1ed1b2991f",
   "metadata": {},
   "outputs": [],
   "source": []
  }
 ],
 "metadata": {
  "kernelspec": {
   "display_name": "Python [conda env:base] *",
   "language": "python",
   "name": "conda-base-py"
  },
  "language_info": {
   "codemirror_mode": {
    "name": "ipython",
    "version": 3
   },
   "file_extension": ".py",
   "mimetype": "text/x-python",
   "name": "python",
   "nbconvert_exporter": "python",
   "pygments_lexer": "ipython3",
   "version": "3.12.3"
  }
 },
 "nbformat": 4,
 "nbformat_minor": 5
}
