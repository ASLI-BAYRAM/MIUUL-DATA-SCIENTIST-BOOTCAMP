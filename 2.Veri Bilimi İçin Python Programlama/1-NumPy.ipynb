{
 "cells": [
  {
   "cell_type": "markdown",
   "id": "220d86ec-fc0a-4a8a-83cb-5f6532f96034",
   "metadata": {},
   "source": [
    " <h1 style=\"text-align: center; color: RED\">PYTHON İLE VERİ ANALİZİ : NUMPY</h1> \n",
    "\n",
    " Numpy, numerical python'ının kısaltılmış halidir. Bilimsel hesaplamalar için kullanılır. Array'ler, çok boyutlu array'ler ve matrisler üzerinde yüksek performanslı çalışma imkanı sağlar. Numpy'ın listelerden farkı  verimli veri saklama ve vektörel operasyonlar yapılabilmesidir. Numpy içerisinde bir veri tutarken  fix type yani sabitlenmiş tipte tutarak listelere kıyasla çok daha hızlı bir şekilde işlem yapma imknaı sağlar. Örneğin bir liste içerisinde 5 eleman var ve her elemanın tipi aynı liste bu her elemanın tip ve boyut bilgisini  ayrı ayrı tutar. Numpy ise sabit tipte veri tutar yani içerisinde ne kadar eleman olursa olsun bunların boyut ve tip bilgisini ayrı ayrı saklamaz. Bu da verimli veri saklama ve daha hızlı işlemler yapmayı sağlar. Yani numpy bize daha az çaba ile daha çok işlem yapma imkanı sağlar."
   ]
  },
  {
   "cell_type": "code",
   "execution_count": 6,
   "id": "6c2b42b6-8216-4fb5-bcc3-0cad0cf54584",
   "metadata": {},
   "outputs": [],
   "source": [
    "import numpy as np# import ile kütüphaneyi çağırdık  ve np diye genel bir kullanımla kısalttık"
   ]
  },
  {
   "cell_type": "markdown",
   "id": "b02914dd-53c6-4a11-a9e2-8efaf62776c0",
   "metadata": {},
   "source": [
    "<span style=\"color: blue; font-weight: bold;\">Neden Numpy ?:</span>\n",
    "\n",
    "* Hız(sabit tipte veri tutması)\n",
    "* Yüksek Seviyeden Vektörel İşlemler\n"
   ]
  },
  {
   "cell_type": "code",
   "execution_count": 2,
   "id": "fb0aaa6f-08d6-40ca-a403-11635dc5244a",
   "metadata": {},
   "outputs": [
    {
     "name": "stdout",
     "output_type": "stream",
     "text": [
      "[2, 6, 12, 20]\n"
     ]
    }
   ],
   "source": [
    "#Klasik yöntem ile çarpma\n",
    "\n",
    "a = [1, 2, 3, 4]\n",
    "b = [2, 3, 4, 5]\n",
    "ab = []\n",
    "for i in range(0, len(a)):\n",
    "    ab.append(a[i] * b[i])\n",
    "print(ab)"
   ]
  },
  {
   "cell_type": "code",
   "execution_count": 8,
   "id": "6e4c3878-4c0b-4ffd-b070-3835c57baa53",
   "metadata": {},
   "outputs": [
    {
     "data": {
      "text/plain": [
       "array([ 2,  6, 12, 20])"
      ]
     },
     "execution_count": 8,
     "metadata": {},
     "output_type": "execute_result"
    }
   ],
   "source": [
    "#Numpy ile yapma\n",
    "\n",
    "a  =np.array([1, 2, 3, 4]) # numpy arrayine çevirdik\n",
    "b = np.array([2, 3, 4, 5])\n",
    "\n",
    "a * b # döngüye gerek kalmadan tek satırda işlme gercekleşti.Yüksek seviyeden vektörel işlem"
   ]
  },
  {
   "cell_type": "markdown",
   "id": "92ec74ca-6f0d-4330-8d8e-0822c1e7f45e",
   "metadata": {},
   "source": [
    "<span style=\"color: blue; font-weight: bold;\">NumPy Array'i Oluşturma</span>\n",
    "\n",
    "Numpy array'i de bir veri yapısıdır. Buna ndarray adı da verilir.np.array() metodunu kullnarak array oluştururuz. Pratikte genelde sıfırdan bir numpy array'i oluşturularak üzerinde çalışılmaz. Var olan bir yapı array'e çevrilir ve onun üzerinden işlemler yapılır.\n"
   ]
  },
  {
   "cell_type": "code",
   "execution_count": 13,
   "id": "3fbc1825-d6ea-4260-b987-c2afa9fd4c69",
   "metadata": {},
   "outputs": [
    {
     "data": {
      "text/plain": [
       "array([1, 2, 3, 4, 5])"
      ]
     },
     "execution_count": 13,
     "metadata": {},
     "output_type": "execute_result"
    }
   ],
   "source": [
    "np.array([1,2,3,4,5])# liste üzerinden array oluşturmak"
   ]
  },
  {
   "cell_type": "code",
   "execution_count": 15,
   "id": "ce50ce01-134e-4e3a-87f9-e9870a9c626a",
   "metadata": {},
   "outputs": [
    {
     "data": {
      "text/plain": [
       "numpy.ndarray"
      ]
     },
     "execution_count": 15,
     "metadata": {},
     "output_type": "execute_result"
    }
   ],
   "source": [
    "type(np.array([1,2,3,4,5]))"
   ]
  },
  {
   "cell_type": "code",
   "execution_count": 18,
   "id": "84459258-ddeb-4bfc-bce5-37960d7d2653",
   "metadata": {},
   "outputs": [
    {
     "data": {
      "text/plain": [
       "array([0, 0, 0, 0, 0, 0, 0, 0, 0, 0])"
      ]
     },
     "execution_count": 18,
     "metadata": {},
     "output_type": "execute_result"
    }
   ],
   "source": [
    "np.zeros(10, dtype = int) # sıfırlardan oluşna ve tipleri int olan bir array oluşturur."
   ]
  },
  {
   "cell_type": "code",
   "execution_count": 20,
   "id": "be0b3044-f339-49cf-984b-a47324bd7e06",
   "metadata": {},
   "outputs": [
    {
     "data": {
      "text/plain": [
       "array([2, 5, 2, 8, 0, 8, 5, 0, 9, 6])"
      ]
     },
     "execution_count": 20,
     "metadata": {},
     "output_type": "execute_result"
    }
   ],
   "source": [
    "np.random.randint(0,10, size=10, dtype=int) #0 ile 10 arasında rastgele 10 tane int sec"
   ]
  },
  {
   "cell_type": "code",
   "execution_count": 30,
   "id": "edc66fc8-e9ed-4938-978b-101035614050",
   "metadata": {},
   "outputs": [
    {
     "data": {
      "text/plain": [
       "array([[15.4028808 ,  2.03696537, 15.0664393 ,  1.90690087],\n",
       "       [15.79482468, 14.53275109, 11.57794219, 12.93624948],\n",
       "       [10.13121021, 14.83206677, 12.55165594,  9.06221406]])"
      ]
     },
     "execution_count": 30,
     "metadata": {},
     "output_type": "execute_result"
    }
   ],
   "source": [
    "np.random.normal(10, 4 ,(3,4)) #Ortalaması 10 standart sapması 4 olan 3x4 bir array oluştur"
   ]
  },
  {
   "cell_type": "markdown",
   "id": "cc8d314f-20b5-4c15-988d-ee139160eb37",
   "metadata": {},
   "source": [
    "<span style=\"color: blue; font-weight: bold;\">NumPy Array Özellikleri</span>\n",
    "\n",
    "ndim: Boyut sayısı\n",
    "\n",
    "shape: Boyut bilgisi\n",
    "\n",
    "size: Toplam Eleman Sayısı\n",
    "\n",
    "dtype: Array veri tipi\n",
    " "
   ]
  },
  {
   "cell_type": "code",
   "execution_count": 37,
   "id": "ca0b8d88-94f7-4cf8-85a4-6f43726de6f2",
   "metadata": {},
   "outputs": [
    {
     "data": {
      "text/plain": [
       "array([3, 1, 7, 0, 9])"
      ]
     },
     "execution_count": 37,
     "metadata": {},
     "output_type": "execute_result"
    }
   ],
   "source": [
    "a = np.random.randint(10, size=5)\n",
    "a"
   ]
  },
  {
   "cell_type": "code",
   "execution_count": 39,
   "id": "b12a9ead-9b16-43b8-9347-58ac274289b8",
   "metadata": {},
   "outputs": [
    {
     "data": {
      "text/plain": [
       "1"
      ]
     },
     "execution_count": 39,
     "metadata": {},
     "output_type": "execute_result"
    }
   ],
   "source": [
    "a.ndim # tek boyutlu"
   ]
  },
  {
   "cell_type": "code",
   "execution_count": 41,
   "id": "cd35c5e6-b1db-49b9-accf-1a8dd9f262a5",
   "metadata": {},
   "outputs": [
    {
     "data": {
      "text/plain": [
       "(5,)"
      ]
     },
     "execution_count": 41,
     "metadata": {},
     "output_type": "execute_result"
    }
   ],
   "source": [
    "a.shape # tek boyutlu ve içerisinde 5 eleman var"
   ]
  },
  {
   "cell_type": "code",
   "execution_count": 43,
   "id": "eb674cd5-cabd-4947-a2ff-06617da9fccc",
   "metadata": {},
   "outputs": [
    {
     "data": {
      "text/plain": [
       "5"
      ]
     },
     "execution_count": 43,
     "metadata": {},
     "output_type": "execute_result"
    }
   ],
   "source": [
    "a.size # toplam eleman sayısı"
   ]
  },
  {
   "cell_type": "code",
   "execution_count": 45,
   "id": "72241711-c974-4176-8d71-72c86a9282e7",
   "metadata": {},
   "outputs": [
    {
     "data": {
      "text/plain": [
       "dtype('int32')"
      ]
     },
     "execution_count": 45,
     "metadata": {},
     "output_type": "execute_result"
    }
   ],
   "source": [
    "a.dtype #içerisindeki değerlerin tip bilgisini verir"
   ]
  },
  {
   "cell_type": "markdown",
   "id": "c397013e-324b-418d-ac73-0f1fb741e908",
   "metadata": {},
   "source": [
    "<span style=\"color: blue; font-weight: bold;\">Yeniden Şekillendirme(Reshaping)</span>\n",
    "\n",
    "Elimizdeki bir numpy array'inin boyutunu değiştirmek istediğimizde 'reshape' metodunu kullanırız.\n"
   ]
  },
  {
   "cell_type": "code",
   "execution_count": 51,
   "id": "a911db3e-918f-4c18-9f45-7fc5b26dad4e",
   "metadata": {},
   "outputs": [
    {
     "data": {
      "text/plain": [
       "array([[3, 2, 1],\n",
       "       [8, 5, 4],\n",
       "       [2, 4, 2]])"
      ]
     },
     "execution_count": 51,
     "metadata": {},
     "output_type": "execute_result"
    }
   ],
   "source": [
    "np.random.randint(1, 10, size=9) # bu tek boyutlu array'i 2 boyutluya çevirmek istiyorum\n",
    "np.random.randint(1, 10, size=9).reshape(3,3) # buraya 2,2 yazamam çünkü elaman sayısı 9\n",
    "                                              # çarpımları elaman sayısını verecek şekilde boyut sayısnı belirlemeliyim"
   ]
  },
  {
   "cell_type": "markdown",
   "id": "df617b03-2112-4717-8890-8cae4945ed74",
   "metadata": {},
   "source": [
    "<span style=\"color: blue; font-weight: bold;\">İndex İşlemleri</span>"
   ]
  },
  {
   "cell_type": "code",
   "execution_count": 61,
   "id": "a25b4b4e-59ce-4774-905c-8b8dc6d2ca21",
   "metadata": {},
   "outputs": [
    {
     "data": {
      "text/plain": [
       "array([3, 5, 3, 2, 1, 5, 7, 5, 5, 0])"
      ]
     },
     "execution_count": 61,
     "metadata": {},
     "output_type": "execute_result"
    }
   ],
   "source": [
    "a = np.random.randint(10, size=10)\n",
    "a"
   ]
  },
  {
   "cell_type": "code",
   "execution_count": 63,
   "id": "6e5f0923-2793-425b-80dd-821da3fbadbb",
   "metadata": {},
   "outputs": [
    {
     "data": {
      "text/plain": [
       "3"
      ]
     },
     "execution_count": 63,
     "metadata": {},
     "output_type": "execute_result"
    }
   ],
   "source": [
    "a[0]# sıfırıncı elemana erişme"
   ]
  },
  {
   "cell_type": "code",
   "execution_count": 65,
   "id": "9a543819-6341-457b-8665-46c96015d442",
   "metadata": {},
   "outputs": [
    {
     "data": {
      "text/plain": [
       "array([3, 5, 3, 2, 1])"
      ]
     },
     "execution_count": 65,
     "metadata": {},
     "output_type": "execute_result"
    }
   ],
   "source": [
    "a[0:5] # birden fazla eleman secme Slicing işlemi"
   ]
  },
  {
   "cell_type": "code",
   "execution_count": 67,
   "id": "f2926115-e914-48f1-a71f-2bd35108be7d",
   "metadata": {},
   "outputs": [
    {
     "data": {
      "text/plain": [
       "array([999,   5,   3,   2,   1,   5,   7,   5,   5,   0])"
      ]
     },
     "execution_count": 67,
     "metadata": {},
     "output_type": "execute_result"
    }
   ],
   "source": [
    "a[0]= 999 #indexteki elemanı değiştirme\n",
    "a"
   ]
  },
  {
   "cell_type": "code",
   "execution_count": 73,
   "id": "403f1f8e-f28e-4057-a528-eea914af9ae7",
   "metadata": {},
   "outputs": [
    {
     "data": {
      "text/plain": [
       "array([[8, 5, 3, 0, 1],\n",
       "       [7, 5, 1, 2, 5],\n",
       "       [0, 0, 1, 1, 7]])"
      ]
     },
     "execution_count": 73,
     "metadata": {},
     "output_type": "execute_result"
    }
   ],
   "source": [
    "m = np.random.randint(10, size=(3,5)) # 3 satırlı 5 sutunlu array\n",
    "m"
   ]
  },
  {
   "cell_type": "code",
   "execution_count": 75,
   "id": "5312b0d1-38f8-428b-a0c1-bacc70c335ca",
   "metadata": {},
   "outputs": [
    {
     "data": {
      "text/plain": [
       "8"
      ]
     },
     "execution_count": 75,
     "metadata": {},
     "output_type": "execute_result"
    }
   ],
   "source": [
    "m[0, 0] #virgülden öncesi satırları, sonrası sutunları temsil etmektedir."
   ]
  },
  {
   "cell_type": "code",
   "execution_count": 77,
   "id": "7e563eb6-03bc-47f1-9c86-01d436e9f215",
   "metadata": {},
   "outputs": [
    {
     "data": {
      "text/plain": [
       "5"
      ]
     },
     "execution_count": 77,
     "metadata": {},
     "output_type": "execute_result"
    }
   ],
   "source": [
    "m[1,1]"
   ]
  },
  {
   "cell_type": "code",
   "execution_count": 79,
   "id": "a4abab27-c086-4df8-bca3-39e8db7b50ae",
   "metadata": {},
   "outputs": [
    {
     "data": {
      "text/plain": [
       "array([[  8,   5,   3,   0,   1],\n",
       "       [  7,   5,   1,   2,   5],\n",
       "       [  0,   0,   1, 999,   7]])"
      ]
     },
     "execution_count": 79,
     "metadata": {},
     "output_type": "execute_result"
    }
   ],
   "source": [
    "m[2, 3]=999 #2. satır 3. sutunda bulunan elemanı değiştirdik.\n",
    "m"
   ]
  },
  {
   "cell_type": "code",
   "execution_count": 81,
   "id": "19abecde-5e05-4d97-a10e-33f5def770f1",
   "metadata": {},
   "outputs": [
    {
     "data": {
      "text/plain": [
       "array([[8, 5, 3, 0, 1],\n",
       "       [7, 5, 1, 2, 5],\n",
       "       [0, 0, 1, 9, 7]])"
      ]
     },
     "execution_count": 81,
     "metadata": {},
     "output_type": "execute_result"
    }
   ],
   "source": [
    "m[2, 3]=9.99 #float tipte veri girdik ama numpy bunu int cevirir çünkü tek tip veri saklar.\n",
    "m"
   ]
  },
  {
   "cell_type": "code",
   "execution_count": 87,
   "id": "d283fd4e-3a0b-4ef4-8edf-0d5f6a81574a",
   "metadata": {},
   "outputs": [
    {
     "data": {
      "text/plain": [
       "array([8, 7, 0])"
      ]
     },
     "execution_count": 87,
     "metadata": {},
     "output_type": "execute_result"
    }
   ],
   "source": [
    "m[:,0] #bütün satırları sec 0. sutunu sec demek"
   ]
  },
  {
   "cell_type": "code",
   "execution_count": 89,
   "id": "2f394116-ddf1-4c18-a2dc-09487df92f93",
   "metadata": {},
   "outputs": [
    {
     "data": {
      "text/plain": [
       "array([7, 5, 1, 2, 5])"
      ]
     },
     "execution_count": 89,
     "metadata": {},
     "output_type": "execute_result"
    }
   ],
   "source": [
    "m[1,:]#1. satır tüm sutunlar"
   ]
  },
  {
   "cell_type": "code",
   "execution_count": 91,
   "id": "a8f20777-cff5-457e-be30-9fbb3bdec0a1",
   "metadata": {},
   "outputs": [
    {
     "data": {
      "text/plain": [
       "array([[8, 5, 3],\n",
       "       [7, 5, 1]])"
      ]
     },
     "execution_count": 91,
     "metadata": {},
     "output_type": "execute_result"
    }
   ],
   "source": [
    "m[0:2,0:3]"
   ]
  },
  {
   "cell_type": "markdown",
   "id": "b1252b2e-9d46-42f9-8456-00c752373c84",
   "metadata": {},
   "source": [
    "<span style=\"color: blue; font-weight: bold;\">Fancy İndex</span>"
   ]
  },
  {
   "cell_type": "code",
   "execution_count": 107,
   "id": "e7b290c4-92ab-4568-ba45-a99ca125521c",
   "metadata": {},
   "outputs": [
    {
     "data": {
      "text/plain": [
       "array([ 0,  3,  6,  9, 12, 15, 18, 21, 24, 27])"
      ]
     },
     "execution_count": 107,
     "metadata": {},
     "output_type": "execute_result"
    }
   ],
   "source": [
    "v = np.arange(0, 30, 3)# 0'dan 30'a kadar üçer üçer artırarak array oluştur\n",
    "v"
   ]
  },
  {
   "cell_type": "code",
   "execution_count": 109,
   "id": "625fef2e-7d95-4613-82d5-577cbd7ca7cb",
   "metadata": {},
   "outputs": [
    {
     "data": {
      "text/plain": [
       "array([3, 6, 9])"
      ]
     },
     "execution_count": 109,
     "metadata": {},
     "output_type": "execute_result"
    }
   ],
   "source": [
    "catch = [1, 2 ,3]\n",
    "v[catch] # tüm indexleri el ile yazmak yerine bir liste halinde yazdık"
   ]
  },
  {
   "cell_type": "markdown",
   "id": "84e7fd55-ef43-427b-9bd2-cac97014fa5c",
   "metadata": {},
   "source": [
    "<span style=\"color: blue; font-weight: bold;\">NumPy Koşullu İşlemler</span>"
   ]
  },
  {
   "cell_type": "code",
   "execution_count": 121,
   "id": "28b783ff-9b87-4e32-867c-a1d8940b2d42",
   "metadata": {},
   "outputs": [
    {
     "name": "stdout",
     "output_type": "stream",
     "text": [
      "[1, 2]\n",
      "[ True  True False False False]\n",
      "[1 2]\n",
      "[3 4 5]\n",
      "[1 2 4 5]\n"
     ]
    }
   ],
   "source": [
    "v = np.array([1,2,3,4,5]) \n",
    "#amacımız 3'ten küçük değerlere erişmek\n",
    "\n",
    "#Klasik döngü ile\n",
    "ab = []\n",
    "for i in v:\n",
    "    if i < 3:\n",
    "        ab.append(i)\n",
    "print(ab)\n",
    "\n",
    "#Numpy ile\n",
    "print(v < 3) # array'de gezdi ve küçük olanları true diğerlerini false verdi\n",
    "print(v[v < 3])# arrayin içerisine yazdığımızda koşulu sağlayan değerler geldi.\n",
    "print(v[v >= 3])\n",
    "print(v[v != 3])#arka planda fancy index kavramı çalışır."
   ]
  },
  {
   "cell_type": "markdown",
   "id": "6749ef8c-bbe4-4127-97f9-21d8a0ac8fd1",
   "metadata": {},
   "source": [
    "<span style=\"color: blue; font-weight: bold;\">Matematiksel İşlemler</span>\n",
    "\n",
    "Operatörler ile yapabileceğimiz gibi aşağıdaki metotları kullanarakda yapabiliriz.\n",
    "\n",
    "np.subtract(v, 1) = Her elemandan 1 çıkarır.\n",
    "\n",
    "np.add(v, 1)  = Her elemana 1 ekler.\n",
    "\n",
    "np.mean(v) = Array'in ortalamasını verir.\n",
    "\n",
    "np.sum(v) = Tüm değerleri toplar.\n",
    "\n",
    "np.min(v)  = En küçük elemanı verir.\n",
    "\n",
    "np.max(v) = En büyük elemanı verir.\n",
    "\n",
    "np.var(v) = Varyans değerini verir.\n"
   ]
  },
  {
   "cell_type": "code",
   "execution_count": 136,
   "id": "368f9891-488c-42ad-bfa8-194e57e93192",
   "metadata": {},
   "outputs": [
    {
     "name": "stdout",
     "output_type": "stream",
     "text": [
      "[0.2 0.4 0.6 0.8 1. ]\n",
      "[ 2.  4.  6.  8. 10.]\n",
      "[ 1  4  9 16 25]\n",
      "[-4 -3 -2 -1  0]\n",
      "2.0\n",
      "3.0\n"
     ]
    }
   ],
   "source": [
    "v = np.array([1,2,3,4,5]) \n",
    "\n",
    "print(v / 5)\n",
    "\n",
    "print(v*10 / 5)\n",
    "\n",
    "print(v ** 2)\n",
    "\n",
    "print(v -5)\n",
    "\n",
    "print(np.var(v))\n",
    "\n",
    "print(np.mean(v))"
   ]
  },
  {
   "cell_type": "markdown",
   "id": "15bf2d6f-e002-40d4-98fa-bd4b1a76f327",
   "metadata": {},
   "source": [
    "<span style=\"color: blue; font-weight: bold;\">NumPy İle İki Bilinmeyenli Denklem Çözümü</span>"
   ]
  },
  {
   "cell_type": "code",
   "execution_count": 146,
   "id": "2349de72-2def-4ef7-bb25-7df27c784fb6",
   "metadata": {},
   "outputs": [
    {
     "data": {
      "text/plain": [
       "array([1.85714286, 2.71428571])"
      ]
     },
     "execution_count": 146,
     "metadata": {},
     "output_type": "execute_result"
    }
   ],
   "source": [
    "#5*x0 + x1 = 12\n",
    "#x0 + 3*x1 = 10\n",
    "\n",
    "a = np.array([[5,1],[1,3]]) #değişkenlerin katsayıları\n",
    "b = np.array([12,10])# sonuçlar\n",
    "np.linalg.solve(a,b)"
   ]
  },
  {
   "cell_type": "code",
   "execution_count": null,
   "id": "39d0530d-8542-4220-ad25-f1ca0d12144b",
   "metadata": {},
   "outputs": [],
   "source": []
  }
 ],
 "metadata": {
  "kernelspec": {
   "display_name": "Python [conda env:base] *",
   "language": "python",
   "name": "conda-base-py"
  },
  "language_info": {
   "codemirror_mode": {
    "name": "ipython",
    "version": 3
   },
   "file_extension": ".py",
   "mimetype": "text/x-python",
   "name": "python",
   "nbconvert_exporter": "python",
   "pygments_lexer": "ipython3",
   "version": "3.12.7"
  }
 },
 "nbformat": 4,
 "nbformat_minor": 5
}
