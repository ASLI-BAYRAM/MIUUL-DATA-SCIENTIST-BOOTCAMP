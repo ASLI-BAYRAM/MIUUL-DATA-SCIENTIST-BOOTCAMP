{
 "cells": [
  {
   "cell_type": "markdown",
   "id": "220d86ec-fc0a-4a8a-83cb-5f6532f96034",
   "metadata": {},
   "source": [
    " <h1 style=\"text-align: center; color: RED\">PYTHON İLE VERİ ANALİZİ : NUMPY</h1> \n",
    "\n",
    " Numpy, numerical python'ının kısaltılmış halidir. Bilimsel hesaplamalar için kullanılır. Array'ler, çok boyutlu array'ler ve matrisler üzerinde yüksek performanslı çalışma imkanı sağlar. Numpy'ın listelerden farkı  verimli veri saklama ve vektörel operasyonlar yapılabilmesidir. Numpy içerisinde bir veri tutarken bun fix type yani sabitlenmiş tipte tutarak listelere kıyasla çok daha hızlı bir şekilde işlem yapma imknaı sağlar. Örneğin bir liste içerisinde 5 eleman var ve her elemanın tipi aynı liste bu her elemanın tip ve boyut bilgisini  ayrı ayrı tutar. Numpy ise sabit tipte veri tutar yani içerisinde ne kadar eleman olursa olsun bunların boyut ve tip bilgisini ayrı ayrı saklamaz. Bu da verimli veri saklama ve daha hızlı işlemler yapmayı sağlar. Yani numpy bize daha az çaba ile daha çok işlem yapma imkanı sağlar."
   ]
  },
  {
   "cell_type": "code",
   "execution_count": 4,
   "id": "6c2b42b6-8216-4fb5-bcc3-0cad0cf54584",
   "metadata": {},
   "outputs": [],
   "source": [
    "import numpy as np# import ile kütüphaneyi çağırdık  ve np diye genel bir kullanımla kısalttık"
   ]
  },
  {
   "cell_type": "markdown",
   "id": "b02914dd-53c6-4a11-a9e2-8efaf62776c0",
   "metadata": {},
   "source": [
    "<span style=\"color: blue; font-weight: bold;\">Neden Numpy?:</span>\n",
    "\n",
    "* Hız\n",
    "* Yüksek Seviyeden Vektörel İşlemler\n"
   ]
  },
  {
   "cell_type": "code",
   "execution_count": null,
   "id": "fb0aaa6f-08d6-40ca-a403-11635dc5244a",
   "metadata": {},
   "outputs": [],
   "source": []
  },
  {
   "cell_type": "code",
   "execution_count": null,
   "id": "6e4c3878-4c0b-4ffd-b070-3835c57baa53",
   "metadata": {},
   "outputs": [],
   "source": []
  }
 ],
 "metadata": {
  "kernelspec": {
   "display_name": "Python [conda env:base] *",
   "language": "python",
   "name": "conda-base-py"
  },
  "language_info": {
   "codemirror_mode": {
    "name": "ipython",
    "version": 3
   },
   "file_extension": ".py",
   "mimetype": "text/x-python",
   "name": "python",
   "nbconvert_exporter": "python",
   "pygments_lexer": "ipython3",
   "version": "3.12.7"
  }
 },
 "nbformat": 4,
 "nbformat_minor": 5
}
