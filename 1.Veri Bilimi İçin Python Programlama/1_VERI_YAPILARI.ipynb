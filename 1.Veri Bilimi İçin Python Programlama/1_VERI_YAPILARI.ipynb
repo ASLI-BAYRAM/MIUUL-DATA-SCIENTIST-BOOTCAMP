{
 "cells": [
  {
   "cell_type": "markdown",
   "id": "34c0f61a-84ef-47e3-ae67-f3adf1aa74c8",
   "metadata": {},
   "source": [
    " <h1 style=\"text-align: center; color: RED\">VERİ YAPILARI</h1> \n",
    "Bu bölümde python dilinde kullanılan veri yapıları ve onlar üzerinden yapılan işlemleri ele alacaz.Veri yapıları programlama sürecindeki en küçük yapı taşlarındandır. Kullanıcı olarak bizlerin bilgisayarlara anlatma istediği durumları temsil eden ve bizlere farklı tiplerde veri tutmayı sağlayan yapılardır. Bu bölümde ele alınacak konular:\n",
    "\n",
    "* Sayılar : int, float, complex\n",
    "* Karekter Dizileri(Stringler):str\n",
    "* Boolean(True, False): bool\n",
    "* Liste : list\n",
    "* Sözlük(Dictionary):dict\n",
    "* Demet(Tuple)\n",
    "* Set\n",
    "\n",
    "**<u>Not:</u>** Liste, tuple, set ve dictionary veri yapıları aynı zamanda Python Collections(Arrays) olarak geçmektedir."
   ]
  },
  {
   "cell_type": "markdown",
   "id": "f4391920-ffc6-4a51-ba9a-310cb80fd174",
   "metadata": {},
   "source": [
    "<span style=\"color: blue; font-weight: bold;\">Bilgi:</span> Eğer ekrana bir bilgi yazdırmak istiyorsak **print()** fonksiyonunu kullanırız."
   ]
  },
  {
   "cell_type": "code",
   "execution_count": 3,
   "id": "18ba753d-87a1-4516-ad81-9c0c9c22fff9",
   "metadata": {},
   "outputs": [
    {
     "name": "stdout",
     "output_type": "stream",
     "text": [
      "<class 'int'>\n",
      "<class 'float'>\n",
      "<class 'complex'>\n",
      "<class 'str'>\n",
      "<class 'bool'>\n"
     ]
    }
   ],
   "source": [
    "x = 46\n",
    "y = 10.3\n",
    "z = 2j + 1\n",
    "a = 'Hello ai era'\n",
    "b = True\n",
    "print(type(x))# Bu fonksiyon bize x değişkenin veri tipini söyler \n",
    "print(type(y))\n",
    "print(type(z))\n",
    "print(type(a))\n",
    "print(type(b))"
   ]
  },
  {
   "cell_type": "markdown",
   "id": "857920a0-45ff-460c-a9ce-dc54a8389d2d",
   "metadata": {},
   "source": [
    "<h3 style=\"text-align: center; color:red\">SAYILAR</h3>\n",
    "5 :Bir tamsayıdır ve tipi int'dır.\n",
    "\n",
    "10.2 : Bir ondalıklı sayıdır ve tipi float'tır.\n",
    "\n",
    "Bu sayılar üzerinde bazı işlemler yapabiliriz. Örneğin toplama, çıkarma vb.\n"
   ]
  },
  {
   "cell_type": "code",
   "execution_count": 44,
   "id": "b6518fc0-1006-4f93-ad82-a6ecb46a6383",
   "metadata": {},
   "outputs": [
    {
     "name": "stdout",
     "output_type": "stream",
     "text": [
      "15\n",
      "0.7142857142857143\n",
      "15.5\n",
      "17.5\n",
      "17.0\n",
      "25\n"
     ]
    }
   ],
   "source": [
    "a = 5\n",
    "b = 10.5\n",
    "print(a*3)#çarpma\n",
    "print(a / 7) #bölme\n",
    "print(a+b)\n",
    "print(a * b / 3)\n",
    "print(a * b // 3) #tam bölme yapar.\n",
    "print(a ** 2)# bu bir kare alma işlemdir."
   ]
  },
  {
   "cell_type": "markdown",
   "id": "3fb13ad7-9b58-4559-a904-1cc9700c87d8",
   "metadata": {},
   "source": [
    "<span style=\"color: blue; font-weight: bold;\">Bilgi:</span> Bir sayının veri tipini değiştirmek istediğimiz takdirde o değişkenin başına çevirmek istediğimiz veri tipini yazarız. Yani bir sayı float iken biz onu int yapmak istiyorsak **int(10.3)** dememiz yeterli olacaktır."
   ]
  },
  {
   "cell_type": "code",
   "execution_count": 56,
   "id": "fb4f562e-ed3b-4bf4-99f6-80d3cdfdecb0",
   "metadata": {},
   "outputs": [
    {
     "name": "stdout",
     "output_type": "stream",
     "text": [
      "10\n",
      "10.0\n",
      "<class 'float'>\n",
      "<class 'int'>\n"
     ]
    }
   ],
   "source": [
    "a = 10\n",
    "print(a)\n",
    "print(float(a))# a değişeknin veri tipini float olarak değiştirdik.\n",
    "b = 10.3\n",
    "print(type(b))\n",
    "print(type(int(b)))# b değişkeniin tipini int ile integera çevirdik \n",
    "                   # ardından type() ile tipini kontrol ett\n"
   ]
  },
  {
   "cell_type": "code",
   "execution_count": 60,
   "id": "7de4b5a1-d711-4d50-b237-0f19ad05cdbe",
   "metadata": {},
   "outputs": [
    {
     "name": "stdout",
     "output_type": "stream",
     "text": [
      "2\n"
     ]
    }
   ],
   "source": [
    "a = 5\n",
    "b = 3\n",
    "sonuc = (a + b) / 3 # bu işlemin sonucu 2.66667 yani floa bir değerdir.\n",
    "print(int(sonuc))# değeri int' çevirdik"
   ]
  },
  {
   "cell_type": "markdown",
   "id": "74269e21-399a-48f0-a35f-4888928255bc",
   "metadata": {},
   "source": [
    "<span style=\"color: blue; font-weight: bold;\">Bilgi:</span> Float bir sayıyı int çevirdiğimizde virgülden sonraki hane ne olursa olsun sayıyı bir üst sayıya yuvarlamaz.Yani 2.666 sayısını 3 olarak vermez."
   ]
  },
  {
   "cell_type": "markdown",
   "id": "51c1d7d6-541d-475f-867a-b2d278fbca4d",
   "metadata": {},
   "source": [
    "<h3 style=\"text-align: center; color:red\">KARAKTER DİZİLERİ(STRINGS)</h3>\n",
    "Metin, text ya da diğer ifadesiyle karakter formunda olan veriyi tutmak için kullanılan bir veri yapısıdır. Bir karakter dizisini \" \" veya ' ' ile belirtiriz.\n"
   ]
  },
  {
   "cell_type": "code",
   "execution_count": 115,
   "id": "6534a365-a3ea-428d-98f6-ae5fbe3f4d94",
   "metadata": {},
   "outputs": [
    {
     "name": "stdout",
     "output_type": "stream",
     "text": [
      "John\n",
      "<class 'str'>\n"
     ]
    }
   ],
   "source": [
    "name  = 'John'\n",
    "print(name)\n",
    "print(type(name))"
   ]
  },
  {
   "cell_type": "markdown",
   "id": "34147edc-c248-461e-a226-7559cdfbe25d",
   "metadata": {},
   "source": [
    "<span style=\"color: blue; font-weight: bold;\">Bilgi:</span> Eğer çok satırlı bir karekter dizisi oluşturmak istiyorsak **\"\"\" \"\"\"** şeklinde kullanabiliriz."
   ]
  },
  {
   "cell_type": "code",
   "execution_count": 88,
   "id": "e7d7732d-db00-4943-8e9a-2cd3fda2a2b3",
   "metadata": {},
   "outputs": [
    {
     "name": "stdout",
     "output_type": "stream",
     "text": [
      "Veri Yapıları\n",
      "sayılar: int, float\n",
      "string\n",
      "bool\n",
      "\n"
     ]
    }
   ],
   "source": [
    "uzun_yazi=\"\"\"Veri Yapıları\n",
    "sayılar: int, float\n",
    "string\n",
    "bool\n",
    "\"\"\"\n",
    "\n",
    "print(uzun_yazi)"
   ]
  },
  {
   "cell_type": "markdown",
   "id": "7add4d80-3ef1-42a1-b61a-1d3885d3bf7c",
   "metadata": {},
   "source": [
    "<span style=\"color: blue; font-weight: bold;\">Bilgi:</span> Bir stringdeki herhangi bir elemana erişmek istediğimizde **değişken_adi[indeks]** şeklinde o elemana erişebiliriz.\n",
    "Pythonda indeksleme 0' dan başlar. Yani **miuul[0]** dediğimiz takdirde m harfi **miuul[1]** dediğimizde i harfi ekrana yazdırılır."
   ]
  },
  {
   "cell_type": "code",
   "execution_count": 104,
   "id": "d2b92b3e-71f4-4c20-91cd-1b2d051da06f",
   "metadata": {},
   "outputs": [
    {
     "name": "stdout",
     "output_type": "stream",
     "text": [
      "i\n",
      "m\n"
     ]
    }
   ],
   "source": [
    "a  = 'miuul'\n",
    "print(a[1])# a değişkeninin 1. indexsinde bulunan eleman\n",
    "print(a[0])"
   ]
  },
  {
   "cell_type": "markdown",
   "id": "4b1f6597-7d01-45fa-8652-83fa9cf999cb",
   "metadata": {},
   "source": [
    "<span style=\"color: blue; font-weight: bold;\">Karakter Dizilerinde Slice İşlemleri</span>\n",
    "\n",
    "[ : ] yapısını kullanarak slice işlemleri yaabiliriz. Örneğin **değişken_adi[0 : 2]** 0. indexten başla 2'ye kadar yani 2. index dahil olmayacak şekilde karakter dizini böl."
   ]
  },
  {
   "cell_type": "code",
   "execution_count": 15,
   "id": "38980b7e-45d7-4c3f-82ae-71ac180eedf2",
   "metadata": {},
   "outputs": [
    {
     "name": "stdout",
     "output_type": "stream",
     "text": [
      "ver\n",
      "ri_\n",
      "veri_yapilar\n"
     ]
    }
   ],
   "source": [
    "x = 'veri_yapilari'\n",
    "print(x[0:3])# ilk index dahil ikinici index dahil değil.\n",
    "print(x[2:5])\n",
    "print(x[:-1])"
   ]
  },
  {
   "cell_type": "markdown",
   "id": "f9f4d91d-06d9-43f6-b7ad-e46baa0efbe2",
   "metadata": {},
   "source": [
    "<span style=\"color: blue; font-weight: bold;\">String İçerisinde Karakter Sorgulamak</span>\n",
    "\n",
    "\n",
    "'in' ve 'not in' ile bu sorguyu yapabiliriz. Bu yapı bir bool ifadesi döndürür."
   ]
  },
  {
   "cell_type": "code",
   "execution_count": 122,
   "id": "78b9dae8-eef1-4e05-b4dc-e19fe13a54e9",
   "metadata": {},
   "outputs": [
    {
     "data": {
      "text/plain": [
       "False"
      ]
     },
     "execution_count": 122,
     "metadata": {},
     "output_type": "execute_result"
    }
   ],
   "source": [
    "text = 'Veri bilimi öğrenmek çok zevkli.'\n",
    "'veri' in text # ver text te var mı diye sorar. \n",
    "              # Büyük küçük harf duyarlılığı oldugu için false döndür"
   ]
  },
  {
   "cell_type": "code",
   "execution_count": 126,
   "id": "7fae723f-dc43-4863-ba40-2846f8e4ece3",
   "metadata": {},
   "outputs": [
    {
     "data": {
      "text/plain": [
       "True"
      ]
     },
     "execution_count": 126,
     "metadata": {},
     "output_type": "execute_result"
    }
   ],
   "source": [
    "text = 'Veri bilimi öğrenmek çok zevkli.'\n",
    "'veri' not in text # veri text te var mı diye sorar. \n",
    "                   # text içinde veri olmadığı için true döndürdü."
   ]
  },
  {
   "cell_type": "markdown",
   "id": "5ad209c9-2996-40f5-a7ce-d0e825b0229b",
   "metadata": {},
   "source": [
    "<span style=\"color: blue; font-weight: bold;\">STRING METOTLARI</span>\n",
    "\n",
    "**<u>Metot Nedir?</u>**\n",
    "\n",
    "Çeşitli görevleri yerine getiren fonksiyon benzeri yapılardır. Diğer ifadesi ile class içerisinde tanımlanan fonksiyonlardır.\n",
    "\n",
    "Bir veri yapısının metotlarına **dir(string)** yöntemi ile ulaşabiliriz.Bu bize stringlerle kullanılabilecek metotları getirir. \n",
    "\n"
   ]
  },
  {
   "cell_type": "code",
   "execution_count": 137,
   "id": "02d4843c-e265-4c7b-ba3f-50282fd79158",
   "metadata": {},
   "outputs": [
    {
     "data": {
      "text/plain": [
       "['__add__',\n",
       " '__class__',\n",
       " '__contains__',\n",
       " '__delattr__',\n",
       " '__dir__',\n",
       " '__doc__',\n",
       " '__eq__',\n",
       " '__format__',\n",
       " '__ge__',\n",
       " '__getattribute__',\n",
       " '__getitem__',\n",
       " '__getnewargs__',\n",
       " '__getstate__',\n",
       " '__gt__',\n",
       " '__hash__',\n",
       " '__init__',\n",
       " '__init_subclass__',\n",
       " '__iter__',\n",
       " '__le__',\n",
       " '__len__',\n",
       " '__lt__',\n",
       " '__mod__',\n",
       " '__mul__',\n",
       " '__ne__',\n",
       " '__new__',\n",
       " '__reduce__',\n",
       " '__reduce_ex__',\n",
       " '__repr__',\n",
       " '__rmod__',\n",
       " '__rmul__',\n",
       " '__setattr__',\n",
       " '__sizeof__',\n",
       " '__str__',\n",
       " '__subclasshook__',\n",
       " 'capitalize',\n",
       " 'casefold',\n",
       " 'center',\n",
       " 'count',\n",
       " 'encode',\n",
       " 'endswith',\n",
       " 'expandtabs',\n",
       " 'find',\n",
       " 'format',\n",
       " 'format_map',\n",
       " 'index',\n",
       " 'isalnum',\n",
       " 'isalpha',\n",
       " 'isascii',\n",
       " 'isdecimal',\n",
       " 'isdigit',\n",
       " 'isidentifier',\n",
       " 'islower',\n",
       " 'isnumeric',\n",
       " 'isprintable',\n",
       " 'isspace',\n",
       " 'istitle',\n",
       " 'isupper',\n",
       " 'join',\n",
       " 'ljust',\n",
       " 'lower',\n",
       " 'lstrip',\n",
       " 'maketrans',\n",
       " 'partition',\n",
       " 'removeprefix',\n",
       " 'removesuffix',\n",
       " 'replace',\n",
       " 'rfind',\n",
       " 'rindex',\n",
       " 'rjust',\n",
       " 'rpartition',\n",
       " 'rsplit',\n",
       " 'rstrip',\n",
       " 'split',\n",
       " 'splitlines',\n",
       " 'startswith',\n",
       " 'strip',\n",
       " 'swapcase',\n",
       " 'title',\n",
       " 'translate',\n",
       " 'upper',\n",
       " 'zfill']"
      ]
     },
     "execution_count": 137,
     "metadata": {},
     "output_type": "execute_result"
    }
   ],
   "source": [
    "dir(str)#__ ile başlayıp __ ile bitenler hariç diğerleri stringlerle kullanabileceğimiz metotlardır"
   ]
  },
  {
   "cell_type": "markdown",
   "id": "9f91dee6-1d0f-4101-b7ff-7320b751d4ba",
   "metadata": {},
   "source": [
    "<span style=\"color: blue; font-weight: bold;\">Len Fonksiyonu</span>\n",
    "\n",
    "Pythondaki gömülü fonksiyonlardandır. Bu fonksiyon ile sorguladığımız değişkenin karakter uzunluğuna erişiriz.\n",
    "\n",
    "**!!!NOT**: Kullandığımız yapının fonksiyon mu metot mu olduğunu anlamanın yolu o yapının class içerisinde tanımlanıp tanımlanmadığına bağlıdır. Eğer class yapısı içerisinde tanımlandıyda metotdur, tanımlanmadıysa fonksiyondur. Aslında metot ve fonksiyonlar görev bakımından aynıdır. Farkları class yapısında olup olmamalarıdır."
   ]
  },
  {
   "cell_type": "code",
   "execution_count": 150,
   "id": "25840c80-d9e2-4bf2-9af2-e819a933c23c",
   "metadata": {},
   "outputs": [
    {
     "name": "stdout",
     "output_type": "stream",
     "text": [
      "4\n"
     ]
    },
    {
     "data": {
      "text/plain": [
       "11"
      ]
     },
     "execution_count": 150,
     "metadata": {},
     "output_type": "execute_result"
    }
   ],
   "source": [
    "name  = 'Jonh'\n",
    "print(len(name))\n",
    "len('vahitkeskin')"
   ]
  },
  {
   "cell_type": "markdown",
   "id": "cf6d6db4-3375-4a2a-8aba-6c3fe29ecac8",
   "metadata": {},
   "source": [
    "<span style=\"color: blue; font-weight: bold;\">UPPER() & LOWER() METOTLARI</span>\n",
    "\n",
    "Upper() ile karakter dizisinde tüm harfleri büyütürüz, lower() ile de tüm karakterleri küçük harfe dönüştürürüz"
   ]
  },
  {
   "cell_type": "code",
   "execution_count": 159,
   "id": "0159e692-3f4e-4248-acd9-7306338542cd",
   "metadata": {},
   "outputs": [
    {
     "name": "stdout",
     "output_type": "stream",
     "text": [
      "MIULL\n",
      "vahi̇t keski̇n\n"
     ]
    }
   ],
   "source": [
    "print('miull'.upper())\n",
    "print('VAHİT KESKİN'.lower())"
   ]
  },
  {
   "cell_type": "markdown",
   "id": "2c244579-5c3d-49ac-bf2b-78da45f23667",
   "metadata": {},
   "source": [
    "<span style=\"color: blue; font-weight: bold;\">REPLACE()</span>\n",
    "\n",
    "Karakter değiştirmek için kullanılır.İlk girdiğimiz arguman değiştirmek istediğimiz, ikici arguman ise ne ile değiştirmek istediğimiz."
   ]
  },
  {
   "cell_type": "code",
   "execution_count": 165,
   "id": "130cb45c-461b-4253-8520-b4630dc586d7",
   "metadata": {},
   "outputs": [
    {
     "data": {
      "text/plain": [
       "'Heppo AI Era'"
      ]
     },
     "execution_count": 165,
     "metadata": {},
     "output_type": "execute_result"
    }
   ],
   "source": [
    "hi = 'Hello AI Era'\n",
    "hi.replace('l', 'p')#l karakterini p il değiştirme\n"
   ]
  },
  {
   "cell_type": "markdown",
   "id": "918482f1-da70-4e08-aefd-e069fc2edb44",
   "metadata": {},
   "source": [
    "<span style=\"color: blue; font-weight: bold;\">SPLİT() METODU</span>\n",
    "\n",
    "Bölme işlemi için kullanılır. Örneğin bir cümleyi kelime kelime bölmek gibi. split() metodun ön tanımlı değeri boşluktur. Eğer bir argüman vermezsen boşluklara göre böler ve sonucu bir liste olarak döndürür."
   ]
  },
  {
   "cell_type": "code",
   "execution_count": 167,
   "id": "a808638a-e7a0-4f64-932d-5c3d75a835f6",
   "metadata": {},
   "outputs": [
    {
     "data": {
      "text/plain": [
       "['Hello', 'AI', 'Era']"
      ]
     },
     "execution_count": 167,
     "metadata": {},
     "output_type": "execute_result"
    }
   ],
   "source": [
    "'Hello AI Era'.split()"
   ]
  },
  {
   "cell_type": "code",
   "execution_count": 177,
   "id": "91dc0be5-bf7f-4f6e-9abe-54a1a9f5288c",
   "metadata": {},
   "outputs": [
    {
     "data": {
      "text/plain": [
       "['Hello AI', 'Era']"
      ]
     },
     "execution_count": 177,
     "metadata": {},
     "output_type": "execute_result"
    }
   ],
   "source": [
    "'Hello AI,Era'.split(',')"
   ]
  },
  {
   "cell_type": "markdown",
   "id": "da8cfeff-93f6-421c-8a24-0fd6db24648d",
   "metadata": {},
   "source": [
    "<span style=\"color: blue; font-weight: bold;\">STRİP() METODU</span>\n",
    "\n",
    "Kırpma işlemi yapar.Ön tanımlı değeri boşluktur. Baştaki ve sondaki boşlukları kırpar."
   ]
  },
  {
   "cell_type": "code",
   "execution_count": 181,
   "id": "ec91c4dc-0d0a-4f39-988f-ebf5db2c1cbf",
   "metadata": {},
   "outputs": [
    {
     "data": {
      "text/plain": [
       "'ofofo'"
      ]
     },
     "execution_count": 181,
     "metadata": {},
     "output_type": "execute_result"
    }
   ],
   "source": [
    "' ofofo '.strip()"
   ]
  },
  {
   "cell_type": "code",
   "execution_count": 183,
   "id": "c519e651-21af-4301-a7a8-3f230629d41c",
   "metadata": {},
   "outputs": [
    {
     "data": {
      "text/plain": [
       "'fof'"
      ]
     },
     "execution_count": 183,
     "metadata": {},
     "output_type": "execute_result"
    }
   ],
   "source": [
    "'ofofo'.strip('o')#baştaki ve sondaki o ları kırptı"
   ]
  },
  {
   "cell_type": "markdown",
   "id": "9af5eda5-0992-4737-a515-19606d55270b",
   "metadata": {},
   "source": [
    "<span style=\"color: blue; font-weight: bold;\">CAPİTALİZE() METODU</span>\n",
    "\n",
    "İlk harfi büyütür."
   ]
  },
  {
   "cell_type": "code",
   "execution_count": 192,
   "id": "7ab0f536-e914-46fb-9600-e17b4256b301",
   "metadata": {},
   "outputs": [
    {
     "data": {
      "text/plain": [
       "'Vahit keskin'"
      ]
     },
     "execution_count": 192,
     "metadata": {},
     "output_type": "execute_result"
    }
   ],
   "source": [
    "'vahit keskin'.capitalize()"
   ]
  },
  {
   "cell_type": "markdown",
   "id": "fe9efbb6-42b8-4768-a33c-3c6773814f54",
   "metadata": {},
   "source": [
    "<span style=\"color: blue; font-weight: bold;\">STARTSWİTH() METODU</span>\n",
    "\n",
    "Python’da bir string’in belirli bir ifadeyle başlayıp başlamadığını kontrol etmek için kullanılır.Büyük küçük harfe duyarlıdır.\n"
   ]
  },
  {
   "cell_type": "code",
   "execution_count": 200,
   "id": "bfdda146-54f0-4b0e-80ed-e6d865a53aa2",
   "metadata": {},
   "outputs": [
    {
     "data": {
      "text/plain": [
       "True"
      ]
     },
     "execution_count": 200,
     "metadata": {},
     "output_type": "execute_result"
    }
   ],
   "source": [
    "'foo'.startswith('f')"
   ]
  },
  {
   "cell_type": "markdown",
   "id": "21c81b7b-853a-4fb1-b98f-10a4c48519c4",
   "metadata": {},
   "source": [
    "<h3 style=\"text-align: center; color:red\">LİSTE</h3>\n",
    "\n",
    "Python dilinde en yaygun kullanılan veri yapılarından birisidir.list yada [ ] ile ifade edilir. Listeler,\n",
    "\n",
    "* Değiştirilebilirdir\n",
    "* Sıralıdır(index işlemleri yapılabilir)\n",
    "* Kapsayıcıdır:İçerisinde birden fazla veri yapısını tutabilir.\n"
   ]
  },
  {
   "cell_type": "code",
   "execution_count": 209,
   "id": "e4ba71a5-468f-4b03-b8d5-f603b75a0f42",
   "metadata": {},
   "outputs": [
    {
     "data": {
      "text/plain": [
       "list"
      ]
     },
     "execution_count": 209,
     "metadata": {},
     "output_type": "execute_result"
    }
   ],
   "source": [
    "notes  = [1, 2, 3, 4]\n",
    "type(notes)"
   ]
  },
  {
   "cell_type": "code",
   "execution_count": 211,
   "id": "decb518c-2bcd-43c0-a4d1-023481ab6622",
   "metadata": {},
   "outputs": [],
   "source": [
    "not_name = ['a', 'b', 3, 4, True, [1,2,3,4]]#burada listenin kapsayıcılığını görüyoruz\n",
    "                                                  # içerisinde int, str, bool ve liste veri tipleri var."
   ]
  },
  {
   "cell_type": "code",
   "execution_count": 219,
   "id": "73af27ad-a25b-4143-8d26-c3c6c969f800",
   "metadata": {},
   "outputs": [
    {
     "name": "stdout",
     "output_type": "stream",
     "text": [
      "a\n",
      "True\n",
      "[1, 2, 3, 4]\n"
     ]
    }
   ],
   "source": [
    "not_name = ['a', 'b', 3, 4, True, [1,2,3,4]]\n",
    "print(not_name[0])\n",
    "print(not_name[4])\n",
    "print(not_name[5])\n",
    "print(not_name[5][1])#liste içerisinde bulunan liste elemanlarına erişme"
   ]
  },
  {
   "cell_type": "code",
   "execution_count": 223,
   "id": "04f02127-2710-43c6-9081-2bfb9992767c",
   "metadata": {},
   "outputs": [
    {
     "name": "stdout",
     "output_type": "stream",
     "text": [
      "a\n",
      "['c', 'b', 3, 4, True, [1, 2, 3, 4]]\n"
     ]
    }
   ],
   "source": [
    "not_name = ['a', 'b', 3, 4, True, [1,2,3,4]]\n",
    "print(not_name[0])\n",
    "not_name[0] = 'c'#burada değiştirilebilir özelliğini gözlemliyoruz.\n",
    "print(not_name)"
   ]
  },
  {
   "cell_type": "code",
   "execution_count": 225,
   "id": "4156f352-8b6a-4211-957b-01c89e11e7e3",
   "metadata": {},
   "outputs": [
    {
     "name": "stdout",
     "output_type": "stream",
     "text": [
      "['c', 'b', 3, 4]\n"
     ]
    }
   ],
   "source": [
    "print(not_name[0:4])#stringlerdeki gibi slice işlemi yapılabilir."
   ]
  },
  {
   "cell_type": "markdown",
   "id": "740ae212-6bdb-4072-89b3-f1afa1727506",
   "metadata": {},
   "source": [
    "<span style=\"color: blue; font-weight: bold;\">LİSTE METOTLARI</span>\n",
    "\n",
    "**<u>Metot Nedir?</u>**\n",
    "\n",
    "Çeşitli görevleri yerine getiren fonksiyon benzeri yapılardır. Diğer ifadesi ile class içerisinde tanımlanan fonksiyonlardır.\n",
    "\n",
    "Bir veri yapısının metotlarına **dir(list)** yöntemi ile ulaşabiliriz.Bu bize listeler ile kullanılabilecek metotları getirir. "
   ]
  },
  {
   "cell_type": "code",
   "execution_count": 228,
   "id": "80f33c09-dc5b-4389-bdde-70c4793001c1",
   "metadata": {},
   "outputs": [
    {
     "data": {
      "text/plain": [
       "['__add__',\n",
       " '__class__',\n",
       " '__class_getitem__',\n",
       " '__contains__',\n",
       " '__delattr__',\n",
       " '__delitem__',\n",
       " '__dir__',\n",
       " '__doc__',\n",
       " '__eq__',\n",
       " '__format__',\n",
       " '__ge__',\n",
       " '__getattribute__',\n",
       " '__getitem__',\n",
       " '__getstate__',\n",
       " '__gt__',\n",
       " '__hash__',\n",
       " '__iadd__',\n",
       " '__imul__',\n",
       " '__init__',\n",
       " '__init_subclass__',\n",
       " '__iter__',\n",
       " '__le__',\n",
       " '__len__',\n",
       " '__lt__',\n",
       " '__mul__',\n",
       " '__ne__',\n",
       " '__new__',\n",
       " '__reduce__',\n",
       " '__reduce_ex__',\n",
       " '__repr__',\n",
       " '__reversed__',\n",
       " '__rmul__',\n",
       " '__setattr__',\n",
       " '__setitem__',\n",
       " '__sizeof__',\n",
       " '__str__',\n",
       " '__subclasshook__',\n",
       " 'append',\n",
       " 'clear',\n",
       " 'copy',\n",
       " 'count',\n",
       " 'extend',\n",
       " 'index',\n",
       " 'insert',\n",
       " 'pop',\n",
       " 'remove',\n",
       " 'reverse',\n",
       " 'sort']"
      ]
     },
     "execution_count": 228,
     "metadata": {},
     "output_type": "execute_result"
    }
   ],
   "source": [
    "dir(list)"
   ]
  },
  {
   "cell_type": "markdown",
   "id": "ba8d9b19-ef3d-497f-891a-dd3cd203cee7",
   "metadata": {},
   "source": [
    "<span style=\"color: blue; font-weight: bold;\">Len Fonksiyonu</span>\n",
    "\n",
    "Pythondaki gömülü fonksiyonlardandır. Bu fonksiyon ile sorguladığımız değişkenin karakter uzunluğuna erişiriz."
   ]
  },
  {
   "cell_type": "code",
   "execution_count": 235,
   "id": "44c46457-ccfa-48dc-9451-8a7444bd7fbe",
   "metadata": {},
   "outputs": [
    {
     "data": {
      "text/plain": [
       "6"
      ]
     },
     "execution_count": 235,
     "metadata": {},
     "output_type": "execute_result"
    }
   ],
   "source": [
    "not_name = ['a', 'b', 3, 4, True, [1,2,3,4]]\n",
    "len(not_name)"
   ]
  },
  {
   "cell_type": "markdown",
   "id": "218df481-73c9-461a-b00a-aad93cb07db8",
   "metadata": {},
   "source": [
    "<span style=\"color: blue; font-weight: bold;\">APPEND() METODU</span>\n",
    "\n",
    "Listelere eleman eklemek için kullanılır.Liste sonuna eleman ekler."
   ]
  },
  {
   "cell_type": "code",
   "execution_count": 243,
   "id": "244b8dbb-282f-4132-a942-efa3a57d3f5c",
   "metadata": {},
   "outputs": [
    {
     "name": "stdout",
     "output_type": "stream",
     "text": [
      "[99, 2, 3, 4, 100]\n"
     ]
    }
   ],
   "source": [
    "notes = [99, 2, 3, 4]\n",
    "notes.append(100)\n",
    "print(notes)"
   ]
  },
  {
   "cell_type": "markdown",
   "id": "e4a43d70-397e-4f31-a2cf-822b496a1377",
   "metadata": {},
   "source": [
    "<span style=\"color: blue; font-weight: bold;\">POP() METODU</span>\n",
    "\n",
    "İndexe göre eleman silmek için kullanılır."
   ]
  },
  {
   "cell_type": "code",
   "execution_count": 259,
   "id": "76ed0306-6dfa-4d17-a69e-fbfc7baaa29b",
   "metadata": {},
   "outputs": [
    {
     "name": "stdout",
     "output_type": "stream",
     "text": [
      "[2, 3, 4]\n"
     ]
    }
   ],
   "source": [
    "notes = [99, 2, 3, 4]\n",
    "notes.pop(0)#silmek istediğimiz seyin indexini yazarız.\n",
    "print(notes)"
   ]
  },
  {
   "cell_type": "markdown",
   "id": "81a3acda-2671-4e57-9cb8-046648fb6dd6",
   "metadata": {},
   "source": [
    "<span style=\"color: blue; font-weight: bold;\">INSERT() METODU</span>\n",
    "\n",
    "İstediğimiz indexe eleman ekleme işlemi yapar.İlk argüman eklemek istediğimiz indexin numarası ikinci argüman eklemek istediğimiz değerdir."
   ]
  },
  {
   "cell_type": "code",
   "execution_count": 261,
   "id": "32b1c656-2725-46f2-8ed2-f16ee2b43385",
   "metadata": {},
   "outputs": [
    {
     "name": "stdout",
     "output_type": "stream",
     "text": [
      "[2, 'a', 3, 4]\n"
     ]
    }
   ],
   "source": [
    "notes.insert(1, 'a')\n",
    "print(notes)"
   ]
  },
  {
   "cell_type": "markdown",
   "id": "63939f5a-4be1-461e-b23c-035050dfef12",
   "metadata": {},
   "source": [
    "<h3 style=\"text-align: center; color:red\">SÖZLÜK(DICTIONARY)</h3>\n",
    "\n",
    "Sözlükler key, value çiftleri ile veri tutma imkanı sağlayan veri yapılarıdır.Sözlük yapıları\n",
    "{ key:value} şeklindedir.\n",
    "\n",
    "Sözlükler,\n",
    "\n",
    "* Değiştirilebilirdir\n",
    "* Sırasızdır\n",
    "* Kapsayıcıdır:İçerisinde birden fazla veri yapısını tutabilir.\n"
   ]
  },
  {
   "cell_type": "code",
   "execution_count": 269,
   "id": "b3a6939e-e036-4ac5-a21e-65427a7230d5",
   "metadata": {},
   "outputs": [],
   "source": [
    "dictionary = {'REG': 'Regression',\n",
    "             'LOG':'Logistic Regression',\n",
    "             'CART':'Classification and Reg'}\n",
    "dict2  = {'REG': ['RMSE', 10],\n",
    "          'LOG':['MSE',20],\n",
    "          'CART':['SSE',30]}\n",
    "\n",
    "dict3  = {'REG': 10,\n",
    "          'LOG':20,\n",
    "          'CART':30}# sözlükler farklı veri tipleri kullanılarak oluşturulabilirler"
   ]
  },
  {
   "cell_type": "code",
   "execution_count": 271,
   "id": "e658d7cd-b405-4397-8065-1fd1f5ecd891",
   "metadata": {},
   "outputs": [
    {
     "data": {
      "text/plain": [
       "['RMSE', 10]"
      ]
     },
     "execution_count": 271,
     "metadata": {},
     "output_type": "execute_result"
    }
   ],
   "source": [
    "dict2['REG']# bu ifade bize REG key'inin karşılığı olan ['RMSE', 10] value değerini verir."
   ]
  },
  {
   "cell_type": "markdown",
   "id": "1ba0f01e-18d2-4be7-afdc-5c2f3dd2da83",
   "metadata": {},
   "source": [
    "<span style=\"color: blue; font-weight: bold;\">Key Sorgulama</span>"
   ]
  },
  {
   "cell_type": "code",
   "execution_count": 275,
   "id": "0bd2a9d2-7d11-4a61-9b5c-4456f40fa1e2",
   "metadata": {},
   "outputs": [
    {
     "data": {
      "text/plain": [
       "True"
      ]
     },
     "execution_count": 275,
     "metadata": {},
     "output_type": "execute_result"
    }
   ],
   "source": [
    "'REG' in dict3"
   ]
  },
  {
   "cell_type": "markdown",
   "id": "9d75ff59-c8b3-4dc9-aa21-2ac82dacebc0",
   "metadata": {},
   "source": [
    "<span style=\"color: blue; font-weight: bold;\">Key'e Göre Value'ya Erişmek </span>"
   ]
  },
  {
   "cell_type": "code",
   "execution_count": 283,
   "id": "59dfbf7f-b514-4a45-b115-6316bddec862",
   "metadata": {},
   "outputs": [
    {
     "data": {
      "text/plain": [
       "'Regression'"
      ]
     },
     "execution_count": 283,
     "metadata": {},
     "output_type": "execute_result"
    }
   ],
   "source": [
    "#1. YOL\n",
    "dict3['LOG']\n",
    "\n",
    "#2.YOL\n",
    "dictionary.get('REG')"
   ]
  },
  {
   "cell_type": "markdown",
   "id": "211a72df-4ce1-4363-bf4c-31485c02f23d",
   "metadata": {},
   "source": [
    "<span style=\"color: blue; font-weight: bold;\">Value Değiştirmek </span>"
   ]
  },
  {
   "cell_type": "code",
   "execution_count": 286,
   "id": "3c5fd8a8-9384-461f-af40-bc3c3cceeea6",
   "metadata": {},
   "outputs": [
    {
     "name": "stdout",
     "output_type": "stream",
     "text": [
      "{'REG': ['RMSE', 10], 'LOG': ['YSA', 10], 'CART': ['SSE', 30]}\n"
     ]
    }
   ],
   "source": [
    "dict2['LOG']  = ['YSA',10]# log key'inin value'sunu değiştirdik\n",
    "print(dict2)"
   ]
  },
  {
   "cell_type": "markdown",
   "id": "3e022278-0616-4c5f-9c60-02db02b3b701",
   "metadata": {},
   "source": [
    "<span style=\"color: blue; font-weight: bold;\">Key'lere Erişmek </span>"
   ]
  },
  {
   "cell_type": "code",
   "execution_count": 288,
   "id": "9f23cfee-14b8-45eb-89ae-25ba35cf5ce0",
   "metadata": {},
   "outputs": [
    {
     "data": {
      "text/plain": [
       "dict_keys(['REG', 'LOG', 'CART'])"
      ]
     },
     "execution_count": 288,
     "metadata": {},
     "output_type": "execute_result"
    }
   ],
   "source": [
    "dict2.keys()"
   ]
  },
  {
   "cell_type": "markdown",
   "id": "e8cd31bb-bf26-49ca-8f6b-c778cb75ae26",
   "metadata": {},
   "source": [
    "<span style=\"color: blue; font-weight: bold;\"> Value'lara Erişmek </span>"
   ]
  },
  {
   "cell_type": "code",
   "execution_count": 296,
   "id": "3954aa58-d5d8-4fe4-ba8a-412ea7fd7625",
   "metadata": {},
   "outputs": [
    {
     "data": {
      "text/plain": [
       "dict_values([['RMSE', 10], ['YSA', 10], ['SSE', 30]])"
      ]
     },
     "execution_count": 296,
     "metadata": {},
     "output_type": "execute_result"
    }
   ],
   "source": [
    "dict2.values()"
   ]
  },
  {
   "cell_type": "markdown",
   "id": "7200c7c4-b04b-4d8c-aa43-0d862006e47d",
   "metadata": {},
   "source": [
    "<span style=\"color: blue; font-weight: bold;\"> Tüm Çiftlere Erişmek </span>"
   ]
  },
  {
   "cell_type": "code",
   "execution_count": 299,
   "id": "e64d41fb-1a6b-4b81-b919-e852799023f3",
   "metadata": {},
   "outputs": [
    {
     "data": {
      "text/plain": [
       "dict_items([('REG', 10), ('LOG', 20), ('CART', 30)])"
      ]
     },
     "execution_count": 299,
     "metadata": {},
     "output_type": "execute_result"
    }
   ],
   "source": [
    "dict3.items()# cıktıyı bir liste içerisinde key value çiftlerini tuple içerisinde verdi."
   ]
  },
  {
   "cell_type": "markdown",
   "id": "246b0b79-11aa-433f-8c2d-65b391537b3e",
   "metadata": {},
   "source": [
    "<span style=\"color: blue; font-weight: bold;\"> Key-Value Değerini Güncellemek </span>\n",
    "\n",
    "update() metodu ile güncellemek istediğimiz key value çiftlerini güncelleyebiliriz.Ayrıca yeni bir key-value çifti de ekleyebiliriz."
   ]
  },
  {
   "cell_type": "code",
   "execution_count": 308,
   "id": "44da604f-98f4-41ba-91df-e6ae5de6a37c",
   "metadata": {},
   "outputs": [
    {
     "name": "stdout",
     "output_type": "stream",
     "text": [
      "{'REG': 40, 'LOG': 20, 'CART': 30, 'SVC': 60}\n"
     ]
    }
   ],
   "source": [
    "dict3.update({'REG':40,'SVC':60 })\n",
    "print(dict3)"
   ]
  },
  {
   "cell_type": "markdown",
   "id": "98a94d02-9482-46b1-936f-754b7db3a298",
   "metadata": {},
   "source": [
    "<h3 style=\"text-align: center; color:red\">TUPLE(DEMET)</h3>\n",
    "\n",
    "Listelerin değişime kapalı kardeşidir. En önemli özelliği değiştirilemez olmasıdır. ( ) şeklinde ifade edilir.\n",
    "\n",
    "Tupler,\n",
    "\n",
    "* Değiştirilemez\n",
    "* Sıralıdır: Elemanlarına erişebilir demektir.\n",
    "* Kapsayıcıdır:İçerisinde birden fazla veri yapısını tutabilir."
   ]
  },
  {
   "cell_type": "code",
   "execution_count": 7,
   "id": "d09260c2-45eb-407b-b1f2-40007153ce12",
   "metadata": {},
   "outputs": [
    {
     "data": {
      "text/plain": [
       "tuple"
      ]
     },
     "execution_count": 7,
     "metadata": {},
     "output_type": "execute_result"
    }
   ],
   "source": [
    "t = ('john', 'mark', 1, 2)\n",
    "type(t)"
   ]
  },
  {
   "cell_type": "code",
   "execution_count": 320,
   "id": "33be7c92-ecfb-41d3-a019-4e5d338e0b16",
   "metadata": {},
   "outputs": [
    {
     "name": "stdout",
     "output_type": "stream",
     "text": [
      "john\n",
      "('john', 'mark')\n"
     ]
    }
   ],
   "source": [
    "print(t[0])\n",
    "print(t[0:2])# bu işlemler sıralı olduğunu gösterir."
   ]
  },
  {
   "cell_type": "code",
   "execution_count": 322,
   "id": "1080e86c-80d2-41d7-93ff-486f10979def",
   "metadata": {},
   "outputs": [
    {
     "ename": "TypeError",
     "evalue": "'tuple' object does not support item assignment",
     "output_type": "error",
     "traceback": [
      "\u001b[1;31m---------------------------------------------------------------------------\u001b[0m",
      "\u001b[1;31mTypeError\u001b[0m                                 Traceback (most recent call last)",
      "Cell \u001b[1;32mIn[322], line 1\u001b[0m\n\u001b[1;32m----> 1\u001b[0m t[\u001b[38;5;241m0\u001b[39m] \u001b[38;5;241m=\u001b[39m \u001b[38;5;124m'\u001b[39m\u001b[38;5;124mvahit\u001b[39m\u001b[38;5;124m'\u001b[39m\n",
      "\u001b[1;31mTypeError\u001b[0m: 'tuple' object does not support item assignment"
     ]
    }
   ],
   "source": [
    "t[0] = 'vahit' # bu işlemi yapmadı çünkü tuple'lar değiştirilemez"
   ]
  },
  {
   "cell_type": "code",
   "execution_count": 324,
   "id": "3b0a3dfe-33aa-4492-a023-b919c497cc2c",
   "metadata": {},
   "outputs": [],
   "source": [
    "#tuple içerisindeki değeri değiştirmek istersek listeye çevirir öyle değiştiririz.\n",
    "t=list(t)#liste tipine çevirdik\n",
    "t[0]=99 #0 indexteki elemanı değiştirdik.\n",
    "t = tuple(t)#tekrar tuple yapısına çevirdik"
   ]
  },
  {
   "cell_type": "markdown",
   "id": "8b5ad686-099e-451e-8d65-ef588607a4dc",
   "metadata": {},
   "source": [
    "<h3 style=\"text-align: center; color:red\">SET</h3>\n",
    "\n",
    "Bu yapı kümeler gibi düşünülebilir.Hız gerektiren ve küme işlemleri gibi işlemler gerektiğinde bu yapı daha çok kullanılır. set() fonksiyonu ya da süslü parantezler ile oluşturulur.\n",
    "\n",
    "Sözlükler,\n",
    "\n",
    "* Değiştirilebilirdir\n",
    "* Sırasız + Eşsizdir\n",
    "* Kapsayıcıdır:İçerisinde birden fazla veri yapısını tutabilir."
   ]
  },
  {
   "cell_type": "code",
   "execution_count": 331,
   "id": "08b436c5-d87e-4945-abeb-4474c0b106d9",
   "metadata": {},
   "outputs": [],
   "source": [
    "set1  = set([1,3,5])\n",
    "set2 = set([1,2,3])"
   ]
  },
  {
   "cell_type": "markdown",
   "id": "f7451556-3ae1-4680-9b19-2ae791644b8c",
   "metadata": {},
   "source": [
    "<span style=\"color: blue; font-weight: bold;\"> DIFFERENCE METODU </span>\n",
    "\n",
    "İki kümenin farkını verir. Yani set1 de olup set2 de olamayan elemanlar."
   ]
  },
  {
   "cell_type": "code",
   "execution_count": 334,
   "id": "5a927c1c-f019-4813-acda-4cd2e3988cae",
   "metadata": {},
   "outputs": [
    {
     "data": {
      "text/plain": [
       "{5}"
      ]
     },
     "execution_count": 334,
     "metadata": {},
     "output_type": "execute_result"
    }
   ],
   "source": [
    "set1.difference(set2) "
   ]
  },
  {
   "cell_type": "markdown",
   "id": "b7be1ac0-7697-4171-8614-08a13d83dcbb",
   "metadata": {},
   "source": [
    "<span style=\"color: blue; font-weight: bold;\">SYMMETRIC_DIFFERENCE </span>\n",
    "\n",
    "İki kümede de birbirine göre olmayan değerleri döndürür. set1 - set2 şeklinde de ifade edilebilir."
   ]
  },
  {
   "cell_type": "code",
   "execution_count": 339,
   "id": "6f557a85-273d-47a9-96bf-1cb63b5e32eb",
   "metadata": {},
   "outputs": [
    {
     "data": {
      "text/plain": [
       "{2, 5}"
      ]
     },
     "execution_count": 339,
     "metadata": {},
     "output_type": "execute_result"
    }
   ],
   "source": [
    "set2.symmetric_difference(set1#2 değeri set1 de yok 5 değeride set2 de yok"
   ]
  },
  {
   "cell_type": "markdown",
   "id": "b8037155-5192-4e31-b26f-cafcc265a0da",
   "metadata": {},
   "source": [
    "<span style=\"color: blue; font-weight: bold;\"> INTERSECTION METODU </span>\n",
    "\n",
    "İki kümenin kesişimindeki değerleri verir. bunu set1 & set2 şeklinde de ifade edebiliriz."
   ]
  },
  {
   "cell_type": "code",
   "execution_count": 344,
   "id": "95e51f09-3e49-4b88-9ea7-0b742e403785",
   "metadata": {},
   "outputs": [
    {
     "data": {
      "text/plain": [
       "{1, 3}"
      ]
     },
     "execution_count": 344,
     "metadata": {},
     "output_type": "execute_result"
    }
   ],
   "source": [
    "set1  = set([1,3,5])\n",
    "set2 = set([1,2,3])\n",
    "set1.intersection(set2)"
   ]
  },
  {
   "cell_type": "markdown",
   "id": "6f0ee729-285f-4e8b-bc95-408d1371b021",
   "metadata": {},
   "source": [
    "<span style=\"color: blue; font-weight: bold;\"> UNION METODU </span>\n",
    "\n",
    "İki kümenin birleşimini ifade eder."
   ]
  },
  {
   "cell_type": "code",
   "execution_count": 350,
   "id": "425a8492-874d-4482-8866-2aa17df6d5ae",
   "metadata": {},
   "outputs": [
    {
     "data": {
      "text/plain": [
       "{1, 2, 3, 5}"
      ]
     },
     "execution_count": 350,
     "metadata": {},
     "output_type": "execute_result"
    }
   ],
   "source": [
    "set2.union(set1) "
   ]
  },
  {
   "cell_type": "markdown",
   "id": "d6bbd22c-12a3-4dbb-bfc0-15e9281352d6",
   "metadata": {},
   "source": [
    "<span style=\"color: blue; font-weight: bold;\"> ISDISJOINT METODU </span>\n",
    "\n",
    "İki kümenin kesişimi boş mu değil mi sorusunu sorar. Boolean sonuc döndürür. \n",
    "\n",
    "Kullanılan metotların başında is ifadesi varsa bu genelde  True ya da False şeklinde bir durumu beklediğini ifade eder."
   ]
  },
  {
   "cell_type": "code",
   "execution_count": 362,
   "id": "46bf8672-8400-47d4-8463-922ad3d95d52",
   "metadata": {},
   "outputs": [
    {
     "data": {
      "text/plain": [
       "False"
      ]
     },
     "execution_count": 362,
     "metadata": {},
     "output_type": "execute_result"
    }
   ],
   "source": [
    "set1 = set([7, 8, 9])\n",
    "set2 = set([5,6,7, 8, 9,10])\n",
    "set1.isdisjoint(set2)#iki kümenin kesişimi boş mu?"
   ]
  },
  {
   "cell_type": "markdown",
   "id": "e6dd6bf8-8a92-4b7b-8309-667bc8fa7b7f",
   "metadata": {},
   "source": [
    "<span style=\"color: blue; font-weight: bold;\"> ISSUBSET METODU </span>\n",
    "\n",
    "Bir küme diğer kümenin alt kümesi mi? sorunu sorar ve bize boolean bir çıktı verir."
   ]
  },
  {
   "cell_type": "code",
   "execution_count": 364,
   "id": "7edbd1bd-d9ed-4bd2-866e-32fde53f37e8",
   "metadata": {},
   "outputs": [
    {
     "data": {
      "text/plain": [
       "True"
      ]
     },
     "execution_count": 364,
     "metadata": {},
     "output_type": "execute_result"
    }
   ],
   "source": [
    "set1.issubset(set2)"
   ]
  },
  {
   "cell_type": "code",
   "execution_count": 366,
   "id": "8d74aab4-abb7-416a-9993-219c291a2b19",
   "metadata": {},
   "outputs": [
    {
     "data": {
      "text/plain": [
       "False"
      ]
     },
     "execution_count": 366,
     "metadata": {},
     "output_type": "execute_result"
    }
   ],
   "source": [
    "set2.issubset(set1)"
   ]
  },
  {
   "cell_type": "markdown",
   "id": "935b8175-ae1d-46ad-b170-217feffc540b",
   "metadata": {},
   "source": [
    "<span style=\"color: blue; font-weight: bold;\"> ISSUPERSET METODU </span>\n",
    "\n",
    "Bir küme diğer kümeyi kapsıyor mu soruna cevap verir."
   ]
  },
  {
   "cell_type": "code",
   "execution_count": 371,
   "id": "d7b93c01-288d-4525-9215-70ce0f12d7c9",
   "metadata": {},
   "outputs": [
    {
     "data": {
      "text/plain": [
       "False"
      ]
     },
     "execution_count": 371,
     "metadata": {},
     "output_type": "execute_result"
    }
   ],
   "source": [
    "set1.issuperset(set2)"
   ]
  },
  {
   "cell_type": "code",
   "execution_count": 373,
   "id": "8770872a-c732-482c-8e21-cb82bd428476",
   "metadata": {},
   "outputs": [
    {
     "data": {
      "text/plain": [
       "True"
      ]
     },
     "execution_count": 373,
     "metadata": {},
     "output_type": "execute_result"
    }
   ],
   "source": [
    "set2.issuperset(set1)"
   ]
  },
  {
   "cell_type": "code",
   "execution_count": null,
   "id": "b8e28431-5959-4bfd-acad-1fc53d812f7b",
   "metadata": {},
   "outputs": [],
   "source": []
  }
 ],
 "metadata": {
  "kernelspec": {
   "display_name": "Python [conda env:base] *",
   "language": "python",
   "name": "conda-base-py"
  },
  "language_info": {
   "codemirror_mode": {
    "name": "ipython",
    "version": 3
   },
   "file_extension": ".py",
   "mimetype": "text/x-python",
   "name": "python",
   "nbconvert_exporter": "python",
   "pygments_lexer": "ipython3",
   "version": "3.12.7"
  }
 },
 "nbformat": 4,
 "nbformat_minor": 5
}
