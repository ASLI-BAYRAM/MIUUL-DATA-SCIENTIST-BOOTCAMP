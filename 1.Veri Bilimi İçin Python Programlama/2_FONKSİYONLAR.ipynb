{
 "cells": [
  {
   "cell_type": "markdown",
   "id": "bfeddb49-582c-4d81-ab7a-d570443a3e03",
   "metadata": {},
   "source": [
    " <h1 style=\"text-align: center; color: RED\">FONKSİYONLAR</h1> \n",
    " \n",
    "**Fonksiyon:** Belirli görevleri yerine getirmek için yazılan kod parçalarıdır.\n",
    "\n",
    "**Parametre:** Fonksiyon tanımlanması esnasında ifade edilen değişkenlerdir.\n",
    "**Argüman:** Fonksiyonlar çağrıldığında girilen parametrelere karşılık girilen değerlerdir. Argümanlar bir özellik belirtebileceği gibi fonksiyonun genel amacını biçimlendirmek üzere kullanılan alt görevcilerdir.Örneğin print fonksiyonun görevi ekrana birşeyler yazdırmaktır. Bu fonksiyon sep diye bir argüman alır bu argüman ile fonksiyonun genel amacını biçimlendiribiliriz. **?print** sorgu ile print fonkisyonun veya başka bir fonkisyonun dökümantasyonuna erişebiliriz. Özet olarak fonksiyonların ana amaçlarını bu fonksiyonlar içerisinde yer alan argümanlar ile biçimlendirebiliriz.\n",
    "\n",
    "\n",
    "\n",
    " \n",
    " "
   ]
  },
  {
   "cell_type": "code",
   "execution_count": 7,
   "id": "264fbd34-caf7-41b1-8a8b-a991ffb9f697",
   "metadata": {},
   "outputs": [
    {
     "data": {
      "text/plain": [
       "\u001b[1;31mSignature:\u001b[0m \u001b[0mprint\u001b[0m\u001b[1;33m(\u001b[0m\u001b[1;33m*\u001b[0m\u001b[0margs\u001b[0m\u001b[1;33m,\u001b[0m \u001b[0msep\u001b[0m\u001b[1;33m=\u001b[0m\u001b[1;34m' '\u001b[0m\u001b[1;33m,\u001b[0m \u001b[0mend\u001b[0m\u001b[1;33m=\u001b[0m\u001b[1;34m'\\n'\u001b[0m\u001b[1;33m,\u001b[0m \u001b[0mfile\u001b[0m\u001b[1;33m=\u001b[0m\u001b[1;32mNone\u001b[0m\u001b[1;33m,\u001b[0m \u001b[0mflush\u001b[0m\u001b[1;33m=\u001b[0m\u001b[1;32mFalse\u001b[0m\u001b[1;33m)\u001b[0m\u001b[1;33m\u001b[0m\u001b[1;33m\u001b[0m\u001b[0m\n",
       "\u001b[1;31mDocstring:\u001b[0m\n",
       "Prints the values to a stream, or to sys.stdout by default.\n",
       "\n",
       "sep\n",
       "  string inserted between values, default a space.\n",
       "end\n",
       "  string appended after the last value, default a newline.\n",
       "file\n",
       "  a file-like object (stream); defaults to the current sys.stdout.\n",
       "flush\n",
       "  whether to forcibly flush the stream.\n",
       "\u001b[1;31mType:\u001b[0m      builtin_function_or_method"
      ]
     },
     "metadata": {},
     "output_type": "display_data"
    }
   ],
   "source": [
    "?print #print fonkisyonu ve o fonksiyonda kullanılan argumanlar ile alakalı acıklamalara ulaştık.\n",
    "help(print)#şeklinde de docstringe erişebiliriz."
   ]
  },
  {
   "cell_type": "code",
   "execution_count": 26,
   "id": "545c69b6-b99c-4d88-b3c2-46684dd10df4",
   "metadata": {},
   "outputs": [
    {
     "name": "stdout",
     "output_type": "stream",
     "text": [
      "a b\n",
      "a__b\n",
      "miull\n",
      "vahithoca\n",
      "veri\n"
     ]
    }
   ],
   "source": [
    "print('a','b') # bu kullanımı argumanlar ile biçimlendirebiliriz\n",
    "print('a','b', sep='__')\n",
    "print('miull\\nvahithoca\\nveri')#\\n bir alt satıra geçmek için kullanılır."
   ]
  },
  {
   "cell_type": "markdown",
   "id": "47dc4624-c9e2-4b25-8440-54d168f2e6fe",
   "metadata": {},
   "source": [
    "<span style=\"color: blue; font-weight: bold;\">Fonksiyon Tanımlama</span>\n",
    "\n",
    "Girilen sayıları 2 ile carpacak bir fonkisyon tanımlayacaz. Fonksiyon tanımlamak için **def** ifadesini kullanırız. Daha sonra fonksiyona isim tanımlarız eğer bu fonksiyonun parametresi varsa parametrelerini gireriz.\n",
    "\n",
    "**NOT**: Bir fonksiyon argümansızda olabilir."
   ]
  },
  {
   "cell_type": "code",
   "execution_count": 33,
   "id": "37ad2080-0146-45ba-a009-609224af062f",
   "metadata": {},
   "outputs": [
    {
     "name": "stdout",
     "output_type": "stream",
     "text": [
      "6\n"
     ]
    }
   ],
   "source": [
    "def calculate(x): #fonksiyon ismi ve parametreleri tanımlandı x bizim gireceğimiz argumanalrı ifade eder.\n",
    "    print(x *2) #bu kısım fonksiyonun body yani gövde kısmıdır.Burada fonk. ne iş yapacağını belirledik\n",
    "\n",
    "\n",
    "calculate(3) #burada fonksiyona bir argüman girere tanımladığımız fonksiyonu çağırdık."
   ]
  },
  {
   "cell_type": "markdown",
   "id": "bb707534-8d5a-457e-b245-1c4e7cedcd9f",
   "metadata": {},
   "source": [
    "<span style=\"color: blue; font-weight: bold;\">2 Argümanlı Fonksiyon Tanımlama</span>"
   ]
  },
  {
   "cell_type": "code",
   "execution_count": 43,
   "id": "84aab063-4901-4d87-a03b-e652d4e79e4b",
   "metadata": {},
   "outputs": [
    {
     "name": "stdout",
     "output_type": "stream",
     "text": [
      "15\n"
     ]
    }
   ],
   "source": [
    "def calculate(arg1, arg2): #istediğimiz kadar argüman girebiliriz.\n",
    "    print(arg1 + arg2)\n",
    "\n",
    "\n",
    "calculate(7, 8) #fonksiyonu çağırma\n",
    "#Argümanların sıralamasını bilmiyorsam aşağıdaki şekilde kullanmam daha doğru. Çünkü argümanan girerken sıra önemlidir.\n",
    "calculate(arg1=7, arg2=8) "
   ]
  },
  {
   "cell_type": "markdown",
   "id": "fd0f1836-5f5c-4f9a-8894-fecb5ee906fe",
   "metadata": {},
   "source": [
    "<span style=\"color: blue; font-weight: bold;\">Docstring</span>\n",
    "\n",
    "Fonksiyonlara herkesin anlayabileceği bir yapı ile bilgi ekleme yoludur.\n"
   ]
  },
  {
   "cell_type": "code",
   "execution_count": 53,
   "id": "4128c530-08e7-42e2-b5e4-c4c15050564e",
   "metadata": {},
   "outputs": [
    {
     "name": "stdout",
     "output_type": "stream",
     "text": [
      "4\n"
     ]
    }
   ],
   "source": [
    "def summer(arg1, arg2):\n",
    "    \"\"\"\n",
    "    Fonksiyonun görevi yazılır: İki sayısı toplayan fonksiyon\n",
    "    \n",
    "    Args:Fonksiyonda kullanılan argümanlar yazılır\n",
    "    arg1: int, float\n",
    "    arg2: int, float\n",
    "\n",
    "    Returns: Fonksiyonun cıktısı hakkında bilgi verilir.\n",
    "    \n",
    "    Examples : arg1 + arg2 = 5\n",
    "\n",
    "    Notes: Fonksiyonla alakalı notlar alınır.\n",
    "    \n",
    "    \"\"\"\n",
    "    print(arg1 + arg2)\n",
    "\n",
    "\n",
    "summer(1, 3)"
   ]
  },
  {
   "cell_type": "code",
   "execution_count": 51,
   "id": "2b365f5f-50db-4cd8-b952-6821a8356219",
   "metadata": {},
   "outputs": [
    {
     "data": {
      "text/plain": [
       "\u001b[1;31mSignature:\u001b[0m \u001b[0msummer\u001b[0m\u001b[1;33m(\u001b[0m\u001b[0marg1\u001b[0m\u001b[1;33m,\u001b[0m \u001b[0marg2\u001b[0m\u001b[1;33m)\u001b[0m\u001b[1;33m\u001b[0m\u001b[1;33m\u001b[0m\u001b[0m\n",
       "\u001b[1;31mDocstring:\u001b[0m\n",
       "Fonksiyonun görevi yazılır: İki sayısı toplayan fonksiyon\n",
       "\n",
       "Args:Fonksiyonda kullanılan argümanlar yazılır\n",
       "arg1: int, float\n",
       "arg2: int, float\n",
       "\n",
       "Returns: Fonksiyonun cıktısı hakkında bilgi verilir.\n",
       "\u001b[1;31mFile:\u001b[0m      c:\\users\\asli\\appdata\\local\\temp\\ipykernel_11480\\1753913099.py\n",
       "\u001b[1;31mType:\u001b[0m      function"
      ]
     },
     "metadata": {},
     "output_type": "display_data"
    }
   ],
   "source": [
    "?summer #oluşturdugumuz fonksiyonun docstringine bu şekilde erişebiliriz."
   ]
  },
  {
   "cell_type": "markdown",
   "id": "13e997e6-e1a5-4cd8-bbbe-07dc9ad86747",
   "metadata": {},
   "source": [
    "<span style=\"color: blue; font-weight: bold;\">Fonksiyonların Statement/Body Bölümü</span>\n",
    "\n",
    "Gövde  kısmı fonksiyonun ne görev yapacağına, hangi sıra ile ne yapacağına karar verdiğimiz bölümdür.\n",
    "\n",
    "def function_name(parameters):\n",
    "\n",
    "    statements(function body)"
   ]
  },
  {
   "cell_type": "code",
   "execution_count": 62,
   "id": "748878fa-2465-42c2-8087-c61c7cf2b9d3",
   "metadata": {},
   "outputs": [
    {
     "name": "stdout",
     "output_type": "stream",
     "text": [
      "Merhaba\n",
      "Hi\n",
      "Hello\n"
     ]
    }
   ],
   "source": [
    "def say_hi():# argüman girmedik\n",
    "    print('Merhaba')\n",
    "    print('Hi')\n",
    "    print('Hello')\n",
    "\n",
    "\n",
    "say_hi()"
   ]
  },
  {
   "cell_type": "code",
   "execution_count": 66,
   "id": "587eb7f9-046e-401a-b282-9784e312a85f",
   "metadata": {},
   "outputs": [
    {
     "name": "stdout",
     "output_type": "stream",
     "text": [
      "miuul\n",
      "Hi\n",
      "Hello\n"
     ]
    }
   ],
   "source": [
    "def say_hi(string):# argüman girmedik\n",
    "    print(string)\n",
    "    print('Hi')\n",
    "    print('Hello')\n",
    "\n",
    "\n",
    "# say_hi()=> bu şekilde kullanırsam hata verir argümanı ister\n",
    "say_hi('miuul')"
   ]
  },
  {
   "cell_type": "markdown",
   "id": "0ba5a338-a117-4645-9b3e-b8cef1aee483",
   "metadata": {},
   "source": [
    "**Girilen iki sayıyı çarpan ve bunu önce bir nesnede tutan ve sonra yazdıran fonksiyon**\n",
    "\n",
    "Fonksiyon ismi yazarken amacını ifade eden isimler kullanmaya ve parametre isimlerini olabildiğince kısa tutmaya çalışmalıyız."
   ]
  },
  {
   "cell_type": "code",
   "execution_count": 71,
   "id": "13c756de-3938-4d56-9352-b615178f112d",
   "metadata": {},
   "outputs": [
    {
     "name": "stdout",
     "output_type": "stream",
     "text": [
      "90\n"
     ]
    }
   ],
   "source": [
    "def multiplication(a, b):\n",
    "    c = a * b # bu kısımda amaçladığımız body kısmında atama yapabileceğimizi ve peş peşe işlemler yapabileceğimizi görmek\n",
    "    print(c)\n",
    "\n",
    "multiplication(10, 9)"
   ]
  },
  {
   "cell_type": "markdown",
   "id": "3f9825c3-b239-493d-9d9a-38b9db97ae8c",
   "metadata": {},
   "source": [
    "**Girilen iki değerin çarpım sonucunu bir liste içerisinde saklayacak fonksiyon**"
   ]
  },
  {
   "cell_type": "code",
   "execution_count": 81,
   "id": "a6cc6e7b-f42c-4406-849c-2108f2e04e66",
   "metadata": {},
   "outputs": [
    {
     "name": "stdout",
     "output_type": "stream",
     "text": [
      "[8]\n",
      "[8, 144]\n",
      "[8, 144, 1800]\n"
     ]
    }
   ],
   "source": [
    "list_store = [ ] # değerleri saklayabilmek için boş bir liste tanımladık\n",
    "\n",
    "def add_element(a, b):\n",
    "    c = a * b\n",
    "    list_store.append(c) # append metodu ile listeye ekledik. Bu metot yeniden atamaya gerek kalmaksızı kalıcı değişklik yapar\n",
    "    print(list_store) # listenin son halini görmek için\n",
    "\n",
    "add_element(1,8)\n",
    "add_element(18,8)\n",
    "add_element(180,10)"
   ]
  },
  {
   "cell_type": "markdown",
   "id": "8b3b184e-9a30-4510-8a6d-6a0d5704d510",
   "metadata": {},
   "source": [
    "**NOT**: Bütün çalışma içerisinden erişilebilen değişkenler global etki alanındaki değişkenler denir. Örneğin list_store bir global etki alanındaki değişkendir. Sadece ilgili fonksiyon, döngü,if-else yapıları içerisinde oluşturulan ve bu etki alanı içerisnde kalan değişkenlere local değişkenler denir.Örneğin c local bir değişkendir ve sadece bu fonksiyonun etki alanında çalışır."
   ]
  },
  {
   "cell_type": "markdown",
   "id": "fd4fc4f8-c7b3-4fed-a919-365ab2a0ba93",
   "metadata": {},
   "source": [
    "<span style=\"color: blue; font-weight: bold;\">Ön Tanımlı Argümanlar/ Parametreler</span>"
   ]
  },
  {
   "cell_type": "code",
   "execution_count": 90,
   "id": "f0a73536-6592-47a2-a75c-d88e54856634",
   "metadata": {},
   "outputs": [
    {
     "name": "stdout",
     "output_type": "stream",
     "text": [
      "5.0\n"
     ]
    }
   ],
   "source": [
    "def divide(a, b=2): # b ye ön tanımlı argüman girdik eğer kullanıcı  b ye değer girmezse  a / 2 sonuc cıkacak\n",
    "    print(a / b)\n",
    "\n",
    "\n",
    "divide(10)"
   ]
  },
  {
   "cell_type": "code",
   "execution_count": 92,
   "id": "c5e0e7a3-8404-4834-b3f9-025cd526149a",
   "metadata": {},
   "outputs": [
    {
     "ename": "TypeError",
     "evalue": "divide() missing 1 required positional argument: 'b'",
     "output_type": "error",
     "traceback": [
      "\u001b[1;31m---------------------------------------------------------------------------\u001b[0m",
      "\u001b[1;31mTypeError\u001b[0m                                 Traceback (most recent call last)",
      "Cell \u001b[1;32mIn[92], line 5\u001b[0m\n\u001b[0;32m      1\u001b[0m \u001b[38;5;28;01mdef\u001b[39;00m \u001b[38;5;21mdivide\u001b[39m(a, b): \n\u001b[0;32m      2\u001b[0m     \u001b[38;5;28mprint\u001b[39m(a \u001b[38;5;241m/\u001b[39m b)\n\u001b[1;32m----> 5\u001b[0m divide(\u001b[38;5;241m10\u001b[39m)\n",
      "\u001b[1;31mTypeError\u001b[0m: divide() missing 1 required positional argument: 'b'"
     ]
    }
   ],
   "source": [
    "def divide(a, b): \n",
    "    print(a / b)\n",
    "\n",
    "\n",
    "divide(10)# bu şekilde yaptığımızda hata verir. Çünkü fonksiyonun beklediği diğer argümanı girmedik"
   ]
  },
  {
   "cell_type": "code",
   "execution_count": 94,
   "id": "c2312546-11e8-496f-bee2-3db95065892d",
   "metadata": {},
   "outputs": [
    {
     "name": "stdout",
     "output_type": "stream",
     "text": [
      "Merhaba\n",
      "hello\n",
      "Hi\n",
      "hello\n"
     ]
    }
   ],
   "source": [
    "def say_hi(string='Merhaba'):#ön tanımlı değer\n",
    "    print(string)\n",
    "    print('hello')\n",
    "say_hi() # bu iki kullanımda dogrudur çünkü ön tanımlı değeri girdik\n",
    "say_hi('Hi') # kullanıcı değer girmezse ön tanımlı değere göre işlem yapılır"
   ]
  },
  {
   "cell_type": "markdown",
   "id": "87126b9c-d3f8-4837-9197-67bcfe7e268d",
   "metadata": {},
   "source": [
    "<span style=\"color: blue; font-weight: bold;\">Ne Zaman Fonsiyon Yazılır?</span>\n",
    "\n",
    "Alttaki örnekte varm, moisture, charge argümanlarını kullanarak sokak lambaları için bir metrik hesapladığımız düşünelim.Örneğin 1. lamba için (56+15)/ 80, 2., 3. lamba için bu hesapları yaptık. Fakat bu sokak lambalarının binlerce olduğunu düşünelim sürekli bu metriği hesaplamak için tekrara düşücez ve buda işlevsel değildir. Temel programlama prensibi der ki **'Don't repeat yourself'** yani kendini tekrar etme. Bu sebeple birbirini tekrar eden durumlar olduğunda fonksiyon yazma ihtiyacı"
   ]
  },
  {
   "cell_type": "code",
   "execution_count": 100,
   "id": "62ddb061-fd6e-490c-bc6c-dac8a0f17be7",
   "metadata": {},
   "outputs": [
    {
     "name": "stdout",
     "output_type": "stream",
     "text": [
      "1.4102564102564104\n"
     ]
    }
   ],
   "source": [
    "def calculate(varm, moisture, charge):\n",
    "    print((varm + moisture) / charge)\n",
    "\n",
    "calculate(98, 12, 78)# artık yukarıdaki işlemi her lamba için ayrı ayrı yapmaya gerek yoktur.\n",
    "calculate(98, 12, 78)# gelen argüman bilgileri buraya girilir ve fonksiyon çağrılır."
   ]
  },
  {
   "cell_type": "markdown",
   "id": "1dec18cd-24bc-4abd-b0da-2f280997c659",
   "metadata": {},
   "source": [
    "<span style=\"color: blue; font-weight: bold;\">Return</span>\n",
    "\n",
    "Fonksiyon çıktılarını girdi olarak kullanmak için kullanılan yapıdır."
   ]
  },
  {
   "cell_type": "code",
   "execution_count": 105,
   "id": "c760109d-6f8b-4245-9047-b7b5a645ad82",
   "metadata": {},
   "outputs": [
    {
     "name": "stdout",
     "output_type": "stream",
     "text": [
      "1.4102564102564104\n"
     ]
    },
    {
     "ename": "TypeError",
     "evalue": "unsupported operand type(s) for *: 'NoneType' and 'int'",
     "output_type": "error",
     "traceback": [
      "\u001b[1;31m---------------------------------------------------------------------------\u001b[0m",
      "\u001b[1;31mTypeError\u001b[0m                                 Traceback (most recent call last)",
      "Cell \u001b[1;32mIn[105], line 4\u001b[0m\n\u001b[0;32m      1\u001b[0m \u001b[38;5;28;01mdef\u001b[39;00m \u001b[38;5;21mcalculate\u001b[39m(varm, moisture, charge):\n\u001b[0;32m      2\u001b[0m     \u001b[38;5;28mprint\u001b[39m((varm \u001b[38;5;241m+\u001b[39m moisture) \u001b[38;5;241m/\u001b[39m charge)\n\u001b[1;32m----> 4\u001b[0m calculate(\u001b[38;5;241m98\u001b[39m, \u001b[38;5;241m12\u001b[39m, \u001b[38;5;241m78\u001b[39m) \u001b[38;5;241m*\u001b[39m \u001b[38;5;241m10\u001b[39m\n",
      "\u001b[1;31mTypeError\u001b[0m: unsupported operand type(s) for *: 'NoneType' and 'int'"
     ]
    }
   ],
   "source": [
    "def calculate(varm, moisture, charge):\n",
    "    print((varm + moisture) / charge)\n",
    "\n",
    "calculate(98, 12, 78) * 10 # elde ettiğim çıktıyı 10 ile çarpmaya calıştım ve alttaki hatayı aldım \n",
    "                           # print ile bir değeri ekrana yazdırdığımda tipi 'NoneType''tır."
   ]
  },
  {
   "cell_type": "code",
   "execution_count": 107,
   "id": "3c2d83f4-0df7-4cd4-a3b9-90cb1b1e4cc7",
   "metadata": {},
   "outputs": [
    {
     "data": {
      "text/plain": [
       "14.102564102564104"
      ]
     },
     "execution_count": 107,
     "metadata": {},
     "output_type": "execute_result"
    }
   ],
   "source": [
    "def calculate(varm, moisture, charge):\n",
    "    return (varm + moisture) / charge # cıkan sonucu tekrar kullanabilmek için return yapmalıyım\n",
    "\n",
    "calculate(98, 12, 78) * 10"
   ]
  },
  {
   "cell_type": "markdown",
   "id": "62f3b01b-7891-4ad6-aaad-10472e81a65c",
   "metadata": {},
   "source": [
    "**Girilen argümanların yeni değerlerinin ve  ise üç argüman üzerinden hesaplanan değerin çıktı olarak verilmesini istediğimiz bir fonksiyon yazıyoruz.**"
   ]
  },
  {
   "cell_type": "code",
   "execution_count": 118,
   "id": "c9154662-9f0e-49ca-87bb-1a9c982a52aa",
   "metadata": {},
   "outputs": [
    {
     "data": {
      "text/plain": [
       "(196, 24, 156, 1.4102564102564104)"
      ]
     },
     "execution_count": 118,
     "metadata": {},
     "output_type": "execute_result"
    }
   ],
   "source": [
    "def calculate(varm, moisture, charge):\n",
    "    varm = varm * 2\n",
    "    moisture = moisture * 2 # => 3 parametreye yeni değerler atandı\n",
    "    charge = charge * 2\n",
    "    output = (varm + moisture) / charge # cıkan sonucu tekrar kullanabilmek için return yapmalıyım\n",
    "    return varm, moisture, charge, output\n",
    "    \n",
    "calculate(98, 12, 78) #cıktısı bir tuple' dır.\n",
    "varm, moisture, charge, output  = calculate(98, 12, 78) # bu şekilde de cıktıları kaydedip daha sonrada kullanabiliriz"
   ]
  },
  {
   "cell_type": "markdown",
   "id": "d2522f91-279a-4f81-8df3-b37701fb30ae",
   "metadata": {},
   "source": [
    "<span style=\"color: blue; font-weight: bold;\">Fonksiyon İçerisinden Fonksiyon Tanımlamak</span>\n",
    "\n",
    "\n"
   ]
  },
  {
   "cell_type": "code",
   "execution_count": 123,
   "id": "e18bb257-7cd2-4d66-b5d2-20b7a57c7c44",
   "metadata": {},
   "outputs": [
    {
     "data": {
      "text/plain": [
       "1.4102564102564104"
      ]
     },
     "execution_count": 123,
     "metadata": {},
     "output_type": "execute_result"
    }
   ],
   "source": [
    "def calculate(varm, moisture, charge):\n",
    "    return int((varm + moisture) / charge) # çıktının float değil int olamsı için yaptık\n",
    "\n",
    "calculate(98, 12, 78) * 10"
   ]
  },
  {
   "cell_type": "markdown",
   "id": "3b8cba13-84d8-42c6-ac7a-a4ef09fa3427",
   "metadata": {},
   "source": [
    "**Girilen değerlere göre standartlaştırma yaptığını düşündüğümüz bir fonksiyon yazalım**"
   ]
  },
  {
   "cell_type": "code",
   "execution_count": 128,
   "id": "c8fb0ead-1062-4f7e-b9d7-9e714705c5b1",
   "metadata": {},
   "outputs": [
    {
     "data": {
      "text/plain": [
       "4.5"
      ]
     },
     "execution_count": 128,
     "metadata": {},
     "output_type": "execute_result"
    }
   ],
   "source": [
    "def standardization(a, p):\n",
    "    return a* 10 / 100 * p * p\n",
    "standardization(45, 1 )"
   ]
  },
  {
   "cell_type": "markdown",
   "id": "8eae8a1d-898c-4c31-a1f1-0993926a0c93",
   "metadata": {},
   "source": [
    "**Amacımız yeni fonksiyon tanımlamak ve tanımladığımız fonksiyonda üstte yazdığımız calculate ve standardization fonksiyonlarını kullanmak**\n",
    "\n",
    "**DİKKAT!!!** : Eğer bir fonksiyon tanımlıyorsak ve bu fonksiyonun içerisinde başka fonksiyonlar yer alacaksa yer alan fonksiyonun argümanlarını da ana fonksiyondan biçimlendirmek istersek bu durumda ana fonkisyonu tanımlarken diğer fonksiyonların argümanlarını da girmemiz gerekmektedir."
   ]
  },
  {
   "cell_type": "code",
   "execution_count": 134,
   "id": "a7202e6b-fd6e-4efc-b360-14941213d88c",
   "metadata": {},
   "outputs": [
    {
     "name": "stdout",
     "output_type": "stream",
     "text": [
      "115.19999999999999\n"
     ]
    }
   ],
   "source": [
    "def all_calculation(varm, moisture, charge, p):# ana fonksiyon 4 argüman tanımlanmış\n",
    "    a = calculate(varm, moisture, charge) #calculate fonksiyonunu çağırdık. Standardization fonk. a argümanını burda biçimlendirdim\n",
    "    b = standardization(a, p)# standardization fonknu çağırdık ,p argümanını dışardan  biçimlendireceğim için ana fonk. argüman olarak girdim\n",
    "    print(b*10)\n",
    "\n",
    "\n",
    "all_calculation(1, 3, 5, 12)"
   ]
  },
  {
   "cell_type": "code",
   "execution_count": 138,
   "id": "822406ff-743d-4b50-9f37-448976847c34",
   "metadata": {},
   "outputs": [
    {
     "name": "stdout",
     "output_type": "stream",
     "text": [
      "0.8\n",
      "2735.9999999999995\n"
     ]
    }
   ],
   "source": [
    "def all_calculation(varm, moisture, charge, a, p):# ana fonksiyon 4 argüman tanımlanmış\n",
    "    print(calculate(varm, moisture, charge)) #calculate fonksiyonunu çağırdık. \n",
    "    b = standardization(a, p)# standardization fonknu çağırdık ,p argümanını dışardan  biçimlendireceğim için ana fonk. argüman olarak girdim\n",
    "    print(b*10)\n",
    "\n",
    "\n",
    "#all_calculation(1, 3, 5, 12) => bu şekli ile hata verir çünkü artık a değerinide dışardan biçimlendirdim\n",
    "all_calculation(1, 3, 5, 19, 12)"
   ]
  }
 ],
 "metadata": {
  "kernelspec": {
   "display_name": "Python [conda env:base] *",
   "language": "python",
   "name": "conda-base-py"
  },
  "language_info": {
   "codemirror_mode": {
    "name": "ipython",
    "version": 3
   },
   "file_extension": ".py",
   "mimetype": "text/x-python",
   "name": "python",
   "nbconvert_exporter": "python",
   "pygments_lexer": "ipython3",
   "version": "3.12.7"
  }
 },
 "nbformat": 4,
 "nbformat_minor": 5
}
