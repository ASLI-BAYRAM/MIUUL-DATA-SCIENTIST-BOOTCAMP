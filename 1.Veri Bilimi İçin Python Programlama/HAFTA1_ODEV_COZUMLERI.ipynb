{
 "cells": [
  {
   "cell_type": "markdown",
   "id": "17ac580a-5a24-4a42-98b9-3b738c7635e7",
   "metadata": {},
   "source": [
    " <h1 style=\"text-align: center; color: RED\">ÖDEV ÇÖZÜMLERİ</h1> "
   ]
  },
  {
   "cell_type": "markdown",
   "id": "0a89e779-423a-49e8-904e-956b4eac64a5",
   "metadata": {},
   "source": [
    "<span style=\"color: blue; font-weight: bold;\">GÖREV1:</span> Verilen değerlerin veri yapılarını inceleyiniz\n",
    "* x = 8\n",
    "* y = 3.2\n",
    "* z = 8j + 18\n",
    "* a = 'Hello World'\n",
    "* b = 'True'\n",
    "* c = 23 < 22\n",
    "* l = [1,2,3,4]\n",
    "* d = {'name':'jake',\n",
    "     'age':27,\n",
    "     'Adress':'downtown'}\n",
    "* t = ('Machine Learning', 'Data Science')\n",
    "* s = {'Python','Machine Learning', 'Data Science'}\n",
    "\n",
    "**Çözüm**: Bir değişkenin ya da değerin veri tipini incelemek istiyorsak 'type()' fonksiyonunu kullanırız.\n"
   ]
  },
  {
   "cell_type": "code",
   "execution_count": 10,
   "id": "94defeaf-094e-4068-9b89-742730d73004",
   "metadata": {},
   "outputs": [
    {
     "name": "stdout",
     "output_type": "stream",
     "text": [
      "<class 'int'>\n",
      "<class 'float'>\n",
      "<class 'complex'>\n",
      "<class 'str'>\n",
      "<class 'str'>\n",
      "<class 'bool'>\n",
      "<class 'list'>\n",
      "<class 'dict'>\n",
      "<class 'tuple'>\n",
      "<class 'set'>\n"
     ]
    }
   ],
   "source": [
    "x = 8\n",
    "y = 3.2\n",
    "z = 8j + 18\n",
    "a = 'Hello World'\n",
    "b = 'True'\n",
    "c = 23 < 22\n",
    "l = [1,2,3,4]\n",
    "d = {'name':'jake',\n",
    "     'age':27,\n",
    "     'Adress':'downtown'}\n",
    "t = ('Machine Learning', 'Data Science')\n",
    "s = {'Python','Machine Learning', 'Data Science'}\n",
    "print(type(x))\n",
    "print(type(y))\n",
    "print(type(z))\n",
    "print(type(a))\n",
    "print(type(b))\n",
    "print(type(c))\n",
    "print(type(l))\n",
    "print(type(d))\n",
    "print(type(t))\n",
    "print(type(s))"
   ]
  },
  {
   "cell_type": "markdown",
   "id": "9b35cf01-dc9d-4124-96d0-b66488113ad7",
   "metadata": {},
   "source": [
    "<span style=\"color: blue; font-weight: bold;\">GÖREV2:</span> Verilen string ifadenin tüm harflerini büyük harfe çeviriniz. Virgül ve nokta yerine space koyunuz, kelime kelime ayırınız.\n",
    "\n",
    "Beklenen çıktı: ['THE', 'GOAL', 'IS', 'TO', 'TURN', 'DATA', 'INTO', 'INFORMATION', 'AND', 'INFORMATION', 'INTO', 'INSIGHT']\n",
    "\n",
    "**Çözüm:** Upper metodu ile tüm harfleri büyütebiliriz. Virgül ve nokta yerini space ile değiştirmek için replace() metodunu kullanabiliriz. Ayrıca çıktının yukarıdaki tek tek liste halinde olması için split() metodunu kullanmalıyız."
   ]
  },
  {
   "cell_type": "code",
   "execution_count": 15,
   "id": "1b7264e5-651c-44a7-ac50-dbe59eededd0",
   "metadata": {},
   "outputs": [
    {
     "name": "stdout",
     "output_type": "stream",
     "text": [
      "['THE', 'GOAL', 'IS', 'TO', 'TURN', 'DATA', 'INTO', 'INFORMATION', 'AND', 'INFORMATION', 'INTO', 'INSIGHT']\n"
     ]
    }
   ],
   "source": [
    "text = 'The goal is to turn data into information, and information into insight.'\n",
    "\n",
    "new_text  = text.upper().replace(',', '').replace('.', '').split()\n",
    "print(new_text)"
   ]
  },
  {
   "cell_type": "markdown",
   "id": "feaff866-afd9-48fa-84df-144c924dbdac",
   "metadata": {},
   "source": [
    "<span style=\"color: blue; font-weight: bold;\">GÖREV3:</span> Verilen listeye aşağıdaki adımları uygulayınız.\n",
    "\n",
    "Adım1: Listenin eleman sayısına bakınız.\n",
    "\n",
    "Adım2: Sıfırıncı ve onuncu indexteki elnemanı çağırın.\n",
    "\n",
    "Adım3: Verilen liste üzerinden ['D','A','T','A'] listesi oluşturunuz.\n",
    "\n",
    "Adım4:Sekizinci indexteki elemanı siliniz.\n",
    "\n",
    "Adım5: Yeni bir eleman ekleyiniz\n",
    "\n",
    "Adım6: Sekizinci indexe 'N' elemanını tekrar ekleyiniz.\n"
   ]
  },
  {
   "cell_type": "code",
   "execution_count": 19,
   "id": "92b69dc4-9b46-44e5-8c78-27531c8b7975",
   "metadata": {},
   "outputs": [
    {
     "name": "stdout",
     "output_type": "stream",
     "text": [
      "11\n"
     ]
    }
   ],
   "source": [
    "lst = ['D','A','T','A','S','C','I','E','N','C','E']\n",
    "\n",
    "#ADIM 1:Eleman sayısına bakmak için len fonksiyonunu kullanırız.\n",
    "\n",
    "print(len(lst))"
   ]
  },
  {
   "cell_type": "code",
   "execution_count": 25,
   "id": "a1b4a4fc-6366-45d4-8ef0-25a9ebee474b",
   "metadata": {},
   "outputs": [
    {
     "name": "stdout",
     "output_type": "stream",
     "text": [
      "D E\n"
     ]
    }
   ],
   "source": [
    "#ADIM 2\n",
    "print(lst[0],lst[10])"
   ]
  },
  {
   "cell_type": "code",
   "execution_count": 29,
   "id": "92c27cd7-5884-477c-a845-5b80995b56d6",
   "metadata": {},
   "outputs": [
    {
     "data": {
      "text/plain": [
       "['D', 'A', 'T', 'A']"
      ]
     },
     "execution_count": 29,
     "metadata": {},
     "output_type": "execute_result"
    }
   ],
   "source": [
    "#ADIM 3:slice işlemi ile bunu gerçekleştirebiliriz\n",
    "lst[0:4]"
   ]
  },
  {
   "cell_type": "code",
   "execution_count": 31,
   "id": "4932f38f-54e1-4119-8d6b-ba74cd0cdbf9",
   "metadata": {},
   "outputs": [
    {
     "name": "stdout",
     "output_type": "stream",
     "text": [
      "['D', 'A', 'T', 'A', 'S', 'C', 'I', 'E', 'C', 'E']\n"
     ]
    }
   ],
   "source": [
    "#ADIM 4: pop metodu silme işlemi yapar.\n",
    "\n",
    "lst.pop(8)#N harfini siler\n",
    "print(lst)\n"
   ]
  },
  {
   "cell_type": "code",
   "execution_count": 33,
   "id": "c22f3523-9e6a-4896-9db9-c278dfb234cd",
   "metadata": {},
   "outputs": [
    {
     "name": "stdout",
     "output_type": "stream",
     "text": [
      "['D', 'A', 'T', 'A', 'S', 'C', 'I', 'E', 'C', 'E', 'miuul']\n"
     ]
    }
   ],
   "source": [
    "#ADIM 5: Eleman eklemek için append ve insert metotlarını kullanabiliriz.\n",
    "lst.append('miuul')\n",
    "print(lst)\n",
    "\n",
    "#NOT: lst = lst +'N' şeklinde de listenin sonuna eleman ekleyebiliriz."
   ]
  },
  {
   "cell_type": "code",
   "execution_count": 35,
   "id": "08e634be-4ecc-4be6-b2ff-54f435817aa7",
   "metadata": {},
   "outputs": [
    {
     "name": "stdout",
     "output_type": "stream",
     "text": [
      "['D', 'A', 'T', 'A', 'S', 'C', 'I', 'E', 'N', 'C', 'E', 'miuul']\n"
     ]
    }
   ],
   "source": [
    "#ADIM 6\n",
    "lst.insert(8, 'N')\n",
    "print(lst)"
   ]
  },
  {
   "cell_type": "markdown",
   "id": "1140e993-72a0-4211-8ead-46a2ec1c04ff",
   "metadata": {},
   "source": [
    "<span style=\"color: blue; font-weight: bold;\">GÖREV4:</span> Verilen sozluk yapisine asagidaki adimlari uygulayiniz.\n",
    "\n",
    "Adim1: Key degerlerine erisin.\n",
    "\n",
    "Adim2: value degerlerine erisin.\n",
    "\n",
    "Adim3: daisy keyine ait 12 degereini 13 olarak güncelle\n",
    "\n",
    "Adim4: key değeri Ahmet value değeri [Turkey, 24] olan yeni değer ekle.\n",
    "\n",
    "Adim5:Antonio' yu dictionaryden sil.\n"
   ]
  },
  {
   "cell_type": "code",
   "execution_count": 42,
   "id": "19edb7df-57d2-4717-a570-56f6b4b6dca4",
   "metadata": {},
   "outputs": [
    {
     "data": {
      "text/plain": [
       "dict_keys(['Christian', 'Daisy', 'Antonio'])"
      ]
     },
     "execution_count": 42,
     "metadata": {},
     "output_type": "execute_result"
    }
   ],
   "source": [
    "dict = {'Christian': ['America', 18],\n",
    "        'Daisy': ['England', 12],\n",
    "        'Antonio': ['Spain', 22],\n",
    "        'Christian': ['Italy,', 25]}\n",
    "\n",
    "#ADIM 1:\n",
    "dict.keys()\n"
   ]
  },
  {
   "cell_type": "code",
   "execution_count": 44,
   "id": "e5c6e1ee-e6c9-4d27-bb5c-fd7576d76a77",
   "metadata": {},
   "outputs": [
    {
     "data": {
      "text/plain": [
       "dict_values([['Italy,', 25], ['England', 12], ['Spain', 22]])"
      ]
     },
     "execution_count": 44,
     "metadata": {},
     "output_type": "execute_result"
    }
   ],
   "source": [
    "#ADIM 2:\n",
    "dict.values()\n"
   ]
  },
  {
   "cell_type": "code",
   "execution_count": 48,
   "id": "c2b5621f-843d-41cb-a782-8f1ec3c21e57",
   "metadata": {},
   "outputs": [
    {
     "name": "stdout",
     "output_type": "stream",
     "text": [
      "{'Christian': ['Italy,', 25], 'Daisy': ['England', 13], 'Antonio': ['Spain', 22]}\n"
     ]
    }
   ],
   "source": [
    "#ADIM 3:\n",
    "dict['Daisy'] = ['England', 13]\n",
    "print(dict)"
   ]
  },
  {
   "cell_type": "code",
   "execution_count": 50,
   "id": "b1748367-a883-4eb9-a379-8e498c0b6fa5",
   "metadata": {},
   "outputs": [
    {
     "name": "stdout",
     "output_type": "stream",
     "text": [
      "{'Christian': ['Italy,', 25], 'Daisy': ['England', 13], 'Antonio': ['Spain', 22], 'Ahmet': ['Turkey', 24]}\n"
     ]
    }
   ],
   "source": [
    "#ADIM 4:\n",
    "dict.update({'Ahmet':['Turkey', 24]})\n",
    "print(dict)"
   ]
  },
  {
   "cell_type": "code",
   "execution_count": 52,
   "id": "f957e2b6-60cf-42a7-849f-3e1c519ac056",
   "metadata": {},
   "outputs": [
    {
     "name": "stdout",
     "output_type": "stream",
     "text": [
      "{'Christian': ['Italy,', 25], 'Daisy': ['England', 13], 'Ahmet': ['Turkey', 24]}\n"
     ]
    }
   ],
   "source": [
    "# ADIM 5:\n",
    "dict.pop('Antonio')\n",
    "print(dict)"
   ]
  },
  {
   "cell_type": "code",
   "execution_count": 56,
   "id": "2f38902c-e7fc-4bbb-8286-1b0717907b1b",
   "metadata": {},
   "outputs": [
    {
     "name": "stdout",
     "output_type": "stream",
     "text": [
      "{'Christian': ['Italy,', 25], 'Daisy': ['England'], 'Ahmet': ['Turkey', 24]}\n"
     ]
    }
   ],
   "source": [
    "dict['Daisy'].pop(1) #daisy key 'nin 1 numaralı indexindeki değeri siler\n",
    "print(dict)"
   ]
  },
  {
   "cell_type": "markdown",
   "id": "f89efa88-0bca-4bd3-8b61-1cd7ef0ad7c4",
   "metadata": {},
   "source": [
    "<span style=\"color: blue; font-weight: bold;\">GÖREV5:</span> Arguman olarak liste alan,listenin icerisindeki tek ve cift sayilari ayrı ayrı listelere atayan bu listeri return eden fonksiyon yazınız."
   ]
  },
  {
   "cell_type": "code",
   "execution_count": 1,
   "id": "709ddc1f-cea4-4587-8a13-47c1685484e0",
   "metadata": {},
   "outputs": [
    {
     "name": "stdout",
     "output_type": "stream",
     "text": [
      "Tek sayıların listesi : [2, 18, 22]\n",
      "Ciftr sayıların listesi: [13, 93]\n"
     ]
    }
   ],
   "source": [
    "l = [2,13,18,93,22]\n",
    "\n",
    "def check_list(numbers):\n",
    "    tek = []\n",
    "    cift = []\n",
    "    for number in numbers:\n",
    "        if number % 2 ==0:\n",
    "            tek.append(number)\n",
    "        else:\n",
    "            cift.append(number)\n",
    "    return tek, cift\n",
    "tek, cift = check_list(l)\n",
    "print(f'Tek sayıların listesi : {tek}')\n",
    "print(f'Cift sayıların listesi: {cift}')\n"
   ]
  },
  {
   "cell_type": "code",
   "execution_count": 15,
   "id": "7ee664e1-19e3-4529-9f46-1cc48018f4a7",
   "metadata": {},
   "outputs": [
    {
     "data": {
      "text/plain": [
       "([2, 18, 22], [13, 93])"
      ]
     },
     "execution_count": 15,
     "metadata": {},
     "output_type": "execute_result"
    }
   ],
   "source": [
    "#2. yol\n",
    "\n",
    "def func(list):\n",
    "    çift_list, tek_list  = [x for x in list if x % 2 == 0], [x for x in list if x % 2 != 0]\n",
    "    return çift_list, tek_list\n",
    "\n",
    "func(l)\n"
   ]
  },
  {
   "cell_type": "markdown",
   "id": "111745fd-d2fe-4187-8c6b-de664e4d895f",
   "metadata": {},
   "source": [
    "<span style=\"color: blue; font-weight: bold;\">GÖREV6:</span> Aşağıda verilen listede mühendislik ve tıp fakülterinde dereceye giren öğrencilerin isimleri bulunmaktadır. Sırasıyla ilk üç öğrenci mühendislik fakültesinin başarı sırasını temsil ederken son üç öğrenci de tıp fakültesi öğrenci sırasına aittir. Enumarate kullanarak öğrenci derecelerini fakülte özelinde yazdırınız.\n",
    "Beklenen çıktı,\n",
    "\n",
    "Mühendislik fakültesi 1. öğrenci: Ali\n",
    "\n",
    "Mühendislik fakültesi 2. öğrenci: Ali\n",
    "\n",
    "Mühendislik fakültesi 3. öğrenci: Ali\n",
    "\n",
    "Tıp fakültesi 1. öğrenci: Talat\n",
    "\n",
    "Tıp fakültesi 2. öğrenci: Talat\n",
    "\n",
    "Tıp fakültesi 3. öğrenci: Talat"
   ]
  },
  {
   "cell_type": "code",
   "execution_count": 27,
   "id": "d7c57589-4ded-4859-82a5-3f5b3d4922c3",
   "metadata": {},
   "outputs": [
    {
     "name": "stdout",
     "output_type": "stream",
     "text": [
      "Mühendislik fakültesi 1.öğrenci: Ali\n",
      "Mühendislik fakültesi 2.öğrenci: Veli\n",
      "Mühendislik fakültesi 3.öğrenci: Ayşe\n",
      "Tıp fakültesi 1.öğrenci: Talat\n",
      "Tıp fakültesi 2.öğrenci: Zeynep\n",
      "Tıp fakültesi 3.öğrenci: Ece\n"
     ]
    }
   ],
   "source": [
    "ogrenciler = [\"Ali\",\"Veli\",\"Ayşe\",\"Talat\",\"Zeynep\",\"Ece\"]\n",
    "\n",
    "for index,ogrenci in enumerate(ogrenciler,1):\n",
    "    if index<=3:\n",
    "        print(f'Mühendislik fakültesi {index}.öğrenci: {ogrenci}')\n",
    "    else:\n",
    "        print(f'Tıp fakültesi {index-3}.öğrenci: {ogrenci}')"
   ]
  },
  {
   "cell_type": "markdown",
   "id": "6d368f62-bb0a-4b89-bd8d-8aa5e6e08926",
   "metadata": {},
   "source": [
    "<span style=\"color: blue; font-weight: bold;\">GÖREV7:</span> Aşağıda 3 adet liste verilmiştir. Listelerde sırası ile bir dersin kodu,kredisi ve kontenjan bilgileri yer almaktadır. Zip kullanarak ders bilgilerini bastırınız.\n",
    "Beklenen çıktı\n",
    "\n",
    "Kredisi 3 olan CMP1005 kodlu dersin kontenjanı 30 kişidir.\n",
    "\n",
    "Kredisi 4 olan PSY1001 kodlu dersin kontenjanı 75 kişidir.\n",
    "\n"
   ]
  },
  {
   "cell_type": "code",
   "execution_count": 46,
   "id": "917fdcd7-d6c0-49cb-8b7f-d5ae1321437f",
   "metadata": {},
   "outputs": [
    {
     "name": "stdout",
     "output_type": "stream",
     "text": [
      "[(3, 'CMP1005', 30), (4, 'PSY1001', 75), (2, 'HUK1005', 150), (4, 'SEN2204', 25)]\n",
      "Kredisi 3 olan CMP1005 kodlu dersin kontenjanı 30\n",
      "Kredisi 4 olan PSY1001 kodlu dersin kontenjanı 75\n",
      "Kredisi 2 olan HUK1005 kodlu dersin kontenjanı 150\n",
      "Kredisi 4 olan SEN2204 kodlu dersin kontenjanı 25\n"
     ]
    }
   ],
   "source": [
    "ders_kodu = [\"CMP1005\",\"PSY1001\",\"HUK1005\",\"SEN2204\"]\n",
    "kredi = [3,4,2,4]\n",
    "kontenjan = [30,75,150,25]\n",
    "zip_list = list(zip(kredi,ders_kodu, kontenjan))\n",
    "print(zip_list)\n",
    "\n",
    "for i in zip_list:\n",
    "    print(f'Kredisi {i[0]} olan {i[1]} kodlu dersin kontenjanı {i[2]}')\n",
    "\n",
    "#2.yol\n",
    "for dk, krd, k in zip(kredi,ders_kodu, kontenjan):\n",
    "    print(f\"Kredisi {krd} olan {dk} kodlu dersin kontenjanı {k} kişidir.\")"
   ]
  },
  {
   "cell_type": "markdown",
   "id": "56d31077-9d2a-48c6-8a7c-89e3e4e18ccd",
   "metadata": {},
   "source": [
    "<span style=\"color: blue; font-weight: bold;\">GÖREV8:</span> Aşağıda 2 adet set verilmiştir.\n",
    "Sizden istenilen eğer 1. küme 2. kümeyi kapsiyor ise ortak elemanlarını\n",
    "eğer kapsamıyor ise 2. kümenin 1. kümeden farkını yazdıracak fonksiyonu\n",
    "tanımlamanız beklenmektedir.\n",
    "Beklenen çıktı:\n",
    "\n",
    "{'function','qcut','miuul','lambda'}"
   ]
  },
  {
   "cell_type": "code",
   "execution_count": 63,
   "id": "92324d9c-3837-465a-82e7-a6a88ea7854b",
   "metadata": {},
   "outputs": [
    {
     "name": "stdout",
     "output_type": "stream",
     "text": [
      "{'qcut', 'miuul', 'function', 'lambda'}\n"
     ]
    }
   ],
   "source": [
    "kume1 = set([\"data\", \"python\"])\n",
    "kume2 = set([\"data\", \"function\", \"qcut\", \"lambda\", \"python\", \"miuul\"])\n",
    "\n",
    "def kume(set1, set2):\n",
    "    if set1.issuperset(set2):\n",
    "        print(set1 & set2)\n",
    "    else:\n",
    "        print(set2 - set1)\n",
    "\n",
    "kume(kume1, kume2)"
   ]
  },
  {
   "cell_type": "code",
   "execution_count": null,
   "id": "66e0fe09-9722-4e7a-a4a2-8ab9403cd7cd",
   "metadata": {},
   "outputs": [],
   "source": []
  }
 ],
 "metadata": {
  "kernelspec": {
   "display_name": "Python [conda env:base] *",
   "language": "python",
   "name": "conda-base-py"
  },
  "language_info": {
   "codemirror_mode": {
    "name": "ipython",
    "version": 3
   },
   "file_extension": ".py",
   "mimetype": "text/x-python",
   "name": "python",
   "nbconvert_exporter": "python",
   "pygments_lexer": "ipython3",
   "version": "3.12.7"
  }
 },
 "nbformat": 4,
 "nbformat_minor": 5
}
