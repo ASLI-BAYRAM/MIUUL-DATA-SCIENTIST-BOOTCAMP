{
 "cells": [
  {
   "cell_type": "markdown",
   "id": "0bbbbab5-eb00-43f1-bd9e-68deb793aad6",
   "metadata": {},
   "source": [
    " <h1 style=\"text-align: center; color: RED\">COMPREHENSIONS</h1> \n",
    "\n",
    "Birden satır ve kod ile yapılabilecek işlemleri kolayca istediğimiz çıktı ve veri yapısına göre tek bir satırda gerçekleştirme imkanı sağlayan yapılardır."
   ]
  },
  {
   "cell_type": "markdown",
   "id": "01f3b32e-0290-4730-9521-ddd413e4e7a3",
   "metadata": {},
   "source": [
    "<span style=\"color: blue; font-weight: bold;\">List Comprehension:</span>\n",
    "[ ] bu yapının içerisine döngü, if else yapıları, fonksiyonlar vb. matematiksel işlemler yerleştirilerek buradan çıkacak sonucun tek bir liste halinde tutulması sağlanır"
   ]
  },
  {
   "cell_type": "code",
   "execution_count": 10,
   "id": "18cab2f5-95dd-4cf2-9f89-40414cad56c1",
   "metadata": {},
   "outputs": [
    {
     "name": "stdout",
     "output_type": "stream",
     "text": [
      "[1200.0, 2400.0, 3600.0, 4800.0, 6000.0]\n",
      "[2400.0, 4800.0, 7200.0, 4800.0, 6000.0]\n"
     ]
    }
   ],
   "source": [
    "# Klasik yol\n",
    "salaries = [1000, 2000, 3000, 4000, 5000]\n",
    "def new_salary(x):\n",
    "    return x * 20/100 + x\n",
    "#zam yaptığımız maaşları yeni bir listede saklamak isityoruz.\n",
    "\n",
    "null_list = []\n",
    "for salary in salaries:\n",
    "    null_list.append(new_salary(salary))\n",
    "print(null_list)\n",
    "\n",
    "null_list2 = []\n",
    "\n",
    "for salary in salaries:\n",
    "    if salary > 3000:\n",
    "        null_list2.append(new_salary(salary))\n",
    "    else:\n",
    "        null_list2.append(new_salary(salary*2))\n",
    "print(null_list2)"
   ]
  },
  {
   "cell_type": "code",
   "execution_count": 12,
   "id": "a20fceb6-dba8-4493-b293-6e7f38e6e645",
   "metadata": {},
   "outputs": [
    {
     "data": {
      "text/plain": [
       "[2400.0, 4800.0, 7200.0, 4800.0, 6000.0]"
      ]
     },
     "execution_count": 12,
     "metadata": {},
     "output_type": "execute_result"
    }
   ],
   "source": [
    "#Yukarıdaki işlemleri List Comprehension ile yapma\n",
    "[new_salary(salary) if salary > 3000 else new_salary(salary*2) for salary in salaries]#tek satırda yazdık"
   ]
  },
  {
   "cell_type": "code",
   "execution_count": 16,
   "id": "80ae92b4-0711-4f6f-903b-c81808c79900",
   "metadata": {},
   "outputs": [
    {
     "data": {
      "text/plain": [
       "[2000, 4000, 6000, 8000, 10000]"
      ]
     },
     "execution_count": 16,
     "metadata": {},
     "output_type": "execute_result"
    }
   ],
   "source": [
    "salaries = [1000, 2000, 3000, 4000, 5000]\n",
    "[salary*2 for salary in salaries]"
   ]
  },
  {
   "cell_type": "code",
   "execution_count": 20,
   "id": "b7e788d1-9973-4aa2-a35a-2df681a15015",
   "metadata": {},
   "outputs": [
    {
     "data": {
      "text/plain": [
       "[2000, 4000]"
      ]
     },
     "execution_count": 20,
     "metadata": {},
     "output_type": "execute_result"
    }
   ],
   "source": [
    "[salary *2 for salary in salaries if salary < 3000]#maaşı 3000 den küçük olanları çarptı\n",
    "# eğer if else yapısnı birklikte kullanmıyorsak if yapısı en sağa yazılır"
   ]
  },
  {
   "cell_type": "code",
   "execution_count": 22,
   "id": "807ed44d-f14f-45a8-a5dd-8f8aa78a53a8",
   "metadata": {},
   "outputs": [
    {
     "data": {
      "text/plain": [
       "[2000, 4000, 0, 0, 0]"
      ]
     },
     "execution_count": 22,
     "metadata": {},
     "output_type": "execute_result"
    }
   ],
   "source": [
    "[salary *2 if salary <3000 else salary*0 for salary in salaries]"
   ]
  },
  {
   "cell_type": "code",
   "execution_count": 24,
   "id": "9802722d-5c17-42b2-9976-6ef82056dcc5",
   "metadata": {},
   "outputs": [
    {
     "data": {
      "text/plain": [
       "[240.0, 480.0, 720.0, 9600.0, 12000.0]"
      ]
     },
     "execution_count": 24,
     "metadata": {},
     "output_type": "execute_result"
    }
   ],
   "source": [
    "salaries = [1000, 2000, 3000, 4000, 5000]\n",
    "def new_salary(x):\n",
    "    return x * 20/100 + x\n",
    "[new_salary(salary*2) if salary > 3000 else new_salary(salary*0.2) for salary in salaries]#fonk ile kullanımı"
   ]
  },
  {
   "cell_type": "markdown",
   "id": "37d86680-a133-44cc-93cb-c99d9daa8e8e",
   "metadata": {},
   "source": [
    "**Elimizde iki liste var yapmak istediğim şey students_no listesinde bulunan öğrencilerin harflerini küçük o listede olmayanları  büyük harfle yazdırmak**"
   ]
  },
  {
   "cell_type": "code",
   "execution_count": 28,
   "id": "3d8015cf-414f-4fe0-acd5-9dca40b1333b",
   "metadata": {},
   "outputs": [
    {
     "name": "stdout",
     "output_type": "stream",
     "text": [
      "['john', 'MARK', 'venassa', 'MARIAM']\n"
     ]
    }
   ],
   "source": [
    "students = ['John', 'Mark', 'Venassa', 'Mariam']\n",
    "students_no = ['John', 'Venassa']\n",
    "print([student.lower() if student in students_no else student.upper() for student in students ])"
   ]
  },
  {
   "cell_type": "markdown",
   "id": "4d856da7-d276-47a0-9ce7-19e79091f7fa",
   "metadata": {},
   "source": [
    "<span style=\"color: blue; font-weight: bold;\">Dict Comprehension:</span>\n",
    "\n",
    "Karmaşık olarak kabul edilebilecek ve birden fazla satırda ifade edilmesi gerekebilecek olan işlemleri tek satırda ifade etmeyi sağlar."
   ]
  },
  {
   "cell_type": "code",
   "execution_count": 34,
   "id": "de2665dd-a680-4b56-b9e1-246606c808a4",
   "metadata": {},
   "outputs": [
    {
     "data": {
      "text/plain": [
       "{'a': 1, 'b': 4, 'c': 9, 'd': 16}"
      ]
     },
     "execution_count": 34,
     "metadata": {},
     "output_type": "execute_result"
    }
   ],
   "source": [
    "dictionary = {'a':1,'b':2,'c':3,'d':4}\n",
    "\n",
    "{key: value **2 for key, value in dictionary.items()}# her bir value değerin karesini almayı tek satırda yaptık\n"
   ]
  },
  {
   "cell_type": "code",
   "execution_count": 36,
   "id": "ad90556d-678e-4c77-b89e-696735c266e1",
   "metadata": {},
   "outputs": [
    {
     "data": {
      "text/plain": [
       "{'A': 1, 'B': 2, 'C': 3, 'D': 4}"
      ]
     },
     "execution_count": 36,
     "metadata": {},
     "output_type": "execute_result"
    }
   ],
   "source": [
    "dictionary = {'a':1,'b':2,'c':3,'d':4}\n",
    "\n",
    "{key.upper(): value  for key, value in dictionary.items()}"
   ]
  },
  {
   "cell_type": "code",
   "execution_count": 38,
   "id": "4d72fe94-29c4-4db6-889f-709fa5584815",
   "metadata": {},
   "outputs": [
    {
     "data": {
      "text/plain": [
       "{'A': 1, 'B': 4, 'C': 9, 'D': 16}"
      ]
     },
     "execution_count": 38,
     "metadata": {},
     "output_type": "execute_result"
    }
   ],
   "source": [
    "dictionary = {'a':1,'b':2,'c':3,'d':4}\n",
    "\n",
    "{key.upper(): value**2  for key, value in dictionary.items()}"
   ]
  },
  {
   "cell_type": "markdown",
   "id": "67501e01-b1e4-47b0-b815-eb41d8bc1042",
   "metadata": {},
   "source": [
    "<span style=\"color: blue; font-weight: bold;\">Uygulama - Mülakat Sorusu Dict Comprehensions:</span>\n",
    "\n",
    "**Amaç:** Listedeki çift sayıların karesi alınarak bir sözlüğe eklenmek istenmektedir."
   ]
  },
  {
   "cell_type": "code",
   "execution_count": 65,
   "id": "dc64a228-352c-4e46-ba70-e924dc346a1f",
   "metadata": {},
   "outputs": [
    {
     "name": "stdout",
     "output_type": "stream",
     "text": [
      "{0: 0, 2: 4, 4: 16, 6: 36, 8: 64}\n"
     ]
    }
   ],
   "source": [
    "#Klasik Yöntem\n",
    "numbers = range(10)#0-10 arasında rastgele sayı ürettik\n",
    "new_dict = {}\n",
    "\n",
    "for n in numbers:\n",
    "    if n % 2 == 0:\n",
    "        new_dict[n] = n**2\n",
    "print(new_dict)"
   ]
  },
  {
   "cell_type": "code",
   "execution_count": 67,
   "id": "8dc90344-67e0-47f3-8f09-99de5c6507e1",
   "metadata": {},
   "outputs": [
    {
     "data": {
      "text/plain": [
       "{0: 0, 2: 4, 4: 16, 6: 36, 8: 64}"
      ]
     },
     "execution_count": 67,
     "metadata": {},
     "output_type": "execute_result"
    }
   ],
   "source": [
    "#Dict Coprehension Yöntemi\n",
    "{n:n**2 for n in numbers if n % 2==0}"
   ]
  },
  {
   "cell_type": "code",
   "execution_count": 59,
   "id": "081bc3ad-0fd7-4df5-b0d6-c4fc44a5f564",
   "metadata": {},
   "outputs": [
    {
     "data": {
      "text/plain": [
       "{0: 0, 2: 4, 4: 16, 6: 36, 8: 64}"
      ]
     },
     "execution_count": 59,
     "metadata": {},
     "output_type": "execute_result"
    }
   ],
   "source": [
    "{col:col**2 for col in numbers if col%2==0}"
   ]
  },
  {
   "cell_type": "markdown",
   "id": "2e3df77f-0dbd-48d1-941f-984d4b55018e",
   "metadata": {},
   "source": [
    "<span style=\"color: blue; font-weight: bold;\">List & Dict Comprehensions Uygulamaları - 1</span>\n",
    "\n",
    "**Uygulama-1:** Bir veri setindeki değişken isimlerini değiştirmek"
   ]
  },
  {
   "cell_type": "code",
   "execution_count": 95,
   "id": "0e0d8365-1baa-41e6-ac32-3e207601ec84",
   "metadata": {},
   "outputs": [
    {
     "name": "stdout",
     "output_type": "stream",
     "text": [
      "Index(['TOTAL', 'SPEEDING', 'ALCOHOL', 'NOT_DISTRACTED', 'NO_PREVIOUS',\n",
      "       'INS_PREMIUM', 'INS_LOSSES', 'ABBREV'],\n",
      "      dtype='object')\n"
     ]
    }
   ],
   "source": [
    "import seaborn as sns\n",
    "df = sns.load_dataset('car_crashes')# bu kısımlar ileriki konular\n",
    "df.columns = [col.upper() for col in df.columns]# değişken isimlerde gezdik ve her değişken ismini büyüttük\n",
    "print(df.columns)"
   ]
  },
  {
   "cell_type": "code",
   "execution_count": null,
   "id": "8256ba92-dc08-4905-9285-6c2b388ba6ae",
   "metadata": {},
   "outputs": [],
   "source": []
  },
  {
   "cell_type": "markdown",
   "id": "164e93ca-7149-4931-898a-5a3db574f8a1",
   "metadata": {},
   "source": [
    "**Uygulama-2:** İsminde 'INS' olanların başında FLAG diğerlerine NO_FLAG eklemek."
   ]
  },
  {
   "cell_type": "code",
   "execution_count": 97,
   "id": "4f5b525d-4a29-4a27-b509-408d45184970",
   "metadata": {},
   "outputs": [
    {
     "name": "stdout",
     "output_type": "stream",
     "text": [
      "Index(['NO_FLAG_TOTAL', 'NO_FLAG_SPEEDING', 'NO_FLAG_ALCOHOL',\n",
      "       'NO_FLAG_NOT_DISTRACTED', 'NO_FLAG_NO_PREVIOUS', 'FLAG_INS_PREMIUM',\n",
      "       'FLAG_INS_LOSSES', 'NO_FLAG_ABBREV'],\n",
      "      dtype='object')\n"
     ]
    }
   ],
   "source": [
    "df.columns = ['FLAG_'+ col if 'INS' in col else 'NO_FLAG_'+ col for col in df.columns]# değişken isimlerde gezdik ve her değişken ismini büyüttük\n",
    "print(df.columns)"
   ]
  },
  {
   "cell_type": "markdown",
   "id": "8e1a00ad-fd20-4580-87df-cd483dfad984",
   "metadata": {},
   "source": [
    "**Uygulama-3:** Amaç key'i string, value'su aşağıdaki gibi olan bir sözlük oluşturmak.Fakat bu işlemi sadece sayısal değişkenler için yapacaz.\n",
    "\n",
    "{'total': ['mean', 'min', 'max', 'var'],\n",
    "\n",
    "'speeding': ['mean', 'min', 'max', 'var'],}"
   ]
  },
  {
   "cell_type": "code",
   "execution_count": 136,
   "id": "27d784e8-8b5a-42bd-ae8e-836e38dd9bd6",
   "metadata": {},
   "outputs": [],
   "source": [
    "import seaborn as sns\n",
    "df = sns.load_dataset('car_crashes')# bu kısımlar ileriki konular\n",
    "liste = ['mean', 'min', 'max', 'var']\n",
    "new_dict = {col:liste for col in df.columns if df[col].dtype != 'O' }\n",
    "\n",
    "#df[col] ile değişkenin kendisin eulaştı. dtpe ile tipini sorguladık\n",
    "#df[col].dtype != 'O' tipi object olanlrın dışındakiler yani int float değerleri secer"
   ]
  },
  {
   "cell_type": "code",
   "execution_count": null,
   "id": "39e3ac07-5dcd-42b8-b4f7-febf3873627e",
   "metadata": {},
   "outputs": [],
   "source": []
  }
 ],
 "metadata": {
  "kernelspec": {
   "display_name": "Python [conda env:base] *",
   "language": "python",
   "name": "conda-base-py"
  },
  "language_info": {
   "codemirror_mode": {
    "name": "ipython",
    "version": 3
   },
   "file_extension": ".py",
   "mimetype": "text/x-python",
   "name": "python",
   "nbconvert_exporter": "python",
   "pygments_lexer": "ipython3",
   "version": "3.12.7"
  }
 },
 "nbformat": 4,
 "nbformat_minor": 5
}
