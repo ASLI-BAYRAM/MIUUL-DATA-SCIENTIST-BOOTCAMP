{
 "cells": [
  {
   "cell_type": "markdown",
   "id": "aa0eb1b6-60eb-42ea-b499-f117e5bccfe4",
   "metadata": {},
   "source": [
    " <h1 style=\"text-align: center; color: RED\">KOŞULLAR(CONDITIONS)</h1> \n",
    "\n",
    "Koşullar, bir program yazımı esnasında akış kontrolu sağlayan ve programların belirli kurallara göre ya da belirli koşullara göre nasıl hareket etmesi gerektiğini kullanıcılar tarafından programlara bildirme imkanı sağlayan yapılardır. Örneğin şu koşul sağlanıyorsa şunu yap sağlanmıyorsa bunu yap şeklinde akışlar tasarlamayı sağlar.\n",
    "\n",
    "Mantıksal Operatöler,\n",
    "* 1 == 1: eşittir\n",
    "* 1 != 2: eşit değildir\n",
    "* 3 > 1: büyüktür\n",
    "* 4 < 5: küçüktür\n",
    "* 4 >= 3:büyük eşittir\n",
    "* 4 <= 5: küçük eşittir\n",
    "\n"
   ]
  },
  {
   "cell_type": "markdown",
   "id": "ea6eac8f-9f96-4fd7-be7b-8446f3ebfc26",
   "metadata": {},
   "source": [
    "<span style=\"color: blue; font-weight: bold;\">IF YAPISI:</span>\n",
    "\n",
    "if <koşul>:\n",
    "\n",
    "    yapılacak eylem   "
   ]
  },
  {
   "cell_type": "code",
   "execution_count": 9,
   "id": "df5efd7f-d802-4ce7-a9df-ca7b12fd89e9",
   "metadata": {},
   "outputs": [
    {
     "name": "stdout",
     "output_type": "stream",
     "text": [
      "something\n"
     ]
    }
   ],
   "source": [
    "if 1 == 1 : #buraya çıktısı True ya da False olabilecek bir sorgulama işlemi göster.\n",
    "    print('something')# if yapısından gelecek olan yanıta göre burdaki işlem yapılır"
   ]
  },
  {
   "cell_type": "code",
   "execution_count": 14,
   "id": "436221bb-1744-4b71-ba5e-61eb4b66d912",
   "metadata": {},
   "outputs": [],
   "source": [
    "if 1 == 2:# bu kısımda gelen cevap false oldugu için ekrana birşey yazdırmayacak.\n",
    "    print('something')"
   ]
  },
  {
   "cell_type": "code",
   "execution_count": 16,
   "id": "0952cf4e-c1f7-499a-96c6-1e9c0371b37c",
   "metadata": {},
   "outputs": [],
   "source": [
    "number = 11\n",
    "if number == 10:\n",
    "    print('number is 10') #if kısmı true olamdıgından dıolayı bu kısım calışmadı"
   ]
  },
  {
   "cell_type": "code",
   "execution_count": 18,
   "id": "f7b5a2d8-2cef-42c5-9827-15f918b56fdd",
   "metadata": {},
   "outputs": [
    {
     "name": "stdout",
     "output_type": "stream",
     "text": [
      "number is 10\n"
     ]
    }
   ],
   "source": [
    "number = 10\n",
    "if number == 10:\n",
    "    print('number is 10') #koşul sağlandıı için ekrana bu kısmı yazar"
   ]
  },
  {
   "cell_type": "markdown",
   "id": "1721b3a3-1076-49bf-b397-8dc7b1c81cbb",
   "metadata": {},
   "source": [
    "Yukarıda yaptığımız işlem kendini tekrar etmeye başladı. Tekrar eden durumlarda fonksiyon yazmayı hatırla!!!!"
   ]
  },
  {
   "cell_type": "code",
   "execution_count": 23,
   "id": "a3110f03-f075-43b5-b527-c6e46d17daca",
   "metadata": {},
   "outputs": [
    {
     "name": "stdout",
     "output_type": "stream",
     "text": [
      "number is 10\n"
     ]
    }
   ],
   "source": [
    "def number_check(number):    \n",
    "    if number == 10:\n",
    "        print('number is 10')\n",
    "number_check(10)\n",
    "number_check(5)# bı kısımda false oldugu için ekrana birşey yazdırmaz."
   ]
  },
  {
   "cell_type": "markdown",
   "id": "cbbf4716-7ab3-4139-8157-c7d232a36138",
   "metadata": {},
   "source": [
    "<span style=\"color: blue; font-weight: bold;\">ELSE YAPISI:</span>\n",
    "\n",
    "if <koşul>:\n",
    "\n",
    "    yapılacak eylem \n",
    "\n",
    "else:\n",
    "\n",
    "    yapılacak eylem \n",
    "\n",
    "Bu yapıda şöyle düşünebiliriz:Eğer meyve elmaya ise ekrana elma yazdır, meyve elma değilse ekrana bu meyve elma değil yazdır gibi. Yani if koşulu sağlanmadığı takdirde ne yapacak soruna cevap vermiş oluruz.\n",
    "    "
   ]
  },
  {
   "cell_type": "code",
   "execution_count": 28,
   "id": "f44d6749-55fe-464a-b0b4-b842fc819521",
   "metadata": {},
   "outputs": [
    {
     "name": "stdout",
     "output_type": "stream",
     "text": [
      "number is 10\n",
      "number is not 10\n"
     ]
    }
   ],
   "source": [
    "def number_check(number):    \n",
    "    if number == 10:\n",
    "        print('number is 10')\n",
    "    else:#bu kısma herhangi bir koşul girmiyoruz if yapısından gelen koşula göre harket eder.\n",
    "        print('number is not 10')\n",
    "number_check(10)#koşul false olduğu için if bloğu çalışacak çünkü \n",
    "number_check(5)# koşul false olduğu için else blogu çalışacak"
   ]
  },
  {
   "cell_type": "markdown",
   "id": "40128072-adaa-41b0-ba0a-62cbcfb544de",
   "metadata": {},
   "source": [
    "<span style=\"color: blue; font-weight: bold;\">ELİF YAPISI:</span>\n",
    "\n",
    "if <koşul>:\n",
    "\n",
    "    yapılacak eylem \n",
    "\n",
    "elif <koşul>:\n",
    "\n",
    "    yapılacak eylem\n",
    "\n",
    "else:\n",
    "\n",
    "    yapılacak eylem \n",
    "Bu yapıda birden fazla koşul söz konusu"
   ]
  },
  {
   "cell_type": "code",
   "execution_count": 32,
   "id": "ff7689d3-9fe6-44bf-9a8e-a75267a6763b",
   "metadata": {},
   "outputs": [
    {
     "name": "stdout",
     "output_type": "stream",
     "text": [
      "equal 10\n",
      "less than 10\n",
      "greater than 10\n"
     ]
    }
   ],
   "source": [
    "def number_check(number):    \n",
    "    if number > 10: # eğer girilen sayı 10 dan büyükse bu koşul çalışacak\n",
    "        print('greater than 10')\n",
    "    elif number < 10 : # sayı 10 dan küçükse elif bloğu çalışacak\n",
    "        print('less than 10')\n",
    "    else:# if ve elif koşulu dısında kalan durumlar ise else bloğu altında çalışacak\n",
    "        print('equal 10')\n",
    "number_check(10) #else\n",
    "number_check(5) # elif\n",
    "number_check(12) # if"
   ]
  },
  {
   "cell_type": "markdown",
   "id": "6b1a9bc7-cd40-49b9-bfe0-f52945cfe00f",
   "metadata": {},
   "source": [
    " <h1 style=\"text-align: center; color: RED\">DÖNGÜLER(LOOPS)</h1> \n",
    "\n",
    "Elimizde bir liste olduğunu düşünelim ve bu listenin elemanlarına erişmek istiyoruz. liste[0], liste[1] gibi indexlerini yazarak erişebiliriz. Fakat bu listenin elemanları binlerce olduğu zaman bu işlemi yapmamız pek mümkün değildir. İşte bu noktada döngüler bize üzerinde iterasyon yapılabilen nesneler üzerinde gezinmeyi ve bu gezinmeler sonucunda yakalanack her bir elemana çeşitli işlemler yapma imkanı sağlar.\n"
   ]
  },
  {
   "cell_type": "markdown",
   "id": "7816f54a-93a1-4881-b244-404adc505342",
   "metadata": {},
   "source": [
    "<span style=\"color: blue; font-weight: bold;\">FOR DÖNGÜSÜ:</span>\n",
    "\n",
    "for <her bir elemanı temsil eden bir isim> in <nerede iterasyon yapılacaksa>:\n",
    "\n",
    "    yapılacak işlem"
   ]
  },
  {
   "cell_type": "code",
   "execution_count": 40,
   "id": "4a059182-862a-46a2-b136-5ffbf14869a8",
   "metadata": {},
   "outputs": [
    {
     "name": "stdout",
     "output_type": "stream",
     "text": [
      "John\n",
      "Mark\n",
      "Venessa\n",
      "Mariam\n"
     ]
    }
   ],
   "source": [
    "students = ['John', 'Mark', 'Venessa', 'Mariam']\n",
    "\n",
    "for student in students:#student liste içerisindeki her bir elemanı temsil eder\n",
    "    print(student)#her bir elemanı tek tek ekrana yazdırır\n",
    "    "
   ]
  },
  {
   "cell_type": "markdown",
   "id": "c3d060b0-9486-4135-af18-6cab3afcfd7d",
   "metadata": {},
   "source": [
    "**Liste içerisindeki string ifadelerin harflerini büyütmek**"
   ]
  },
  {
   "cell_type": "code",
   "execution_count": 45,
   "id": "fade763b-3e10-4a48-a96c-03f4991feb8b",
   "metadata": {},
   "outputs": [
    {
     "name": "stdout",
     "output_type": "stream",
     "text": [
      "JOHN\n",
      "MARK\n",
      "VENESSA\n",
      "MARIAM\n"
     ]
    }
   ],
   "source": [
    "students = ['John', 'Mark', 'Venessa', 'Mariam']\n",
    "\n",
    "for student in students:#students listesinde gez ve her elemanı student ile ifade et\n",
    "    print(student.upper())"
   ]
  },
  {
   "cell_type": "code",
   "execution_count": 47,
   "id": "3f400067-7117-433b-bcf1-3096370b0f9f",
   "metadata": {},
   "outputs": [
    {
     "name": "stdout",
     "output_type": "stream",
     "text": [
      "1000\n",
      "2000\n",
      "3000\n",
      "4000\n",
      "5000\n"
     ]
    }
   ],
   "source": [
    "salaries = [1000, 2000, 3000, 4000, 5000]\n",
    "for salary in salaries:\n",
    "    print(salary)"
   ]
  },
  {
   "cell_type": "code",
   "execution_count": 51,
   "id": "b7e05bf8-f21e-44aa-ba10-3178b7122edf",
   "metadata": {},
   "outputs": [
    {
     "name": "stdout",
     "output_type": "stream",
     "text": [
      "1200\n",
      "2400\n",
      "3600\n",
      "4800\n",
      "6000\n"
     ]
    }
   ],
   "source": [
    "#Listede gezdikten sonra maaşlar %20 zam uygula\n",
    "salaries = [1000, 2000, 3000, 4000, 5000]\n",
    "for salary in salaries:\n",
    "    print(int(salary*0.2 + salary)) #float ifadeden kurtulmak içn int kullandık"
   ]
  },
  {
   "cell_type": "code",
   "execution_count": 53,
   "id": "8f0f4d5c-7488-486c-ae45-0bf1af6ecef9",
   "metadata": {},
   "outputs": [
    {
     "data": {
      "text/plain": [
       "1800"
      ]
     },
     "execution_count": 53,
     "metadata": {},
     "output_type": "execute_result"
    }
   ],
   "source": [
    "#Her zam yaptığımızda yukarıdaki kod tekrar eder. Bunun olmaması için fonksiyon yazarız.\n",
    "#Hem maaşları hemde zam oranlarını biçimlendiren bir fonksiyon yazmalıyız\n",
    "def new_salary(salary,rate ):\n",
    "    return int(salary*rate/100 +  salary)\n",
    "new_salary(1500, 20)"
   ]
  },
  {
   "cell_type": "code",
   "execution_count": 59,
   "id": "21e549e1-75cb-446c-9f9a-33228e5c754c",
   "metadata": {},
   "outputs": [
    {
     "name": "stdout",
     "output_type": "stream",
     "text": [
      "1100\n",
      "2200\n",
      "3300\n",
      "4400\n",
      "5500\n"
     ]
    }
   ],
   "source": [
    "for salary in salaries:# tüm listede gezdik \n",
    "    print(new_salary(salary, 10)) #salary' in ifade ettiği her maaşa zam uyguladı\n",
    "    "
   ]
  },
  {
   "cell_type": "code",
   "execution_count": 61,
   "id": "e03844c7-0aaf-483a-9b25-b8d964d10637",
   "metadata": {},
   "outputs": [
    {
     "name": "stdout",
     "output_type": "stream",
     "text": [
      "12840\n",
      "30000\n",
      "364800\n",
      "48360\n",
      "60240\n"
     ]
    }
   ],
   "source": [
    "salaries2 = [10700, 25000, 304000, 40300, 50200]\n",
    "# genel bir fonkisyon yazdığımız için istediğimiz maaş listesine bunu uygulayabiliriz.\n",
    "for salary in salaries2:\n",
    "    print(new_salary(salary, 20))"
   ]
  },
  {
   "cell_type": "code",
   "execution_count": 63,
   "id": "7999e9d0-ef53-4f04-b267-e0ac00eaeb08",
   "metadata": {},
   "outputs": [
    {
     "name": "stdout",
     "output_type": "stream",
     "text": [
      "1200\n",
      "2400\n",
      "3300\n",
      "4400\n",
      "5500\n"
     ]
    }
   ],
   "source": [
    "#Maaşı 3000 üzeri olanlara farklı bir zam 3000 altında olanlara farklı bir zam uygulayacaz \n",
    "salaries = [1000, 2000, 3000, 4000, 5000]\n",
    "for salary in salaries:\n",
    "    if salary >= 3000:\n",
    "        print(new_salary(salary, 10))#fonksiyonu çağırdık\n",
    "    else:\n",
    "        print(new_salary(salary, 20))"
   ]
  },
  {
   "cell_type": "markdown",
   "id": "ff4e50bb-5424-4d7a-a8ae-86b1972f7c86",
   "metadata": {},
   "source": [
    "<span style=\"color: blue; font-weight: bold;\">UYGULAMA/MÜLAKAT SORUSU:</span>\n",
    "\n",
    "Amaç: Aşağıda belirtilen şekilde string değiştiren fonksiyon yazmak\n",
    "\n",
    "before : hi my name is john and i am learning python\n",
    "\n",
    "after : Hi mY NaMe iS JoHn aNd i aM LeArNiNg pYtHoN\n",
    "\n",
    "**NOT**: Görüldüğü üzere tek indekste bulunan harfler küçük çif indexte bulunanlar ise küçük\n",
    "\n",
    "Range: Bu fonksiyon belirttiğiz aralıkta sayı üretir. Örneği range(0,5) demek 0,1,2,3,4 şeklinde sayı üretmek demek. range(len(text)) burada da sıfırdan başlayarak text'nin uzunluğuna kadar sayı üretir. Bu sayıların herbirini index ile ifade ettik.\n",
    "range(0,3) demek 0. index, 1. index, 2 .index \n"
   ]
  },
  {
   "cell_type": "code",
   "execution_count": 104,
   "id": "e4e63176-68fe-436f-9f4f-0d7ca97dc5d9",
   "metadata": {},
   "outputs": [
    {
     "data": {
      "text/plain": [
       "'Hi mY NaMe iS JoHn aNd i aM LeArNiNg pYtHoN'"
      ]
     },
     "execution_count": 104,
     "metadata": {},
     "output_type": "execute_result"
    }
   ],
   "source": [
    "def alternating(string):#alternating adında fonk. tanımladık\n",
    "    new_string = '' # yaptığımız değişikliği kaydetmek için boş str oluşturduk\n",
    "    for index in range(len(string)):#her indexe ulaşbilmek için girilen txt uzunluğunda döngü olacak\n",
    "        if index % 2 == 0: # eğer index 2 ye tam bölünüyorsa o indexteki harfi büyütecek\n",
    "            new_string += string[index].upper()#harfi büyüt ve yeni new_str ye ekle\n",
    "        else:\n",
    "            new_string += string[index].lower()#eğer index tek ise harfi küçült new_str'ye ekle\n",
    "        \n",
    "    return new_string #boş stringin son halini döndürü.\n",
    "alternating('hi my name is john and i am learning python')"
   ]
  },
  {
   "cell_type": "markdown",
   "id": "2d9a1acb-36c6-424b-ad57-845d70369253",
   "metadata": {},
   "source": [
    "<span style=\"color: blue; font-weight: bold;\">BREAK & CONTINUE & WHILE:</span>\n",
    "\n",
    "While  bir koşul sağlandığı sürece çalışmayı sürdürmeye yarayan ifadedir.\n",
    "Break ve continue bir progam akışı esnasında akışı kesme ya da ilgili şart gözlemlendiğinde o akışa şartı atlayarak devam etmeyi sağlayan yapılardır.\n",
    "\n",
    "Break: Aranan koşul sağlandığında döngüden çıkılmasını sağlar.\n"
   ]
  },
  {
   "cell_type": "code",
   "execution_count": 116,
   "id": "d7084690-de96-4fa7-9b79-aab3833158b7",
   "metadata": {},
   "outputs": [
    {
     "name": "stdout",
     "output_type": "stream",
     "text": [
      "1000\n",
      "2000\n"
     ]
    }
   ],
   "source": [
    "salaries = [1000, 2000, 3000, 4000, 5000]\n",
    "\n",
    "for salary in salaries:\n",
    "    if salary == 3000: # bu koşul sağlandığında döngüden çıkacak\n",
    "        break\n",
    "    print(salary)"
   ]
  },
  {
   "cell_type": "code",
   "execution_count": 126,
   "id": "a4f1960f-c090-438d-9140-479b920666e4",
   "metadata": {},
   "outputs": [
    {
     "name": "stdout",
     "output_type": "stream",
     "text": [
      "1000\n",
      "2000\n",
      "4000\n",
      "5000\n"
     ]
    }
   ],
   "source": [
    "salaries = [1000, 2000, 3000, 4000, 5000]\n",
    "\n",
    "for salary in salaries:\n",
    "    if salary == 3000: # bu koşul sağlandığında bu koşulu atlayıp döngüye devam edecek\n",
    "        continue #koşulu atla, pas geç demek\n",
    "    print(salary)"
   ]
  },
  {
   "cell_type": "code",
   "execution_count": 129,
   "id": "707a00ee-16c2-40e9-b6bc-c8db2db042da",
   "metadata": {},
   "outputs": [
    {
     "name": "stdout",
     "output_type": "stream",
     "text": [
      "1\n",
      "2\n",
      "3\n",
      "4\n"
     ]
    }
   ],
   "source": [
    "number = 1\n",
    "while number < 5:#'dı sürece demektir yani 5 ten küçük oldugu sürece döngü devam eder.\n",
    "  print(number)\n",
    "  number +=1 #her seferin number değerine 1 ekliyoruz."
   ]
  },
  {
   "cell_type": "markdown",
   "id": "e899da96-7748-4b30-8c91-d5b33a9b5a13",
   "metadata": {},
   "source": [
    "<span style=\"color: blue; font-weight: bold;\">ENUMERATE:</span>\n",
    "\n",
    "Otomatik index üretici yada otomatik counter diye geçer. for loop ile kullanılabilen bir yapıdır. Bir iteratif nesne içerisinde gezip o nesnenin elemanlarına işlem yaparken aynı zamanda index bilgilerini takip etmek istediğimiz durumlarda kullanabiliriz. "
   ]
  },
  {
   "cell_type": "code",
   "execution_count": 141,
   "id": "9f54653b-7f16-474b-9f96-c4c550f46d7b",
   "metadata": {},
   "outputs": [
    {
     "name": "stdout",
     "output_type": "stream",
     "text": [
      "1 John\n",
      "2 Mark\n",
      "3 Venassa\n",
      "4 Mariam\n"
     ]
    }
   ],
   "source": [
    "students = ['John', 'Mark', 'Venassa', 'Mariam']\n",
    "\n",
    "for index, student in enumerate(students, 1):#index değerini 1 den başlattık.\n",
    "    print(index, student)"
   ]
  },
  {
   "cell_type": "code",
   "execution_count": 173,
   "id": "d13d5631-8a66-4673-9f16-8c696111de3d",
   "metadata": {},
   "outputs": [
    {
     "name": "stdout",
     "output_type": "stream",
     "text": [
      "['John', 'Venassa']\n",
      "['Mark', 'Mariam']\n"
     ]
    }
   ],
   "source": [
    "#Tek ve cift indexteki isimleri ayrı ayrı listelere ekledik\n",
    "students = ['John', 'Mark', 'Venassa', 'Mariam']\n",
    "tek = []\n",
    "cift = []\n",
    "for index, student in enumerate(students):\n",
    "    if index % 2 == 0:\n",
    "        tek.append(student)\n",
    "    else:\n",
    "        cift.append(student)\n",
    "print(tek)\n",
    "print(cift)\n",
    "\n",
    "        "
   ]
  },
  {
   "cell_type": "markdown",
   "id": "961d2067-5b38-460a-b6af-a955549663a1",
   "metadata": {},
   "source": [
    "<span style=\"color: blue; font-weight: bold;\">UYGULAMA- MÜLAKAT SORUSU</span>\n",
    "\n",
    "divide_students fonksiyonunu yazınız\n",
    "\n",
    "çift indexteki öğrencileri bir listeye tek indexteki öğrencilere bir listeye atınız.\n",
    "\n",
    "Bu iki liste tek bir listede return olsun.\n"
   ]
  },
  {
   "cell_type": "code",
   "execution_count": 180,
   "id": "ddc8a099-db63-40a1-aa5a-3ef076ff1ba1",
   "metadata": {},
   "outputs": [
    {
     "data": {
      "text/plain": [
       "[['John', 'Venassa'], ['Mark', 'Mariam']]"
      ]
     },
     "execution_count": 180,
     "metadata": {},
     "output_type": "execute_result"
    }
   ],
   "source": [
    "def divide_students(students):\n",
    "    groups = [[],[]]\n",
    "    for index, student in enumerate(students):\n",
    "        if index % 2 == 0 :\n",
    "            groups[0].append(student)\n",
    "        else:\n",
    "            groups[1].append(student)\n",
    "    return groups\n",
    "st = divide_students(['John', 'Mark', 'Venassa', 'Mariam'])  #çıktıyı saklamak istersek diye atama yaptık\n",
    "            "
   ]
  },
  {
   "cell_type": "markdown",
   "id": "d14575f3-a90e-4ebf-ba89-be4638c3b952",
   "metadata": {},
   "source": [
    "<span style=\"color: blue; font-weight: bold;\">Alternating Fonksiyonunun Enumerate ile Yazılması</span>\n",
    "\n",
    "Öyle bir fonksiyon yazmalıyız ki çift indexlerdeki karakterleri büyültsün, tek indexteki karakterleri küçültsün."
   ]
  },
  {
   "cell_type": "code",
   "execution_count": 193,
   "id": "426eef8f-3f60-467b-ae79-4b30fff942e2",
   "metadata": {},
   "outputs": [
    {
     "data": {
      "text/plain": [
       "'Hi mY NaMe iS JoHn aNd i aM LeArNiNg pYtHoN'"
      ]
     },
     "execution_count": 193,
     "metadata": {},
     "output_type": "execute_result"
    }
   ],
   "source": [
    "def alternating(strings):#alternating adında fonk. tanımladık\n",
    "    new_string = '' # yaptığımız değişikliği kaydetmek için boş str oluşturduk\n",
    "    for index,string in enumerate(strings):\n",
    "        if index % 2 == 0: \n",
    "            new_string += string.upper()\n",
    "        else:\n",
    "            new_string +=string.lower()\n",
    "        \n",
    "    return new_string #boş stringin son halini döndürü.\n",
    "alternating('hi my name is john and i am learning python')"
   ]
  },
  {
   "cell_type": "markdown",
   "id": "fad1d234-c3bc-4ca0-b3d7-f2eb753a8efc",
   "metadata": {},
   "source": [
    "<span style=\"color: blue; font-weight: bold;\">ZIP FONKSİYONU</span>\n",
    "\n",
    "zip(), birden fazla diziyi (list, tuple, vb.) elemanlarına göre eşleştirerek birleştiren bir yerleşik Python fonksiyonudur.Aynı uzunluktaki listelerde elemanları indeks bazında birleştirir."
   ]
  },
  {
   "cell_type": "code",
   "execution_count": 201,
   "id": "1eb743c6-a94a-48ab-a9da-f45f76a84228",
   "metadata": {},
   "outputs": [
    {
     "name": "stdout",
     "output_type": "stream",
     "text": [
      "[('John', 'matematik', 23), ('Mark', 'istatistik', 30), ('Venessa', 'fizik', 26), ('Mariam', 'astronomi', 22)]\n"
     ]
    }
   ],
   "source": [
    "students = ['John', 'Mark', 'Venessa', 'Mariam']\n",
    "departments = ['matematik', 'istatistik', 'fizik', 'astronomi']\n",
    "ages = [23, 30, 26, 22]\n",
    "print(list(zip(students, departments, ages)))"
   ]
  },
  {
   "cell_type": "markdown",
   "id": "10ec0e92-55eb-42e8-8a3a-4b7c6d8db87f",
   "metadata": {},
   "source": [
    "<span style=\"color: blue; font-weight: bold;\">Lambda & Map & Filter & Reduce Fonksiyonları</span>\n",
    "\n",
    "Lambda bir kullan at fonksiyondur. Atama yapılmadan kullanılır."
   ]
  },
  {
   "cell_type": "code",
   "execution_count": 212,
   "id": "a17ad1d6-948f-49fd-8183-9dc8cd5b15fa",
   "metadata": {},
   "outputs": [
    {
     "data": {
      "text/plain": [
       "3"
      ]
     },
     "execution_count": 212,
     "metadata": {},
     "output_type": "execute_result"
    }
   ],
   "source": [
    "sum = lambda a, b : a + b # lambda fonk. için iki tane argüman tanımladık :' dan sonrada fonk. yapacağı işi belirttik\n",
    "sum(1, 2)"
   ]
  },
  {
   "cell_type": "code",
   "execution_count": 221,
   "id": "c24830a5-0dcc-4f45-be29-145b20f40eb8",
   "metadata": {},
   "outputs": [
    {
     "data": {
      "text/plain": [
       "[1200.0, 2400.0, 3600.0, 4800.0, 6000.0]"
      ]
     },
     "execution_count": 221,
     "metadata": {},
     "output_type": "execute_result"
    }
   ],
   "source": [
    "salaries = [1000, 2000, 3000, 4000, 5000]\n",
    "def new_salary(salary):\n",
    "    return salary * 20/100 +salary\n",
    "    \n",
    "\n",
    "list(map(new_salary, salaries)) # döngüye gerek kalamdan map ile yazdık"
   ]
  },
  {
   "cell_type": "code",
   "execution_count": 223,
   "id": "fcdd6e6e-96dc-4a4b-9b1d-ef53905641b0",
   "metadata": {},
   "outputs": [
    {
     "data": {
      "text/plain": [
       "[1200.0, 2400.0, 3600.0, 4800.0, 6000.0]"
      ]
     },
     "execution_count": 223,
     "metadata": {},
     "output_type": "execute_result"
    }
   ],
   "source": [
    "salaries = [1000, 2000, 3000, 4000, 5000]\n",
    "list(map(lambda x : x*20/100 + x, salaries)) #lambda ve map ile fonksiyon yazmaya gerek kalmadan kullandk"
   ]
  },
  {
   "cell_type": "code",
   "execution_count": 225,
   "id": "9d35cccc-42ee-4a72-9ab1-6f0ebd16db9b",
   "metadata": {},
   "outputs": [
    {
     "data": {
      "text/plain": [
       "[10000, 40000, 90000]"
      ]
     },
     "execution_count": 225,
     "metadata": {},
     "output_type": "execute_result"
    }
   ],
   "source": [
    "list(map(lambda x : x**2, [100,200,300]))\n",
    "list(map(lambda x : x**2, salaries))"
   ]
  },
  {
   "cell_type": "code",
   "execution_count": 229,
   "id": "8cb6ebb2-da4f-4ec0-9450-fd508886d02d",
   "metadata": {},
   "outputs": [
    {
     "data": {
      "text/plain": [
       "[2, 4, 6, 8, 10]"
      ]
     },
     "execution_count": 229,
     "metadata": {},
     "output_type": "execute_result"
    }
   ],
   "source": [
    "#filter: filtreleme işlemi yapar\n",
    "list_store = [1,2,3,4,5,6,7,8,9,10]\n",
    "list(filter(lambda x : x % 2 ==0, list_store))#2 ye bölümden kalanları sıfır olanı secer.Döngü yazmaya gerek kalmadı"
   ]
  },
  {
   "cell_type": "code",
   "execution_count": 233,
   "id": "2c4e362d-6a25-4137-bdca-4e831d0c15b6",
   "metadata": {},
   "outputs": [
    {
     "data": {
      "text/plain": [
       "10"
      ]
     },
     "execution_count": 233,
     "metadata": {},
     "output_type": "execute_result"
    }
   ],
   "source": [
    "#reduce : indirgemek demek\n",
    "from functools import reduce\n",
    "list_store = [1,2,3,4]\n",
    "reduce(lambda a, b: a+b,list_store)"
   ]
  }
 ],
 "metadata": {
  "kernelspec": {
   "display_name": "Python [conda env:base] *",
   "language": "python",
   "name": "conda-base-py"
  },
  "language_info": {
   "codemirror_mode": {
    "name": "ipython",
    "version": 3
   },
   "file_extension": ".py",
   "mimetype": "text/x-python",
   "name": "python",
   "nbconvert_exporter": "python",
   "pygments_lexer": "ipython3",
   "version": "3.12.7"
  }
 },
 "nbformat": 4,
 "nbformat_minor": 5
}
