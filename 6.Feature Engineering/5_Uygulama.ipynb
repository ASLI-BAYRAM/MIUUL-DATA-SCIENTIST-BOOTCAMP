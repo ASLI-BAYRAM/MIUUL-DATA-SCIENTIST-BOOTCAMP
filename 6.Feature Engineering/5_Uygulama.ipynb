{
 "cells": [
  {
   "cell_type": "markdown",
   "id": "8ee40391-a2af-4a24-8f77-48dc071837b2",
   "metadata": {},
   "source": [
    "<h1 style=\"text-align: center; color: RED\">Feature Engineering & Data Preprocessing Uygulama</h1>"
   ]
  },
  {
   "cell_type": "markdown",
   "id": "38754678-9dbe-4e5a-baab-35c6c4628866",
   "metadata": {},
   "source": [
    "* Bu kısıma titanic veri setini uçtan uca ele alacaz.Bu veri setinde hedef insanların hayatta kalıp kalmama durmunu modellemektir. Bu kısımda modelleme öncesi gerekli tüm adımları değerlendiricez."
   ]
  },
  {
   "cell_type": "code",
   "execution_count": 4,
   "id": "a29bcb50-e686-4138-abfa-0f8cd337c08f",
   "metadata": {},
   "outputs": [],
   "source": [
    "import numpy as np\n",
    "import pandas as pd\n",
    "import seaborn as sns\n",
    "from matplotlib import pyplot as plt\n",
    "import missingno as msno #eksik değerler için kullanılan bir kütüphane\n",
    "from datetime import date\n",
    "from sklearn.metrics import accuracy_score\n",
    "from sklearn.model_selection import train_test_split\n",
    "from sklearn.neighbors import LocalOutlierFactor\n",
    "from sklearn.preprocessing import MinMaxScaler, LabelEncoder, StandardScaler, RobustScaler\n",
    "\n",
    "#Görsel ayaralama için\n",
    "pd.set_option('display.max_columns', None)\n",
    "pd.set_option('display.max_rows', None)\n",
    "pd.set_option('display.float_format', lambda x: '%.3f' % x)\n",
    "pd.set_option('display.width', 500)"
   ]
  },
  {
   "cell_type": "code",
   "execution_count": 6,
   "id": "251a4658-adfd-4f86-b8b7-eeb0cbf23766",
   "metadata": {},
   "outputs": [],
   "source": [
    "def load():\n",
    "    data = pd.read_csv(\"C:\\\\Users\\\\ASLI\\\\Desktop\\\\Data Scientist Bootcamp\\\\6.Feature Engineering\\\\datasets\\\\titanic.csv\")\n",
    "    return data"
   ]
  },
  {
   "cell_type": "code",
   "execution_count": 8,
   "id": "74cbe907-94c2-41f6-9b3c-4ef35ae17015",
   "metadata": {},
   "outputs": [
    {
     "data": {
      "text/html": [
       "<div>\n",
       "<style scoped>\n",
       "    .dataframe tbody tr th:only-of-type {\n",
       "        vertical-align: middle;\n",
       "    }\n",
       "\n",
       "    .dataframe tbody tr th {\n",
       "        vertical-align: top;\n",
       "    }\n",
       "\n",
       "    .dataframe thead th {\n",
       "        text-align: right;\n",
       "    }\n",
       "</style>\n",
       "<table border=\"1\" class=\"dataframe\">\n",
       "  <thead>\n",
       "    <tr style=\"text-align: right;\">\n",
       "      <th></th>\n",
       "      <th>PassengerId</th>\n",
       "      <th>Survived</th>\n",
       "      <th>Pclass</th>\n",
       "      <th>Name</th>\n",
       "      <th>Sex</th>\n",
       "      <th>Age</th>\n",
       "      <th>SibSp</th>\n",
       "      <th>Parch</th>\n",
       "      <th>Ticket</th>\n",
       "      <th>Fare</th>\n",
       "      <th>Cabin</th>\n",
       "      <th>Embarked</th>\n",
       "    </tr>\n",
       "  </thead>\n",
       "  <tbody>\n",
       "    <tr>\n",
       "      <th>0</th>\n",
       "      <td>1</td>\n",
       "      <td>0</td>\n",
       "      <td>3</td>\n",
       "      <td>Braund, Mr. Owen Harris</td>\n",
       "      <td>male</td>\n",
       "      <td>22.000</td>\n",
       "      <td>1</td>\n",
       "      <td>0</td>\n",
       "      <td>A/5 21171</td>\n",
       "      <td>7.250</td>\n",
       "      <td>NaN</td>\n",
       "      <td>S</td>\n",
       "    </tr>\n",
       "    <tr>\n",
       "      <th>1</th>\n",
       "      <td>2</td>\n",
       "      <td>1</td>\n",
       "      <td>1</td>\n",
       "      <td>Cumings, Mrs. John Bradley (Florence Briggs Th...</td>\n",
       "      <td>female</td>\n",
       "      <td>38.000</td>\n",
       "      <td>1</td>\n",
       "      <td>0</td>\n",
       "      <td>PC 17599</td>\n",
       "      <td>71.283</td>\n",
       "      <td>C85</td>\n",
       "      <td>C</td>\n",
       "    </tr>\n",
       "    <tr>\n",
       "      <th>2</th>\n",
       "      <td>3</td>\n",
       "      <td>1</td>\n",
       "      <td>3</td>\n",
       "      <td>Heikkinen, Miss. Laina</td>\n",
       "      <td>female</td>\n",
       "      <td>26.000</td>\n",
       "      <td>0</td>\n",
       "      <td>0</td>\n",
       "      <td>STON/O2. 3101282</td>\n",
       "      <td>7.925</td>\n",
       "      <td>NaN</td>\n",
       "      <td>S</td>\n",
       "    </tr>\n",
       "    <tr>\n",
       "      <th>3</th>\n",
       "      <td>4</td>\n",
       "      <td>1</td>\n",
       "      <td>1</td>\n",
       "      <td>Futrelle, Mrs. Jacques Heath (Lily May Peel)</td>\n",
       "      <td>female</td>\n",
       "      <td>35.000</td>\n",
       "      <td>1</td>\n",
       "      <td>0</td>\n",
       "      <td>113803</td>\n",
       "      <td>53.100</td>\n",
       "      <td>C123</td>\n",
       "      <td>S</td>\n",
       "    </tr>\n",
       "    <tr>\n",
       "      <th>4</th>\n",
       "      <td>5</td>\n",
       "      <td>0</td>\n",
       "      <td>3</td>\n",
       "      <td>Allen, Mr. William Henry</td>\n",
       "      <td>male</td>\n",
       "      <td>35.000</td>\n",
       "      <td>0</td>\n",
       "      <td>0</td>\n",
       "      <td>373450</td>\n",
       "      <td>8.050</td>\n",
       "      <td>NaN</td>\n",
       "      <td>S</td>\n",
       "    </tr>\n",
       "  </tbody>\n",
       "</table>\n",
       "</div>"
      ],
      "text/plain": [
       "   PassengerId  Survived  Pclass                                               Name     Sex    Age  SibSp  Parch            Ticket   Fare Cabin Embarked\n",
       "0            1         0       3                            Braund, Mr. Owen Harris    male 22.000      1      0         A/5 21171  7.250   NaN        S\n",
       "1            2         1       1  Cumings, Mrs. John Bradley (Florence Briggs Th...  female 38.000      1      0          PC 17599 71.283   C85        C\n",
       "2            3         1       3                             Heikkinen, Miss. Laina  female 26.000      0      0  STON/O2. 3101282  7.925   NaN        S\n",
       "3            4         1       1       Futrelle, Mrs. Jacques Heath (Lily May Peel)  female 35.000      1      0            113803 53.100  C123        S\n",
       "4            5         0       3                           Allen, Mr. William Henry    male 35.000      0      0            373450  8.050   NaN        S"
      ]
     },
     "execution_count": 8,
     "metadata": {},
     "output_type": "execute_result"
    }
   ],
   "source": [
    "df = load()\n",
    "df.head()"
   ]
  },
  {
   "cell_type": "code",
   "execution_count": 10,
   "id": "d3083d3c-21ae-4394-b0ae-87a7efaa1014",
   "metadata": {},
   "outputs": [
    {
     "data": {
      "text/plain": [
       "(891, 12)"
      ]
     },
     "execution_count": 10,
     "metadata": {},
     "output_type": "execute_result"
    }
   ],
   "source": [
    "df.shape"
   ]
  },
  {
   "cell_type": "code",
   "execution_count": 13,
   "id": "f52689e4-b204-4e5b-991b-10c7373f156c",
   "metadata": {},
   "outputs": [],
   "source": [
    "#Değişken isimlerini tek bir formata getirme\n",
    "df.columns = [col.upper() for col in df.columns]"
   ]
  },
  {
   "cell_type": "code",
   "execution_count": 15,
   "id": "4dda1f6d-2a17-4090-aed7-9a5b23c51d5d",
   "metadata": {},
   "outputs": [
    {
     "data": {
      "text/html": [
       "<div>\n",
       "<style scoped>\n",
       "    .dataframe tbody tr th:only-of-type {\n",
       "        vertical-align: middle;\n",
       "    }\n",
       "\n",
       "    .dataframe tbody tr th {\n",
       "        vertical-align: top;\n",
       "    }\n",
       "\n",
       "    .dataframe thead th {\n",
       "        text-align: right;\n",
       "    }\n",
       "</style>\n",
       "<table border=\"1\" class=\"dataframe\">\n",
       "  <thead>\n",
       "    <tr style=\"text-align: right;\">\n",
       "      <th></th>\n",
       "      <th>PASSENGERID</th>\n",
       "      <th>SURVIVED</th>\n",
       "      <th>PCLASS</th>\n",
       "      <th>NAME</th>\n",
       "      <th>SEX</th>\n",
       "      <th>AGE</th>\n",
       "      <th>SIBSP</th>\n",
       "      <th>PARCH</th>\n",
       "      <th>TICKET</th>\n",
       "      <th>FARE</th>\n",
       "      <th>CABIN</th>\n",
       "      <th>EMBARKED</th>\n",
       "    </tr>\n",
       "  </thead>\n",
       "  <tbody>\n",
       "    <tr>\n",
       "      <th>0</th>\n",
       "      <td>1</td>\n",
       "      <td>0</td>\n",
       "      <td>3</td>\n",
       "      <td>Braund, Mr. Owen Harris</td>\n",
       "      <td>male</td>\n",
       "      <td>22.000</td>\n",
       "      <td>1</td>\n",
       "      <td>0</td>\n",
       "      <td>A/5 21171</td>\n",
       "      <td>7.250</td>\n",
       "      <td>NaN</td>\n",
       "      <td>S</td>\n",
       "    </tr>\n",
       "    <tr>\n",
       "      <th>1</th>\n",
       "      <td>2</td>\n",
       "      <td>1</td>\n",
       "      <td>1</td>\n",
       "      <td>Cumings, Mrs. John Bradley (Florence Briggs Th...</td>\n",
       "      <td>female</td>\n",
       "      <td>38.000</td>\n",
       "      <td>1</td>\n",
       "      <td>0</td>\n",
       "      <td>PC 17599</td>\n",
       "      <td>71.283</td>\n",
       "      <td>C85</td>\n",
       "      <td>C</td>\n",
       "    </tr>\n",
       "    <tr>\n",
       "      <th>2</th>\n",
       "      <td>3</td>\n",
       "      <td>1</td>\n",
       "      <td>3</td>\n",
       "      <td>Heikkinen, Miss. Laina</td>\n",
       "      <td>female</td>\n",
       "      <td>26.000</td>\n",
       "      <td>0</td>\n",
       "      <td>0</td>\n",
       "      <td>STON/O2. 3101282</td>\n",
       "      <td>7.925</td>\n",
       "      <td>NaN</td>\n",
       "      <td>S</td>\n",
       "    </tr>\n",
       "    <tr>\n",
       "      <th>3</th>\n",
       "      <td>4</td>\n",
       "      <td>1</td>\n",
       "      <td>1</td>\n",
       "      <td>Futrelle, Mrs. Jacques Heath (Lily May Peel)</td>\n",
       "      <td>female</td>\n",
       "      <td>35.000</td>\n",
       "      <td>1</td>\n",
       "      <td>0</td>\n",
       "      <td>113803</td>\n",
       "      <td>53.100</td>\n",
       "      <td>C123</td>\n",
       "      <td>S</td>\n",
       "    </tr>\n",
       "    <tr>\n",
       "      <th>4</th>\n",
       "      <td>5</td>\n",
       "      <td>0</td>\n",
       "      <td>3</td>\n",
       "      <td>Allen, Mr. William Henry</td>\n",
       "      <td>male</td>\n",
       "      <td>35.000</td>\n",
       "      <td>0</td>\n",
       "      <td>0</td>\n",
       "      <td>373450</td>\n",
       "      <td>8.050</td>\n",
       "      <td>NaN</td>\n",
       "      <td>S</td>\n",
       "    </tr>\n",
       "  </tbody>\n",
       "</table>\n",
       "</div>"
      ],
      "text/plain": [
       "   PASSENGERID  SURVIVED  PCLASS                                               NAME     SEX    AGE  SIBSP  PARCH            TICKET   FARE CABIN EMBARKED\n",
       "0            1         0       3                            Braund, Mr. Owen Harris    male 22.000      1      0         A/5 21171  7.250   NaN        S\n",
       "1            2         1       1  Cumings, Mrs. John Bradley (Florence Briggs Th...  female 38.000      1      0          PC 17599 71.283   C85        C\n",
       "2            3         1       3                             Heikkinen, Miss. Laina  female 26.000      0      0  STON/O2. 3101282  7.925   NaN        S\n",
       "3            4         1       1       Futrelle, Mrs. Jacques Heath (Lily May Peel)  female 35.000      1      0            113803 53.100  C123        S\n",
       "4            5         0       3                           Allen, Mr. William Henry    male 35.000      0      0            373450  8.050   NaN        S"
      ]
     },
     "execution_count": 15,
     "metadata": {},
     "output_type": "execute_result"
    }
   ],
   "source": [
    "df.head()"
   ]
  },
  {
   "cell_type": "markdown",
   "id": "b1fc2ea0-48a0-415f-871a-811eed46d08e",
   "metadata": {},
   "source": [
    "<span style=\"color: blue; font-weight: bold;\">1. ADIM: FEATURE ENGİNEERİNG (DEĞİŞKEN MÜHENDİSLİĞİ)</span>"
   ]
  },
  {
   "cell_type": "code",
   "execution_count": 19,
   "id": "5928cf0d-4923-46e5-a5b8-effa9962360a",
   "metadata": {},
   "outputs": [],
   "source": [
    "#1-CABİN BOOL\n",
    "#\"Kabini olmayan yolcuların hayatta kalma oranı düşük mü?\" gibi analizler yapılabilmek için yeni bir değişken türettik.\n",
    "\n",
    "df[\"NEW_CABIN_BOOL\"] = df[\"CABIN\"].notnull().astype('int')\n",
    "#\"CABIN\" sütunu, yolcuların kabin numarasını içeren bir sütun olabilir. Ancak, bazı yolcuların kabin bilgisi eksik (NaN) olabilir.\n",
    "#Pandas'ta .notnull() metodu, bir sütundaki eksik olmayan (NaN olmayan) değerleri True olarak işaretler.\n",
    "#NaN (boş) olan değerler False döndürür.\n",
    "#.astype('int') Boolean (True/False) değerlerini int (0 veya 1) formatına çevirir.\n",
    "#Böylece, \"CABIN\" sütununda boş olmayan (NaN olmayan) değerler 1, NaN olan değerler 0 olarak saklanır."
   ]
  },
  {
   "cell_type": "code",
   "execution_count": 21,
   "id": "187f49df-1b15-43b6-ab8b-630b07586ca5",
   "metadata": {},
   "outputs": [],
   "source": [
    "#2- NAME COUNT\n",
    "#Bazı veri setlerinde isim uzunluğu ile sosyal statü arasında bir ilişki olabilir.\n",
    "#Örneğin, daha uzun isimler akademik unvanlar içerebilir (Prof., Dr., Miss. gibi).\n",
    "#Titanic veri setinde, uzun isimlerin daha çok soylulara ait olduğu ve hayatta kalma oranlarının farklı olduğu görülmüştür.\n",
    "\n",
    "df[\"NEW_NAME_COUNT\"] = df[\"NAME\"].str.len()\n",
    "#.str: Pandas’ta bir string (metin) işlemleri yapabilmek için kullanılan bir özelliktir.\n",
    "#.len(): String'in uzunluğunu (karakter sayısını) döndürür.\n",
    "#Her bir hücre için .len() çalıştırılır ve isimdeki toplam karakter sayısı hesaplanır."
   ]
  },
  {
   "cell_type": "code",
   "execution_count": 25,
   "id": "88636674-c87f-4820-8985-e67105c09067",
   "metadata": {},
   "outputs": [],
   "source": [
    "# 3-NAME WORD COUNT\n",
    "#Daha fazla kelime içeren isimler unvan (Dr., Prof., Mr., Miss gibi) içerebilir.\n",
    "#Unvanlar, bir kişinin sosyal statüsü veya mesleği hakkında bilgi verebilir. (Örneğin, Titanic veri setinde unvanlar hayatta kalma oranıyla ilişkilendirildi.)\n",
    "#ünvan taşıyan yolcuların hayatta kalma oranını tahmin etmek için kullanılabilir.\n",
    "\n",
    "df[\"NEW_NAME_WORD_COUNT\"] = df[\"NAME\"].apply(lambda x: len(str(x).split(\" \")))\n",
    "#.apply(): Pandas’ta, her bir satırdaki değeri bir fonksiyon yardımıyla işlemek için kullanılır.\n",
    "#str(x) → Değeri String’e Çevirme. Eğer \"NAME\" sütununda NaN (eksik) değerler varsa, str() kullanarak bunları metne çeviriyoruz.\n",
    "#Örneğin, \"Alice Wonderland\" zaten string olduğu için değişmez ama NaN varsa \"nan\" olarak dönüşebilir.\n",
    "#.split(\" \"), metni boşluklardan ayırarak kelimelere böler.\"John Doe\" → [\"John\", \"Doe\"]\n",
    "#len(...) → Liste Uzunluğunu Hesaplama\n"
   ]
  },
  {
   "cell_type": "code",
   "execution_count": 27,
   "id": "511a2ddd-8e23-491a-9ae5-82ed7d2e493e",
   "metadata": {},
   "outputs": [],
   "source": [
    "# 4-NAME DR\n",
    "#\"Dr\" unvanı taşıyan kişilerin davranışları veya tercihleri farklı olabilir.\n",
    "\n",
    "df[\"NEW_NAME_DR\"] = df[\"NAME\"].apply(lambda x: len([x for x in x.split() if x.startswith(\"Dr\")]))\n",
    "#[x for x in x.split() if x.startswith(\"Dr\")]:\n",
    "#List comprehension (liste üreteci) kullanılarak \"Dr\" ile başlayan kelimeler seçilir."
   ]
  },
  {
   "cell_type": "code",
   "execution_count": 31,
   "id": "588f28e3-8abd-437e-9dd3-2be3144b12bf",
   "metadata": {},
   "outputs": [],
   "source": [
    "#5-NAME TİTLE\n",
    "#Unvanlar kişinin cinsiyeti, mesleği veya sosyal statüsü hakkında bilgi verebilir. Bu da veri analizi ve makine öğrenmesi modelleri için önemli olabilir.\n",
    "\n",
    "df['NEW_TITLE'] = df.NAME.str.extract(r' ([A-Za-z]+)\\.', expand=False)\n",
    "#str.extract(' ([A-Za-z]+)\\.') → Regex ile Unvanları Bulma\n",
    "#.str.extract(): Pandas’ın düzenli ifadeler (regex) ile metinden belirli bölümleri çıkarmaya yarayan fonksiyonudur.\n",
    "#' ([A-Za-z]+)\\.': Bu düzenli ifade (regex) ile unvanlar bulunur.\n",
    "#Kod çalıştırıldığında, \"NAME\" sütunundaki \"Dr\" ile başlayan kelime sayısı yeni bir sütuna eklenir.\n",
    "#Ancak expand=False ile çıkarılan değerler direkt olarak tek bir sütun halinde atanır.\n",
    "#Eğer expand=True kullanılsaydı, sonuç DataFrame formatında dönerdi."
   ]
  },
  {
   "cell_type": "code",
   "execution_count": 33,
   "id": "2545bf66-5ab0-45a4-8690-4e55ff944eed",
   "metadata": {},
   "outputs": [],
   "source": [
    "# 6-FAMILY SİZE\n",
    "#Titanicte aile bireylerine göre hayatta kalma oranları yorumlanabilir.\n",
    "#Orta büyüklükteki aileler (2-4 kişi) hayatta kalma şansı daha yüksek olabilir.\n",
    "#Tek başına seyahat edenler (1 kişi) daha düşük hayatta kalma oranına sahip olabilir.\n",
    "#Büyük aileler (5+ kişi) daha düşük hayatta kalma oranına sahip olabilir.\n",
    "\n",
    "df[\"NEW_FAMILY_SIZE\"] = df[\"SIBSP\"] + df[\"PARCH\"] + 1\n",
    "#SIBSP  Kişinin yanında seyahat eden kardeşleri (sibling) ve eşi (spouse) sayısı\n",
    "#PARCH Kişinin yanında seyahat eden ebeveynleri (parent) ve çocukları (children) sayısı\n",
    "#+1 de kişinin kendisi\n",
    "#Bu kod, bir kişinin seyahat ettiği aile büyüklüğünü bulmak için aşağıdaki işlemi yapar"
   ]
  },
  {
   "cell_type": "code",
   "execution_count": 35,
   "id": "1936995f-7f5c-45c9-9db5-165bf1bce905",
   "metadata": {},
   "outputs": [],
   "source": [
    "# 7-AGE-PCLASS\n",
    "# yaş ile bilet sınıfını bir araya getirerek yaşın bilet sınıfı üzerindeki etkisini hesaplamaya çalışır.\n",
    "#1 Sınıfsal Farklılıkları Daha Belirgin Hale Getirmek\n",
    "#3. sınıf yolcular daha genç olabilir mi?\n",
    "#1. sınıf yolcular genellikle daha yaşlı mı?\n",
    "#Hayatta Kalma Oranı Üzerinde Etkisi Olabilir\n",
    "#Sınıfsal farklılıkları ve yaşın etkisini daha iyi analiz etmeye yardımcı olur.\n",
    "df[\"NEW_AGE_PCLASS\"] = df[\"AGE\"] * df[\"PCLASS\"]"
   ]
  },
  {
   "cell_type": "code",
   "execution_count": 37,
   "id": "d5becee8-279e-49f6-b145-30002ca9c07f",
   "metadata": {},
   "outputs": [],
   "source": [
    "# 8-İS ALONE\n",
    "#Kişi gemide tekmi yoksa yanında bir akarabası var mı?\n",
    "#Akrabasının olması hayatta kalmasını etkilemişmidir?\n",
    "df.loc[((df['SIBSP'] + df['PARCH']) > 0), \"NEW_IS_ALONE\"] = \"NO\"\n",
    "df.loc[((df['SIBSP'] + df['PARCH']) == 0), \"NEW_IS_ALONE\"] = \"YES\""
   ]
  },
  {
   "cell_type": "code",
   "execution_count": 39,
   "id": "ccde7345-a63c-470b-818e-f0fbccd68937",
   "metadata": {},
   "outputs": [],
   "source": [
    "# 9-AGE LEVEL\n",
    "#Genç yolcular farklı davranışlar sergileyebilir (daha az hayatta kalma şansı veya farklı seyahat tercihleri olabilir).\n",
    "#Olgun yolcular ve yaşlı yolcular da farklı özellikler gösterebilir (belki daha fazla hayatta kalma şansı).\n",
    "df.loc[(df['AGE'] < 18), 'NEW_AGE_CAT'] = 'young'\n",
    "df.loc[(df['AGE'] >= 18) & (df['AGE'] < 56), 'NEW_AGE_CAT'] = 'mature'\n",
    "df.loc[(df['AGE'] >= 56), 'NEW_AGE_CAT'] = 'senior'\n",
    "#Yeni oluşturulan NEW_AGE_CAT sütunu, young, mature, ve senior gibi yaş gruplarını temsil eder."
   ]
  },
  {
   "cell_type": "code",
   "execution_count": 41,
   "id": "296b2cb0-59b1-4bdd-811c-28360fa92105",
   "metadata": {},
   "outputs": [],
   "source": [
    "# 10-SEX X AGE\n",
    "#yaş (Age) ve cinsiyet (Sex) bilgilerini kullanarak yolcuları daha spesifik kategorilere ayırmak için yazılmıştır.\n",
    "# Yeni oluşturulan NEW_SEX_CAT sütunu, cinsiyet ve yaş kombinasyonuna göre aşağıdaki gibi 6 farklı kategoriyi içerir\n",
    "#Veri analizi ve makine öğrenmesi için yaş ve cinsiyet bilgilerini daha anlamlı gruplara ayırarak yeni bir özellik (feature) yaratmak,\n",
    "#bu değişkenlerin etkisini daha iyi anlayabilmemizi sağlar.\n",
    "#Cinsiyet grupları: Kadınlar ve erkekler arasında, yaşa bağlı olarak farklı yaşam tarzları, seyahat tercihleri veya hayatta kalma oranları olabilir.\n",
    "#Yaş grupları: Yaşın farklı gruplarda nasıl farklı sonuçlar doğurduğu incelenebilir. Örneğin, genç erkeklerin, mature kadınların ve yaşlı bireylerin hayatta kalma oranları farklı olabilir.\n",
    "df.loc[(df['SEX'] == 'male') & (df['AGE'] <= 21), 'NEW_SEX_CAT'] = 'youngmale'\n",
    "df.loc[(df['SEX'] == 'male') & (df['AGE'] > 21) & (df['AGE'] < 50), 'NEW_SEX_CAT'] = 'maturemale'\n",
    "df.loc[(df['SEX'] == 'male') & (df['AGE'] >= 50), 'NEW_SEX_CAT'] = 'seniormale'\n",
    "df.loc[(df['SEX'] == 'female') & (df['AGE'] <= 21), 'NEW_SEX_CAT'] = 'youngfemale'\n",
    "df.loc[(df['SEX'] == 'female') & (df['AGE'] > 21) & (df['AGE'] < 50), 'NEW_SEX_CAT'] = 'maturefemale'\n",
    "df.loc[(df['SEX'] == 'female') & (df['AGE'] >= 50), 'NEW_SEX_CAT'] = 'seniorfemale'"
   ]
  },
  {
   "cell_type": "code",
   "execution_count": 45,
   "id": "488578f9-7539-4f38-8052-3423031c104c",
   "metadata": {},
   "outputs": [
    {
     "data": {
      "text/plain": [
       "(891, 22)"
      ]
     },
     "execution_count": 45,
     "metadata": {},
     "output_type": "execute_result"
    }
   ],
   "source": [
    "df.shape"
   ]
  },
  {
   "cell_type": "code",
   "execution_count": 47,
   "id": "159f655f-e4e3-488a-8eef-2b8b9c309660",
   "metadata": {},
   "outputs": [],
   "source": [
    "def grab_col_names(dataframe, cat_th=10, car_th=20):#parametrelerin ön tanımlı değerlerini burda belirttik\n",
    "\n",
    "    cat_cols = [col for col in dataframe.columns if str(dataframe[col].dtypes) in ['object', 'category', 'bool']]\n",
    "    num_but_cat = [col for col in dataframe.columns if dataframe[col].dtypes in ['int64', 'float64'] and dataframe[col].nunique() < cat_th]\n",
    "    cat_but_car = [col for col in dataframe.columns if str(dataframe[col].dtypes) in ['object', 'category'] and dataframe[col].nunique() > car_th]\n",
    "    cat_cols = cat_cols + num_but_cat\n",
    "    cat_cols = [col for col in cat_cols if col not in cat_but_car] \n",
    "\n",
    "    num_cols = [col for col in dataframe.columns if dataframe[col].dtypes  in ['int64', 'float64']] #bu sayısal değişkenleri verir\n",
    "    num_cols = [col for col in num_cols if col not in cat_cols] \n",
    "\n",
    "    print(f'Observetions: {dataframe.shape[0]}')\n",
    "    print(f'Variables: {dataframe.shape[1]}')\n",
    "    print(f'cat_cols: {len(cat_cols)}')\n",
    "    print(f'num_cols: {len(num_cols)}')\n",
    "    print(f'cat_but_car: {len(cat_but_car)}')\n",
    "    print(f'num_but_cat: {len(num_but_cat)}')\n",
    "\n",
    "    return cat_cols, num_cols, cat_but_car"
   ]
  },
  {
   "cell_type": "code",
   "execution_count": 49,
   "id": "f2692bf8-1cca-453b-8844-938ab8a5fb3b",
   "metadata": {},
   "outputs": [
    {
     "name": "stdout",
     "output_type": "stream",
     "text": [
      "Observetions: 891\n",
      "Variables: 22\n",
      "cat_cols: 13\n",
      "num_cols: 5\n",
      "cat_but_car: 3\n",
      "num_but_cat: 7\n"
     ]
    }
   ],
   "source": [
    "#Değişkenleri tipleirne göre yakalıyoruz\n",
    "cat_cols, num_cols, cat_but_car = grab_col_names(df)"
   ]
  },
  {
   "cell_type": "code",
   "execution_count": 51,
   "id": "8e98efe5-d4e0-49ec-b685-4c609e2fd3b6",
   "metadata": {},
   "outputs": [
    {
     "data": {
      "text/plain": [
       "['PASSENGERID', 'AGE', 'FARE', 'NEW_NAME_COUNT', 'NEW_AGE_PCLASS']"
      ]
     },
     "execution_count": 51,
     "metadata": {},
     "output_type": "execute_result"
    }
   ],
   "source": [
    "num_cols"
   ]
  },
  {
   "cell_type": "code",
   "execution_count": 53,
   "id": "602f29e6-a479-4350-a00a-fb1722a632b9",
   "metadata": {},
   "outputs": [],
   "source": [
    "num_cols = [col for col in num_cols if 'PASSENGERID' not in col ]# ıd bizim için ölçüm depğeri taşımadıgı için cıkardık"
   ]
  },
  {
   "cell_type": "code",
   "execution_count": 55,
   "id": "0782df6a-0454-42c8-aa31-1dfda976503c",
   "metadata": {},
   "outputs": [
    {
     "data": {
      "text/plain": [
       "['AGE', 'FARE', 'NEW_NAME_COUNT', 'NEW_AGE_PCLASS']"
      ]
     },
     "execution_count": 55,
     "metadata": {},
     "output_type": "execute_result"
    }
   ],
   "source": [
    "num_cols"
   ]
  },
  {
   "cell_type": "code",
   "execution_count": 57,
   "id": "5d073baf-d734-4e9f-9aa6-0c5edabe57bf",
   "metadata": {},
   "outputs": [
    {
     "data": {
      "text/plain": [
       "['NAME', 'TICKET', 'CABIN']"
      ]
     },
     "execution_count": 57,
     "metadata": {},
     "output_type": "execute_result"
    }
   ],
   "source": [
    "cat_but_car"
   ]
  },
  {
   "cell_type": "markdown",
   "id": "9d860bc1-c8f0-45f1-b4d0-9e44ffc914c8",
   "metadata": {},
   "source": [
    "<span style=\"color: blue; font-weight: bold;\">2. ADIM:AYKIRI DEĞER </span>"
   ]
  },
  {
   "cell_type": "code",
   "execution_count": 63,
   "id": "1bb8cb14-cb83-49ca-9ff4-0d31bfb28310",
   "metadata": {},
   "outputs": [],
   "source": [
    "def outlier_tresholds(dataframe, col_name, q1=0.25, q3=0.75):\n",
    "    q1 = dataframe[col_name].quantile(q1)\n",
    "    q3 = dataframe[col_name].quantile(q3)\n",
    "    IQR = q3 -q1\n",
    "    up_limit = q3 + 1.5*IQR\n",
    "    low_limit = q1 - 1.5*IQR\n",
    "    return low_limit, up_limit"
   ]
  },
  {
   "cell_type": "code",
   "execution_count": 65,
   "id": "5ac29fde-59a8-4661-9ef7-c86b601e8ec7",
   "metadata": {},
   "outputs": [],
   "source": [
    "def check_outliers(dataframe, col_name):\n",
    "    low_limit, up_limit = outlier_tresholds(dataframe, col_name)\n",
    "    if dataframe[(dataframe[col_name] < low_limit)|(dataframe[col_name] > up_limit)].any(axis=None):\n",
    "        return True\n",
    "    else:\n",
    "        return False"
   ]
  },
  {
   "cell_type": "code",
   "execution_count": 71,
   "id": "6080d9c6-637c-4a73-bae8-221f1fe0793f",
   "metadata": {},
   "outputs": [
    {
     "name": "stdout",
     "output_type": "stream",
     "text": [
      "AGE True\n",
      "FARE True\n",
      "NEW_NAME_COUNT True\n",
      "NEW_AGE_PCLASS True\n"
     ]
    }
   ],
   "source": [
    "#Aykırı değer var mı kontrol ettik\n",
    "for col in num_cols:\n",
    "    print(col,check_outliers(df, col))"
   ]
  },
  {
   "cell_type": "code",
   "execution_count": 73,
   "id": "88d18667-4e3d-467a-b895-1a1600cdf537",
   "metadata": {},
   "outputs": [],
   "source": [
    "def replace_with_thresholds(dataframe, col_name):\n",
    "    low_limit, up_limit = outlier_tresholds(dataframe, col_name)\n",
    "    dataframe.loc[(dataframe[col_name] < low_limit), col_name] = low_limit\n",
    "    dataframe.loc[(dataframe[col_name] > up_limit), col_name] = up_limit"
   ]
  },
  {
   "cell_type": "code",
   "execution_count": 75,
   "id": "f504adf3-5270-4741-8568-aa285e6c5892",
   "metadata": {},
   "outputs": [],
   "source": [
    "#Aykırı değerkleri eşik değerlere baskılama\n",
    "for col in num_cols:\n",
    "    replace_with_thresholds(df, col)\n",
    "  "
   ]
  },
  {
   "cell_type": "code",
   "execution_count": 77,
   "id": "f2ff1ee8-007d-4b18-ba58-7c088bde6ddd",
   "metadata": {},
   "outputs": [
    {
     "name": "stdout",
     "output_type": "stream",
     "text": [
      "AGE False\n",
      "FARE False\n",
      "NEW_NAME_COUNT False\n",
      "NEW_AGE_PCLASS False\n"
     ]
    }
   ],
   "source": [
    "#Oldu mu diye kontrol ettik.\n",
    "for col in num_cols:\n",
    "    print(col,check_outliers(df, col))"
   ]
  },
  {
   "cell_type": "markdown",
   "id": "488866c7-8fc5-415d-af3f-93f4298fbd66",
   "metadata": {},
   "source": [
    "<span style=\"color: blue; font-weight: bold;\">3. ADIM:EKSİK DEĞER </span>"
   ]
  },
  {
   "cell_type": "code",
   "execution_count": 83,
   "id": "7e585966-d86a-467a-b2b1-110c2b4be1ae",
   "metadata": {},
   "outputs": [],
   "source": [
    "def missing_values_table(dataframe, na_name=False):\n",
    "    na_columns = [col for col in dataframe.columns if dataframe[col].isnull().sum() > 0]\n",
    "\n",
    "    n_miss = dataframe[na_columns].isnull().sum().sort_values(ascending=False)\n",
    "    ratio = (dataframe[na_columns].isnull().sum() / dataframe.shape[0] * 100).sort_values(ascending=False)\n",
    "    missing_df = pd.concat([n_miss, np.round(ratio, 2)], axis=1, keys=['n_miss', 'ratio'])\n",
    "    print(missing_df, end=\"\\n\")\n",
    "\n",
    "    if na_name:\n",
    "        return na_columns"
   ]
  },
  {
   "cell_type": "code",
   "execution_count": 85,
   "id": "c451f01d-5954-4996-86c9-4723d669ab8d",
   "metadata": {},
   "outputs": [
    {
     "name": "stdout",
     "output_type": "stream",
     "text": [
      "                n_miss  ratio\n",
      "CABIN              687 77.100\n",
      "AGE                177 19.870\n",
      "NEW_AGE_PCLASS     177 19.870\n",
      "NEW_AGE_CAT        177 19.870\n",
      "NEW_SEX_CAT        177 19.870\n",
      "EMBARKED             2  0.220\n"
     ]
    },
    {
     "data": {
      "text/plain": [
       "['AGE', 'CABIN', 'EMBARKED', 'NEW_AGE_PCLASS', 'NEW_AGE_CAT', 'NEW_SEX_CAT']"
      ]
     },
     "execution_count": 85,
     "metadata": {},
     "output_type": "execute_result"
    }
   ],
   "source": [
    "#Hangi değişkenlerde eksik değer var\n",
    "missing_values_table(df, na_name=True)"
   ]
  },
  {
   "cell_type": "code",
   "execution_count": 91,
   "id": "4adbc3b4-b1a3-481f-8830-14b9686a75be",
   "metadata": {},
   "outputs": [],
   "source": [
    "df.drop('CABIN', inplace=True, axis=1)#cabın değişkei üzerinden yeni değişken türettiğimiz için sildik."
   ]
  },
  {
   "cell_type": "code",
   "execution_count": 97,
   "id": "33653fc1-971c-492c-b9f6-3f1f9d55114b",
   "metadata": {},
   "outputs": [],
   "source": [
    "#istemediğimiz başka değişkenler de var onları da silelim\n",
    "remove = ['TICKET','NAME']\n",
    "df.drop(remove, inplace=True, axis=1)"
   ]
  },
  {
   "cell_type": "code",
   "execution_count": 103,
   "id": "f419dc5f-480e-4551-bdc5-0141f87ae7c6",
   "metadata": {},
   "outputs": [
    {
     "ename": "TypeError",
     "evalue": "\"value\" parameter must be a scalar, dict or Series, but you passed a \"DataFrame\"",
     "output_type": "error",
     "traceback": [
      "\u001b[1;31m---------------------------------------------------------------------------\u001b[0m",
      "\u001b[1;31mTypeError\u001b[0m                                 Traceback (most recent call last)",
      "\u001b[1;32m~\\AppData\\Local\\Temp\\ipykernel_9604\\4043464741.py\u001b[0m in \u001b[0;36m?\u001b[1;34m()\u001b[0m\n\u001b[1;32m----> 1\u001b[1;33m \u001b[0mdf\u001b[0m\u001b[1;33m[\u001b[0m\u001b[1;34m'AGE'\u001b[0m\u001b[1;33m]\u001b[0m \u001b[1;33m=\u001b[0m \u001b[0mdf\u001b[0m\u001b[1;33m[\u001b[0m\u001b[1;34m'AGE'\u001b[0m\u001b[1;33m]\u001b[0m\u001b[1;33m.\u001b[0m\u001b[0mfillna\u001b[0m\u001b[1;33m(\u001b[0m\u001b[0mdf\u001b[0m\u001b[1;33m.\u001b[0m\u001b[0mgroupby\u001b[0m\u001b[1;33m(\u001b[0m\u001b[1;34m'NEW_TITLE'\u001b[0m\u001b[1;33m)\u001b[0m\u001b[1;33m.\u001b[0m\u001b[0magg\u001b[0m\u001b[1;33m(\u001b[0m\u001b[1;33m{\u001b[0m\u001b[1;34m'AGE'\u001b[0m\u001b[1;33m:\u001b[0m\u001b[1;34m'median'\u001b[0m\u001b[1;33m}\u001b[0m\u001b[1;33m)\u001b[0m\u001b[1;33m)\u001b[0m\u001b[1;33m\u001b[0m\u001b[1;33m\u001b[0m\u001b[0m\n\u001b[0m",
      "\u001b[1;32m~\\anaconda3\\Lib\\site-packages\\pandas\\core\\generic.py\u001b[0m in \u001b[0;36m?\u001b[1;34m(self, value, method, axis, inplace, limit, downcast)\u001b[0m\n\u001b[0;32m   7339\u001b[0m                     \u001b[0mvalue\u001b[0m \u001b[1;33m=\u001b[0m \u001b[0mvalue\u001b[0m\u001b[1;33m.\u001b[0m\u001b[0m_values\u001b[0m\u001b[1;33m\u001b[0m\u001b[1;33m\u001b[0m\u001b[0m\n\u001b[0;32m   7340\u001b[0m                 \u001b[1;32melif\u001b[0m \u001b[1;32mnot\u001b[0m \u001b[0mis_list_like\u001b[0m\u001b[1;33m(\u001b[0m\u001b[0mvalue\u001b[0m\u001b[1;33m)\u001b[0m\u001b[1;33m:\u001b[0m\u001b[1;33m\u001b[0m\u001b[1;33m\u001b[0m\u001b[0m\n\u001b[0;32m   7341\u001b[0m                     \u001b[1;32mpass\u001b[0m\u001b[1;33m\u001b[0m\u001b[1;33m\u001b[0m\u001b[0m\n\u001b[0;32m   7342\u001b[0m                 \u001b[1;32melse\u001b[0m\u001b[1;33m:\u001b[0m\u001b[1;33m\u001b[0m\u001b[1;33m\u001b[0m\u001b[0m\n\u001b[1;32m-> 7343\u001b[1;33m                     raise TypeError(\n\u001b[0m\u001b[0;32m   7344\u001b[0m                         \u001b[1;34m'\"value\" parameter must be a scalar, dict '\u001b[0m\u001b[1;33m\u001b[0m\u001b[1;33m\u001b[0m\u001b[0m\n\u001b[0;32m   7345\u001b[0m                         \u001b[1;34m\"or Series, but you passed a \"\u001b[0m\u001b[1;33m\u001b[0m\u001b[1;33m\u001b[0m\u001b[0m\n\u001b[0;32m   7346\u001b[0m                         \u001b[1;33mf'\u001b[0m\u001b[1;33m\"\u001b[0m\u001b[1;33m{\u001b[0m\u001b[0mtype\u001b[0m\u001b[1;33m(\u001b[0m\u001b[0mvalue\u001b[0m\u001b[1;33m)\u001b[0m\u001b[1;33m.\u001b[0m\u001b[0m__name__\u001b[0m\u001b[1;33m}\u001b[0m\u001b[1;33m\"\u001b[0m\u001b[1;33m'\u001b[0m\u001b[1;33m\u001b[0m\u001b[1;33m\u001b[0m\u001b[0m\n",
      "\u001b[1;31mTypeError\u001b[0m: \"value\" parameter must be a scalar, dict or Series, but you passed a \"DataFrame\""
     ]
    }
   ],
   "source": [
    "df['AGE'] = df['AGE'].fillna(df.groupby('NEW_TITLE').agg({'AGE':'median'}))"
   ]
  },
  {
   "cell_type": "markdown",
   "id": "71b57505-fe68-4d9d-81b9-0ce62d484c34",
   "metadata": {},
   "source": [
    "* Yukarıdaki kullanımın doğru olmamasının ana nedeni, groupby().agg() ifadesinin DataFrame döndürmesi, ama .fillna() metodunun Series veya tek bir değer** beklemesidir.\n"
   ]
  },
  {
   "cell_type": "code",
   "execution_count": 106,
   "id": "5b8c27d8-3e2e-47e9-944b-f3019872a0e2",
   "metadata": {},
   "outputs": [],
   "source": [
    "df['AGE'] = df['AGE'].fillna(df.groupby('NEW_TITLE')['AGE'].transform('median'))"
   ]
  },
  {
   "cell_type": "code",
   "execution_count": 108,
   "id": "1f42616f-4990-472d-b160-615d20334c70",
   "metadata": {},
   "outputs": [
    {
     "name": "stdout",
     "output_type": "stream",
     "text": [
      "                n_miss  ratio\n",
      "NEW_AGE_PCLASS     177 19.870\n",
      "NEW_AGE_CAT        177 19.870\n",
      "NEW_SEX_CAT        177 19.870\n",
      "EMBARKED             2  0.220\n"
     ]
    },
    {
     "data": {
      "text/plain": [
       "['EMBARKED', 'NEW_AGE_PCLASS', 'NEW_AGE_CAT', 'NEW_SEX_CAT']"
      ]
     },
     "execution_count": 108,
     "metadata": {},
     "output_type": "execute_result"
    }
   ],
   "source": [
    "missing_values_table(df, na_name=True)"
   ]
  },
  {
   "cell_type": "markdown",
   "id": "580cee10-8c70-43a0-8997-b90c18fab421",
   "metadata": {},
   "source": [
    "* Yaş değişkenin eksk değerlerini giderdik fakat yaş değişkeni üzerinden elde ettiğimiz değişkenlerde halen eksik değer var. Bunu gidermek için bu değişkenleri baştan oluşturmalıyız."
   ]
  },
  {
   "cell_type": "code",
   "execution_count": 111,
   "id": "27d89683-d1bd-4d9b-9bbf-016638391000",
   "metadata": {},
   "outputs": [],
   "source": [
    "df[\"NEW_AGE_PCLASS\"] = df[\"AGE\"] * df[\"PCLASS\"]\n",
    "\n",
    "df.loc[(df['AGE'] < 18), 'NEW_AGE_CAT'] = 'young'\n",
    "df.loc[(df['AGE'] >= 18) & (df['AGE'] < 56), 'NEW_AGE_CAT'] = 'mature'\n",
    "df.loc[(df['AGE'] >= 56), 'NEW_AGE_CAT'] = 'senior'\n",
    "\n",
    "df.loc[(df['SEX'] == 'male') & (df['AGE'] <= 21), 'NEW_SEX_CAT'] = 'youngmale'\n",
    "df.loc[(df['SEX'] == 'male') & (df['AGE'] > 21) & (df['AGE'] < 50), 'NEW_SEX_CAT'] = 'maturemale'\n",
    "df.loc[(df['SEX'] == 'male') & (df['AGE'] >= 50), 'NEW_SEX_CAT'] = 'seniormale'\n",
    "df.loc[(df['SEX'] == 'female') & (df['AGE'] <= 21), 'NEW_SEX_CAT'] = 'youngfemale'\n",
    "df.loc[(df['SEX'] == 'female') & (df['AGE'] > 21) & (df['AGE'] < 50), 'NEW_SEX_CAT'] = 'maturefemale'\n",
    "df.loc[(df['SEX'] == 'female') & (df['AGE'] >= 50), 'NEW_SEX_CAT'] = 'seniorfemale'"
   ]
  },
  {
   "cell_type": "code",
   "execution_count": 115,
   "id": "707e4f4f-d78c-4ae7-ae0c-e149265e29df",
   "metadata": {},
   "outputs": [
    {
     "name": "stdout",
     "output_type": "stream",
     "text": [
      "          n_miss  ratio\n",
      "EMBARKED       2  0.220\n"
     ]
    },
    {
     "data": {
      "text/plain": [
       "['EMBARKED']"
      ]
     },
     "execution_count": 115,
     "metadata": {},
     "output_type": "execute_result"
    }
   ],
   "source": [
    "missing_values_table(df, na_name=True)"
   ]
  },
  {
   "cell_type": "code",
   "execution_count": 117,
   "id": "6dbc9e1e-b866-45cb-a8a1-0856adcd62b2",
   "metadata": {},
   "outputs": [],
   "source": [
    "#Eksik değer olan kategorik değişkenleri doldurduk.\n",
    "df = df.apply(lambda x: x.fillna(x.mode()[0]) if (x.dtype == \"O\" and len(x.unique()) <= 10) else x, axis=0)\n"
   ]
  },
  {
   "cell_type": "markdown",
   "id": "786fefe7-cde1-4f45-a5fe-f0b78f594c36",
   "metadata": {},
   "source": [
    "<span style=\"color: blue; font-weight: bold;\">4. ADIM:LABEL ENCODING </span>"
   ]
  },
  {
   "cell_type": "code",
   "execution_count": 131,
   "id": "85315679-8412-43ba-94f5-4a746d0e7952",
   "metadata": {},
   "outputs": [
    {
     "data": {
      "text/html": [
       "<div>\n",
       "<style scoped>\n",
       "    .dataframe tbody tr th:only-of-type {\n",
       "        vertical-align: middle;\n",
       "    }\n",
       "\n",
       "    .dataframe tbody tr th {\n",
       "        vertical-align: top;\n",
       "    }\n",
       "\n",
       "    .dataframe thead th {\n",
       "        text-align: right;\n",
       "    }\n",
       "</style>\n",
       "<table border=\"1\" class=\"dataframe\">\n",
       "  <thead>\n",
       "    <tr style=\"text-align: right;\">\n",
       "      <th></th>\n",
       "      <th>PASSENGERID</th>\n",
       "      <th>SURVIVED</th>\n",
       "      <th>PCLASS</th>\n",
       "      <th>SEX</th>\n",
       "      <th>AGE</th>\n",
       "      <th>SIBSP</th>\n",
       "      <th>PARCH</th>\n",
       "      <th>FARE</th>\n",
       "      <th>EMBARKED</th>\n",
       "      <th>NEW_CABIN_BOOL</th>\n",
       "      <th>NEW_NAME_COUNT</th>\n",
       "      <th>NEW_NAME_WORD_COUNT</th>\n",
       "      <th>NEW_NAME_DR</th>\n",
       "      <th>NEW_TITLE</th>\n",
       "      <th>NEW_FAMILY_SIZE</th>\n",
       "      <th>NEW_AGE_PCLASS</th>\n",
       "      <th>NEW_IS_ALONE</th>\n",
       "      <th>NEW_AGE_CAT</th>\n",
       "      <th>NEW_SEX_CAT</th>\n",
       "    </tr>\n",
       "  </thead>\n",
       "  <tbody>\n",
       "    <tr>\n",
       "      <th>0</th>\n",
       "      <td>1</td>\n",
       "      <td>0</td>\n",
       "      <td>3</td>\n",
       "      <td>male</td>\n",
       "      <td>22.000</td>\n",
       "      <td>1</td>\n",
       "      <td>0</td>\n",
       "      <td>7.250</td>\n",
       "      <td>S</td>\n",
       "      <td>0</td>\n",
       "      <td>23</td>\n",
       "      <td>4</td>\n",
       "      <td>0</td>\n",
       "      <td>Mr</td>\n",
       "      <td>2</td>\n",
       "      <td>66.000</td>\n",
       "      <td>NO</td>\n",
       "      <td>mature</td>\n",
       "      <td>maturemale</td>\n",
       "    </tr>\n",
       "    <tr>\n",
       "      <th>1</th>\n",
       "      <td>2</td>\n",
       "      <td>1</td>\n",
       "      <td>1</td>\n",
       "      <td>female</td>\n",
       "      <td>38.000</td>\n",
       "      <td>1</td>\n",
       "      <td>0</td>\n",
       "      <td>65.634</td>\n",
       "      <td>C</td>\n",
       "      <td>1</td>\n",
       "      <td>45</td>\n",
       "      <td>7</td>\n",
       "      <td>0</td>\n",
       "      <td>Mrs</td>\n",
       "      <td>2</td>\n",
       "      <td>38.000</td>\n",
       "      <td>NO</td>\n",
       "      <td>mature</td>\n",
       "      <td>maturefemale</td>\n",
       "    </tr>\n",
       "    <tr>\n",
       "      <th>2</th>\n",
       "      <td>3</td>\n",
       "      <td>1</td>\n",
       "      <td>3</td>\n",
       "      <td>female</td>\n",
       "      <td>26.000</td>\n",
       "      <td>0</td>\n",
       "      <td>0</td>\n",
       "      <td>7.925</td>\n",
       "      <td>S</td>\n",
       "      <td>0</td>\n",
       "      <td>22</td>\n",
       "      <td>3</td>\n",
       "      <td>0</td>\n",
       "      <td>Miss</td>\n",
       "      <td>1</td>\n",
       "      <td>78.000</td>\n",
       "      <td>YES</td>\n",
       "      <td>mature</td>\n",
       "      <td>maturefemale</td>\n",
       "    </tr>\n",
       "    <tr>\n",
       "      <th>3</th>\n",
       "      <td>4</td>\n",
       "      <td>1</td>\n",
       "      <td>1</td>\n",
       "      <td>female</td>\n",
       "      <td>35.000</td>\n",
       "      <td>1</td>\n",
       "      <td>0</td>\n",
       "      <td>53.100</td>\n",
       "      <td>S</td>\n",
       "      <td>1</td>\n",
       "      <td>44</td>\n",
       "      <td>7</td>\n",
       "      <td>0</td>\n",
       "      <td>Mrs</td>\n",
       "      <td>2</td>\n",
       "      <td>35.000</td>\n",
       "      <td>NO</td>\n",
       "      <td>mature</td>\n",
       "      <td>maturefemale</td>\n",
       "    </tr>\n",
       "    <tr>\n",
       "      <th>4</th>\n",
       "      <td>5</td>\n",
       "      <td>0</td>\n",
       "      <td>3</td>\n",
       "      <td>male</td>\n",
       "      <td>35.000</td>\n",
       "      <td>0</td>\n",
       "      <td>0</td>\n",
       "      <td>8.050</td>\n",
       "      <td>S</td>\n",
       "      <td>0</td>\n",
       "      <td>24</td>\n",
       "      <td>4</td>\n",
       "      <td>0</td>\n",
       "      <td>Mr</td>\n",
       "      <td>1</td>\n",
       "      <td>105.000</td>\n",
       "      <td>YES</td>\n",
       "      <td>mature</td>\n",
       "      <td>maturemale</td>\n",
       "    </tr>\n",
       "  </tbody>\n",
       "</table>\n",
       "</div>"
      ],
      "text/plain": [
       "   PASSENGERID  SURVIVED  PCLASS     SEX    AGE  SIBSP  PARCH   FARE EMBARKED  NEW_CABIN_BOOL  NEW_NAME_COUNT  NEW_NAME_WORD_COUNT  NEW_NAME_DR NEW_TITLE  NEW_FAMILY_SIZE  NEW_AGE_PCLASS NEW_IS_ALONE NEW_AGE_CAT   NEW_SEX_CAT\n",
       "0            1         0       3    male 22.000      1      0  7.250        S               0              23                    4            0        Mr                2          66.000           NO      mature    maturemale\n",
       "1            2         1       1  female 38.000      1      0 65.634        C               1              45                    7            0       Mrs                2          38.000           NO      mature  maturefemale\n",
       "2            3         1       3  female 26.000      0      0  7.925        S               0              22                    3            0      Miss                1          78.000          YES      mature  maturefemale\n",
       "3            4         1       1  female 35.000      1      0 53.100        S               1              44                    7            0       Mrs                2          35.000           NO      mature  maturefemale\n",
       "4            5         0       3    male 35.000      0      0  8.050        S               0              24                    4            0        Mr                1         105.000          YES      mature    maturemale"
      ]
     },
     "execution_count": 131,
     "metadata": {},
     "output_type": "execute_result"
    }
   ],
   "source": [
    "df.head()"
   ]
  },
  {
   "cell_type": "code",
   "execution_count": 153,
   "id": "f01af79e-dfd1-43fd-b4ab-8a66e9e6f59a",
   "metadata": {},
   "outputs": [],
   "source": [
    "#ilk olara 2 sınıflı kategorik değişkenleri seçelim\n",
    "binary_cols = [col for col in df.columns if df[col].dtype=='O' and df[col].nunique() ==2]"
   ]
  },
  {
   "cell_type": "code",
   "execution_count": 155,
   "id": "f473b877-6aa2-4f70-ac90-88682377a6f1",
   "metadata": {},
   "outputs": [
    {
     "data": {
      "text/plain": [
       "['SEX', 'NEW_IS_ALONE']"
      ]
     },
     "execution_count": 155,
     "metadata": {},
     "output_type": "execute_result"
    }
   ],
   "source": [
    "binary_cols"
   ]
  },
  {
   "cell_type": "code",
   "execution_count": 157,
   "id": "a4c1f2aa-7715-44bb-9afb-54e7a95d52dd",
   "metadata": {},
   "outputs": [],
   "source": [
    "def label_encoder(dataframe, binary_col):\n",
    "    labelencoder = LabelEncoder()\n",
    "    dataframe[col] = labelencoder.fit_transform(dataframe[col])\n",
    "    return dataframe"
   ]
  },
  {
   "cell_type": "code",
   "execution_count": 159,
   "id": "10fc1699-6baa-4a47-95e6-9269d0ab3b98",
   "metadata": {},
   "outputs": [],
   "source": [
    "for col in binary_cols:\n",
    "    df = label_encoder(df, col)"
   ]
  },
  {
   "cell_type": "markdown",
   "id": "332c48b2-7199-44fb-a948-39993ec34bec",
   "metadata": {},
   "source": [
    "<span style=\"color: blue; font-weight: bold;\">5. ADIM:RARE ENCODER </span>"
   ]
  },
  {
   "cell_type": "code",
   "execution_count": 163,
   "id": "96f48242-4065-407d-8023-ae5c28079807",
   "metadata": {},
   "outputs": [],
   "source": [
    "def rare_analyser(dataframe, target, cat_cols):\n",
    "    for col in cat_cols:\n",
    "        print(col, \":\", len(dataframe[col].value_counts()))\n",
    "        print(pd.DataFrame({\"COUNT\": dataframe[col].value_counts(),\n",
    "                            \"RATIO\": dataframe[col].value_counts() / len(dataframe),\n",
    "                            \"TARGET_MEAN\": dataframe.groupby(col)[target].mean()}), end=\"\\n\\n\\n\")"
   ]
  },
  {
   "cell_type": "code",
   "execution_count": 165,
   "id": "9ec2aa48-916f-45da-a2e0-2649bbb9ddba",
   "metadata": {
    "scrolled": true
   },
   "outputs": [
    {
     "name": "stdout",
     "output_type": "stream",
     "text": [
      "SEX : 2\n",
      "     COUNT  RATIO  TARGET_MEAN\n",
      "SEX                           \n",
      "0      314  0.352        0.742\n",
      "1      577  0.648        0.189\n",
      "\n",
      "\n",
      "EMBARKED : 3\n",
      "          COUNT  RATIO  TARGET_MEAN\n",
      "EMBARKED                           \n",
      "C           168  0.189        0.554\n",
      "Q            77  0.086        0.390\n",
      "S           646  0.725        0.339\n",
      "\n",
      "\n",
      "NEW_TITLE : 17\n",
      "           COUNT  RATIO  TARGET_MEAN\n",
      "NEW_TITLE                           \n",
      "Capt           1  0.001        0.000\n",
      "Col            2  0.002        0.500\n",
      "Countess       1  0.001        1.000\n",
      "Don            1  0.001        0.000\n",
      "Dr             7  0.008        0.429\n",
      "Jonkheer       1  0.001        0.000\n",
      "Lady           1  0.001        1.000\n",
      "Major          2  0.002        0.500\n",
      "Master        40  0.045        0.575\n",
      "Miss         182  0.204        0.698\n",
      "Mlle           2  0.002        1.000\n",
      "Mme            1  0.001        1.000\n",
      "Mr           517  0.580        0.157\n",
      "Mrs          125  0.140        0.792\n",
      "Ms             1  0.001        1.000\n",
      "Rev            6  0.007        0.000\n",
      "Sir            1  0.001        1.000\n",
      "\n",
      "\n",
      "NEW_IS_ALONE : 2\n",
      "              COUNT  RATIO  TARGET_MEAN\n",
      "NEW_IS_ALONE                           \n",
      "0               354  0.397        0.506\n",
      "1               537  0.603        0.304\n",
      "\n",
      "\n",
      "NEW_AGE_CAT : 3\n",
      "             COUNT  RATIO  TARGET_MEAN\n",
      "NEW_AGE_CAT                           \n",
      "mature         735  0.825        0.363\n",
      "senior          39  0.044        0.308\n",
      "young          117  0.131        0.538\n",
      "\n",
      "\n",
      "NEW_SEX_CAT : 6\n",
      "              COUNT  RATIO  TARGET_MEAN\n",
      "NEW_SEX_CAT                            \n",
      "maturefemale    172  0.193        0.779\n",
      "maturemale      401  0.450        0.175\n",
      "seniorfemale     22  0.025        0.909\n",
      "seniormale       52  0.058        0.135\n",
      "youngfemale     120  0.135        0.658\n",
      "youngmale       124  0.139        0.258\n",
      "\n",
      "\n",
      "SURVIVED : 2\n",
      "          COUNT  RATIO  TARGET_MEAN\n",
      "SURVIVED                           \n",
      "0           549  0.616        0.000\n",
      "1           342  0.384        1.000\n",
      "\n",
      "\n",
      "PCLASS : 3\n",
      "        COUNT  RATIO  TARGET_MEAN\n",
      "PCLASS                           \n",
      "1         216  0.242        0.630\n",
      "2         184  0.207        0.473\n",
      "3         491  0.551        0.242\n",
      "\n",
      "\n",
      "SIBSP : 7\n",
      "       COUNT  RATIO  TARGET_MEAN\n",
      "SIBSP                           \n",
      "0        608  0.682        0.345\n",
      "1        209  0.235        0.536\n",
      "2         28  0.031        0.464\n",
      "3         16  0.018        0.250\n",
      "4         18  0.020        0.167\n",
      "5          5  0.006        0.000\n",
      "8          7  0.008        0.000\n",
      "\n",
      "\n",
      "PARCH : 7\n",
      "       COUNT  RATIO  TARGET_MEAN\n",
      "PARCH                           \n",
      "0        678  0.761        0.344\n",
      "1        118  0.132        0.551\n",
      "2         80  0.090        0.500\n",
      "3          5  0.006        0.600\n",
      "4          4  0.004        0.000\n",
      "5          5  0.006        0.200\n",
      "6          1  0.001        0.000\n",
      "\n",
      "\n",
      "NEW_NAME_WORD_COUNT : 8\n",
      "                     COUNT  RATIO  TARGET_MEAN\n",
      "NEW_NAME_WORD_COUNT                           \n",
      "3                      305  0.342        0.292\n",
      "4                      388  0.435        0.340\n",
      "5                       96  0.108        0.427\n",
      "6                       53  0.059        0.774\n",
      "7                       38  0.043        0.842\n",
      "8                        9  0.010        0.556\n",
      "9                        1  0.001        1.000\n",
      "14                       1  0.001        1.000\n",
      "\n",
      "\n",
      "NEW_NAME_DR : 2\n",
      "             COUNT  RATIO  TARGET_MEAN\n",
      "NEW_NAME_DR                           \n",
      "0              881  0.989        0.383\n",
      "1               10  0.011        0.500\n",
      "\n",
      "\n",
      "NEW_FAMILY_SIZE : 9\n",
      "                 COUNT  RATIO  TARGET_MEAN\n",
      "NEW_FAMILY_SIZE                           \n",
      "1                  537  0.603        0.304\n",
      "2                  161  0.181        0.553\n",
      "3                  102  0.114        0.578\n",
      "4                   29  0.033        0.724\n",
      "5                   15  0.017        0.200\n",
      "6                   22  0.025        0.136\n",
      "7                   12  0.013        0.333\n",
      "8                    6  0.007        0.000\n",
      "11                   7  0.008        0.000\n",
      "\n",
      "\n"
     ]
    }
   ],
   "source": [
    "rare_analyser(df, \"SURVIVED\", cat_cols)"
   ]
  },
  {
   "cell_type": "code",
   "execution_count": 173,
   "id": "b2c943a7-c502-428c-b145-8d88f0078092",
   "metadata": {},
   "outputs": [],
   "source": [
    "def rare_encoder(dataframe, rare_perc):\n",
    "    temp_df = dataframe.copy()\n",
    "\n",
    "    rare_columns = [col for col in temp_df.columns if temp_df[col].dtypes == 'O'\n",
    "                    and (temp_df[col].value_counts() / len(temp_df) < rare_perc).any(axis=None)]\n",
    "\n",
    "    for var in rare_columns:\n",
    "        tmp = temp_df[var].value_counts() / len(temp_df)\n",
    "        rare_labels = tmp[tmp < rare_perc].index\n",
    "        temp_df[var] = np.where(temp_df[var].isin(rare_labels), 'Rare', temp_df[var])\n",
    "\n",
    "    return temp_df"
   ]
  },
  {
   "cell_type": "code",
   "execution_count": 175,
   "id": "195d294c-bece-4653-95e5-8a2e5e207ad1",
   "metadata": {},
   "outputs": [],
   "source": [
    "df = rare_encoder(df, 0.01)"
   ]
  },
  {
   "cell_type": "code",
   "execution_count": 177,
   "id": "a0809ef2-3ecf-49a9-8e56-371bac724b2d",
   "metadata": {
    "scrolled": true
   },
   "outputs": [
    {
     "name": "stdout",
     "output_type": "stream",
     "text": [
      "SEX : 2\n",
      "     COUNT  RATIO  TARGET_MEAN\n",
      "SEX                           \n",
      "0      314  0.352        0.742\n",
      "1      577  0.648        0.189\n",
      "\n",
      "\n",
      "EMBARKED : 3\n",
      "          COUNT  RATIO  TARGET_MEAN\n",
      "EMBARKED                           \n",
      "C           168  0.189        0.554\n",
      "Q            77  0.086        0.390\n",
      "S           646  0.725        0.339\n",
      "\n",
      "\n",
      "NEW_TITLE : 5\n",
      "           COUNT  RATIO  TARGET_MEAN\n",
      "NEW_TITLE                           \n",
      "Master        40  0.045        0.575\n",
      "Miss         182  0.204        0.698\n",
      "Mr           517  0.580        0.157\n",
      "Mrs          125  0.140        0.792\n",
      "Rare          27  0.030        0.444\n",
      "\n",
      "\n",
      "NEW_IS_ALONE : 2\n",
      "              COUNT  RATIO  TARGET_MEAN\n",
      "NEW_IS_ALONE                           \n",
      "0               354  0.397        0.506\n",
      "1               537  0.603        0.304\n",
      "\n",
      "\n",
      "NEW_AGE_CAT : 3\n",
      "             COUNT  RATIO  TARGET_MEAN\n",
      "NEW_AGE_CAT                           \n",
      "mature         735  0.825        0.363\n",
      "senior          39  0.044        0.308\n",
      "young          117  0.131        0.538\n",
      "\n",
      "\n",
      "NEW_SEX_CAT : 6\n",
      "              COUNT  RATIO  TARGET_MEAN\n",
      "NEW_SEX_CAT                            \n",
      "maturefemale    172  0.193        0.779\n",
      "maturemale      401  0.450        0.175\n",
      "seniorfemale     22  0.025        0.909\n",
      "seniormale       52  0.058        0.135\n",
      "youngfemale     120  0.135        0.658\n",
      "youngmale       124  0.139        0.258\n",
      "\n",
      "\n",
      "SURVIVED : 2\n",
      "          COUNT  RATIO  TARGET_MEAN\n",
      "SURVIVED                           \n",
      "0           549  0.616        0.000\n",
      "1           342  0.384        1.000\n",
      "\n",
      "\n",
      "PCLASS : 3\n",
      "        COUNT  RATIO  TARGET_MEAN\n",
      "PCLASS                           \n",
      "1         216  0.242        0.630\n",
      "2         184  0.207        0.473\n",
      "3         491  0.551        0.242\n",
      "\n",
      "\n",
      "SIBSP : 7\n",
      "       COUNT  RATIO  TARGET_MEAN\n",
      "SIBSP                           \n",
      "0        608  0.682        0.345\n",
      "1        209  0.235        0.536\n",
      "2         28  0.031        0.464\n",
      "3         16  0.018        0.250\n",
      "4         18  0.020        0.167\n",
      "5          5  0.006        0.000\n",
      "8          7  0.008        0.000\n",
      "\n",
      "\n",
      "PARCH : 7\n",
      "       COUNT  RATIO  TARGET_MEAN\n",
      "PARCH                           \n",
      "0        678  0.761        0.344\n",
      "1        118  0.132        0.551\n",
      "2         80  0.090        0.500\n",
      "3          5  0.006        0.600\n",
      "4          4  0.004        0.000\n",
      "5          5  0.006        0.200\n",
      "6          1  0.001        0.000\n",
      "\n",
      "\n",
      "NEW_NAME_WORD_COUNT : 8\n",
      "                     COUNT  RATIO  TARGET_MEAN\n",
      "NEW_NAME_WORD_COUNT                           \n",
      "3                      305  0.342        0.292\n",
      "4                      388  0.435        0.340\n",
      "5                       96  0.108        0.427\n",
      "6                       53  0.059        0.774\n",
      "7                       38  0.043        0.842\n",
      "8                        9  0.010        0.556\n",
      "9                        1  0.001        1.000\n",
      "14                       1  0.001        1.000\n",
      "\n",
      "\n",
      "NEW_NAME_DR : 2\n",
      "             COUNT  RATIO  TARGET_MEAN\n",
      "NEW_NAME_DR                           \n",
      "0              881  0.989        0.383\n",
      "1               10  0.011        0.500\n",
      "\n",
      "\n",
      "NEW_FAMILY_SIZE : 9\n",
      "                 COUNT  RATIO  TARGET_MEAN\n",
      "NEW_FAMILY_SIZE                           \n",
      "1                  537  0.603        0.304\n",
      "2                  161  0.181        0.553\n",
      "3                  102  0.114        0.578\n",
      "4                   29  0.033        0.724\n",
      "5                   15  0.017        0.200\n",
      "6                   22  0.025        0.136\n",
      "7                   12  0.013        0.333\n",
      "8                    6  0.007        0.000\n",
      "11                   7  0.008        0.000\n",
      "\n",
      "\n"
     ]
    }
   ],
   "source": [
    "rare_analyser(df, \"SURVIVED\", cat_cols)"
   ]
  },
  {
   "cell_type": "markdown",
   "id": "cdc8d888-e59e-4672-8296-c4c0d3f662dc",
   "metadata": {},
   "source": [
    "<span style=\"color: blue; font-weight: bold;\">6. ADIM:ONE HOT ENCODING </span>"
   ]
  },
  {
   "cell_type": "code",
   "execution_count": 181,
   "id": "ebe93e03-e889-4c00-9799-b250d97fcb0d",
   "metadata": {},
   "outputs": [],
   "source": [
    "ohe_cols = [col for col in df.columns if 10>= df[col].nunique()>2]#İKİDEN FAZLA 10 DAN AZ OLAN DEĞİŞKENLERİ SECTİK"
   ]
  },
  {
   "cell_type": "code",
   "execution_count": 183,
   "id": "546383fd-c155-4df2-9bae-3470ff240d8d",
   "metadata": {},
   "outputs": [
    {
     "data": {
      "text/plain": [
       "['PCLASS',\n",
       " 'SIBSP',\n",
       " 'PARCH',\n",
       " 'EMBARKED',\n",
       " 'NEW_NAME_WORD_COUNT',\n",
       " 'NEW_TITLE',\n",
       " 'NEW_FAMILY_SIZE',\n",
       " 'NEW_AGE_CAT',\n",
       " 'NEW_SEX_CAT']"
      ]
     },
     "execution_count": 183,
     "metadata": {},
     "output_type": "execute_result"
    }
   ],
   "source": [
    "ohe_cols "
   ]
  },
  {
   "cell_type": "code",
   "execution_count": 185,
   "id": "bf7e78af-f5af-4fc3-9575-01dfd8108fb8",
   "metadata": {},
   "outputs": [],
   "source": [
    "def one_hot_encoder(dataframe, cat_col, drop_first=True):\n",
    "    dataframe = pd.get_dummies(dataframe,columns = cat_col, drop_first = drop_first)\n",
    "    return dataframe"
   ]
  },
  {
   "cell_type": "code",
   "execution_count": 191,
   "id": "20e2ea4f-95fa-47fa-8bf1-0719bd281ee9",
   "metadata": {},
   "outputs": [],
   "source": [
    "df = one_hot_encoder(df, ohe_cols)"
   ]
  },
  {
   "cell_type": "code",
   "execution_count": 193,
   "id": "3686926d-bcb9-4127-a8a8-062fddfbda00",
   "metadata": {},
   "outputs": [
    {
     "data": {
      "text/html": [
       "<div>\n",
       "<style scoped>\n",
       "    .dataframe tbody tr th:only-of-type {\n",
       "        vertical-align: middle;\n",
       "    }\n",
       "\n",
       "    .dataframe tbody tr th {\n",
       "        vertical-align: top;\n",
       "    }\n",
       "\n",
       "    .dataframe thead th {\n",
       "        text-align: right;\n",
       "    }\n",
       "</style>\n",
       "<table border=\"1\" class=\"dataframe\">\n",
       "  <thead>\n",
       "    <tr style=\"text-align: right;\">\n",
       "      <th></th>\n",
       "      <th>PASSENGERID</th>\n",
       "      <th>SURVIVED</th>\n",
       "      <th>SEX</th>\n",
       "      <th>AGE</th>\n",
       "      <th>FARE</th>\n",
       "      <th>NEW_CABIN_BOOL</th>\n",
       "      <th>NEW_NAME_COUNT</th>\n",
       "      <th>NEW_NAME_DR</th>\n",
       "      <th>NEW_AGE_PCLASS</th>\n",
       "      <th>NEW_IS_ALONE</th>\n",
       "      <th>PCLASS_2</th>\n",
       "      <th>PCLASS_3</th>\n",
       "      <th>SIBSP_1</th>\n",
       "      <th>SIBSP_2</th>\n",
       "      <th>SIBSP_3</th>\n",
       "      <th>SIBSP_4</th>\n",
       "      <th>SIBSP_5</th>\n",
       "      <th>SIBSP_8</th>\n",
       "      <th>PARCH_1</th>\n",
       "      <th>PARCH_2</th>\n",
       "      <th>PARCH_3</th>\n",
       "      <th>PARCH_4</th>\n",
       "      <th>PARCH_5</th>\n",
       "      <th>PARCH_6</th>\n",
       "      <th>EMBARKED_Q</th>\n",
       "      <th>EMBARKED_S</th>\n",
       "      <th>NEW_NAME_WORD_COUNT_4</th>\n",
       "      <th>NEW_NAME_WORD_COUNT_5</th>\n",
       "      <th>NEW_NAME_WORD_COUNT_6</th>\n",
       "      <th>NEW_NAME_WORD_COUNT_7</th>\n",
       "      <th>NEW_NAME_WORD_COUNT_8</th>\n",
       "      <th>NEW_NAME_WORD_COUNT_9</th>\n",
       "      <th>NEW_NAME_WORD_COUNT_14</th>\n",
       "      <th>NEW_TITLE_Miss</th>\n",
       "      <th>NEW_TITLE_Mr</th>\n",
       "      <th>NEW_TITLE_Mrs</th>\n",
       "      <th>NEW_TITLE_Rare</th>\n",
       "      <th>NEW_FAMILY_SIZE_2</th>\n",
       "      <th>NEW_FAMILY_SIZE_3</th>\n",
       "      <th>NEW_FAMILY_SIZE_4</th>\n",
       "      <th>NEW_FAMILY_SIZE_5</th>\n",
       "      <th>NEW_FAMILY_SIZE_6</th>\n",
       "      <th>NEW_FAMILY_SIZE_7</th>\n",
       "      <th>NEW_FAMILY_SIZE_8</th>\n",
       "      <th>NEW_FAMILY_SIZE_11</th>\n",
       "      <th>NEW_AGE_CAT_senior</th>\n",
       "      <th>NEW_AGE_CAT_young</th>\n",
       "      <th>NEW_SEX_CAT_maturemale</th>\n",
       "      <th>NEW_SEX_CAT_seniorfemale</th>\n",
       "      <th>NEW_SEX_CAT_seniormale</th>\n",
       "      <th>NEW_SEX_CAT_youngfemale</th>\n",
       "      <th>NEW_SEX_CAT_youngmale</th>\n",
       "    </tr>\n",
       "  </thead>\n",
       "  <tbody>\n",
       "    <tr>\n",
       "      <th>0</th>\n",
       "      <td>1</td>\n",
       "      <td>0</td>\n",
       "      <td>1</td>\n",
       "      <td>22.000</td>\n",
       "      <td>7.250</td>\n",
       "      <td>0</td>\n",
       "      <td>23</td>\n",
       "      <td>0</td>\n",
       "      <td>66.000</td>\n",
       "      <td>0</td>\n",
       "      <td>False</td>\n",
       "      <td>True</td>\n",
       "      <td>True</td>\n",
       "      <td>False</td>\n",
       "      <td>False</td>\n",
       "      <td>False</td>\n",
       "      <td>False</td>\n",
       "      <td>False</td>\n",
       "      <td>False</td>\n",
       "      <td>False</td>\n",
       "      <td>False</td>\n",
       "      <td>False</td>\n",
       "      <td>False</td>\n",
       "      <td>False</td>\n",
       "      <td>False</td>\n",
       "      <td>True</td>\n",
       "      <td>True</td>\n",
       "      <td>False</td>\n",
       "      <td>False</td>\n",
       "      <td>False</td>\n",
       "      <td>False</td>\n",
       "      <td>False</td>\n",
       "      <td>False</td>\n",
       "      <td>False</td>\n",
       "      <td>True</td>\n",
       "      <td>False</td>\n",
       "      <td>False</td>\n",
       "      <td>True</td>\n",
       "      <td>False</td>\n",
       "      <td>False</td>\n",
       "      <td>False</td>\n",
       "      <td>False</td>\n",
       "      <td>False</td>\n",
       "      <td>False</td>\n",
       "      <td>False</td>\n",
       "      <td>False</td>\n",
       "      <td>False</td>\n",
       "      <td>True</td>\n",
       "      <td>False</td>\n",
       "      <td>False</td>\n",
       "      <td>False</td>\n",
       "      <td>False</td>\n",
       "    </tr>\n",
       "    <tr>\n",
       "      <th>1</th>\n",
       "      <td>2</td>\n",
       "      <td>1</td>\n",
       "      <td>0</td>\n",
       "      <td>38.000</td>\n",
       "      <td>65.634</td>\n",
       "      <td>1</td>\n",
       "      <td>45</td>\n",
       "      <td>0</td>\n",
       "      <td>38.000</td>\n",
       "      <td>0</td>\n",
       "      <td>False</td>\n",
       "      <td>False</td>\n",
       "      <td>True</td>\n",
       "      <td>False</td>\n",
       "      <td>False</td>\n",
       "      <td>False</td>\n",
       "      <td>False</td>\n",
       "      <td>False</td>\n",
       "      <td>False</td>\n",
       "      <td>False</td>\n",
       "      <td>False</td>\n",
       "      <td>False</td>\n",
       "      <td>False</td>\n",
       "      <td>False</td>\n",
       "      <td>False</td>\n",
       "      <td>False</td>\n",
       "      <td>False</td>\n",
       "      <td>False</td>\n",
       "      <td>False</td>\n",
       "      <td>True</td>\n",
       "      <td>False</td>\n",
       "      <td>False</td>\n",
       "      <td>False</td>\n",
       "      <td>False</td>\n",
       "      <td>False</td>\n",
       "      <td>True</td>\n",
       "      <td>False</td>\n",
       "      <td>True</td>\n",
       "      <td>False</td>\n",
       "      <td>False</td>\n",
       "      <td>False</td>\n",
       "      <td>False</td>\n",
       "      <td>False</td>\n",
       "      <td>False</td>\n",
       "      <td>False</td>\n",
       "      <td>False</td>\n",
       "      <td>False</td>\n",
       "      <td>False</td>\n",
       "      <td>False</td>\n",
       "      <td>False</td>\n",
       "      <td>False</td>\n",
       "      <td>False</td>\n",
       "    </tr>\n",
       "    <tr>\n",
       "      <th>2</th>\n",
       "      <td>3</td>\n",
       "      <td>1</td>\n",
       "      <td>0</td>\n",
       "      <td>26.000</td>\n",
       "      <td>7.925</td>\n",
       "      <td>0</td>\n",
       "      <td>22</td>\n",
       "      <td>0</td>\n",
       "      <td>78.000</td>\n",
       "      <td>1</td>\n",
       "      <td>False</td>\n",
       "      <td>True</td>\n",
       "      <td>False</td>\n",
       "      <td>False</td>\n",
       "      <td>False</td>\n",
       "      <td>False</td>\n",
       "      <td>False</td>\n",
       "      <td>False</td>\n",
       "      <td>False</td>\n",
       "      <td>False</td>\n",
       "      <td>False</td>\n",
       "      <td>False</td>\n",
       "      <td>False</td>\n",
       "      <td>False</td>\n",
       "      <td>False</td>\n",
       "      <td>True</td>\n",
       "      <td>False</td>\n",
       "      <td>False</td>\n",
       "      <td>False</td>\n",
       "      <td>False</td>\n",
       "      <td>False</td>\n",
       "      <td>False</td>\n",
       "      <td>False</td>\n",
       "      <td>True</td>\n",
       "      <td>False</td>\n",
       "      <td>False</td>\n",
       "      <td>False</td>\n",
       "      <td>False</td>\n",
       "      <td>False</td>\n",
       "      <td>False</td>\n",
       "      <td>False</td>\n",
       "      <td>False</td>\n",
       "      <td>False</td>\n",
       "      <td>False</td>\n",
       "      <td>False</td>\n",
       "      <td>False</td>\n",
       "      <td>False</td>\n",
       "      <td>False</td>\n",
       "      <td>False</td>\n",
       "      <td>False</td>\n",
       "      <td>False</td>\n",
       "      <td>False</td>\n",
       "    </tr>\n",
       "    <tr>\n",
       "      <th>3</th>\n",
       "      <td>4</td>\n",
       "      <td>1</td>\n",
       "      <td>0</td>\n",
       "      <td>35.000</td>\n",
       "      <td>53.100</td>\n",
       "      <td>1</td>\n",
       "      <td>44</td>\n",
       "      <td>0</td>\n",
       "      <td>35.000</td>\n",
       "      <td>0</td>\n",
       "      <td>False</td>\n",
       "      <td>False</td>\n",
       "      <td>True</td>\n",
       "      <td>False</td>\n",
       "      <td>False</td>\n",
       "      <td>False</td>\n",
       "      <td>False</td>\n",
       "      <td>False</td>\n",
       "      <td>False</td>\n",
       "      <td>False</td>\n",
       "      <td>False</td>\n",
       "      <td>False</td>\n",
       "      <td>False</td>\n",
       "      <td>False</td>\n",
       "      <td>False</td>\n",
       "      <td>True</td>\n",
       "      <td>False</td>\n",
       "      <td>False</td>\n",
       "      <td>False</td>\n",
       "      <td>True</td>\n",
       "      <td>False</td>\n",
       "      <td>False</td>\n",
       "      <td>False</td>\n",
       "      <td>False</td>\n",
       "      <td>False</td>\n",
       "      <td>True</td>\n",
       "      <td>False</td>\n",
       "      <td>True</td>\n",
       "      <td>False</td>\n",
       "      <td>False</td>\n",
       "      <td>False</td>\n",
       "      <td>False</td>\n",
       "      <td>False</td>\n",
       "      <td>False</td>\n",
       "      <td>False</td>\n",
       "      <td>False</td>\n",
       "      <td>False</td>\n",
       "      <td>False</td>\n",
       "      <td>False</td>\n",
       "      <td>False</td>\n",
       "      <td>False</td>\n",
       "      <td>False</td>\n",
       "    </tr>\n",
       "    <tr>\n",
       "      <th>4</th>\n",
       "      <td>5</td>\n",
       "      <td>0</td>\n",
       "      <td>1</td>\n",
       "      <td>35.000</td>\n",
       "      <td>8.050</td>\n",
       "      <td>0</td>\n",
       "      <td>24</td>\n",
       "      <td>0</td>\n",
       "      <td>105.000</td>\n",
       "      <td>1</td>\n",
       "      <td>False</td>\n",
       "      <td>True</td>\n",
       "      <td>False</td>\n",
       "      <td>False</td>\n",
       "      <td>False</td>\n",
       "      <td>False</td>\n",
       "      <td>False</td>\n",
       "      <td>False</td>\n",
       "      <td>False</td>\n",
       "      <td>False</td>\n",
       "      <td>False</td>\n",
       "      <td>False</td>\n",
       "      <td>False</td>\n",
       "      <td>False</td>\n",
       "      <td>False</td>\n",
       "      <td>True</td>\n",
       "      <td>True</td>\n",
       "      <td>False</td>\n",
       "      <td>False</td>\n",
       "      <td>False</td>\n",
       "      <td>False</td>\n",
       "      <td>False</td>\n",
       "      <td>False</td>\n",
       "      <td>False</td>\n",
       "      <td>True</td>\n",
       "      <td>False</td>\n",
       "      <td>False</td>\n",
       "      <td>False</td>\n",
       "      <td>False</td>\n",
       "      <td>False</td>\n",
       "      <td>False</td>\n",
       "      <td>False</td>\n",
       "      <td>False</td>\n",
       "      <td>False</td>\n",
       "      <td>False</td>\n",
       "      <td>False</td>\n",
       "      <td>False</td>\n",
       "      <td>True</td>\n",
       "      <td>False</td>\n",
       "      <td>False</td>\n",
       "      <td>False</td>\n",
       "      <td>False</td>\n",
       "    </tr>\n",
       "  </tbody>\n",
       "</table>\n",
       "</div>"
      ],
      "text/plain": [
       "   PASSENGERID  SURVIVED  SEX    AGE   FARE  NEW_CABIN_BOOL  NEW_NAME_COUNT  NEW_NAME_DR  NEW_AGE_PCLASS  NEW_IS_ALONE  PCLASS_2  PCLASS_3  SIBSP_1  SIBSP_2  SIBSP_3  SIBSP_4  SIBSP_5  SIBSP_8  PARCH_1  PARCH_2  PARCH_3  PARCH_4  PARCH_5  PARCH_6  EMBARKED_Q  EMBARKED_S  NEW_NAME_WORD_COUNT_4  NEW_NAME_WORD_COUNT_5  NEW_NAME_WORD_COUNT_6  NEW_NAME_WORD_COUNT_7  NEW_NAME_WORD_COUNT_8  NEW_NAME_WORD_COUNT_9  NEW_NAME_WORD_COUNT_14  NEW_TITLE_Miss  NEW_TITLE_Mr  NEW_TITLE_Mrs  NEW_TITLE_Rare  \\\n",
       "0            1         0    1 22.000  7.250               0              23            0          66.000             0     False      True     True    False    False    False    False    False    False    False    False    False    False    False       False        True                   True                  False                  False                  False                  False                  False                   False           False          True          False           False   \n",
       "1            2         1    0 38.000 65.634               1              45            0          38.000             0     False     False     True    False    False    False    False    False    False    False    False    False    False    False       False       False                  False                  False                  False                   True                  False                  False                   False           False         False           True           False   \n",
       "2            3         1    0 26.000  7.925               0              22            0          78.000             1     False      True    False    False    False    False    False    False    False    False    False    False    False    False       False        True                  False                  False                  False                  False                  False                  False                   False            True         False          False           False   \n",
       "3            4         1    0 35.000 53.100               1              44            0          35.000             0     False     False     True    False    False    False    False    False    False    False    False    False    False    False       False        True                  False                  False                  False                   True                  False                  False                   False           False         False           True           False   \n",
       "4            5         0    1 35.000  8.050               0              24            0         105.000             1     False      True    False    False    False    False    False    False    False    False    False    False    False    False       False        True                   True                  False                  False                  False                  False                  False                   False           False          True          False           False   \n",
       "\n",
       "   NEW_FAMILY_SIZE_2  NEW_FAMILY_SIZE_3  NEW_FAMILY_SIZE_4  NEW_FAMILY_SIZE_5  NEW_FAMILY_SIZE_6  NEW_FAMILY_SIZE_7  NEW_FAMILY_SIZE_8  NEW_FAMILY_SIZE_11  NEW_AGE_CAT_senior  NEW_AGE_CAT_young  NEW_SEX_CAT_maturemale  NEW_SEX_CAT_seniorfemale  NEW_SEX_CAT_seniormale  NEW_SEX_CAT_youngfemale  NEW_SEX_CAT_youngmale  \n",
       "0               True              False              False              False              False              False              False               False               False              False                    True                     False                   False                    False                  False  \n",
       "1               True              False              False              False              False              False              False               False               False              False                   False                     False                   False                    False                  False  \n",
       "2              False              False              False              False              False              False              False               False               False              False                   False                     False                   False                    False                  False  \n",
       "3               True              False              False              False              False              False              False               False               False              False                   False                     False                   False                    False                  False  \n",
       "4              False              False              False              False              False              False              False               False               False              False                    True                     False                   False                    False                  False  "
      ]
     },
     "execution_count": 193,
     "metadata": {},
     "output_type": "execute_result"
    }
   ],
   "source": [
    "df.head()"
   ]
  },
  {
   "cell_type": "code",
   "execution_count": 195,
   "id": "eada8800-4c7e-41e3-a81e-c1988bb00559",
   "metadata": {},
   "outputs": [
    {
     "data": {
      "text/plain": [
       "(891, 52)"
      ]
     },
     "execution_count": 195,
     "metadata": {},
     "output_type": "execute_result"
    }
   ],
   "source": [
    "df.shape"
   ]
  },
  {
   "cell_type": "code",
   "execution_count": 197,
   "id": "1e93e1ce-9ebe-46f9-8046-f8dacd8a7296",
   "metadata": {},
   "outputs": [
    {
     "name": "stdout",
     "output_type": "stream",
     "text": [
      "Observetions: 891\n",
      "Variables: 52\n",
      "cat_cols: 44\n",
      "num_cols: 5\n",
      "cat_but_car: 0\n",
      "num_but_cat: 2\n"
     ]
    }
   ],
   "source": [
    "cat_cols, num_cols, cat_but_car = grab_col_names(df)"
   ]
  },
  {
   "cell_type": "code",
   "execution_count": 199,
   "id": "216e30de-0daa-4abd-9fdf-eb2ed81f8f50",
   "metadata": {
    "scrolled": true
   },
   "outputs": [
    {
     "name": "stdout",
     "output_type": "stream",
     "text": [
      "PCLASS_2 : 2\n",
      "          COUNT  RATIO  TARGET_MEAN\n",
      "PCLASS_2                           \n",
      "False       707  0.793        0.361\n",
      "True        184  0.207        0.473\n",
      "\n",
      "\n",
      "PCLASS_3 : 2\n",
      "          COUNT  RATIO  TARGET_MEAN\n",
      "PCLASS_3                           \n",
      "False       400  0.449        0.557\n",
      "True        491  0.551        0.242\n",
      "\n",
      "\n",
      "SIBSP_1 : 2\n",
      "         COUNT  RATIO  TARGET_MEAN\n",
      "SIBSP_1                           \n",
      "False      682  0.765        0.337\n",
      "True       209  0.235        0.536\n",
      "\n",
      "\n",
      "SIBSP_2 : 2\n",
      "         COUNT  RATIO  TARGET_MEAN\n",
      "SIBSP_2                           \n",
      "False      863  0.969        0.381\n",
      "True        28  0.031        0.464\n",
      "\n",
      "\n",
      "SIBSP_3 : 2\n",
      "         COUNT  RATIO  TARGET_MEAN\n",
      "SIBSP_3                           \n",
      "False      875  0.982        0.386\n",
      "True        16  0.018        0.250\n",
      "\n",
      "\n",
      "SIBSP_4 : 2\n",
      "         COUNT  RATIO  TARGET_MEAN\n",
      "SIBSP_4                           \n",
      "False      873  0.980        0.388\n",
      "True        18  0.020        0.167\n",
      "\n",
      "\n",
      "SIBSP_5 : 2\n",
      "         COUNT  RATIO  TARGET_MEAN\n",
      "SIBSP_5                           \n",
      "False      886  0.994        0.386\n",
      "True         5  0.006        0.000\n",
      "\n",
      "\n",
      "SIBSP_8 : 2\n",
      "         COUNT  RATIO  TARGET_MEAN\n",
      "SIBSP_8                           \n",
      "False      884  0.992        0.387\n",
      "True         7  0.008        0.000\n",
      "\n",
      "\n",
      "PARCH_1 : 2\n",
      "         COUNT  RATIO  TARGET_MEAN\n",
      "PARCH_1                           \n",
      "False      773  0.868        0.358\n",
      "True       118  0.132        0.551\n",
      "\n",
      "\n",
      "PARCH_2 : 2\n",
      "         COUNT  RATIO  TARGET_MEAN\n",
      "PARCH_2                           \n",
      "False      811  0.910        0.372\n",
      "True        80  0.090        0.500\n",
      "\n",
      "\n",
      "PARCH_3 : 2\n",
      "         COUNT  RATIO  TARGET_MEAN\n",
      "PARCH_3                           \n",
      "False      886  0.994        0.383\n",
      "True         5  0.006        0.600\n",
      "\n",
      "\n",
      "PARCH_4 : 2\n",
      "         COUNT  RATIO  TARGET_MEAN\n",
      "PARCH_4                           \n",
      "False      887  0.996        0.386\n",
      "True         4  0.004        0.000\n",
      "\n",
      "\n",
      "PARCH_5 : 2\n",
      "         COUNT  RATIO  TARGET_MEAN\n",
      "PARCH_5                           \n",
      "False      886  0.994        0.385\n",
      "True         5  0.006        0.200\n",
      "\n",
      "\n",
      "PARCH_6 : 2\n",
      "         COUNT  RATIO  TARGET_MEAN\n",
      "PARCH_6                           \n",
      "False      890  0.999        0.384\n",
      "True         1  0.001        0.000\n",
      "\n",
      "\n",
      "EMBARKED_Q : 2\n",
      "            COUNT  RATIO  TARGET_MEAN\n",
      "EMBARKED_Q                           \n",
      "False         814  0.914        0.383\n",
      "True           77  0.086        0.390\n",
      "\n",
      "\n",
      "EMBARKED_S : 2\n",
      "            COUNT  RATIO  TARGET_MEAN\n",
      "EMBARKED_S                           \n",
      "False         245  0.275        0.502\n",
      "True          646  0.725        0.339\n",
      "\n",
      "\n",
      "NEW_NAME_WORD_COUNT_4 : 2\n",
      "                       COUNT  RATIO  TARGET_MEAN\n",
      "NEW_NAME_WORD_COUNT_4                           \n",
      "False                    503  0.565        0.417\n",
      "True                     388  0.435        0.340\n",
      "\n",
      "\n",
      "NEW_NAME_WORD_COUNT_5 : 2\n",
      "                       COUNT  RATIO  TARGET_MEAN\n",
      "NEW_NAME_WORD_COUNT_5                           \n",
      "False                    795  0.892        0.379\n",
      "True                      96  0.108        0.427\n",
      "\n",
      "\n",
      "NEW_NAME_WORD_COUNT_6 : 2\n",
      "                       COUNT  RATIO  TARGET_MEAN\n",
      "NEW_NAME_WORD_COUNT_6                           \n",
      "False                    838  0.941        0.359\n",
      "True                      53  0.059        0.774\n",
      "\n",
      "\n",
      "NEW_NAME_WORD_COUNT_7 : 2\n",
      "                       COUNT  RATIO  TARGET_MEAN\n",
      "NEW_NAME_WORD_COUNT_7                           \n",
      "False                    853  0.957        0.363\n",
      "True                      38  0.043        0.842\n",
      "\n",
      "\n",
      "NEW_NAME_WORD_COUNT_8 : 2\n",
      "                       COUNT  RATIO  TARGET_MEAN\n",
      "NEW_NAME_WORD_COUNT_8                           \n",
      "False                    882  0.990        0.382\n",
      "True                       9  0.010        0.556\n",
      "\n",
      "\n",
      "NEW_NAME_WORD_COUNT_9 : 2\n",
      "                       COUNT  RATIO  TARGET_MEAN\n",
      "NEW_NAME_WORD_COUNT_9                           \n",
      "False                    890  0.999        0.383\n",
      "True                       1  0.001        1.000\n",
      "\n",
      "\n",
      "NEW_NAME_WORD_COUNT_14 : 2\n",
      "                        COUNT  RATIO  TARGET_MEAN\n",
      "NEW_NAME_WORD_COUNT_14                           \n",
      "False                     890  0.999        0.383\n",
      "True                        1  0.001        1.000\n",
      "\n",
      "\n",
      "NEW_TITLE_Miss : 2\n",
      "                COUNT  RATIO  TARGET_MEAN\n",
      "NEW_TITLE_Miss                           \n",
      "False             709  0.796        0.303\n",
      "True              182  0.204        0.698\n",
      "\n",
      "\n",
      "NEW_TITLE_Mr : 2\n",
      "              COUNT  RATIO  TARGET_MEAN\n",
      "NEW_TITLE_Mr                           \n",
      "False           374  0.420        0.698\n",
      "True            517  0.580        0.157\n",
      "\n",
      "\n",
      "NEW_TITLE_Mrs : 2\n",
      "               COUNT  RATIO  TARGET_MEAN\n",
      "NEW_TITLE_Mrs                           \n",
      "False            766  0.860        0.317\n",
      "True             125  0.140        0.792\n",
      "\n",
      "\n",
      "NEW_TITLE_Rare : 2\n",
      "                COUNT  RATIO  TARGET_MEAN\n",
      "NEW_TITLE_Rare                           \n",
      "False             864  0.970        0.382\n",
      "True               27  0.030        0.444\n",
      "\n",
      "\n",
      "NEW_FAMILY_SIZE_2 : 2\n",
      "                   COUNT  RATIO  TARGET_MEAN\n",
      "NEW_FAMILY_SIZE_2                           \n",
      "False                730  0.819        0.347\n",
      "True                 161  0.181        0.553\n",
      "\n",
      "\n",
      "NEW_FAMILY_SIZE_3 : 2\n",
      "                   COUNT  RATIO  TARGET_MEAN\n",
      "NEW_FAMILY_SIZE_3                           \n",
      "False                789  0.886        0.359\n",
      "True                 102  0.114        0.578\n",
      "\n",
      "\n",
      "NEW_FAMILY_SIZE_4 : 2\n",
      "                   COUNT  RATIO  TARGET_MEAN\n",
      "NEW_FAMILY_SIZE_4                           \n",
      "False                862  0.967        0.372\n",
      "True                  29  0.033        0.724\n",
      "\n",
      "\n",
      "NEW_FAMILY_SIZE_5 : 2\n",
      "                   COUNT  RATIO  TARGET_MEAN\n",
      "NEW_FAMILY_SIZE_5                           \n",
      "False                876  0.983        0.387\n",
      "True                  15  0.017        0.200\n",
      "\n",
      "\n",
      "NEW_FAMILY_SIZE_6 : 2\n",
      "                   COUNT  RATIO  TARGET_MEAN\n",
      "NEW_FAMILY_SIZE_6                           \n",
      "False                869  0.975        0.390\n",
      "True                  22  0.025        0.136\n",
      "\n",
      "\n",
      "NEW_FAMILY_SIZE_7 : 2\n",
      "                   COUNT  RATIO  TARGET_MEAN\n",
      "NEW_FAMILY_SIZE_7                           \n",
      "False                879  0.987        0.385\n",
      "True                  12  0.013        0.333\n",
      "\n",
      "\n",
      "NEW_FAMILY_SIZE_8 : 2\n",
      "                   COUNT  RATIO  TARGET_MEAN\n",
      "NEW_FAMILY_SIZE_8                           \n",
      "False                885  0.993        0.386\n",
      "True                   6  0.007        0.000\n",
      "\n",
      "\n",
      "NEW_FAMILY_SIZE_11 : 2\n",
      "                    COUNT  RATIO  TARGET_MEAN\n",
      "NEW_FAMILY_SIZE_11                           \n",
      "False                 884  0.992        0.387\n",
      "True                    7  0.008        0.000\n",
      "\n",
      "\n",
      "NEW_AGE_CAT_senior : 2\n",
      "                    COUNT  RATIO  TARGET_MEAN\n",
      "NEW_AGE_CAT_senior                           \n",
      "False                 852  0.956        0.387\n",
      "True                   39  0.044        0.308\n",
      "\n",
      "\n",
      "NEW_AGE_CAT_young : 2\n",
      "                   COUNT  RATIO  TARGET_MEAN\n",
      "NEW_AGE_CAT_young                           \n",
      "False                774  0.869        0.360\n",
      "True                 117  0.131        0.538\n",
      "\n",
      "\n",
      "NEW_SEX_CAT_maturemale : 2\n",
      "                        COUNT  RATIO  TARGET_MEAN\n",
      "NEW_SEX_CAT_maturemale                           \n",
      "False                     490  0.550        0.555\n",
      "True                      401  0.450        0.175\n",
      "\n",
      "\n",
      "NEW_SEX_CAT_seniorfemale : 2\n",
      "                          COUNT  RATIO  TARGET_MEAN\n",
      "NEW_SEX_CAT_seniorfemale                           \n",
      "False                       869  0.975        0.371\n",
      "True                         22  0.025        0.909\n",
      "\n",
      "\n",
      "NEW_SEX_CAT_seniormale : 2\n",
      "                        COUNT  RATIO  TARGET_MEAN\n",
      "NEW_SEX_CAT_seniormale                           \n",
      "False                     839  0.942        0.399\n",
      "True                       52  0.058        0.135\n",
      "\n",
      "\n",
      "NEW_SEX_CAT_youngfemale : 2\n",
      "                         COUNT  RATIO  TARGET_MEAN\n",
      "NEW_SEX_CAT_youngfemale                           \n",
      "False                      771  0.865        0.341\n",
      "True                       120  0.135        0.658\n",
      "\n",
      "\n",
      "NEW_SEX_CAT_youngmale : 2\n",
      "                       COUNT  RATIO  TARGET_MEAN\n",
      "NEW_SEX_CAT_youngmale                           \n",
      "False                    767  0.861        0.404\n",
      "True                     124  0.139        0.258\n",
      "\n",
      "\n",
      "SURVIVED : 2\n",
      "          COUNT  RATIO  TARGET_MEAN\n",
      "SURVIVED                           \n",
      "0           549  0.616        0.000\n",
      "1           342  0.384        1.000\n",
      "\n",
      "\n",
      "NEW_NAME_DR : 2\n",
      "             COUNT  RATIO  TARGET_MEAN\n",
      "NEW_NAME_DR                           \n",
      "0              881  0.989        0.383\n",
      "1               10  0.011        0.500\n",
      "\n",
      "\n"
     ]
    }
   ],
   "source": [
    "#oluşturduğumuz değişkenler gercekten işe gerekli mi değil mi analiz etmeye çalışıyoruz.\n",
    "rare_analyser(df, \"SURVIVED\", cat_cols)"
   ]
  },
  {
   "cell_type": "code",
   "execution_count": 201,
   "id": "f83300f5-2a91-4710-81d6-896ec0cb911b",
   "metadata": {},
   "outputs": [],
   "source": [
    "#kullanışsız sutunlr yani oran olarak çok düşük olan sınıflar\n",
    "useless_cols = [col for col in df.columns if df[col].nunique() == 2 and\n",
    "                (df[col].value_counts() / len(df) < 0.01).any(axis=None)]\n"
   ]
  },
  {
   "cell_type": "code",
   "execution_count": 203,
   "id": "2c70dbc6-2f93-4224-8ac9-a3f40b3db16a",
   "metadata": {},
   "outputs": [
    {
     "data": {
      "text/plain": [
       "['SIBSP_5',\n",
       " 'SIBSP_8',\n",
       " 'PARCH_3',\n",
       " 'PARCH_4',\n",
       " 'PARCH_5',\n",
       " 'PARCH_6',\n",
       " 'NEW_NAME_WORD_COUNT_9',\n",
       " 'NEW_NAME_WORD_COUNT_14',\n",
       " 'NEW_FAMILY_SIZE_8',\n",
       " 'NEW_FAMILY_SIZE_11']"
      ]
     },
     "execution_count": 203,
     "metadata": {},
     "output_type": "execute_result"
    }
   ],
   "source": [
    "useless_cols # bu oranları düşük olan değişkenleri silip silmemek bizim tercihimize kalan bir duurm"
   ]
  },
  {
   "cell_type": "markdown",
   "id": "13f9498f-d6cf-4fa2-b625-75181290e2b2",
   "metadata": {},
   "source": [
    "<span style=\"color: blue; font-weight: bold;\">7. STANDARTLAŞTIRMA </span>"
   ]
  },
  {
   "cell_type": "markdown",
   "id": "74dd6e5c-69fb-4403-a461-c049879ee59c",
   "metadata": {},
   "source": [
    "* Bu veri setinde gerekli bir adım değildir. Gerekli olması durumunda aşağıdaki gibi yapılmalıdır."
   ]
  },
  {
   "cell_type": "code",
   "execution_count": 208,
   "id": "6e48f33d-919a-4009-a4c4-471bea4c03f1",
   "metadata": {},
   "outputs": [
    {
     "data": {
      "text/plain": [
       "(891, 52)"
      ]
     },
     "execution_count": 208,
     "metadata": {},
     "output_type": "execute_result"
    }
   ],
   "source": [
    "scaler = StandardScaler()\n",
    "df[num_cols] = scaler.fit_transform(df[num_cols])\n",
    "\n",
    "df[num_cols].head()\n"
   ]
  },
  {
   "cell_type": "markdown",
   "id": "ad9d88f7-b2ed-4816-886d-fb0c4ee30b64",
   "metadata": {},
   "source": [
    "<span style=\"color: blue; font-weight: bold;\">8. MODEL KURMA </span>\n",
    "\n",
    "* Bu kısım makine öğrenmesinde detaylı ele alınacağı için yapılmamıştır."
   ]
  },
  {
   "cell_type": "code",
   "execution_count": null,
   "id": "40dab4a6-8bca-4a3e-a037-2ea11afecff9",
   "metadata": {},
   "outputs": [],
   "source": []
  }
 ],
 "metadata": {
  "kernelspec": {
   "display_name": "Python [conda env:base] *",
   "language": "python",
   "name": "conda-base-py"
  },
  "language_info": {
   "codemirror_mode": {
    "name": "ipython",
    "version": 3
   },
   "file_extension": ".py",
   "mimetype": "text/x-python",
   "name": "python",
   "nbconvert_exporter": "python",
   "pygments_lexer": "ipython3",
   "version": "3.12.3"
  }
 },
 "nbformat": 4,
 "nbformat_minor": 5
}
