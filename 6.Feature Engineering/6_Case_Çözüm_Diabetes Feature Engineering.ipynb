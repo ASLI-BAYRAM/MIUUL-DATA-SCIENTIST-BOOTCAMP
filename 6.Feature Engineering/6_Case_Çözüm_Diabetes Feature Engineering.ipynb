{
 "cells": [
  {
   "cell_type": "markdown",
   "id": "245ef15f-353b-4ada-b0f5-ebaf48dde208",
   "metadata": {},
   "source": [
    "<h1 style=\"text-align: center; color: RED\">DİYABET VERİ SETİ İÇİN FEATURE ENGİNEERİNG</h1>"
   ]
  },
  {
   "cell_type": "markdown",
   "id": "71084e44-00d8-4d2a-ac67-1866d066a2aa",
   "metadata": {},
   "source": [
    "<span style=\"color: blue; font-weight: bold;\">İŞ PROBLEMİ</span>\n",
    "\n",
    "Özellikleri belirtildiğinde kişilerin diyabet hastası olup olmadıklarını tahmin\n",
    "edebilecek bir makine öğrenmesi modeli geliştirilmesi istenmektedir. Modeli\n",
    "geliştirmeden önce gerekli olan veri analizi ve özellik mühendisliği adımlarını\n",
    "gerçekleştirmeniz beklenmektedir."
   ]
  },
  {
   "cell_type": "markdown",
   "id": "c399e38d-74d0-4048-b267-3483a60a3f1c",
   "metadata": {},
   "source": [
    "<span style=\"color: blue; font-weight: bold;\">VERİ SETİ HİKAYESİ</span>\n",
    "\n",
    "Veri seti ABD'deki Ulusal Diyabet-Sindirim-Böbrek Hastalıkları Enstitüleri'nde tutulan büyük veri setinin parçasıdır. ABD'deki\n",
    "Arizona Eyaleti'nin en büyük 5. şehri olan Phoenix şehrinde yaşayan 21 yaş ve üzerinde olan Pima Indian kadınları üzerinde\n",
    "yapılan diyabet araştırması için kullanılan verilerdir.\n",
    "Hedef değişken \"outcome\" olarak belirtilmiş olup; 1 diyabet test sonucunun pozitif oluşunu, 0 ise negatif oluşunu belirtmektedir.\n",
    "\n",
    "9 Değişken 768 Gözlem 24 KB\n",
    "\n",
    "Pregnancies: Hamilelik sayısı\n",
    "\n",
    "Glucose Oral: glikoz tolerans testinde 2 saatlik plazma glikoz konsantrasyonu\n",
    "\n",
    "Blood Pressure: Kan Basıncı (Küçük tansiyon) (mm Hg)\n",
    "\n",
    "SkinThickness: Cilt Kalınlığı\n",
    "\n",
    "Insulin: 2 saatlik serum insülini (mu U/ml)\n",
    "\n",
    "DiabetesPedigreeFunction: Fonksiyon (Oral glikoz tolerans testinde 2 saatlik plazma glikoz konsantrasyonu)\n",
    "\n",
    "BMI:Vücut kitle endeksi\n",
    "\n",
    "Age: Yaş (yıl)\n",
    "\n",
    "Outcome: Hastalığa sahip (1) ya da değil (0)"
   ]
  },
  {
   "cell_type": "markdown",
   "id": "124b1536-41ed-4939-bc7c-b61795716dd9",
   "metadata": {},
   "source": [
    "<h2 style=\"text-align: center; color: RED\">PROJE GÖREVLERİ</h2>"
   ]
  },
  {
   "cell_type": "code",
   "execution_count": 13,
   "id": "39e5ce36-2fd0-49f8-9b28-9352e7c55449",
   "metadata": {},
   "outputs": [],
   "source": [
    "import numpy as np\n",
    "import pandas as pd\n",
    "import seaborn as sns\n",
    "from matplotlib import pyplot as plt\n",
    "import missingno as msno #eksik değerler için kullanılan bir kütüphane\n",
    "from datetime import date\n",
    "from sklearn.metrics import accuracy_score\n",
    "from sklearn.model_selection import train_test_split\n",
    "from sklearn.neighbors import LocalOutlierFactor\n",
    "from sklearn.preprocessing import MinMaxScaler, LabelEncoder, StandardScaler, RobustScaler\n",
    "\n",
    "#Görsel ayaralama için\n",
    "pd.set_option('display.max_columns', None)\n",
    "pd.set_option('display.max_rows', None)\n",
    "pd.set_option('display.float_format', lambda x: '%.3f' % x)\n",
    "pd.set_option('display.width', 500)"
   ]
  },
  {
   "cell_type": "markdown",
   "id": "5adb836c-d199-4a17-819c-2da738d9e172",
   "metadata": {},
   "source": [
    "<span style=\"color: blue; font-weight: bold;\">Görev 1 : Keşifçi Veri Analizi</span>\n",
    "\n",
    "**Adım 1:** Genel resmi inceleyiniz."
   ]
  },
  {
   "cell_type": "code",
   "execution_count": 319,
   "id": "e025f044-d681-416f-b926-f4a22150b4fe",
   "metadata": {},
   "outputs": [],
   "source": [
    "df = pd.read_csv(\"C:\\\\Users\\\\ASLI\\\\Desktop\\\\Data Scientist Bootcamp\\\\6.Feature Engineering\\\\datasets\\\\diabetes.csv\")"
   ]
  },
  {
   "cell_type": "code",
   "execution_count": 233,
   "id": "66e884c5-d1f1-47b1-961d-302430e410a4",
   "metadata": {},
   "outputs": [
    {
     "name": "stdout",
     "output_type": "stream",
     "text": [
      "##############SHAPE##############\n",
      "(768, 9)\n",
      "##############TYPES##############\n",
      "Pregnancies                   int64\n",
      "Glucose                     float64\n",
      "BloodPressure               float64\n",
      "SkinThickness               float64\n",
      "Insulin                     float64\n",
      "BMI                         float64\n",
      "DiabetesPedigreeFunction    float64\n",
      "Age                         float64\n",
      "Outcome                       int64\n",
      "dtype: object\n",
      "##############COLUMNS#####################\n",
      "Index(['Pregnancies', 'Glucose', 'BloodPressure', 'SkinThickness', 'Insulin', 'BMI', 'DiabetesPedigreeFunction', 'Age', 'Outcome'], dtype='object')\n",
      "##############HEAD######################\n",
      "   Pregnancies  Glucose  BloodPressure  SkinThickness  Insulin    BMI  DiabetesPedigreeFunction    Age  Outcome\n",
      "0            6  148.000         72.000         35.000      NaN 33.600                     0.627 50.000        1\n",
      "1            1   85.000         66.000         29.000      NaN 26.600                     0.351 31.000        0\n",
      "2            8  183.000         64.000            NaN      NaN 23.300                     0.672 32.000        1\n",
      "3            1   89.000         66.000         23.000   94.000 28.100                     0.167 21.000        0\n",
      "4            0  137.000         40.000         35.000  168.000 43.100                     2.288 33.000        1\n",
      "##############TAİL#####################\n",
      "     Pregnancies  Glucose  BloodPressure  SkinThickness  Insulin    BMI  DiabetesPedigreeFunction    Age  Outcome\n",
      "763           10  101.000         76.000         48.000  180.000 32.900                     0.171 63.000        0\n",
      "764            2  122.000         70.000         27.000      NaN 36.800                     0.340 27.000        0\n",
      "765            5  121.000         72.000         23.000  112.000 26.200                     0.245 30.000        0\n",
      "766            1  126.000         60.000            NaN      NaN 30.100                     0.349 47.000        1\n",
      "767            1   93.000         70.000         31.000      NaN 30.400                     0.315 23.000        0\n",
      "##############DESCRİBE##########################\n",
      "                           count    mean     std    min     0%     5%    25%     50%     75%     95%     99%    100%     max\n",
      "Pregnancies              768.000   3.845   3.370  0.000  0.000  0.000  1.000   3.000   6.000  10.000  13.000  17.000  17.000\n",
      "Glucose                  763.000 121.687  30.536 44.000 44.000 80.000 99.000 117.000 141.000 181.000 196.000 199.000 199.000\n",
      "BloodPressure            733.000  72.405  12.382 24.000 24.000 52.000 64.000  72.000  80.000  92.000 106.000 122.000 122.000\n",
      "SkinThickness            541.000  29.153  10.477  7.000  7.000 13.000 22.000  29.000  36.000  46.000  53.200  99.000  99.000\n",
      "Insulin                  394.000 155.231 117.079 14.000 14.000 41.650 76.250 125.000 190.000 395.500 580.470 732.500 732.500\n",
      "BMI                      757.000  32.457   6.925 18.200 18.200 22.200 27.500  32.300  36.600  44.500  51.012  67.100  67.100\n",
      "DiabetesPedigreeFunction 768.000   0.472   0.331  0.078  0.078  0.140  0.244   0.372   0.626   1.133   1.698   2.420   2.420\n",
      "Age                      768.000  33.241  11.760 21.000 21.000 21.000 24.000  29.000  41.000  58.000  67.000  81.000  81.000\n",
      "Outcome                  768.000   0.349   0.477  0.000  0.000  0.000  0.000   0.000   1.000   1.000   1.000   1.000   1.000\n",
      "##############NULL#####################\n",
      "Pregnancies                   0\n",
      "Glucose                       5\n",
      "BloodPressure                35\n",
      "SkinThickness               227\n",
      "Insulin                     374\n",
      "BMI                          11\n",
      "DiabetesPedigreeFunction      0\n",
      "Age                           0\n",
      "Outcome                       0\n",
      "dtype: int64\n"
     ]
    }
   ],
   "source": [
    "def check_df(dataframe, head = 5):\n",
    "    print('##############SHAPE##############')\n",
    "    print(dataframe.shape)\n",
    "    print('##############TYPES##############')\n",
    "    print(dataframe.dtypes)\n",
    "    print('##############COLUMNS#####################')\n",
    "    print(dataframe.columns)\n",
    "    print('##############HEAD######################')\n",
    "    print(dataframe.head(head))\n",
    "    print('##############TAİL#####################')\n",
    "    print(dataframe.tail(head))\n",
    "    print('##############DESCRİBE##########################')\n",
    "    print(dataframe.describe([0, 0.05,0.25, 0.50,0.75, 0.95, 0.99, 1]).T)\n",
    "    print('##############NULL#####################')\n",
    "    print(dataframe.isnull().sum())\n",
    "check_df(df)"
   ]
  },
  {
   "cell_type": "markdown",
   "id": "bb87cb19-7462-4dde-aaf7-478898fd2571",
   "metadata": {},
   "source": [
    "**Adım 2:** Numerik ve kategorik değişkenleri yakalayınız."
   ]
  },
  {
   "cell_type": "code",
   "execution_count": 22,
   "id": "7bd33a74-fc25-4939-8e11-ae9bfc4640e9",
   "metadata": {},
   "outputs": [],
   "source": [
    "def grab_col_names(dataframe, cat_th=10, car_th=20):#parametrelerin ön tanımlı değerlerini burda belirttik\n",
    "\n",
    "    cat_cols = [col for col in dataframe.columns if str(dataframe[col].dtypes) in ['object', 'category', 'bool']]\n",
    "    num_but_cat = [col for col in dataframe.columns if dataframe[col].dtypes in ['int64', 'float64'] and dataframe[col].nunique() < cat_th]\n",
    "    cat_but_car = [col for col in dataframe.columns if str(dataframe[col].dtypes) in ['object', 'category'] and dataframe[col].nunique() > car_th]\n",
    "    cat_cols = cat_cols + num_but_cat\n",
    "    cat_cols = [col for col in cat_cols if col not in cat_but_car] \n",
    "\n",
    "    num_cols = [col for col in dataframe.columns if dataframe[col].dtypes  in ['int64', 'float64']] #bu sayısal değişkenleri verir\n",
    "    num_cols = [col for col in num_cols if col not in cat_cols] \n",
    "\n",
    "    print(f'Observetions: {dataframe.shape[0]}')\n",
    "    print(f'Variables: {dataframe.shape[1]}')\n",
    "    print(f'cat_cols: {len(cat_cols)}')\n",
    "    print(f'num_cols: {len(num_cols)}')\n",
    "    print(f'cat_but_car: {len(cat_but_car)}')\n",
    "    print(f'num_but_cat: {len(num_but_cat)}')\n",
    "\n",
    "    return cat_cols, num_cols, cat_but_car"
   ]
  },
  {
   "cell_type": "code",
   "execution_count": 30,
   "id": "4c4e9d9b-0df1-4420-bc08-30454f912a90",
   "metadata": {},
   "outputs": [
    {
     "data": {
      "text/plain": [
       "Pregnancies                  17\n",
       "Glucose                     136\n",
       "BloodPressure                47\n",
       "SkinThickness                51\n",
       "Insulin                     186\n",
       "BMI                         248\n",
       "DiabetesPedigreeFunction    517\n",
       "Age                          52\n",
       "Outcome                       2\n",
       "dtype: int64"
      ]
     },
     "execution_count": 30,
     "metadata": {},
     "output_type": "execute_result"
    }
   ],
   "source": [
    "df.nunique()"
   ]
  },
  {
   "cell_type": "code",
   "execution_count": 321,
   "id": "073050ec-5ff6-4a4d-b0be-d89c3bd1c732",
   "metadata": {},
   "outputs": [
    {
     "name": "stdout",
     "output_type": "stream",
     "text": [
      "Observetions: 768\n",
      "Variables: 9\n",
      "cat_cols: 1\n",
      "num_cols: 8\n",
      "cat_but_car: 0\n",
      "num_but_cat: 1\n"
     ]
    }
   ],
   "source": [
    "cat_cols, num_cols, cat_but_car = grab_col_names(df)"
   ]
  },
  {
   "cell_type": "code",
   "execution_count": 36,
   "id": "71012a36-2627-4498-90bc-f34e1e2ce72f",
   "metadata": {},
   "outputs": [
    {
     "data": {
      "text/plain": [
       "['Outcome']"
      ]
     },
     "execution_count": 36,
     "metadata": {},
     "output_type": "execute_result"
    }
   ],
   "source": [
    "cat_cols"
   ]
  },
  {
   "cell_type": "markdown",
   "id": "baf06d20-0b70-4f5f-8551-d024ef3913e5",
   "metadata": {},
   "source": [
    "**Adım 3:** Numerik ve kategorik değişkenlerin analizini yapınız."
   ]
  },
  {
   "cell_type": "code",
   "execution_count": 47,
   "id": "1f2cf47a-43d8-4ff2-87e2-98af4ec8058a",
   "metadata": {},
   "outputs": [],
   "source": [
    "def cat_summary(dataframe, col_name, plot = False):\n",
    "    print(pd.DataFrame({col_name: dataframe[col_name].value_counts(),\n",
    "                  'Ratio':100 * dataframe[col_name].value_counts() / dataframe.shape[0]}))\n",
    "    print('###################################')\n",
    "\n",
    "    if plot:\n",
    "        sns.countplot(data=dataframe, x = dataframe[col_name])\n",
    "        plt.show()\n"
   ]
  },
  {
   "cell_type": "code",
   "execution_count": 49,
   "id": "94522614-1772-44b6-ace1-df9b32cf1a5e",
   "metadata": {},
   "outputs": [
    {
     "name": "stdout",
     "output_type": "stream",
     "text": [
      "         Outcome  Ratio\n",
      "Outcome                \n",
      "0            500 65.104\n",
      "1            268 34.896\n",
      "###################################\n"
     ]
    },
    {
     "data": {
      "image/png": "[encoded data removed]",
      "text/plain": [
       "<Figure size 640x480 with 1 Axes>"
      ]
     },
     "metadata": {},
     "output_type": "display_data"
    }
   ],
   "source": [
    "for col in cat_cols:\n",
    "    cat_summary(df, col, plot = True)"
   ]
  },
  {
   "cell_type": "markdown",
   "id": "e5ba5eaa-b8d8-4fc3-902b-785166e7c95c",
   "metadata": {},
   "source": [
    "* Veri Outcome değişkenindeki sınıf sayısına baktığımızda çok olmasada   dengesiz bir veri dağılımı var diyebiliriz."
   ]
  },
  {
   "cell_type": "code",
   "execution_count": 76,
   "id": "7f3cd131-8734-4d13-b9e7-668fda751950",
   "metadata": {},
   "outputs": [],
   "source": [
    "def num_summary(dataframe, col_name, plot = False):\n",
    "    quantiles = [0.05, 0.10, 0.20, 0.30, 0.40, 0.50, 0.60, 0.70, 0.80, 0.90, 0.99 ]\n",
    "    print(dataframe[col_name].describe(quantiles)) #sayısal değişkenlerin betimsel istatistikleri\n",
    "    print('################################')\n",
    "\n",
    "    if plot:\n",
    "        plt.figure(figsize=(8, 4))\n",
    "        sns.histplot(data=dataframe, x=col_name, kde=True)\n",
    "        plt.title(f\"{col_name} Dağılımı\")\n",
    "        plt.show()"
   ]
  },
  {
   "cell_type": "code",
   "execution_count": 78,
   "id": "c5fbeb75-a636-4b62-8c51-e21923c88cb1",
   "metadata": {
    "scrolled": true
   },
   "outputs": [
    {
     "name": "stdout",
     "output_type": "stream",
     "text": [
      "count   768.000\n",
      "mean      3.845\n",
      "std       3.370\n",
      "min       0.000\n",
      "5%        0.000\n",
      "10%       0.000\n",
      "20%       1.000\n",
      "30%       1.000\n",
      "40%       2.000\n",
      "50%       3.000\n",
      "60%       4.000\n",
      "70%       5.000\n",
      "80%       7.000\n",
      "90%       9.000\n",
      "99%      13.000\n",
      "max      17.000\n",
      "Name: Pregnancies, dtype: float64\n",
      "################################\n"
     ]
    },
    {
     "data": {
      "image/png": "[encoded data removed]",
      "text/plain": [
       "<Figure size 800x400 with 1 Axes>"
      ]
     },
     "metadata": {},
     "output_type": "display_data"
    },
    {
     "name": "stdout",
     "output_type": "stream",
     "text": [
      "count   768.000\n",
      "mean    120.895\n",
      "std      31.973\n",
      "min       0.000\n",
      "5%       79.000\n",
      "10%      85.000\n",
      "20%      95.000\n",
      "30%     102.000\n",
      "40%     109.000\n",
      "50%     117.000\n",
      "60%     125.000\n",
      "70%     134.000\n",
      "80%     147.000\n",
      "90%     167.000\n",
      "99%     196.000\n",
      "max     199.000\n",
      "Name: Glucose, dtype: float64\n",
      "################################\n"
     ]
    },
    {
     "data": {
      "image/png": "[encoded data removed]",
      "text/plain": [
       "<Figure size 800x400 with 1 Axes>"
      ]
     },
     "metadata": {},
     "output_type": "display_data"
    },
    {
     "name": "stdout",
     "output_type": "stream",
     "text": [
      "count   768.000\n",
      "mean     69.105\n",
      "std      19.356\n",
      "min       0.000\n",
      "5%       38.700\n",
      "10%      54.000\n",
      "20%      60.000\n",
      "30%      64.000\n",
      "40%      68.000\n",
      "50%      72.000\n",
      "60%      74.000\n",
      "70%      78.000\n",
      "80%      82.000\n",
      "90%      88.000\n",
      "99%     106.000\n",
      "max     122.000\n",
      "Name: BloodPressure, dtype: float64\n",
      "################################\n"
     ]
    },
    {
     "data": {
      "image/png": "[encoded data removed]",
      "text/plain": [
       "<Figure size 800x400 with 1 Axes>"
      ]
     },
     "metadata": {},
     "output_type": "display_data"
    },
    {
     "name": "stdout",
     "output_type": "stream",
     "text": [
      "count   768.000\n",
      "mean     20.536\n",
      "std      15.952\n",
      "min       0.000\n",
      "5%        0.000\n",
      "10%       0.000\n",
      "20%       0.000\n",
      "30%       8.200\n",
      "40%      18.000\n",
      "50%      23.000\n",
      "60%      27.000\n",
      "70%      31.000\n",
      "80%      35.000\n",
      "90%      40.000\n",
      "99%      51.330\n",
      "max      99.000\n",
      "Name: SkinThickness, dtype: float64\n",
      "################################\n"
     ]
    },
    {
     "data": {
      "image/png": "[encoded data removed]",
      "text/plain": [
       "<Figure size 800x400 with 1 Axes>"
      ]
     },
     "metadata": {},
     "output_type": "display_data"
    },
    {
     "name": "stdout",
     "output_type": "stream",
     "text": [
      "count   768.000\n",
      "mean     79.799\n",
      "std     115.244\n",
      "min       0.000\n",
      "5%        0.000\n",
      "10%       0.000\n",
      "20%       0.000\n",
      "30%       0.000\n",
      "40%       0.000\n",
      "50%      30.500\n",
      "60%      72.200\n",
      "70%     106.000\n",
      "80%     150.000\n",
      "90%     210.000\n",
      "99%     519.900\n",
      "max     846.000\n",
      "Name: Insulin, dtype: float64\n",
      "################################\n"
     ]
    },
    {
     "data": {
      "image/png": "[encoded data removed]",
      "text/plain": [
       "<Figure size 800x400 with 1 Axes>"
      ]
     },
     "metadata": {},
     "output_type": "display_data"
    },
    {
     "name": "stdout",
     "output_type": "stream",
     "text": [
      "count   768.000\n",
      "mean     31.993\n",
      "std       7.884\n",
      "min       0.000\n",
      "5%       21.800\n",
      "10%      23.600\n",
      "20%      25.900\n",
      "30%      28.200\n",
      "40%      30.100\n",
      "50%      32.000\n",
      "60%      33.700\n",
      "70%      35.490\n",
      "80%      37.800\n",
      "90%      41.500\n",
      "99%      50.759\n",
      "max      67.100\n",
      "Name: BMI, dtype: float64\n",
      "################################\n"
     ]
    },
    {
     "data": {
      "image/png": "[encoded data removed]",
      "text/plain": [
       "<Figure size 800x400 with 1 Axes>"
      ]
     },
     "metadata": {},
     "output_type": "display_data"
    },
    {
     "name": "stdout",
     "output_type": "stream",
     "text": [
      "count   768.000\n",
      "mean      0.472\n",
      "std       0.331\n",
      "min       0.078\n",
      "5%        0.140\n",
      "10%       0.165\n",
      "20%       0.219\n",
      "30%       0.259\n",
      "40%       0.303\n",
      "50%       0.372\n",
      "60%       0.454\n",
      "70%       0.564\n",
      "80%       0.687\n",
      "90%       0.879\n",
      "99%       1.698\n",
      "max       2.420\n",
      "Name: DiabetesPedigreeFunction, dtype: float64\n",
      "################################\n"
     ]
    },
    {
     "data": {
      "image/png": "[encoded data removed]",
      "text/plain": [
       "<Figure size 800x400 with 1 Axes>"
      ]
     },
     "metadata": {},
     "output_type": "display_data"
    },
    {
     "name": "stdout",
     "output_type": "stream",
     "text": [
      "count   768.000\n",
      "mean     33.241\n",
      "std      11.760\n",
      "min      21.000\n",
      "5%       21.000\n",
      "10%      22.000\n",
      "20%      23.000\n",
      "30%      25.000\n",
      "40%      27.000\n",
      "50%      29.000\n",
      "60%      33.000\n",
      "70%      38.000\n",
      "80%      42.600\n",
      "90%      51.000\n",
      "99%      67.000\n",
      "max      81.000\n",
      "Name: Age, dtype: float64\n",
      "################################\n"
     ]
    },
    {
     "data": {
      "image/png": "[encoded data removed]",
      "text/plain": [
       "<Figure size 800x400 with 1 Axes>"
      ]
     },
     "metadata": {},
     "output_type": "display_data"
    }
   ],
   "source": [
    "for col in num_cols:\n",
    "    num_summary(df, col, plot = True)"
   ]
  },
  {
   "cell_type": "markdown",
   "id": "e6d2905d-834d-4716-87e8-25dab538f520",
   "metadata": {},
   "source": [
    "**Adım 4:** Hedef değişken analizi yapınız. (Kategorik değişkenlere göre hedef değişkenin ortalaması, hedef değişkene göre\n",
    "numerik değişkenlerin ortalaması)"
   ]
  },
  {
   "cell_type": "code",
   "execution_count": 81,
   "id": "737957fa-585f-482d-a8ed-8a576193faa3",
   "metadata": {},
   "outputs": [],
   "source": [
    "def target_summary_with_num(dataframe, target, num_col):\n",
    "    print(dataframe.groupby(target).agg({num_col:'mean'}))"
   ]
  },
  {
   "cell_type": "code",
   "execution_count": 83,
   "id": "e8c2c87b-2995-4248-bd24-7b1aa03aeedd",
   "metadata": {
    "scrolled": true
   },
   "outputs": [
    {
     "name": "stdout",
     "output_type": "stream",
     "text": [
      "         Pregnancies\n",
      "Outcome             \n",
      "0              3.298\n",
      "1              4.866\n",
      "         Glucose\n",
      "Outcome         \n",
      "0        109.980\n",
      "1        141.257\n",
      "         BloodPressure\n",
      "Outcome               \n",
      "0               68.184\n",
      "1               70.825\n",
      "         SkinThickness\n",
      "Outcome               \n",
      "0               19.664\n",
      "1               22.164\n",
      "         Insulin\n",
      "Outcome         \n",
      "0         68.792\n",
      "1        100.336\n",
      "           BMI\n",
      "Outcome       \n",
      "0       30.304\n",
      "1       35.143\n",
      "         DiabetesPedigreeFunction\n",
      "Outcome                          \n",
      "0                           0.430\n",
      "1                           0.550\n",
      "           Age\n",
      "Outcome       \n",
      "0       31.190\n",
      "1       37.067\n"
     ]
    }
   ],
   "source": [
    "for col in num_cols:\n",
    "    target_summary_with_num(df, df['Outcome'], col)"
   ]
  },
  {
   "cell_type": "markdown",
   "id": "9fe091b2-a290-4b0c-ad55-85046758f38d",
   "metadata": {},
   "source": [
    "**Adım 5:** Aykırı gözlem analizi yapınız."
   ]
  },
  {
   "cell_type": "markdown",
   "id": "56a677e4-3212-4add-8a9a-2ef565efcf2d",
   "metadata": {},
   "source": [
    "* Sayısal değişkenlerin betimsel istatistiklerine baktığımda aykırı değer yok gibi görünüyor.Ama biz yine de ucundan veri setini yapsını bozmadan aykırı değerlere bakıp baskılayalım"
   ]
  },
  {
   "cell_type": "code",
   "execution_count": 205,
   "id": "ad1e15e3-4421-465f-a661-f9372871308b",
   "metadata": {},
   "outputs": [],
   "source": [
    "def outlier_tresholds(dataframe, col_name, q1=0.05, q3=0.95):\n",
    "    q1 = dataframe[col_name].quantile(q1)\n",
    "    q3 = dataframe[col_name].quantile(q3)\n",
    "    IQR = q3 -q1\n",
    "    up_limit = q3 + 1.5*IQR\n",
    "    low_limit = q1 - 1.5*IQR\n",
    "    return low_limit, up_limit"
   ]
  },
  {
   "cell_type": "code",
   "execution_count": 323,
   "id": "d8c5ac4d-23c8-49dd-bd95-b44305e95d00",
   "metadata": {},
   "outputs": [],
   "source": [
    "def check_outliers(dataframe, col_name):\n",
    "    low_limit, up_limit = outlier_tresholds(dataframe, col_name)\n",
    "    if dataframe[(dataframe[col_name] < low_limit)|(dataframe[col_name] > up_limit)].any(axis=None):\n",
    "        return True\n",
    "    else:\n",
    "        return False"
   ]
  },
  {
   "cell_type": "code",
   "execution_count": 325,
   "id": "51be64b0-0b14-4532-94f0-69dde132dc2b",
   "metadata": {},
   "outputs": [
    {
     "name": "stdout",
     "output_type": "stream",
     "text": [
      "Pregnancies False\n",
      "Glucose False\n",
      "BloodPressure False\n",
      "SkinThickness False\n",
      "Insulin True\n",
      "BMI False\n",
      "DiabetesPedigreeFunction False\n",
      "Age False\n"
     ]
    }
   ],
   "source": [
    "for col in num_cols:\n",
    "    print(col,check_outliers(df, col))"
   ]
  },
  {
   "cell_type": "markdown",
   "id": "ae079d76-b777-4ad5-8a5a-a78da1c39391",
   "metadata": {},
   "source": [
    "**Adım 6:** Eksik gözlem analizi yapınız."
   ]
  },
  {
   "cell_type": "code",
   "execution_count": 135,
   "id": "4e994624-3ddc-425c-bf64-4dcfa269fdf3",
   "metadata": {},
   "outputs": [
    {
     "data": {
      "text/plain": [
       "Pregnancies                 False\n",
       "Glucose                     False\n",
       "BloodPressure               False\n",
       "SkinThickness               False\n",
       "Insulin                     False\n",
       "BMI                         False\n",
       "DiabetesPedigreeFunction    False\n",
       "Age                         False\n",
       "Outcome                     False\n",
       "dtype: bool"
      ]
     },
     "execution_count": 135,
     "metadata": {},
     "output_type": "execute_result"
    }
   ],
   "source": [
    "df.isnull().any()"
   ]
  },
  {
   "cell_type": "markdown",
   "id": "340078e0-a7dc-40c8-862c-ace8af84562a",
   "metadata": {},
   "source": [
    "* Veri setinde eksik değer görünümüyor fakat bazı değişkenlerde 0 değeri var. Hamilelikte ve hedef değişkende 0 olabilir. Fakat cilt kalınlığı, glikoz değerinin sıfır olması pek mümkün değildir.Bu sebeple 0 olan bu değerleri eksik değer olarak kabul edebiliriz."
   ]
  },
  {
   "cell_type": "markdown",
   "id": "bdb47311-0d4e-44f5-8c6f-bdafdda9fd30",
   "metadata": {},
   "source": [
    "**Adım 7:** Korelasyon analizi yapınız."
   ]
  },
  {
   "cell_type": "code",
   "execution_count": 143,
   "id": "77b2abfd-7ed6-41ab-a6e1-687a60868c5a",
   "metadata": {},
   "outputs": [
    {
     "data": {
      "image/png": "[encoded data removed]",
      "text/plain": [
       "<Figure size 640x480 with 2 Axes>"
      ]
     },
     "metadata": {},
     "output_type": "display_data"
    },
    {
     "data": {
      "text/plain": [
       "[]"
      ]
     },
     "execution_count": 143,
     "metadata": {},
     "output_type": "execute_result"
    }
   ],
   "source": [
    "def high_correlated_cols(dataframe, plot=False, corr_th=0.90):\n",
    "    corr_matrix = dataframe.select_dtypes(include='number').corr().abs()\n",
    "    upper_triangle_matrix = corr_matrix.where(np.triu(np.ones(corr_matrix.shape), k=1).astype(bool))\n",
    "    drop_list = [col for col in upper_triangle_matrix.columns if any(upper_triangle_matrix[col] > corr_th)]\n",
    "\n",
    "    if plot:\n",
    "        import seaborn as sns\n",
    "        import matplotlib.pyplot as plt\n",
    "        sns.heatmap(corr_matrix, cmap=\"RdBu\", annot=False)\n",
    "        plt.title(\"Correlation Matrix\")\n",
    "        plt.show()\n",
    "\n",
    "    return drop_list\n",
    "\n",
    "drop_list = high_correlated_cols(df, plot=True)\n",
    "drop_list"
   ]
  },
  {
   "cell_type": "markdown",
   "id": "713b5186-9213-43ed-9e4f-9a3bba1453df",
   "metadata": {},
   "source": [
    "* Birbiri ile yüksek korelasyonlu değişken yok."
   ]
  },
  {
   "cell_type": "markdown",
   "id": "f728354b-6f64-4c4f-959d-6823308ed548",
   "metadata": {},
   "source": [
    "* Belirlediğimiz eşik değer için Insulin değişkeninde aykırı değer var gözünüyor.Bu aykırı değeri baskılayalım."
   ]
  },
  {
   "cell_type": "markdown",
   "id": "7ec08f39-71b5-44af-9b78-acdc6e35841a",
   "metadata": {},
   "source": [
    "<span style=\"color: blue; font-weight: bold;\"> Görev 2 : Feature Engineering</span>\n",
    "\n",
    "**Adım 1:** Eksik ve aykırı değerler için gerekli işlemleri yapınız. Veri setinde eksik gözlem bulunmamakta ama Glikoz, Insulin vb.\n",
    "değişkenlerde 0 değeri içeren gözlem birimleri eksik değeri ifade ediyor olabilir. Örneğin; bir kişinin glikoz veya insulin değeri 0\n",
    "olamayacaktır. Bu durumu dikkate alarak sıfır değerlerini ilgili değerlerde NaN olarak atama yapıp sonrasında eksik\n",
    "değerlere işlemleri uygulayabilirsiniz."
   ]
  },
  {
   "cell_type": "code",
   "execution_count": 327,
   "id": "e8ef4586-f840-4840-bbd0-d0081b1752f0",
   "metadata": {},
   "outputs": [],
   "source": [
    "#aykırı değeri baskılama\n",
    "def replace_with_thresholds(dataframe, col_name):\n",
    "    low_limit, up_limit = outlier_tresholds(dataframe, col_name)\n",
    "    dataframe.loc[(dataframe[col_name] < low_limit), col_name] = low_limit\n",
    "    dataframe.loc[(dataframe[col_name] > up_limit), col_name] = up_limit"
   ]
  },
  {
   "cell_type": "code",
   "execution_count": 329,
   "id": "b387ff11-bcbd-4a3c-b514-af82e29f96a3",
   "metadata": {},
   "outputs": [
    {
     "name": "stderr",
     "output_type": "stream",
     "text": [
      "C:\\Users\\ASLI\\AppData\\Local\\Temp\\ipykernel_9684\\2569428398.py:4: FutureWarning: Setting an item of incompatible dtype is deprecated and will raise an error in a future version of pandas. Value '-439.5' has dtype incompatible with int64, please explicitly cast to a compatible dtype first.\n",
      "  dataframe.loc[(dataframe[col_name] < low_limit), col_name] = low_limit\n"
     ]
    }
   ],
   "source": [
    "replace_with_thresholds(df, 'Insulin')"
   ]
  },
  {
   "cell_type": "code",
   "execution_count": 331,
   "id": "b2c58b6b-9e4c-4b85-a65a-f73eebe6c410",
   "metadata": {},
   "outputs": [
    {
     "name": "stdout",
     "output_type": "stream",
     "text": [
      "Pregnancies False\n",
      "Glucose False\n",
      "BloodPressure False\n",
      "SkinThickness False\n",
      "Insulin False\n",
      "BMI False\n",
      "DiabetesPedigreeFunction False\n",
      "Age False\n"
     ]
    }
   ],
   "source": [
    "for col in num_cols:\n",
    "    print(col,check_outliers(df, col))"
   ]
  },
  {
   "cell_type": "code",
   "execution_count": 162,
   "id": "9db38dab-f931-4039-a925-cb167071006e",
   "metadata": {},
   "outputs": [
    {
     "data": {
      "text/plain": [
       "count   768.000\n",
       "mean     79.637\n",
       "std     114.243\n",
       "min       0.000\n",
       "25%       0.000\n",
       "50%      30.500\n",
       "75%     127.250\n",
       "max     732.500\n",
       "Name: Insulin, dtype: float64"
      ]
     },
     "execution_count": 162,
     "metadata": {},
     "output_type": "execute_result"
    }
   ],
   "source": [
    "df['Insulin'].describe()"
   ]
  },
  {
   "cell_type": "code",
   "execution_count": 333,
   "id": "fa278a98-e8d7-4798-96d2-fff03071a0f9",
   "metadata": {},
   "outputs": [],
   "source": [
    "#Eksik Değer\n",
    "nan_list = ['Glucose', 'BloodPressure', 'SkinThickness', 'Insulin', 'BMI', 'DiabetesPedigreeFunction', 'Age']\n"
   ]
  },
  {
   "cell_type": "code",
   "execution_count": 219,
   "id": "ab9a56f1-8b86-4e96-b35b-9dfebcae6324",
   "metadata": {},
   "outputs": [
    {
     "data": {
      "text/html": [
       "<div>\n",
       "<style scoped>\n",
       "    .dataframe tbody tr th:only-of-type {\n",
       "        vertical-align: middle;\n",
       "    }\n",
       "\n",
       "    .dataframe tbody tr th {\n",
       "        vertical-align: top;\n",
       "    }\n",
       "\n",
       "    .dataframe thead th {\n",
       "        text-align: right;\n",
       "    }\n",
       "</style>\n",
       "<table border=\"1\" class=\"dataframe\">\n",
       "  <thead>\n",
       "    <tr style=\"text-align: right;\">\n",
       "      <th></th>\n",
       "      <th>Pregnancies</th>\n",
       "      <th>Glucose</th>\n",
       "      <th>BloodPressure</th>\n",
       "      <th>SkinThickness</th>\n",
       "      <th>Insulin</th>\n",
       "      <th>BMI</th>\n",
       "      <th>DiabetesPedigreeFunction</th>\n",
       "      <th>Age</th>\n",
       "      <th>Outcome</th>\n",
       "    </tr>\n",
       "  </thead>\n",
       "  <tbody>\n",
       "    <tr>\n",
       "      <th>75</th>\n",
       "      <td>1</td>\n",
       "      <td>0</td>\n",
       "      <td>48</td>\n",
       "      <td>20</td>\n",
       "      <td>0.000</td>\n",
       "      <td>24.700</td>\n",
       "      <td>0.140</td>\n",
       "      <td>22</td>\n",
       "      <td>0</td>\n",
       "    </tr>\n",
       "    <tr>\n",
       "      <th>182</th>\n",
       "      <td>1</td>\n",
       "      <td>0</td>\n",
       "      <td>74</td>\n",
       "      <td>20</td>\n",
       "      <td>23.000</td>\n",
       "      <td>27.700</td>\n",
       "      <td>0.299</td>\n",
       "      <td>21</td>\n",
       "      <td>0</td>\n",
       "    </tr>\n",
       "    <tr>\n",
       "      <th>342</th>\n",
       "      <td>1</td>\n",
       "      <td>0</td>\n",
       "      <td>68</td>\n",
       "      <td>35</td>\n",
       "      <td>0.000</td>\n",
       "      <td>32.000</td>\n",
       "      <td>0.389</td>\n",
       "      <td>22</td>\n",
       "      <td>0</td>\n",
       "    </tr>\n",
       "    <tr>\n",
       "      <th>349</th>\n",
       "      <td>5</td>\n",
       "      <td>0</td>\n",
       "      <td>80</td>\n",
       "      <td>32</td>\n",
       "      <td>0.000</td>\n",
       "      <td>41.000</td>\n",
       "      <td>0.346</td>\n",
       "      <td>37</td>\n",
       "      <td>1</td>\n",
       "    </tr>\n",
       "    <tr>\n",
       "      <th>502</th>\n",
       "      <td>6</td>\n",
       "      <td>0</td>\n",
       "      <td>68</td>\n",
       "      <td>41</td>\n",
       "      <td>0.000</td>\n",
       "      <td>39.000</td>\n",
       "      <td>0.727</td>\n",
       "      <td>41</td>\n",
       "      <td>1</td>\n",
       "    </tr>\n",
       "  </tbody>\n",
       "</table>\n",
       "</div>"
      ],
      "text/plain": [
       "     Pregnancies  Glucose  BloodPressure  SkinThickness  Insulin    BMI  DiabetesPedigreeFunction  Age  Outcome\n",
       "75             1        0             48             20    0.000 24.700                     0.140   22        0\n",
       "182            1        0             74             20   23.000 27.700                     0.299   21        0\n",
       "342            1        0             68             35    0.000 32.000                     0.389   22        0\n",
       "349            5        0             80             32    0.000 41.000                     0.346   37        1\n",
       "502            6        0             68             41    0.000 39.000                     0.727   41        1"
      ]
     },
     "execution_count": 219,
     "metadata": {},
     "output_type": "execute_result"
    }
   ],
   "source": [
    "df[df['Glucose'] ==0]"
   ]
  },
  {
   "cell_type": "code",
   "execution_count": 335,
   "id": "4a361249-7754-4300-8d19-175e9dd5a08e",
   "metadata": {},
   "outputs": [],
   "source": [
    "for col in nan_list:\n",
    "    df[col]=df[col].where(df[col] >0)"
   ]
  },
  {
   "cell_type": "code",
   "execution_count": 337,
   "id": "62fb2d92-1808-462e-9908-6674d185406e",
   "metadata": {},
   "outputs": [
    {
     "data": {
      "text/plain": [
       "Pregnancies                   0\n",
       "Glucose                       5\n",
       "BloodPressure                35\n",
       "SkinThickness               227\n",
       "Insulin                     374\n",
       "BMI                          11\n",
       "DiabetesPedigreeFunction      0\n",
       "Age                           0\n",
       "Outcome                       0\n",
       "dtype: int64"
      ]
     },
     "execution_count": 337,
     "metadata": {},
     "output_type": "execute_result"
    }
   ],
   "source": [
    "df.isnull().sum()"
   ]
  },
  {
   "cell_type": "code",
   "execution_count": 225,
   "id": "a3ce9895-4e98-423d-90cb-cfdbe3335795",
   "metadata": {},
   "outputs": [],
   "source": [
    "#Başka bir yöntem\n",
    "for col in nan_list:\n",
    "    df[col] = np.where(df[col] == 0, np.nan, df[col])"
   ]
  },
  {
   "cell_type": "markdown",
   "id": "e95d93dd-f82d-4ee1-8dfd-8264c6eebdcf",
   "metadata": {},
   "source": [
    "* Bu eksik değerleri analiz edelim"
   ]
  },
  {
   "cell_type": "code",
   "execution_count": 339,
   "id": "a1c8ca3b-5d96-4732-b5d7-fc8ba17f9796",
   "metadata": {},
   "outputs": [
    {
     "name": "stdout",
     "output_type": "stream",
     "text": [
      "               n_miss  ratio\n",
      "Insulin           374 48.700\n",
      "SkinThickness     227 29.560\n",
      "BloodPressure      35  4.560\n",
      "BMI                11  1.430\n",
      "Glucose             5  0.650\n"
     ]
    }
   ],
   "source": [
    "def missing_values_table(dataframe, na_name=False):\n",
    "    na_columns = [col for col in dataframe.columns if dataframe[col].isnull().sum() > 0]\n",
    "    n_miss = dataframe[na_columns].isnull().sum().sort_values(ascending=False)\n",
    "    ratio = (dataframe[na_columns].isnull().sum() / dataframe.shape[0] * 100).sort_values(ascending=False)\n",
    "    missing_df = pd.concat([n_miss, np.round(ratio, 2)], axis=1, keys=['n_miss', 'ratio'])\n",
    "    print(missing_df, end=\"\\n\")\n",
    "    if na_name:\n",
    "        return na_columns\n",
    "\n",
    "na_columns = missing_values_table(df, na_name=True)"
   ]
  },
  {
   "cell_type": "code",
   "execution_count": 341,
   "id": "b99b64b6-df45-431b-8669-015e1b50538b",
   "metadata": {},
   "outputs": [
    {
     "data": {
      "text/plain": [
       "['Glucose', 'BloodPressure', 'SkinThickness', 'Insulin', 'BMI']"
      ]
     },
     "execution_count": 341,
     "metadata": {},
     "output_type": "execute_result"
    }
   ],
   "source": [
    "na_columns"
   ]
  },
  {
   "cell_type": "code",
   "execution_count": 343,
   "id": "539963fb-f5f9-417f-bccd-fcc8164d85b8",
   "metadata": {},
   "outputs": [],
   "source": [
    "for col in na_columns:\n",
    "    df[col]=df[col].fillna(df[col].median())"
   ]
  },
  {
   "cell_type": "code",
   "execution_count": 237,
   "id": "fee263cc-76aa-4573-8749-30492dae02c5",
   "metadata": {},
   "outputs": [
    {
     "name": "stdout",
     "output_type": "stream",
     "text": [
      "Empty DataFrame\n",
      "Columns: [n_miss, ratio]\n",
      "Index: []\n"
     ]
    }
   ],
   "source": [
    "na_columns = missing_values_table(df, na_name=True)"
   ]
  },
  {
   "cell_type": "code",
   "execution_count": 239,
   "id": "c4d242a0-4008-474d-b848-39ce8d05d0dd",
   "metadata": {},
   "outputs": [
    {
     "data": {
      "text/html": [
       "<div>\n",
       "<style scoped>\n",
       "    .dataframe tbody tr th:only-of-type {\n",
       "        vertical-align: middle;\n",
       "    }\n",
       "\n",
       "    .dataframe tbody tr th {\n",
       "        vertical-align: top;\n",
       "    }\n",
       "\n",
       "    .dataframe thead th {\n",
       "        text-align: right;\n",
       "    }\n",
       "</style>\n",
       "<table border=\"1\" class=\"dataframe\">\n",
       "  <thead>\n",
       "    <tr style=\"text-align: right;\">\n",
       "      <th></th>\n",
       "      <th>Pregnancies</th>\n",
       "      <th>Glucose</th>\n",
       "      <th>BloodPressure</th>\n",
       "      <th>SkinThickness</th>\n",
       "      <th>Insulin</th>\n",
       "      <th>BMI</th>\n",
       "      <th>DiabetesPedigreeFunction</th>\n",
       "      <th>Age</th>\n",
       "    </tr>\n",
       "  </thead>\n",
       "  <tbody>\n",
       "    <tr>\n",
       "      <th>count</th>\n",
       "      <td>768.000</td>\n",
       "      <td>768.000</td>\n",
       "      <td>768.000</td>\n",
       "      <td>768.000</td>\n",
       "      <td>768.000</td>\n",
       "      <td>768.000</td>\n",
       "      <td>768.000</td>\n",
       "      <td>768.000</td>\n",
       "    </tr>\n",
       "    <tr>\n",
       "      <th>mean</th>\n",
       "      <td>3.845</td>\n",
       "      <td>121.656</td>\n",
       "      <td>72.387</td>\n",
       "      <td>29.108</td>\n",
       "      <td>140.509</td>\n",
       "      <td>32.455</td>\n",
       "      <td>0.472</td>\n",
       "      <td>33.241</td>\n",
       "    </tr>\n",
       "    <tr>\n",
       "      <th>std</th>\n",
       "      <td>3.370</td>\n",
       "      <td>30.438</td>\n",
       "      <td>12.097</td>\n",
       "      <td>8.791</td>\n",
       "      <td>85.159</td>\n",
       "      <td>6.875</td>\n",
       "      <td>0.331</td>\n",
       "      <td>11.760</td>\n",
       "    </tr>\n",
       "    <tr>\n",
       "      <th>min</th>\n",
       "      <td>0.000</td>\n",
       "      <td>44.000</td>\n",
       "      <td>24.000</td>\n",
       "      <td>7.000</td>\n",
       "      <td>14.000</td>\n",
       "      <td>18.200</td>\n",
       "      <td>0.078</td>\n",
       "      <td>21.000</td>\n",
       "    </tr>\n",
       "    <tr>\n",
       "      <th>25%</th>\n",
       "      <td>1.000</td>\n",
       "      <td>99.750</td>\n",
       "      <td>64.000</td>\n",
       "      <td>25.000</td>\n",
       "      <td>121.500</td>\n",
       "      <td>27.500</td>\n",
       "      <td>0.244</td>\n",
       "      <td>24.000</td>\n",
       "    </tr>\n",
       "    <tr>\n",
       "      <th>50%</th>\n",
       "      <td>3.000</td>\n",
       "      <td>117.000</td>\n",
       "      <td>72.000</td>\n",
       "      <td>29.000</td>\n",
       "      <td>125.000</td>\n",
       "      <td>32.300</td>\n",
       "      <td>0.372</td>\n",
       "      <td>29.000</td>\n",
       "    </tr>\n",
       "    <tr>\n",
       "      <th>75%</th>\n",
       "      <td>6.000</td>\n",
       "      <td>140.250</td>\n",
       "      <td>80.000</td>\n",
       "      <td>32.000</td>\n",
       "      <td>127.250</td>\n",
       "      <td>36.600</td>\n",
       "      <td>0.626</td>\n",
       "      <td>41.000</td>\n",
       "    </tr>\n",
       "    <tr>\n",
       "      <th>max</th>\n",
       "      <td>17.000</td>\n",
       "      <td>199.000</td>\n",
       "      <td>122.000</td>\n",
       "      <td>99.000</td>\n",
       "      <td>732.500</td>\n",
       "      <td>67.100</td>\n",
       "      <td>2.420</td>\n",
       "      <td>81.000</td>\n",
       "    </tr>\n",
       "  </tbody>\n",
       "</table>\n",
       "</div>"
      ],
      "text/plain": [
       "       Pregnancies  Glucose  BloodPressure  SkinThickness  Insulin     BMI  DiabetesPedigreeFunction     Age\n",
       "count      768.000  768.000        768.000        768.000  768.000 768.000                   768.000 768.000\n",
       "mean         3.845  121.656         72.387         29.108  140.509  32.455                     0.472  33.241\n",
       "std          3.370   30.438         12.097          8.791   85.159   6.875                     0.331  11.760\n",
       "min          0.000   44.000         24.000          7.000   14.000  18.200                     0.078  21.000\n",
       "25%          1.000   99.750         64.000         25.000  121.500  27.500                     0.244  24.000\n",
       "50%          3.000  117.000         72.000         29.000  125.000  32.300                     0.372  29.000\n",
       "75%          6.000  140.250         80.000         32.000  127.250  36.600                     0.626  41.000\n",
       "max         17.000  199.000        122.000         99.000  732.500  67.100                     2.420  81.000"
      ]
     },
     "execution_count": 239,
     "metadata": {},
     "output_type": "execute_result"
    }
   ],
   "source": [
    "df[num_cols].describe()"
   ]
  },
  {
   "cell_type": "markdown",
   "id": "31ee226c-5290-493f-9765-b94cda32642c",
   "metadata": {},
   "source": [
    "**Adım 2:** Yeni değişkenler oluşturunuz."
   ]
  },
  {
   "cell_type": "code",
   "execution_count": 345,
   "id": "a031f3e1-81b6-4bba-aacc-386aea358da4",
   "metadata": {},
   "outputs": [],
   "source": [
    "df.loc[df['Age']<=18,'NEW_AGE_CAT']='GENC'\n",
    "df.loc[(df['Age']>18) &(df['Age']<=50),'NEW_AGE_CAT']='YETISKIN'\n",
    "df.loc[(df['Age']>50) ,'NEW_AGE_CAT']='YASLI'"
   ]
  },
  {
   "cell_type": "code",
   "execution_count": 347,
   "id": "783d263a-dfbf-4746-af0e-edbd227003c6",
   "metadata": {},
   "outputs": [],
   "source": [
    "df.loc[df['BMI']<=18.5,'NEW_BMI_CAT']='ZAYIF'\n",
    "df.loc[(df['BMI']>18.5) &(df['BMI']<=24.39),'NEW_BMI_CAT']='NORMAL'\n",
    "df.loc[(df['BMI']>24.39) &(df['BMI']<=29.9),'NEW_BMI_CAT']='KILOLU'\n",
    "df.loc[(df['BMI']>=30) ,'NEW_BMI_CAT']='OBEZ'"
   ]
  },
  {
   "cell_type": "code",
   "execution_count": 349,
   "id": "ba3e9785-3800-43ad-a45d-f6c0be466d14",
   "metadata": {},
   "outputs": [],
   "source": [
    "df['PREGNANCIES_WITH_INSULIN'] = df['Pregnancies'] * df['Insulin']"
   ]
  },
  {
   "cell_type": "code",
   "execution_count": 351,
   "id": "85f8fe88-eed4-4836-bd62-561b99c328ee",
   "metadata": {},
   "outputs": [],
   "source": [
    "df['GLUCOSE_WITH_INSULIN'] = df['Glucose'] * df['Insulin']"
   ]
  },
  {
   "cell_type": "code",
   "execution_count": 353,
   "id": "5e9dc39f-1760-4ac3-982c-1dc9953c46c7",
   "metadata": {},
   "outputs": [],
   "source": [
    "df['SKIN_WITH_INSULIN'] = df['SkinThickness'] * df['Insulin']"
   ]
  },
  {
   "cell_type": "code",
   "execution_count": 355,
   "id": "c2431a1e-863a-4623-b90c-c980f9f28613",
   "metadata": {},
   "outputs": [],
   "source": [
    "df[\"NEW_GLUCOSE\"] = pd.cut(x=df[\"Glucose\"], bins=[0, 140, 200, 300],\n",
    "                           labels=[\"Normal\", \"Prediabetes\", \"Diabetes\"])"
   ]
  },
  {
   "cell_type": "code",
   "execution_count": 357,
   "id": "569d299c-ef9e-459c-aacd-aeebb05c5386",
   "metadata": {},
   "outputs": [],
   "source": [
    "def set_insulin(dataframe, col_name=\"Insulin\"):\n",
    "    if 16 <= dataframe[col_name] <= 166:\n",
    "        return \"Normal\"\n",
    "    else:\n",
    "        return \"Abnormal\"\n",
    "\n",
    "df[\"NEW_INSULIN_SCORE\"] = df.apply(set_insulin, axis=1)"
   ]
  },
  {
   "cell_type": "code",
   "execution_count": 359,
   "id": "16ea4cfd-bc2e-4461-bff5-b33c4d2ea2eb",
   "metadata": {},
   "outputs": [],
   "source": [
    "df.loc[(df[\"BMI\"] < 18.5) & ((df[\"Age\"] >= 21) & (df[\"Age\"] < 50)), \"NEW_AGE_BMI_NOM\"] = \"underweightmature\"\n",
    "df.loc[(df[\"BMI\"] < 18.5) & (df[\"Age\"] >= 50), \"NEW_AGE_BMI_NOM\"] = \"underweightsenior\"\n",
    "df.loc[((df[\"BMI\"] >= 18.5) & (df[\"BMI\"] < 25)) & ((df[\"Age\"] >= 21) & (df[\"Age\"] < 50)), \"NEW_AGE_BMI_NOM\"] = \"healthymature\"\n",
    "df.loc[((df[\"BMI\"] >= 18.5) & (df[\"BMI\"] < 25)) & (df[\"Age\"] >= 50), \"NEW_AGE_BMI_NOM\"] = \"healthysenior\"\n",
    "df.loc[((df[\"BMI\"] >= 25) & (df[\"BMI\"] < 30)) & ((df[\"Age\"] >= 21) & (df[\"Age\"] < 50)), \"NEW_AGE_BMI_NOM\"] = \"overweightmature\"\n",
    "df.loc[((df[\"BMI\"] >= 25) & (df[\"BMI\"] < 30)) & (df[\"Age\"] >= 50), \"NEW_AGE_BMI_NOM\"] = \"overweightsenior\"\n",
    "df.loc[(df[\"BMI\"] > 18.5) & ((df[\"Age\"] >= 21) & (df[\"Age\"] < 50)), \"NEW_AGE_BMI_NOM\"] = \"obesemature\"\n",
    "df.loc[(df[\"BMI\"] > 18.5) & (df[\"Age\"] >= 50), \"NEW_AGE_BMI_NOM\"] = \"obesesenior\""
   ]
  },
  {
   "cell_type": "code",
   "execution_count": 388,
   "id": "63eb1aec-23df-401d-a0e6-7dbb66ba684b",
   "metadata": {},
   "outputs": [
    {
     "name": "stdout",
     "output_type": "stream",
     "text": [
      "Observetions: 768\n",
      "Variables: 20\n",
      "cat_cols: 6\n",
      "num_cols: 11\n",
      "cat_but_car: 0\n",
      "num_but_cat: 1\n"
     ]
    }
   ],
   "source": [
    "cat_cols, num_cols, cat_but_car = grab_col_names(df)"
   ]
  },
  {
   "cell_type": "code",
   "execution_count": 363,
   "id": "12c9aaa9-d694-4bbc-a7dc-6be0f81ab9c6",
   "metadata": {},
   "outputs": [],
   "source": [
    "df.columns = [col.upper() for col in df.columns]"
   ]
  },
  {
   "cell_type": "code",
   "execution_count": 365,
   "id": "9b8f3edf-b16b-42dd-bd6d-d9e5be2570fd",
   "metadata": {},
   "outputs": [
    {
     "data": {
      "text/html": [
       "<div>\n",
       "<style scoped>\n",
       "    .dataframe tbody tr th:only-of-type {\n",
       "        vertical-align: middle;\n",
       "    }\n",
       "\n",
       "    .dataframe tbody tr th {\n",
       "        vertical-align: top;\n",
       "    }\n",
       "\n",
       "    .dataframe thead th {\n",
       "        text-align: right;\n",
       "    }\n",
       "</style>\n",
       "<table border=\"1\" class=\"dataframe\">\n",
       "  <thead>\n",
       "    <tr style=\"text-align: right;\">\n",
       "      <th></th>\n",
       "      <th>PREGNANCIES</th>\n",
       "      <th>GLUCOSE</th>\n",
       "      <th>BLOODPRESSURE</th>\n",
       "      <th>SKINTHICKNESS</th>\n",
       "      <th>INSULIN</th>\n",
       "      <th>BMI</th>\n",
       "      <th>DIABETESPEDIGREEFUNCTION</th>\n",
       "      <th>AGE</th>\n",
       "      <th>OUTCOME</th>\n",
       "      <th>NEW_AGE_CAT</th>\n",
       "      <th>NEW_BMI_CAT</th>\n",
       "      <th>PREGNANCIES_WITH_INSULIN</th>\n",
       "      <th>GLUCOSE_WITH_INSULIN</th>\n",
       "      <th>SKIN_WITH_INSULIN</th>\n",
       "      <th>NEW_GLUCOSE</th>\n",
       "      <th>NEW_INSULIN_SCORE</th>\n",
       "      <th>NEW_AGE_BMI_NOM</th>\n",
       "    </tr>\n",
       "  </thead>\n",
       "  <tbody>\n",
       "    <tr>\n",
       "      <th>0</th>\n",
       "      <td>6</td>\n",
       "      <td>148.000</td>\n",
       "      <td>72.000</td>\n",
       "      <td>35.000</td>\n",
       "      <td>125.000</td>\n",
       "      <td>33.600</td>\n",
       "      <td>0.627</td>\n",
       "      <td>50</td>\n",
       "      <td>1</td>\n",
       "      <td>YETISKIN</td>\n",
       "      <td>OBEZ</td>\n",
       "      <td>750.000</td>\n",
       "      <td>18500.000</td>\n",
       "      <td>4375.000</td>\n",
       "      <td>Prediabetes</td>\n",
       "      <td>Normal</td>\n",
       "      <td>obesesenior</td>\n",
       "    </tr>\n",
       "    <tr>\n",
       "      <th>1</th>\n",
       "      <td>1</td>\n",
       "      <td>85.000</td>\n",
       "      <td>66.000</td>\n",
       "      <td>29.000</td>\n",
       "      <td>125.000</td>\n",
       "      <td>26.600</td>\n",
       "      <td>0.351</td>\n",
       "      <td>31</td>\n",
       "      <td>0</td>\n",
       "      <td>YETISKIN</td>\n",
       "      <td>KILOLU</td>\n",
       "      <td>125.000</td>\n",
       "      <td>10625.000</td>\n",
       "      <td>3625.000</td>\n",
       "      <td>Normal</td>\n",
       "      <td>Normal</td>\n",
       "      <td>obesemature</td>\n",
       "    </tr>\n",
       "    <tr>\n",
       "      <th>2</th>\n",
       "      <td>8</td>\n",
       "      <td>183.000</td>\n",
       "      <td>64.000</td>\n",
       "      <td>29.000</td>\n",
       "      <td>125.000</td>\n",
       "      <td>23.300</td>\n",
       "      <td>0.672</td>\n",
       "      <td>32</td>\n",
       "      <td>1</td>\n",
       "      <td>YETISKIN</td>\n",
       "      <td>NORMAL</td>\n",
       "      <td>1000.000</td>\n",
       "      <td>22875.000</td>\n",
       "      <td>3625.000</td>\n",
       "      <td>Prediabetes</td>\n",
       "      <td>Normal</td>\n",
       "      <td>obesemature</td>\n",
       "    </tr>\n",
       "    <tr>\n",
       "      <th>3</th>\n",
       "      <td>1</td>\n",
       "      <td>89.000</td>\n",
       "      <td>66.000</td>\n",
       "      <td>23.000</td>\n",
       "      <td>94.000</td>\n",
       "      <td>28.100</td>\n",
       "      <td>0.167</td>\n",
       "      <td>21</td>\n",
       "      <td>0</td>\n",
       "      <td>YETISKIN</td>\n",
       "      <td>KILOLU</td>\n",
       "      <td>94.000</td>\n",
       "      <td>8366.000</td>\n",
       "      <td>2162.000</td>\n",
       "      <td>Normal</td>\n",
       "      <td>Normal</td>\n",
       "      <td>obesemature</td>\n",
       "    </tr>\n",
       "    <tr>\n",
       "      <th>4</th>\n",
       "      <td>0</td>\n",
       "      <td>137.000</td>\n",
       "      <td>40.000</td>\n",
       "      <td>35.000</td>\n",
       "      <td>168.000</td>\n",
       "      <td>43.100</td>\n",
       "      <td>2.288</td>\n",
       "      <td>33</td>\n",
       "      <td>1</td>\n",
       "      <td>YETISKIN</td>\n",
       "      <td>OBEZ</td>\n",
       "      <td>0.000</td>\n",
       "      <td>23016.000</td>\n",
       "      <td>5880.000</td>\n",
       "      <td>Normal</td>\n",
       "      <td>Abnormal</td>\n",
       "      <td>obesemature</td>\n",
       "    </tr>\n",
       "  </tbody>\n",
       "</table>\n",
       "</div>"
      ],
      "text/plain": [
       "   PREGNANCIES  GLUCOSE  BLOODPRESSURE  SKINTHICKNESS  INSULIN    BMI  DIABETESPEDIGREEFUNCTION  AGE  OUTCOME NEW_AGE_CAT NEW_BMI_CAT  PREGNANCIES_WITH_INSULIN  GLUCOSE_WITH_INSULIN  SKIN_WITH_INSULIN  NEW_GLUCOSE NEW_INSULIN_SCORE NEW_AGE_BMI_NOM\n",
       "0            6  148.000         72.000         35.000  125.000 33.600                     0.627   50        1    YETISKIN        OBEZ                   750.000             18500.000           4375.000  Prediabetes            Normal     obesesenior\n",
       "1            1   85.000         66.000         29.000  125.000 26.600                     0.351   31        0    YETISKIN      KILOLU                   125.000             10625.000           3625.000       Normal            Normal     obesemature\n",
       "2            8  183.000         64.000         29.000  125.000 23.300                     0.672   32        1    YETISKIN      NORMAL                  1000.000             22875.000           3625.000  Prediabetes            Normal     obesemature\n",
       "3            1   89.000         66.000         23.000   94.000 28.100                     0.167   21        0    YETISKIN      KILOLU                    94.000              8366.000           2162.000       Normal            Normal     obesemature\n",
       "4            0  137.000         40.000         35.000  168.000 43.100                     2.288   33        1    YETISKIN        OBEZ                     0.000             23016.000           5880.000       Normal          Abnormal     obesemature"
      ]
     },
     "execution_count": 365,
     "metadata": {},
     "output_type": "execute_result"
    }
   ],
   "source": [
    "df.head()"
   ]
  },
  {
   "cell_type": "markdown",
   "id": "d9db5618-9e7c-4f61-a336-a4faf097cecd",
   "metadata": {},
   "source": [
    "**Adım 3:** Encoding işlemlerini gerçekleştiriniz."
   ]
  },
  {
   "cell_type": "code",
   "execution_count": 367,
   "id": "a87e20a0-1895-4851-aa4e-4b614ce9135d",
   "metadata": {},
   "outputs": [],
   "source": [
    "binary_cols = [col for col in df.columns if df[col].dtype not in ['int64','float64','int32','float32'] and df[col].nunique() ==2]"
   ]
  },
  {
   "cell_type": "code",
   "execution_count": 369,
   "id": "fd379403-06aa-49b7-a107-6017fc8f2383",
   "metadata": {},
   "outputs": [
    {
     "data": {
      "text/plain": [
       "['NEW_AGE_CAT', 'NEW_GLUCOSE', 'NEW_INSULIN_SCORE']"
      ]
     },
     "execution_count": 369,
     "metadata": {},
     "output_type": "execute_result"
    }
   ],
   "source": [
    "binary_cols"
   ]
  },
  {
   "cell_type": "code",
   "execution_count": 371,
   "id": "7b6925e5-3396-4862-a068-e5a7bd4528cf",
   "metadata": {},
   "outputs": [],
   "source": [
    "#İki sınıflı olanlar için\n",
    "def label_encoder(dataframe, binary_col):\n",
    "    labelencoder = LabelEncoder()\n",
    "    dataframe[col] = labelencoder.fit_transform(dataframe[col])\n",
    "    return dataframe"
   ]
  },
  {
   "cell_type": "code",
   "execution_count": 373,
   "id": "d75df52f-dd97-41fc-9a62-8c73b12251b6",
   "metadata": {},
   "outputs": [],
   "source": [
    "for col in binary_cols:\n",
    "    df = label_encoder(df, col)"
   ]
  },
  {
   "cell_type": "code",
   "execution_count": 279,
   "id": "96e0fe85-e830-4117-a543-a35fad1a62cc",
   "metadata": {},
   "outputs": [],
   "source": [
    "#Çok sınıflı  ve işimize yaramyacak değişkenleri analiz edelim\n",
    "def rare_analyser(dataframe, target, cat_cols):\n",
    "    for col in cat_cols:\n",
    "        print(col, \":\", len(dataframe[col].value_counts()))\n",
    "        print(pd.DataFrame({\"COUNT\": dataframe[col].value_counts(),\n",
    "                            \"RATIO\": dataframe[col].value_counts() / len(dataframe),\n",
    "                            \"TARGET_MEAN\": dataframe.groupby(col)[target].mean()}), end=\"\\n\\n\\n\")"
   ]
  },
  {
   "cell_type": "code",
   "execution_count": 283,
   "id": "ce860833-776a-4021-aec0-04c8f353d2bd",
   "metadata": {
    "scrolled": true
   },
   "outputs": [
    {
     "name": "stdout",
     "output_type": "stream",
     "text": [
      "NEW_AGE_CAT : 2\n",
      "             COUNT  RATIO  TARGET_MEAN\n",
      "NEW_AGE_CAT                           \n",
      "YASLI           81  0.105        0.469\n",
      "YETISKIN       687  0.895        0.335\n",
      "\n",
      "\n",
      "NEW_BMI_CAT : 4\n",
      "             COUNT  RATIO  TARGET_MEAN\n",
      "NEW_BMI_CAT                           \n",
      "KILOLU         196  0.255        0.209\n",
      "NORMAL          85  0.111        0.071\n",
      "OBEZ           483  0.629        0.458\n",
      "ZAYIF            4  0.005        0.000\n",
      "\n",
      "\n",
      "NEW_GLUCOSE : 3\n",
      "             COUNT  RATIO  TARGET_MEAN\n",
      "NEW_GLUCOSE                           \n",
      "Normal         576  0.750        0.236\n",
      "Prediabetes    192  0.250        0.688\n",
      "Diabetes         0  0.000          NaN\n",
      "\n",
      "\n",
      "NEW_INSULIN_SCORE : 2\n",
      "                   COUNT  RATIO  TARGET_MEAN\n",
      "NEW_INSULIN_SCORE                           \n",
      "Abnormal             134  0.174        0.522\n",
      "Normal               634  0.826        0.312\n",
      "\n",
      "\n",
      "NEW_AGE_BMI_NOM : 3\n",
      "                   COUNT  RATIO  TARGET_MEAN\n",
      "NEW_AGE_BMI_NOM                             \n",
      "obesemature          675  0.879        0.333\n",
      "obesesenior           89  0.116        0.483\n",
      "underweightmature      4  0.005        0.000\n",
      "\n",
      "\n",
      "OUTCOME : 2\n",
      "         COUNT  RATIO  TARGET_MEAN\n",
      "OUTCOME                           \n",
      "0          500  0.651        0.000\n",
      "1          268  0.349        1.000\n",
      "\n",
      "\n"
     ]
    },
    {
     "name": "stderr",
     "output_type": "stream",
     "text": [
      "C:\\Users\\ASLI\\AppData\\Local\\Temp\\ipykernel_9684\\2009100370.py:7: FutureWarning: The default of observed=False is deprecated and will be changed to True in a future version of pandas. Pass observed=False to retain current behavior or observed=True to adopt the future default and silence this warning.\n",
      "  \"TARGET_MEAN\": dataframe.groupby(col)[target].mean()}), end=\"\\n\\n\\n\")\n"
     ]
    }
   ],
   "source": [
    "rare_analyser(df, \"OUTCOME\", cat_cols)"
   ]
  },
  {
   "cell_type": "code",
   "execution_count": 375,
   "id": "4d6a1959-0109-4f8f-945d-84bd7e02bbd0",
   "metadata": {},
   "outputs": [],
   "source": [
    "#ONE HOT ENCODER\n",
    "ohe_cols = [col for col in df.columns if 10>= df[col].nunique()>2]#İKİDEN FAZLA 10 DAN AZ OLAN DEĞİŞKENLERİ SECTİK"
   ]
  },
  {
   "cell_type": "code",
   "execution_count": 287,
   "id": "b8d93c47-12f4-46a7-9d85-7652293cac39",
   "metadata": {},
   "outputs": [
    {
     "data": {
      "text/plain": [
       "['NEW_BMI_CAT', 'NEW_AGE_BMI_NOM']"
      ]
     },
     "execution_count": 287,
     "metadata": {},
     "output_type": "execute_result"
    }
   ],
   "source": [
    "ohe_cols"
   ]
  },
  {
   "cell_type": "code",
   "execution_count": 377,
   "id": "6557e877-f202-4b3d-a210-33449264dfc1",
   "metadata": {},
   "outputs": [],
   "source": [
    "def one_hot_encoder(dataframe, cat_col, drop_first=True):\n",
    "    dataframe = pd.get_dummies(dataframe,columns = cat_col, drop_first = drop_first)\n",
    "    return dataframe"
   ]
  },
  {
   "cell_type": "code",
   "execution_count": 379,
   "id": "2847e82c-cea2-4085-bc4d-50664978da81",
   "metadata": {},
   "outputs": [],
   "source": [
    "df = one_hot_encoder(df, ohe_cols)"
   ]
  },
  {
   "cell_type": "code",
   "execution_count": 381,
   "id": "e16c01cf-bba8-45dc-ae68-5f09290bfcfc",
   "metadata": {},
   "outputs": [
    {
     "data": {
      "text/html": [
       "<div>\n",
       "<style scoped>\n",
       "    .dataframe tbody tr th:only-of-type {\n",
       "        vertical-align: middle;\n",
       "    }\n",
       "\n",
       "    .dataframe tbody tr th {\n",
       "        vertical-align: top;\n",
       "    }\n",
       "\n",
       "    .dataframe thead th {\n",
       "        text-align: right;\n",
       "    }\n",
       "</style>\n",
       "<table border=\"1\" class=\"dataframe\">\n",
       "  <thead>\n",
       "    <tr style=\"text-align: right;\">\n",
       "      <th></th>\n",
       "      <th>PREGNANCIES</th>\n",
       "      <th>GLUCOSE</th>\n",
       "      <th>BLOODPRESSURE</th>\n",
       "      <th>SKINTHICKNESS</th>\n",
       "      <th>INSULIN</th>\n",
       "      <th>BMI</th>\n",
       "      <th>DIABETESPEDIGREEFUNCTION</th>\n",
       "      <th>AGE</th>\n",
       "      <th>OUTCOME</th>\n",
       "      <th>NEW_AGE_CAT</th>\n",
       "      <th>PREGNANCIES_WITH_INSULIN</th>\n",
       "      <th>GLUCOSE_WITH_INSULIN</th>\n",
       "      <th>SKIN_WITH_INSULIN</th>\n",
       "      <th>NEW_GLUCOSE</th>\n",
       "      <th>NEW_INSULIN_SCORE</th>\n",
       "      <th>NEW_BMI_CAT_NORMAL</th>\n",
       "      <th>NEW_BMI_CAT_OBEZ</th>\n",
       "      <th>NEW_BMI_CAT_ZAYIF</th>\n",
       "      <th>NEW_AGE_BMI_NOM_obesesenior</th>\n",
       "      <th>NEW_AGE_BMI_NOM_underweightmature</th>\n",
       "    </tr>\n",
       "  </thead>\n",
       "  <tbody>\n",
       "    <tr>\n",
       "      <th>0</th>\n",
       "      <td>6</td>\n",
       "      <td>148.000</td>\n",
       "      <td>72.000</td>\n",
       "      <td>35.000</td>\n",
       "      <td>125.000</td>\n",
       "      <td>33.600</td>\n",
       "      <td>0.627</td>\n",
       "      <td>50</td>\n",
       "      <td>1</td>\n",
       "      <td>1</td>\n",
       "      <td>750.000</td>\n",
       "      <td>18500.000</td>\n",
       "      <td>4375.000</td>\n",
       "      <td>1</td>\n",
       "      <td>1</td>\n",
       "      <td>False</td>\n",
       "      <td>True</td>\n",
       "      <td>False</td>\n",
       "      <td>True</td>\n",
       "      <td>False</td>\n",
       "    </tr>\n",
       "    <tr>\n",
       "      <th>1</th>\n",
       "      <td>1</td>\n",
       "      <td>85.000</td>\n",
       "      <td>66.000</td>\n",
       "      <td>29.000</td>\n",
       "      <td>125.000</td>\n",
       "      <td>26.600</td>\n",
       "      <td>0.351</td>\n",
       "      <td>31</td>\n",
       "      <td>0</td>\n",
       "      <td>1</td>\n",
       "      <td>125.000</td>\n",
       "      <td>10625.000</td>\n",
       "      <td>3625.000</td>\n",
       "      <td>0</td>\n",
       "      <td>1</td>\n",
       "      <td>False</td>\n",
       "      <td>False</td>\n",
       "      <td>False</td>\n",
       "      <td>False</td>\n",
       "      <td>False</td>\n",
       "    </tr>\n",
       "    <tr>\n",
       "      <th>2</th>\n",
       "      <td>8</td>\n",
       "      <td>183.000</td>\n",
       "      <td>64.000</td>\n",
       "      <td>29.000</td>\n",
       "      <td>125.000</td>\n",
       "      <td>23.300</td>\n",
       "      <td>0.672</td>\n",
       "      <td>32</td>\n",
       "      <td>1</td>\n",
       "      <td>1</td>\n",
       "      <td>1000.000</td>\n",
       "      <td>22875.000</td>\n",
       "      <td>3625.000</td>\n",
       "      <td>1</td>\n",
       "      <td>1</td>\n",
       "      <td>True</td>\n",
       "      <td>False</td>\n",
       "      <td>False</td>\n",
       "      <td>False</td>\n",
       "      <td>False</td>\n",
       "    </tr>\n",
       "    <tr>\n",
       "      <th>3</th>\n",
       "      <td>1</td>\n",
       "      <td>89.000</td>\n",
       "      <td>66.000</td>\n",
       "      <td>23.000</td>\n",
       "      <td>94.000</td>\n",
       "      <td>28.100</td>\n",
       "      <td>0.167</td>\n",
       "      <td>21</td>\n",
       "      <td>0</td>\n",
       "      <td>1</td>\n",
       "      <td>94.000</td>\n",
       "      <td>8366.000</td>\n",
       "      <td>2162.000</td>\n",
       "      <td>0</td>\n",
       "      <td>1</td>\n",
       "      <td>False</td>\n",
       "      <td>False</td>\n",
       "      <td>False</td>\n",
       "      <td>False</td>\n",
       "      <td>False</td>\n",
       "    </tr>\n",
       "    <tr>\n",
       "      <th>4</th>\n",
       "      <td>0</td>\n",
       "      <td>137.000</td>\n",
       "      <td>40.000</td>\n",
       "      <td>35.000</td>\n",
       "      <td>168.000</td>\n",
       "      <td>43.100</td>\n",
       "      <td>2.288</td>\n",
       "      <td>33</td>\n",
       "      <td>1</td>\n",
       "      <td>1</td>\n",
       "      <td>0.000</td>\n",
       "      <td>23016.000</td>\n",
       "      <td>5880.000</td>\n",
       "      <td>0</td>\n",
       "      <td>0</td>\n",
       "      <td>False</td>\n",
       "      <td>True</td>\n",
       "      <td>False</td>\n",
       "      <td>False</td>\n",
       "      <td>False</td>\n",
       "    </tr>\n",
       "  </tbody>\n",
       "</table>\n",
       "</div>"
      ],
      "text/plain": [
       "   PREGNANCIES  GLUCOSE  BLOODPRESSURE  SKINTHICKNESS  INSULIN    BMI  DIABETESPEDIGREEFUNCTION  AGE  OUTCOME  NEW_AGE_CAT  PREGNANCIES_WITH_INSULIN  GLUCOSE_WITH_INSULIN  SKIN_WITH_INSULIN  NEW_GLUCOSE  NEW_INSULIN_SCORE  NEW_BMI_CAT_NORMAL  NEW_BMI_CAT_OBEZ  NEW_BMI_CAT_ZAYIF  NEW_AGE_BMI_NOM_obesesenior  NEW_AGE_BMI_NOM_underweightmature\n",
       "0            6  148.000         72.000         35.000  125.000 33.600                     0.627   50        1            1                   750.000             18500.000           4375.000            1                  1               False              True              False                         True                              False\n",
       "1            1   85.000         66.000         29.000  125.000 26.600                     0.351   31        0            1                   125.000             10625.000           3625.000            0                  1               False             False              False                        False                              False\n",
       "2            8  183.000         64.000         29.000  125.000 23.300                     0.672   32        1            1                  1000.000             22875.000           3625.000            1                  1                True             False              False                        False                              False\n",
       "3            1   89.000         66.000         23.000   94.000 28.100                     0.167   21        0            1                    94.000              8366.000           2162.000            0                  1               False             False              False                        False                              False\n",
       "4            0  137.000         40.000         35.000  168.000 43.100                     2.288   33        1            1                     0.000             23016.000           5880.000            0                  0               False              True              False                        False                              False"
      ]
     },
     "execution_count": 381,
     "metadata": {},
     "output_type": "execute_result"
    }
   ],
   "source": [
    "df.head()"
   ]
  },
  {
   "cell_type": "markdown",
   "id": "552fcc07-3751-46a4-8013-057ecafe20bf",
   "metadata": {},
   "source": [
    "**Adım 4:** Numerik değişkenler için standartlaştırma yapınız."
   ]
  },
  {
   "cell_type": "code",
   "execution_count": 390,
   "id": "5cc40681-ba49-47ac-ba62-c556b6a77617",
   "metadata": {},
   "outputs": [
    {
     "data": {
      "text/plain": [
       "['PREGNANCIES',\n",
       " 'GLUCOSE',\n",
       " 'BLOODPRESSURE',\n",
       " 'SKINTHICKNESS',\n",
       " 'INSULIN',\n",
       " 'BMI',\n",
       " 'DIABETESPEDIGREEFUNCTION',\n",
       " 'AGE',\n",
       " 'PREGNANCIES_WITH_INSULIN',\n",
       " 'GLUCOSE_WITH_INSULIN',\n",
       " 'SKIN_WITH_INSULIN']"
      ]
     },
     "execution_count": 390,
     "metadata": {},
     "output_type": "execute_result"
    }
   ],
   "source": [
    "num_cols"
   ]
  },
  {
   "cell_type": "code",
   "execution_count": 384,
   "id": "8c231c27-0e47-4b15-91b1-982f61dafc50",
   "metadata": {},
   "outputs": [],
   "source": [
    "scaler = StandardScaler()"
   ]
  },
  {
   "cell_type": "code",
   "execution_count": 392,
   "id": "b6645214-6b67-4cd0-a570-3648be42b5d6",
   "metadata": {},
   "outputs": [],
   "source": [
    "df[num_cols] = scaler.fit_transform(df[num_cols])"
   ]
  },
  {
   "cell_type": "code",
   "execution_count": 394,
   "id": "8ef769ca-6b02-4776-9a53-78e92af3d8dd",
   "metadata": {},
   "outputs": [
    {
     "data": {
      "text/html": [
       "<div>\n",
       "<style scoped>\n",
       "    .dataframe tbody tr th:only-of-type {\n",
       "        vertical-align: middle;\n",
       "    }\n",
       "\n",
       "    .dataframe tbody tr th {\n",
       "        vertical-align: top;\n",
       "    }\n",
       "\n",
       "    .dataframe thead th {\n",
       "        text-align: right;\n",
       "    }\n",
       "</style>\n",
       "<table border=\"1\" class=\"dataframe\">\n",
       "  <thead>\n",
       "    <tr style=\"text-align: right;\">\n",
       "      <th></th>\n",
       "      <th>PREGNANCIES</th>\n",
       "      <th>GLUCOSE</th>\n",
       "      <th>BLOODPRESSURE</th>\n",
       "      <th>SKINTHICKNESS</th>\n",
       "      <th>INSULIN</th>\n",
       "      <th>BMI</th>\n",
       "      <th>DIABETESPEDIGREEFUNCTION</th>\n",
       "      <th>AGE</th>\n",
       "      <th>OUTCOME</th>\n",
       "      <th>NEW_AGE_CAT</th>\n",
       "      <th>PREGNANCIES_WITH_INSULIN</th>\n",
       "      <th>GLUCOSE_WITH_INSULIN</th>\n",
       "      <th>SKIN_WITH_INSULIN</th>\n",
       "      <th>NEW_GLUCOSE</th>\n",
       "      <th>NEW_INSULIN_SCORE</th>\n",
       "      <th>NEW_BMI_CAT_NORMAL</th>\n",
       "      <th>NEW_BMI_CAT_OBEZ</th>\n",
       "      <th>NEW_BMI_CAT_ZAYIF</th>\n",
       "      <th>NEW_AGE_BMI_NOM_obesesenior</th>\n",
       "      <th>NEW_AGE_BMI_NOM_underweightmature</th>\n",
       "    </tr>\n",
       "  </thead>\n",
       "  <tbody>\n",
       "    <tr>\n",
       "      <th>0</th>\n",
       "      <td>0.640</td>\n",
       "      <td>0.866</td>\n",
       "      <td>-0.032</td>\n",
       "      <td>0.671</td>\n",
       "      <td>-0.182</td>\n",
       "      <td>0.167</td>\n",
       "      <td>0.468</td>\n",
       "      <td>1.426</td>\n",
       "      <td>1</td>\n",
       "      <td>1</td>\n",
       "      <td>0.332</td>\n",
       "      <td>0.021</td>\n",
       "      <td>0.051</td>\n",
       "      <td>1</td>\n",
       "      <td>1</td>\n",
       "      <td>False</td>\n",
       "      <td>True</td>\n",
       "      <td>False</td>\n",
       "      <td>True</td>\n",
       "      <td>False</td>\n",
       "    </tr>\n",
       "    <tr>\n",
       "      <th>1</th>\n",
       "      <td>-0.845</td>\n",
       "      <td>-1.205</td>\n",
       "      <td>-0.528</td>\n",
       "      <td>-0.012</td>\n",
       "      <td>-0.182</td>\n",
       "      <td>-0.852</td>\n",
       "      <td>-0.365</td>\n",
       "      <td>-0.191</td>\n",
       "      <td>0</td>\n",
       "      <td>1</td>\n",
       "      <td>-0.696</td>\n",
       "      <td>-0.495</td>\n",
       "      <td>-0.179</td>\n",
       "      <td>0</td>\n",
       "      <td>1</td>\n",
       "      <td>False</td>\n",
       "      <td>False</td>\n",
       "      <td>False</td>\n",
       "      <td>False</td>\n",
       "      <td>False</td>\n",
       "    </tr>\n",
       "    <tr>\n",
       "      <th>2</th>\n",
       "      <td>1.234</td>\n",
       "      <td>2.017</td>\n",
       "      <td>-0.694</td>\n",
       "      <td>-0.012</td>\n",
       "      <td>-0.182</td>\n",
       "      <td>-1.333</td>\n",
       "      <td>0.604</td>\n",
       "      <td>-0.106</td>\n",
       "      <td>1</td>\n",
       "      <td>1</td>\n",
       "      <td>0.743</td>\n",
       "      <td>0.307</td>\n",
       "      <td>-0.179</td>\n",
       "      <td>1</td>\n",
       "      <td>1</td>\n",
       "      <td>True</td>\n",
       "      <td>False</td>\n",
       "      <td>False</td>\n",
       "      <td>False</td>\n",
       "      <td>False</td>\n",
       "    </tr>\n",
       "    <tr>\n",
       "      <th>3</th>\n",
       "      <td>-0.845</td>\n",
       "      <td>-1.074</td>\n",
       "      <td>-0.528</td>\n",
       "      <td>-0.695</td>\n",
       "      <td>-0.546</td>\n",
       "      <td>-0.634</td>\n",
       "      <td>-0.921</td>\n",
       "      <td>-1.042</td>\n",
       "      <td>0</td>\n",
       "      <td>1</td>\n",
       "      <td>-0.747</td>\n",
       "      <td>-0.643</td>\n",
       "      <td>-0.626</td>\n",
       "      <td>0</td>\n",
       "      <td>1</td>\n",
       "      <td>False</td>\n",
       "      <td>False</td>\n",
       "      <td>False</td>\n",
       "      <td>False</td>\n",
       "      <td>False</td>\n",
       "    </tr>\n",
       "    <tr>\n",
       "      <th>4</th>\n",
       "      <td>-1.142</td>\n",
       "      <td>0.504</td>\n",
       "      <td>-2.679</td>\n",
       "      <td>0.671</td>\n",
       "      <td>0.323</td>\n",
       "      <td>1.549</td>\n",
       "      <td>5.485</td>\n",
       "      <td>-0.020</td>\n",
       "      <td>1</td>\n",
       "      <td>1</td>\n",
       "      <td>-0.901</td>\n",
       "      <td>0.316</td>\n",
       "      <td>0.511</td>\n",
       "      <td>0</td>\n",
       "      <td>0</td>\n",
       "      <td>False</td>\n",
       "      <td>True</td>\n",
       "      <td>False</td>\n",
       "      <td>False</td>\n",
       "      <td>False</td>\n",
       "    </tr>\n",
       "  </tbody>\n",
       "</table>\n",
       "</div>"
      ],
      "text/plain": [
       "   PREGNANCIES  GLUCOSE  BLOODPRESSURE  SKINTHICKNESS  INSULIN    BMI  DIABETESPEDIGREEFUNCTION    AGE  OUTCOME  NEW_AGE_CAT  PREGNANCIES_WITH_INSULIN  GLUCOSE_WITH_INSULIN  SKIN_WITH_INSULIN  NEW_GLUCOSE  NEW_INSULIN_SCORE  NEW_BMI_CAT_NORMAL  NEW_BMI_CAT_OBEZ  NEW_BMI_CAT_ZAYIF  NEW_AGE_BMI_NOM_obesesenior  NEW_AGE_BMI_NOM_underweightmature\n",
       "0        0.640    0.866         -0.032          0.671   -0.182  0.167                     0.468  1.426        1            1                     0.332                 0.021              0.051            1                  1               False              True              False                         True                              False\n",
       "1       -0.845   -1.205         -0.528         -0.012   -0.182 -0.852                    -0.365 -0.191        0            1                    -0.696                -0.495             -0.179            0                  1               False             False              False                        False                              False\n",
       "2        1.234    2.017         -0.694         -0.012   -0.182 -1.333                     0.604 -0.106        1            1                     0.743                 0.307             -0.179            1                  1                True             False              False                        False                              False\n",
       "3       -0.845   -1.074         -0.528         -0.695   -0.546 -0.634                    -0.921 -1.042        0            1                    -0.747                -0.643             -0.626            0                  1               False             False              False                        False                              False\n",
       "4       -1.142    0.504         -2.679          0.671    0.323  1.549                     5.485 -0.020        1            1                    -0.901                 0.316              0.511            0                  0               False              True              False                        False                              False"
      ]
     },
     "execution_count": 394,
     "metadata": {},
     "output_type": "execute_result"
    }
   ],
   "source": [
    "df.head()"
   ]
  },
  {
   "cell_type": "markdown",
   "id": "77933262-1f58-4c31-bca0-d58b84d45f70",
   "metadata": {},
   "source": [
    "**Adım 5:** Model oluşturunuz.\n",
    "\n",
    "Bu kısım makine öğrenmesi bölümünde detaylı olarak ele alıncağı için yapılmamıştır."
   ]
  },
  {
   "cell_type": "code",
   "execution_count": null,
   "id": "2efdbff2-1a71-424d-84be-49037c2ed087",
   "metadata": {},
   "outputs": [],
   "source": []
  }
 ],
 "metadata": {
  "kernelspec": {
   "display_name": "Python [conda env:base] *",
   "language": "python",
   "name": "conda-base-py"
  },
  "language_info": {
   "codemirror_mode": {
    "name": "ipython",
    "version": 3
   },
   "file_extension": ".py",
   "mimetype": "text/x-python",
   "name": "python",
   "nbconvert_exporter": "python",
   "pygments_lexer": "ipython3",
   "version": "3.12.3"
  }
 },
 "nbformat": 4,
 "nbformat_minor": 5
}
