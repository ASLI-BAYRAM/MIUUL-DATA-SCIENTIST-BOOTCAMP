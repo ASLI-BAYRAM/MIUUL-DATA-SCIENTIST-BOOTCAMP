{
 "cells": [
  {
   "cell_type": "markdown",
   "id": "e8f10197-f642-4fd2-a441-8fb10303f64a",
   "metadata": {},
   "source": [
    "<h1 style=\"text-align: center; color: RED\">TELCO CUSTOMER CHURN FEATURE ENGINEERING</h1>"
   ]
  },
  {
   "cell_type": "markdown",
   "id": "1032ac19-2102-479c-bf7e-295c0623dc01",
   "metadata": {},
   "source": [
    "<span style=\"color: blue; font-weight: bold;\">İŞ PROBLEMİ</span>\n",
    "\n",
    "Şirketi terk edecek müşterileri tahmin edebilecek bir makine öğrenmesi modeli\n",
    "geliştirilmesi istenmektedir. Modeli geliştirmeden önce gerekli olan veri analizi\n",
    "ve özellik mühendisliği adımlarını gerçekleştirmeniz beklenmektedir"
   ]
  },
  {
   "cell_type": "markdown",
   "id": "620e5703-fc3c-43ab-9b50-9c2c91a8d8f0",
   "metadata": {},
   "source": [
    "<span style=\"color: blue; font-weight: bold;\">VERİ SETİ HİKAYESİ</span>\n",
    "\n",
    "Telco müşteri kaybı verileri, üçüncü çeyrekte Kaliforniya'daki 7043 müşteriye ev telefonu ve İnternet hizmetleri sağlayan hayali\n",
    "bir telekom şirketi hakkında bilgi içerir. Hangi müşterilerin hizmetlerinden ayrıldığını, kaldığını veya hizmete kaydolduğunu\n",
    "gösterir.\n",
    "\n",
    "21 Değişken 7043 Gözlem 977.5 KB\n",
    "\n",
    "CustomerId: Müşteri İd’si\n",
    "\n",
    "Gender: Cinsiyet\n",
    "\n",
    "SeniorCitizen: Müşterinin yaşlı olup olmadığı (1, 0)\n",
    "\n",
    "Partner: Müşterinin bir ortağı olup olmadığı (Evet, Hayır)\n",
    "\n",
    "Dependents: Müşterinin bakmakla yükümlü olduğu kişiler olup olmadığı (Evet, Hayır)\n",
    "\n",
    "tenure: Müşterinin şirkette kaldığı ay sayısı\n",
    "\n",
    "PhoneService: Müşterinin telefon hizmeti olup olmadığı (Evet, Hayır)\n",
    "\n",
    "MultipleLines: Müşterinin birden fazla hattı olup olmadığı (Evet, Hayır, Telefon hizmeti yok)\n",
    "\n",
    "InternetService: Müşterinin internet servis sağlayıcısı (DSL, Fiber optik, Hayır)\n",
    "\n",
    "OnlineSecurity: Müşterinin çevrimiçi güvenliğinin olup olmadığı (Evet, Hayır, İnternet hizmeti yok)\n",
    "\n",
    "OnlineBackup: Müşterinin online yedeğinin olup olmadığı (Evet, Hayır, İnternet hizmeti yok)\n",
    "\n",
    "DeviceProtection: Müşterinin cihaz korumasına sahip olup olmadığı (Evet, Hayır, İnternet hizmeti yok)\n",
    "\n",
    "TechSupport: Müşterinin teknik destek alıp almadığı (Evet, Hayır, İnternet hizmeti yok)\n",
    "\n",
    "StreamingTV: Müşterinin TV yayını olup olmadığı (Evet, Hayır, İnternet hizmeti yok)\n",
    "\n",
    "StreamingMovies: Müşterinin film akışı olup olmadığı (Evet, Hayır, İnternet hizmeti yok)\n",
    "\n",
    "Contract: Müşterinin sözleşme süresi (Aydan aya, Bir yıl, İki yıl)\n",
    "\n",
    "PaperlessBilling: Müşterinin kağıtsız faturası olup olmadığı (Evet, Hayır)\n",
    "\n",
    "PaymentMethod: Müşterinin ödeme yöntemi (Elektronik çek, Posta çeki, Banka havalesi (otomatik), Kredi kartı (otomatik))\n",
    "\n",
    "MonthlyCharges: Müşteriden aylık olarak tahsil edilen tutar\n",
    "\n",
    "TotalCharges: Müşteriden tahsil edilen toplam tutar\n",
    "\n",
    "Churn: Müşterinin kullanıp kullanmadığı (Evet veya Hayır)"
   ]
  },
  {
   "cell_type": "markdown",
   "id": "38d3c2b6-1555-43b8-a553-65352469c70f",
   "metadata": {},
   "source": [
    "<h2 style=\"text-align: center; color: RED\">PROJE GÖREVLERİ</h2>"
   ]
  },
  {
   "cell_type": "code",
   "execution_count": 6,
   "id": "aa356073-a93a-4da2-bfdf-82bb5dac6692",
   "metadata": {},
   "outputs": [],
   "source": [
    "import numpy as np\n",
    "import pandas as pd\n",
    "import seaborn as sns\n",
    "from matplotlib import pyplot as plt\n",
    "import missingno as msno #eksik değerler için kullanılan bir kütüphane\n",
    "from datetime import date\n",
    "from sklearn.metrics import accuracy_score\n",
    "from sklearn.model_selection import train_test_split\n",
    "from sklearn.neighbors import LocalOutlierFactor\n",
    "from sklearn.preprocessing import MinMaxScaler, LabelEncoder, StandardScaler, RobustScaler\n",
    "\n",
    "#Görsel ayaralama için\n",
    "pd.set_option('display.max_columns', None)\n",
    "pd.set_option('display.max_rows', None)\n",
    "pd.set_option('display.float_format', lambda x: '%.3f' % x)\n",
    "pd.set_option('display.width', 500)"
   ]
  },
  {
   "cell_type": "markdown",
   "id": "81074ed0-f593-4dd2-8abc-fafc39d9f6aa",
   "metadata": {},
   "source": [
    "<span style=\"color: blue; font-weight: bold;\">Görev 1 : Keşifçi Veri Analizi</span>\n",
    "\n",
    "**Adım 1:** Genel resmi inceleyiniz."
   ]
  },
  {
   "cell_type": "code",
   "execution_count": 12,
   "id": "e3dea886-14ec-46b0-8e40-663aa863669e",
   "metadata": {},
   "outputs": [],
   "source": [
    "df = pd.read_csv(\"C:\\\\Users\\\\ASLI\\\\Desktop\\\\Data Scientist Bootcamp\\\\6.Feature Engineering\\\\datasets\\\\Telco-Customer-Churn.csv\")"
   ]
  },
  {
   "cell_type": "code",
   "execution_count": 14,
   "id": "fa22de18-0ff0-48b9-8bfc-307076b2c2e7",
   "metadata": {
    "scrolled": true
   },
   "outputs": [
    {
     "name": "stdout",
     "output_type": "stream",
     "text": [
      "##############SHAPE##############\n",
      "(7043, 21)\n",
      "##############TYPES##############\n",
      "customerID           object\n",
      "gender               object\n",
      "SeniorCitizen         int64\n",
      "Partner              object\n",
      "Dependents           object\n",
      "tenure                int64\n",
      "PhoneService         object\n",
      "MultipleLines        object\n",
      "InternetService      object\n",
      "OnlineSecurity       object\n",
      "OnlineBackup         object\n",
      "DeviceProtection     object\n",
      "TechSupport          object\n",
      "StreamingTV          object\n",
      "StreamingMovies      object\n",
      "Contract             object\n",
      "PaperlessBilling     object\n",
      "PaymentMethod        object\n",
      "MonthlyCharges      float64\n",
      "TotalCharges         object\n",
      "Churn                object\n",
      "dtype: object\n",
      "##############COLUMNS#####################\n",
      "Index(['customerID', 'gender', 'SeniorCitizen', 'Partner', 'Dependents', 'tenure', 'PhoneService', 'MultipleLines', 'InternetService', 'OnlineSecurity', 'OnlineBackup', 'DeviceProtection', 'TechSupport', 'StreamingTV', 'StreamingMovies', 'Contract', 'PaperlessBilling', 'PaymentMethod', 'MonthlyCharges', 'TotalCharges', 'Churn'], dtype='object')\n",
      "##############HEAD######################\n",
      "   customerID  gender  SeniorCitizen Partner Dependents  tenure PhoneService     MultipleLines InternetService OnlineSecurity OnlineBackup DeviceProtection TechSupport StreamingTV StreamingMovies        Contract PaperlessBilling              PaymentMethod  MonthlyCharges TotalCharges Churn\n",
      "0  7590-VHVEG  Female              0     Yes         No       1           No  No phone service             DSL             No          Yes               No          No          No              No  Month-to-month              Yes           Electronic check          29.850        29.85    No\n",
      "1  5575-GNVDE    Male              0      No         No      34          Yes                No             DSL            Yes           No              Yes          No          No              No        One year               No               Mailed check          56.950       1889.5    No\n",
      "2  3668-QPYBK    Male              0      No         No       2          Yes                No             DSL            Yes          Yes               No          No          No              No  Month-to-month              Yes               Mailed check          53.850       108.15   Yes\n",
      "3  7795-CFOCW    Male              0      No         No      45           No  No phone service             DSL            Yes           No              Yes         Yes          No              No        One year               No  Bank transfer (automatic)          42.300      1840.75    No\n",
      "4  9237-HQITU  Female              0      No         No       2          Yes                No     Fiber optic             No           No               No          No          No              No  Month-to-month              Yes           Electronic check          70.700       151.65   Yes\n",
      "##############TAİL#####################\n",
      "      customerID  gender  SeniorCitizen Partner Dependents  tenure PhoneService     MultipleLines InternetService OnlineSecurity OnlineBackup DeviceProtection TechSupport StreamingTV StreamingMovies        Contract PaperlessBilling              PaymentMethod  MonthlyCharges TotalCharges Churn\n",
      "7038  6840-RESVB    Male              0     Yes        Yes      24          Yes               Yes             DSL            Yes           No              Yes         Yes         Yes             Yes        One year              Yes               Mailed check          84.800       1990.5    No\n",
      "7039  2234-XADUH  Female              0     Yes        Yes      72          Yes               Yes     Fiber optic             No          Yes              Yes          No         Yes             Yes        One year              Yes    Credit card (automatic)         103.200       7362.9    No\n",
      "7040  4801-JZAZL  Female              0     Yes        Yes      11           No  No phone service             DSL            Yes           No               No          No          No              No  Month-to-month              Yes           Electronic check          29.600       346.45    No\n",
      "7041  8361-LTMKD    Male              1     Yes         No       4          Yes               Yes     Fiber optic             No           No               No          No          No              No  Month-to-month              Yes               Mailed check          74.400        306.6   Yes\n",
      "7042  3186-AJIEK    Male              0      No         No      66          Yes                No     Fiber optic            Yes           No              Yes         Yes         Yes             Yes        Two year              Yes  Bank transfer (automatic)         105.650       6844.5    No\n",
      "##############DESCRİBE##########################\n",
      "                  count   mean    std    min     0%     5%    25%    50%    75%     95%     99%    100%     max\n",
      "SeniorCitizen  7043.000  0.162  0.369  0.000  0.000  0.000  0.000  0.000  0.000   1.000   1.000   1.000   1.000\n",
      "tenure         7043.000 32.371 24.559  0.000  0.000  1.000  9.000 29.000 55.000  72.000  72.000  72.000  72.000\n",
      "MonthlyCharges 7043.000 64.762 30.090 18.250 18.250 19.650 35.500 70.350 89.850 107.400 114.729 118.750 118.750\n",
      "##############NULL#####################\n",
      "customerID          0\n",
      "gender              0\n",
      "SeniorCitizen       0\n",
      "Partner             0\n",
      "Dependents          0\n",
      "tenure              0\n",
      "PhoneService        0\n",
      "MultipleLines       0\n",
      "InternetService     0\n",
      "OnlineSecurity      0\n",
      "OnlineBackup        0\n",
      "DeviceProtection    0\n",
      "TechSupport         0\n",
      "StreamingTV         0\n",
      "StreamingMovies     0\n",
      "Contract            0\n",
      "PaperlessBilling    0\n",
      "PaymentMethod       0\n",
      "MonthlyCharges      0\n",
      "TotalCharges        0\n",
      "Churn               0\n",
      "dtype: int64\n"
     ]
    }
   ],
   "source": [
    "def check_df(dataframe, head = 5):\n",
    "    print('##############SHAPE##############')\n",
    "    print(dataframe.shape)\n",
    "    print('##############TYPES##############')\n",
    "    print(dataframe.dtypes)\n",
    "    print('##############COLUMNS#####################')\n",
    "    print(dataframe.columns)\n",
    "    print('##############HEAD######################')\n",
    "    print(dataframe.head(head))\n",
    "    print('##############TAİL#####################')\n",
    "    print(dataframe.tail(head))\n",
    "    print('##############DESCRİBE##########################')\n",
    "    print(dataframe.describe([0, 0.05,0.25, 0.50,0.75, 0.95, 0.99, 1]).T)\n",
    "    print('##############NULL#####################')\n",
    "    print(dataframe.isnull().sum())\n",
    "check_df(df)"
   ]
  },
  {
   "cell_type": "markdown",
   "id": "6bd8ad19-470d-4bdf-aaf6-ab63a1e3ae69",
   "metadata": {},
   "source": [
    "**Adım 2:** Numerik ve kategorik değişkenleri yakalayınız."
   ]
  },
  {
   "cell_type": "code",
   "execution_count": 17,
   "id": "f51c4c28-9753-4f3b-a985-052bb9cf68e9",
   "metadata": {},
   "outputs": [],
   "source": [
    "def grab_col_names(dataframe, cat_th=10, car_th=20):#parametrelerin ön tanımlı değerlerini burda belirttik\n",
    "\n",
    "    cat_cols = [col for col in dataframe.columns if str(dataframe[col].dtypes) in ['object', 'category', 'bool']]\n",
    "    num_but_cat = [col for col in dataframe.columns if dataframe[col].dtypes in ['int64', 'float64'] and dataframe[col].nunique() < cat_th]\n",
    "    cat_but_car = [col for col in dataframe.columns if str(dataframe[col].dtypes) in ['object', 'category'] and dataframe[col].nunique() > car_th]\n",
    "    cat_cols = cat_cols + num_but_cat\n",
    "    cat_cols = [col for col in cat_cols if col not in cat_but_car] \n",
    "\n",
    "    num_cols = [col for col in dataframe.columns if dataframe[col].dtypes  in ['int64', 'float64']] #bu sayısal değişkenleri verir\n",
    "    num_cols = [col for col in num_cols if col not in cat_cols] \n",
    "\n",
    "    print(f'Observetions: {dataframe.shape[0]}')\n",
    "    print(f'Variables: {dataframe.shape[1]}')\n",
    "    print(f'cat_cols: {len(cat_cols)}')\n",
    "    print(f'num_cols: {len(num_cols)}')\n",
    "    print(f'cat_but_car: {len(cat_but_car)}')\n",
    "    print(f'num_but_cat: {len(num_but_cat)}')\n",
    "\n",
    "    return cat_cols, num_cols, cat_but_car"
   ]
  },
  {
   "cell_type": "code",
   "execution_count": 19,
   "id": "98c98116-2664-4e02-a99c-c24416451f92",
   "metadata": {},
   "outputs": [
    {
     "name": "stdout",
     "output_type": "stream",
     "text": [
      "Observetions: 7043\n",
      "Variables: 21\n",
      "cat_cols: 17\n",
      "num_cols: 2\n",
      "cat_but_car: 2\n",
      "num_but_cat: 1\n"
     ]
    }
   ],
   "source": [
    "cat_cols, num_cols, cat_but_car = grab_col_names(df)"
   ]
  },
  {
   "cell_type": "markdown",
   "id": "cb5fbe48-9565-439b-9060-037d2360f7b1",
   "metadata": {},
   "source": [
    "* TotalCharges sayısal bir değişken olmalı bu sebeple veri tipini değitiricez."
   ]
  },
  {
   "cell_type": "code",
   "execution_count": null,
   "id": "bd7912cf-9049-4cd7-9613-66cf6131184c",
   "metadata": {},
   "outputs": [],
   "source": [
    "df['TotalCharges'] = df['TotalCharges'].astype(float64)"
   ]
  },
  {
   "cell_type": "markdown",
   "id": "0e5b152d-cddc-40a8-ba2e-fc37d85a125e",
   "metadata": {},
   "source": [
    "* Yukarıdaki kod:\n",
    "\n",
    "Doğrudan tip dönüşümü yapar.\n",
    "Kolondaki tüm değerlerin kesinlikle float64 tipine dönüşebilir olması gerekir.\n",
    "Eğer sayıya çevrilemeyen bir değer (örneğin 'abc' ya da boş string '') varsa hata verir (ValueError)."
   ]
  },
  {
   "cell_type": "code",
   "execution_count": 34,
   "id": "0013433f-7395-4f31-8bad-6b6ac9c81f00",
   "metadata": {},
   "outputs": [],
   "source": [
    "df[\"TotalCharges\"] = pd.to_numeric(df[\"TotalCharges\"], errors='coerce')"
   ]
  },
  {
   "cell_type": "markdown",
   "id": "26a1fb6b-e315-4c67-9048-577169df9ff4",
   "metadata": {},
   "source": [
    "* Yukarıdaki kod:\n",
    "\n",
    "Kolondaki değerleri sayısala (int64 veya float64) dönüştürür.\n",
    "\n",
    "errors='coerce' parametresi sayesinde sayı olmayan değerleri hata vermek yerine NaN yapar.\n",
    "\n",
    "Veri temizleme sürecinde daha güvenli bir yöntemdir."
   ]
  },
  {
   "cell_type": "code",
   "execution_count": 58,
   "id": "61d423e5-2eae-4c07-b9cf-a9d74c6b46a8",
   "metadata": {},
   "outputs": [
    {
     "name": "stdout",
     "output_type": "stream",
     "text": [
      "Observetions: 7043\n",
      "Variables: 21\n",
      "cat_cols: 17\n",
      "num_cols: 3\n",
      "cat_but_car: 1\n",
      "num_but_cat: 2\n"
     ]
    }
   ],
   "source": [
    "cat_cols, num_cols, cat_but_car = grab_col_names(df)"
   ]
  },
  {
   "cell_type": "code",
   "execution_count": 60,
   "id": "e2a48841-e219-4514-a3f0-3806f11074bd",
   "metadata": {},
   "outputs": [
    {
     "data": {
      "text/plain": [
       "['tenure', 'MonthlyCharges', 'TotalCharges']"
      ]
     },
     "execution_count": 60,
     "metadata": {},
     "output_type": "execute_result"
    }
   ],
   "source": [
    "num_cols"
   ]
  },
  {
   "cell_type": "code",
   "execution_count": 40,
   "id": "85ae26b3-a40e-4d82-9851-b1fcc0be2f8b",
   "metadata": {},
   "outputs": [
    {
     "data": {
      "text/plain": [
       "['customerID']"
      ]
     },
     "execution_count": 40,
     "metadata": {},
     "output_type": "execute_result"
    }
   ],
   "source": [
    "cat_but_car"
   ]
  },
  {
   "cell_type": "code",
   "execution_count": 62,
   "id": "89e2f6ff-86c9-4655-ba2e-480924398df6",
   "metadata": {
    "scrolled": true
   },
   "outputs": [
    {
     "data": {
      "text/plain": [
       "gender              2\n",
       "Partner             2\n",
       "Dependents          2\n",
       "PhoneService        2\n",
       "MultipleLines       3\n",
       "InternetService     3\n",
       "OnlineSecurity      3\n",
       "OnlineBackup        3\n",
       "DeviceProtection    3\n",
       "TechSupport         3\n",
       "StreamingTV         3\n",
       "StreamingMovies     3\n",
       "Contract            3\n",
       "PaperlessBilling    2\n",
       "PaymentMethod       4\n",
       "SeniorCitizen       2\n",
       "Churn               2\n",
       "dtype: int64"
      ]
     },
     "execution_count": 62,
     "metadata": {},
     "output_type": "execute_result"
    }
   ],
   "source": [
    "df[cat_cols].nunique()"
   ]
  },
  {
   "cell_type": "code",
   "execution_count": 49,
   "id": "44a59050-352c-43c6-96ab-3e643ff02df9",
   "metadata": {},
   "outputs": [
    {
     "data": {
      "text/plain": [
       "Churn\n",
       "No     5174\n",
       "Yes    1869\n",
       "Name: count, dtype: int64"
      ]
     },
     "execution_count": 49,
     "metadata": {},
     "output_type": "execute_result"
    }
   ],
   "source": [
    "df['Churn'].value_counts()"
   ]
  },
  {
   "cell_type": "markdown",
   "id": "674052ee-39ad-4ccf-936e-c7cd081fb3a7",
   "metadata": {},
   "source": [
    "* Churn hedef değişken olduğu için bunu 1 ve 0 ile ifade edecek hale getirelim"
   ]
  },
  {
   "cell_type": "code",
   "execution_count": 54,
   "id": "c60a1687-cc77-443d-a4ef-bd659dd6c9ce",
   "metadata": {},
   "outputs": [],
   "source": [
    "df['Churn'] = df['Churn'].apply(lambda x: 1 if x=='Yes' else 0)"
   ]
  },
  {
   "cell_type": "code",
   "execution_count": 56,
   "id": "923223b0-4fad-4eae-8228-ba72bc8a8e30",
   "metadata": {},
   "outputs": [
    {
     "data": {
      "text/plain": [
       "Churn\n",
       "0    5174\n",
       "1    1869\n",
       "Name: count, dtype: int64"
      ]
     },
     "execution_count": 56,
     "metadata": {},
     "output_type": "execute_result"
    }
   ],
   "source": [
    "df['Churn'].value_counts()"
   ]
  },
  {
   "cell_type": "markdown",
   "id": "d4c34968-477e-431f-b8be-1591936bf224",
   "metadata": {},
   "source": [
    "**Adım 3:** Numerik ve kategorik değişkenlerin analizini yapınız."
   ]
  },
  {
   "cell_type": "code",
   "execution_count": 65,
   "id": "488e8a5e-0df9-4135-9b58-40f2e937e2cd",
   "metadata": {},
   "outputs": [],
   "source": [
    "def cat_summary(dataframe, col_name, plot = False):\n",
    "    print(pd.DataFrame({col_name: dataframe[col_name].value_counts(),\n",
    "                  'Ratio':100 * dataframe[col_name].value_counts() / dataframe.shape[0]}))\n",
    "    print('###################################')\n",
    "\n",
    "    if plot:\n",
    "        sns.countplot(data=dataframe, x = dataframe[col_name])\n",
    "        plt.show()"
   ]
  },
  {
   "cell_type": "code",
   "execution_count": 67,
   "id": "0702f635-9c57-4642-bc62-084ffa2edebd",
   "metadata": {
    "scrolled": true
   },
   "outputs": [
    {
     "name": "stdout",
     "output_type": "stream",
     "text": [
      "        gender  Ratio\n",
      "gender               \n",
      "Male      3555 50.476\n",
      "Female    3488 49.524\n",
      "###################################\n"
     ]
    },
    {
     "data": {
      "image/png": "[encoded data removed]",
      "text/plain": [
       "<Figure size 640x480 with 1 Axes>"
      ]
     },
     "metadata": {},
     "output_type": "display_data"
    },
    {
     "name": "stdout",
     "output_type": "stream",
     "text": [
      "         Partner  Ratio\n",
      "Partner                \n",
      "No          3641 51.697\n",
      "Yes         3402 48.303\n",
      "###################################\n"
     ]
    },
    {
     "data": {
      "image/png": "[encoded data removed]",
      "text/plain": [
       "<Figure size 640x480 with 1 Axes>"
      ]
     },
     "metadata": {},
     "output_type": "display_data"
    },
    {
     "name": "stdout",
     "output_type": "stream",
     "text": [
      "            Dependents  Ratio\n",
      "Dependents                   \n",
      "No                4933 70.041\n",
      "Yes               2110 29.959\n",
      "###################################\n"
     ]
    },
    {
     "data": {
      "image/png": "[encoded data removed]",
      "text/plain": [
       "<Figure size 640x480 with 1 Axes>"
      ]
     },
     "metadata": {},
     "output_type": "display_data"
    },
    {
     "name": "stdout",
     "output_type": "stream",
     "text": [
      "              PhoneService  Ratio\n",
      "PhoneService                     \n",
      "Yes                   6361 90.317\n",
      "No                     682  9.683\n",
      "###################################\n"
     ]
    },
    {
     "data": {
      "image/png": "[encoded data removed]",
      "text/plain": [
       "<Figure size 640x480 with 1 Axes>"
      ]
     },
     "metadata": {},
     "output_type": "display_data"
    },
    {
     "name": "stdout",
     "output_type": "stream",
     "text": [
      "                  MultipleLines  Ratio\n",
      "MultipleLines                         \n",
      "No                         3390 48.133\n",
      "Yes                        2971 42.184\n",
      "No phone service            682  9.683\n",
      "###################################\n"
     ]
    },
    {
     "data": {
      "image/png": "[encoded data removed]",
      "text/plain": [
       "<Figure size 640x480 with 1 Axes>"
      ]
     },
     "metadata": {},
     "output_type": "display_data"
    },
    {
     "name": "stdout",
     "output_type": "stream",
     "text": [
      "                 InternetService  Ratio\n",
      "InternetService                        \n",
      "Fiber optic                 3096 43.959\n",
      "DSL                         2421 34.375\n",
      "No                          1526 21.667\n",
      "###################################\n"
     ]
    },
    {
     "data": {
      "image/png": "[encoded data removed]",
      "text/plain": [
       "<Figure size 640x480 with 1 Axes>"
      ]
     },
     "metadata": {},
     "output_type": "display_data"
    },
    {
     "name": "stdout",
     "output_type": "stream",
     "text": [
      "                     OnlineSecurity  Ratio\n",
      "OnlineSecurity                            \n",
      "No                             3498 49.666\n",
      "Yes                            2019 28.667\n",
      "No internet service            1526 21.667\n",
      "###################################\n"
     ]
    },
    {
     "data": {
      "image/png": "[encoded data removed]",
      "text/plain": [
       "<Figure size 640x480 with 1 Axes>"
      ]
     },
     "metadata": {},
     "output_type": "display_data"
    },
    {
     "name": "stdout",
     "output_type": "stream",
     "text": [
      "                     OnlineBackup  Ratio\n",
      "OnlineBackup                            \n",
      "No                           3088 43.845\n",
      "Yes                          2429 34.488\n",
      "No internet service          1526 21.667\n",
      "###################################\n"
     ]
    },
    {
     "data": {
      "image/png": "[encoded data removed]",
      "text/plain": [
       "<Figure size 640x480 with 1 Axes>"
      ]
     },
     "metadata": {},
     "output_type": "display_data"
    },
    {
     "name": "stdout",
     "output_type": "stream",
     "text": [
      "                     DeviceProtection  Ratio\n",
      "DeviceProtection                            \n",
      "No                               3095 43.944\n",
      "Yes                              2422 34.389\n",
      "No internet service              1526 21.667\n",
      "###################################\n"
     ]
    },
    {
     "data": {
      "image/png": "[encoded data removed]",
      "text/plain": [
       "<Figure size 640x480 with 1 Axes>"
      ]
     },
     "metadata": {},
     "output_type": "display_data"
    },
    {
     "name": "stdout",
     "output_type": "stream",
     "text": [
      "                     TechSupport  Ratio\n",
      "TechSupport                            \n",
      "No                          3473 49.311\n",
      "Yes                         2044 29.022\n",
      "No internet service         1526 21.667\n",
      "###################################\n"
     ]
    },
    {
     "data": {
      "image/png": "[encoded data removed]",
      "text/plain": [
       "<Figure size 640x480 with 1 Axes>"
      ]
     },
     "metadata": {},
     "output_type": "display_data"
    },
    {
     "name": "stdout",
     "output_type": "stream",
     "text": [
      "                     StreamingTV  Ratio\n",
      "StreamingTV                            \n",
      "No                          2810 39.898\n",
      "Yes                         2707 38.435\n",
      "No internet service         1526 21.667\n",
      "###################################\n"
     ]
    },
    {
     "data": {
      "image/png": "[encoded data removed]",
      "text/plain": [
       "<Figure size 640x480 with 1 Axes>"
      ]
     },
     "metadata": {},
     "output_type": "display_data"
    },
    {
     "name": "stdout",
     "output_type": "stream",
     "text": [
      "                     StreamingMovies  Ratio\n",
      "StreamingMovies                            \n",
      "No                              2785 39.543\n",
      "Yes                             2732 38.790\n",
      "No internet service             1526 21.667\n",
      "###################################\n"
     ]
    },
    {
     "data": {
      "image/png": "[encoded data removed]",
      "text/plain": [
       "<Figure size 640x480 with 1 Axes>"
      ]
     },
     "metadata": {},
     "output_type": "display_data"
    },
    {
     "name": "stdout",
     "output_type": "stream",
     "text": [
      "                Contract  Ratio\n",
      "Contract                       \n",
      "Month-to-month      3875 55.019\n",
      "Two year            1695 24.066\n",
      "One year            1473 20.914\n",
      "###################################\n"
     ]
    },
    {
     "data": {
      "image/png": "[encoded data removed]",
      "text/plain": [
       "<Figure size 640x480 with 1 Axes>"
      ]
     },
     "metadata": {},
     "output_type": "display_data"
    },
    {
     "name": "stdout",
     "output_type": "stream",
     "text": [
      "                  PaperlessBilling  Ratio\n",
      "PaperlessBilling                         \n",
      "Yes                           4171 59.222\n",
      "No                            2872 40.778\n",
      "###################################\n"
     ]
    },
    {
     "data": {
      "image/png": "[encoded data removed]",
      "text/plain": [
       "<Figure size 640x480 with 1 Axes>"
      ]
     },
     "metadata": {},
     "output_type": "display_data"
    },
    {
     "name": "stdout",
     "output_type": "stream",
     "text": [
      "                           PaymentMethod  Ratio\n",
      "PaymentMethod                                  \n",
      "Electronic check                    2365 33.579\n",
      "Mailed check                        1612 22.888\n",
      "Bank transfer (automatic)           1544 21.922\n",
      "Credit card (automatic)             1522 21.610\n",
      "###################################\n"
     ]
    },
    {
     "data": {
      "image/png": "[encoded data removed]",
      "text/plain": [
       "<Figure size 640x480 with 1 Axes>"
      ]
     },
     "metadata": {},
     "output_type": "display_data"
    },
    {
     "name": "stdout",
     "output_type": "stream",
     "text": [
      "               SeniorCitizen  Ratio\n",
      "SeniorCitizen                      \n",
      "0                       5901 83.785\n",
      "1                       1142 16.215\n",
      "###################################\n"
     ]
    },
    {
     "data": {
      "image/png": "[encoded data removed]",
      "text/plain": [
       "<Figure size 640x480 with 1 Axes>"
      ]
     },
     "metadata": {},
     "output_type": "display_data"
    },
    {
     "name": "stdout",
     "output_type": "stream",
     "text": [
      "       Churn  Ratio\n",
      "Churn              \n",
      "0       5174 73.463\n",
      "1       1869 26.537\n",
      "###################################\n"
     ]
    },
    {
     "data": {
      "image/png": "[encoded data removed]",
      "text/plain": [
       "<Figure size 640x480 with 1 Axes>"
      ]
     },
     "metadata": {},
     "output_type": "display_data"
    }
   ],
   "source": [
    "for col in cat_cols:\n",
    "    cat_summary(df, col, plot = True)"
   ]
  },
  {
   "cell_type": "code",
   "execution_count": 71,
   "id": "71aaf14e-259b-4a64-8f54-93171200e8cc",
   "metadata": {},
   "outputs": [],
   "source": [
    "def num_summary(dataframe, col_name, plot = False):\n",
    "    quantiles = [0.05, 0.10, 0.20, 0.30, 0.40, 0.50, 0.60, 0.70, 0.80, 0.90, 0.99 ]\n",
    "    print(dataframe[col_name].describe(quantiles)) #sayısal değişkenlerin betimsel istatistikleri\n",
    "    print('################################')\n",
    "\n",
    "    if plot:\n",
    "        plt.figure(figsize=(8, 4))\n",
    "        sns.histplot(data=dataframe, x=col_name, kde=True)\n",
    "        plt.title(f\"{col_name} Dağılımı\")\n",
    "        plt.show()"
   ]
  },
  {
   "cell_type": "code",
   "execution_count": 73,
   "id": "47683199-9914-44f5-885d-76ca786a2d33",
   "metadata": {},
   "outputs": [
    {
     "name": "stdout",
     "output_type": "stream",
     "text": [
      "count   7043.000\n",
      "mean      32.371\n",
      "std       24.559\n",
      "min        0.000\n",
      "5%         1.000\n",
      "10%        2.000\n",
      "20%        6.000\n",
      "30%       12.000\n",
      "40%       20.000\n",
      "50%       29.000\n",
      "60%       40.000\n",
      "70%       50.000\n",
      "80%       60.000\n",
      "90%       69.000\n",
      "99%       72.000\n",
      "max       72.000\n",
      "Name: tenure, dtype: float64\n",
      "################################\n"
     ]
    },
    {
     "data": {
      "image/png": "[encoded data removed]",
      "text/plain": [
       "<Figure size 800x400 with 1 Axes>"
      ]
     },
     "metadata": {},
     "output_type": "display_data"
    },
    {
     "name": "stdout",
     "output_type": "stream",
     "text": [
      "count   7043.000\n",
      "mean      64.762\n",
      "std       30.090\n",
      "min       18.250\n",
      "5%        19.650\n",
      "10%       20.050\n",
      "20%       25.050\n",
      "30%       45.850\n",
      "40%       58.830\n",
      "50%       70.350\n",
      "60%       79.100\n",
      "70%       85.500\n",
      "80%       94.250\n",
      "90%      102.600\n",
      "99%      114.729\n",
      "max      118.750\n",
      "Name: MonthlyCharges, dtype: float64\n",
      "################################\n"
     ]
    },
    {
     "data": {
      "image/png": "[encoded data removed]",
      "text/plain": [
       "<Figure size 800x400 with 1 Axes>"
      ]
     },
     "metadata": {},
     "output_type": "display_data"
    },
    {
     "name": "stdout",
     "output_type": "stream",
     "text": [
      "count   7032.000\n",
      "mean    2283.300\n",
      "std     2266.771\n",
      "min       18.800\n",
      "5%        49.605\n",
      "10%       84.600\n",
      "20%      267.070\n",
      "30%      551.995\n",
      "40%      944.170\n",
      "50%     1397.475\n",
      "60%     2048.950\n",
      "70%     3141.130\n",
      "80%     4475.410\n",
      "90%     5976.640\n",
      "99%     8039.883\n",
      "max     8684.800\n",
      "Name: TotalCharges, dtype: float64\n",
      "################################\n"
     ]
    },
    {
     "data": {
      "image/png": "[encoded data removed]",
      "text/plain": [
       "<Figure size 800x400 with 1 Axes>"
      ]
     },
     "metadata": {},
     "output_type": "display_data"
    }
   ],
   "source": [
    "for col in num_cols:\n",
    "    num_summary(df, col, plot = True)"
   ]
  },
  {
   "cell_type": "markdown",
   "id": "bea401d1-e99f-4ab9-accd-ad9cb31d8bdc",
   "metadata": {},
   "source": [
    "**Adım 4:** Hedef değişken analizi yapınız. (Kategorik değişkenlere göre hedef değişkenin ortalaması, hedef değişkene göre\n",
    "numerik değişkenlerin ortalaması)"
   ]
  },
  {
   "cell_type": "code",
   "execution_count": 78,
   "id": "45ee71ac-f555-4b0b-bb2b-827c1f49a92e",
   "metadata": {},
   "outputs": [],
   "source": [
    "def target_summary_with_num(dataframe, target, num_col):\n",
    "    print(dataframe.groupby(target).agg({num_col:'mean'}))"
   ]
  },
  {
   "cell_type": "code",
   "execution_count": 82,
   "id": "b428931c-77da-4ff7-84ce-9b034701a4e3",
   "metadata": {},
   "outputs": [
    {
     "name": "stdout",
     "output_type": "stream",
     "text": [
      "       tenure\n",
      "Churn        \n",
      "0      37.570\n",
      "1      17.979\n",
      "       MonthlyCharges\n",
      "Churn                \n",
      "0              61.265\n",
      "1              74.441\n",
      "       TotalCharges\n",
      "Churn              \n",
      "0          2555.344\n",
      "1          1531.796\n"
     ]
    }
   ],
   "source": [
    "for col in num_cols:\n",
    "    target_summary_with_num(df, 'Churn', col)"
   ]
  },
  {
   "cell_type": "code",
   "execution_count": 84,
   "id": "e81f174a-b4d0-4825-997b-bcacf88d2309",
   "metadata": {},
   "outputs": [],
   "source": [
    "def target_summary_with_cat(dataframe, target, categorical_col):\n",
    "    print(categorical_col)\n",
    "    print(pd.DataFrame({\"TARGET_MEAN\": dataframe.groupby(categorical_col)[target].mean(),\n",
    "                        \"Count\": dataframe[categorical_col].value_counts(),\n",
    "                        \"Ratio\": 100 * dataframe[categorical_col].value_counts() / len(dataframe)}), end=\"\\n\\n\\n\")\n",
    "\n"
   ]
  },
  {
   "cell_type": "code",
   "execution_count": 86,
   "id": "5306c6c5-d216-4f98-941c-88f495dd6374",
   "metadata": {
    "scrolled": true
   },
   "outputs": [
    {
     "name": "stdout",
     "output_type": "stream",
     "text": [
      "gender\n",
      "        TARGET_MEAN  Count  Ratio\n",
      "gender                           \n",
      "Female        0.269   3488 49.524\n",
      "Male          0.262   3555 50.476\n",
      "\n",
      "\n",
      "Partner\n",
      "         TARGET_MEAN  Count  Ratio\n",
      "Partner                           \n",
      "No             0.330   3641 51.697\n",
      "Yes            0.197   3402 48.303\n",
      "\n",
      "\n",
      "Dependents\n",
      "            TARGET_MEAN  Count  Ratio\n",
      "Dependents                           \n",
      "No                0.313   4933 70.041\n",
      "Yes               0.155   2110 29.959\n",
      "\n",
      "\n",
      "PhoneService\n",
      "              TARGET_MEAN  Count  Ratio\n",
      "PhoneService                           \n",
      "No                  0.249    682  9.683\n",
      "Yes                 0.267   6361 90.317\n",
      "\n",
      "\n",
      "MultipleLines\n",
      "                  TARGET_MEAN  Count  Ratio\n",
      "MultipleLines                              \n",
      "No                      0.250   3390 48.133\n",
      "No phone service        0.249    682  9.683\n",
      "Yes                     0.286   2971 42.184\n",
      "\n",
      "\n",
      "InternetService\n",
      "                 TARGET_MEAN  Count  Ratio\n",
      "InternetService                           \n",
      "DSL                    0.190   2421 34.375\n",
      "Fiber optic            0.419   3096 43.959\n",
      "No                     0.074   1526 21.667\n",
      "\n",
      "\n",
      "OnlineSecurity\n",
      "                     TARGET_MEAN  Count  Ratio\n",
      "OnlineSecurity                                \n",
      "No                         0.418   3498 49.666\n",
      "No internet service        0.074   1526 21.667\n",
      "Yes                        0.146   2019 28.667\n",
      "\n",
      "\n",
      "OnlineBackup\n",
      "                     TARGET_MEAN  Count  Ratio\n",
      "OnlineBackup                                  \n",
      "No                         0.399   3088 43.845\n",
      "No internet service        0.074   1526 21.667\n",
      "Yes                        0.215   2429 34.488\n",
      "\n",
      "\n",
      "DeviceProtection\n",
      "                     TARGET_MEAN  Count  Ratio\n",
      "DeviceProtection                              \n",
      "No                         0.391   3095 43.944\n",
      "No internet service        0.074   1526 21.667\n",
      "Yes                        0.225   2422 34.389\n",
      "\n",
      "\n",
      "TechSupport\n",
      "                     TARGET_MEAN  Count  Ratio\n",
      "TechSupport                                   \n",
      "No                         0.416   3473 49.311\n",
      "No internet service        0.074   1526 21.667\n",
      "Yes                        0.152   2044 29.022\n",
      "\n",
      "\n",
      "StreamingTV\n",
      "                     TARGET_MEAN  Count  Ratio\n",
      "StreamingTV                                   \n",
      "No                         0.335   2810 39.898\n",
      "No internet service        0.074   1526 21.667\n",
      "Yes                        0.301   2707 38.435\n",
      "\n",
      "\n",
      "StreamingMovies\n",
      "                     TARGET_MEAN  Count  Ratio\n",
      "StreamingMovies                               \n",
      "No                         0.337   2785 39.543\n",
      "No internet service        0.074   1526 21.667\n",
      "Yes                        0.299   2732 38.790\n",
      "\n",
      "\n",
      "Contract\n",
      "                TARGET_MEAN  Count  Ratio\n",
      "Contract                                 \n",
      "Month-to-month        0.427   3875 55.019\n",
      "One year              0.113   1473 20.914\n",
      "Two year              0.028   1695 24.066\n",
      "\n",
      "\n",
      "PaperlessBilling\n",
      "                  TARGET_MEAN  Count  Ratio\n",
      "PaperlessBilling                           \n",
      "No                      0.163   2872 40.778\n",
      "Yes                     0.336   4171 59.222\n",
      "\n",
      "\n",
      "PaymentMethod\n",
      "                           TARGET_MEAN  Count  Ratio\n",
      "PaymentMethod                                       \n",
      "Bank transfer (automatic)        0.167   1544 21.922\n",
      "Credit card (automatic)          0.152   1522 21.610\n",
      "Electronic check                 0.453   2365 33.579\n",
      "Mailed check                     0.191   1612 22.888\n",
      "\n",
      "\n",
      "SeniorCitizen\n",
      "               TARGET_MEAN  Count  Ratio\n",
      "SeniorCitizen                           \n",
      "0                    0.236   5901 83.785\n",
      "1                    0.417   1142 16.215\n",
      "\n",
      "\n",
      "Churn\n",
      "       TARGET_MEAN  Count  Ratio\n",
      "Churn                           \n",
      "0            0.000   5174 73.463\n",
      "1            1.000   1869 26.537\n",
      "\n",
      "\n"
     ]
    }
   ],
   "source": [
    "for col in cat_cols:\n",
    "    target_summary_with_cat(df, \"Churn\", col)"
   ]
  },
  {
   "cell_type": "markdown",
   "id": "81b87922-b3d9-43a0-9f1b-dcb942329263",
   "metadata": {},
   "source": [
    "* Yukarıdaki çıktının yorumu:\n",
    "\n",
    "Genel Bakış\n",
    "\n",
    "Churn oranı (müşteri kaybı): %26,5\n",
    "Yani yaklaşık her 4 müşteriden 1’i hizmeti bırakıyor. Bu oran, telekom sektörü için yüksek sayılabilecek bir değer.\n",
    "\n",
    "***Sözleşme Türü (Contract)***\n",
    "\n",
    "Month-to-month müşterilerin churn oranı %42,7 → En riskli grup.\n",
    "\n",
    "One year: %11,3\n",
    "\n",
    "Two year: %2,8 → En düşük churn.\n",
    "\n",
    "Yorum: Uzun süreli sözleşmeler churn riskini ciddi şekilde azaltıyor. Sadakati artırmak için müşterilere uzun vadeli plan teşvikleri sunulmalı.\n",
    "\n",
    "***İnternet Servis Türü (InternetService)***\n",
    "\n",
    "Fiber optic kullanıcılarında churn %41,9 → DSL kullanıcılarının (%19) iki katından fazla.\n",
    "\n",
    "İnternet hizmeti olmayanlarda churn çok düşük (%7,4) çünkü bunlar muhtemelen sadece telefon müşterisi ve daha az rekabet baskısı altında.\n",
    "\n",
    "Yorum: Fiber kullanıcılarında fiyat, hız veya hizmet kalitesi problemleri olabilir. Bu segment ayrıca daha talepkar olabilir.\n",
    "\n",
    "***Ek Hizmetler (OnlineSecurity, TechSupport vb.)***\n",
    "\n",
    "Güvenlik ve teknik destek hizmetleri olmayan müşterilerde churn %39–41 civarında.\n",
    "\n",
    "Bu hizmetleri kullanan müşterilerde churn oranı %14–22’ye düşüyor.\n",
    "\n",
    "Yorum: Ek hizmetler, müşteri bağlılığını artırıyor. Paket satış stratejisi churn’ü azaltabilir.\n",
    "\n",
    "***Ödeme Yöntemi (PaymentMethod)***\n",
    "\n",
    "Electronic check kullananlarda churn oranı %45,3 → En yüksek risk.\n",
    "\n",
    "Otomatik ödeme (banka transferi veya kredi kartı) kullananlarda churn %15–17.\n",
    "\n",
    "Yorum: Manuel ödeme yapanlar aboneliği kolayca iptal edebiliyor. Otomatik ödeme teşvik edilmeli.\n",
    "\n",
    "***Demografi***\n",
    "\n",
    "SeniorCitizen (yaşlı) müşterilerde churn %41,7; gençlerde %23,6.\n",
    "\n",
    "Partner ve Dependents olanlarda churn daha düşük (Partner yok: %33, Dependents yok: %31).\n",
    "\n",
    "Yorum: Yalnız yaşayan ve yaşı yüksek müşteriler daha yüksek churn riski taşıyor.\n",
    "\n",
    "***Faturalandırma (PaperlessBilling)***\n",
    "\n",
    "E-fatura (Yes) kullananlarda churn %33,6; kağıt faturalarda %16,3.\n",
    "\n",
    "Yorum: E-fatura kullanıcıları daha dijital odaklı, rekabetçi tekliflere daha açık olabilir. Bu grup için ekstra sadakat kampanyaları gerekebilir."
   ]
  },
  {
   "cell_type": "markdown",
   "id": "6d40d029-3790-42c8-83da-2230f1453225",
   "metadata": {},
   "source": [
    "**Adım 5:** Aykırı gözlem analizi yapınız."
   ]
  },
  {
   "cell_type": "code",
   "execution_count": 136,
   "id": "8f1f9288-7d79-45b7-8aa9-989da767e1d7",
   "metadata": {},
   "outputs": [],
   "source": [
    "def outlier_tresholds(dataframe, col_name, q1=0.05, q3=0.95):\n",
    "    q1 = dataframe[col_name].quantile(q1)\n",
    "    q3 = dataframe[col_name].quantile(q3)\n",
    "    IQR = q3 -q1\n",
    "    up_limit = q3 + 1.5*IQR\n",
    "    low_limit = q1 - 1.5*IQR\n",
    "    return low_limit, up_limit"
   ]
  },
  {
   "cell_type": "code",
   "execution_count": 138,
   "id": "4e69283f-aebe-47c3-a536-3b80bf228db6",
   "metadata": {},
   "outputs": [],
   "source": [
    "def check_outliers(dataframe, col_name):\n",
    "    low_limit, up_limit = outlier_tresholds(dataframe, col_name)\n",
    "    if dataframe[(dataframe[col_name] < low_limit)|(dataframe[col_name] > up_limit)].any(axis=None):\n",
    "        return True\n",
    "    else:\n",
    "        return False"
   ]
  },
  {
   "cell_type": "code",
   "execution_count": 140,
   "id": "86dc8bf4-b6e2-42c2-aaf3-cc42cf4bcee4",
   "metadata": {},
   "outputs": [
    {
     "name": "stdout",
     "output_type": "stream",
     "text": [
      "tenure False\n",
      "MonthlyCharges False\n",
      "TotalCharges False\n"
     ]
    }
   ],
   "source": [
    "for col in num_cols:\n",
    "    print(col,check_outliers(df, col))"
   ]
  },
  {
   "cell_type": "markdown",
   "id": "9bdc9646-c52a-4de9-a63a-77d881414fbd",
   "metadata": {},
   "source": [
    "**Adım 6:** Eksik gözlem analizi yapınız."
   ]
  },
  {
   "cell_type": "code",
   "execution_count": 102,
   "id": "b05cb6ef-e593-4367-8090-e36530d85462",
   "metadata": {},
   "outputs": [
    {
     "data": {
      "text/plain": [
       "customerID          False\n",
       "gender              False\n",
       "SeniorCitizen       False\n",
       "Partner             False\n",
       "Dependents          False\n",
       "tenure              False\n",
       "PhoneService        False\n",
       "MultipleLines       False\n",
       "InternetService     False\n",
       "OnlineSecurity      False\n",
       "OnlineBackup        False\n",
       "DeviceProtection    False\n",
       "TechSupport         False\n",
       "StreamingTV         False\n",
       "StreamingMovies     False\n",
       "Contract            False\n",
       "PaperlessBilling    False\n",
       "PaymentMethod       False\n",
       "MonthlyCharges      False\n",
       "TotalCharges         True\n",
       "Churn               False\n",
       "dtype: bool"
      ]
     },
     "execution_count": 102,
     "metadata": {},
     "output_type": "execute_result"
    }
   ],
   "source": [
    "df.isnull().any()"
   ]
  },
  {
   "cell_type": "code",
   "execution_count": 104,
   "id": "e819f47b-979e-40d0-aaff-fc428cb6856d",
   "metadata": {},
   "outputs": [
    {
     "name": "stdout",
     "output_type": "stream",
     "text": [
      "              n_miss  ratio\n",
      "TotalCharges      11  0.160\n"
     ]
    }
   ],
   "source": [
    "def missing_values_table(dataframe, na_name=False):\n",
    "    na_columns = [col for col in dataframe.columns if dataframe[col].isnull().sum() > 0]\n",
    "    n_miss = dataframe[na_columns].isnull().sum().sort_values(ascending=False)\n",
    "    ratio = (dataframe[na_columns].isnull().sum() / dataframe.shape[0] * 100).sort_values(ascending=False)\n",
    "    missing_df = pd.concat([n_miss, np.round(ratio, 2)], axis=1, keys=['n_miss', 'ratio'])\n",
    "    print(missing_df, end=\"\\n\")\n",
    "    if na_name:\n",
    "        return na_columns\n",
    "\n",
    "na_columns = missing_values_table(df, na_name=True)"
   ]
  },
  {
   "cell_type": "markdown",
   "id": "7ed28931-d393-459a-87d9-a1ef40b36f4b",
   "metadata": {},
   "source": [
    "**Adım 7:** Korelasyon analizi yapınız."
   ]
  },
  {
   "cell_type": "code",
   "execution_count": 119,
   "id": "66661f04-a843-4599-be37-f149bbe654c5",
   "metadata": {},
   "outputs": [
    {
     "data": {
      "image/png": "[encoded data removed]",
      "text/plain": [
       "<Figure size 640x480 with 2 Axes>"
      ]
     },
     "metadata": {},
     "output_type": "display_data"
    },
    {
     "data": {
      "text/plain": [
       "[]"
      ]
     },
     "execution_count": 119,
     "metadata": {},
     "output_type": "execute_result"
    }
   ],
   "source": [
    "def high_correlated_cols(dataframe, plot=False, corr_th=0.90):\n",
    "    corr_matrix = dataframe.select_dtypes(include='number').corr().abs()\n",
    "    upper_triangle_matrix = corr_matrix.where(np.triu(np.ones(corr_matrix.shape), k=1).astype(bool))\n",
    "    drop_list = [col for col in upper_triangle_matrix.columns if any(upper_triangle_matrix[col] > corr_th)]\n",
    "\n",
    "    if plot:\n",
    "        import seaborn as sns\n",
    "        import matplotlib.pyplot as plt\n",
    "        sns.heatmap(corr_matrix, cmap=\"RdBu\", annot=False)\n",
    "        plt.title(\"Correlation Matrix\")\n",
    "        plt.show()\n",
    "\n",
    "    return drop_list\n",
    "\n",
    "drop_list = high_correlated_cols(df, plot=True)\n",
    "drop_list"
   ]
  },
  {
   "cell_type": "markdown",
   "id": "652d4a1d-fc0d-4702-85c2-89b0a49b2b6d",
   "metadata": {},
   "source": [
    "* Yaş ve TotalCharges arasında yüksek korelasyon var!!!"
   ]
  },
  {
   "cell_type": "markdown",
   "id": "addb4c05-b04c-4f05-bd7e-311692fe09b8",
   "metadata": {},
   "source": [
    "<span style=\"color: blue; font-weight: bold;\"> Görev 2 : Feature Engineering</span>\n",
    "\n",
    "**Adım 1:** Eksik ve aykırı gözlemler için gerekli işlemleri yapınız."
   ]
  },
  {
   "cell_type": "markdown",
   "id": "dc77533a-1321-4c0e-80bf-7f58d8d46d1e",
   "metadata": {},
   "source": [
    "* Aykırı değer olmadıgı için herhangi bir işlem yapmadık."
   ]
  },
  {
   "cell_type": "markdown",
   "id": "1c69e13f-c852-42a9-8e9a-9f022b0aa716",
   "metadata": {},
   "source": [
    "* Eksik değer TotalCharges değişkeninde vardı. 11 tane oldugu için veri setinden silinebilir median ile doldurulabilir."
   ]
  },
  {
   "cell_type": "code",
   "execution_count": 127,
   "id": "921f32f2-b87d-43cf-8f27-2ca8f6bb77cd",
   "metadata": {},
   "outputs": [],
   "source": [
    "df['TotalCharges'] = df['TotalCharges'].fillna(df['TotalCharges'].median())"
   ]
  },
  {
   "cell_type": "code",
   "execution_count": 129,
   "id": "778dcf41-0117-4a13-b535-aa705b78ff90",
   "metadata": {},
   "outputs": [
    {
     "name": "stdout",
     "output_type": "stream",
     "text": [
      "Empty DataFrame\n",
      "Columns: [n_miss, ratio]\n",
      "Index: []\n"
     ]
    },
    {
     "data": {
      "text/plain": [
       "[]"
      ]
     },
     "execution_count": 129,
     "metadata": {},
     "output_type": "execute_result"
    }
   ],
   "source": [
    "missing_values_table(df, na_name=True)"
   ]
  },
  {
   "cell_type": "markdown",
   "id": "692371e1-2b51-4f55-84d9-7243c27ee5c9",
   "metadata": {},
   "source": [
    "**Adım 2:** Yeni değişkenler oluşturunuz."
   ]
  },
  {
   "cell_type": "code",
   "execution_count": 134,
   "id": "35bac05e-bac5-458d-89e5-3856ee0f87f1",
   "metadata": {},
   "outputs": [],
   "source": [
    "# Tenure  değişkeninden yıllık kategorik değişken oluşturma\n",
    "df.loc[(df[\"tenure\"]>=0) & (df[\"tenure\"]<=12),\"NEW_TENURE_YEAR\"] = \"0-1 Year\"\n",
    "df.loc[(df[\"tenure\"]>12) & (df[\"tenure\"]<=24),\"NEW_TENURE_YEAR\"] = \"1-2 Year\"\n",
    "df.loc[(df[\"tenure\"]>24) & (df[\"tenure\"]<=36),\"NEW_TENURE_YEAR\"] = \"2-3 Year\"\n",
    "df.loc[(df[\"tenure\"]>36) & (df[\"tenure\"]<=48),\"NEW_TENURE_YEAR\"] = \"3-4 Year\"\n",
    "df.loc[(df[\"tenure\"]>48) & (df[\"tenure\"]<=60),\"NEW_TENURE_YEAR\"] = \"4-5 Year\"\n",
    "df.loc[(df[\"tenure\"]>60) & (df[\"tenure\"]<=72),\"NEW_TENURE_YEAR\"] = \"5-6 Year\""
   ]
  },
  {
   "cell_type": "code",
   "execution_count": 142,
   "id": "546d5ca5-b6e7-4b22-8bda-e51e322e454b",
   "metadata": {},
   "outputs": [],
   "source": [
    "# Kontratı 1 veya 2 yıllık müşterileri Engaged olarak belirtme\n",
    "df[\"NEW_Engaged\"] = df[\"Contract\"].apply(lambda x: 1 if x in [\"One year\",\"Two year\"] else 0)\n",
    "\n",
    "\n"
   ]
  },
  {
   "cell_type": "code",
   "execution_count": 144,
   "id": "546327a5-8aa7-411f-9699-ea40e984e158",
   "metadata": {},
   "outputs": [],
   "source": [
    "# Herhangi bir destek, yedek veya koruma almayan kişiler\n",
    "df[\"NEW_noProt\"] = df.apply(lambda x: 1 if (x[\"OnlineBackup\"] != \"Yes\") or (x[\"DeviceProtection\"] != \"Yes\") or (x[\"TechSupport\"] != \"Yes\") else 0, axis=1)\n"
   ]
  },
  {
   "cell_type": "code",
   "execution_count": 146,
   "id": "b41d4548-4360-4ca7-aca1-ed3590791202",
   "metadata": {},
   "outputs": [],
   "source": [
    "# Aylık sözleşmesi bulunan ve genç olan müşteriler\n",
    "df[\"NEW_Young_Not_Engaged\"] = df.apply(lambda x: 1 if (x[\"NEW_Engaged\"] == 0) and (x[\"SeniorCitizen\"] == 0) else 0, axis=1)"
   ]
  },
  {
   "cell_type": "code",
   "execution_count": 148,
   "id": "24236c2c-3cb5-43d5-b2a7-a97c9c1936b5",
   "metadata": {},
   "outputs": [],
   "source": [
    "# Kişinin toplam aldığı servis sayısı\n",
    "df['NEW_TotalServices'] = (df[['PhoneService', 'InternetService', 'OnlineSecurity',\n",
    "                                       'OnlineBackup', 'DeviceProtection', 'TechSupport',\n",
    "                                       'StreamingTV', 'StreamingMovies']]== 'Yes').sum(axis=1)"
   ]
  },
  {
   "cell_type": "code",
   "execution_count": 150,
   "id": "27971e4b-7b90-406c-bb4c-b59b3cf4c9a0",
   "metadata": {},
   "outputs": [],
   "source": [
    "# Herhangi bir streaming hizmeti alan kişiler\n",
    "df[\"NEW_FLAG_ANY_STREAMING\"] = df.apply(lambda x: 1 if (x[\"StreamingTV\"] == \"Yes\") or (x[\"StreamingMovies\"] == \"Yes\") else 0, axis=1)"
   ]
  },
  {
   "cell_type": "code",
   "execution_count": 152,
   "id": "f3fd45fd-e2c5-492a-b86f-3875c4ca21ea",
   "metadata": {},
   "outputs": [],
   "source": [
    "# Kişi otomatik ödeme yapıyor mu?\n",
    "df[\"NEW_FLAG_AutoPayment\"] = df[\"PaymentMethod\"].apply(lambda x: 1 if x in [\"Bank transfer (automatic)\",\"Credit card (automatic)\"] else 0)"
   ]
  },
  {
   "cell_type": "code",
   "execution_count": 154,
   "id": "c41878f2-20c8-49e9-b49d-bf011575383b",
   "metadata": {},
   "outputs": [],
   "source": [
    "# ortalama aylık ödeme\n",
    "df[\"NEW_AVG_Charges\"] = df[\"TotalCharges\"] / (df[\"tenure\"] + 1)"
   ]
  },
  {
   "cell_type": "code",
   "execution_count": 156,
   "id": "766100b2-d479-4134-804f-7099de04c0ba",
   "metadata": {},
   "outputs": [],
   "source": [
    "# Güncel Fiyatın ortalama fiyata göre artışı\n",
    "df[\"NEW_Increase\"] = df[\"NEW_AVG_Charges\"] / df[\"MonthlyCharges\"]"
   ]
  },
  {
   "cell_type": "code",
   "execution_count": 158,
   "id": "c30a6b89-e5bf-48b7-a5cc-82721fcce493",
   "metadata": {},
   "outputs": [],
   "source": [
    "# Servis başına ücret\n",
    "df[\"NEW_AVG_Service_Fee\"] = df[\"MonthlyCharges\"] / (df['NEW_TotalServices'] + 1)"
   ]
  },
  {
   "cell_type": "code",
   "execution_count": 162,
   "id": "9d26a747-8775-4837-a23c-44f915f9e989",
   "metadata": {},
   "outputs": [
    {
     "data": {
      "text/plain": [
       "(7043, 31)"
      ]
     },
     "execution_count": 162,
     "metadata": {},
     "output_type": "execute_result"
    }
   ],
   "source": [
    "df.shape"
   ]
  },
  {
   "cell_type": "code",
   "execution_count": 164,
   "id": "78020f94-6e92-4f60-a4ee-83340fcfc28a",
   "metadata": {},
   "outputs": [
    {
     "data": {
      "text/html": [
       "<div>\n",
       "<style scoped>\n",
       "    .dataframe tbody tr th:only-of-type {\n",
       "        vertical-align: middle;\n",
       "    }\n",
       "\n",
       "    .dataframe tbody tr th {\n",
       "        vertical-align: top;\n",
       "    }\n",
       "\n",
       "    .dataframe thead th {\n",
       "        text-align: right;\n",
       "    }\n",
       "</style>\n",
       "<table border=\"1\" class=\"dataframe\">\n",
       "  <thead>\n",
       "    <tr style=\"text-align: right;\">\n",
       "      <th></th>\n",
       "      <th>customerID</th>\n",
       "      <th>gender</th>\n",
       "      <th>SeniorCitizen</th>\n",
       "      <th>Partner</th>\n",
       "      <th>Dependents</th>\n",
       "      <th>tenure</th>\n",
       "      <th>PhoneService</th>\n",
       "      <th>MultipleLines</th>\n",
       "      <th>InternetService</th>\n",
       "      <th>OnlineSecurity</th>\n",
       "      <th>OnlineBackup</th>\n",
       "      <th>DeviceProtection</th>\n",
       "      <th>TechSupport</th>\n",
       "      <th>StreamingTV</th>\n",
       "      <th>StreamingMovies</th>\n",
       "      <th>Contract</th>\n",
       "      <th>PaperlessBilling</th>\n",
       "      <th>PaymentMethod</th>\n",
       "      <th>MonthlyCharges</th>\n",
       "      <th>TotalCharges</th>\n",
       "      <th>Churn</th>\n",
       "      <th>NEW_TENURE_YEAR</th>\n",
       "      <th>NEW_Engaged</th>\n",
       "      <th>NEW_noProt</th>\n",
       "      <th>NEW_Young_Not_Engaged</th>\n",
       "      <th>NEW_TotalServices</th>\n",
       "      <th>NEW_FLAG_ANY_STREAMING</th>\n",
       "      <th>NEW_FLAG_AutoPayment</th>\n",
       "      <th>NEW_AVG_Charges</th>\n",
       "      <th>NEW_Increase</th>\n",
       "      <th>NEW_AVG_Service_Fee</th>\n",
       "    </tr>\n",
       "  </thead>\n",
       "  <tbody>\n",
       "    <tr>\n",
       "      <th>0</th>\n",
       "      <td>7590-VHVEG</td>\n",
       "      <td>Female</td>\n",
       "      <td>0</td>\n",
       "      <td>Yes</td>\n",
       "      <td>No</td>\n",
       "      <td>1</td>\n",
       "      <td>No</td>\n",
       "      <td>No phone service</td>\n",
       "      <td>DSL</td>\n",
       "      <td>No</td>\n",
       "      <td>Yes</td>\n",
       "      <td>No</td>\n",
       "      <td>No</td>\n",
       "      <td>No</td>\n",
       "      <td>No</td>\n",
       "      <td>Month-to-month</td>\n",
       "      <td>Yes</td>\n",
       "      <td>Electronic check</td>\n",
       "      <td>29.850</td>\n",
       "      <td>29.850</td>\n",
       "      <td>0</td>\n",
       "      <td>0-1 Year</td>\n",
       "      <td>0</td>\n",
       "      <td>1</td>\n",
       "      <td>1</td>\n",
       "      <td>1</td>\n",
       "      <td>0</td>\n",
       "      <td>0</td>\n",
       "      <td>14.925</td>\n",
       "      <td>0.500</td>\n",
       "      <td>14.925</td>\n",
       "    </tr>\n",
       "    <tr>\n",
       "      <th>1</th>\n",
       "      <td>5575-GNVDE</td>\n",
       "      <td>Male</td>\n",
       "      <td>0</td>\n",
       "      <td>No</td>\n",
       "      <td>No</td>\n",
       "      <td>34</td>\n",
       "      <td>Yes</td>\n",
       "      <td>No</td>\n",
       "      <td>DSL</td>\n",
       "      <td>Yes</td>\n",
       "      <td>No</td>\n",
       "      <td>Yes</td>\n",
       "      <td>No</td>\n",
       "      <td>No</td>\n",
       "      <td>No</td>\n",
       "      <td>One year</td>\n",
       "      <td>No</td>\n",
       "      <td>Mailed check</td>\n",
       "      <td>56.950</td>\n",
       "      <td>1889.500</td>\n",
       "      <td>0</td>\n",
       "      <td>2-3 Year</td>\n",
       "      <td>1</td>\n",
       "      <td>1</td>\n",
       "      <td>0</td>\n",
       "      <td>3</td>\n",
       "      <td>0</td>\n",
       "      <td>0</td>\n",
       "      <td>53.986</td>\n",
       "      <td>0.948</td>\n",
       "      <td>14.238</td>\n",
       "    </tr>\n",
       "    <tr>\n",
       "      <th>2</th>\n",
       "      <td>3668-QPYBK</td>\n",
       "      <td>Male</td>\n",
       "      <td>0</td>\n",
       "      <td>No</td>\n",
       "      <td>No</td>\n",
       "      <td>2</td>\n",
       "      <td>Yes</td>\n",
       "      <td>No</td>\n",
       "      <td>DSL</td>\n",
       "      <td>Yes</td>\n",
       "      <td>Yes</td>\n",
       "      <td>No</td>\n",
       "      <td>No</td>\n",
       "      <td>No</td>\n",
       "      <td>No</td>\n",
       "      <td>Month-to-month</td>\n",
       "      <td>Yes</td>\n",
       "      <td>Mailed check</td>\n",
       "      <td>53.850</td>\n",
       "      <td>108.150</td>\n",
       "      <td>1</td>\n",
       "      <td>0-1 Year</td>\n",
       "      <td>0</td>\n",
       "      <td>1</td>\n",
       "      <td>1</td>\n",
       "      <td>3</td>\n",
       "      <td>0</td>\n",
       "      <td>0</td>\n",
       "      <td>36.050</td>\n",
       "      <td>0.669</td>\n",
       "      <td>13.463</td>\n",
       "    </tr>\n",
       "    <tr>\n",
       "      <th>3</th>\n",
       "      <td>7795-CFOCW</td>\n",
       "      <td>Male</td>\n",
       "      <td>0</td>\n",
       "      <td>No</td>\n",
       "      <td>No</td>\n",
       "      <td>45</td>\n",
       "      <td>No</td>\n",
       "      <td>No phone service</td>\n",
       "      <td>DSL</td>\n",
       "      <td>Yes</td>\n",
       "      <td>No</td>\n",
       "      <td>Yes</td>\n",
       "      <td>Yes</td>\n",
       "      <td>No</td>\n",
       "      <td>No</td>\n",
       "      <td>One year</td>\n",
       "      <td>No</td>\n",
       "      <td>Bank transfer (automatic)</td>\n",
       "      <td>42.300</td>\n",
       "      <td>1840.750</td>\n",
       "      <td>0</td>\n",
       "      <td>3-4 Year</td>\n",
       "      <td>1</td>\n",
       "      <td>1</td>\n",
       "      <td>0</td>\n",
       "      <td>3</td>\n",
       "      <td>0</td>\n",
       "      <td>1</td>\n",
       "      <td>40.016</td>\n",
       "      <td>0.946</td>\n",
       "      <td>10.575</td>\n",
       "    </tr>\n",
       "    <tr>\n",
       "      <th>4</th>\n",
       "      <td>9237-HQITU</td>\n",
       "      <td>Female</td>\n",
       "      <td>0</td>\n",
       "      <td>No</td>\n",
       "      <td>No</td>\n",
       "      <td>2</td>\n",
       "      <td>Yes</td>\n",
       "      <td>No</td>\n",
       "      <td>Fiber optic</td>\n",
       "      <td>No</td>\n",
       "      <td>No</td>\n",
       "      <td>No</td>\n",
       "      <td>No</td>\n",
       "      <td>No</td>\n",
       "      <td>No</td>\n",
       "      <td>Month-to-month</td>\n",
       "      <td>Yes</td>\n",
       "      <td>Electronic check</td>\n",
       "      <td>70.700</td>\n",
       "      <td>151.650</td>\n",
       "      <td>1</td>\n",
       "      <td>0-1 Year</td>\n",
       "      <td>0</td>\n",
       "      <td>1</td>\n",
       "      <td>1</td>\n",
       "      <td>1</td>\n",
       "      <td>0</td>\n",
       "      <td>0</td>\n",
       "      <td>50.550</td>\n",
       "      <td>0.715</td>\n",
       "      <td>35.350</td>\n",
       "    </tr>\n",
       "  </tbody>\n",
       "</table>\n",
       "</div>"
      ],
      "text/plain": [
       "   customerID  gender  SeniorCitizen Partner Dependents  tenure PhoneService     MultipleLines InternetService OnlineSecurity OnlineBackup DeviceProtection TechSupport StreamingTV StreamingMovies        Contract PaperlessBilling              PaymentMethod  MonthlyCharges  TotalCharges  Churn NEW_TENURE_YEAR  NEW_Engaged  NEW_noProt  NEW_Young_Not_Engaged  NEW_TotalServices  NEW_FLAG_ANY_STREAMING  NEW_FLAG_AutoPayment  NEW_AVG_Charges  NEW_Increase  NEW_AVG_Service_Fee\n",
       "0  7590-VHVEG  Female              0     Yes         No       1           No  No phone service             DSL             No          Yes               No          No          No              No  Month-to-month              Yes           Electronic check          29.850        29.850      0        0-1 Year            0           1                      1                  1                       0                     0           14.925         0.500               14.925\n",
       "1  5575-GNVDE    Male              0      No         No      34          Yes                No             DSL            Yes           No              Yes          No          No              No        One year               No               Mailed check          56.950      1889.500      0        2-3 Year            1           1                      0                  3                       0                     0           53.986         0.948               14.238\n",
       "2  3668-QPYBK    Male              0      No         No       2          Yes                No             DSL            Yes          Yes               No          No          No              No  Month-to-month              Yes               Mailed check          53.850       108.150      1        0-1 Year            0           1                      1                  3                       0                     0           36.050         0.669               13.463\n",
       "3  7795-CFOCW    Male              0      No         No      45           No  No phone service             DSL            Yes           No              Yes         Yes          No              No        One year               No  Bank transfer (automatic)          42.300      1840.750      0        3-4 Year            1           1                      0                  3                       0                     1           40.016         0.946               10.575\n",
       "4  9237-HQITU  Female              0      No         No       2          Yes                No     Fiber optic             No           No               No          No          No              No  Month-to-month              Yes           Electronic check          70.700       151.650      1        0-1 Year            0           1                      1                  1                       0                     0           50.550         0.715               35.350"
      ]
     },
     "execution_count": 164,
     "metadata": {},
     "output_type": "execute_result"
    }
   ],
   "source": [
    "df.head()"
   ]
  },
  {
   "cell_type": "code",
   "execution_count": 166,
   "id": "c1480ba6-2b88-4e50-b10e-46eca0cf7718",
   "metadata": {},
   "outputs": [],
   "source": [
    "df.columns = [col.upper() for col in df.columns]"
   ]
  },
  {
   "cell_type": "code",
   "execution_count": 168,
   "id": "2fad146c-479a-4dc5-ab46-b951c2278ef2",
   "metadata": {},
   "outputs": [
    {
     "name": "stdout",
     "output_type": "stream",
     "text": [
      "Observetions: 7043\n",
      "Variables: 31\n",
      "cat_cols: 24\n",
      "num_cols: 6\n",
      "cat_but_car: 1\n",
      "num_but_cat: 8\n"
     ]
    }
   ],
   "source": [
    "cat_cols, num_cols, cat_but_car = grab_col_names(df)"
   ]
  },
  {
   "cell_type": "markdown",
   "id": "61f08924-2778-4dc2-b992-861d808b1126",
   "metadata": {},
   "source": [
    "**Adım 3:** Encoding işlemlerini gerçekleştiriniz."
   ]
  },
  {
   "cell_type": "code",
   "execution_count": 175,
   "id": "734275ae-2fa7-4783-bb8a-2c227d3872e7",
   "metadata": {},
   "outputs": [],
   "source": [
    "#label encoding\n",
    "binary_cols = [col for col in df. columns if df[col].dtype not in ['int64','float64','int32','float32'] and df[col].nunique()==2]"
   ]
  },
  {
   "cell_type": "code",
   "execution_count": 177,
   "id": "0ae10e5a-4905-4f82-b39d-8221cf8f46c4",
   "metadata": {},
   "outputs": [
    {
     "data": {
      "text/plain": [
       "['GENDER', 'PARTNER', 'DEPENDENTS', 'PHONESERVICE', 'PAPERLESSBILLING']"
      ]
     },
     "execution_count": 177,
     "metadata": {},
     "output_type": "execute_result"
    }
   ],
   "source": [
    "binary_cols"
   ]
  },
  {
   "cell_type": "code",
   "execution_count": 181,
   "id": "39f979c5-f3c5-4b70-8ae0-d3d73726addb",
   "metadata": {},
   "outputs": [
    {
     "data": {
      "text/plain": [
       "GENDER              2\n",
       "PARTNER             2\n",
       "DEPENDENTS          2\n",
       "PHONESERVICE        2\n",
       "PAPERLESSBILLING    2\n",
       "dtype: int64"
      ]
     },
     "execution_count": 181,
     "metadata": {},
     "output_type": "execute_result"
    }
   ],
   "source": [
    "df[binary_cols].nunique()"
   ]
  },
  {
   "cell_type": "code",
   "execution_count": 183,
   "id": "2c67f24a-0d5a-4405-b2da-0f889eceb994",
   "metadata": {},
   "outputs": [],
   "source": [
    "def label_encoder(dataframe, binary_col):\n",
    "    labelencoder = LabelEncoder()\n",
    "    dataframe[col] = labelencoder.fit_transform(dataframe[col])\n",
    "    return dataframe"
   ]
  },
  {
   "cell_type": "code",
   "execution_count": 185,
   "id": "111fbb13-ecf3-42ba-9884-9edc92198b8d",
   "metadata": {},
   "outputs": [],
   "source": [
    "for col in binary_cols:\n",
    "    df = label_encoder(df, col)"
   ]
  },
  {
   "cell_type": "code",
   "execution_count": 187,
   "id": "445d5003-c5f4-4ab9-b046-4143965a91f9",
   "metadata": {},
   "outputs": [],
   "source": [
    "#Rare encoder\n",
    "def rare_analyser(dataframe, target, cat_cols):\n",
    "    for col in cat_cols:\n",
    "        print(col, \":\", len(dataframe[col].value_counts()))\n",
    "        print(pd.DataFrame({\"COUNT\": dataframe[col].value_counts(),\n",
    "                            \"RATIO\": dataframe[col].value_counts() / len(dataframe),\n",
    "                            \"TARGET_MEAN\": dataframe.groupby(col)[target].mean()}), end=\"\\n\\n\\n\")"
   ]
  },
  {
   "cell_type": "code",
   "execution_count": 189,
   "id": "8705d0f2-976c-4cee-9b63-7073ffb072b9",
   "metadata": {},
   "outputs": [
    {
     "name": "stdout",
     "output_type": "stream",
     "text": [
      "GENDER : 2\n",
      "        COUNT  RATIO  TARGET_MEAN\n",
      "GENDER                           \n",
      "0        3488  0.495        0.269\n",
      "1        3555  0.505        0.262\n",
      "\n",
      "\n",
      "PARTNER : 2\n",
      "         COUNT  RATIO  TARGET_MEAN\n",
      "PARTNER                           \n",
      "0         3641  0.517        0.330\n",
      "1         3402  0.483        0.197\n",
      "\n",
      "\n",
      "DEPENDENTS : 2\n",
      "            COUNT  RATIO  TARGET_MEAN\n",
      "DEPENDENTS                           \n",
      "0            4933  0.700        0.313\n",
      "1            2110  0.300        0.155\n",
      "\n",
      "\n",
      "PHONESERVICE : 2\n",
      "              COUNT  RATIO  TARGET_MEAN\n",
      "PHONESERVICE                           \n",
      "0               682  0.097        0.249\n",
      "1              6361  0.903        0.267\n",
      "\n",
      "\n",
      "MULTIPLELINES : 3\n",
      "                  COUNT  RATIO  TARGET_MEAN\n",
      "MULTIPLELINES                              \n",
      "No                 3390  0.481        0.250\n",
      "No phone service    682  0.097        0.249\n",
      "Yes                2971  0.422        0.286\n",
      "\n",
      "\n",
      "INTERNETSERVICE : 3\n",
      "                 COUNT  RATIO  TARGET_MEAN\n",
      "INTERNETSERVICE                           \n",
      "DSL               2421  0.344        0.190\n",
      "Fiber optic       3096  0.440        0.419\n",
      "No                1526  0.217        0.074\n",
      "\n",
      "\n",
      "ONLINESECURITY : 3\n",
      "                     COUNT  RATIO  TARGET_MEAN\n",
      "ONLINESECURITY                                \n",
      "No                    3498  0.497        0.418\n",
      "No internet service   1526  0.217        0.074\n",
      "Yes                   2019  0.287        0.146\n",
      "\n",
      "\n",
      "ONLINEBACKUP : 3\n",
      "                     COUNT  RATIO  TARGET_MEAN\n",
      "ONLINEBACKUP                                  \n",
      "No                    3088  0.438        0.399\n",
      "No internet service   1526  0.217        0.074\n",
      "Yes                   2429  0.345        0.215\n",
      "\n",
      "\n",
      "DEVICEPROTECTION : 3\n",
      "                     COUNT  RATIO  TARGET_MEAN\n",
      "DEVICEPROTECTION                              \n",
      "No                    3095  0.439        0.391\n",
      "No internet service   1526  0.217        0.074\n",
      "Yes                   2422  0.344        0.225\n",
      "\n",
      "\n",
      "TECHSUPPORT : 3\n",
      "                     COUNT  RATIO  TARGET_MEAN\n",
      "TECHSUPPORT                                   \n",
      "No                    3473  0.493        0.416\n",
      "No internet service   1526  0.217        0.074\n",
      "Yes                   2044  0.290        0.152\n",
      "\n",
      "\n",
      "STREAMINGTV : 3\n",
      "                     COUNT  RATIO  TARGET_MEAN\n",
      "STREAMINGTV                                   \n",
      "No                    2810  0.399        0.335\n",
      "No internet service   1526  0.217        0.074\n",
      "Yes                   2707  0.384        0.301\n",
      "\n",
      "\n",
      "STREAMINGMOVIES : 3\n",
      "                     COUNT  RATIO  TARGET_MEAN\n",
      "STREAMINGMOVIES                               \n",
      "No                    2785  0.395        0.337\n",
      "No internet service   1526  0.217        0.074\n",
      "Yes                   2732  0.388        0.299\n",
      "\n",
      "\n",
      "CONTRACT : 3\n",
      "                COUNT  RATIO  TARGET_MEAN\n",
      "CONTRACT                                 \n",
      "Month-to-month   3875  0.550        0.427\n",
      "One year         1473  0.209        0.113\n",
      "Two year         1695  0.241        0.028\n",
      "\n",
      "\n",
      "PAPERLESSBILLING : 2\n",
      "                  COUNT  RATIO  TARGET_MEAN\n",
      "PAPERLESSBILLING                           \n",
      "0                  2872  0.408        0.163\n",
      "1                  4171  0.592        0.336\n",
      "\n",
      "\n",
      "PAYMENTMETHOD : 4\n",
      "                           COUNT  RATIO  TARGET_MEAN\n",
      "PAYMENTMETHOD                                       \n",
      "Bank transfer (automatic)   1544  0.219        0.167\n",
      "Credit card (automatic)     1522  0.216        0.152\n",
      "Electronic check            2365  0.336        0.453\n",
      "Mailed check                1612  0.229        0.191\n",
      "\n",
      "\n",
      "NEW_TENURE_YEAR : 6\n",
      "                 COUNT  RATIO  TARGET_MEAN\n",
      "NEW_TENURE_YEAR                           \n",
      "0-1 Year          2186  0.310        0.474\n",
      "1-2 Year          1024  0.145        0.287\n",
      "2-3 Year           832  0.118        0.216\n",
      "3-4 Year           762  0.108        0.190\n",
      "4-5 Year           832  0.118        0.144\n",
      "5-6 Year          1407  0.200        0.066\n",
      "\n",
      "\n",
      "SENIORCITIZEN : 2\n",
      "               COUNT  RATIO  TARGET_MEAN\n",
      "SENIORCITIZEN                           \n",
      "0               5901  0.838        0.236\n",
      "1               1142  0.162        0.417\n",
      "\n",
      "\n",
      "CHURN : 2\n",
      "       COUNT  RATIO  TARGET_MEAN\n",
      "CHURN                           \n",
      "0       5174  0.735        0.000\n",
      "1       1869  0.265        1.000\n",
      "\n",
      "\n",
      "NEW_ENGAGED : 2\n",
      "             COUNT  RATIO  TARGET_MEAN\n",
      "NEW_ENGAGED                           \n",
      "0             3875  0.550        0.427\n",
      "1             3168  0.450        0.068\n",
      "\n",
      "\n",
      "NEW_NOPROT : 2\n",
      "            COUNT  RATIO  TARGET_MEAN\n",
      "NEW_NOPROT                           \n",
      "0             726  0.103        0.088\n",
      "1            6317  0.897        0.286\n",
      "\n",
      "\n",
      "NEW_YOUNG_NOT_ENGAGED : 2\n",
      "                       COUNT  RATIO  TARGET_MEAN\n",
      "NEW_YOUNG_NOT_ENGAGED                           \n",
      "0                       3975  0.564        0.165\n",
      "1                       3068  0.436        0.396\n",
      "\n",
      "\n",
      "NEW_TOTALSERVICES : 8\n",
      "                   COUNT  RATIO  TARGET_MEAN\n",
      "NEW_TOTALSERVICES                           \n",
      "0                     80  0.011        0.438\n",
      "1                   2253  0.320        0.217\n",
      "2                    996  0.141        0.435\n",
      "3                   1041  0.148        0.347\n",
      "4                   1062  0.151        0.272\n",
      "5                    827  0.117        0.220\n",
      "6                    525  0.075        0.126\n",
      "7                    259  0.037        0.058\n",
      "\n",
      "\n",
      "NEW_FLAG_ANY_STREAMING : 2\n",
      "                        COUNT  RATIO  TARGET_MEAN\n",
      "NEW_FLAG_ANY_STREAMING                           \n",
      "0                        3544  0.503        0.228\n",
      "1                        3499  0.497        0.303\n",
      "\n",
      "\n",
      "NEW_FLAG_AUTOPAYMENT : 2\n",
      "                      COUNT  RATIO  TARGET_MEAN\n",
      "NEW_FLAG_AUTOPAYMENT                           \n",
      "0                      3977  0.565        0.347\n",
      "1                      3066  0.435        0.160\n",
      "\n",
      "\n"
     ]
    }
   ],
   "source": [
    "rare_analyser(df, \"CHURN\", cat_cols)"
   ]
  },
  {
   "cell_type": "code",
   "execution_count": 191,
   "id": "202bbf97-d30c-4fbb-a3a4-ca8713094dcb",
   "metadata": {},
   "outputs": [],
   "source": [
    "ohe_cols = [col for col in df.columns if 10>= df[col].nunique()>2]"
   ]
  },
  {
   "cell_type": "code",
   "execution_count": 193,
   "id": "fc9462e4-481a-451a-a635-d1d188e2df9a",
   "metadata": {},
   "outputs": [],
   "source": [
    "def one_hot_encoder(dataframe, cat_col, drop_first=True):\n",
    "    dataframe = pd.get_dummies(dataframe,columns = cat_col, drop_first = drop_first)\n",
    "    return dataframe"
   ]
  },
  {
   "cell_type": "code",
   "execution_count": 195,
   "id": "37208fb3-f449-473d-b5bd-57f21f4f49cd",
   "metadata": {},
   "outputs": [],
   "source": [
    "df = one_hot_encoder(df, ohe_cols)"
   ]
  },
  {
   "cell_type": "code",
   "execution_count": 197,
   "id": "70e169d1-42dc-48cd-9232-6b4462d98ab1",
   "metadata": {},
   "outputs": [
    {
     "data": {
      "text/html": [
       "<div>\n",
       "<style scoped>\n",
       "    .dataframe tbody tr th:only-of-type {\n",
       "        vertical-align: middle;\n",
       "    }\n",
       "\n",
       "    .dataframe tbody tr th {\n",
       "        vertical-align: top;\n",
       "    }\n",
       "\n",
       "    .dataframe thead th {\n",
       "        text-align: right;\n",
       "    }\n",
       "</style>\n",
       "<table border=\"1\" class=\"dataframe\">\n",
       "  <thead>\n",
       "    <tr style=\"text-align: right;\">\n",
       "      <th></th>\n",
       "      <th>CUSTOMERID</th>\n",
       "      <th>GENDER</th>\n",
       "      <th>SENIORCITIZEN</th>\n",
       "      <th>PARTNER</th>\n",
       "      <th>DEPENDENTS</th>\n",
       "      <th>TENURE</th>\n",
       "      <th>PHONESERVICE</th>\n",
       "      <th>PAPERLESSBILLING</th>\n",
       "      <th>MONTHLYCHARGES</th>\n",
       "      <th>TOTALCHARGES</th>\n",
       "      <th>CHURN</th>\n",
       "      <th>NEW_ENGAGED</th>\n",
       "      <th>NEW_NOPROT</th>\n",
       "      <th>NEW_YOUNG_NOT_ENGAGED</th>\n",
       "      <th>NEW_FLAG_ANY_STREAMING</th>\n",
       "      <th>NEW_FLAG_AUTOPAYMENT</th>\n",
       "      <th>NEW_AVG_CHARGES</th>\n",
       "      <th>NEW_INCREASE</th>\n",
       "      <th>NEW_AVG_SERVICE_FEE</th>\n",
       "      <th>MULTIPLELINES_No phone service</th>\n",
       "      <th>MULTIPLELINES_Yes</th>\n",
       "      <th>INTERNETSERVICE_Fiber optic</th>\n",
       "      <th>INTERNETSERVICE_No</th>\n",
       "      <th>ONLINESECURITY_No internet service</th>\n",
       "      <th>ONLINESECURITY_Yes</th>\n",
       "      <th>ONLINEBACKUP_No internet service</th>\n",
       "      <th>ONLINEBACKUP_Yes</th>\n",
       "      <th>DEVICEPROTECTION_No internet service</th>\n",
       "      <th>DEVICEPROTECTION_Yes</th>\n",
       "      <th>TECHSUPPORT_No internet service</th>\n",
       "      <th>TECHSUPPORT_Yes</th>\n",
       "      <th>STREAMINGTV_No internet service</th>\n",
       "      <th>STREAMINGTV_Yes</th>\n",
       "      <th>STREAMINGMOVIES_No internet service</th>\n",
       "      <th>STREAMINGMOVIES_Yes</th>\n",
       "      <th>CONTRACT_One year</th>\n",
       "      <th>CONTRACT_Two year</th>\n",
       "      <th>PAYMENTMETHOD_Credit card (automatic)</th>\n",
       "      <th>PAYMENTMETHOD_Electronic check</th>\n",
       "      <th>PAYMENTMETHOD_Mailed check</th>\n",
       "      <th>NEW_TENURE_YEAR_1-2 Year</th>\n",
       "      <th>NEW_TENURE_YEAR_2-3 Year</th>\n",
       "      <th>NEW_TENURE_YEAR_3-4 Year</th>\n",
       "      <th>NEW_TENURE_YEAR_4-5 Year</th>\n",
       "      <th>NEW_TENURE_YEAR_5-6 Year</th>\n",
       "      <th>NEW_TOTALSERVICES_1</th>\n",
       "      <th>NEW_TOTALSERVICES_2</th>\n",
       "      <th>NEW_TOTALSERVICES_3</th>\n",
       "      <th>NEW_TOTALSERVICES_4</th>\n",
       "      <th>NEW_TOTALSERVICES_5</th>\n",
       "      <th>NEW_TOTALSERVICES_6</th>\n",
       "      <th>NEW_TOTALSERVICES_7</th>\n",
       "    </tr>\n",
       "  </thead>\n",
       "  <tbody>\n",
       "    <tr>\n",
       "      <th>0</th>\n",
       "      <td>7590-VHVEG</td>\n",
       "      <td>0</td>\n",
       "      <td>0</td>\n",
       "      <td>1</td>\n",
       "      <td>0</td>\n",
       "      <td>1</td>\n",
       "      <td>0</td>\n",
       "      <td>1</td>\n",
       "      <td>29.850</td>\n",
       "      <td>29.850</td>\n",
       "      <td>0</td>\n",
       "      <td>0</td>\n",
       "      <td>1</td>\n",
       "      <td>1</td>\n",
       "      <td>0</td>\n",
       "      <td>0</td>\n",
       "      <td>14.925</td>\n",
       "      <td>0.500</td>\n",
       "      <td>14.925</td>\n",
       "      <td>True</td>\n",
       "      <td>False</td>\n",
       "      <td>False</td>\n",
       "      <td>False</td>\n",
       "      <td>False</td>\n",
       "      <td>False</td>\n",
       "      <td>False</td>\n",
       "      <td>True</td>\n",
       "      <td>False</td>\n",
       "      <td>False</td>\n",
       "      <td>False</td>\n",
       "      <td>False</td>\n",
       "      <td>False</td>\n",
       "      <td>False</td>\n",
       "      <td>False</td>\n",
       "      <td>False</td>\n",
       "      <td>False</td>\n",
       "      <td>False</td>\n",
       "      <td>False</td>\n",
       "      <td>True</td>\n",
       "      <td>False</td>\n",
       "      <td>False</td>\n",
       "      <td>False</td>\n",
       "      <td>False</td>\n",
       "      <td>False</td>\n",
       "      <td>False</td>\n",
       "      <td>True</td>\n",
       "      <td>False</td>\n",
       "      <td>False</td>\n",
       "      <td>False</td>\n",
       "      <td>False</td>\n",
       "      <td>False</td>\n",
       "      <td>False</td>\n",
       "    </tr>\n",
       "    <tr>\n",
       "      <th>1</th>\n",
       "      <td>5575-GNVDE</td>\n",
       "      <td>1</td>\n",
       "      <td>0</td>\n",
       "      <td>0</td>\n",
       "      <td>0</td>\n",
       "      <td>34</td>\n",
       "      <td>1</td>\n",
       "      <td>0</td>\n",
       "      <td>56.950</td>\n",
       "      <td>1889.500</td>\n",
       "      <td>0</td>\n",
       "      <td>1</td>\n",
       "      <td>1</td>\n",
       "      <td>0</td>\n",
       "      <td>0</td>\n",
       "      <td>0</td>\n",
       "      <td>53.986</td>\n",
       "      <td>0.948</td>\n",
       "      <td>14.238</td>\n",
       "      <td>False</td>\n",
       "      <td>False</td>\n",
       "      <td>False</td>\n",
       "      <td>False</td>\n",
       "      <td>False</td>\n",
       "      <td>True</td>\n",
       "      <td>False</td>\n",
       "      <td>False</td>\n",
       "      <td>False</td>\n",
       "      <td>True</td>\n",
       "      <td>False</td>\n",
       "      <td>False</td>\n",
       "      <td>False</td>\n",
       "      <td>False</td>\n",
       "      <td>False</td>\n",
       "      <td>False</td>\n",
       "      <td>True</td>\n",
       "      <td>False</td>\n",
       "      <td>False</td>\n",
       "      <td>False</td>\n",
       "      <td>True</td>\n",
       "      <td>False</td>\n",
       "      <td>True</td>\n",
       "      <td>False</td>\n",
       "      <td>False</td>\n",
       "      <td>False</td>\n",
       "      <td>False</td>\n",
       "      <td>False</td>\n",
       "      <td>True</td>\n",
       "      <td>False</td>\n",
       "      <td>False</td>\n",
       "      <td>False</td>\n",
       "      <td>False</td>\n",
       "    </tr>\n",
       "    <tr>\n",
       "      <th>2</th>\n",
       "      <td>3668-QPYBK</td>\n",
       "      <td>1</td>\n",
       "      <td>0</td>\n",
       "      <td>0</td>\n",
       "      <td>0</td>\n",
       "      <td>2</td>\n",
       "      <td>1</td>\n",
       "      <td>1</td>\n",
       "      <td>53.850</td>\n",
       "      <td>108.150</td>\n",
       "      <td>1</td>\n",
       "      <td>0</td>\n",
       "      <td>1</td>\n",
       "      <td>1</td>\n",
       "      <td>0</td>\n",
       "      <td>0</td>\n",
       "      <td>36.050</td>\n",
       "      <td>0.669</td>\n",
       "      <td>13.463</td>\n",
       "      <td>False</td>\n",
       "      <td>False</td>\n",
       "      <td>False</td>\n",
       "      <td>False</td>\n",
       "      <td>False</td>\n",
       "      <td>True</td>\n",
       "      <td>False</td>\n",
       "      <td>True</td>\n",
       "      <td>False</td>\n",
       "      <td>False</td>\n",
       "      <td>False</td>\n",
       "      <td>False</td>\n",
       "      <td>False</td>\n",
       "      <td>False</td>\n",
       "      <td>False</td>\n",
       "      <td>False</td>\n",
       "      <td>False</td>\n",
       "      <td>False</td>\n",
       "      <td>False</td>\n",
       "      <td>False</td>\n",
       "      <td>True</td>\n",
       "      <td>False</td>\n",
       "      <td>False</td>\n",
       "      <td>False</td>\n",
       "      <td>False</td>\n",
       "      <td>False</td>\n",
       "      <td>False</td>\n",
       "      <td>False</td>\n",
       "      <td>True</td>\n",
       "      <td>False</td>\n",
       "      <td>False</td>\n",
       "      <td>False</td>\n",
       "      <td>False</td>\n",
       "    </tr>\n",
       "    <tr>\n",
       "      <th>3</th>\n",
       "      <td>7795-CFOCW</td>\n",
       "      <td>1</td>\n",
       "      <td>0</td>\n",
       "      <td>0</td>\n",
       "      <td>0</td>\n",
       "      <td>45</td>\n",
       "      <td>0</td>\n",
       "      <td>0</td>\n",
       "      <td>42.300</td>\n",
       "      <td>1840.750</td>\n",
       "      <td>0</td>\n",
       "      <td>1</td>\n",
       "      <td>1</td>\n",
       "      <td>0</td>\n",
       "      <td>0</td>\n",
       "      <td>1</td>\n",
       "      <td>40.016</td>\n",
       "      <td>0.946</td>\n",
       "      <td>10.575</td>\n",
       "      <td>True</td>\n",
       "      <td>False</td>\n",
       "      <td>False</td>\n",
       "      <td>False</td>\n",
       "      <td>False</td>\n",
       "      <td>True</td>\n",
       "      <td>False</td>\n",
       "      <td>False</td>\n",
       "      <td>False</td>\n",
       "      <td>True</td>\n",
       "      <td>False</td>\n",
       "      <td>True</td>\n",
       "      <td>False</td>\n",
       "      <td>False</td>\n",
       "      <td>False</td>\n",
       "      <td>False</td>\n",
       "      <td>True</td>\n",
       "      <td>False</td>\n",
       "      <td>False</td>\n",
       "      <td>False</td>\n",
       "      <td>False</td>\n",
       "      <td>False</td>\n",
       "      <td>False</td>\n",
       "      <td>True</td>\n",
       "      <td>False</td>\n",
       "      <td>False</td>\n",
       "      <td>False</td>\n",
       "      <td>False</td>\n",
       "      <td>True</td>\n",
       "      <td>False</td>\n",
       "      <td>False</td>\n",
       "      <td>False</td>\n",
       "      <td>False</td>\n",
       "    </tr>\n",
       "    <tr>\n",
       "      <th>4</th>\n",
       "      <td>9237-HQITU</td>\n",
       "      <td>0</td>\n",
       "      <td>0</td>\n",
       "      <td>0</td>\n",
       "      <td>0</td>\n",
       "      <td>2</td>\n",
       "      <td>1</td>\n",
       "      <td>1</td>\n",
       "      <td>70.700</td>\n",
       "      <td>151.650</td>\n",
       "      <td>1</td>\n",
       "      <td>0</td>\n",
       "      <td>1</td>\n",
       "      <td>1</td>\n",
       "      <td>0</td>\n",
       "      <td>0</td>\n",
       "      <td>50.550</td>\n",
       "      <td>0.715</td>\n",
       "      <td>35.350</td>\n",
       "      <td>False</td>\n",
       "      <td>False</td>\n",
       "      <td>True</td>\n",
       "      <td>False</td>\n",
       "      <td>False</td>\n",
       "      <td>False</td>\n",
       "      <td>False</td>\n",
       "      <td>False</td>\n",
       "      <td>False</td>\n",
       "      <td>False</td>\n",
       "      <td>False</td>\n",
       "      <td>False</td>\n",
       "      <td>False</td>\n",
       "      <td>False</td>\n",
       "      <td>False</td>\n",
       "      <td>False</td>\n",
       "      <td>False</td>\n",
       "      <td>False</td>\n",
       "      <td>False</td>\n",
       "      <td>True</td>\n",
       "      <td>False</td>\n",
       "      <td>False</td>\n",
       "      <td>False</td>\n",
       "      <td>False</td>\n",
       "      <td>False</td>\n",
       "      <td>False</td>\n",
       "      <td>True</td>\n",
       "      <td>False</td>\n",
       "      <td>False</td>\n",
       "      <td>False</td>\n",
       "      <td>False</td>\n",
       "      <td>False</td>\n",
       "      <td>False</td>\n",
       "    </tr>\n",
       "  </tbody>\n",
       "</table>\n",
       "</div>"
      ],
      "text/plain": [
       "   CUSTOMERID  GENDER  SENIORCITIZEN  PARTNER  DEPENDENTS  TENURE  PHONESERVICE  PAPERLESSBILLING  MONTHLYCHARGES  TOTALCHARGES  CHURN  NEW_ENGAGED  NEW_NOPROT  NEW_YOUNG_NOT_ENGAGED  NEW_FLAG_ANY_STREAMING  NEW_FLAG_AUTOPAYMENT  NEW_AVG_CHARGES  NEW_INCREASE  NEW_AVG_SERVICE_FEE  MULTIPLELINES_No phone service  MULTIPLELINES_Yes  INTERNETSERVICE_Fiber optic  INTERNETSERVICE_No  ONLINESECURITY_No internet service  ONLINESECURITY_Yes  ONLINEBACKUP_No internet service  ONLINEBACKUP_Yes  \\\n",
       "0  7590-VHVEG       0              0        1           0       1             0                 1          29.850        29.850      0            0           1                      1                       0                     0           14.925         0.500               14.925                            True              False                        False               False                               False               False                             False              True   \n",
       "1  5575-GNVDE       1              0        0           0      34             1                 0          56.950      1889.500      0            1           1                      0                       0                     0           53.986         0.948               14.238                           False              False                        False               False                               False                True                             False             False   \n",
       "2  3668-QPYBK       1              0        0           0       2             1                 1          53.850       108.150      1            0           1                      1                       0                     0           36.050         0.669               13.463                           False              False                        False               False                               False                True                             False              True   \n",
       "3  7795-CFOCW       1              0        0           0      45             0                 0          42.300      1840.750      0            1           1                      0                       0                     1           40.016         0.946               10.575                            True              False                        False               False                               False                True                             False             False   \n",
       "4  9237-HQITU       0              0        0           0       2             1                 1          70.700       151.650      1            0           1                      1                       0                     0           50.550         0.715               35.350                           False              False                         True               False                               False               False                             False             False   \n",
       "\n",
       "   DEVICEPROTECTION_No internet service  DEVICEPROTECTION_Yes  TECHSUPPORT_No internet service  TECHSUPPORT_Yes  STREAMINGTV_No internet service  STREAMINGTV_Yes  STREAMINGMOVIES_No internet service  STREAMINGMOVIES_Yes  CONTRACT_One year  CONTRACT_Two year  PAYMENTMETHOD_Credit card (automatic)  PAYMENTMETHOD_Electronic check  PAYMENTMETHOD_Mailed check  NEW_TENURE_YEAR_1-2 Year  NEW_TENURE_YEAR_2-3 Year  NEW_TENURE_YEAR_3-4 Year  NEW_TENURE_YEAR_4-5 Year  NEW_TENURE_YEAR_5-6 Year  \\\n",
       "0                                 False                 False                            False            False                            False            False                                False                False              False              False                                  False                            True                       False                     False                     False                     False                     False                     False   \n",
       "1                                 False                  True                            False            False                            False            False                                False                False               True              False                                  False                           False                        True                     False                      True                     False                     False                     False   \n",
       "2                                 False                 False                            False            False                            False            False                                False                False              False              False                                  False                           False                        True                     False                     False                     False                     False                     False   \n",
       "3                                 False                  True                            False             True                            False            False                                False                False               True              False                                  False                           False                       False                     False                     False                      True                     False                     False   \n",
       "4                                 False                 False                            False            False                            False            False                                False                False              False              False                                  False                            True                       False                     False                     False                     False                     False                     False   \n",
       "\n",
       "   NEW_TOTALSERVICES_1  NEW_TOTALSERVICES_2  NEW_TOTALSERVICES_3  NEW_TOTALSERVICES_4  NEW_TOTALSERVICES_5  NEW_TOTALSERVICES_6  NEW_TOTALSERVICES_7  \n",
       "0                 True                False                False                False                False                False                False  \n",
       "1                False                False                 True                False                False                False                False  \n",
       "2                False                False                 True                False                False                False                False  \n",
       "3                False                False                 True                False                False                False                False  \n",
       "4                 True                False                False                False                False                False                False  "
      ]
     },
     "execution_count": 197,
     "metadata": {},
     "output_type": "execute_result"
    }
   ],
   "source": [
    "df.head()"
   ]
  },
  {
   "cell_type": "markdown",
   "id": "8911380a-c045-4137-87d9-abe40d80cfba",
   "metadata": {},
   "source": [
    "**Adım 4:** Numerik değişkenler için standartlaştırma yapınız."
   ]
  },
  {
   "cell_type": "code",
   "execution_count": 202,
   "id": "63d385d8-5510-4553-9520-28e572ff6d95",
   "metadata": {},
   "outputs": [],
   "source": [
    "scaler = StandardScaler()"
   ]
  },
  {
   "cell_type": "code",
   "execution_count": 204,
   "id": "fd851eee-8d26-40b5-8d16-3b464d0fb06f",
   "metadata": {},
   "outputs": [],
   "source": [
    "df[num_cols] = scaler.fit_transform(df[num_cols])"
   ]
  },
  {
   "cell_type": "code",
   "execution_count": 206,
   "id": "515be1d4-c447-4af1-b850-e841ed2b8da0",
   "metadata": {},
   "outputs": [
    {
     "data": {
      "text/html": [
       "<div>\n",
       "<style scoped>\n",
       "    .dataframe tbody tr th:only-of-type {\n",
       "        vertical-align: middle;\n",
       "    }\n",
       "\n",
       "    .dataframe tbody tr th {\n",
       "        vertical-align: top;\n",
       "    }\n",
       "\n",
       "    .dataframe thead th {\n",
       "        text-align: right;\n",
       "    }\n",
       "</style>\n",
       "<table border=\"1\" class=\"dataframe\">\n",
       "  <thead>\n",
       "    <tr style=\"text-align: right;\">\n",
       "      <th></th>\n",
       "      <th>CUSTOMERID</th>\n",
       "      <th>GENDER</th>\n",
       "      <th>SENIORCITIZEN</th>\n",
       "      <th>PARTNER</th>\n",
       "      <th>DEPENDENTS</th>\n",
       "      <th>TENURE</th>\n",
       "      <th>PHONESERVICE</th>\n",
       "      <th>PAPERLESSBILLING</th>\n",
       "      <th>MONTHLYCHARGES</th>\n",
       "      <th>TOTALCHARGES</th>\n",
       "      <th>CHURN</th>\n",
       "      <th>NEW_ENGAGED</th>\n",
       "      <th>NEW_NOPROT</th>\n",
       "      <th>NEW_YOUNG_NOT_ENGAGED</th>\n",
       "      <th>NEW_FLAG_ANY_STREAMING</th>\n",
       "      <th>NEW_FLAG_AUTOPAYMENT</th>\n",
       "      <th>NEW_AVG_CHARGES</th>\n",
       "      <th>NEW_INCREASE</th>\n",
       "      <th>NEW_AVG_SERVICE_FEE</th>\n",
       "      <th>MULTIPLELINES_No phone service</th>\n",
       "      <th>MULTIPLELINES_Yes</th>\n",
       "      <th>INTERNETSERVICE_Fiber optic</th>\n",
       "      <th>INTERNETSERVICE_No</th>\n",
       "      <th>ONLINESECURITY_No internet service</th>\n",
       "      <th>ONLINESECURITY_Yes</th>\n",
       "      <th>ONLINEBACKUP_No internet service</th>\n",
       "      <th>ONLINEBACKUP_Yes</th>\n",
       "      <th>DEVICEPROTECTION_No internet service</th>\n",
       "      <th>DEVICEPROTECTION_Yes</th>\n",
       "      <th>TECHSUPPORT_No internet service</th>\n",
       "      <th>TECHSUPPORT_Yes</th>\n",
       "      <th>STREAMINGTV_No internet service</th>\n",
       "      <th>STREAMINGTV_Yes</th>\n",
       "      <th>STREAMINGMOVIES_No internet service</th>\n",
       "      <th>STREAMINGMOVIES_Yes</th>\n",
       "      <th>CONTRACT_One year</th>\n",
       "      <th>CONTRACT_Two year</th>\n",
       "      <th>PAYMENTMETHOD_Credit card (automatic)</th>\n",
       "      <th>PAYMENTMETHOD_Electronic check</th>\n",
       "      <th>PAYMENTMETHOD_Mailed check</th>\n",
       "      <th>NEW_TENURE_YEAR_1-2 Year</th>\n",
       "      <th>NEW_TENURE_YEAR_2-3 Year</th>\n",
       "      <th>NEW_TENURE_YEAR_3-4 Year</th>\n",
       "      <th>NEW_TENURE_YEAR_4-5 Year</th>\n",
       "      <th>NEW_TENURE_YEAR_5-6 Year</th>\n",
       "      <th>NEW_TOTALSERVICES_1</th>\n",
       "      <th>NEW_TOTALSERVICES_2</th>\n",
       "      <th>NEW_TOTALSERVICES_3</th>\n",
       "      <th>NEW_TOTALSERVICES_4</th>\n",
       "      <th>NEW_TOTALSERVICES_5</th>\n",
       "      <th>NEW_TOTALSERVICES_6</th>\n",
       "      <th>NEW_TOTALSERVICES_7</th>\n",
       "    </tr>\n",
       "  </thead>\n",
       "  <tbody>\n",
       "    <tr>\n",
       "      <th>0</th>\n",
       "      <td>7590-VHVEG</td>\n",
       "      <td>0</td>\n",
       "      <td>0</td>\n",
       "      <td>1</td>\n",
       "      <td>0</td>\n",
       "      <td>-1.277</td>\n",
       "      <td>0</td>\n",
       "      <td>1</td>\n",
       "      <td>-1.160</td>\n",
       "      <td>-0.994</td>\n",
       "      <td>0</td>\n",
       "      <td>0</td>\n",
       "      <td>1</td>\n",
       "      <td>1</td>\n",
       "      <td>0</td>\n",
       "      <td>0</td>\n",
       "      <td>-0.758</td>\n",
       "      <td>-0.238</td>\n",
       "      <td>-0.311</td>\n",
       "      <td>True</td>\n",
       "      <td>False</td>\n",
       "      <td>False</td>\n",
       "      <td>False</td>\n",
       "      <td>False</td>\n",
       "      <td>False</td>\n",
       "      <td>False</td>\n",
       "      <td>True</td>\n",
       "      <td>False</td>\n",
       "      <td>False</td>\n",
       "      <td>False</td>\n",
       "      <td>False</td>\n",
       "      <td>False</td>\n",
       "      <td>False</td>\n",
       "      <td>False</td>\n",
       "      <td>False</td>\n",
       "      <td>False</td>\n",
       "      <td>False</td>\n",
       "      <td>False</td>\n",
       "      <td>True</td>\n",
       "      <td>False</td>\n",
       "      <td>False</td>\n",
       "      <td>False</td>\n",
       "      <td>False</td>\n",
       "      <td>False</td>\n",
       "      <td>False</td>\n",
       "      <td>True</td>\n",
       "      <td>False</td>\n",
       "      <td>False</td>\n",
       "      <td>False</td>\n",
       "      <td>False</td>\n",
       "      <td>False</td>\n",
       "      <td>False</td>\n",
       "    </tr>\n",
       "    <tr>\n",
       "      <th>1</th>\n",
       "      <td>5575-GNVDE</td>\n",
       "      <td>1</td>\n",
       "      <td>0</td>\n",
       "      <td>0</td>\n",
       "      <td>0</td>\n",
       "      <td>0.066</td>\n",
       "      <td>1</td>\n",
       "      <td>0</td>\n",
       "      <td>-0.260</td>\n",
       "      <td>-0.173</td>\n",
       "      <td>0</td>\n",
       "      <td>1</td>\n",
       "      <td>1</td>\n",
       "      <td>0</td>\n",
       "      <td>0</td>\n",
       "      <td>0</td>\n",
       "      <td>-0.118</td>\n",
       "      <td>-0.010</td>\n",
       "      <td>-0.410</td>\n",
       "      <td>False</td>\n",
       "      <td>False</td>\n",
       "      <td>False</td>\n",
       "      <td>False</td>\n",
       "      <td>False</td>\n",
       "      <td>True</td>\n",
       "      <td>False</td>\n",
       "      <td>False</td>\n",
       "      <td>False</td>\n",
       "      <td>True</td>\n",
       "      <td>False</td>\n",
       "      <td>False</td>\n",
       "      <td>False</td>\n",
       "      <td>False</td>\n",
       "      <td>False</td>\n",
       "      <td>False</td>\n",
       "      <td>True</td>\n",
       "      <td>False</td>\n",
       "      <td>False</td>\n",
       "      <td>False</td>\n",
       "      <td>True</td>\n",
       "      <td>False</td>\n",
       "      <td>True</td>\n",
       "      <td>False</td>\n",
       "      <td>False</td>\n",
       "      <td>False</td>\n",
       "      <td>False</td>\n",
       "      <td>False</td>\n",
       "      <td>True</td>\n",
       "      <td>False</td>\n",
       "      <td>False</td>\n",
       "      <td>False</td>\n",
       "      <td>False</td>\n",
       "    </tr>\n",
       "    <tr>\n",
       "      <th>2</th>\n",
       "      <td>3668-QPYBK</td>\n",
       "      <td>1</td>\n",
       "      <td>0</td>\n",
       "      <td>0</td>\n",
       "      <td>0</td>\n",
       "      <td>-1.237</td>\n",
       "      <td>1</td>\n",
       "      <td>1</td>\n",
       "      <td>-0.363</td>\n",
       "      <td>-0.960</td>\n",
       "      <td>1</td>\n",
       "      <td>0</td>\n",
       "      <td>1</td>\n",
       "      <td>1</td>\n",
       "      <td>0</td>\n",
       "      <td>0</td>\n",
       "      <td>-0.412</td>\n",
       "      <td>-0.152</td>\n",
       "      <td>-0.522</td>\n",
       "      <td>False</td>\n",
       "      <td>False</td>\n",
       "      <td>False</td>\n",
       "      <td>False</td>\n",
       "      <td>False</td>\n",
       "      <td>True</td>\n",
       "      <td>False</td>\n",
       "      <td>True</td>\n",
       "      <td>False</td>\n",
       "      <td>False</td>\n",
       "      <td>False</td>\n",
       "      <td>False</td>\n",
       "      <td>False</td>\n",
       "      <td>False</td>\n",
       "      <td>False</td>\n",
       "      <td>False</td>\n",
       "      <td>False</td>\n",
       "      <td>False</td>\n",
       "      <td>False</td>\n",
       "      <td>False</td>\n",
       "      <td>True</td>\n",
       "      <td>False</td>\n",
       "      <td>False</td>\n",
       "      <td>False</td>\n",
       "      <td>False</td>\n",
       "      <td>False</td>\n",
       "      <td>False</td>\n",
       "      <td>False</td>\n",
       "      <td>True</td>\n",
       "      <td>False</td>\n",
       "      <td>False</td>\n",
       "      <td>False</td>\n",
       "      <td>False</td>\n",
       "    </tr>\n",
       "    <tr>\n",
       "      <th>3</th>\n",
       "      <td>7795-CFOCW</td>\n",
       "      <td>1</td>\n",
       "      <td>0</td>\n",
       "      <td>0</td>\n",
       "      <td>0</td>\n",
       "      <td>0.514</td>\n",
       "      <td>0</td>\n",
       "      <td>0</td>\n",
       "      <td>-0.747</td>\n",
       "      <td>-0.195</td>\n",
       "      <td>0</td>\n",
       "      <td>1</td>\n",
       "      <td>1</td>\n",
       "      <td>0</td>\n",
       "      <td>0</td>\n",
       "      <td>1</td>\n",
       "      <td>-0.347</td>\n",
       "      <td>-0.011</td>\n",
       "      <td>-0.939</td>\n",
       "      <td>True</td>\n",
       "      <td>False</td>\n",
       "      <td>False</td>\n",
       "      <td>False</td>\n",
       "      <td>False</td>\n",
       "      <td>True</td>\n",
       "      <td>False</td>\n",
       "      <td>False</td>\n",
       "      <td>False</td>\n",
       "      <td>True</td>\n",
       "      <td>False</td>\n",
       "      <td>True</td>\n",
       "      <td>False</td>\n",
       "      <td>False</td>\n",
       "      <td>False</td>\n",
       "      <td>False</td>\n",
       "      <td>True</td>\n",
       "      <td>False</td>\n",
       "      <td>False</td>\n",
       "      <td>False</td>\n",
       "      <td>False</td>\n",
       "      <td>False</td>\n",
       "      <td>False</td>\n",
       "      <td>True</td>\n",
       "      <td>False</td>\n",
       "      <td>False</td>\n",
       "      <td>False</td>\n",
       "      <td>False</td>\n",
       "      <td>True</td>\n",
       "      <td>False</td>\n",
       "      <td>False</td>\n",
       "      <td>False</td>\n",
       "      <td>False</td>\n",
       "    </tr>\n",
       "    <tr>\n",
       "      <th>4</th>\n",
       "      <td>9237-HQITU</td>\n",
       "      <td>0</td>\n",
       "      <td>0</td>\n",
       "      <td>0</td>\n",
       "      <td>0</td>\n",
       "      <td>-1.237</td>\n",
       "      <td>1</td>\n",
       "      <td>1</td>\n",
       "      <td>0.197</td>\n",
       "      <td>-0.940</td>\n",
       "      <td>1</td>\n",
       "      <td>0</td>\n",
       "      <td>1</td>\n",
       "      <td>1</td>\n",
       "      <td>0</td>\n",
       "      <td>0</td>\n",
       "      <td>-0.174</td>\n",
       "      <td>-0.129</td>\n",
       "      <td>2.636</td>\n",
       "      <td>False</td>\n",
       "      <td>False</td>\n",
       "      <td>True</td>\n",
       "      <td>False</td>\n",
       "      <td>False</td>\n",
       "      <td>False</td>\n",
       "      <td>False</td>\n",
       "      <td>False</td>\n",
       "      <td>False</td>\n",
       "      <td>False</td>\n",
       "      <td>False</td>\n",
       "      <td>False</td>\n",
       "      <td>False</td>\n",
       "      <td>False</td>\n",
       "      <td>False</td>\n",
       "      <td>False</td>\n",
       "      <td>False</td>\n",
       "      <td>False</td>\n",
       "      <td>False</td>\n",
       "      <td>True</td>\n",
       "      <td>False</td>\n",
       "      <td>False</td>\n",
       "      <td>False</td>\n",
       "      <td>False</td>\n",
       "      <td>False</td>\n",
       "      <td>False</td>\n",
       "      <td>True</td>\n",
       "      <td>False</td>\n",
       "      <td>False</td>\n",
       "      <td>False</td>\n",
       "      <td>False</td>\n",
       "      <td>False</td>\n",
       "      <td>False</td>\n",
       "    </tr>\n",
       "  </tbody>\n",
       "</table>\n",
       "</div>"
      ],
      "text/plain": [
       "   CUSTOMERID  GENDER  SENIORCITIZEN  PARTNER  DEPENDENTS  TENURE  PHONESERVICE  PAPERLESSBILLING  MONTHLYCHARGES  TOTALCHARGES  CHURN  NEW_ENGAGED  NEW_NOPROT  NEW_YOUNG_NOT_ENGAGED  NEW_FLAG_ANY_STREAMING  NEW_FLAG_AUTOPAYMENT  NEW_AVG_CHARGES  NEW_INCREASE  NEW_AVG_SERVICE_FEE  MULTIPLELINES_No phone service  MULTIPLELINES_Yes  INTERNETSERVICE_Fiber optic  INTERNETSERVICE_No  ONLINESECURITY_No internet service  ONLINESECURITY_Yes  ONLINEBACKUP_No internet service  ONLINEBACKUP_Yes  \\\n",
       "0  7590-VHVEG       0              0        1           0  -1.277             0                 1          -1.160        -0.994      0            0           1                      1                       0                     0           -0.758        -0.238               -0.311                            True              False                        False               False                               False               False                             False              True   \n",
       "1  5575-GNVDE       1              0        0           0   0.066             1                 0          -0.260        -0.173      0            1           1                      0                       0                     0           -0.118        -0.010               -0.410                           False              False                        False               False                               False                True                             False             False   \n",
       "2  3668-QPYBK       1              0        0           0  -1.237             1                 1          -0.363        -0.960      1            0           1                      1                       0                     0           -0.412        -0.152               -0.522                           False              False                        False               False                               False                True                             False              True   \n",
       "3  7795-CFOCW       1              0        0           0   0.514             0                 0          -0.747        -0.195      0            1           1                      0                       0                     1           -0.347        -0.011               -0.939                            True              False                        False               False                               False                True                             False             False   \n",
       "4  9237-HQITU       0              0        0           0  -1.237             1                 1           0.197        -0.940      1            0           1                      1                       0                     0           -0.174        -0.129                2.636                           False              False                         True               False                               False               False                             False             False   \n",
       "\n",
       "   DEVICEPROTECTION_No internet service  DEVICEPROTECTION_Yes  TECHSUPPORT_No internet service  TECHSUPPORT_Yes  STREAMINGTV_No internet service  STREAMINGTV_Yes  STREAMINGMOVIES_No internet service  STREAMINGMOVIES_Yes  CONTRACT_One year  CONTRACT_Two year  PAYMENTMETHOD_Credit card (automatic)  PAYMENTMETHOD_Electronic check  PAYMENTMETHOD_Mailed check  NEW_TENURE_YEAR_1-2 Year  NEW_TENURE_YEAR_2-3 Year  NEW_TENURE_YEAR_3-4 Year  NEW_TENURE_YEAR_4-5 Year  NEW_TENURE_YEAR_5-6 Year  \\\n",
       "0                                 False                 False                            False            False                            False            False                                False                False              False              False                                  False                            True                       False                     False                     False                     False                     False                     False   \n",
       "1                                 False                  True                            False            False                            False            False                                False                False               True              False                                  False                           False                        True                     False                      True                     False                     False                     False   \n",
       "2                                 False                 False                            False            False                            False            False                                False                False              False              False                                  False                           False                        True                     False                     False                     False                     False                     False   \n",
       "3                                 False                  True                            False             True                            False            False                                False                False               True              False                                  False                           False                       False                     False                     False                      True                     False                     False   \n",
       "4                                 False                 False                            False            False                            False            False                                False                False              False              False                                  False                            True                       False                     False                     False                     False                     False                     False   \n",
       "\n",
       "   NEW_TOTALSERVICES_1  NEW_TOTALSERVICES_2  NEW_TOTALSERVICES_3  NEW_TOTALSERVICES_4  NEW_TOTALSERVICES_5  NEW_TOTALSERVICES_6  NEW_TOTALSERVICES_7  \n",
       "0                 True                False                False                False                False                False                False  \n",
       "1                False                False                 True                False                False                False                False  \n",
       "2                False                False                 True                False                False                False                False  \n",
       "3                False                False                 True                False                False                False                False  \n",
       "4                 True                False                False                False                False                False                False  "
      ]
     },
     "execution_count": 206,
     "metadata": {},
     "output_type": "execute_result"
    }
   ],
   "source": [
    "df.head()"
   ]
  },
  {
   "cell_type": "code",
   "execution_count": null,
   "id": "ab1ec074-be4c-48a7-9423-3496273ba1ad",
   "metadata": {},
   "outputs": [],
   "source": []
  }
 ],
 "metadata": {
  "kernelspec": {
   "display_name": "Python [conda env:base] *",
   "language": "python",
   "name": "conda-base-py"
  },
  "language_info": {
   "codemirror_mode": {
    "name": "ipython",
    "version": 3
   },
   "file_extension": ".py",
   "mimetype": "text/x-python",
   "name": "python",
   "nbconvert_exporter": "python",
   "pygments_lexer": "ipython3",
   "version": "3.12.3"
  }
 },
 "nbformat": 4,
 "nbformat_minor": 5
}
