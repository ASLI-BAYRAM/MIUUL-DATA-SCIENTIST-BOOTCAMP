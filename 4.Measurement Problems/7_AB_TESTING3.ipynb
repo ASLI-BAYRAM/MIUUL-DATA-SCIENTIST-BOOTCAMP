{
 "cells": [
  {
   "cell_type": "markdown",
   "id": "de38e857-b8e2-40fd-b2b5-13b148df196f",
   "metadata": {},
   "source": [
    " <h1 style=\"text-align: center; color: RED\">AB TESTING</h1>"
   ]
  },
  {
   "cell_type": "markdown",
   "id": "a29236dd-c21d-40ac-b151-7944b9de8187",
   "metadata": {},
   "source": [
    "<h2 style=\"text-align: center; color: RED\">İKİ GRUP ORAN KARŞILAŞTIRMA(İKİ ÖRNEKLEM ORAN TESTİ)</h2>\n",
    "\n",
    "İki oran arasında karşılaştırma yapmak için kullanılır. Kullanılacak hipotezler:\n",
    "\n",
    "![Test](datasets/5.png)\n",
    "\n",
    "Oran için kullanılacak formül(örneklem sayısı 30'dan büyük olmalıdır.):\n",
    "\n",
    "![Test](datasets/6.png)"
   ]
  },
  {
   "cell_type": "code",
   "execution_count": 28,
   "id": "7282888c-3767-4888-9377-db5bc03844ed",
   "metadata": {},
   "outputs": [],
   "source": [
    "import itertools\n",
    "import numpy as np\n",
    "import pandas as pd\n",
    "import matplotlib.pyplot as plt\n",
    "import seaborn as sns\n",
    "import statsmodels.stats.api as sms\n",
    "from scipy.stats import ttest_1samp, shapiro, levene, ttest_ind, mannwhitneyu, \\\n",
    "    pearsonr, spearmanr, kendalltau, f_oneway, kruskal\n",
    "from statsmodels.stats.proportion import proportions_ztest\n",
    "from statsmodels.stats.multicomp import MultiComparison\n",
    "\n",
    "pd.set_option('display.max_columns', None)\n",
    "pd.set_option('display.max_rows', 10)\n",
    "pd.set_option('display.float_format', lambda x: '%.5f' % x)"
   ]
  },
  {
   "cell_type": "code",
   "execution_count": 9,
   "id": "5a3c8085-8c08-4def-bab2-59eb28f1e281",
   "metadata": {},
   "outputs": [],
   "source": [
    "############################\n",
    "# Uygulama : Yeni Tasarımın Dönüşüm Oranı ile Eski Tasarımın Dönüşüm Oranı Arasında İstatistiksel Olarak Fark Var Mı?\n",
    "############################\n",
    "#H0: p1=p2(Oranlar arasında fark yoktur.)\n",
    "#H1: p1!=p2(fark vardır)"
   ]
  },
  {
   "cell_type": "code",
   "execution_count": 13,
   "id": "21928460-2a40-4847-8a52-fef8e2a328a2",
   "metadata": {},
   "outputs": [
    {
     "data": {
      "text/plain": [
       "(3.7857863233209255, 0.0001532232957772221)"
      ]
     },
     "execution_count": 13,
     "metadata": {},
     "output_type": "execute_result"
    }
   ],
   "source": [
    "basari_sayisi = np.array([300, 250])\n",
    "gozlem_sayisi = np.array([1000, 1100])\n",
    "proportions_ztest(count=basari_sayisi, nobs=gozlem_sayisi)"
   ]
  },
  {
   "cell_type": "markdown",
   "id": "27ebd949-6084-4581-9c5c-ce0f9e17b531",
   "metadata": {},
   "source": [
    "p < 0.05 olduğu için H0 reddedilir yani oranlar arasında fark vardır."
   ]
  },
  {
   "cell_type": "code",
   "execution_count": 20,
   "id": "20476cdd-1b4b-43c0-b2ed-0b942759ceac",
   "metadata": {},
   "outputs": [
    {
     "data": {
      "text/plain": [
       "array([0.3       , 0.22727273])"
      ]
     },
     "execution_count": 20,
     "metadata": {},
     "output_type": "execute_result"
    }
   ],
   "source": [
    "basari_sayisi / gozlem_sayisi #ilk gözlem oran olarak daha başarılı"
   ]
  },
  {
   "cell_type": "code",
   "execution_count": 22,
   "id": "2df2d011-cfab-48e4-adaf-f78763742bd7",
   "metadata": {},
   "outputs": [],
   "source": [
    "############################\n",
    "# Uygulama : Kadın ve Erkeklerin Hayatta Kalma Oranları Arasında İstatistiksel Olarak Fark Var Mı?\n",
    "############################\n",
    "#H0: p1=p2(Oranlar arasında fark yoktur.)\n",
    "#H1: p1!=p2(fark vardır)"
   ]
  },
  {
   "cell_type": "code",
   "execution_count": 24,
   "id": "363a878a-fe3b-49e1-9145-9d33c8afc4cc",
   "metadata": {},
   "outputs": [],
   "source": [
    "df = sns.load_dataset('titanic')"
   ]
  },
  {
   "cell_type": "code",
   "execution_count": 26,
   "id": "0aa380fb-2e44-4fd1-b9ff-1759cdef8340",
   "metadata": {},
   "outputs": [
    {
     "data": {
      "text/plain": [
       "0.7420382165605095"
      ]
     },
     "execution_count": 26,
     "metadata": {},
     "output_type": "execute_result"
    }
   ],
   "source": [
    "df.loc[df['sex']=='female','survived'].mean()"
   ]
  },
  {
   "cell_type": "code",
   "execution_count": 28,
   "id": "9bd78955-e8bc-49b4-8ade-cfef8c1811ad",
   "metadata": {},
   "outputs": [
    {
     "data": {
      "text/plain": [
       "0.18890814558058924"
      ]
     },
     "execution_count": 28,
     "metadata": {},
     "output_type": "execute_result"
    }
   ],
   "source": [
    "df.loc[df['sex']=='male','survived'].mean()"
   ]
  },
  {
   "cell_type": "code",
   "execution_count": 34,
   "id": "da05dfd9-aa99-43ad-abe4-d8cba576cc32",
   "metadata": {},
   "outputs": [],
   "source": [
    "female_succ_count = df.loc[df['sex']=='female','survived'].sum()\n",
    "male_succ_count = df.loc[df['sex']=='male','survived'].sum()"
   ]
  },
  {
   "cell_type": "code",
   "execution_count": 38,
   "id": "fec37bfa-698e-42ce-ae36-17b073805292",
   "metadata": {},
   "outputs": [
    {
     "name": "stdout",
     "output_type": "stream",
     "text": [
      "Test Stat = 16.2188, p-value = 0.0000\n"
     ]
    }
   ],
   "source": [
    "test_stat, pvalue = proportions_ztest(count=[female_succ_count,male_succ_count], \n",
    "                                      nobs=[df.loc[df['sex']=='female','survived'].shape[0], df.loc[df['sex']=='male','survived'].shape[0]])\n",
    "print('Test Stat = %.4f, p-value = %.4f' % (test_stat, pvalue))"
   ]
  },
  {
   "cell_type": "markdown",
   "id": "9bf8b658-5e5a-4237-b2e8-efbfdcda0c9a",
   "metadata": {},
   "source": [
    "p < 0.05 olduğundan H0 reddedilir. Yani oransal olarak bir fark vardır."
   ]
  },
  {
   "cell_type": "markdown",
   "id": "88c274cd-ce16-4f4b-944d-e48efa5f8b71",
   "metadata": {},
   "source": [
    "<h2 style=\"text-align: center; color: RED\">İKİDEN FAZLA GRUP ORTALAMASI KARŞILAŞTIRMA(ANOVA)</h2>"
   ]
  },
  {
   "cell_type": "markdown",
   "id": "7cf3f6db-3ad9-43cf-a7da-f0411a1fb2cf",
   "metadata": {},
   "source": [
    "\n",
    "![Test](datasets/7.png)\n",
    "\n",
    "![Test](datasets/8.png)"
   ]
  },
  {
   "cell_type": "code",
   "execution_count": 1,
   "id": "8c192354-3bf1-4446-bee1-6de50ffb81ea",
   "metadata": {},
   "outputs": [],
   "source": [
    "############################\n",
    "# Uygulama : Haftanın Günleri Arasında Ödenen Hesaplar Aarsındaİstatistiksel Olarak Fark Var Mı?\n",
    "############################\n"
   ]
  },
  {
   "cell_type": "code",
   "execution_count": 7,
   "id": "5f110e2e-10d7-429b-9670-53b908582bbe",
   "metadata": {},
   "outputs": [
    {
     "data": {
      "text/html": [
       "<div>\n",
       "<style scoped>\n",
       "    .dataframe tbody tr th:only-of-type {\n",
       "        vertical-align: middle;\n",
       "    }\n",
       "\n",
       "    .dataframe tbody tr th {\n",
       "        vertical-align: top;\n",
       "    }\n",
       "\n",
       "    .dataframe thead th {\n",
       "        text-align: right;\n",
       "    }\n",
       "</style>\n",
       "<table border=\"1\" class=\"dataframe\">\n",
       "  <thead>\n",
       "    <tr style=\"text-align: right;\">\n",
       "      <th></th>\n",
       "      <th>total_bill</th>\n",
       "      <th>tip</th>\n",
       "      <th>sex</th>\n",
       "      <th>smoker</th>\n",
       "      <th>day</th>\n",
       "      <th>time</th>\n",
       "      <th>size</th>\n",
       "    </tr>\n",
       "  </thead>\n",
       "  <tbody>\n",
       "    <tr>\n",
       "      <th>0</th>\n",
       "      <td>16.99000</td>\n",
       "      <td>1.01000</td>\n",
       "      <td>Female</td>\n",
       "      <td>No</td>\n",
       "      <td>Sun</td>\n",
       "      <td>Dinner</td>\n",
       "      <td>2</td>\n",
       "    </tr>\n",
       "    <tr>\n",
       "      <th>1</th>\n",
       "      <td>10.34000</td>\n",
       "      <td>1.66000</td>\n",
       "      <td>Male</td>\n",
       "      <td>No</td>\n",
       "      <td>Sun</td>\n",
       "      <td>Dinner</td>\n",
       "      <td>3</td>\n",
       "    </tr>\n",
       "    <tr>\n",
       "      <th>2</th>\n",
       "      <td>21.01000</td>\n",
       "      <td>3.50000</td>\n",
       "      <td>Male</td>\n",
       "      <td>No</td>\n",
       "      <td>Sun</td>\n",
       "      <td>Dinner</td>\n",
       "      <td>3</td>\n",
       "    </tr>\n",
       "    <tr>\n",
       "      <th>3</th>\n",
       "      <td>23.68000</td>\n",
       "      <td>3.31000</td>\n",
       "      <td>Male</td>\n",
       "      <td>No</td>\n",
       "      <td>Sun</td>\n",
       "      <td>Dinner</td>\n",
       "      <td>2</td>\n",
       "    </tr>\n",
       "    <tr>\n",
       "      <th>4</th>\n",
       "      <td>24.59000</td>\n",
       "      <td>3.61000</td>\n",
       "      <td>Female</td>\n",
       "      <td>No</td>\n",
       "      <td>Sun</td>\n",
       "      <td>Dinner</td>\n",
       "      <td>4</td>\n",
       "    </tr>\n",
       "  </tbody>\n",
       "</table>\n",
       "</div>"
      ],
      "text/plain": [
       "   total_bill     tip     sex smoker  day    time  size\n",
       "0    16.99000 1.01000  Female     No  Sun  Dinner     2\n",
       "1    10.34000 1.66000    Male     No  Sun  Dinner     3\n",
       "2    21.01000 3.50000    Male     No  Sun  Dinner     3\n",
       "3    23.68000 3.31000    Male     No  Sun  Dinner     2\n",
       "4    24.59000 3.61000  Female     No  Sun  Dinner     4"
      ]
     },
     "execution_count": 7,
     "metadata": {},
     "output_type": "execute_result"
    }
   ],
   "source": [
    "df = sns.load_dataset('tips')\n",
    "df.head()"
   ]
  },
  {
   "cell_type": "code",
   "execution_count": 9,
   "id": "4d487a38-e3ef-48c5-9f55-2376847c1c2f",
   "metadata": {},
   "outputs": [
    {
     "name": "stderr",
     "output_type": "stream",
     "text": [
      "C:\\Users\\ASLI\\AppData\\Local\\Temp\\ipykernel_14828\\1881343769.py:1: FutureWarning: The default of observed=False is deprecated and will be changed to True in a future version of pandas. Pass observed=False to retain current behavior or observed=True to adopt the future default and silence this warning.\n",
      "  df.groupby('day')['total_bill'].mean()\n"
     ]
    },
    {
     "data": {
      "text/plain": [
       "day\n",
       "Thur   17.68274\n",
       "Fri    17.15158\n",
       "Sat    20.44138\n",
       "Sun    21.41000\n",
       "Name: total_bill, dtype: float64"
      ]
     },
     "execution_count": 9,
     "metadata": {},
     "output_type": "execute_result"
    }
   ],
   "source": [
    "df.groupby('day')['total_bill'].mean()"
   ]
  },
  {
   "cell_type": "code",
   "execution_count": null,
   "id": "36c5c51d-dbe8-432d-bd26-7d8acd984b60",
   "metadata": {},
   "outputs": [],
   "source": [
    "#1)HİPOTEZLERİ KUR\n",
    "#H0: m1=m2=m3=M(Ortalamalar arasında fark yoktur.)\n",
    "#H1: en az biri farklıdır"
   ]
  },
  {
   "cell_type": "code",
   "execution_count": 11,
   "id": "1f7170ee-24c4-4e1c-aaff-33119f3fafd0",
   "metadata": {},
   "outputs": [],
   "source": [
    "#2)VARSAYIM KONTROLU\n",
    "#Normallik varsayımı\n",
    "#Varyans Homojenliği\n",
    "#Varsayımlar sağlanırsa one way anova testi, sağlanmıyorsa kruskal testi yapılır."
   ]
  },
  {
   "cell_type": "code",
   "execution_count": 15,
   "id": "4e572e35-19f6-4988-ad7b-a941f1515dac",
   "metadata": {},
   "outputs": [
    {
     "name": "stdout",
     "output_type": "stream",
     "text": [
      "Sun p-value 0.0036\n",
      "Sat p-value 0.0000\n",
      "Thur p-value 0.0000\n",
      "Fri p-value 0.0409\n"
     ]
    }
   ],
   "source": [
    "#Normallik Varsayım\n",
    "#H0 varsayım sağlanmaktadır.\n",
    "#H1 sağlanmamaktadır.\n",
    "for group in list(df['day'].unique()):\n",
    "    pvalue = shapiro(df.loc[df['day']==group,'total_bill'])[1]\n",
    "    print(group, 'p-value %.4f' % pvalue)\n"
   ]
  },
  {
   "cell_type": "markdown",
   "id": "7e60c627-fc04-4ded-8671-b6f4adcae6d4",
   "metadata": {},
   "source": [
    "p value değerleri 0.05'den küçük olduğu için H0 reddedilir. Yani normallik varsayımı sağlanmamaktadır."
   ]
  },
  {
   "cell_type": "code",
   "execution_count": 22,
   "id": "b2614535-3826-4acb-aea4-eb702e34c608",
   "metadata": {},
   "outputs": [
    {
     "name": "stdout",
     "output_type": "stream",
     "text": [
      "Test Stat = 0.6654, p-value = 0.5741\n"
     ]
    }
   ],
   "source": [
    "#Varyans Homojenliği\n",
    "#H0 varsayım sağlanmaktadır.\n",
    "#H1 sağlanmamaktadır.\n",
    "test_stat, pvalue = levene(df.loc[df['day']=='Sun','total_bill'],\n",
    "                           df.loc[df['day']=='Sat','total_bill'],\n",
    "                           df.loc[df['day']=='Thur','total_bill'],\n",
    "                           df.loc[df['day']=='Fri','total_bill'])\n",
    "print('Test Stat = %.4f, p-value = %.4f' % (test_stat, pvalue))"
   ]
  },
  {
   "cell_type": "markdown",
   "id": "200e4edf-3da4-419f-a81e-036580797ce8",
   "metadata": {},
   "source": [
    "p value değeri 0.05'ten büyük oldugu için H0 reddedilemez yani varyans homojenliği sağlanmaktadır. Fakat normallik varsayımı sağlanmadığı için non parametrik tets yapılacaktır."
   ]
  },
  {
   "cell_type": "code",
   "execution_count": 25,
   "id": "aab1b6fc-0409-44fb-bc21-78e56a8f0f66",
   "metadata": {},
   "outputs": [
    {
     "name": "stdout",
     "output_type": "stream",
     "text": [
      "Test Stat = 10.4031, p-value = 0.0154\n"
     ]
    }
   ],
   "source": [
    "#3)HİPOTEZ TESTİ\n",
    "test_stat, pvalue = kruskal(df.loc[df['day']=='Sun','total_bill'],\n",
    "                           df.loc[df['day']=='Sat','total_bill'],\n",
    "                           df.loc[df['day']=='Thur','total_bill'],\n",
    "                           df.loc[df['day']=='Fri','total_bill'])\n",
    "print('Test Stat = %.4f, p-value = %.4f' % (test_stat, pvalue))"
   ]
  },
  {
   "cell_type": "markdown",
   "id": "aef3e575-05ed-44ff-b4b9-afbcdb29a1a7",
   "metadata": {},
   "source": [
    "p değeri 0.05'den küçük olduğu için H0 reddedilir. Yani gruplar arasında istatistiksel olarak bir fark vardır."
   ]
  },
  {
   "cell_type": "code",
   "execution_count": 30,
   "id": "9e9d2821-f488-4381-a543-cde1ceac2a12",
   "metadata": {},
   "outputs": [
    {
     "name": "stdout",
     "output_type": "stream",
     "text": [
      "Multiple Comparison of Means - Tukey HSD, FWER=0.05 \n",
      "====================================================\n",
      "group1 group2 meandiff p-adj   lower   upper  reject\n",
      "----------------------------------------------------\n",
      "   Fri    Sat   3.2898 0.4541 -2.4799  9.0595  False\n",
      "   Fri    Sun   4.2584 0.2371 -1.5856 10.1025  False\n",
      "   Fri   Thur   0.5312 0.9957 -5.4434  6.5057  False\n",
      "   Sat    Sun   0.9686 0.8968 -2.6088   4.546  False\n",
      "   Sat   Thur  -2.7586 0.2374 -6.5455  1.0282  False\n",
      "   Sun   Thur  -3.7273 0.0668 -7.6264  0.1719  False\n",
      "----------------------------------------------------\n"
     ]
    }
   ],
   "source": [
    "#Farklılık hangi gruptan kaynaklanıyor.Bunu ikili karşılaştırmalar ile bulmaya çalışacaz\n",
    "comparison = MultiComparison(df['total_bill'],df['day'])\n",
    "tukey = comparison.tukeyhsd(0.05)\n",
    "print(tukey)"
   ]
  },
  {
   "cell_type": "markdown",
   "id": "af57224d-e214-433f-8f1c-b3b55585ac57",
   "metadata": {},
   "source": [
    "İkili karşılaştırmalara baktığımızda p valu değerleri 0.05'den büyük oldugu için H0 reddedilemez. Ynai Farklılık yoktur diyoruz.Ama grup bazında baktığımızda bir fark vardı."
   ]
  },
  {
   "cell_type": "code",
   "execution_count": null,
   "id": "b3d80f95-15cb-4eab-8d32-ecb776dfdff4",
   "metadata": {},
   "outputs": [],
   "source": []
  }
 ],
 "metadata": {
  "kernelspec": {
   "display_name": "Python [conda env:base] *",
   "language": "python",
   "name": "conda-base-py"
  },
  "language_info": {
   "codemirror_mode": {
    "name": "ipython",
    "version": 3
   },
   "file_extension": ".py",
   "mimetype": "text/x-python",
   "name": "python",
   "nbconvert_exporter": "python",
   "pygments_lexer": "ipython3",
   "version": "3.12.7"
  }
 },
 "nbformat": 4,
 "nbformat_minor": 5
}
