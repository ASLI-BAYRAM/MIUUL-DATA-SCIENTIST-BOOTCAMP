{
 "cells": [
  {
   "cell_type": "markdown",
   "id": "9a75b99b-be90-483b-a8e0-089bbee592f7",
   "metadata": {},
   "source": [
    " <h1 style=\"text-align: center; color: RED\">ÖLÇÜMLEME PROBLEMLERİ</h1>"
   ]
  },
  {
   "cell_type": "markdown",
   "id": "0fbcccdc-9d1d-4316-be72-ce997285e73c",
   "metadata": {},
   "source": [
    " <h2 style=\"text-align: center; color: RED\">RATİNG PRODUCTS</h2>"
   ]
  },
  {
   "cell_type": "markdown",
   "id": "43043968-5579-4560-ab65-3245c9c2dd32",
   "metadata": {},
   "source": [
    "<span style=\"color: blue; font-weight: bold;\">Bir Ürünü Satın Aldıran Nedir?</span> \n",
    "\n",
    "Kullanıcı ürünler arasında seçim yapıp, satın alma kararını etkileyecek pek çok faktör vardır. Bunlardan birisi son zamanlarda öne çıkan social proof kavramı yani sosyal ispat kavramıdır.Ürün yorumları, ürün yorumlarına bakılarak toplumun bu ürüne ne tepki verdiği üzerinden ürün hakkında bilgi edinilmeye çalışılır. Diğer bir kavram ise the wisdom of crowds'dur. Kalabalıkların bilgeliği anlamına gelir yani çoğunluk bunu beğendiyse bende beğenirim demektir.Kullanıcının şöyle bir derdi vardır: Fiyat ve performans açısından en iyi ürüne nasıl ulaşmalıyım. Pazar yeri ise : Kullanıcılara en doğru şekilde ürünleri ulaştırmalıyım derdinde olmalıdır. Bu kısımda biz geliştiricleri ilgilendiren başlıklar ise şunlardır:\n",
    "\n",
    "* Ürün puanlarının hesaplanması\n",
    "* Ürünlerin sıralanması\n",
    "* Ürünlerin detay sayfalarındaki kullanıcı yorumlarının sıralanması\n",
    "* Syafa,süreç ve etkileşim alanlarının tasarımları\n",
    "* Özellik denemeleri\n",
    "* Olası aksiyonların ve reaksiyonların test edilmesi"
   ]
  },
  {
   "cell_type": "markdown",
   "id": "79f55d29-56ea-4dbe-b482-9d7bc9fd33b6",
   "metadata": {},
   "source": [
    "<span style=\"color: blue; font-weight: bold;\">Olası faktörleri göz önünde bulundurarak ağırlıklı ürün puanlama</span>\n",
    "\n"
   ]
  },
  {
   "cell_type": "markdown",
   "id": "4edcf251-84ae-401d-bfce-776b8a121b57",
   "metadata": {},
   "source": [
    "<span style=\"color: blue; font-weight: bold;\">1-AVERAGE(ORTALAMA) İLE ÜRÜN PUANLAMA</span>\n",
    "\n"
   ]
  },
  {
   "cell_type": "code",
   "execution_count": 61,
   "id": "68bfc3f4-0f2b-4f73-be52-63ee7335fa8d",
   "metadata": {},
   "outputs": [],
   "source": [
    "import pandas as pd\n",
    "import math\n",
    "import scipy.stats as st\n",
    "from sklearn.preprocessing import MinMaxScaler"
   ]
  },
  {
   "cell_type": "code",
   "execution_count": 22,
   "id": "8e841b8a-c2da-479a-9388-89daafb92e93",
   "metadata": {},
   "outputs": [],
   "source": [
    "pd.set_option('display.max_columns',None)\n",
    "pd.set_option('display.width',500)\n",
    "pd.set_option('display.expand_frame_repr',False)\n",
    "pd.set_option('display.float_format',lambda x:'%.5f' % x)#sıfırdan sonra beş sayı gösterir."
   ]
  },
  {
   "cell_type": "markdown",
   "id": "1d2f65d5-3d40-4217-b804-3ff14958e8bd",
   "metadata": {},
   "source": [
    "**Kurs ve kursla alakalı bilgiler**\n",
    "\n",
    "Amacımız kursa verilen puanların puanını hesaplamak\n",
    "\n",
    "(50+ Saat) Python A-Z™: Veri Bilimi ve Machine Learning\n",
    "\n",
    "Puan: 4.8 (4.764925)\n",
    "\n",
    "Toplam Puan: 4611\n",
    "\n",
    "Puan Yüzdeleri: 75, 20, 4, 1, <1\n",
    "\n",
    "Yaklaşık Sayısal Karşılıkları: 3458, 922, 184, 46, 6\n"
   ]
  },
  {
   "cell_type": "code",
   "execution_count": 30,
   "id": "5ed59147-fedf-4c7d-8440-443312a3250b",
   "metadata": {},
   "outputs": [],
   "source": [
    "df_ = pd.read_csv(\"C:\\\\Users\\\\ASLI\\\\Desktop\\\\Data Scientist Bootcamp\\\\4.Measurement Problems\\\\datasets\\\\course_reviews.csv\")"
   ]
  },
  {
   "cell_type": "code",
   "execution_count": 32,
   "id": "5e792b99-b1c7-49c0-9df7-ea8742e14bc7",
   "metadata": {},
   "outputs": [],
   "source": [
    "df = df_.copy()"
   ]
  },
  {
   "cell_type": "code",
   "execution_count": 34,
   "id": "dab6bd5a-e96a-43cf-ab01-4ccc89055432",
   "metadata": {},
   "outputs": [
    {
     "data": {
      "text/html": [
       "<div>\n",
       "<style scoped>\n",
       "    .dataframe tbody tr th:only-of-type {\n",
       "        vertical-align: middle;\n",
       "    }\n",
       "\n",
       "    .dataframe tbody tr th {\n",
       "        vertical-align: top;\n",
       "    }\n",
       "\n",
       "    .dataframe thead th {\n",
       "        text-align: right;\n",
       "    }\n",
       "</style>\n",
       "<table border=\"1\" class=\"dataframe\">\n",
       "  <thead>\n",
       "    <tr style=\"text-align: right;\">\n",
       "      <th></th>\n",
       "      <th>Rating</th>\n",
       "      <th>Timestamp</th>\n",
       "      <th>Enrolled</th>\n",
       "      <th>Progress</th>\n",
       "      <th>Questions Asked</th>\n",
       "      <th>Questions Answered</th>\n",
       "    </tr>\n",
       "  </thead>\n",
       "  <tbody>\n",
       "    <tr>\n",
       "      <th>0</th>\n",
       "      <td>5.00000</td>\n",
       "      <td>2021-02-05 07:45:55</td>\n",
       "      <td>2021-01-25 15:12:08</td>\n",
       "      <td>5.00000</td>\n",
       "      <td>0.00000</td>\n",
       "      <td>0.00000</td>\n",
       "    </tr>\n",
       "    <tr>\n",
       "      <th>1</th>\n",
       "      <td>5.00000</td>\n",
       "      <td>2021-02-04 21:05:32</td>\n",
       "      <td>2021-02-04 20:43:40</td>\n",
       "      <td>1.00000</td>\n",
       "      <td>0.00000</td>\n",
       "      <td>0.00000</td>\n",
       "    </tr>\n",
       "    <tr>\n",
       "      <th>2</th>\n",
       "      <td>4.50000</td>\n",
       "      <td>2021-02-04 20:34:03</td>\n",
       "      <td>2019-07-04 23:23:27</td>\n",
       "      <td>1.00000</td>\n",
       "      <td>0.00000</td>\n",
       "      <td>0.00000</td>\n",
       "    </tr>\n",
       "    <tr>\n",
       "      <th>3</th>\n",
       "      <td>5.00000</td>\n",
       "      <td>2021-02-04 16:56:28</td>\n",
       "      <td>2021-02-04 14:41:29</td>\n",
       "      <td>10.00000</td>\n",
       "      <td>0.00000</td>\n",
       "      <td>0.00000</td>\n",
       "    </tr>\n",
       "    <tr>\n",
       "      <th>4</th>\n",
       "      <td>4.00000</td>\n",
       "      <td>2021-02-04 15:00:24</td>\n",
       "      <td>2020-10-13 03:10:07</td>\n",
       "      <td>10.00000</td>\n",
       "      <td>0.00000</td>\n",
       "      <td>0.00000</td>\n",
       "    </tr>\n",
       "  </tbody>\n",
       "</table>\n",
       "</div>"
      ],
      "text/plain": [
       "   Rating            Timestamp             Enrolled  Progress  Questions Asked  Questions Answered\n",
       "0 5.00000  2021-02-05 07:45:55  2021-01-25 15:12:08   5.00000          0.00000             0.00000\n",
       "1 5.00000  2021-02-04 21:05:32  2021-02-04 20:43:40   1.00000          0.00000             0.00000\n",
       "2 4.50000  2021-02-04 20:34:03  2019-07-04 23:23:27   1.00000          0.00000             0.00000\n",
       "3 5.00000  2021-02-04 16:56:28  2021-02-04 14:41:29  10.00000          0.00000             0.00000\n",
       "4 4.00000  2021-02-04 15:00:24  2020-10-13 03:10:07  10.00000          0.00000             0.00000"
      ]
     },
     "execution_count": 34,
     "metadata": {},
     "output_type": "execute_result"
    }
   ],
   "source": [
    "df.head()"
   ]
  },
  {
   "cell_type": "markdown",
   "id": "5cb9ffd4-838a-440f-8045-fa745a30959b",
   "metadata": {},
   "source": [
    "Rating : Kursa puan veren kişileri ifade eder.Kaç puan verdiğini ifade eder.\n",
    "\n",
    "Timestamp: Puan verdiği tarih\n",
    "\n",
    "Enrolled: Üye olduğu tarih\n",
    "\n",
    "Progress : Kursun yüzde kaçını izlediği\n",
    "\n",
    "Questions Asked : Kurs hakkında sorduğu soru sayısı\n",
    "\n",
    "Questions Answered : Sorusuna karşılık aldığı cevap sayısı"
   ]
  },
  {
   "cell_type": "code",
   "execution_count": 39,
   "id": "843cfc35-ed52-4255-9475-9b8d2f9d4b28",
   "metadata": {},
   "outputs": [
    {
     "data": {
      "text/plain": [
       "(4323, 6)"
      ]
     },
     "execution_count": 39,
     "metadata": {},
     "output_type": "execute_result"
    }
   ],
   "source": [
    "df.shape"
   ]
  },
  {
   "cell_type": "markdown",
   "id": "0bcb749f-348c-4bc5-9368-9dfbf3459caa",
   "metadata": {},
   "source": [
    "**Veriyi tanımak adına bazı işlemler yapabiliriz.**"
   ]
  },
  {
   "cell_type": "code",
   "execution_count": 46,
   "id": "09dd8b52-6455-402c-8b4d-d28a92c6e7f9",
   "metadata": {},
   "outputs": [
    {
     "data": {
      "text/plain": [
       "Rating\n",
       "5.00000    3267\n",
       "4.50000     475\n",
       "4.00000     383\n",
       "3.50000      96\n",
       "3.00000      62\n",
       "1.00000      15\n",
       "2.00000      12\n",
       "2.50000      11\n",
       "1.50000       2\n",
       "Name: count, dtype: int64"
      ]
     },
     "execution_count": 46,
     "metadata": {},
     "output_type": "execute_result"
    }
   ],
   "source": [
    "#rating dağılımı\n",
    "df['Rating'].value_counts()"
   ]
  },
  {
   "cell_type": "code",
   "execution_count": 48,
   "id": "416043b1-8a77-40e7-a577-6f7c9732d75f",
   "metadata": {},
   "outputs": [
    {
     "data": {
      "text/plain": [
       "Questions Asked\n",
       "0.00000     3867\n",
       "1.00000      276\n",
       "2.00000       80\n",
       "3.00000       43\n",
       "4.00000       15\n",
       "5.00000       13\n",
       "6.00000        9\n",
       "8.00000        5\n",
       "9.00000        3\n",
       "14.00000       2\n",
       "11.00000       2\n",
       "7.00000        2\n",
       "10.00000       2\n",
       "15.00000       2\n",
       "22.00000       1\n",
       "12.00000       1\n",
       "Name: count, dtype: int64"
      ]
     },
     "execution_count": 48,
     "metadata": {},
     "output_type": "execute_result"
    }
   ],
   "source": [
    "df['Questions Asked'].value_counts()"
   ]
  },
  {
   "cell_type": "code",
   "execution_count": 58,
   "id": "f426a3b6-33b7-4e66-9208-0270d5db1b5c",
   "metadata": {},
   "outputs": [
    {
     "data": {
      "text/html": [
       "<div>\n",
       "<style scoped>\n",
       "    .dataframe tbody tr th:only-of-type {\n",
       "        vertical-align: middle;\n",
       "    }\n",
       "\n",
       "    .dataframe tbody tr th {\n",
       "        vertical-align: top;\n",
       "    }\n",
       "\n",
       "    .dataframe thead th {\n",
       "        text-align: right;\n",
       "    }\n",
       "</style>\n",
       "<table border=\"1\" class=\"dataframe\">\n",
       "  <thead>\n",
       "    <tr style=\"text-align: right;\">\n",
       "      <th></th>\n",
       "      <th>Questions Asked</th>\n",
       "      <th>Rating</th>\n",
       "    </tr>\n",
       "    <tr>\n",
       "      <th>Questions Asked</th>\n",
       "      <th></th>\n",
       "      <th></th>\n",
       "    </tr>\n",
       "  </thead>\n",
       "  <tbody>\n",
       "    <tr>\n",
       "      <th>0.00000</th>\n",
       "      <td>3867</td>\n",
       "      <td>4.76519</td>\n",
       "    </tr>\n",
       "    <tr>\n",
       "      <th>1.00000</th>\n",
       "      <td>276</td>\n",
       "      <td>4.74094</td>\n",
       "    </tr>\n",
       "    <tr>\n",
       "      <th>2.00000</th>\n",
       "      <td>80</td>\n",
       "      <td>4.80625</td>\n",
       "    </tr>\n",
       "    <tr>\n",
       "      <th>3.00000</th>\n",
       "      <td>43</td>\n",
       "      <td>4.74419</td>\n",
       "    </tr>\n",
       "    <tr>\n",
       "      <th>4.00000</th>\n",
       "      <td>15</td>\n",
       "      <td>4.83333</td>\n",
       "    </tr>\n",
       "    <tr>\n",
       "      <th>5.00000</th>\n",
       "      <td>13</td>\n",
       "      <td>4.65385</td>\n",
       "    </tr>\n",
       "    <tr>\n",
       "      <th>6.00000</th>\n",
       "      <td>9</td>\n",
       "      <td>5.00000</td>\n",
       "    </tr>\n",
       "    <tr>\n",
       "      <th>7.00000</th>\n",
       "      <td>2</td>\n",
       "      <td>4.75000</td>\n",
       "    </tr>\n",
       "    <tr>\n",
       "      <th>8.00000</th>\n",
       "      <td>5</td>\n",
       "      <td>4.90000</td>\n",
       "    </tr>\n",
       "    <tr>\n",
       "      <th>9.00000</th>\n",
       "      <td>3</td>\n",
       "      <td>5.00000</td>\n",
       "    </tr>\n",
       "    <tr>\n",
       "      <th>10.00000</th>\n",
       "      <td>2</td>\n",
       "      <td>5.00000</td>\n",
       "    </tr>\n",
       "    <tr>\n",
       "      <th>11.00000</th>\n",
       "      <td>2</td>\n",
       "      <td>5.00000</td>\n",
       "    </tr>\n",
       "    <tr>\n",
       "      <th>12.00000</th>\n",
       "      <td>1</td>\n",
       "      <td>5.00000</td>\n",
       "    </tr>\n",
       "    <tr>\n",
       "      <th>14.00000</th>\n",
       "      <td>2</td>\n",
       "      <td>4.50000</td>\n",
       "    </tr>\n",
       "    <tr>\n",
       "      <th>15.00000</th>\n",
       "      <td>2</td>\n",
       "      <td>3.00000</td>\n",
       "    </tr>\n",
       "    <tr>\n",
       "      <th>22.00000</th>\n",
       "      <td>1</td>\n",
       "      <td>5.00000</td>\n",
       "    </tr>\n",
       "  </tbody>\n",
       "</table>\n",
       "</div>"
      ],
      "text/plain": [
       "                 Questions Asked  Rating\n",
       "Questions Asked                         \n",
       "0.00000                     3867 4.76519\n",
       "1.00000                      276 4.74094\n",
       "2.00000                       80 4.80625\n",
       "3.00000                       43 4.74419\n",
       "4.00000                       15 4.83333\n",
       "5.00000                       13 4.65385\n",
       "6.00000                        9 5.00000\n",
       "7.00000                        2 4.75000\n",
       "8.00000                        5 4.90000\n",
       "9.00000                        3 5.00000\n",
       "10.00000                       2 5.00000\n",
       "11.00000                       2 5.00000\n",
       "12.00000                       1 5.00000\n",
       "14.00000                       2 4.50000\n",
       "15.00000                       2 3.00000\n",
       "22.00000                       1 5.00000"
      ]
     },
     "execution_count": 58,
     "metadata": {},
     "output_type": "execute_result"
    }
   ],
   "source": [
    "#sorulan soru kırılımında verilen puan ortalaması\n",
    "df.groupby('Questions Asked').agg({'Questions Asked':'count',\n",
    "                                   'Rating':'mean'})"
   ]
  },
  {
   "cell_type": "code",
   "execution_count": 64,
   "id": "a55bee78-3148-4755-89c2-669522c3c29e",
   "metadata": {},
   "outputs": [
    {
     "data": {
      "text/plain": [
       "4.764284061993986"
      ]
     },
     "execution_count": 64,
     "metadata": {},
     "output_type": "execute_result"
    }
   ],
   "source": [
    "# Ortalama puan\n",
    "df['Rating'].mean()"
   ]
  },
  {
   "cell_type": "markdown",
   "id": "36f22ccf-7c9a-447b-a391-ce6be52b99cf",
   "metadata": {},
   "source": [
    "**NOT** : Sadece ortalama üzerinde puan hesaplamak  bazı şeylerin göz ardı edilmesine sebep olabilir. Örneğin son zamanlardaki trendleri kaçırabiliyor olabiliriz.Örneğin bir yıl önce ilk üç ayda bu kursla lgili yüksek memnuniyet olabilir ama bir yılın son üç ayında bu trend değişmiş olabilir, kursla ilgili problemler çıkmış olabilir ve ürünün popülerliği kaybolmuş  olabilir. "
   ]
  },
  {
   "cell_type": "markdown",
   "id": "1a6b41d3-712e-4c34-851b-c9ae8ff85e4a",
   "metadata": {},
   "source": [
    "<span style=\"color: blue; font-weight: bold;\">2-PUAN ZAMANLARINA GÖRE AĞIRLIKLI ORTALAMA HESAPLAMA(TİME-BASED WEİGHTED AVERAGE)</span>"
   ]
  },
  {
   "cell_type": "code",
   "execution_count": 70,
   "id": "570b000e-a69a-41c2-af97-bac2dff05606",
   "metadata": {},
   "outputs": [
    {
     "data": {
      "text/html": [
       "<div>\n",
       "<style scoped>\n",
       "    .dataframe tbody tr th:only-of-type {\n",
       "        vertical-align: middle;\n",
       "    }\n",
       "\n",
       "    .dataframe tbody tr th {\n",
       "        vertical-align: top;\n",
       "    }\n",
       "\n",
       "    .dataframe thead th {\n",
       "        text-align: right;\n",
       "    }\n",
       "</style>\n",
       "<table border=\"1\" class=\"dataframe\">\n",
       "  <thead>\n",
       "    <tr style=\"text-align: right;\">\n",
       "      <th></th>\n",
       "      <th>Rating</th>\n",
       "      <th>Timestamp</th>\n",
       "      <th>Enrolled</th>\n",
       "      <th>Progress</th>\n",
       "      <th>Questions Asked</th>\n",
       "      <th>Questions Answered</th>\n",
       "    </tr>\n",
       "  </thead>\n",
       "  <tbody>\n",
       "    <tr>\n",
       "      <th>0</th>\n",
       "      <td>5.00000</td>\n",
       "      <td>2021-02-05 07:45:55</td>\n",
       "      <td>2021-01-25 15:12:08</td>\n",
       "      <td>5.00000</td>\n",
       "      <td>0.00000</td>\n",
       "      <td>0.00000</td>\n",
       "    </tr>\n",
       "    <tr>\n",
       "      <th>1</th>\n",
       "      <td>5.00000</td>\n",
       "      <td>2021-02-04 21:05:32</td>\n",
       "      <td>2021-02-04 20:43:40</td>\n",
       "      <td>1.00000</td>\n",
       "      <td>0.00000</td>\n",
       "      <td>0.00000</td>\n",
       "    </tr>\n",
       "    <tr>\n",
       "      <th>2</th>\n",
       "      <td>4.50000</td>\n",
       "      <td>2021-02-04 20:34:03</td>\n",
       "      <td>2019-07-04 23:23:27</td>\n",
       "      <td>1.00000</td>\n",
       "      <td>0.00000</td>\n",
       "      <td>0.00000</td>\n",
       "    </tr>\n",
       "    <tr>\n",
       "      <th>3</th>\n",
       "      <td>5.00000</td>\n",
       "      <td>2021-02-04 16:56:28</td>\n",
       "      <td>2021-02-04 14:41:29</td>\n",
       "      <td>10.00000</td>\n",
       "      <td>0.00000</td>\n",
       "      <td>0.00000</td>\n",
       "    </tr>\n",
       "    <tr>\n",
       "      <th>4</th>\n",
       "      <td>4.00000</td>\n",
       "      <td>2021-02-04 15:00:24</td>\n",
       "      <td>2020-10-13 03:10:07</td>\n",
       "      <td>10.00000</td>\n",
       "      <td>0.00000</td>\n",
       "      <td>0.00000</td>\n",
       "    </tr>\n",
       "  </tbody>\n",
       "</table>\n",
       "</div>"
      ],
      "text/plain": [
       "   Rating            Timestamp             Enrolled  Progress  Questions Asked  Questions Answered\n",
       "0 5.00000  2021-02-05 07:45:55  2021-01-25 15:12:08   5.00000          0.00000             0.00000\n",
       "1 5.00000  2021-02-04 21:05:32  2021-02-04 20:43:40   1.00000          0.00000             0.00000\n",
       "2 4.50000  2021-02-04 20:34:03  2019-07-04 23:23:27   1.00000          0.00000             0.00000\n",
       "3 5.00000  2021-02-04 16:56:28  2021-02-04 14:41:29  10.00000          0.00000             0.00000\n",
       "4 4.00000  2021-02-04 15:00:24  2020-10-13 03:10:07  10.00000          0.00000             0.00000"
      ]
     },
     "execution_count": 70,
     "metadata": {},
     "output_type": "execute_result"
    }
   ],
   "source": [
    "df.head()"
   ]
  },
  {
   "cell_type": "code",
   "execution_count": 72,
   "id": "5e0673b0-7004-4708-a2ef-f9a55552f37a",
   "metadata": {},
   "outputs": [
    {
     "name": "stdout",
     "output_type": "stream",
     "text": [
      "<class 'pandas.core.frame.DataFrame'>\n",
      "RangeIndex: 4323 entries, 0 to 4322\n",
      "Data columns (total 6 columns):\n",
      " #   Column              Non-Null Count  Dtype  \n",
      "---  ------              --------------  -----  \n",
      " 0   Rating              4323 non-null   float64\n",
      " 1   Timestamp           4323 non-null   object \n",
      " 2   Enrolled            4323 non-null   object \n",
      " 3   Progress            4323 non-null   float64\n",
      " 4   Questions Asked     4323 non-null   float64\n",
      " 5   Questions Answered  4323 non-null   float64\n",
      "dtypes: float64(4), object(2)\n",
      "memory usage: 202.8+ KB\n"
     ]
    }
   ],
   "source": [
    "df.info()"
   ]
  },
  {
   "cell_type": "code",
   "execution_count": 76,
   "id": "7ae3ef2a-c5f1-40c7-9b33-de9660cf8e9a",
   "metadata": {},
   "outputs": [],
   "source": [
    "#Zaman değişkenlerininin tipini değiştirme\n",
    "df['Timestamp'] = df['Timestamp'].apply(pd.to_datetime)"
   ]
  },
  {
   "cell_type": "code",
   "execution_count": 78,
   "id": "3e307bf7-bbb4-4eac-b625-6d6bdccdb297",
   "metadata": {},
   "outputs": [
    {
     "name": "stdout",
     "output_type": "stream",
     "text": [
      "<class 'pandas.core.frame.DataFrame'>\n",
      "RangeIndex: 4323 entries, 0 to 4322\n",
      "Data columns (total 6 columns):\n",
      " #   Column              Non-Null Count  Dtype         \n",
      "---  ------              --------------  -----         \n",
      " 0   Rating              4323 non-null   float64       \n",
      " 1   Timestamp           4323 non-null   datetime64[ns]\n",
      " 2   Enrolled            4323 non-null   object        \n",
      " 3   Progress            4323 non-null   float64       \n",
      " 4   Questions Asked     4323 non-null   float64       \n",
      " 5   Questions Answered  4323 non-null   float64       \n",
      "dtypes: datetime64[ns](1), float64(4), object(1)\n",
      "memory usage: 202.8+ KB\n"
     ]
    }
   ],
   "source": [
    "df.info()"
   ]
  },
  {
   "cell_type": "markdown",
   "id": "b4efbc92-4fa7-4c15-b92f-d28b6bea5300",
   "metadata": {},
   "source": [
    "Yorum yapılan tarihin veri tipini değiştirdik şimdi bize yorum yapılan gün sayısı lazım.Örneğin 3 gün önce yorum yapıldı ya da 5 gün önce yorum yapıldı gibi.Bunun için bir analiz günü belirlemeliyiz."
   ]
  },
  {
   "cell_type": "code",
   "execution_count": 82,
   "id": "8b9b9394-e44a-4989-8ced-c196a75cad10",
   "metadata": {},
   "outputs": [],
   "source": [
    "current_date = pd.to_datetime('2021-02-10 0:0:0')"
   ]
  },
  {
   "cell_type": "code",
   "execution_count": 84,
   "id": "e6fe4ccd-213f-4950-b482-46a78ee4d799",
   "metadata": {},
   "outputs": [],
   "source": [
    "df['days'] = (current_date - df['Timestamp']).dt.days"
   ]
  },
  {
   "cell_type": "code",
   "execution_count": 86,
   "id": "dcc2f810-0560-43c0-a4eb-7ec35e39e617",
   "metadata": {},
   "outputs": [
    {
     "data": {
      "text/html": [
       "<div>\n",
       "<style scoped>\n",
       "    .dataframe tbody tr th:only-of-type {\n",
       "        vertical-align: middle;\n",
       "    }\n",
       "\n",
       "    .dataframe tbody tr th {\n",
       "        vertical-align: top;\n",
       "    }\n",
       "\n",
       "    .dataframe thead th {\n",
       "        text-align: right;\n",
       "    }\n",
       "</style>\n",
       "<table border=\"1\" class=\"dataframe\">\n",
       "  <thead>\n",
       "    <tr style=\"text-align: right;\">\n",
       "      <th></th>\n",
       "      <th>Rating</th>\n",
       "      <th>Timestamp</th>\n",
       "      <th>Enrolled</th>\n",
       "      <th>Progress</th>\n",
       "      <th>Questions Asked</th>\n",
       "      <th>Questions Answered</th>\n",
       "      <th>days</th>\n",
       "    </tr>\n",
       "  </thead>\n",
       "  <tbody>\n",
       "    <tr>\n",
       "      <th>0</th>\n",
       "      <td>5.00000</td>\n",
       "      <td>2021-02-05 07:45:55</td>\n",
       "      <td>2021-01-25 15:12:08</td>\n",
       "      <td>5.00000</td>\n",
       "      <td>0.00000</td>\n",
       "      <td>0.00000</td>\n",
       "      <td>4</td>\n",
       "    </tr>\n",
       "    <tr>\n",
       "      <th>1</th>\n",
       "      <td>5.00000</td>\n",
       "      <td>2021-02-04 21:05:32</td>\n",
       "      <td>2021-02-04 20:43:40</td>\n",
       "      <td>1.00000</td>\n",
       "      <td>0.00000</td>\n",
       "      <td>0.00000</td>\n",
       "      <td>5</td>\n",
       "    </tr>\n",
       "    <tr>\n",
       "      <th>2</th>\n",
       "      <td>4.50000</td>\n",
       "      <td>2021-02-04 20:34:03</td>\n",
       "      <td>2019-07-04 23:23:27</td>\n",
       "      <td>1.00000</td>\n",
       "      <td>0.00000</td>\n",
       "      <td>0.00000</td>\n",
       "      <td>5</td>\n",
       "    </tr>\n",
       "    <tr>\n",
       "      <th>3</th>\n",
       "      <td>5.00000</td>\n",
       "      <td>2021-02-04 16:56:28</td>\n",
       "      <td>2021-02-04 14:41:29</td>\n",
       "      <td>10.00000</td>\n",
       "      <td>0.00000</td>\n",
       "      <td>0.00000</td>\n",
       "      <td>5</td>\n",
       "    </tr>\n",
       "    <tr>\n",
       "      <th>4</th>\n",
       "      <td>4.00000</td>\n",
       "      <td>2021-02-04 15:00:24</td>\n",
       "      <td>2020-10-13 03:10:07</td>\n",
       "      <td>10.00000</td>\n",
       "      <td>0.00000</td>\n",
       "      <td>0.00000</td>\n",
       "      <td>5</td>\n",
       "    </tr>\n",
       "  </tbody>\n",
       "</table>\n",
       "</div>"
      ],
      "text/plain": [
       "   Rating           Timestamp             Enrolled  Progress  Questions Asked  Questions Answered  days\n",
       "0 5.00000 2021-02-05 07:45:55  2021-01-25 15:12:08   5.00000          0.00000             0.00000     4\n",
       "1 5.00000 2021-02-04 21:05:32  2021-02-04 20:43:40   1.00000          0.00000             0.00000     5\n",
       "2 4.50000 2021-02-04 20:34:03  2019-07-04 23:23:27   1.00000          0.00000             0.00000     5\n",
       "3 5.00000 2021-02-04 16:56:28  2021-02-04 14:41:29  10.00000          0.00000             0.00000     5\n",
       "4 4.00000 2021-02-04 15:00:24  2020-10-13 03:10:07  10.00000          0.00000             0.00000     5"
      ]
     },
     "execution_count": 86,
     "metadata": {},
     "output_type": "execute_result"
    }
   ],
   "source": [
    "df.head()"
   ]
  },
  {
   "cell_type": "code",
   "execution_count": 90,
   "id": "8172ad66-4608-4524-9d78-ee0f578b323b",
   "metadata": {},
   "outputs": [
    {
     "data": {
      "text/html": [
       "<div>\n",
       "<style scoped>\n",
       "    .dataframe tbody tr th:only-of-type {\n",
       "        vertical-align: middle;\n",
       "    }\n",
       "\n",
       "    .dataframe tbody tr th {\n",
       "        vertical-align: top;\n",
       "    }\n",
       "\n",
       "    .dataframe thead th {\n",
       "        text-align: right;\n",
       "    }\n",
       "</style>\n",
       "<table border=\"1\" class=\"dataframe\">\n",
       "  <thead>\n",
       "    <tr style=\"text-align: right;\">\n",
       "      <th></th>\n",
       "      <th>Rating</th>\n",
       "      <th>Timestamp</th>\n",
       "      <th>Enrolled</th>\n",
       "      <th>Progress</th>\n",
       "      <th>Questions Asked</th>\n",
       "      <th>Questions Answered</th>\n",
       "      <th>days</th>\n",
       "    </tr>\n",
       "  </thead>\n",
       "  <tbody>\n",
       "    <tr>\n",
       "      <th>0</th>\n",
       "      <td>5.00000</td>\n",
       "      <td>2021-02-05 07:45:55</td>\n",
       "      <td>2021-01-25 15:12:08</td>\n",
       "      <td>5.00000</td>\n",
       "      <td>0.00000</td>\n",
       "      <td>0.00000</td>\n",
       "      <td>4</td>\n",
       "    </tr>\n",
       "    <tr>\n",
       "      <th>1</th>\n",
       "      <td>5.00000</td>\n",
       "      <td>2021-02-04 21:05:32</td>\n",
       "      <td>2021-02-04 20:43:40</td>\n",
       "      <td>1.00000</td>\n",
       "      <td>0.00000</td>\n",
       "      <td>0.00000</td>\n",
       "      <td>5</td>\n",
       "    </tr>\n",
       "    <tr>\n",
       "      <th>2</th>\n",
       "      <td>4.50000</td>\n",
       "      <td>2021-02-04 20:34:03</td>\n",
       "      <td>2019-07-04 23:23:27</td>\n",
       "      <td>1.00000</td>\n",
       "      <td>0.00000</td>\n",
       "      <td>0.00000</td>\n",
       "      <td>5</td>\n",
       "    </tr>\n",
       "    <tr>\n",
       "      <th>3</th>\n",
       "      <td>5.00000</td>\n",
       "      <td>2021-02-04 16:56:28</td>\n",
       "      <td>2021-02-04 14:41:29</td>\n",
       "      <td>10.00000</td>\n",
       "      <td>0.00000</td>\n",
       "      <td>0.00000</td>\n",
       "      <td>5</td>\n",
       "    </tr>\n",
       "    <tr>\n",
       "      <th>4</th>\n",
       "      <td>4.00000</td>\n",
       "      <td>2021-02-04 15:00:24</td>\n",
       "      <td>2020-10-13 03:10:07</td>\n",
       "      <td>10.00000</td>\n",
       "      <td>0.00000</td>\n",
       "      <td>0.00000</td>\n",
       "      <td>5</td>\n",
       "    </tr>\n",
       "    <tr>\n",
       "      <th>...</th>\n",
       "      <td>...</td>\n",
       "      <td>...</td>\n",
       "      <td>...</td>\n",
       "      <td>...</td>\n",
       "      <td>...</td>\n",
       "      <td>...</td>\n",
       "      <td>...</td>\n",
       "    </tr>\n",
       "    <tr>\n",
       "      <th>189</th>\n",
       "      <td>5.00000</td>\n",
       "      <td>2021-01-11 07:39:11</td>\n",
       "      <td>2021-01-06 09:44:34</td>\n",
       "      <td>15.00000</td>\n",
       "      <td>1.00000</td>\n",
       "      <td>1.00000</td>\n",
       "      <td>29</td>\n",
       "    </tr>\n",
       "    <tr>\n",
       "      <th>190</th>\n",
       "      <td>5.00000</td>\n",
       "      <td>2021-01-11 07:21:57</td>\n",
       "      <td>2020-06-30 20:14:04</td>\n",
       "      <td>5.00000</td>\n",
       "      <td>0.00000</td>\n",
       "      <td>0.00000</td>\n",
       "      <td>29</td>\n",
       "    </tr>\n",
       "    <tr>\n",
       "      <th>191</th>\n",
       "      <td>5.00000</td>\n",
       "      <td>2021-01-11 00:34:30</td>\n",
       "      <td>2020-12-31 20:33:13</td>\n",
       "      <td>5.00000</td>\n",
       "      <td>0.00000</td>\n",
       "      <td>0.00000</td>\n",
       "      <td>29</td>\n",
       "    </tr>\n",
       "    <tr>\n",
       "      <th>192</th>\n",
       "      <td>5.00000</td>\n",
       "      <td>2021-01-10 18:45:38</td>\n",
       "      <td>2020-03-03 08:29:43</td>\n",
       "      <td>0.00000</td>\n",
       "      <td>0.00000</td>\n",
       "      <td>0.00000</td>\n",
       "      <td>30</td>\n",
       "    </tr>\n",
       "    <tr>\n",
       "      <th>193</th>\n",
       "      <td>5.00000</td>\n",
       "      <td>2021-01-10 18:23:03</td>\n",
       "      <td>2020-12-04 20:01:01</td>\n",
       "      <td>20.00000</td>\n",
       "      <td>0.00000</td>\n",
       "      <td>0.00000</td>\n",
       "      <td>30</td>\n",
       "    </tr>\n",
       "  </tbody>\n",
       "</table>\n",
       "<p>194 rows × 7 columns</p>\n",
       "</div>"
      ],
      "text/plain": [
       "     Rating           Timestamp             Enrolled  Progress  Questions Asked  Questions Answered  days\n",
       "0   5.00000 2021-02-05 07:45:55  2021-01-25 15:12:08   5.00000          0.00000             0.00000     4\n",
       "1   5.00000 2021-02-04 21:05:32  2021-02-04 20:43:40   1.00000          0.00000             0.00000     5\n",
       "2   4.50000 2021-02-04 20:34:03  2019-07-04 23:23:27   1.00000          0.00000             0.00000     5\n",
       "3   5.00000 2021-02-04 16:56:28  2021-02-04 14:41:29  10.00000          0.00000             0.00000     5\n",
       "4   4.00000 2021-02-04 15:00:24  2020-10-13 03:10:07  10.00000          0.00000             0.00000     5\n",
       "..      ...                 ...                  ...       ...              ...                 ...   ...\n",
       "189 5.00000 2021-01-11 07:39:11  2021-01-06 09:44:34  15.00000          1.00000             1.00000    29\n",
       "190 5.00000 2021-01-11 07:21:57  2020-06-30 20:14:04   5.00000          0.00000             0.00000    29\n",
       "191 5.00000 2021-01-11 00:34:30  2020-12-31 20:33:13   5.00000          0.00000             0.00000    29\n",
       "192 5.00000 2021-01-10 18:45:38  2020-03-03 08:29:43   0.00000          0.00000             0.00000    30\n",
       "193 5.00000 2021-01-10 18:23:03  2020-12-04 20:01:01  20.00000          0.00000             0.00000    30\n",
       "\n",
       "[194 rows x 7 columns]"
      ]
     },
     "execution_count": 90,
     "metadata": {},
     "output_type": "execute_result"
    }
   ],
   "source": [
    "#Son 30 günde yapılan yorumlar\n",
    "df.loc[df['days']<=30]"
   ]
  },
  {
   "cell_type": "code",
   "execution_count": 94,
   "id": "9742a7d9-72e7-43f2-b649-52bf246bb114",
   "metadata": {},
   "outputs": [
    {
     "data": {
      "text/plain": [
       "4.775773195876289"
      ]
     },
     "execution_count": 94,
     "metadata": {},
     "output_type": "execute_result"
    }
   ],
   "source": [
    "df.loc[df['days']<=30,'Rating'].mean() #son 30 günde yapılan puanların ortalaması"
   ]
  },
  {
   "cell_type": "code",
   "execution_count": 96,
   "id": "2b9f78bd-308a-4ee1-b462-d1029d9961cd",
   "metadata": {},
   "outputs": [
    {
     "data": {
      "text/plain": [
       "4.763833992094861"
      ]
     },
     "execution_count": 96,
     "metadata": {},
     "output_type": "execute_result"
    }
   ],
   "source": [
    "#31 ile 90 gün arasındaki puanların ortalaması\n",
    "df.loc[(df['days']>30) & (df['days']<=90),'Rating'].mean()"
   ]
  },
  {
   "cell_type": "code",
   "execution_count": 102,
   "id": "f3ce5ecb-bf89-4046-9cc5-966d2089b85e",
   "metadata": {},
   "outputs": [
    {
     "data": {
      "text/plain": [
       "4.752503576537912"
      ]
     },
     "execution_count": 102,
     "metadata": {},
     "output_type": "execute_result"
    }
   ],
   "source": [
    "#90 ile 180. gün arası\n",
    "df.loc[(df['days']>90)&(df['days']<=180),'Rating'].mean()"
   ]
  },
  {
   "cell_type": "code",
   "execution_count": 104,
   "id": "4276dc34-b7a7-47a3-8025-7a72310b4ffd",
   "metadata": {},
   "outputs": [
    {
     "data": {
      "text/plain": [
       "4.76641586867305"
      ]
     },
     "execution_count": 104,
     "metadata": {},
     "output_type": "execute_result"
    }
   ],
   "source": [
    "df.loc[(df['days']>180),'Rating'].mean()"
   ]
  },
  {
   "cell_type": "markdown",
   "id": "d847d665-4dc4-469b-9756-95822592ccbd",
   "metadata": {},
   "source": [
    "Zamana göre ortalamalara baktık. En güncel zamanda puanların ortalamaların daha yüksek oldugunu gördük. Şimdi bu zamanlara göre ağırlık vererek bir ortalama elde edebiliriz.Verdiğimiz ağırlıkların toplamı 100 olmalı.Güncel olan yorumlara daha fazla ağırlık verdik."
   ]
  },
  {
   "cell_type": "code",
   "execution_count": 108,
   "id": "4790bf72-6ca9-49c6-995e-b36935925c05",
   "metadata": {},
   "outputs": [
    {
     "data": {
      "text/plain": [
       "4.765025682267194"
      ]
     },
     "execution_count": 108,
     "metadata": {},
     "output_type": "execute_result"
    }
   ],
   "source": [
    "df.loc[df['days']<=30,'Rating'].mean() * 0.28 + \\\n",
    "df.loc[(df['days']>30) & (df['days']<=90),'Rating'].mean() * 0.26 +\\\n",
    "df.loc[(df['days']>90)&(df['days']<=180),'Rating'].mean() * 0.24 +\\\n",
    "df.loc[(df['days']>180),'Rating'].mean() * 0.22"
   ]
  },
  {
   "cell_type": "code",
   "execution_count": 117,
   "id": "51849d81-e079-4261-b561-1d0223a61216",
   "metadata": {},
   "outputs": [],
   "source": [
    "def time_based_weighted_average(dataframe, w1=0.28,w2=0.26,w3=0.24,w4=0.22):\n",
    "    return df.loc[df['days']<=30,'Rating'].mean() * w1 + \\\n",
    "           df.loc[(df['days']>30) & (df['days']<=90),'Rating'].mean() *w2 +\\\n",
    "           df.loc[(df['days']>90)&(df['days']<=180),'Rating'].mean() * w3 +\\\n",
    "           df.loc[(df['days']>180),'Rating'].mean() * w4"
   ]
  },
  {
   "cell_type": "code",
   "execution_count": 119,
   "id": "689b7b66-8e37-4e99-8cdc-1af4834db295",
   "metadata": {},
   "outputs": [
    {
     "data": {
      "text/plain": [
       "4.765491074653962"
      ]
     },
     "execution_count": 119,
     "metadata": {},
     "output_type": "execute_result"
    }
   ],
   "source": [
    "time_based_weighted_average(df, w1=0.30,w2=0.26,w3=0.22,w4=0.22)"
   ]
  },
  {
   "cell_type": "markdown",
   "id": "6e3a2367-91c7-4572-830d-ce9071d5e86d",
   "metadata": {},
   "source": [
    "<span style=\"color: blue; font-weight: bold;\">3-KULLANICI TEMELLİ AĞIRLIKLI ORTALAMA(USER-BASED WEİGHTED AVERAGE)</span>"
   ]
  },
  {
   "cell_type": "markdown",
   "id": "5e544d66-07ab-48e8-8711-d5f851fd0fd5",
   "metadata": {},
   "source": [
    "Her kullanıcının verdiği puan aynı ağırlıkta mı olmalı? Örneğin kursun %75'ini izleyenle %5'ini izleyenin verdiği puan aynı değere mi sahip olmalı?"
   ]
  },
  {
   "cell_type": "code",
   "execution_count": 125,
   "id": "c684ffe0-5e61-4aa2-b113-d85c5618052b",
   "metadata": {},
   "outputs": [
    {
     "data": {
      "text/html": [
       "<div>\n",
       "<style scoped>\n",
       "    .dataframe tbody tr th:only-of-type {\n",
       "        vertical-align: middle;\n",
       "    }\n",
       "\n",
       "    .dataframe tbody tr th {\n",
       "        vertical-align: top;\n",
       "    }\n",
       "\n",
       "    .dataframe thead th {\n",
       "        text-align: right;\n",
       "    }\n",
       "</style>\n",
       "<table border=\"1\" class=\"dataframe\">\n",
       "  <thead>\n",
       "    <tr style=\"text-align: right;\">\n",
       "      <th></th>\n",
       "      <th>Rating</th>\n",
       "    </tr>\n",
       "    <tr>\n",
       "      <th>Progress</th>\n",
       "      <th></th>\n",
       "    </tr>\n",
       "  </thead>\n",
       "  <tbody>\n",
       "    <tr>\n",
       "      <th>0.00000</th>\n",
       "      <td>4.67391</td>\n",
       "    </tr>\n",
       "    <tr>\n",
       "      <th>1.00000</th>\n",
       "      <td>4.64269</td>\n",
       "    </tr>\n",
       "    <tr>\n",
       "      <th>2.00000</th>\n",
       "      <td>4.65476</td>\n",
       "    </tr>\n",
       "    <tr>\n",
       "      <th>3.00000</th>\n",
       "      <td>4.66355</td>\n",
       "    </tr>\n",
       "    <tr>\n",
       "      <th>4.00000</th>\n",
       "      <td>4.77733</td>\n",
       "    </tr>\n",
       "    <tr>\n",
       "      <th>...</th>\n",
       "      <td>...</td>\n",
       "    </tr>\n",
       "    <tr>\n",
       "      <th>94.00000</th>\n",
       "      <td>5.00000</td>\n",
       "    </tr>\n",
       "    <tr>\n",
       "      <th>95.00000</th>\n",
       "      <td>4.79412</td>\n",
       "    </tr>\n",
       "    <tr>\n",
       "      <th>97.00000</th>\n",
       "      <td>5.00000</td>\n",
       "    </tr>\n",
       "    <tr>\n",
       "      <th>98.00000</th>\n",
       "      <td>5.00000</td>\n",
       "    </tr>\n",
       "    <tr>\n",
       "      <th>100.00000</th>\n",
       "      <td>4.86632</td>\n",
       "    </tr>\n",
       "  </tbody>\n",
       "</table>\n",
       "<p>91 rows × 1 columns</p>\n",
       "</div>"
      ],
      "text/plain": [
       "           Rating\n",
       "Progress         \n",
       "0.00000   4.67391\n",
       "1.00000   4.64269\n",
       "2.00000   4.65476\n",
       "3.00000   4.66355\n",
       "4.00000   4.77733\n",
       "...           ...\n",
       "94.00000  5.00000\n",
       "95.00000  4.79412\n",
       "97.00000  5.00000\n",
       "98.00000  5.00000\n",
       "100.00000 4.86632\n",
       "\n",
       "[91 rows x 1 columns]"
      ]
     },
     "execution_count": 125,
     "metadata": {},
     "output_type": "execute_result"
    }
   ],
   "source": [
    "df.groupby('Progress').agg({'Rating':'mean'})"
   ]
  },
  {
   "cell_type": "markdown",
   "id": "0c5ec8ca-78e5-4fde-8e0a-d5f447216630",
   "metadata": {},
   "source": [
    "Yukarıdaki analize bakınca kursun izlenme oranı ile verilen puan arasında bir iişki var gibi."
   ]
  },
  {
   "cell_type": "code",
   "execution_count": 128,
   "id": "b44ff163-1b5f-47e3-940f-53052647e55d",
   "metadata": {},
   "outputs": [],
   "source": [
    "def user_based_weighted_average(dataframe,w1=0.22,w2=0.24,w3=0.26,w4=0.28):\n",
    "    return df.loc[df['Progress']<=10,'Rating'].mean() * w1 + \\\n",
    "           df.loc[(df['Progress'] > 10) & (df['Progress'] <=45),'Rating'].mean()*w2 +\\\n",
    "           df.loc[(df['Progress'] > 45) & (df['Progress'] <=75),'Rating'].mean()*w3 +\\\n",
    "           df.loc[(df['Progress'] > 75) ,'Rating'].mean()*w4 "
   ]
  },
  {
   "cell_type": "code",
   "execution_count": 130,
   "id": "157e98bd-2016-4fec-8c34-b55b5f42ec70",
   "metadata": {},
   "outputs": [
    {
     "data": {
      "text/plain": [
       "4.800257704672543"
      ]
     },
     "execution_count": 130,
     "metadata": {},
     "output_type": "execute_result"
    }
   ],
   "source": [
    "user_based_weighted_average(df)"
   ]
  },
  {
   "cell_type": "markdown",
   "id": "3b8dde44-9405-413a-ad08-22d6c3cfeef4",
   "metadata": {},
   "source": [
    "<span style=\"color: blue; font-weight: bold;\">4-AĞIRLIKLI DERECELENDİRME(WEİGHTED RATİNG)</span>"
   ]
  },
  {
   "cell_type": "code",
   "execution_count": 134,
   "id": "4f94bbcb-43ec-40d1-9fed-d1b3543d9d80",
   "metadata": {},
   "outputs": [],
   "source": [
    "def course_weighted_rating(dataframe, time_w=0.5, user_w=0.5):\n",
    "    return time_based_weighted_average(dataframe, w1=0.28,w2=0.26,w3=0.24,w4=0.22)*time_w+\\\n",
    "           user_based_weighted_average(dataframe,w1=0.22,w2=0.24,w3=0.26,w4=0.28)*user_w"
   ]
  },
  {
   "cell_type": "code",
   "execution_count": 136,
   "id": "db101ddb-ee86-4aa5-934b-85e08b0d4103",
   "metadata": {},
   "outputs": [
    {
     "data": {
      "text/plain": [
       "4.782641693469868"
      ]
     },
     "execution_count": 136,
     "metadata": {},
     "output_type": "execute_result"
    }
   ],
   "source": [
    "course_weighted_rating(df, time_w=0.5, user_w=0.5)"
   ]
  },
  {
   "cell_type": "markdown",
   "id": "6ffe358e-878d-496e-9d11-08b7750e1f35",
   "metadata": {},
   "source": [
    "Not: Ağırlıkları istediğimiz şeklide değiştirebiliriz. "
   ]
  },
  {
   "cell_type": "code",
   "execution_count": null,
   "id": "68a3de7e-4c40-4cb8-aa3e-4b503b773d12",
   "metadata": {},
   "outputs": [],
   "source": []
  }
 ],
 "metadata": {
  "kernelspec": {
   "display_name": "Python [conda env:base] *",
   "language": "python",
   "name": "conda-base-py"
  },
  "language_info": {
   "codemirror_mode": {
    "name": "ipython",
    "version": 3
   },
   "file_extension": ".py",
   "mimetype": "text/x-python",
   "name": "python",
   "nbconvert_exporter": "python",
   "pygments_lexer": "ipython3",
   "version": "3.12.7"
  }
 },
 "nbformat": 4,
 "nbformat_minor": 5
}
