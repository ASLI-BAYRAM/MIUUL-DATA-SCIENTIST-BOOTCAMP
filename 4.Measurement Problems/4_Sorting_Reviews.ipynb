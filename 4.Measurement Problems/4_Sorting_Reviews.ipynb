{
 "cells": [
  {
   "cell_type": "markdown",
   "id": "0429a2fb-4a11-4f51-b5f1-4bc00ada0ced",
   "metadata": {},
   "source": [
    " <h1 style=\"text-align: center; color: RED\">ÖLÇÜMLEME PROBLEMLERİ</h1>"
   ]
  },
  {
   "cell_type": "markdown",
   "id": "d80844a3-94bc-4ad9-8007-0645b341e596",
   "metadata": {},
   "source": [
    " <h2 style=\"text-align: center; color: RED\">SORTİNG REVİEWS(YORUM SIRALAMA)</h2>\n",
    "\n",
    "Yorum sıralama (Sorting Reviews), kullanıcıların yaptığı incelemeleri belirli bir kritere göre önceliklendirerek en önemli veya en güvenilir yorumları en üstte göstermeyi amaçlar.Bir e-ticaret platformunda, film veya ürün değerlendirme sistemlerinde en iyi sıralama stratejisi, kullanıcıların en faydalı yorumları görmesini sağlar."
   ]
  },
  {
   "cell_type": "code",
   "execution_count": 45,
   "id": "130517b9-3652-40ba-97b6-600251d66677",
   "metadata": {},
   "outputs": [],
   "source": [
    "import pandas as pd\n",
    "from sklearn.preprocessing import MinMaxScaler\n",
    "import math\n",
    "import scipy.stats as st\n",
    "pd.set_option('display.max_columns',None)\n",
    "pd.set_option('display.max_rows',None)\n",
    "pd.set_option('display.float_format', lambda x : '% .5f' % x)"
   ]
  },
  {
   "cell_type": "markdown",
   "id": "09b9765a-a586-471d-82d1-445af28ae52e",
   "metadata": {},
   "source": [
    "<span style=\"color: blue; font-weight: bold;\">1-UP-DOWN DIFFERENT SCORE</span>\n",
    "\n",
    "(up_ratings)-(down_ratings)"
   ]
  },
  {
   "cell_type": "markdown",
   "id": "052cfa59-f36d-45ce-afc3-8aa5b661bab3",
   "metadata": {},
   "source": [
    "Yorum 1 : 600 like 400 dislike\n",
    "\n",
    "Yorum 2 : 5500 like 4500 dislike\n",
    "\n",
    "Bu yorumlardan hangisini şecerdiniz?"
   ]
  },
  {
   "cell_type": "code",
   "execution_count": 6,
   "id": "f9e6014c-7751-4bca-a87a-6201ce086649",
   "metadata": {},
   "outputs": [],
   "source": [
    "def score_up_down_diff(up, down):\n",
    "    return up-down"
   ]
  },
  {
   "cell_type": "code",
   "execution_count": 8,
   "id": "0a3130d2-41b5-4242-be77-22a52bd2b706",
   "metadata": {},
   "outputs": [
    {
     "data": {
      "text/plain": [
       "200"
      ]
     },
     "execution_count": 8,
     "metadata": {},
     "output_type": "execute_result"
    }
   ],
   "source": [
    "score_up_down_diff(600, 400)#yorum1"
   ]
  },
  {
   "cell_type": "code",
   "execution_count": 10,
   "id": "b93e5e23-ea99-47fd-87d1-b4bd18de8bdd",
   "metadata": {},
   "outputs": [
    {
     "data": {
      "text/plain": [
       "1000"
      ]
     },
     "execution_count": 10,
     "metadata": {},
     "output_type": "execute_result"
    }
   ],
   "source": [
    "score_up_down_diff(5500, 4500)#yorum2"
   ]
  },
  {
   "cell_type": "markdown",
   "id": "140cb09a-77eb-4cd2-bfca-4b8b73071e15",
   "metadata": {},
   "source": [
    "* Görünüşe göre 2. yorum seçilir. Fakat şöyle bir sorun var biri 1000 yorum almışken diğeri 10000 yorum almış.Yüzdelik skorlara bakıldığında yorum1'in pozitif skoru %60 iken yorum2'nin pozitif skoru %55 görünüyor. Yani up-down bizi istediğimiz sonuca götürmeyecektir."
   ]
  },
  {
   "cell_type": "markdown",
   "id": "5f9d6765-20ce-4501-baf6-9bd50440d286",
   "metadata": {},
   "source": [
    "<span style=\"color: blue; font-weight: bold;\">2-AVERAGE RATİNG(ORTALAMA PUANI)</span>"
   ]
  },
  {
   "cell_type": "markdown",
   "id": "b410c1ae-6770-4c31-b322-53eb49121aa7",
   "metadata": {},
   "source": [
    "Score = Average Rating = (up ratings) / (all ratings)"
   ]
  },
  {
   "cell_type": "code",
   "execution_count": 23,
   "id": "5be1da35-2b06-4bb5-9e61-fd2b0cb2d6bf",
   "metadata": {},
   "outputs": [],
   "source": [
    "def score_average_rating(up,down):\n",
    "    if up + down ==0:\n",
    "        return 0\n",
    "    return up / (up + down)"
   ]
  },
  {
   "cell_type": "code",
   "execution_count": 25,
   "id": "da9ab5a3-c6c2-4aa8-a89b-9512b853551a",
   "metadata": {},
   "outputs": [
    {
     "data": {
      "text/plain": [
       "0.6"
      ]
     },
     "execution_count": 25,
     "metadata": {},
     "output_type": "execute_result"
    }
   ],
   "source": [
    "score_average_rating(600, 400)#yorum1"
   ]
  },
  {
   "cell_type": "code",
   "execution_count": 27,
   "id": "8800757e-e208-4c10-86d6-f02236b09378",
   "metadata": {},
   "outputs": [
    {
     "data": {
      "text/plain": [
       "0.55"
      ]
     },
     "execution_count": 27,
     "metadata": {},
     "output_type": "execute_result"
    }
   ],
   "source": [
    "score_average_rating(5500, 4500)#yorum2"
   ]
  },
  {
   "cell_type": "markdown",
   "id": "941951a6-b66f-44a6-9323-2843a2b38db7",
   "metadata": {},
   "source": [
    "Başka bir seneryo ele alalım\n",
    "\n",
    "2 like 0 dislike toplamda 2 yorum\n",
    "\n",
    "100 like 1 dislike toplamda 101 yorum alan 2 ayrı yorum olsun bunları avera_rating_score göre secelim."
   ]
  },
  {
   "cell_type": "code",
   "execution_count": 30,
   "id": "6b8fd0c2-4422-4169-9436-7f781da506e9",
   "metadata": {},
   "outputs": [
    {
     "data": {
      "text/plain": [
       "1.0"
      ]
     },
     "execution_count": 30,
     "metadata": {},
     "output_type": "execute_result"
    }
   ],
   "source": [
    "score_average_rating(2, 0)#yorum1"
   ]
  },
  {
   "cell_type": "code",
   "execution_count": 32,
   "id": "b0a62687-8ef5-4b64-8521-f279bc9705bd",
   "metadata": {},
   "outputs": [
    {
     "data": {
      "text/plain": [
       "0.9900990099009901"
      ]
     },
     "execution_count": 32,
     "metadata": {},
     "output_type": "execute_result"
    }
   ],
   "source": [
    "score_average_rating(100, 1)#yorum2"
   ]
  },
  {
   "cell_type": "markdown",
   "id": "057656d9-7c18-4f93-9337-26ce81fe30b5",
   "metadata": {},
   "source": [
    "* Yukarıdaki sonuçlara bakıldığında 2 beğeni alan yorum ilk sırada yer alır. Fakat görüyoruz ki 2. yorumun beğenisi daha fazla.\n",
    "Yani bu yöntemde bizi istediğimiz sonuca ulaştırmadı.Oran bilgisini yakaladık fakat frekans bilgisi göz ardı edilmiş oldu."
   ]
  },
  {
   "cell_type": "markdown",
   "id": "12defdfd-318a-49f8-bdb9-d1d8eed4cf7e",
   "metadata": {},
   "source": [
    "<span style=\"color: blue; font-weight: bold;\">3-WİLSON LOWER BOUND SCORE</span>\n",
    "\n",
    "Wilson Lower Bound Score (WLB), derecelendirme sistemlerinde (örneğin ürün yorumları, kullanıcı puanları gibi) bir içeriğin güvenilirliğini ölçmek için kullanılan istatistiksel bir yöntemdir.Bir ürünün aldığı pozitif ve negatif oyları dikkate alarak, belirli bir güven aralığında (genelde %95) \"bu ürünün gerçek puanı en az ne olabilir?\" sorusuna yanıt verir.Wilson Lower Bound, sadece “puanı yüksek” değil, “puanı yüksek ve yeterince oy almış” içerikleri öne çıkarmak için kullanılır.\n",
    "\n"
   ]
  },
  {
   "cell_type": "code",
   "execution_count": 47,
   "id": "a1421d3d-d1e9-434d-86fb-ba07310c61b1",
   "metadata": {},
   "outputs": [],
   "source": [
    "def wilson_lower_bound(up, down, confidence=0.95):\n",
    "    \"\"\"\n",
    "    Wilson Lower Bound Score hesapla\n",
    "\n",
    "    - Bernoulli parametresi p için hesaplanacak güven aralığının alt sınırı WLB skoru olarak kabul edilir.\n",
    "    - Bernoulli dağılımı, iki olasılıklı (binary) olayları modelleyen bir istatistiksel dağılımdır\n",
    "    - Başarı (1) → Örneğin, \"Beğeni aldı\" (Upvote)\n",
    "    - Başarısızlık (0) → Örneğin, \"Beğeni almadı\" (Downvote)\n",
    "    - Hesaplanacak skor ürün sıralaması için kullanılır.\n",
    "    - Not:\n",
    "    Eğer skorlar 1-5 arasıdaysa 1-3 negatif, 4-5 pozitif olarak işaretlenir ve bernoulli'ye uygun hale getirilebilir.\n",
    "    Bu beraberinde bazı problemleri de getirir. Bu sebeple bayesian average rating yapmak gerekir.\n",
    "    Bernoulli dağılımı, sadece iki olası çıktısı olan olayları modeller:\n",
    "    Başarı (1)\n",
    "    Başarısızlık (0)\n",
    "\n",
    "    Parameters\n",
    "    ----------\n",
    "    up: int\n",
    "        up count\n",
    "    down: int\n",
    "        down count\n",
    "    confidence: float\n",
    "        confidence\n",
    "\n",
    "    Returns\n",
    "    -------\n",
    "    wilson score: float\n",
    "\n",
    "    \"\"\"\n",
    "    n = up + down\n",
    "    if n == 0:\n",
    "        return 0\n",
    "    z = st.norm.ppf(1 - (1 - confidence) / 2)\n",
    "    phat = 1.0 * up / n\n",
    "    return (phat + z * z / (2 * n) - z * math.sqrt((phat * (1 - phat) + z * z / (4 * n)) / n)) / (1 + z * z / n)"
   ]
  },
  {
   "cell_type": "code",
   "execution_count": 49,
   "id": "90a58a99-398e-4aaf-89bb-b18576e1b49c",
   "metadata": {},
   "outputs": [
    {
     "data": {
      "text/plain": [
       "0.5693094295142663"
      ]
     },
     "execution_count": 49,
     "metadata": {},
     "output_type": "execute_result"
    }
   ],
   "source": [
    "wilson_lower_bound(600,400)"
   ]
  },
  {
   "cell_type": "code",
   "execution_count": 51,
   "id": "f064dd9a-13fb-490d-94d2-e9fdd824049e",
   "metadata": {},
   "outputs": [
    {
     "data": {
      "text/plain": [
       "0.5402319557715324"
      ]
     },
     "execution_count": 51,
     "metadata": {},
     "output_type": "execute_result"
    }
   ],
   "source": [
    "wilson_lower_bound(5500,4500)"
   ]
  },
  {
   "cell_type": "code",
   "execution_count": 53,
   "id": "85e2d8d6-dc66-4b99-afd9-c6ba8ade025e",
   "metadata": {},
   "outputs": [
    {
     "data": {
      "text/plain": [
       "0.3423802275066531"
      ]
     },
     "execution_count": 53,
     "metadata": {},
     "output_type": "execute_result"
    }
   ],
   "source": [
    "wilson_lower_bound(2,0)"
   ]
  },
  {
   "cell_type": "code",
   "execution_count": 55,
   "id": "8a46475c-29fe-42d4-aa81-3a8b93078a2d",
   "metadata": {},
   "outputs": [
    {
     "data": {
      "text/plain": [
       "0.9460328420055449"
      ]
     },
     "execution_count": 55,
     "metadata": {},
     "output_type": "execute_result"
    }
   ],
   "source": [
    "wilson_lower_bound(100,1)"
   ]
  },
  {
   "cell_type": "markdown",
   "id": "7e617d8e-191f-424e-ad16-c247f10e17d8",
   "metadata": {},
   "source": [
    "<span style=\"color: blue; font-weight: bold;\">ÖRNEK UYGULAMA</span>"
   ]
  },
  {
   "cell_type": "code",
   "execution_count": 59,
   "id": "7db95aec-5c95-4925-8238-aee8fa7e73c2",
   "metadata": {},
   "outputs": [],
   "source": [
    "up = [15, 70, 14, 4, 2, 5, 8, 37, 21, 52, 28, 147, 61, 30, 23, 40, 37, 61, 54, 18, 12, 68]\n",
    "down = [0, 2, 2, 2, 15, 2, 6, 5, 23, 8, 12, 2, 1, 1, 5, 1, 2, 6, 2, 0, 2, 2]\n",
    "comments = pd.DataFrame({\"up\": up, \"down\": down})"
   ]
  },
  {
   "cell_type": "code",
   "execution_count": 63,
   "id": "e48a7e3c-44e5-41e4-bc2a-ae8b3153fca8",
   "metadata": {},
   "outputs": [],
   "source": [
    "# score_pos_neg_diff\n",
    "comments[\"score_pos_neg_diff\"] = comments.apply(lambda x: score_up_down_diff(x[\"up\"],\n",
    "                                                                             x[\"down\"]), axis=1)"
   ]
  },
  {
   "cell_type": "code",
   "execution_count": 65,
   "id": "d47826ff-23ec-4a0f-9fd3-ca83640f2b7f",
   "metadata": {},
   "outputs": [],
   "source": [
    "# score_average_rating\n",
    "comments[\"score_average_rating\"] = comments.apply(lambda x: score_average_rating(x[\"up\"], x[\"down\"]), axis=1)"
   ]
  },
  {
   "cell_type": "code",
   "execution_count": 67,
   "id": "4a6ac8dd-0942-4952-8d1e-ed304cdaf317",
   "metadata": {},
   "outputs": [],
   "source": [
    "# wilson_lower_bound\n",
    "comments[\"wilson_lower_bound\"] = comments.apply(lambda x: wilson_lower_bound(x[\"up\"], x[\"down\"]), axis=1)"
   ]
  },
  {
   "cell_type": "code",
   "execution_count": 69,
   "id": "ef9120ad-39b6-4cf7-ab1a-d7f31f754313",
   "metadata": {},
   "outputs": [
    {
     "data": {
      "text/html": [
       "<div>\n",
       "<style scoped>\n",
       "    .dataframe tbody tr th:only-of-type {\n",
       "        vertical-align: middle;\n",
       "    }\n",
       "\n",
       "    .dataframe tbody tr th {\n",
       "        vertical-align: top;\n",
       "    }\n",
       "\n",
       "    .dataframe thead th {\n",
       "        text-align: right;\n",
       "    }\n",
       "</style>\n",
       "<table border=\"1\" class=\"dataframe\">\n",
       "  <thead>\n",
       "    <tr style=\"text-align: right;\">\n",
       "      <th></th>\n",
       "      <th>up</th>\n",
       "      <th>down</th>\n",
       "      <th>score_pos_neg_diff</th>\n",
       "      <th>score_average_rating</th>\n",
       "      <th>wilson_lower_bound</th>\n",
       "    </tr>\n",
       "  </thead>\n",
       "  <tbody>\n",
       "    <tr>\n",
       "      <th>0</th>\n",
       "      <td>15</td>\n",
       "      <td>0</td>\n",
       "      <td>15</td>\n",
       "      <td>1.00000</td>\n",
       "      <td>0.79612</td>\n",
       "    </tr>\n",
       "    <tr>\n",
       "      <th>1</th>\n",
       "      <td>70</td>\n",
       "      <td>2</td>\n",
       "      <td>68</td>\n",
       "      <td>0.97222</td>\n",
       "      <td>0.90426</td>\n",
       "    </tr>\n",
       "    <tr>\n",
       "      <th>2</th>\n",
       "      <td>14</td>\n",
       "      <td>2</td>\n",
       "      <td>12</td>\n",
       "      <td>0.87500</td>\n",
       "      <td>0.63977</td>\n",
       "    </tr>\n",
       "    <tr>\n",
       "      <th>3</th>\n",
       "      <td>4</td>\n",
       "      <td>2</td>\n",
       "      <td>2</td>\n",
       "      <td>0.66667</td>\n",
       "      <td>0.29999</td>\n",
       "    </tr>\n",
       "    <tr>\n",
       "      <th>4</th>\n",
       "      <td>2</td>\n",
       "      <td>15</td>\n",
       "      <td>-13</td>\n",
       "      <td>0.11765</td>\n",
       "      <td>0.03288</td>\n",
       "    </tr>\n",
       "    <tr>\n",
       "      <th>5</th>\n",
       "      <td>5</td>\n",
       "      <td>2</td>\n",
       "      <td>3</td>\n",
       "      <td>0.71429</td>\n",
       "      <td>0.35893</td>\n",
       "    </tr>\n",
       "    <tr>\n",
       "      <th>6</th>\n",
       "      <td>8</td>\n",
       "      <td>6</td>\n",
       "      <td>2</td>\n",
       "      <td>0.57143</td>\n",
       "      <td>0.32591</td>\n",
       "    </tr>\n",
       "    <tr>\n",
       "      <th>7</th>\n",
       "      <td>37</td>\n",
       "      <td>5</td>\n",
       "      <td>32</td>\n",
       "      <td>0.88095</td>\n",
       "      <td>0.75000</td>\n",
       "    </tr>\n",
       "    <tr>\n",
       "      <th>8</th>\n",
       "      <td>21</td>\n",
       "      <td>23</td>\n",
       "      <td>-2</td>\n",
       "      <td>0.47727</td>\n",
       "      <td>0.33755</td>\n",
       "    </tr>\n",
       "    <tr>\n",
       "      <th>9</th>\n",
       "      <td>52</td>\n",
       "      <td>8</td>\n",
       "      <td>44</td>\n",
       "      <td>0.86667</td>\n",
       "      <td>0.75835</td>\n",
       "    </tr>\n",
       "    <tr>\n",
       "      <th>10</th>\n",
       "      <td>28</td>\n",
       "      <td>12</td>\n",
       "      <td>16</td>\n",
       "      <td>0.70000</td>\n",
       "      <td>0.54570</td>\n",
       "    </tr>\n",
       "    <tr>\n",
       "      <th>11</th>\n",
       "      <td>147</td>\n",
       "      <td>2</td>\n",
       "      <td>145</td>\n",
       "      <td>0.98658</td>\n",
       "      <td>0.95238</td>\n",
       "    </tr>\n",
       "    <tr>\n",
       "      <th>12</th>\n",
       "      <td>61</td>\n",
       "      <td>1</td>\n",
       "      <td>60</td>\n",
       "      <td>0.98387</td>\n",
       "      <td>0.91413</td>\n",
       "    </tr>\n",
       "    <tr>\n",
       "      <th>13</th>\n",
       "      <td>30</td>\n",
       "      <td>1</td>\n",
       "      <td>29</td>\n",
       "      <td>0.96774</td>\n",
       "      <td>0.83806</td>\n",
       "    </tr>\n",
       "    <tr>\n",
       "      <th>14</th>\n",
       "      <td>23</td>\n",
       "      <td>5</td>\n",
       "      <td>18</td>\n",
       "      <td>0.82143</td>\n",
       "      <td>0.64409</td>\n",
       "    </tr>\n",
       "    <tr>\n",
       "      <th>15</th>\n",
       "      <td>40</td>\n",
       "      <td>1</td>\n",
       "      <td>39</td>\n",
       "      <td>0.97561</td>\n",
       "      <td>0.87405</td>\n",
       "    </tr>\n",
       "    <tr>\n",
       "      <th>16</th>\n",
       "      <td>37</td>\n",
       "      <td>2</td>\n",
       "      <td>35</td>\n",
       "      <td>0.94872</td>\n",
       "      <td>0.83114</td>\n",
       "    </tr>\n",
       "    <tr>\n",
       "      <th>17</th>\n",
       "      <td>61</td>\n",
       "      <td>6</td>\n",
       "      <td>55</td>\n",
       "      <td>0.91045</td>\n",
       "      <td>0.81807</td>\n",
       "    </tr>\n",
       "    <tr>\n",
       "      <th>18</th>\n",
       "      <td>54</td>\n",
       "      <td>2</td>\n",
       "      <td>52</td>\n",
       "      <td>0.96429</td>\n",
       "      <td>0.87881</td>\n",
       "    </tr>\n",
       "    <tr>\n",
       "      <th>19</th>\n",
       "      <td>18</td>\n",
       "      <td>0</td>\n",
       "      <td>18</td>\n",
       "      <td>1.00000</td>\n",
       "      <td>0.82412</td>\n",
       "    </tr>\n",
       "    <tr>\n",
       "      <th>20</th>\n",
       "      <td>12</td>\n",
       "      <td>2</td>\n",
       "      <td>10</td>\n",
       "      <td>0.85714</td>\n",
       "      <td>0.60059</td>\n",
       "    </tr>\n",
       "    <tr>\n",
       "      <th>21</th>\n",
       "      <td>68</td>\n",
       "      <td>2</td>\n",
       "      <td>66</td>\n",
       "      <td>0.97143</td>\n",
       "      <td>0.90168</td>\n",
       "    </tr>\n",
       "  </tbody>\n",
       "</table>\n",
       "</div>"
      ],
      "text/plain": [
       "     up  down  score_pos_neg_diff  score_average_rating  wilson_lower_bound\n",
       "0    15     0                  15               1.00000             0.79612\n",
       "1    70     2                  68               0.97222             0.90426\n",
       "2    14     2                  12               0.87500             0.63977\n",
       "3     4     2                   2               0.66667             0.29999\n",
       "4     2    15                 -13               0.11765             0.03288\n",
       "5     5     2                   3               0.71429             0.35893\n",
       "6     8     6                   2               0.57143             0.32591\n",
       "7    37     5                  32               0.88095             0.75000\n",
       "8    21    23                  -2               0.47727             0.33755\n",
       "9    52     8                  44               0.86667             0.75835\n",
       "10   28    12                  16               0.70000             0.54570\n",
       "11  147     2                 145               0.98658             0.95238\n",
       "12   61     1                  60               0.98387             0.91413\n",
       "13   30     1                  29               0.96774             0.83806\n",
       "14   23     5                  18               0.82143             0.64409\n",
       "15   40     1                  39               0.97561             0.87405\n",
       "16   37     2                  35               0.94872             0.83114\n",
       "17   61     6                  55               0.91045             0.81807\n",
       "18   54     2                  52               0.96429             0.87881\n",
       "19   18     0                  18               1.00000             0.82412\n",
       "20   12     2                  10               0.85714             0.60059\n",
       "21   68     2                  66               0.97143             0.90168"
      ]
     },
     "execution_count": 69,
     "metadata": {},
     "output_type": "execute_result"
    }
   ],
   "source": [
    "comments"
   ]
  },
  {
   "cell_type": "code",
   "execution_count": 71,
   "id": "5395de60-2e49-47a5-8581-fc228acfe970",
   "metadata": {},
   "outputs": [
    {
     "data": {
      "text/html": [
       "<div>\n",
       "<style scoped>\n",
       "    .dataframe tbody tr th:only-of-type {\n",
       "        vertical-align: middle;\n",
       "    }\n",
       "\n",
       "    .dataframe tbody tr th {\n",
       "        vertical-align: top;\n",
       "    }\n",
       "\n",
       "    .dataframe thead th {\n",
       "        text-align: right;\n",
       "    }\n",
       "</style>\n",
       "<table border=\"1\" class=\"dataframe\">\n",
       "  <thead>\n",
       "    <tr style=\"text-align: right;\">\n",
       "      <th></th>\n",
       "      <th>up</th>\n",
       "      <th>down</th>\n",
       "      <th>score_pos_neg_diff</th>\n",
       "      <th>score_average_rating</th>\n",
       "      <th>wilson_lower_bound</th>\n",
       "    </tr>\n",
       "  </thead>\n",
       "  <tbody>\n",
       "    <tr>\n",
       "      <th>11</th>\n",
       "      <td>147</td>\n",
       "      <td>2</td>\n",
       "      <td>145</td>\n",
       "      <td>0.98658</td>\n",
       "      <td>0.95238</td>\n",
       "    </tr>\n",
       "    <tr>\n",
       "      <th>12</th>\n",
       "      <td>61</td>\n",
       "      <td>1</td>\n",
       "      <td>60</td>\n",
       "      <td>0.98387</td>\n",
       "      <td>0.91413</td>\n",
       "    </tr>\n",
       "    <tr>\n",
       "      <th>1</th>\n",
       "      <td>70</td>\n",
       "      <td>2</td>\n",
       "      <td>68</td>\n",
       "      <td>0.97222</td>\n",
       "      <td>0.90426</td>\n",
       "    </tr>\n",
       "    <tr>\n",
       "      <th>21</th>\n",
       "      <td>68</td>\n",
       "      <td>2</td>\n",
       "      <td>66</td>\n",
       "      <td>0.97143</td>\n",
       "      <td>0.90168</td>\n",
       "    </tr>\n",
       "    <tr>\n",
       "      <th>18</th>\n",
       "      <td>54</td>\n",
       "      <td>2</td>\n",
       "      <td>52</td>\n",
       "      <td>0.96429</td>\n",
       "      <td>0.87881</td>\n",
       "    </tr>\n",
       "    <tr>\n",
       "      <th>15</th>\n",
       "      <td>40</td>\n",
       "      <td>1</td>\n",
       "      <td>39</td>\n",
       "      <td>0.97561</td>\n",
       "      <td>0.87405</td>\n",
       "    </tr>\n",
       "    <tr>\n",
       "      <th>13</th>\n",
       "      <td>30</td>\n",
       "      <td>1</td>\n",
       "      <td>29</td>\n",
       "      <td>0.96774</td>\n",
       "      <td>0.83806</td>\n",
       "    </tr>\n",
       "    <tr>\n",
       "      <th>16</th>\n",
       "      <td>37</td>\n",
       "      <td>2</td>\n",
       "      <td>35</td>\n",
       "      <td>0.94872</td>\n",
       "      <td>0.83114</td>\n",
       "    </tr>\n",
       "    <tr>\n",
       "      <th>19</th>\n",
       "      <td>18</td>\n",
       "      <td>0</td>\n",
       "      <td>18</td>\n",
       "      <td>1.00000</td>\n",
       "      <td>0.82412</td>\n",
       "    </tr>\n",
       "    <tr>\n",
       "      <th>17</th>\n",
       "      <td>61</td>\n",
       "      <td>6</td>\n",
       "      <td>55</td>\n",
       "      <td>0.91045</td>\n",
       "      <td>0.81807</td>\n",
       "    </tr>\n",
       "    <tr>\n",
       "      <th>0</th>\n",
       "      <td>15</td>\n",
       "      <td>0</td>\n",
       "      <td>15</td>\n",
       "      <td>1.00000</td>\n",
       "      <td>0.79612</td>\n",
       "    </tr>\n",
       "    <tr>\n",
       "      <th>9</th>\n",
       "      <td>52</td>\n",
       "      <td>8</td>\n",
       "      <td>44</td>\n",
       "      <td>0.86667</td>\n",
       "      <td>0.75835</td>\n",
       "    </tr>\n",
       "    <tr>\n",
       "      <th>7</th>\n",
       "      <td>37</td>\n",
       "      <td>5</td>\n",
       "      <td>32</td>\n",
       "      <td>0.88095</td>\n",
       "      <td>0.75000</td>\n",
       "    </tr>\n",
       "    <tr>\n",
       "      <th>14</th>\n",
       "      <td>23</td>\n",
       "      <td>5</td>\n",
       "      <td>18</td>\n",
       "      <td>0.82143</td>\n",
       "      <td>0.64409</td>\n",
       "    </tr>\n",
       "    <tr>\n",
       "      <th>2</th>\n",
       "      <td>14</td>\n",
       "      <td>2</td>\n",
       "      <td>12</td>\n",
       "      <td>0.87500</td>\n",
       "      <td>0.63977</td>\n",
       "    </tr>\n",
       "    <tr>\n",
       "      <th>20</th>\n",
       "      <td>12</td>\n",
       "      <td>2</td>\n",
       "      <td>10</td>\n",
       "      <td>0.85714</td>\n",
       "      <td>0.60059</td>\n",
       "    </tr>\n",
       "    <tr>\n",
       "      <th>10</th>\n",
       "      <td>28</td>\n",
       "      <td>12</td>\n",
       "      <td>16</td>\n",
       "      <td>0.70000</td>\n",
       "      <td>0.54570</td>\n",
       "    </tr>\n",
       "    <tr>\n",
       "      <th>5</th>\n",
       "      <td>5</td>\n",
       "      <td>2</td>\n",
       "      <td>3</td>\n",
       "      <td>0.71429</td>\n",
       "      <td>0.35893</td>\n",
       "    </tr>\n",
       "    <tr>\n",
       "      <th>8</th>\n",
       "      <td>21</td>\n",
       "      <td>23</td>\n",
       "      <td>-2</td>\n",
       "      <td>0.47727</td>\n",
       "      <td>0.33755</td>\n",
       "    </tr>\n",
       "    <tr>\n",
       "      <th>6</th>\n",
       "      <td>8</td>\n",
       "      <td>6</td>\n",
       "      <td>2</td>\n",
       "      <td>0.57143</td>\n",
       "      <td>0.32591</td>\n",
       "    </tr>\n",
       "    <tr>\n",
       "      <th>3</th>\n",
       "      <td>4</td>\n",
       "      <td>2</td>\n",
       "      <td>2</td>\n",
       "      <td>0.66667</td>\n",
       "      <td>0.29999</td>\n",
       "    </tr>\n",
       "    <tr>\n",
       "      <th>4</th>\n",
       "      <td>2</td>\n",
       "      <td>15</td>\n",
       "      <td>-13</td>\n",
       "      <td>0.11765</td>\n",
       "      <td>0.03288</td>\n",
       "    </tr>\n",
       "  </tbody>\n",
       "</table>\n",
       "</div>"
      ],
      "text/plain": [
       "     up  down  score_pos_neg_diff  score_average_rating  wilson_lower_bound\n",
       "11  147     2                 145               0.98658             0.95238\n",
       "12   61     1                  60               0.98387             0.91413\n",
       "1    70     2                  68               0.97222             0.90426\n",
       "21   68     2                  66               0.97143             0.90168\n",
       "18   54     2                  52               0.96429             0.87881\n",
       "15   40     1                  39               0.97561             0.87405\n",
       "13   30     1                  29               0.96774             0.83806\n",
       "16   37     2                  35               0.94872             0.83114\n",
       "19   18     0                  18               1.00000             0.82412\n",
       "17   61     6                  55               0.91045             0.81807\n",
       "0    15     0                  15               1.00000             0.79612\n",
       "9    52     8                  44               0.86667             0.75835\n",
       "7    37     5                  32               0.88095             0.75000\n",
       "14   23     5                  18               0.82143             0.64409\n",
       "2    14     2                  12               0.87500             0.63977\n",
       "20   12     2                  10               0.85714             0.60059\n",
       "10   28    12                  16               0.70000             0.54570\n",
       "5     5     2                   3               0.71429             0.35893\n",
       "8    21    23                  -2               0.47727             0.33755\n",
       "6     8     6                   2               0.57143             0.32591\n",
       "3     4     2                   2               0.66667             0.29999\n",
       "4     2    15                 -13               0.11765             0.03288"
      ]
     },
     "execution_count": 71,
     "metadata": {},
     "output_type": "execute_result"
    }
   ],
   "source": [
    "comments.sort_values('wilson_lower_bound', ascending=False)"
   ]
  },
  {
   "cell_type": "code",
   "execution_count": null,
   "id": "d976df78-a6ad-4db2-a9ff-64d2af1c6263",
   "metadata": {},
   "outputs": [],
   "source": []
  }
 ],
 "metadata": {
  "kernelspec": {
   "display_name": "Python [conda env:base] *",
   "language": "python",
   "name": "conda-base-py"
  },
  "language_info": {
   "codemirror_mode": {
    "name": "ipython",
    "version": 3
   },
   "file_extension": ".py",
   "mimetype": "text/x-python",
   "name": "python",
   "nbconvert_exporter": "python",
   "pygments_lexer": "ipython3",
   "version": "3.12.7"
  }
 },
 "nbformat": 4,
 "nbformat_minor": 5
}
