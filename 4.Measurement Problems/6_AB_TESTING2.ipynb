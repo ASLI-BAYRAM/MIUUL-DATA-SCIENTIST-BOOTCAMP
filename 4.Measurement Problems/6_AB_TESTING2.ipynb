{
 "cells": [
  {
   "cell_type": "markdown",
   "id": "0368fe16-3663-4449-80e0-63bb23ad0eaa",
   "metadata": {},
   "source": [
    " <h1 style=\"text-align: center; color: RED\">AB TESTING</h1>"
   ]
  },
  {
   "cell_type": "code",
   "execution_count": 6,
   "id": "6ed50ba7-4abc-4810-a59b-e92cbe2a3488",
   "metadata": {},
   "outputs": [],
   "source": [
    "import itertools\n",
    "import numpy as np\n",
    "import pandas as pd\n",
    "import matplotlib.pyplot as plt\n",
    "import seaborn as sns\n",
    "import statsmodels.stats.api as sms\n",
    "from scipy.stats import ttest_1samp, shapiro, levene, ttest_ind, mannwhitneyu, \\\n",
    "    pearsonr, spearmanr, kendalltau, f_oneway, kruskal\n",
    "from statsmodels.stats.proportion import proportions_ztest\n",
    "\n",
    "pd.set_option('display.max_columns', None)\n",
    "pd.set_option('display.max_rows', 10)\n",
    "pd.set_option('display.float_format', lambda x: '%.5f' % x)"
   ]
  },
  {
   "cell_type": "markdown",
   "id": "86b2d508-8694-4360-8c0d-902762fd14a7",
   "metadata": {},
   "source": [
    " <h2 style=\"text-align: center; color: RED\">HİPOTEZ TESTLERİ</h2>"
   ]
  },
  {
   "cell_type": "markdown",
   "id": "3e3bcdfe-236a-4cb5-8675-14a49f091637",
   "metadata": {},
   "source": [
    "Hipotez; bir inanışı, bir savı test etmek için kullanılan istatistiksel yöntemlerdir. Bizim odaklanacak olduğumuz konu ise:\n",
    "Grup karşılaştırmalarında temel amaç olası farklılıkların şans eser ortaya çıkıp çıkmadığını göstermeye çalışmaktır.\n",
    "\n",
    "\n",
    "Grup karşılaştırılmalarında temel amaç olası farklılıkların şans eser ortaya çıkıp çıkmadığını göstermeye çalışmaktır. Örneğin şöyle bir savımız olsun:\n",
    "Mobil uygulamada yapılan arayüz değişikliği sonrasında kullanıcıların uygulamada geçirdikleri günlük ortalama süre arttı mı?\n",
    "\n",
    "Yukarıdaki sav için ilk arayüz A grubundaki örneklemlere denetilsin, B grubundaki örneklemelre ise yeni arayüz denetilsin.Çıkan sonuÇ A grubu için 55 dk iken B grubu için 58 dk olsun. Şimdi şu soruyu sorabiliriz iki arayüz arasında gerçekten bir fark var mı yoksa oluşan bu fark rastgele mi oluştu? İşte tam bu noktada AB test devreye girmektedir."
   ]
  },
  {
   "cell_type": "markdown",
   "id": "243d6d0b-6b38-4586-8afe-65512f9d9410",
   "metadata": {},
   "source": [
    "<span style=\"color: blue; font-weight: bold;\">1-AB TESTİ(BAĞIMSIZ İKİ ÖRNEKLEM T TESTİ)</span>\n",
    "\n",
    "İki grup ortalaması arasında karşılaştırma yapılmak istenildiğinde kullanılır. Bu test, grupların ortalamalarının birbirinden farklı olup olmadığını belirlemeye yardımcı olur."
   ]
  },
  {
   "cell_type": "markdown",
   "id": "295ed3dd-aa20-42d5-95f5-50fbc765d462",
   "metadata": {},
   "source": [
    "![Test](datasets/3.png)"
   ]
  },
  {
   "cell_type": "markdown",
   "id": "95e942bf-52fb-4724-a6b9-045fa4d7ff6c",
   "metadata": {},
   "source": [
    "H0:Yokluk hipotezidir. Sınayacak olduğumuz durum H0 hipotezindedir.Yani iki grup ortalaması arasında fark yoktur.\n",
    "Biz bu H0 hipotezini sınarız.H0 hipotezini reddetme veya reddedememeye göre iki grup ortalaması arasında fark olup olmadığını değerlendiririz."
   ]
  },
  {
   "cell_type": "markdown",
   "id": "c7ebe9c5-fe2f-4c04-a69c-e8a1b2a5ebe5",
   "metadata": {},
   "source": [
    "Kullanılacak formüller:\n",
    "![Test](datasets/4.png)\n",
    "Fakat biz bu formüllerle uğrşamayıp p < 0.05 üzerinden ilerleyecez."
   ]
  },
  {
   "cell_type": "markdown",
   "id": "02612c8b-d9c4-4f91-8f02-5f6df0bdc136",
   "metadata": {},
   "source": [
    "️**Bağımsız İki Örneklem T Testinin Varsayımları:**\n",
    "\n",
    "*Normallik:* Her iki gruptaki veri setinin normal dağıldığı varsayılır. shapiro testi ile yapılır.\n",
    "\n",
    "*Varyans Homojenliği:* İki grubun varyanslarının benzer olduğu kabul edilir. Eğer varyanslar eşit değilse, Welch'in t testi kullanılır.\n"
   ]
  },
  {
   "cell_type": "markdown",
   "id": "9e5fc4c4-6c11-48d2-a2fc-06f30d0c3602",
   "metadata": {},
   "source": [
    "* Adım 1: Hipotez Kurma\n",
    "Bu test için iki tür hipotez kurulur:\n",
    "Null Hipotezi (H₀): İki grubun ortalamaları arasında fark yoktur.\n",
    "H0:μ1=μ2\n",
    "Alternatif Hipotez (H₁): İki grubun ortalamaları arasında fark vardır.\n",
    "H1:μ1≠μ2\n",
    "\n",
    "* Adım 2: Testin Uygulanacağı Varsayımları Kontrol Etme\n",
    "Bağımsızlık: İki grup bağımsız olmalıdır (örneğin, bir grubun diğer grubun elemanları ile ilişkisi olmamalıdır).\n",
    "Normal Dağılım: Veriler, her iki grupta da yaklaşık olarak normal dağılmalıdır.\n",
    "Varyansların Eşitliği (Opsiyonel): Eğer varyansların eşit olduğu varsayımı sağlanıyorsa, eşit varyanslı test kullanılır. Aksi halde, eşit olmayan varyanslı test kullanılır.\n",
    "\n",
    "* Adım 3: Test İstatistiğini Hesaplama\n",
    "\n",
    "* Adım 4:Test istatistiği ile p-değeri hesaplanır. Bu değeri kullanarak null hipotez reddedilip reddedilmeyeceğine karar verilir.Eğer p < 0.05 ise null hipotez reddedilir, yani gruplar arasında anlamlı bir fark vardır.Eğer p ≥ 0.05 ise null hipotez reddedilemez, yani gruplar arasında anlamlı bir fark yoktur.\n",
    "\n",
    "* Adım 5: Sonuçları Yorumlama\n",
    "p-değeri ve t-istatistiği kullanılarak sonuca varılır ve hipotez testinin sonucuna göre karar verilir.\n",
    "\n"
   ]
  },
  {
   "cell_type": "markdown",
   "id": "7185fb6b-289f-4d04-85b2-1da1140c7bdf",
   "metadata": {},
   "source": [
    "<span style=\"color: blue; font-weight: bold;\">2-AB TESTİ(BAĞIMSIZ İKİ ÖRNEKLEM T TESTİ) UYGULAMA-1</span>"
   ]
  },
  {
   "cell_type": "markdown",
   "id": "dd09f6ef-469f-4cea-aed9-b94ddf05c19f",
   "metadata": {},
   "source": [
    "**Uygulamalarda izlenecek adımlar:**\n",
    "* 1. Hipotezleri Kur\n",
    "* 2. Varsayım Kontrolü\n",
    "*    - 1. Normallik Varsayımı:dağılımlar normal\n",
    "*    - 2. Varyans Homojenliği:varyansaların benzer olması\n",
    "* 3. Hipotezin Uygulanması\n",
    "*    - 1. Varsayımlar sağlanıyorsa bağımsız iki örneklem t testi (parametrik test)\n",
    "*    - 2. Varsayımlar sağlanmıyorsa mannwhitneyu testi (non-parametrik test)\n",
    "* 4. p-value değerine göre sonuçları yorumla\n",
    "     \n",
    "* Not:\n",
    "- Normallik sağlanmıyorsa direk 2 numara. Varyans homojenliği sağlanmıyorsa 1 numaraya arguman girilir.\n",
    "\n",
    "- Normallik incelemesi öncesi aykırı değer incelemesi ve düzeltmesi yapmak faydalı olabilir.\n",
    "\n",
    "Yukarıdaki işlemleri ab testi eğer iki grup ortalamasına yönelikse bu adımları uygulayabiliriz."
   ]
  },
  {
   "cell_type": "code",
   "execution_count": 31,
   "id": "063f1992-bbe5-470d-8712-9ebd69dc8540",
   "metadata": {},
   "outputs": [],
   "source": [
    "############################\n",
    "# Uygulama 1: Sigara İçenler ile İçmeyenlerin Hesap Ortalamaları Arasında İstatistiksel Olarak Fark Var Mı?\n",
    "############################"
   ]
  },
  {
   "cell_type": "code",
   "execution_count": 37,
   "id": "cc88695d-5a60-4663-a8d2-bd49f52becf9",
   "metadata": {},
   "outputs": [],
   "source": [
    "df = sns.load_dataset('tips')"
   ]
  },
  {
   "cell_type": "code",
   "execution_count": 39,
   "id": "dc3ccee2-fc59-4c26-ac9d-43eb5d80001f",
   "metadata": {},
   "outputs": [
    {
     "data": {
      "text/html": [
       "<div>\n",
       "<style scoped>\n",
       "    .dataframe tbody tr th:only-of-type {\n",
       "        vertical-align: middle;\n",
       "    }\n",
       "\n",
       "    .dataframe tbody tr th {\n",
       "        vertical-align: top;\n",
       "    }\n",
       "\n",
       "    .dataframe thead th {\n",
       "        text-align: right;\n",
       "    }\n",
       "</style>\n",
       "<table border=\"1\" class=\"dataframe\">\n",
       "  <thead>\n",
       "    <tr style=\"text-align: right;\">\n",
       "      <th></th>\n",
       "      <th>total_bill</th>\n",
       "      <th>tip</th>\n",
       "      <th>sex</th>\n",
       "      <th>smoker</th>\n",
       "      <th>day</th>\n",
       "      <th>time</th>\n",
       "      <th>size</th>\n",
       "    </tr>\n",
       "  </thead>\n",
       "  <tbody>\n",
       "    <tr>\n",
       "      <th>0</th>\n",
       "      <td>16.99000</td>\n",
       "      <td>1.01000</td>\n",
       "      <td>Female</td>\n",
       "      <td>No</td>\n",
       "      <td>Sun</td>\n",
       "      <td>Dinner</td>\n",
       "      <td>2</td>\n",
       "    </tr>\n",
       "    <tr>\n",
       "      <th>1</th>\n",
       "      <td>10.34000</td>\n",
       "      <td>1.66000</td>\n",
       "      <td>Male</td>\n",
       "      <td>No</td>\n",
       "      <td>Sun</td>\n",
       "      <td>Dinner</td>\n",
       "      <td>3</td>\n",
       "    </tr>\n",
       "    <tr>\n",
       "      <th>2</th>\n",
       "      <td>21.01000</td>\n",
       "      <td>3.50000</td>\n",
       "      <td>Male</td>\n",
       "      <td>No</td>\n",
       "      <td>Sun</td>\n",
       "      <td>Dinner</td>\n",
       "      <td>3</td>\n",
       "    </tr>\n",
       "    <tr>\n",
       "      <th>3</th>\n",
       "      <td>23.68000</td>\n",
       "      <td>3.31000</td>\n",
       "      <td>Male</td>\n",
       "      <td>No</td>\n",
       "      <td>Sun</td>\n",
       "      <td>Dinner</td>\n",
       "      <td>2</td>\n",
       "    </tr>\n",
       "    <tr>\n",
       "      <th>4</th>\n",
       "      <td>24.59000</td>\n",
       "      <td>3.61000</td>\n",
       "      <td>Female</td>\n",
       "      <td>No</td>\n",
       "      <td>Sun</td>\n",
       "      <td>Dinner</td>\n",
       "      <td>4</td>\n",
       "    </tr>\n",
       "  </tbody>\n",
       "</table>\n",
       "</div>"
      ],
      "text/plain": [
       "   total_bill     tip     sex smoker  day    time  size\n",
       "0    16.99000 1.01000  Female     No  Sun  Dinner     2\n",
       "1    10.34000 1.66000    Male     No  Sun  Dinner     3\n",
       "2    21.01000 3.50000    Male     No  Sun  Dinner     3\n",
       "3    23.68000 3.31000    Male     No  Sun  Dinner     2\n",
       "4    24.59000 3.61000  Female     No  Sun  Dinner     4"
      ]
     },
     "execution_count": 39,
     "metadata": {},
     "output_type": "execute_result"
    }
   ],
   "source": [
    "df.head()"
   ]
  },
  {
   "cell_type": "code",
   "execution_count": 41,
   "id": "b490dc3d-d650-49d1-8a46-a7fcf4092ab7",
   "metadata": {},
   "outputs": [
    {
     "name": "stderr",
     "output_type": "stream",
     "text": [
      "C:\\Users\\ASLI\\AppData\\Local\\Temp\\ipykernel_16452\\1864663744.py:1: FutureWarning: The default of observed=False is deprecated and will be changed to True in a future version of pandas. Pass observed=False to retain current behavior or observed=True to adopt the future default and silence this warning.\n",
      "  df.groupby('smoker').agg({'total_bill':'mean'})\n"
     ]
    },
    {
     "data": {
      "text/html": [
       "<div>\n",
       "<style scoped>\n",
       "    .dataframe tbody tr th:only-of-type {\n",
       "        vertical-align: middle;\n",
       "    }\n",
       "\n",
       "    .dataframe tbody tr th {\n",
       "        vertical-align: top;\n",
       "    }\n",
       "\n",
       "    .dataframe thead th {\n",
       "        text-align: right;\n",
       "    }\n",
       "</style>\n",
       "<table border=\"1\" class=\"dataframe\">\n",
       "  <thead>\n",
       "    <tr style=\"text-align: right;\">\n",
       "      <th></th>\n",
       "      <th>total_bill</th>\n",
       "    </tr>\n",
       "    <tr>\n",
       "      <th>smoker</th>\n",
       "      <th></th>\n",
       "    </tr>\n",
       "  </thead>\n",
       "  <tbody>\n",
       "    <tr>\n",
       "      <th>Yes</th>\n",
       "      <td>20.75634</td>\n",
       "    </tr>\n",
       "    <tr>\n",
       "      <th>No</th>\n",
       "      <td>19.18828</td>\n",
       "    </tr>\n",
       "  </tbody>\n",
       "</table>\n",
       "</div>"
      ],
      "text/plain": [
       "        total_bill\n",
       "smoker            \n",
       "Yes       20.75634\n",
       "No        19.18828"
      ]
     },
     "execution_count": 41,
     "metadata": {},
     "output_type": "execute_result"
    }
   ],
   "source": [
    "df.groupby('smoker').agg({'total_bill':'mean'})"
   ]
  },
  {
   "cell_type": "markdown",
   "id": "f74a26e0-6e16-4a35-9750-7bb763a319d5",
   "metadata": {},
   "source": [
    "* Yukarıdaki ortalamalara bakıldıgında sigara içenlerin ödediği hesap ile içmeyenleirn ödedği hesap arasında fark var.Peki gerçekten istatistiksel bir fark var mı?"
   ]
  },
  {
   "cell_type": "markdown",
   "id": "b8dc2060-3460-4026-88ed-52ff89ddd9bc",
   "metadata": {},
   "source": [
    "**Adım1:** Hipotez kur\n",
    "\n",
    "H0=m1 = m2 (sigara içen ile içmeyenlerin ödediği hesaplar arasında fark yoktur.)\n",
    "\n",
    "H1= m1!=m2"
   ]
  },
  {
   "cell_type": "markdown",
   "id": "aba2dd91-423d-4fae-93a2-4980dc1cc1a8",
   "metadata": {},
   "source": [
    "**Adım2:** Varsayım Kontrolü\n",
    "\n",
    "* Normallik Varsayımı(bir değişkenin dağılımının standart normal dağılıma benzer olup olmadığının hipotez testidir.)\n",
    "\n",
    "  - H0: Normal dağılım varsayımı sağlanmaktadır.\n",
    "\n",
    "  - H1:..sağlanmamaktadır.\n",
    "* Varyans Homojenliği\n"
   ]
  },
  {
   "cell_type": "code",
   "execution_count": 57,
   "id": "65057c1f-a1fb-4454-93c3-b7d88cc818e5",
   "metadata": {},
   "outputs": [
    {
     "name": "stdout",
     "output_type": "stream",
     "text": [
      "Test Stat = 0.9367, p-value=0.0002\n"
     ]
    }
   ],
   "source": [
    "#Normallik varsayımı\n",
    "test_stat, pvalue = shapiro(df.loc[df['smoker']=='Yes','total_bill'])\n",
    "print('Test Stat = %.4f, p-value=%.4f' % (test_stat,pvalue))"
   ]
  },
  {
   "cell_type": "markdown",
   "id": "449cc9b9-4872-4be9-8ca9-9c765aa5c12b",
   "metadata": {},
   "source": [
    "* p < 0.05 ise ise H0 reddedilir. Değilse reddedilemez.\n",
    "  \n",
    "0.0002 < 0.05 olduğu için H0 reddidilir. Yani normal dağılım varsayımı sağlanmamaktadır."
   ]
  },
  {
   "cell_type": "code",
   "execution_count": 60,
   "id": "1dce0d8c-9715-459e-99c7-766f3bc504c5",
   "metadata": {},
   "outputs": [
    {
     "name": "stdout",
     "output_type": "stream",
     "text": [
      "Test Stat = 0.9045, p-value=0.0000\n"
     ]
    }
   ],
   "source": [
    "test_stat, pvalue = shapiro(df.loc[df['smoker']=='No','total_bill'])\n",
    "print('Test Stat = %.4f, p-value=%.4f' % (test_stat,pvalue))"
   ]
  },
  {
   "cell_type": "markdown",
   "id": "b90723e7-141a-43cf-ab7b-93b9316a19ad",
   "metadata": {},
   "source": [
    "0.0000 < 0.05 olduğu için H0 reddidilir. Yani normal dağılım varsayımı sağlanmamaktadır."
   ]
  },
  {
   "cell_type": "markdown",
   "id": "a2489d4d-e3a4-45de-b2bb-eca8ec947ac8",
   "metadata": {},
   "source": [
    "**Normallik varsayımı sağlanmadığı için non-paramertrik testi kullanacaz.** \n",
    "\n",
    "Varsayalımki normallik varsayımı sağlandı, sağlandıktan sonraki aşama ne olurdu?"
   ]
  },
  {
   "cell_type": "code",
   "execution_count": 73,
   "id": "1c1f5c18-9b9f-4916-bb35-4984295f55b5",
   "metadata": {},
   "outputs": [
    {
     "name": "stdout",
     "output_type": "stream",
     "text": [
      "Test Stat = 4.0537, p-value=0.0452\n"
     ]
    }
   ],
   "source": [
    "#Varyans homojenliği\n",
    "#H0: Varyanslar homojendir\n",
    "#H1: Varyanslar homojen değildir.\n",
    "test_stat, pvalue = levene(df.loc[df['smoker']=='Yes', 'total_bill'],\n",
    "                           df.loc[df['smoker']=='No', 'total_bill'])\n",
    "print('Test Stat = %.4f, p-value=%.4f' % (test_stat,pvalue))"
   ]
  },
  {
   "cell_type": "markdown",
   "id": "576d0d76-7800-4eee-92a9-096963ccb94b",
   "metadata": {},
   "source": [
    "0.0452 < 0.05 olduğu için H0 reddidilir. Yani varyans homojenliği sağlanmamaktadır.\n",
    "\n",
    "İki varyansta sağlanmamaktır. Bu durumda non-parametrik testi kullanırız"
   ]
  },
  {
   "cell_type": "markdown",
   "id": "deda5a63-8225-4da9-9122-492b3c000eb7",
   "metadata": {},
   "source": [
    "**Adım:** Hipotezin Uygulanması\n",
    "\n",
    "1-Varsayımlar sağlanıyorsa bağımsız iki örneklem t testi (parametrik test)\n",
    "\n",
    "2-Varsayımlar sağlanmıyorsa mannwhitneyu testi (non-parametrik test)"
   ]
  },
  {
   "cell_type": "code",
   "execution_count": 84,
   "id": "378eaa30-41f6-4976-9a11-442c5df12bf4",
   "metadata": {},
   "outputs": [
    {
     "name": "stdout",
     "output_type": "stream",
     "text": [
      "Test Stat = 1.3384, p-value=0.1820\n"
     ]
    }
   ],
   "source": [
    "#Varsayımlar sağlanmış gibi davranıp parametrik testi yapalım\n",
    "#T testi:\n",
    "# normallik varsayı sağlanıyorsa, \n",
    "#her iki varsayım sağlanıyorsa, \n",
    "#normallik varsayımı sağlanıyor varyans homojenliği sağlanmıyorsa da kullanılır fakat equa_var=True parametersi False yapılmalıdır.\n",
    "test_stat, pvalue = ttest_ind(df.loc[df['smoker']=='Yes', 'total_bill'],\n",
    "                              df.loc[df['smoker']=='No', 'total_bill'],\n",
    "                              equal_var=True)\n",
    "print('Test Stat = %.4f, p-value=%.4f' % (test_stat,pvalue))"
   ]
  },
  {
   "cell_type": "markdown",
   "id": "bfed3618-281a-492f-a200-9fd4a3f1ac0b",
   "metadata": {},
   "source": [
    "p < 0.05 oldugunda H0 reddidilir.\n",
    "0.1820 < 0.05 olmadığından dolayı H0 reddedilemez. Yani ortalamaları arasında bir fark yoktur deriz.Oluşan bir fark varsa bu şans eseri oluşmuştur diyebiliriz."
   ]
  },
  {
   "cell_type": "code",
   "execution_count": 90,
   "id": "91f53d03-6894-4d8b-b8be-530d4060259d",
   "metadata": {},
   "outputs": [
    {
     "name": "stdout",
     "output_type": "stream",
     "text": [
      "Test Stat = 7531.5000, p-value = 0.3413\n"
     ]
    }
   ],
   "source": [
    "#2 varyans sağlanmadığı için asıl yapmamız gereken test non-parametrik testtir.\n",
    "\n",
    "test_stat, pvalue = mannwhitneyu(df.loc[df[\"smoker\"] == \"Yes\", \"total_bill\"],\n",
    "                                 df.loc[df[\"smoker\"] == \"No\", \"total_bill\"])\n",
    "\n",
    "print('Test Stat = %.4f, p-value = %.4f' % (test_stat, pvalue))"
   ]
  },
  {
   "cell_type": "markdown",
   "id": "8b3eeb70-55e1-43a5-a85d-493f5a7f7fff",
   "metadata": {},
   "source": [
    "p < 0.05 oldugunda H0 reddidilir.  0.3413 < 0.05 olmadığından dolayı H0 reddedilemez. Yani ortalamaları arasında bir fark yoktur deriz.Oluşan bir fark varsa bu şans eseri oluşmuştur diyebiliriz."
   ]
  },
  {
   "cell_type": "markdown",
   "id": "a88d90ad-e799-4692-a0f4-6d20c4cfef82",
   "metadata": {},
   "source": [
    "<span style=\"color: blue; font-weight: bold;\">2-AB TESTİ(BAĞIMSIZ İKİ ÖRNEKLEM T TESTİ) UYGULAMA-2</span>"
   ]
  },
  {
   "cell_type": "code",
   "execution_count": 4,
   "id": "d3fee82c-e137-43b0-b917-a8a4d88cea91",
   "metadata": {},
   "outputs": [],
   "source": [
    "############################\n",
    "# Uygulama 2: Kadın ve Erkek Yolcuların Yaş Ortalamaları Arasında İstatistiksel Olarak Fark Var Mı?\n",
    "############################"
   ]
  },
  {
   "cell_type": "code",
   "execution_count": 93,
   "id": "1d34b7f0-c011-491c-a5d3-616686863331",
   "metadata": {},
   "outputs": [],
   "source": [
    "df = sns.load_dataset('titanic')"
   ]
  },
  {
   "cell_type": "code",
   "execution_count": 95,
   "id": "7605f721-bffd-4e67-a514-5fb49cbe9618",
   "metadata": {},
   "outputs": [
    {
     "data": {
      "text/html": [
       "<div>\n",
       "<style scoped>\n",
       "    .dataframe tbody tr th:only-of-type {\n",
       "        vertical-align: middle;\n",
       "    }\n",
       "\n",
       "    .dataframe tbody tr th {\n",
       "        vertical-align: top;\n",
       "    }\n",
       "\n",
       "    .dataframe thead th {\n",
       "        text-align: right;\n",
       "    }\n",
       "</style>\n",
       "<table border=\"1\" class=\"dataframe\">\n",
       "  <thead>\n",
       "    <tr style=\"text-align: right;\">\n",
       "      <th></th>\n",
       "      <th>survived</th>\n",
       "      <th>pclass</th>\n",
       "      <th>sex</th>\n",
       "      <th>age</th>\n",
       "      <th>sibsp</th>\n",
       "      <th>parch</th>\n",
       "      <th>fare</th>\n",
       "      <th>embarked</th>\n",
       "      <th>class</th>\n",
       "      <th>who</th>\n",
       "      <th>adult_male</th>\n",
       "      <th>deck</th>\n",
       "      <th>embark_town</th>\n",
       "      <th>alive</th>\n",
       "      <th>alone</th>\n",
       "    </tr>\n",
       "  </thead>\n",
       "  <tbody>\n",
       "    <tr>\n",
       "      <th>0</th>\n",
       "      <td>0</td>\n",
       "      <td>3</td>\n",
       "      <td>male</td>\n",
       "      <td>22.00000</td>\n",
       "      <td>1</td>\n",
       "      <td>0</td>\n",
       "      <td>7.25000</td>\n",
       "      <td>S</td>\n",
       "      <td>Third</td>\n",
       "      <td>man</td>\n",
       "      <td>True</td>\n",
       "      <td>NaN</td>\n",
       "      <td>Southampton</td>\n",
       "      <td>no</td>\n",
       "      <td>False</td>\n",
       "    </tr>\n",
       "    <tr>\n",
       "      <th>1</th>\n",
       "      <td>1</td>\n",
       "      <td>1</td>\n",
       "      <td>female</td>\n",
       "      <td>38.00000</td>\n",
       "      <td>1</td>\n",
       "      <td>0</td>\n",
       "      <td>71.28330</td>\n",
       "      <td>C</td>\n",
       "      <td>First</td>\n",
       "      <td>woman</td>\n",
       "      <td>False</td>\n",
       "      <td>C</td>\n",
       "      <td>Cherbourg</td>\n",
       "      <td>yes</td>\n",
       "      <td>False</td>\n",
       "    </tr>\n",
       "    <tr>\n",
       "      <th>2</th>\n",
       "      <td>1</td>\n",
       "      <td>3</td>\n",
       "      <td>female</td>\n",
       "      <td>26.00000</td>\n",
       "      <td>0</td>\n",
       "      <td>0</td>\n",
       "      <td>7.92500</td>\n",
       "      <td>S</td>\n",
       "      <td>Third</td>\n",
       "      <td>woman</td>\n",
       "      <td>False</td>\n",
       "      <td>NaN</td>\n",
       "      <td>Southampton</td>\n",
       "      <td>yes</td>\n",
       "      <td>True</td>\n",
       "    </tr>\n",
       "    <tr>\n",
       "      <th>3</th>\n",
       "      <td>1</td>\n",
       "      <td>1</td>\n",
       "      <td>female</td>\n",
       "      <td>35.00000</td>\n",
       "      <td>1</td>\n",
       "      <td>0</td>\n",
       "      <td>53.10000</td>\n",
       "      <td>S</td>\n",
       "      <td>First</td>\n",
       "      <td>woman</td>\n",
       "      <td>False</td>\n",
       "      <td>C</td>\n",
       "      <td>Southampton</td>\n",
       "      <td>yes</td>\n",
       "      <td>False</td>\n",
       "    </tr>\n",
       "    <tr>\n",
       "      <th>4</th>\n",
       "      <td>0</td>\n",
       "      <td>3</td>\n",
       "      <td>male</td>\n",
       "      <td>35.00000</td>\n",
       "      <td>0</td>\n",
       "      <td>0</td>\n",
       "      <td>8.05000</td>\n",
       "      <td>S</td>\n",
       "      <td>Third</td>\n",
       "      <td>man</td>\n",
       "      <td>True</td>\n",
       "      <td>NaN</td>\n",
       "      <td>Southampton</td>\n",
       "      <td>no</td>\n",
       "      <td>True</td>\n",
       "    </tr>\n",
       "  </tbody>\n",
       "</table>\n",
       "</div>"
      ],
      "text/plain": [
       "   survived  pclass     sex      age  sibsp  parch     fare embarked  class  \\\n",
       "0         0       3    male 22.00000      1      0  7.25000        S  Third   \n",
       "1         1       1  female 38.00000      1      0 71.28330        C  First   \n",
       "2         1       3  female 26.00000      0      0  7.92500        S  Third   \n",
       "3         1       1  female 35.00000      1      0 53.10000        S  First   \n",
       "4         0       3    male 35.00000      0      0  8.05000        S  Third   \n",
       "\n",
       "     who  adult_male deck  embark_town alive  alone  \n",
       "0    man        True  NaN  Southampton    no  False  \n",
       "1  woman       False    C    Cherbourg   yes  False  \n",
       "2  woman       False  NaN  Southampton   yes   True  \n",
       "3  woman       False    C  Southampton   yes  False  \n",
       "4    man        True  NaN  Southampton    no   True  "
      ]
     },
     "execution_count": 95,
     "metadata": {},
     "output_type": "execute_result"
    }
   ],
   "source": [
    "df.head()"
   ]
  },
  {
   "cell_type": "code",
   "execution_count": 97,
   "id": "e3daf24f-0a06-40ba-8211-4dc349086eba",
   "metadata": {},
   "outputs": [
    {
     "data": {
      "text/plain": [
       "sex\n",
       "female   27.91571\n",
       "male     30.72664\n",
       "Name: age, dtype: float64"
      ]
     },
     "execution_count": 97,
     "metadata": {},
     "output_type": "execute_result"
    }
   ],
   "source": [
    "df.groupby('sex')['age'].mean()#ortalamalar arasında bir fark var gibi görünüyor."
   ]
  },
  {
   "cell_type": "markdown",
   "id": "97bb150f-4d10-4fbe-9aec-0053ed4f314f",
   "metadata": {},
   "source": [
    "**Uygulamalarda izlenecek adımlar:**\n",
    "* 1. Hipotezleri Kur\n",
    "* 2. Varsayım Kontrolü\n",
    "*    - 1. Normallik Varsayımı:dağılımlar normal\n",
    "*    - 2. Varyans Homojenliği:varyansaların benzer olması\n",
    "* 3. Hipotezin Uygulanması\n",
    "*    - 1. Varsayımlar sağlanıyorsa bağımsız iki örneklem t testi (parametrik test)\n",
    "*    - 2. Varsayımlar sağlanmıyorsa mannwhitneyu testi (non-parametrik test)\n",
    "* 4. p-value değerine göre sonuçları yorumla\n",
    "     \n",
    "* Not:\n",
    "- Normallik sağlanmıyorsa direk 2 numara. Varyans homojenliği sağlanmıyorsa 1 numaraya arguman girilir.\n",
    "\n",
    "- Normallik incelemesi öncesi aykırı değer incelemesi ve düzeltmesi yapmak faydalı olabilir.\n",
    "\n",
    "Yukarıdaki işlemleri ab testi eğer iki grup ortalamasına yönelikse bu adımları uygulayabiliriz."
   ]
  },
  {
   "cell_type": "code",
   "execution_count": 17,
   "id": "1b541429-056f-45e0-ab5f-f3eae9c6544f",
   "metadata": {},
   "outputs": [],
   "source": [
    "#1)HİPOTEZLERİ KUR\n",
    "#H0:m1=2 (Kadın ve erkeklerin yaş ortalamaları arasında fark yoktur.)\n",
    "#H1:m1!=m2 (Fark vardır.)"
   ]
  },
  {
   "cell_type": "code",
   "execution_count": 99,
   "id": "26c0d7de-afc2-46db-8bcf-fbbb8f4adc64",
   "metadata": {},
   "outputs": [
    {
     "name": "stdout",
     "output_type": "stream",
     "text": [
      "Test_stat = 0.9848, p-value=0.0071\n"
     ]
    }
   ],
   "source": [
    "#2)VARSAYIMLARI İNCELE\n",
    "####Normallik Varsayımı####\n",
    "#- H0: Normal dağılım varsayımı sağlanmaktadır.\n",
    "#- H1:..sağlanmamaktadır.\n",
    "\n",
    "test_stat, pvalue = shapiro(df.loc[df['sex']=='female', 'age'].dropna())\n",
    "print('Test_stat = %.4f, p-value=%.4f' %(test_stat,pvalue))"
   ]
  },
  {
   "cell_type": "markdown",
   "id": "4f2358b7-93b6-45c4-bf61-db937deff768",
   "metadata": {},
   "source": [
    "* p < 0.05 ise ise H0 reddedilir. Değilse reddedilemez.\n",
    "\n",
    "  0.0071 < 0.05 oldugundan h0 reddedilir. Yani normal dağılım varsayımı sağlanmamaktadır."
   ]
  },
  {
   "cell_type": "code",
   "execution_count": 101,
   "id": "b9ac2cf5-8eb0-4747-8a85-fac0cbfd9e38",
   "metadata": {},
   "outputs": [
    {
     "name": "stdout",
     "output_type": "stream",
     "text": [
      "Test_stat = 0.9747, p-value=0.0000\n"
     ]
    }
   ],
   "source": [
    "test_stat, pvalue = shapiro(df.loc[df['sex']=='male','age'].dropna())\n",
    "print('Test_stat = %.4f, p-value=%.4f' %(test_stat,pvalue))"
   ]
  },
  {
   "cell_type": "markdown",
   "id": "ac8b3bd0-1858-4f75-a848-32f7cce23d9d",
   "metadata": {},
   "source": [
    "  0.0000 < 0.05 oldugundan h0 reddedilir. Yani normal dağılım varsayımı sağlanmamaktadır.\n",
    "\n"
   ]
  },
  {
   "cell_type": "code",
   "execution_count": 103,
   "id": "fd44dfee-33d5-47b2-badd-d83f8c17a576",
   "metadata": {},
   "outputs": [
    {
     "name": "stdout",
     "output_type": "stream",
     "text": [
      "Test Stat = 0.0013, p-value=0.9712\n"
     ]
    }
   ],
   "source": [
    "#####Varyans Homojenliği#####\n",
    "#H0: Varyanslar homojendir\n",
    "#H1: Varyanslar homojen değildir.\n",
    "\n",
    "test_stat, pvalue = levene(df.loc[df['sex']=='female', 'age'].dropna(),\n",
    "                           df.loc[df['sex']=='male', 'age'].dropna())\n",
    "print('Test Stat = %.4f, p-value=%.4f' % (test_stat,pvalue))"
   ]
  },
  {
   "cell_type": "markdown",
   "id": "5bd5d4f0-4002-4f1a-bc02-036f9338ab2e",
   "metadata": {},
   "source": [
    "0.9712 < 0.05 olamdığı için Ho reddeilemez yani varyanslar homojensir. \n",
    "\n",
    "Fakat normal dağılım sağlanmadığı için non parametrik test yapılır."
   ]
  },
  {
   "cell_type": "code",
   "execution_count": 44,
   "id": "47798a5f-16ae-4d1a-860b-099a7a721737",
   "metadata": {},
   "outputs": [],
   "source": [
    "#2)HİPOTEZİN UYGULANMASI(mannwhitneyu testi)\n"
   ]
  },
  {
   "cell_type": "code",
   "execution_count": 107,
   "id": "c40c01c7-df66-46cd-bc59-fca3f0aacefe",
   "metadata": {},
   "outputs": [
    {
     "name": "stdout",
     "output_type": "stream",
     "text": [
      "Test Stat = 53212.5000, p-value = 0.0261\n"
     ]
    }
   ],
   "source": [
    "test_stat, pvalue = mannwhitneyu(df.loc[df[\"sex\"] == \"female\", \"age\"].dropna(),\n",
    "                                 df.loc[df[\"sex\"] == \"male\", \"age\"].dropna())\n",
    "\n",
    "print('Test Stat = %.4f, p-value = %.4f' % (test_stat, pvalue))"
   ]
  },
  {
   "cell_type": "markdown",
   "id": "c9a9327d-788a-45ed-b906-526e49df625e",
   "metadata": {},
   "source": [
    "* p < 0.05 ise ise H0 reddedilir. Değilse reddedilemez.\n",
    "  \n",
    "0.0261 < 0.05 oldugu için H0 reddedilir yani yaş ortalamaları arasında istatistiksel bir fark vardır."
   ]
  },
  {
   "cell_type": "markdown",
   "id": "78fb0e67-8ac6-47e8-93fa-c85fde9738cc",
   "metadata": {},
   "source": [
    "<span style=\"color: blue; font-weight: bold;\">2-AB TESTİ(BAĞIMSIZ İKİ ÖRNEKLEM T TESTİ) UYGULAMA-3</span>"
   ]
  },
  {
   "cell_type": "code",
   "execution_count": 57,
   "id": "6dd1319c-8f81-40f6-bbf8-3914b17123d1",
   "metadata": {},
   "outputs": [],
   "source": [
    "############################\n",
    "# Uygulama 3: Diyabet Hastası Olan ve Olmayanların Yaşları Arasında İstatistiksel Olarak Fark Var Mı?\n",
    "############################"
   ]
  },
  {
   "cell_type": "code",
   "execution_count": 61,
   "id": "e0f76b03-c9f0-490a-b733-a7aeaecde683",
   "metadata": {},
   "outputs": [],
   "source": [
    "df = pd.read_csv(\"C:\\\\Users\\\\ASLI\\\\Desktop\\\\Data Scientist Bootcamp\\\\4.Measurement Problems\\\\datasets\\\\diabetes.csv\")"
   ]
  },
  {
   "cell_type": "code",
   "execution_count": 63,
   "id": "a9965275-4065-4a34-a3be-4be39ed7cb1e",
   "metadata": {},
   "outputs": [
    {
     "data": {
      "text/html": [
       "<div>\n",
       "<style scoped>\n",
       "    .dataframe tbody tr th:only-of-type {\n",
       "        vertical-align: middle;\n",
       "    }\n",
       "\n",
       "    .dataframe tbody tr th {\n",
       "        vertical-align: top;\n",
       "    }\n",
       "\n",
       "    .dataframe thead th {\n",
       "        text-align: right;\n",
       "    }\n",
       "</style>\n",
       "<table border=\"1\" class=\"dataframe\">\n",
       "  <thead>\n",
       "    <tr style=\"text-align: right;\">\n",
       "      <th></th>\n",
       "      <th>Pregnancies</th>\n",
       "      <th>Glucose</th>\n",
       "      <th>BloodPressure</th>\n",
       "      <th>SkinThickness</th>\n",
       "      <th>Insulin</th>\n",
       "      <th>BMI</th>\n",
       "      <th>DiabetesPedigreeFunction</th>\n",
       "      <th>Age</th>\n",
       "      <th>Outcome</th>\n",
       "    </tr>\n",
       "  </thead>\n",
       "  <tbody>\n",
       "    <tr>\n",
       "      <th>0</th>\n",
       "      <td>6</td>\n",
       "      <td>148</td>\n",
       "      <td>72</td>\n",
       "      <td>35</td>\n",
       "      <td>0</td>\n",
       "      <td>33.60000</td>\n",
       "      <td>0.62700</td>\n",
       "      <td>50</td>\n",
       "      <td>1</td>\n",
       "    </tr>\n",
       "    <tr>\n",
       "      <th>1</th>\n",
       "      <td>1</td>\n",
       "      <td>85</td>\n",
       "      <td>66</td>\n",
       "      <td>29</td>\n",
       "      <td>0</td>\n",
       "      <td>26.60000</td>\n",
       "      <td>0.35100</td>\n",
       "      <td>31</td>\n",
       "      <td>0</td>\n",
       "    </tr>\n",
       "    <tr>\n",
       "      <th>2</th>\n",
       "      <td>8</td>\n",
       "      <td>183</td>\n",
       "      <td>64</td>\n",
       "      <td>0</td>\n",
       "      <td>0</td>\n",
       "      <td>23.30000</td>\n",
       "      <td>0.67200</td>\n",
       "      <td>32</td>\n",
       "      <td>1</td>\n",
       "    </tr>\n",
       "    <tr>\n",
       "      <th>3</th>\n",
       "      <td>1</td>\n",
       "      <td>89</td>\n",
       "      <td>66</td>\n",
       "      <td>23</td>\n",
       "      <td>94</td>\n",
       "      <td>28.10000</td>\n",
       "      <td>0.16700</td>\n",
       "      <td>21</td>\n",
       "      <td>0</td>\n",
       "    </tr>\n",
       "    <tr>\n",
       "      <th>4</th>\n",
       "      <td>0</td>\n",
       "      <td>137</td>\n",
       "      <td>40</td>\n",
       "      <td>35</td>\n",
       "      <td>168</td>\n",
       "      <td>43.10000</td>\n",
       "      <td>2.28800</td>\n",
       "      <td>33</td>\n",
       "      <td>1</td>\n",
       "    </tr>\n",
       "  </tbody>\n",
       "</table>\n",
       "</div>"
      ],
      "text/plain": [
       "   Pregnancies  Glucose  BloodPressure  SkinThickness  Insulin      BMI  \\\n",
       "0            6      148             72             35        0 33.60000   \n",
       "1            1       85             66             29        0 26.60000   \n",
       "2            8      183             64              0        0 23.30000   \n",
       "3            1       89             66             23       94 28.10000   \n",
       "4            0      137             40             35      168 43.10000   \n",
       "\n",
       "   DiabetesPedigreeFunction  Age  Outcome  \n",
       "0                   0.62700   50        1  \n",
       "1                   0.35100   31        0  \n",
       "2                   0.67200   32        1  \n",
       "3                   0.16700   21        0  \n",
       "4                   2.28800   33        1  "
      ]
     },
     "execution_count": 63,
     "metadata": {},
     "output_type": "execute_result"
    }
   ],
   "source": [
    "df.head()"
   ]
  },
  {
   "cell_type": "code",
   "execution_count": 65,
   "id": "bdd42821-4066-49cd-abad-4aa98db8ed2e",
   "metadata": {},
   "outputs": [
    {
     "data": {
      "text/plain": [
       "Outcome\n",
       "0   31.19000\n",
       "1   37.06716\n",
       "Name: Age, dtype: float64"
      ]
     },
     "execution_count": 65,
     "metadata": {},
     "output_type": "execute_result"
    }
   ],
   "source": [
    "df.groupby('Outcome')['Age'].mean()#ortalamar arasında bir fark var görünüyor peki bu fark gercekten var mı?"
   ]
  },
  {
   "cell_type": "code",
   "execution_count": 67,
   "id": "e9ad1c1c-c9ab-4750-ae28-a57ec89911d9",
   "metadata": {},
   "outputs": [],
   "source": [
    "#1)HİPOTEZLERİ KUR\n",
    "#H0:m1=2 (Diyabet olanlar ile olmayanların yaş ortalamaları arasında fark yoktur.)\n",
    "#H1:m1!=m2 (Fark vardır.)"
   ]
  },
  {
   "cell_type": "code",
   "execution_count": 71,
   "id": "9c886aeb-8896-47bf-8e74-20ad0ef712fa",
   "metadata": {},
   "outputs": [
    {
     "name": "stdout",
     "output_type": "stream",
     "text": [
      "Test_stat= 0.8012, p-value= 0.0000\n"
     ]
    }
   ],
   "source": [
    "#2)VARSAYIMLARI İNCELE\n",
    "####Normallik Varsayımı####\n",
    "#- H0: Normal dağılım varsayımı sağlanmaktadır.\n",
    "#- H1:..sağlanmamaktadır.\n",
    "test_stat, pvalue = shapiro(df.loc[df['Outcome']==0,'Age'].dropna())\n",
    "print('Test_stat= %.4f, p-value= %.4f' % (test_stat, pvalue))"
   ]
  },
  {
   "cell_type": "markdown",
   "id": "669a44cc-1801-43c1-9643-1de21b3e9558",
   "metadata": {},
   "source": [
    "p < 0.05 H0 ise H0 reddedilir.\n",
    "\n",
    "0.0000< 0.05 oldugundan H0 reddedilir. Yani varsayım sağlanmamaktadır."
   ]
  },
  {
   "cell_type": "code",
   "execution_count": 74,
   "id": "50a118f9-5eaf-4d1e-ae10-709a400c831f",
   "metadata": {},
   "outputs": [
    {
     "name": "stdout",
     "output_type": "stream",
     "text": [
      "Test_stat= 0.9546, p-value= 0.0000\n"
     ]
    }
   ],
   "source": [
    "test_stat, pvalue = shapiro(df.loc[df['Outcome']==1,'Age'].dropna())\n",
    "print('Test_stat= %.4f, p-value= %.4f' % (test_stat, pvalue))"
   ]
  },
  {
   "cell_type": "markdown",
   "id": "19482e62-0e36-42f5-8deb-71bf63aa465e",
   "metadata": {},
   "source": [
    "0.0000< 0.05 oldugundan H0 reddedilir. Yani varsayım sağlanmamaktadır."
   ]
  },
  {
   "cell_type": "code",
   "execution_count": 79,
   "id": "ccf9f457-5bbe-4684-8d67-253a3fc9439a",
   "metadata": {},
   "outputs": [
    {
     "name": "stdout",
     "output_type": "stream",
     "text": [
      "Test_stat= 2.2252, p-value= 0.1362\n"
     ]
    }
   ],
   "source": [
    "#####Varyans Homojenliği#####\n",
    "#H0: Varyanslar homojendir\n",
    "#H1: Varyanslar homojen değildir.\n",
    "\n",
    "test_stat, pvalue = levene(df.loc[df['Outcome']==0,'Age'].dropna(),\n",
    "                           df.loc[df['Outcome']==1,'Age'].dropna())\n",
    "print('Test_stat= %.4f, p-value= %.4f' % (test_stat, pvalue))"
   ]
  },
  {
   "cell_type": "markdown",
   "id": "0e661290-912f-42d8-ad43-32525b1a209e",
   "metadata": {},
   "source": [
    "0.1362 < 0.05 olmadığından H0 reddedilemez yani varyan homojenliği sağlanmaktadır. Normallik varsayımı sağlanmadığı için non parametrik test olan mannwhitneyu testi yapılacaktır."
   ]
  },
  {
   "cell_type": "code",
   "execution_count": 84,
   "id": "fe3e81e3-ad8b-4a02-ace6-410eaf8bca5d",
   "metadata": {},
   "outputs": [
    {
     "name": "stdout",
     "output_type": "stream",
     "text": [
      "Test_stat= 41950.0000, p-value= 0.0000\n"
     ]
    }
   ],
   "source": [
    "#3)HİPOTEZİN UYGULANMASI(mannwhitneyu testi)\n",
    "test_stat, pvalue = mannwhitneyu(df.loc[df['Outcome']==0,'Age'].dropna(),\n",
    "                                 df.loc[df['Outcome']==1,'Age'].dropna())\n",
    "print('Test_stat= %.4f, p-value= %.4f' % (test_stat, pvalue))"
   ]
  },
  {
   "cell_type": "markdown",
   "id": "6e9992e8-00ad-4909-9d28-d50916e71d8e",
   "metadata": {},
   "source": [
    "0.000 < 0.05 oldugundan H0 reddedilir. Yani diyabet olanlar ile olmayanların yaş ortalamaları arasında istatistiksel bir fark vardr. "
   ]
  },
  {
   "cell_type": "markdown",
   "id": "f5290d63-45f0-4faf-a6d2-8b8181d8aaaa",
   "metadata": {},
   "source": [
    "<span style=\"color: blue; font-weight: bold;\">2-AB TESTİ(BAĞIMSIZ İKİ ÖRNEKLEM T TESTİ) UYGULAMA-4</span>"
   ]
  },
  {
   "cell_type": "code",
   "execution_count": 113,
   "id": "df8e4b20-c387-4b7b-8837-3993dcad0d02",
   "metadata": {},
   "outputs": [],
   "source": [
    "############################\n",
    "# Uygulama 4: Kursun Büyük Çoğunluğunu İzleyenler İle İzlemeyenlerin Puanları Birbirinden Farklı mı?\n",
    "############################"
   ]
  },
  {
   "cell_type": "code",
   "execution_count": 115,
   "id": "8897fe24-3e3a-4894-9d6b-3ba672eaf5ac",
   "metadata": {},
   "outputs": [],
   "source": [
    "df = pd.read_csv(\"C:\\\\Users\\\\ASLI\\\\Desktop\\\\Data Scientist Bootcamp\\\\4.Measurement Problems\\\\datasets\\\\course_reviews.csv\")"
   ]
  },
  {
   "cell_type": "code",
   "execution_count": 117,
   "id": "41a0059a-d9ac-47a6-8094-6ad4218ecd32",
   "metadata": {},
   "outputs": [
    {
     "data": {
      "text/html": [
       "<div>\n",
       "<style scoped>\n",
       "    .dataframe tbody tr th:only-of-type {\n",
       "        vertical-align: middle;\n",
       "    }\n",
       "\n",
       "    .dataframe tbody tr th {\n",
       "        vertical-align: top;\n",
       "    }\n",
       "\n",
       "    .dataframe thead th {\n",
       "        text-align: right;\n",
       "    }\n",
       "</style>\n",
       "<table border=\"1\" class=\"dataframe\">\n",
       "  <thead>\n",
       "    <tr style=\"text-align: right;\">\n",
       "      <th></th>\n",
       "      <th>Rating</th>\n",
       "      <th>Timestamp</th>\n",
       "      <th>Enrolled</th>\n",
       "      <th>Progress</th>\n",
       "      <th>Questions Asked</th>\n",
       "      <th>Questions Answered</th>\n",
       "    </tr>\n",
       "  </thead>\n",
       "  <tbody>\n",
       "    <tr>\n",
       "      <th>0</th>\n",
       "      <td>5.00000</td>\n",
       "      <td>2021-02-05 07:45:55</td>\n",
       "      <td>2021-01-25 15:12:08</td>\n",
       "      <td>5.00000</td>\n",
       "      <td>0.00000</td>\n",
       "      <td>0.00000</td>\n",
       "    </tr>\n",
       "    <tr>\n",
       "      <th>1</th>\n",
       "      <td>5.00000</td>\n",
       "      <td>2021-02-04 21:05:32</td>\n",
       "      <td>2021-02-04 20:43:40</td>\n",
       "      <td>1.00000</td>\n",
       "      <td>0.00000</td>\n",
       "      <td>0.00000</td>\n",
       "    </tr>\n",
       "    <tr>\n",
       "      <th>2</th>\n",
       "      <td>4.50000</td>\n",
       "      <td>2021-02-04 20:34:03</td>\n",
       "      <td>2019-07-04 23:23:27</td>\n",
       "      <td>1.00000</td>\n",
       "      <td>0.00000</td>\n",
       "      <td>0.00000</td>\n",
       "    </tr>\n",
       "    <tr>\n",
       "      <th>3</th>\n",
       "      <td>5.00000</td>\n",
       "      <td>2021-02-04 16:56:28</td>\n",
       "      <td>2021-02-04 14:41:29</td>\n",
       "      <td>10.00000</td>\n",
       "      <td>0.00000</td>\n",
       "      <td>0.00000</td>\n",
       "    </tr>\n",
       "    <tr>\n",
       "      <th>4</th>\n",
       "      <td>4.00000</td>\n",
       "      <td>2021-02-04 15:00:24</td>\n",
       "      <td>2020-10-13 03:10:07</td>\n",
       "      <td>10.00000</td>\n",
       "      <td>0.00000</td>\n",
       "      <td>0.00000</td>\n",
       "    </tr>\n",
       "  </tbody>\n",
       "</table>\n",
       "</div>"
      ],
      "text/plain": [
       "   Rating            Timestamp             Enrolled  Progress  \\\n",
       "0 5.00000  2021-02-05 07:45:55  2021-01-25 15:12:08   5.00000   \n",
       "1 5.00000  2021-02-04 21:05:32  2021-02-04 20:43:40   1.00000   \n",
       "2 4.50000  2021-02-04 20:34:03  2019-07-04 23:23:27   1.00000   \n",
       "3 5.00000  2021-02-04 16:56:28  2021-02-04 14:41:29  10.00000   \n",
       "4 4.00000  2021-02-04 15:00:24  2020-10-13 03:10:07  10.00000   \n",
       "\n",
       "   Questions Asked  Questions Answered  \n",
       "0          0.00000             0.00000  \n",
       "1          0.00000             0.00000  \n",
       "2          0.00000             0.00000  \n",
       "3          0.00000             0.00000  \n",
       "4          0.00000             0.00000  "
      ]
     },
     "execution_count": 117,
     "metadata": {},
     "output_type": "execute_result"
    }
   ],
   "source": [
    "df.head()"
   ]
  },
  {
   "cell_type": "code",
   "execution_count": 123,
   "id": "008520a4-a8cc-4dd5-884d-b4917cf62afa",
   "metadata": {},
   "outputs": [
    {
     "data": {
      "text/plain": [
       "4.860491071428571"
      ]
     },
     "execution_count": 123,
     "metadata": {},
     "output_type": "execute_result"
    }
   ],
   "source": [
    "df[(df['Progress']>75)]['Rating'].mean()#Kursun %75'ten fazla izleyenlerin verdiği puanların ortalaması"
   ]
  },
  {
   "cell_type": "code",
   "execution_count": 128,
   "id": "39c451d3-3258-4763-ab14-6ffd6296c20f",
   "metadata": {},
   "outputs": [
    {
     "data": {
      "text/plain": [
       "4.7225029148853475"
      ]
     },
     "execution_count": 128,
     "metadata": {},
     "output_type": "execute_result"
    }
   ],
   "source": [
    "df[(df['Progress']<25)]['Rating'].mean()#Kursu %10'dan az izleyenlerin verdiği puanların ortalaması"
   ]
  },
  {
   "cell_type": "markdown",
   "id": "8cd43062-7ac9-4409-8302-99151fbea329",
   "metadata": {},
   "source": [
    "Ortalamalara baktığımızda sanki kursu daha çok izleyenler kursu daha iyi tanıyıp puanlama yapmış gibi."
   ]
  },
  {
   "cell_type": "code",
   "execution_count": 130,
   "id": "2e39a7e5-5dbc-474d-bd32-3c122ad1c19f",
   "metadata": {},
   "outputs": [],
   "source": [
    "##1)HİPOTEZLERİ KUR\n",
    "#H0:m1=2 (Kursun çoğunluğunu izleyneler ile izlemeyenlerin verdiği puanlar arasında fark yoktur.)\n",
    "#H1:m1!=m2 (Fark vardır.)"
   ]
  },
  {
   "cell_type": "code",
   "execution_count": 132,
   "id": "d75c5370-bc50-403e-8277-8c3970ad358a",
   "metadata": {},
   "outputs": [
    {
     "name": "stdout",
     "output_type": "stream",
     "text": [
      "Test_stat= 0.5710, p-value= 0.0000\n"
     ]
    }
   ],
   "source": [
    "#2)VARSAYIMLARI İNCELE\n",
    "####Normallik Varsayımı####\n",
    "#- H0: Normal dağılım varsayımı sağlanmaktadır.\n",
    "#- H1:..sağlanmamaktadır.\n",
    "\n",
    "test_stat, pvalue = shapiro(df.loc[df['Progress'] < 25,'Rating'].dropna())\n",
    "print('Test_stat= %.4f, p-value= %.4f' % (test_stat, pvalue))"
   ]
  },
  {
   "cell_type": "code",
   "execution_count": 134,
   "id": "66934a1d-e7d0-455c-b933-b0de084568fc",
   "metadata": {},
   "outputs": [
    {
     "name": "stdout",
     "output_type": "stream",
     "text": [
      "Test_stat= 0.3160, p-value= 0.0000\n"
     ]
    }
   ],
   "source": [
    "test_stat, pvalue = shapiro(df.loc[df['Progress'] >75,'Rating'].dropna())\n",
    "print('Test_stat= %.4f, p-value= %.4f' % (test_stat, pvalue))"
   ]
  },
  {
   "cell_type": "markdown",
   "id": "2e872d9a-654c-46e0-96b4-7e2244eea37e",
   "metadata": {},
   "source": [
    "p değerleri 0.05 den küçük oldugu için H0 reddedilir. Yani normal dağılım sağlanmamaktadır. Normal dağılım sağlanmadığı için varyans homojenliğine bakmaya gerek yoktur. Non-parametrik test yapılacaktır."
   ]
  },
  {
   "cell_type": "code",
   "execution_count": 137,
   "id": "371438a9-e2aa-4074-bd68-614d0968be9c",
   "metadata": {},
   "outputs": [
    {
     "name": "stdout",
     "output_type": "stream",
     "text": [
      "Test_stat= 491222.5000, p-value= 0.0000\n"
     ]
    }
   ],
   "source": [
    "#3)HİPOTEZİN UYGULANMASI(mannwhitneyu testi)\n",
    "test_stat, pvalue = mannwhitneyu(df.loc[df['Progress'] < 25,'Rating'].dropna(),\n",
    "                                 df.loc[df['Progress'] >75,'Rating'].dropna())\n",
    "print('Test_stat= %.4f, p-value= %.4f' % (test_stat, pvalue))"
   ]
  },
  {
   "cell_type": "markdown",
   "id": "bcc9976b-5ef3-423d-858a-57d73c6d904e",
   "metadata": {},
   "source": [
    "0.0000 < 0.05 olduğundan H0 reddedilir. Yani kursun çoğunluğunu izleyenler ile izlemeyenlerin verdiği puanlar arasında istatistiksel fark vardır."
   ]
  },
  {
   "cell_type": "code",
   "execution_count": null,
   "id": "f3a4931a-b7fa-4d37-938b-9559a2fad66b",
   "metadata": {},
   "outputs": [],
   "source": []
  }
 ],
 "metadata": {
  "kernelspec": {
   "display_name": "Python [conda env:base] *",
   "language": "python",
   "name": "conda-base-py"
  },
  "language_info": {
   "codemirror_mode": {
    "name": "ipython",
    "version": 3
   },
   "file_extension": ".py",
   "mimetype": "text/x-python",
   "name": "python",
   "nbconvert_exporter": "python",
   "pygments_lexer": "ipython3",
   "version": "3.12.7"
  }
 },
 "nbformat": 4,
 "nbformat_minor": 5
}
