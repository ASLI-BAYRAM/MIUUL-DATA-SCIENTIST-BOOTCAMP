{
 "cells": [
  {
   "cell_type": "markdown",
   "id": "43b0debd-036f-4e18-aa97-dc078729b581",
   "metadata": {},
   "source": [
    " <h1 style=\"text-align: center; color: RED\">ÖLÇÜMLEME PROBLEMLERİ</h1>"
   ]
  },
  {
   "cell_type": "markdown",
   "id": "60926dd6-7108-41cc-b466-b45e3fb539a8",
   "metadata": {},
   "source": [
    " <h2 style=\"text-align: center; color: RED\">AB TESTING</h2>"
   ]
  },
  {
   "cell_type": "markdown",
   "id": "83138b18-c5af-42cc-88d2-990babf01c55",
   "metadata": {},
   "source": [
    "<span style=\"color: blue; font-weight: bold;\">1-TEMEL İSTATİSTİK KAVRAMLARI</span>\n"
   ]
  },
  {
   "cell_type": "markdown",
   "id": "de6d7140-7e03-491d-ac8e-cb3e1b61fb35",
   "metadata": {},
   "source": [
    "**Sampling(Örnekleme):** Bir ana kitle içerisinden bu ana kitlenin özelliklerini iyi temsil ettiği varsayılan bir alt kümedir. Ana kitlenin bir temsilcisidir.\n",
    "\n",
    "🔹 Popülasyon (Ana Kütle) → İncelemek istediğimiz tüm veri kümesi.\n",
    "\n",
    "🔹 Örneklem → Popülasyondan seçtiğimiz küçük ama temsil edici bir grup.\n",
    "\n",
    "**Neden Önemlidir?**\n",
    "  \n",
    "Hızlı Sonuç Almayı Sağlar → Tüm veri kümesini işlemek yerine küçük bir kısmını analiz etmek daha hızlıdır.\n",
    "\n",
    "Maliyetleri Düşürür → Büyük veri kümeleriyle çalışmak maliyetli olabilir.\n",
    "\n",
    "Genelleme Yapmamızı Sağlar → Küçük bir grup, tüm popülasyonu temsil ediyorsa, sonuçlar genellenebilir.\n",
    "\n",
    "İşlem Gücünü Azaltır → Büyük veriler üzerinde analiz yapmak zor ve zaman alıcı olabilir.\n",
    "\n"
   ]
  },
  {
   "cell_type": "code",
   "execution_count": 13,
   "id": "357cf1ef-0d8b-478d-a890-3253c0122b34",
   "metadata": {},
   "outputs": [
    {
     "name": "stdout",
     "output_type": "stream",
     "text": [
      "Requirement already satisfied: statsmodels in c:\\users\\asli\\anaconda3\\lib\\site-packages (0.14.2)\n",
      "Requirement already satisfied: numpy>=1.22.3 in c:\\users\\asli\\anaconda3\\lib\\site-packages (from statsmodels) (1.26.4)\n",
      "Requirement already satisfied: scipy!=1.9.2,>=1.8 in c:\\users\\asli\\anaconda3\\lib\\site-packages (from statsmodels) (1.13.1)\n",
      "Requirement already satisfied: pandas!=2.1.0,>=1.4 in c:\\users\\asli\\anaconda3\\lib\\site-packages (from statsmodels) (2.2.2)\n",
      "Requirement already satisfied: patsy>=0.5.6 in c:\\users\\asli\\anaconda3\\lib\\site-packages (from statsmodels) (0.5.6)\n",
      "Requirement already satisfied: packaging>=21.3 in c:\\users\\asli\\anaconda3\\lib\\site-packages (from statsmodels) (24.1)\n",
      "Requirement already satisfied: python-dateutil>=2.8.2 in c:\\users\\asli\\anaconda3\\lib\\site-packages (from pandas!=2.1.0,>=1.4->statsmodels) (2.9.0.post0)\n",
      "Requirement already satisfied: pytz>=2020.1 in c:\\users\\asli\\anaconda3\\lib\\site-packages (from pandas!=2.1.0,>=1.4->statsmodels) (2024.1)\n",
      "Requirement already satisfied: tzdata>=2022.7 in c:\\users\\asli\\anaconda3\\lib\\site-packages (from pandas!=2.1.0,>=1.4->statsmodels) (2023.3)\n",
      "Requirement already satisfied: six in c:\\users\\asli\\anaconda3\\lib\\site-packages (from patsy>=0.5.6->statsmodels) (1.16.0)\n",
      "Note: you may need to restart the kernel to use updated packages.\n"
     ]
    }
   ],
   "source": [
    "pip install statsmodels #kütüphaneyi kurduk\n"
   ]
  },
  {
   "cell_type": "code",
   "execution_count": 1,
   "id": "c8668b40-6081-4238-9c14-1902451e78ce",
   "metadata": {},
   "outputs": [],
   "source": [
    "import itertools\n",
    "import numpy as np\n",
    "import pandas as pd\n",
    "import matplotlib.pyplot as plt\n",
    "import seaborn as sns\n",
    "import statsmodels.stats.api as sms\n",
    "from scipy.stats import ttest_1samp, shapiro, levene, ttest_ind, mannwhitneyu, \\\n",
    "    pearsonr, spearmanr, kendalltau, f_oneway, kruskal\n",
    "from statsmodels.stats.proportion import proportions_ztest\n",
    "\n",
    "pd.set_option('display.max_columns', None)\n",
    "pd.set_option('display.max_rows', 10)\n",
    "pd.set_option('display.float_format', lambda x: '%.5f' % x)"
   ]
  },
  {
   "cell_type": "code",
   "execution_count": 7,
   "id": "93bc48e2-365a-433d-bc26-1e05f6cb4842",
   "metadata": {},
   "outputs": [
    {
     "data": {
      "text/plain": [
       "array([79, 20, 22, ..., 65,  4, 57])"
      ]
     },
     "execution_count": 7,
     "metadata": {},
     "output_type": "execute_result"
    }
   ],
   "source": [
    "########ÖRNEKLEM########\n",
    "populasyon = np.random.randint(0, 80, 10000)#0 ile 80 arasında 10000 tane sayı üretir.\n",
    "populasyon"
   ]
  },
  {
   "cell_type": "code",
   "execution_count": 10,
   "id": "da68e770-6818-464d-ae75-1f6880414868",
   "metadata": {},
   "outputs": [
    {
     "data": {
      "text/plain": [
       "39.2424"
      ]
     },
     "execution_count": 10,
     "metadata": {},
     "output_type": "execute_result"
    }
   ],
   "source": [
    "populasyon.mean()"
   ]
  },
  {
   "cell_type": "markdown",
   "id": "65430b39-593e-4f32-a161-c8019ab0219f",
   "metadata": {},
   "source": [
    "**Neden örneklem ile çalışıyoruz?**\n",
    "\n",
    "Bu sayıların bir bölgedeki insanların yaşlarını temsil ettiğini varsayalım. Amacım, bu bölgedeki 10.000 kişiye ulaşıp ortalama yaş bilgisini öğrenmek. Ancak örnekleme teorisi bize şunu söyler: \"Tüm nüfusu gezmene gerek yok. Eğer rastgele ve tarafsız bir şekilde seçilmiş, nüfusu iyi temsil eden bir örneklem alırsan, bu örneklem üzerinden tüm topluluğa dair güvenilir çıkarımlar yapabilirsin."
   ]
  },
  {
   "cell_type": "code",
   "execution_count": 14,
   "id": "7183398e-7810-492a-a3f8-5598ab8e9555",
   "metadata": {},
   "outputs": [],
   "source": [
    "np.random.seed(115) \n",
    "#NumPy'de rastgele sayı üretimini kontrol altına almak için kullanılır.\n",
    "# Bu işlem, rastgele sayı üreteçlerinin her çalıştırıldığında aynı sonuçları vermesini sağlar.\n"
   ]
  },
  {
   "cell_type": "code",
   "execution_count": 16,
   "id": "71c043b6-8cc6-491a-9e22-ed494913138b",
   "metadata": {},
   "outputs": [],
   "source": [
    "orneklem = np.random.choice(a=populasyon, size=100)#100 tane rastgele örneklem sectik"
   ]
  },
  {
   "cell_type": "code",
   "execution_count": 20,
   "id": "546a1e7c-3a0f-4216-8a78-1848beb3acf0",
   "metadata": {},
   "outputs": [
    {
     "data": {
      "text/plain": [
       "38.22"
      ]
     },
     "execution_count": 20,
     "metadata": {},
     "output_type": "execute_result"
    }
   ],
   "source": [
    "orneklem.mean()"
   ]
  },
  {
   "cell_type": "markdown",
   "id": "a01adc03-8eb7-40ad-b55f-6b42a66c3c19",
   "metadata": {},
   "source": [
    "* Görüldüğü üzere secilen örneklemin ortalaması anakitlenin ortalamasına yakın bir değerde.Daha az veri ile genelleme yapabildik. Tabiki bir yanılma payı olduğunu unutmayalım."
   ]
  },
  {
   "cell_type": "code",
   "execution_count": 30,
   "id": "03e34630-7f0a-48cd-b109-b749cae0bd14",
   "metadata": {},
   "outputs": [],
   "source": [
    "\n",
    "orneklem1 = np.random.choice(a=populasyon, size=100)\n",
    "orneklem2 = np.random.choice(a=populasyon, size=100)\n",
    "orneklem3 = np.random.choice(a=populasyon, size=100)\n",
    "orneklem4 = np.random.choice(a=populasyon, size=100)\n",
    "orneklem5 = np.random.choice(a=populasyon, size=100)\n",
    "orneklem6 = np.random.choice(a=populasyon, size=100)\n",
    "orneklem7 = np.random.choice(a=populasyon, size=100)\n",
    "orneklem8 = np.random.choice(a=populasyon, size=100)\n",
    "orneklem9 = np.random.choice(a=populasyon, size=100)\n",
    "orneklem10 = np.random.choice(a=populasyon, size=100)"
   ]
  },
  {
   "cell_type": "code",
   "execution_count": 32,
   "id": "3926c3ff-7367-476f-be1d-31e89feb0f1a",
   "metadata": {},
   "outputs": [
    {
     "data": {
      "text/plain": [
       "38.580999999999996"
      ]
     },
     "execution_count": 32,
     "metadata": {},
     "output_type": "execute_result"
    }
   ],
   "source": [
    "(orneklem1.mean() + orneklem2.mean() + orneklem3.mean() + orneklem4.mean() + orneklem5.mean()\n",
    " + orneklem6.mean() + orneklem7.mean() + orneklem8.mean() + orneklem9.mean() + orneklem10.mean()) / 10"
   ]
  },
  {
   "cell_type": "markdown",
   "id": "5a4ebace-a2ba-4b49-a2d3-e2ca54ba69c2",
   "metadata": {},
   "source": [
    "* Örneklem sayısı arttıkça ortalama anakitlenin ortalamasına yakınsayacaktır."
   ]
  },
  {
   "cell_type": "markdown",
   "id": "157ee42d-cb8a-4200-a726-9e9f036f4fba",
   "metadata": {},
   "source": [
    "<span style=\"color: blue; font-weight: bold;\">2-BETİMSEL İSTATİSTİKLER</span>\n",
    "\n",
    "Betimsel istatistik (Descriptive Statistics), bir veri setini özetlemek, organize etmek ve açıklamak için kullanılan yöntemlerdir.\n",
    "\n",
    "**Amacı:**\n",
    "\n",
    "🔹 Veriyi daha anlaşılır hale getirmek,\n",
    "\n",
    "🔹 Ana eğilimleri (ortalama, medyan, mod vb.) belirlemek,\n",
    "\n",
    "🔹 Dağılımı ve değişkenliği analiz etmek.\n",
    "\n",
    "✔ Verinin tamamını değil, temel özelliklerini vurgular!\n",
    "\n",
    "✔ Veri hakkında genel bir fikir edinmemizi sağlar!\n",
    "\n"
   ]
  },
  {
   "cell_type": "markdown",
   "id": "395bba4c-dae0-41b6-b24d-50b5be67320c",
   "metadata": {},
   "source": [
    "**1-Ortalama:** Ortalama (Mean), bir veri setindeki tüm değerlerin toplamının, toplam eleman sayısına bölünmesiyle elde edilen değerdir. Merkezi eğilim ölçülerinden biridir ve genellikle verinin genel eğilimini anlamak için kullanılır."
   ]
  },
  {
   "cell_type": "markdown",
   "id": "5976725f-2809-4425-8834-9e9e15e7becb",
   "metadata": {},
   "source": [
    "**2-Standart Sapma:** Bir veri setindeki verilerin ortalamadan ne kadar sapma gösterdiğini ölçen bir istatistiksel kavramdır.\n",
    "\n",
    "🔹 Verilerin yayılma derecesini ve değişkenliğini anlamamıza yardımcı olur.\n",
    "\n",
    "🔹 Düşük standart sapma → Veriler ortalamaya yakın demektir.\n",
    "\n",
    "🔹 Yüksek standart sapma → Veriler ortalamadan çok sapıyor, yani daha değişken.\n",
    "\n",
    "*Standart Sapma Ne Zaman Kullanılmamalıdır?*\n",
    "\n",
    "🔹 Çok büyük aykırı değerler varsa: Standart sapma, uç değerlerden çok etkilenir. Eğer veri setinde çok büyük ya da küçük aykırı değerler (outliers) varsa, medyan ve çeyrekler aralığı (IQR) gibi diğer ölçütler daha güvenilir olabilir.\n",
    "\n",
    "🔹 Veri dağılımı çok çarpık (skewed) ise: Dağılım simetrik değilse, standart sapma yanıltıcı olabilir.\n",
    "\n"
   ]
  },
  {
   "cell_type": "markdown",
   "id": "321539c7-6ece-489b-bc63-36f12db96f7e",
   "metadata": {},
   "source": [
    "**3-Varyans:** Bir veri kümesindeki değerlerin ortalamadan ne kadar sapma gösterdiğini ölçen istatistiksel bir değerdir. Başka bir deyişle, veri noktalarının birbirine ve ortalamaya olan uzaklığını ölçer. Düşük varyans: Veriler ortalamaya yakın olup birbirine daha çok benzer. Yüksek varyans: Veriler ortalamadan uzaklaşıp daha dağınık bir yapı gösterir.\n",
    "\n",
    "* Yüksek Varyans = Dağınık Veri\n",
    "\n",
    "Eğer bir veri setinin varyansı yüksekse, şu özellikleri gösterir:\n",
    "\n",
    "✅ Veri noktaları geniş bir aralığa yayılmıştır.\n",
    "\n",
    "✅ Ortalamaya uzak veri noktaları fazladır.\n",
    "\n",
    "✅ Değişkenlik yüksektir, yani veriler birbirinden çok farklı olabilir.\n",
    "\n",
    "* Varyansı Grafik Üzerinde Gösterme\n",
    "\n",
    "Aşağıdaki gibi iki dağılımı hayal edebilirsin:\n",
    "\n",
    "🔹 Düşük Varyans: Veriler sıkışık ve yoğunlaşmış (dar bir tepe).\n",
    "\n",
    "🔹 Yüksek Varyans: Veriler geniş bir alana dağılmış (yayvan bir dağılım).\n",
    "Eğer veri noktaları çok uzak ve geniş bir aralıkta yayılmışsa, veri seti dağınık demektir.\n"
   ]
  },
  {
   "cell_type": "markdown",
   "id": "4fb7a22f-816c-408e-b04f-ea1f5af7e5d6",
   "metadata": {},
   "source": [
    "**4-Çeyreklik Değerler:** Çeyreklik değerler, bir veri setini dörde bölen ve dağılımı anlamamıza yardımcı olan üç önemli istatistiksel değerdir.\n",
    "Birinci çeyrek (Q1 - Alt Çeyrek): Verilerin %25’inin altında kaldığı değerdir. (25. yüzdelik dilim - Q1)\n",
    "\n",
    "İkinci çeyrek (Q2 - Medyan): Verilerin %50’sinin altında kaldığı değerdir. (50. yüzdelik dilim Medyan/Q2)\n",
    "\n",
    "Üçüncü çeyrek (Q3 - Üst Çeyrek): Verilerin %75’inin altında kaldığı değerdir. (75. yüzdelik dilim - Q3)\n",
    "\n",
    "Çeyreklikler, veri setinin dağılımını ve yayılımını anlamak için kullanılır. Özellikle aykırı değerleri tespit etmekte oldukça etkilidirler\n",
    ".\n",
    "Burada Q1 ve Q3 arasındaki fark, çeyrekler arası açıklık (IQR - Interquartile Range) olarak adlandırılır:\n",
    "IQR=Q3−Q1\n"
   ]
  },
  {
   "cell_type": "markdown",
   "id": "6d506928-dd0b-4cc9-b6c3-36bce8fefa00",
   "metadata": {},
   "source": [
    "**5-Medyan:** Medyan, bir veri setindeki ortanca (merkez) değerdir. Verileri küçükten büyüğe sıraladığımızda, tam ortada bulunan değer medyan olarak adlandırılır. Özellikle aykırı değerlere duyarlı olmayan yapısı nedeniyle bazı analizlerde aritmetik ortalamaya tercih edilir. Medyan, uç (aykırı) değerlerden etkilenmediği için veri setinin merkezi eğilimini doğru bir şekilde gösterir.\n",
    "\n",
    "✅ Aykırı Değerlere Karşı Dayanıklıdır:\n",
    "\n",
    "Medyan, uç değerlerden etkilenmez. Örneğin, [10, 15, 20, 25, 1000] veri setinde ortalama 214 çıkar ama medyan = 20’dir. Aykırı değerlerden dolayı ortalama çok büyük olabilir ama medyan daha güvenilir bir merkez ölçüsüdür.\n",
    "\n",
    "✅ Veri Dağılımını Daha İyi Anlamamızı Sağlar:\n",
    "\n",
    "Simetrik dağılımda → Medyan ve ortalama yaklaşık eşittir.\n",
    "\n",
    "Sağa çarpık dağılımda → Medyan, ortalamadan küçük olur.\n",
    "\n",
    "Sola çarpık dağılımda → Medyan, ortalamadan büyük olur.\n"
   ]
  },
  {
   "cell_type": "code",
   "execution_count": 50,
   "id": "fa86d529-4d14-4f64-bd58-d42092c595c1",
   "metadata": {},
   "outputs": [],
   "source": [
    "df = sns.load_dataset('tips')"
   ]
  },
  {
   "cell_type": "code",
   "execution_count": 54,
   "id": "52293925-3022-4efb-bde1-70c081d6c778",
   "metadata": {},
   "outputs": [
    {
     "data": {
      "text/html": [
       "<div>\n",
       "<style scoped>\n",
       "    .dataframe tbody tr th:only-of-type {\n",
       "        vertical-align: middle;\n",
       "    }\n",
       "\n",
       "    .dataframe tbody tr th {\n",
       "        vertical-align: top;\n",
       "    }\n",
       "\n",
       "    .dataframe thead th {\n",
       "        text-align: right;\n",
       "    }\n",
       "</style>\n",
       "<table border=\"1\" class=\"dataframe\">\n",
       "  <thead>\n",
       "    <tr style=\"text-align: right;\">\n",
       "      <th></th>\n",
       "      <th>count</th>\n",
       "      <th>mean</th>\n",
       "      <th>std</th>\n",
       "      <th>min</th>\n",
       "      <th>25%</th>\n",
       "      <th>50%</th>\n",
       "      <th>75%</th>\n",
       "      <th>max</th>\n",
       "    </tr>\n",
       "  </thead>\n",
       "  <tbody>\n",
       "    <tr>\n",
       "      <th>total_bill</th>\n",
       "      <td>244.00000</td>\n",
       "      <td>19.78594</td>\n",
       "      <td>8.90241</td>\n",
       "      <td>3.07000</td>\n",
       "      <td>13.34750</td>\n",
       "      <td>17.79500</td>\n",
       "      <td>24.12750</td>\n",
       "      <td>50.81000</td>\n",
       "    </tr>\n",
       "    <tr>\n",
       "      <th>tip</th>\n",
       "      <td>244.00000</td>\n",
       "      <td>2.99828</td>\n",
       "      <td>1.38364</td>\n",
       "      <td>1.00000</td>\n",
       "      <td>2.00000</td>\n",
       "      <td>2.90000</td>\n",
       "      <td>3.56250</td>\n",
       "      <td>10.00000</td>\n",
       "    </tr>\n",
       "    <tr>\n",
       "      <th>size</th>\n",
       "      <td>244.00000</td>\n",
       "      <td>2.56967</td>\n",
       "      <td>0.95110</td>\n",
       "      <td>1.00000</td>\n",
       "      <td>2.00000</td>\n",
       "      <td>2.00000</td>\n",
       "      <td>3.00000</td>\n",
       "      <td>6.00000</td>\n",
       "    </tr>\n",
       "  </tbody>\n",
       "</table>\n",
       "</div>"
      ],
      "text/plain": [
       "               count     mean     std     min      25%      50%      75%  \\\n",
       "total_bill 244.00000 19.78594 8.90241 3.07000 13.34750 17.79500 24.12750   \n",
       "tip        244.00000  2.99828 1.38364 1.00000  2.00000  2.90000  3.56250   \n",
       "size       244.00000  2.56967 0.95110 1.00000  2.00000  2.00000  3.00000   \n",
       "\n",
       "                max  \n",
       "total_bill 50.81000  \n",
       "tip        10.00000  \n",
       "size        6.00000  "
      ]
     },
     "execution_count": 54,
     "metadata": {},
     "output_type": "execute_result"
    }
   ],
   "source": [
    "df.describe().T#temel istatistik bilgilerini verir."
   ]
  },
  {
   "cell_type": "markdown",
   "id": "2beff4f5-429d-41fb-8753-af55696b906f",
   "metadata": {},
   "source": [
    "Mean, parametrik ortalamayı; median ise nonparametrik ortalamayı temsil eder.\n",
    "Eğer elimizdeki değişkenin dağılımı çarpıksa, yani içerisinde aykırı değerler barındırıyorsa, bu değişkeni tanımlamak için aritmetik ortalama (mean) yerine medyan (median, %50'lik değer) tercih edilmelidir.\n",
    "\n",
    "Bir değişkende aykırı değer olup olmadığını anlamanın pratik yollarından biri, ortalama ile medyan değerini karşılaştırmaktır. Eğer bu iki değer birbirine yakınsa, değişkende ciddi bir aykırı değer problemi yoktur denebilir. Ancak aralarında belirgin bir fark varsa, bu durum dağılımın çarpık olduğunu ve aykırı değer içerdiğini gösterebilir.\n",
    "\n",
    "Ayrıca, çeyrek değerler (Q1, Q3) ve bu değerlerden elde edilen IQR (Interquartile Range – çeyrekler arası açıklık), dağılımın yapısı ve olası aykırı değerler hakkında daha detaylı bilgi sunar."
   ]
  },
  {
   "cell_type": "markdown",
   "id": "be7f6816-3087-469c-9785-21ac1251ba05",
   "metadata": {},
   "source": [
    "<span style=\"color: blue; font-weight: bold;\">3-GÜVEN ARALIKLARI</span>\n",
    "\n",
    "Güven aralığı, anakütle parametresinin tahmini değerini(istatistik) kapsayabilecek iki sayıdan oluşan bir aralık bulunmasıdır."
   ]
  },
  {
   "cell_type": "markdown",
   "id": "d8768352-313a-4d9b-898b-c25ce2a91657",
   "metadata": {},
   "source": [
    "Ortalama: 180 sn\n",
    "\n",
    "Standart Sapma: 40 sn\n",
    "\n",
    "Web sitesinde geçirilen ortalama sürenin güven aralığı nedir?\n",
    "\n",
    "**100 kullanıcıdan(örneklem) 95’i ortalama 172 ile 188 arasında web sitesinde vakit geçirmektedir diyebiliriz.**"
   ]
  },
  {
   "cell_type": "markdown",
   "id": "594fe077-4207-4e5f-a821-5f129de51313",
   "metadata": {},
   "source": [
    "![Test](datasets/1.png)"
   ]
  },
  {
   "cell_type": "markdown",
   "id": "0876dd15-43c9-4ded-8ff9-eb044b2ca5f7",
   "metadata": {},
   "source": [
    "**Adım 2: Güven Aralığına Karar Vermek**\n",
    "\n",
    "İstatistiksel analizlerde genellikle %95 güven aralığı kullanılır. Bu oran, yaptığımız tahminin ne kadar kapsayıcı olduğunu gösterir. Başka bir deyişle:\n",
    "\n",
    "%95 güven aralığı, oluşturduğumuz örneklem üzerinden elde edilen tahminin, %95 olasılıkla gerçek popülasyon parametresini kapsayacak bir aralıkta olduğunu ifade eder.Elimizde bir örneklem ortalaması varsa,vee bu ortalama etrafında bir güven aralığı hesaplamak istiyorsak %95 güven düzeyi, bu aralığın popülasyonun gerçek ortalamasını %95 ihtimalle kapsayacağını belirtir.\n",
    "\n",
    "Eğer elimde güven aralığı olmasaydı derdim ki kullanıcılar 180+40, 180-40 aralığında gidip geliyor. Ama güven aralığı bize istatistiki bir genelleme yapmayı sağlamaktadır. Sonuç olarak farklı zamanlarda farklı şekillerde yapabileceğim örneklemler neticesinde ortalamalar hesapladığımda bunun istatiksel olarak %95 güven ile 172 ile 188 arasında olabileceğini biliyorum.\n",
    "\n",
    "Güven aralığı, istatistiksel bir tahminin ne kadar güvenilir olduğunu gösteren bir aralıktır. Örneğin, bir anket yapıp bir popülasyonun ortalamasını tahmin etmek istiyorsak, bu tahminin etrafında belirli bir hata payı olur. Güven aralığı, bu hata payını dikkate alarak tahminin belirli bir olasılıkla gerçek değeri kapsayacağını gösterir.\n"
   ]
  },
  {
   "cell_type": "markdown",
   "id": "e61bfb52-0ed1-4d73-86bb-467b351eff03",
   "metadata": {},
   "source": [
    "**Z-Tablo (Z-Score Table) Nedir?**\n",
    "\n",
    "Z-tablo, standart normal dağılım altında belirli bir z-skoruna karşılık gelen olasılık (alan) değerlerini gösteren bir tablodur. Bu tablo, bir değerin ortalamadan ne kadar uzak olduğunu ve bu değerin normal dağılım içindeki konumunu belirlemek için kullanılır. Z dağılımı büyük örneklemler ve bilinen standart sapma için kullanılır. Z katsayısı, belirli bir güven seviyesine karşılık gelen kritik değerdir.\n",
    "\n",
    "Z Katsayısı Ne İşe Yarar?\n",
    "\n",
    "✔️ Güven aralıklarını oluşturmak için kullanılır.\n",
    "\n",
    "✔️ Örneklemden popülasyona genelleme yaparken hata payını hesaplamamıza yardımcı olur.\n",
    "    \n",
    "✔️ Örneklem büyüklüğüne bağlı olarak belirsizliği ölçmek için kullanılır.\n"
   ]
  },
  {
   "cell_type": "code",
   "execution_count": 3,
   "id": "0b143be5-d4ef-4736-8777-bc5b9d090015",
   "metadata": {},
   "outputs": [],
   "source": [
    "###UYGULAMA####\n",
    "df = sns.load_dataset('tips')"
   ]
  },
  {
   "cell_type": "code",
   "execution_count": 5,
   "id": "a825d680-10f9-4d80-9f34-da8c3f9b32c8",
   "metadata": {},
   "outputs": [
    {
     "data": {
      "text/html": [
       "<div>\n",
       "<style scoped>\n",
       "    .dataframe tbody tr th:only-of-type {\n",
       "        vertical-align: middle;\n",
       "    }\n",
       "\n",
       "    .dataframe tbody tr th {\n",
       "        vertical-align: top;\n",
       "    }\n",
       "\n",
       "    .dataframe thead th {\n",
       "        text-align: right;\n",
       "    }\n",
       "</style>\n",
       "<table border=\"1\" class=\"dataframe\">\n",
       "  <thead>\n",
       "    <tr style=\"text-align: right;\">\n",
       "      <th></th>\n",
       "      <th>count</th>\n",
       "      <th>mean</th>\n",
       "      <th>std</th>\n",
       "      <th>min</th>\n",
       "      <th>25%</th>\n",
       "      <th>50%</th>\n",
       "      <th>75%</th>\n",
       "      <th>max</th>\n",
       "    </tr>\n",
       "  </thead>\n",
       "  <tbody>\n",
       "    <tr>\n",
       "      <th>total_bill</th>\n",
       "      <td>244.00000</td>\n",
       "      <td>19.78594</td>\n",
       "      <td>8.90241</td>\n",
       "      <td>3.07000</td>\n",
       "      <td>13.34750</td>\n",
       "      <td>17.79500</td>\n",
       "      <td>24.12750</td>\n",
       "      <td>50.81000</td>\n",
       "    </tr>\n",
       "    <tr>\n",
       "      <th>tip</th>\n",
       "      <td>244.00000</td>\n",
       "      <td>2.99828</td>\n",
       "      <td>1.38364</td>\n",
       "      <td>1.00000</td>\n",
       "      <td>2.00000</td>\n",
       "      <td>2.90000</td>\n",
       "      <td>3.56250</td>\n",
       "      <td>10.00000</td>\n",
       "    </tr>\n",
       "    <tr>\n",
       "      <th>size</th>\n",
       "      <td>244.00000</td>\n",
       "      <td>2.56967</td>\n",
       "      <td>0.95110</td>\n",
       "      <td>1.00000</td>\n",
       "      <td>2.00000</td>\n",
       "      <td>2.00000</td>\n",
       "      <td>3.00000</td>\n",
       "      <td>6.00000</td>\n",
       "    </tr>\n",
       "  </tbody>\n",
       "</table>\n",
       "</div>"
      ],
      "text/plain": [
       "               count     mean     std     min      25%      50%      75%  \\\n",
       "total_bill 244.00000 19.78594 8.90241 3.07000 13.34750 17.79500 24.12750   \n",
       "tip        244.00000  2.99828 1.38364 1.00000  2.00000  2.90000  3.56250   \n",
       "size       244.00000  2.56967 0.95110 1.00000  2.00000  2.00000  3.00000   \n",
       "\n",
       "                max  \n",
       "total_bill 50.81000  \n",
       "tip        10.00000  \n",
       "size        6.00000  "
      ]
     },
     "execution_count": 5,
     "metadata": {},
     "output_type": "execute_result"
    }
   ],
   "source": [
    "df.describe().T"
   ]
  },
  {
   "cell_type": "markdown",
   "id": "3c728359-f6b3-4393-9d5d-ec9b0404d16f",
   "metadata": {},
   "source": [
    "* Tips veri setinde bulunan total_bill değişkenin güven aralığı nedir?\n",
    "\n",
    "Ortalama müşterilerin bıraktığı hesap ortalama 19.78. Biz burda şuna ulaşmak istiyoruz kötü seneryoda ne kadar kazanırım, iyi seneryoda ne kadar kazanırım."
   ]
  },
  {
   "cell_type": "code",
   "execution_count": 8,
   "id": "1e0f91cd-1fd2-4516-8dfe-57da87b4dc5e",
   "metadata": {},
   "outputs": [
    {
     "data": {
      "text/plain": [
       "(18.66333170435847, 20.908553541543164)"
      ]
     },
     "execution_count": 8,
     "metadata": {},
     "output_type": "execute_result"
    }
   ],
   "source": [
    "sms.DescrStatsW(df['total_bill']).tconfint_mean()\n",
    "#Bu satırda kullanılan kod, statsmodels kütüphanesinin DescrStatsW sınıfı ile bir serinin (örneğin df['total_bill']) ağırlıksız tanımlayıcı istatistiklerini hesaplar \n",
    "#ve ardından ortalamanın güven aralığını verir. \n",
    "#.tconfint_mean():\n",
    "#Ortalamanın t-dağılımına göre güven aralığını (confidence interval) hesaplar.Varsayılan olarak %95 güven aralığını verir."
   ]
  },
  {
   "cell_type": "markdown",
   "id": "c8cf6a02-3a86-4302-bbb8-88695e16a698",
   "metadata": {},
   "source": [
    "* Bu, total_bill değişkeninin ortalama değerinin, %95 güvenle 18.6633 ile 20.908553 arasında olduğunu gösterir.%5 de hata payı vardır.\n",
    "\n"
   ]
  },
  {
   "cell_type": "code",
   "execution_count": 15,
   "id": "a990e81b-09f4-46ff-94f2-6a1be01b1143",
   "metadata": {},
   "outputs": [
    {
     "data": {
      "text/plain": [
       "(2.8237993062818205, 3.172758070767359)"
      ]
     },
     "execution_count": 15,
     "metadata": {},
     "output_type": "execute_result"
    }
   ],
   "source": [
    "sms.DescrStatsW(df['tip']).tconfint_mean()"
   ]
  },
  {
   "cell_type": "markdown",
   "id": "2f5e50a3-c1ee-4dcf-890f-33a5e738c7c0",
   "metadata": {},
   "source": [
    "* Gelen müşterilerin bırakacağı bahşiş değeri %5 hata payı ile 2.8237 ile 3.1727 arasındadır."
   ]
  },
  {
   "cell_type": "code",
   "execution_count": 25,
   "id": "8702ba7a-46cd-481d-9e54-1f25c7008bdf",
   "metadata": {},
   "outputs": [],
   "source": [
    "#titanic veri setindeki değişkenler için güven aralığı\n",
    "df = sns.load_dataset('titanic')\n"
   ]
  },
  {
   "cell_type": "code",
   "execution_count": 23,
   "id": "83384937-6559-4183-bc92-6e7dcddf280d",
   "metadata": {},
   "outputs": [
    {
     "data": {
      "text/html": [
       "<div>\n",
       "<style scoped>\n",
       "    .dataframe tbody tr th:only-of-type {\n",
       "        vertical-align: middle;\n",
       "    }\n",
       "\n",
       "    .dataframe tbody tr th {\n",
       "        vertical-align: top;\n",
       "    }\n",
       "\n",
       "    .dataframe thead th {\n",
       "        text-align: right;\n",
       "    }\n",
       "</style>\n",
       "<table border=\"1\" class=\"dataframe\">\n",
       "  <thead>\n",
       "    <tr style=\"text-align: right;\">\n",
       "      <th></th>\n",
       "      <th>count</th>\n",
       "      <th>mean</th>\n",
       "      <th>std</th>\n",
       "      <th>min</th>\n",
       "      <th>25%</th>\n",
       "      <th>50%</th>\n",
       "      <th>75%</th>\n",
       "      <th>max</th>\n",
       "    </tr>\n",
       "  </thead>\n",
       "  <tbody>\n",
       "    <tr>\n",
       "      <th>survived</th>\n",
       "      <td>891.00000</td>\n",
       "      <td>0.38384</td>\n",
       "      <td>0.48659</td>\n",
       "      <td>0.00000</td>\n",
       "      <td>0.00000</td>\n",
       "      <td>0.00000</td>\n",
       "      <td>1.00000</td>\n",
       "      <td>1.00000</td>\n",
       "    </tr>\n",
       "    <tr>\n",
       "      <th>pclass</th>\n",
       "      <td>891.00000</td>\n",
       "      <td>2.30864</td>\n",
       "      <td>0.83607</td>\n",
       "      <td>1.00000</td>\n",
       "      <td>2.00000</td>\n",
       "      <td>3.00000</td>\n",
       "      <td>3.00000</td>\n",
       "      <td>3.00000</td>\n",
       "    </tr>\n",
       "    <tr>\n",
       "      <th>age</th>\n",
       "      <td>714.00000</td>\n",
       "      <td>29.69912</td>\n",
       "      <td>14.52650</td>\n",
       "      <td>0.42000</td>\n",
       "      <td>20.12500</td>\n",
       "      <td>28.00000</td>\n",
       "      <td>38.00000</td>\n",
       "      <td>80.00000</td>\n",
       "    </tr>\n",
       "    <tr>\n",
       "      <th>sibsp</th>\n",
       "      <td>891.00000</td>\n",
       "      <td>0.52301</td>\n",
       "      <td>1.10274</td>\n",
       "      <td>0.00000</td>\n",
       "      <td>0.00000</td>\n",
       "      <td>0.00000</td>\n",
       "      <td>1.00000</td>\n",
       "      <td>8.00000</td>\n",
       "    </tr>\n",
       "    <tr>\n",
       "      <th>parch</th>\n",
       "      <td>891.00000</td>\n",
       "      <td>0.38159</td>\n",
       "      <td>0.80606</td>\n",
       "      <td>0.00000</td>\n",
       "      <td>0.00000</td>\n",
       "      <td>0.00000</td>\n",
       "      <td>0.00000</td>\n",
       "      <td>6.00000</td>\n",
       "    </tr>\n",
       "    <tr>\n",
       "      <th>fare</th>\n",
       "      <td>891.00000</td>\n",
       "      <td>32.20421</td>\n",
       "      <td>49.69343</td>\n",
       "      <td>0.00000</td>\n",
       "      <td>7.91040</td>\n",
       "      <td>14.45420</td>\n",
       "      <td>31.00000</td>\n",
       "      <td>512.32920</td>\n",
       "    </tr>\n",
       "  </tbody>\n",
       "</table>\n",
       "</div>"
      ],
      "text/plain": [
       "             count     mean      std     min      25%      50%      75%  \\\n",
       "survived 891.00000  0.38384  0.48659 0.00000  0.00000  0.00000  1.00000   \n",
       "pclass   891.00000  2.30864  0.83607 1.00000  2.00000  3.00000  3.00000   \n",
       "age      714.00000 29.69912 14.52650 0.42000 20.12500 28.00000 38.00000   \n",
       "sibsp    891.00000  0.52301  1.10274 0.00000  0.00000  0.00000  1.00000   \n",
       "parch    891.00000  0.38159  0.80606 0.00000  0.00000  0.00000  0.00000   \n",
       "fare     891.00000 32.20421 49.69343 0.00000  7.91040 14.45420 31.00000   \n",
       "\n",
       "               max  \n",
       "survived   1.00000  \n",
       "pclass     3.00000  \n",
       "age       80.00000  \n",
       "sibsp      8.00000  \n",
       "parch      6.00000  \n",
       "fare     512.32920  "
      ]
     },
     "execution_count": 23,
     "metadata": {},
     "output_type": "execute_result"
    }
   ],
   "source": [
    "df.describe().T"
   ]
  },
  {
   "cell_type": "code",
   "execution_count": 27,
   "id": "c1cd8a8b-7ae8-468f-aa26-27e037370cfe",
   "metadata": {},
   "outputs": [
    {
     "data": {
      "text/plain": [
       "(28.631790041821507, 30.766445252296133)"
      ]
     },
     "execution_count": 27,
     "metadata": {},
     "output_type": "execute_result"
    }
   ],
   "source": [
    "sms.DescrStatsW(df['age'].dropna()).tconfint_mean()#eksik değerleri sildik hata almamak için"
   ]
  },
  {
   "cell_type": "markdown",
   "id": "1e24f764-8651-4e5a-8791-27528bd76db5",
   "metadata": {},
   "source": [
    "* Yaş değişkeni %5 hata payı ile 28.63179 ile 30.7664 arasındadır."
   ]
  },
  {
   "cell_type": "markdown",
   "id": "680d22f0-2de7-4fb0-8cf4-242e99bcde15",
   "metadata": {},
   "source": [
    "<span style=\"color: blue; font-weight: bold;\">4-KORELASYON</span>\n",
    "\n",
    "Değişkenler arasındaki ilişki, bu ilişkinin yönü ve şiddeti ile ilgili bilgiler sağlayan istatistiksel yöntemdir.Korelasyon 1 ile -1 değerleri arasında yer alır. 0 korelasyon yani değişkenler arasında herhangi bir ilişki olmadığı anlamına gelir.\n",
    "\n",
    "* Pozitif Korelasyon: Bir değişkenin değeri artarken diğer değişkeninde değerinin artması demektir.\n",
    "\n",
    "* Negatif Korelasyon: Bir değikenin değeri artarken diğer değişkenin değerinin azalması durumudur.\n"
   ]
  },
  {
   "cell_type": "markdown",
   "id": "306e240e-3e04-4543-8b6d-add81796a654",
   "metadata": {},
   "source": [
    "![Test](datasets/2.png)"
   ]
  },
  {
   "cell_type": "code",
   "execution_count": 37,
   "id": "1139df0d-41db-43c8-86d3-66e82478a33f",
   "metadata": {},
   "outputs": [],
   "source": [
    "###UYGULAMA###\n",
    "df = sns.load_dataset('tips')\n",
    "# Bahşiş veri seti:\n",
    "# total_bill: yemeğin toplam fiyatı (bahşiş ve vergi dahil)\n",
    "# tip: bahşiş\n",
    "# sex: ücreti ödeyen kişinin cinsiyeti (0=male, 1=female)\n",
    "# smoker: grupta sigara içen var mı? (0=No, 1=Yes)\n",
    "# day: gün (3=Thur, 4=Fri, 5=Sat, 6=Sun)\n",
    "# time: ne zaman? (0=Day, 1=Night)\n",
    "# size: grupta kaç kişi var?"
   ]
  },
  {
   "cell_type": "code",
   "execution_count": 39,
   "id": "36dfd4c7-db77-4c8e-8c0c-e2470977abd8",
   "metadata": {},
   "outputs": [
    {
     "data": {
      "text/html": [
       "<div>\n",
       "<style scoped>\n",
       "    .dataframe tbody tr th:only-of-type {\n",
       "        vertical-align: middle;\n",
       "    }\n",
       "\n",
       "    .dataframe tbody tr th {\n",
       "        vertical-align: top;\n",
       "    }\n",
       "\n",
       "    .dataframe thead th {\n",
       "        text-align: right;\n",
       "    }\n",
       "</style>\n",
       "<table border=\"1\" class=\"dataframe\">\n",
       "  <thead>\n",
       "    <tr style=\"text-align: right;\">\n",
       "      <th></th>\n",
       "      <th>total_bill</th>\n",
       "      <th>tip</th>\n",
       "      <th>sex</th>\n",
       "      <th>smoker</th>\n",
       "      <th>day</th>\n",
       "      <th>time</th>\n",
       "      <th>size</th>\n",
       "    </tr>\n",
       "  </thead>\n",
       "  <tbody>\n",
       "    <tr>\n",
       "      <th>0</th>\n",
       "      <td>16.99000</td>\n",
       "      <td>1.01000</td>\n",
       "      <td>Female</td>\n",
       "      <td>No</td>\n",
       "      <td>Sun</td>\n",
       "      <td>Dinner</td>\n",
       "      <td>2</td>\n",
       "    </tr>\n",
       "    <tr>\n",
       "      <th>1</th>\n",
       "      <td>10.34000</td>\n",
       "      <td>1.66000</td>\n",
       "      <td>Male</td>\n",
       "      <td>No</td>\n",
       "      <td>Sun</td>\n",
       "      <td>Dinner</td>\n",
       "      <td>3</td>\n",
       "    </tr>\n",
       "    <tr>\n",
       "      <th>2</th>\n",
       "      <td>21.01000</td>\n",
       "      <td>3.50000</td>\n",
       "      <td>Male</td>\n",
       "      <td>No</td>\n",
       "      <td>Sun</td>\n",
       "      <td>Dinner</td>\n",
       "      <td>3</td>\n",
       "    </tr>\n",
       "    <tr>\n",
       "      <th>3</th>\n",
       "      <td>23.68000</td>\n",
       "      <td>3.31000</td>\n",
       "      <td>Male</td>\n",
       "      <td>No</td>\n",
       "      <td>Sun</td>\n",
       "      <td>Dinner</td>\n",
       "      <td>2</td>\n",
       "    </tr>\n",
       "    <tr>\n",
       "      <th>4</th>\n",
       "      <td>24.59000</td>\n",
       "      <td>3.61000</td>\n",
       "      <td>Female</td>\n",
       "      <td>No</td>\n",
       "      <td>Sun</td>\n",
       "      <td>Dinner</td>\n",
       "      <td>4</td>\n",
       "    </tr>\n",
       "  </tbody>\n",
       "</table>\n",
       "</div>"
      ],
      "text/plain": [
       "   total_bill     tip     sex smoker  day    time  size\n",
       "0    16.99000 1.01000  Female     No  Sun  Dinner     2\n",
       "1    10.34000 1.66000    Male     No  Sun  Dinner     3\n",
       "2    21.01000 3.50000    Male     No  Sun  Dinner     3\n",
       "3    23.68000 3.31000    Male     No  Sun  Dinner     2\n",
       "4    24.59000 3.61000  Female     No  Sun  Dinner     4"
      ]
     },
     "execution_count": 39,
     "metadata": {},
     "output_type": "execute_result"
    }
   ],
   "source": [
    "df.head()"
   ]
  },
  {
   "cell_type": "markdown",
   "id": "693fc9bc-4559-49c6-87c5-97c7a1c9c925",
   "metadata": {},
   "source": [
    "**Verilen bahşiş ile ödenen hesap arasında bir ilişki var mı?**"
   ]
  },
  {
   "cell_type": "markdown",
   "id": "f0576ce2-4e87-4806-87f0-adabe5e6aebe",
   "metadata": {},
   "source": [
    "#veri setinde toplam ödenen ücrette bahşişde dahil olduğu için:\n",
    "df['total_bill'] = df['total_bill'] - df['tip']"
   ]
  },
  {
   "cell_type": "code",
   "execution_count": 44,
   "id": "3c48686c-8722-4b5a-afe0-e0c8e22c5766",
   "metadata": {},
   "outputs": [
    {
     "data": {
      "text/plain": [
       "<Axes: xlabel='tip', ylabel='total_bill'>"
      ]
     },
     "execution_count": 44,
     "metadata": {},
     "output_type": "execute_result"
    },
    {
     "data": {
      "image/png": "[encoded data removed]",
      "text/plain": [
       "<Figure size 640x480 with 1 Axes>"
      ]
     },
     "metadata": {},
     "output_type": "display_data"
    }
   ],
   "source": [
    "df.plot.scatter('tip', 'total_bill')\n",
    "#Bu grafik; 'tip' (bahşiş) ve 'total_bill' (toplam hesap) arasındaki ilişkiyi görselleştirmek için kullanılır."
   ]
  },
  {
   "cell_type": "markdown",
   "id": "5e67e6d5-ffd4-471c-a19d-2c2e33c3ed43",
   "metadata": {},
   "source": [
    "* Grafiğe bakıldığında poztif yönlü bir ilişki var gibi görünüyor. Fakat şiddeti hakkında bir yorum yapamıyorum"
   ]
  },
  {
   "cell_type": "code",
   "execution_count": 47,
   "id": "2722b487-f522-4a9f-b602-ee7f45acf6f0",
   "metadata": {},
   "outputs": [
    {
     "data": {
      "text/plain": [
       "0.5766634471096374"
      ]
     },
     "execution_count": 47,
     "metadata": {},
     "output_type": "execute_result"
    }
   ],
   "source": [
    "df['tip'].corr(df['total_bill'])"
   ]
  },
  {
   "cell_type": "markdown",
   "id": "76b1f973-dc18-427c-8432-0babe9f93d0f",
   "metadata": {},
   "source": [
    "* İki değişken arasında pozitif yönlü orta şiddetli bir korelayon vardır.Ödenen hesap arttıkça bahşişin de artttığını söyleyebiliriz."
   ]
  },
  {
   "cell_type": "code",
   "execution_count": null,
   "id": "49d79655-472b-433a-be3d-95992278e25c",
   "metadata": {},
   "outputs": [],
   "source": []
  }
 ],
 "metadata": {
  "kernelspec": {
   "display_name": "Python [conda env:base] *",
   "language": "python",
   "name": "conda-base-py"
  },
  "language_info": {
   "codemirror_mode": {
    "name": "ipython",
    "version": 3
   },
   "file_extension": ".py",
   "mimetype": "text/x-python",
   "name": "python",
   "nbconvert_exporter": "python",
   "pygments_lexer": "ipython3",
   "version": "3.12.7"
  }
 },
 "nbformat": 4,
 "nbformat_minor": 5
}
