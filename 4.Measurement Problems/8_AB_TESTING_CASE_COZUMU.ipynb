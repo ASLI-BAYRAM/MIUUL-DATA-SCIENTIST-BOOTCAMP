{
 "cells": [
  {
   "cell_type": "markdown",
   "id": "338968d2-2b40-4464-88ac-4140fcb12356",
   "metadata": {},
   "source": [
    " <h1 style=\"text-align: center; color: RED\">AB Testi ile Bidding Yöntemlerinin\n",
    "Dönüşümünün Karşılaştırılması</h1>"
   ]
  },
  {
   "cell_type": "markdown",
   "id": "ea532dc9-e2a9-4522-b8d0-4483ee440130",
   "metadata": {},
   "source": [
    "<span style=\"color: blue; font-weight: bold;\">1-İŞ PROBLEMİ</span>\n",
    "\n",
    "Facebook kısa süre önce mevcut \"maximumbidding\" adı verilen\n",
    "teklif verme türüne alternatif olarak yeni bir teklif türü olan\n",
    "\"average bidding\"’i tanıttı.\n",
    "Müşterilerimizden biri olan bombabomba.com, bu yeni özelliği test\n",
    "etmeye karar verdi ve average bidding'inmaximumbidding'den\n",
    "daha fazla dönüşüm getirip getirmediğini anlamak için bir A/B\n",
    "testi yapmak istiyor.\n",
    "A/B testi 1 aydır devam ediyor ve bombabomba.com şimdi sizden\n",
    "bu A/B testinin sonuçlarını analiz etmenizi bekliyor.\n",
    "Bombabomba.com için nihai başarı ölçütü Purchase'dır. Bu\n",
    "nedenle, istatistiksel testler için Purchase metriğine\n",
    "odaklanılmalıdır.\n"
   ]
  },
  {
   "cell_type": "markdown",
   "id": "96021b7a-df68-40c3-8937-053fd2126819",
   "metadata": {},
   "source": [
    "<span style=\"color: blue; font-weight: bold;\">2-VERİ SETİ HİKAYESİ</span>"
   ]
  },
  {
   "cell_type": "markdown",
   "id": "bfcb7683-1b61-41ea-a6c6-e9e36ae06f38",
   "metadata": {},
   "source": [
    "Bir firmanın web site bilgilerini içeren bu veri setinde kullanıcıların gördükleri ve tıkladıkları reklam sayıları gibi bilgilerin yanı sıra\n",
    "buradan gelen kazanç bilgileri yer almaktadır. Kontrol ve Test grubu olmak üzere iki ayrı veri seti vardır. Bu veri setleri\n",
    "ab_testing.xlsx excel’inin ayrı sayfalarında yer almaktadır. Kontrol grubuna Maximum Bidding, test grubuna Average\n",
    "Bidding uygulanmıştır.\n",
    "\n",
    "**Impression**: Reklam görüntüleme sayısı\n",
    "\n",
    "**Click**: Görüntülenen reklama tıklama sayısı\n",
    "\n",
    "**Purchase**: Tıklanan reklamlar sonrası satın alınan ürün sayısı\n",
    "\n",
    "**Earning**: Satın alınan ürünler sonrası elde edilen kazanç"
   ]
  },
  {
   "cell_type": "markdown",
   "id": "fddd78db-5e74-445b-9543-41cfe51e7f5a",
   "metadata": {},
   "source": [
    " <h1 style=\"text-align: center; color: RED\">PROJE GÖREVLERİ</h1>"
   ]
  },
  {
   "cell_type": "code",
   "execution_count": 62,
   "id": "c57b4d70-8f66-4864-a031-8d2f4ae08a32",
   "metadata": {},
   "outputs": [],
   "source": [
    "import numpy as np\n",
    "import pandas as pd\n",
    "import matplotlib.pyplot as plt\n",
    "import statsmodels.stats.api as sms\n",
    "from scipy.stats import shapiro, levene, ttest_ind\n",
    "\n",
    "import itertools\n",
    "import seaborn as sns\n",
    "from scipy.stats import ttest_1samp, shapiro, levene, ttest_ind, mannwhitneyu, pearsonr, spearmanr, kendalltau, \\\n",
    "    f_oneway, kruskal\n",
    "from statsmodels.stats.proportion import proportions_ztest\n",
    "\n",
    "pd.set_option('display.max_columns', None)\n",
    "pd.set_option('display.expand_frame_repr', False)\n",
    "#pd.set_option('display.max_rows', 10)\n",
    "pd.set_option('display.float_format', lambda x: '%.5f' % x)"
   ]
  },
  {
   "cell_type": "markdown",
   "id": "b7985b0e-08d1-44d8-8223-64551524d03d",
   "metadata": {},
   "source": [
    "<span style=\"color: blue; font-weight: bold;\">Görev 1: Veriyi Hazırlama ve Analiz Etme</span>"
   ]
  },
  {
   "cell_type": "markdown",
   "id": "cbe77a11-367f-4ec6-8f12-a237b1fbff82",
   "metadata": {},
   "source": [
    "**Adım1 :** ab_testing_data.xlsx adlı kontrol ve test grubu verilerinden oluşan veri setini okutunuz. Kontrol ve test grubu verilerini ayrı\n",
    "değişkenlere atayınız."
   ]
  },
  {
   "cell_type": "code",
   "execution_count": 28,
   "id": "e656edeb-d8d8-4dee-af70-0d717d408dd0",
   "metadata": {},
   "outputs": [],
   "source": [
    "control_group = pd.read_excel(\"C:\\\\Users\\\\ASLI\\\\Desktop\\\\Data Scientist Bootcamp\\\\4.Measurement Problems\\\\datasets\\\\ab_testing.xlsx\",sheet_name = 'Control Group' )"
   ]
  },
  {
   "cell_type": "code",
   "execution_count": 30,
   "id": "37adbe55-f3e3-464f-880c-674f44aca310",
   "metadata": {},
   "outputs": [],
   "source": [
    "test_group = pd.read_excel(\"C:\\\\Users\\\\ASLI\\\\Desktop\\\\Data Scientist Bootcamp\\\\4.Measurement Problems\\\\datasets\\\\ab_testing.xlsx\",sheet_name = 'Test Group' )"
   ]
  },
  {
   "cell_type": "markdown",
   "id": "8892d7e1-58cf-4355-ba45-be096cb637f9",
   "metadata": {},
   "source": [
    "**Adım 2:** Kontrol ve test grubu verilerini analiz ediniz"
   ]
  },
  {
   "cell_type": "code",
   "execution_count": 32,
   "id": "bf0a17a0-fc53-4bb5-b236-2b6798390d28",
   "metadata": {},
   "outputs": [
    {
     "data": {
      "text/html": [
       "<div>\n",
       "<style scoped>\n",
       "    .dataframe tbody tr th:only-of-type {\n",
       "        vertical-align: middle;\n",
       "    }\n",
       "\n",
       "    .dataframe tbody tr th {\n",
       "        vertical-align: top;\n",
       "    }\n",
       "\n",
       "    .dataframe thead th {\n",
       "        text-align: right;\n",
       "    }\n",
       "</style>\n",
       "<table border=\"1\" class=\"dataframe\">\n",
       "  <thead>\n",
       "    <tr style=\"text-align: right;\">\n",
       "      <th></th>\n",
       "      <th>Impression</th>\n",
       "      <th>Click</th>\n",
       "      <th>Purchase</th>\n",
       "      <th>Earning</th>\n",
       "    </tr>\n",
       "  </thead>\n",
       "  <tbody>\n",
       "    <tr>\n",
       "      <th>0</th>\n",
       "      <td>82529.459271</td>\n",
       "      <td>6090.077317</td>\n",
       "      <td>665.211255</td>\n",
       "      <td>2311.277143</td>\n",
       "    </tr>\n",
       "    <tr>\n",
       "      <th>1</th>\n",
       "      <td>98050.451926</td>\n",
       "      <td>3382.861786</td>\n",
       "      <td>315.084895</td>\n",
       "      <td>1742.806855</td>\n",
       "    </tr>\n",
       "    <tr>\n",
       "      <th>2</th>\n",
       "      <td>82696.023549</td>\n",
       "      <td>4167.965750</td>\n",
       "      <td>458.083738</td>\n",
       "      <td>1797.827447</td>\n",
       "    </tr>\n",
       "    <tr>\n",
       "      <th>3</th>\n",
       "      <td>109914.400398</td>\n",
       "      <td>4910.882240</td>\n",
       "      <td>487.090773</td>\n",
       "      <td>1696.229178</td>\n",
       "    </tr>\n",
       "    <tr>\n",
       "      <th>4</th>\n",
       "      <td>108457.762630</td>\n",
       "      <td>5987.655811</td>\n",
       "      <td>441.034050</td>\n",
       "      <td>1543.720179</td>\n",
       "    </tr>\n",
       "  </tbody>\n",
       "</table>\n",
       "</div>"
      ],
      "text/plain": [
       "      Impression        Click    Purchase      Earning\n",
       "0   82529.459271  6090.077317  665.211255  2311.277143\n",
       "1   98050.451926  3382.861786  315.084895  1742.806855\n",
       "2   82696.023549  4167.965750  458.083738  1797.827447\n",
       "3  109914.400398  4910.882240  487.090773  1696.229178\n",
       "4  108457.762630  5987.655811  441.034050  1543.720179"
      ]
     },
     "execution_count": 32,
     "metadata": {},
     "output_type": "execute_result"
    }
   ],
   "source": [
    "control_group.head()"
   ]
  },
  {
   "cell_type": "code",
   "execution_count": 35,
   "id": "426330bd-8a33-4c58-9367-62b1c8c0825d",
   "metadata": {},
   "outputs": [
    {
     "data": {
      "text/plain": [
       "(40, 4)"
      ]
     },
     "execution_count": 35,
     "metadata": {},
     "output_type": "execute_result"
    }
   ],
   "source": [
    "control_group.shape"
   ]
  },
  {
   "cell_type": "code",
   "execution_count": 37,
   "id": "a552f1e8-3457-461c-91b5-b9ecb9fcfb7e",
   "metadata": {},
   "outputs": [
    {
     "data": {
      "text/html": [
       "<div>\n",
       "<style scoped>\n",
       "    .dataframe tbody tr th:only-of-type {\n",
       "        vertical-align: middle;\n",
       "    }\n",
       "\n",
       "    .dataframe tbody tr th {\n",
       "        vertical-align: top;\n",
       "    }\n",
       "\n",
       "    .dataframe thead th {\n",
       "        text-align: right;\n",
       "    }\n",
       "</style>\n",
       "<table border=\"1\" class=\"dataframe\">\n",
       "  <thead>\n",
       "    <tr style=\"text-align: right;\">\n",
       "      <th></th>\n",
       "      <th>Impression</th>\n",
       "      <th>Click</th>\n",
       "      <th>Purchase</th>\n",
       "      <th>Earning</th>\n",
       "    </tr>\n",
       "  </thead>\n",
       "  <tbody>\n",
       "    <tr>\n",
       "      <th>0</th>\n",
       "      <td>120103.503796</td>\n",
       "      <td>3216.547958</td>\n",
       "      <td>702.160346</td>\n",
       "      <td>1939.611243</td>\n",
       "    </tr>\n",
       "    <tr>\n",
       "      <th>1</th>\n",
       "      <td>134775.943363</td>\n",
       "      <td>3635.082422</td>\n",
       "      <td>834.054286</td>\n",
       "      <td>2929.405820</td>\n",
       "    </tr>\n",
       "    <tr>\n",
       "      <th>2</th>\n",
       "      <td>107806.620788</td>\n",
       "      <td>3057.143560</td>\n",
       "      <td>422.934258</td>\n",
       "      <td>2526.244877</td>\n",
       "    </tr>\n",
       "    <tr>\n",
       "      <th>3</th>\n",
       "      <td>116445.275526</td>\n",
       "      <td>4650.473911</td>\n",
       "      <td>429.033535</td>\n",
       "      <td>2281.428574</td>\n",
       "    </tr>\n",
       "    <tr>\n",
       "      <th>4</th>\n",
       "      <td>145082.516838</td>\n",
       "      <td>5201.387724</td>\n",
       "      <td>749.860442</td>\n",
       "      <td>2781.697521</td>\n",
       "    </tr>\n",
       "  </tbody>\n",
       "</table>\n",
       "</div>"
      ],
      "text/plain": [
       "      Impression        Click    Purchase      Earning\n",
       "0  120103.503796  3216.547958  702.160346  1939.611243\n",
       "1  134775.943363  3635.082422  834.054286  2929.405820\n",
       "2  107806.620788  3057.143560  422.934258  2526.244877\n",
       "3  116445.275526  4650.473911  429.033535  2281.428574\n",
       "4  145082.516838  5201.387724  749.860442  2781.697521"
      ]
     },
     "execution_count": 37,
     "metadata": {},
     "output_type": "execute_result"
    }
   ],
   "source": [
    "test_group.head()"
   ]
  },
  {
   "cell_type": "code",
   "execution_count": 39,
   "id": "c2c05fb0-a8e3-470b-b1ba-a4877eb98fa1",
   "metadata": {},
   "outputs": [
    {
     "data": {
      "text/plain": [
       "(40, 4)"
      ]
     },
     "execution_count": 39,
     "metadata": {},
     "output_type": "execute_result"
    }
   ],
   "source": [
    "test_group.shape"
   ]
  },
  {
   "cell_type": "code",
   "execution_count": 41,
   "id": "8bbe18ee-e9fc-4d93-82df-28b8a18998bf",
   "metadata": {},
   "outputs": [
    {
     "data": {
      "text/html": [
       "<div>\n",
       "<style scoped>\n",
       "    .dataframe tbody tr th:only-of-type {\n",
       "        vertical-align: middle;\n",
       "    }\n",
       "\n",
       "    .dataframe tbody tr th {\n",
       "        vertical-align: top;\n",
       "    }\n",
       "\n",
       "    .dataframe thead th {\n",
       "        text-align: right;\n",
       "    }\n",
       "</style>\n",
       "<table border=\"1\" class=\"dataframe\">\n",
       "  <thead>\n",
       "    <tr style=\"text-align: right;\">\n",
       "      <th></th>\n",
       "      <th>count</th>\n",
       "      <th>mean</th>\n",
       "      <th>std</th>\n",
       "      <th>min</th>\n",
       "      <th>25%</th>\n",
       "      <th>50%</th>\n",
       "      <th>75%</th>\n",
       "      <th>max</th>\n",
       "    </tr>\n",
       "  </thead>\n",
       "  <tbody>\n",
       "    <tr>\n",
       "      <th>Impression</th>\n",
       "      <td>40.0</td>\n",
       "      <td>120512.411758</td>\n",
       "      <td>18807.448712</td>\n",
       "      <td>79033.834921</td>\n",
       "      <td>112691.970770</td>\n",
       "      <td>119291.300775</td>\n",
       "      <td>132050.578933</td>\n",
       "      <td>158605.920483</td>\n",
       "    </tr>\n",
       "    <tr>\n",
       "      <th>Click</th>\n",
       "      <td>40.0</td>\n",
       "      <td>3967.549761</td>\n",
       "      <td>923.095073</td>\n",
       "      <td>1836.629861</td>\n",
       "      <td>3376.819024</td>\n",
       "      <td>3931.359804</td>\n",
       "      <td>4660.497911</td>\n",
       "      <td>6019.695079</td>\n",
       "    </tr>\n",
       "    <tr>\n",
       "      <th>Purchase</th>\n",
       "      <td>40.0</td>\n",
       "      <td>582.106097</td>\n",
       "      <td>161.152513</td>\n",
       "      <td>311.629515</td>\n",
       "      <td>444.626828</td>\n",
       "      <td>551.355732</td>\n",
       "      <td>699.862360</td>\n",
       "      <td>889.910460</td>\n",
       "    </tr>\n",
       "    <tr>\n",
       "      <th>Earning</th>\n",
       "      <td>40.0</td>\n",
       "      <td>2514.890733</td>\n",
       "      <td>282.730852</td>\n",
       "      <td>1939.611243</td>\n",
       "      <td>2280.537426</td>\n",
       "      <td>2544.666107</td>\n",
       "      <td>2761.545405</td>\n",
       "      <td>3171.489708</td>\n",
       "    </tr>\n",
       "  </tbody>\n",
       "</table>\n",
       "</div>"
      ],
      "text/plain": [
       "            count           mean           std           min            25%  \\\n",
       "Impression   40.0  120512.411758  18807.448712  79033.834921  112691.970770   \n",
       "Click        40.0    3967.549761    923.095073   1836.629861    3376.819024   \n",
       "Purchase     40.0     582.106097    161.152513    311.629515     444.626828   \n",
       "Earning      40.0    2514.890733    282.730852   1939.611243    2280.537426   \n",
       "\n",
       "                      50%            75%            max  \n",
       "Impression  119291.300775  132050.578933  158605.920483  \n",
       "Click         3931.359804    4660.497911    6019.695079  \n",
       "Purchase       551.355732     699.862360     889.910460  \n",
       "Earning       2544.666107    2761.545405    3171.489708  "
      ]
     },
     "execution_count": 41,
     "metadata": {},
     "output_type": "execute_result"
    }
   ],
   "source": [
    "test_group.describe().T#test grubunun ortalama izlenme  ve maddi getirisi daha yüksek görünüyor."
   ]
  },
  {
   "cell_type": "code",
   "execution_count": 43,
   "id": "1e0a5ba2-54a0-4a7f-8da3-fe19aa40aedb",
   "metadata": {},
   "outputs": [
    {
     "data": {
      "text/html": [
       "<div>\n",
       "<style scoped>\n",
       "    .dataframe tbody tr th:only-of-type {\n",
       "        vertical-align: middle;\n",
       "    }\n",
       "\n",
       "    .dataframe tbody tr th {\n",
       "        vertical-align: top;\n",
       "    }\n",
       "\n",
       "    .dataframe thead th {\n",
       "        text-align: right;\n",
       "    }\n",
       "</style>\n",
       "<table border=\"1\" class=\"dataframe\">\n",
       "  <thead>\n",
       "    <tr style=\"text-align: right;\">\n",
       "      <th></th>\n",
       "      <th>count</th>\n",
       "      <th>mean</th>\n",
       "      <th>std</th>\n",
       "      <th>min</th>\n",
       "      <th>25%</th>\n",
       "      <th>50%</th>\n",
       "      <th>75%</th>\n",
       "      <th>max</th>\n",
       "    </tr>\n",
       "  </thead>\n",
       "  <tbody>\n",
       "    <tr>\n",
       "      <th>Impression</th>\n",
       "      <td>40.0</td>\n",
       "      <td>101711.449068</td>\n",
       "      <td>20302.157862</td>\n",
       "      <td>45475.942965</td>\n",
       "      <td>85726.690349</td>\n",
       "      <td>99790.701078</td>\n",
       "      <td>115212.816543</td>\n",
       "      <td>147539.336329</td>\n",
       "    </tr>\n",
       "    <tr>\n",
       "      <th>Click</th>\n",
       "      <td>40.0</td>\n",
       "      <td>5100.657373</td>\n",
       "      <td>1329.985498</td>\n",
       "      <td>2189.753157</td>\n",
       "      <td>4124.304129</td>\n",
       "      <td>5001.220602</td>\n",
       "      <td>5923.803596</td>\n",
       "      <td>7959.125069</td>\n",
       "    </tr>\n",
       "    <tr>\n",
       "      <th>Purchase</th>\n",
       "      <td>40.0</td>\n",
       "      <td>550.894059</td>\n",
       "      <td>134.108201</td>\n",
       "      <td>267.028943</td>\n",
       "      <td>470.095533</td>\n",
       "      <td>531.206307</td>\n",
       "      <td>637.957088</td>\n",
       "      <td>801.795020</td>\n",
       "    </tr>\n",
       "    <tr>\n",
       "      <th>Earning</th>\n",
       "      <td>40.0</td>\n",
       "      <td>1908.568300</td>\n",
       "      <td>302.917783</td>\n",
       "      <td>1253.989525</td>\n",
       "      <td>1685.847205</td>\n",
       "      <td>1975.160522</td>\n",
       "      <td>2119.802784</td>\n",
       "      <td>2497.295218</td>\n",
       "    </tr>\n",
       "  </tbody>\n",
       "</table>\n",
       "</div>"
      ],
      "text/plain": [
       "            count           mean           std           min           25%  \\\n",
       "Impression   40.0  101711.449068  20302.157862  45475.942965  85726.690349   \n",
       "Click        40.0    5100.657373   1329.985498   2189.753157   4124.304129   \n",
       "Purchase     40.0     550.894059    134.108201    267.028943    470.095533   \n",
       "Earning      40.0    1908.568300    302.917783   1253.989525   1685.847205   \n",
       "\n",
       "                     50%            75%            max  \n",
       "Impression  99790.701078  115212.816543  147539.336329  \n",
       "Click        5001.220602    5923.803596    7959.125069  \n",
       "Purchase      531.206307     637.957088     801.795020  \n",
       "Earning      1975.160522    2119.802784    2497.295218  "
      ]
     },
     "execution_count": 43,
     "metadata": {},
     "output_type": "execute_result"
    }
   ],
   "source": [
    "control_group.describe().T"
   ]
  },
  {
   "cell_type": "markdown",
   "id": "5c0cddaa-aefa-44db-bf2f-82d0e14057ed",
   "metadata": {},
   "source": [
    "**Adım 3:** Analiz işleminden sonra concat metodunu kullanarak kontrol ve test grubu verilerini birleştiriniz."
   ]
  },
  {
   "cell_type": "code",
   "execution_count": 54,
   "id": "cffe2ea7-96ac-4787-b3f3-53cf535fe9a5",
   "metadata": {},
   "outputs": [],
   "source": [
    "control_group['Group'] = 'Control'\n",
    "test_group['Group'] = 'Test'"
   ]
  },
  {
   "cell_type": "code",
   "execution_count": 56,
   "id": "e233dcdd-3333-4dbc-998b-799b11aa09dd",
   "metadata": {},
   "outputs": [],
   "source": [
    "df = pd.concat([control_group,test_group], axis=0, ignore_index=True)"
   ]
  },
  {
   "cell_type": "code",
   "execution_count": 58,
   "id": "5668de35-1ade-4496-b195-1bd92d16fdc2",
   "metadata": {},
   "outputs": [
    {
     "data": {
      "text/html": [
       "<div>\n",
       "<style scoped>\n",
       "    .dataframe tbody tr th:only-of-type {\n",
       "        vertical-align: middle;\n",
       "    }\n",
       "\n",
       "    .dataframe tbody tr th {\n",
       "        vertical-align: top;\n",
       "    }\n",
       "\n",
       "    .dataframe thead th {\n",
       "        text-align: right;\n",
       "    }\n",
       "</style>\n",
       "<table border=\"1\" class=\"dataframe\">\n",
       "  <thead>\n",
       "    <tr style=\"text-align: right;\">\n",
       "      <th></th>\n",
       "      <th>Impression</th>\n",
       "      <th>Click</th>\n",
       "      <th>Purchase</th>\n",
       "      <th>Earning</th>\n",
       "      <th>Group</th>\n",
       "    </tr>\n",
       "  </thead>\n",
       "  <tbody>\n",
       "    <tr>\n",
       "      <th>0</th>\n",
       "      <td>82529.459271</td>\n",
       "      <td>6090.077317</td>\n",
       "      <td>665.211255</td>\n",
       "      <td>2311.277143</td>\n",
       "      <td>Control</td>\n",
       "    </tr>\n",
       "    <tr>\n",
       "      <th>1</th>\n",
       "      <td>98050.451926</td>\n",
       "      <td>3382.861786</td>\n",
       "      <td>315.084895</td>\n",
       "      <td>1742.806855</td>\n",
       "      <td>Control</td>\n",
       "    </tr>\n",
       "    <tr>\n",
       "      <th>2</th>\n",
       "      <td>82696.023549</td>\n",
       "      <td>4167.965750</td>\n",
       "      <td>458.083738</td>\n",
       "      <td>1797.827447</td>\n",
       "      <td>Control</td>\n",
       "    </tr>\n",
       "    <tr>\n",
       "      <th>3</th>\n",
       "      <td>109914.400398</td>\n",
       "      <td>4910.882240</td>\n",
       "      <td>487.090773</td>\n",
       "      <td>1696.229178</td>\n",
       "      <td>Control</td>\n",
       "    </tr>\n",
       "    <tr>\n",
       "      <th>4</th>\n",
       "      <td>108457.762630</td>\n",
       "      <td>5987.655811</td>\n",
       "      <td>441.034050</td>\n",
       "      <td>1543.720179</td>\n",
       "      <td>Control</td>\n",
       "    </tr>\n",
       "  </tbody>\n",
       "</table>\n",
       "</div>"
      ],
      "text/plain": [
       "      Impression        Click    Purchase      Earning    Group\n",
       "0   82529.459271  6090.077317  665.211255  2311.277143  Control\n",
       "1   98050.451926  3382.861786  315.084895  1742.806855  Control\n",
       "2   82696.023549  4167.965750  458.083738  1797.827447  Control\n",
       "3  109914.400398  4910.882240  487.090773  1696.229178  Control\n",
       "4  108457.762630  5987.655811  441.034050  1543.720179  Control"
      ]
     },
     "execution_count": 58,
     "metadata": {},
     "output_type": "execute_result"
    }
   ],
   "source": [
    "df.head()"
   ]
  },
  {
   "cell_type": "code",
   "execution_count": 60,
   "id": "b73a32fd-e7a3-41d4-b0a6-91e05f5b9d69",
   "metadata": {},
   "outputs": [
    {
     "data": {
      "text/html": [
       "<div>\n",
       "<style scoped>\n",
       "    .dataframe tbody tr th:only-of-type {\n",
       "        vertical-align: middle;\n",
       "    }\n",
       "\n",
       "    .dataframe tbody tr th {\n",
       "        vertical-align: top;\n",
       "    }\n",
       "\n",
       "    .dataframe thead th {\n",
       "        text-align: right;\n",
       "    }\n",
       "</style>\n",
       "<table border=\"1\" class=\"dataframe\">\n",
       "  <thead>\n",
       "    <tr style=\"text-align: right;\">\n",
       "      <th></th>\n",
       "      <th>Impression</th>\n",
       "      <th>Click</th>\n",
       "      <th>Purchase</th>\n",
       "      <th>Earning</th>\n",
       "      <th>Group</th>\n",
       "    </tr>\n",
       "  </thead>\n",
       "  <tbody>\n",
       "    <tr>\n",
       "      <th>75</th>\n",
       "      <td>79234.911929</td>\n",
       "      <td>6002.213585</td>\n",
       "      <td>382.047116</td>\n",
       "      <td>2277.863984</td>\n",
       "      <td>Test</td>\n",
       "    </tr>\n",
       "    <tr>\n",
       "      <th>76</th>\n",
       "      <td>130702.239410</td>\n",
       "      <td>3626.320072</td>\n",
       "      <td>449.824592</td>\n",
       "      <td>2530.841327</td>\n",
       "      <td>Test</td>\n",
       "    </tr>\n",
       "    <tr>\n",
       "      <th>77</th>\n",
       "      <td>116481.873365</td>\n",
       "      <td>4702.782468</td>\n",
       "      <td>472.453725</td>\n",
       "      <td>2597.917632</td>\n",
       "      <td>Test</td>\n",
       "    </tr>\n",
       "    <tr>\n",
       "      <th>78</th>\n",
       "      <td>79033.834921</td>\n",
       "      <td>4495.428177</td>\n",
       "      <td>425.359102</td>\n",
       "      <td>2595.857880</td>\n",
       "      <td>Test</td>\n",
       "    </tr>\n",
       "    <tr>\n",
       "      <th>79</th>\n",
       "      <td>102257.454089</td>\n",
       "      <td>4800.068321</td>\n",
       "      <td>521.310729</td>\n",
       "      <td>2967.518390</td>\n",
       "      <td>Test</td>\n",
       "    </tr>\n",
       "  </tbody>\n",
       "</table>\n",
       "</div>"
      ],
      "text/plain": [
       "       Impression        Click    Purchase      Earning Group\n",
       "75   79234.911929  6002.213585  382.047116  2277.863984  Test\n",
       "76  130702.239410  3626.320072  449.824592  2530.841327  Test\n",
       "77  116481.873365  4702.782468  472.453725  2597.917632  Test\n",
       "78   79033.834921  4495.428177  425.359102  2595.857880  Test\n",
       "79  102257.454089  4800.068321  521.310729  2967.518390  Test"
      ]
     },
     "execution_count": 60,
     "metadata": {},
     "output_type": "execute_result"
    }
   ],
   "source": [
    "df.tail()"
   ]
  },
  {
   "cell_type": "markdown",
   "id": "1a2fce73-0d02-48a2-8303-e3af4c6e316c",
   "metadata": {},
   "source": [
    "<span style=\"color: blue; font-weight: bold;\">Görev 2: A/B Testinin Hipotezinin Tanımlanması</span>"
   ]
  },
  {
   "cell_type": "markdown",
   "id": "5cd8dd2f-a4b7-4735-abfa-b300d779a818",
   "metadata": {},
   "source": [
    "**Adım 1**: Hipotezi tanımlayınız.\n",
    "\n",
    "H0: m1=m2 (control ve test gruplarının ortalama kazançları arasında istatistiksel olarak fark yoktur.)\n",
    "\n",
    "H1: m1!=m2 (fark yoktur)"
   ]
  },
  {
   "cell_type": "markdown",
   "id": "865cafa2-0656-400b-bdf0-7ca4c038e2b5",
   "metadata": {},
   "source": [
    "**Adım 2:** Kontrol ve test grubu için purchase (kazanç) ortalamalarını analiz ediniz."
   ]
  },
  {
   "cell_type": "code",
   "execution_count": 75,
   "id": "114eb344-d3a5-4074-ac7a-c8a1c6bf3a9a",
   "metadata": {},
   "outputs": [
    {
     "data": {
      "text/html": [
       "<div>\n",
       "<style scoped>\n",
       "    .dataframe tbody tr th:only-of-type {\n",
       "        vertical-align: middle;\n",
       "    }\n",
       "\n",
       "    .dataframe tbody tr th {\n",
       "        vertical-align: top;\n",
       "    }\n",
       "\n",
       "    .dataframe thead th {\n",
       "        text-align: right;\n",
       "    }\n",
       "</style>\n",
       "<table border=\"1\" class=\"dataframe\">\n",
       "  <thead>\n",
       "    <tr style=\"text-align: right;\">\n",
       "      <th></th>\n",
       "      <th>Purchase</th>\n",
       "    </tr>\n",
       "    <tr>\n",
       "      <th>Group</th>\n",
       "      <th></th>\n",
       "    </tr>\n",
       "  </thead>\n",
       "  <tbody>\n",
       "    <tr>\n",
       "      <th>Control</th>\n",
       "      <td>550.89406</td>\n",
       "    </tr>\n",
       "    <tr>\n",
       "      <th>Test</th>\n",
       "      <td>582.10610</td>\n",
       "    </tr>\n",
       "  </tbody>\n",
       "</table>\n",
       "</div>"
      ],
      "text/plain": [
       "         Purchase\n",
       "Group            \n",
       "Control 550.89406\n",
       "Test    582.10610"
      ]
     },
     "execution_count": 75,
     "metadata": {},
     "output_type": "execute_result"
    }
   ],
   "source": [
    "df.groupby('Group').agg({'Purchase':'mean'})# ortalamalar arasında fark var görünüyor. Aba istatistiksel olarak bu fark gercekten var mı?"
   ]
  },
  {
   "cell_type": "markdown",
   "id": "02115750-76ae-4a3e-b545-9ca84d0a3cf1",
   "metadata": {},
   "source": [
    "<span style=\"color: blue; font-weight: bold;\">Görev 3: Hipotez Testinin Gerçekleştirilmesi</span>"
   ]
  },
  {
   "cell_type": "markdown",
   "id": "283a9123-d2f4-43c6-b7ca-b1662b0c225c",
   "metadata": {},
   "source": [
    "**Adım 1:** Hipotez testi yapılmadan önce varsayım kontrollerini yapınız.\n",
    "    \n",
    "Bunlar Normallik Varsayımı ve Varyans Homojenliğidir. Kontrol ve test grubunun normallik varsayımına uyup uymadığını Purchase değişkeni\n",
    "üzerinden ayrı ayrı test ediniz.\n",
    "\n",
    "Normallik Varsayımı :\n",
    "\n",
    "H0: Normal dağılım varsayımı sağlanmaktadır.\n",
    "\n",
    "H1: Normal dağılım varsayımı sağlanmamaktadır.\n",
    "\n",
    "p < 0.05 H0 RED , p > 0.05 H0 REDDEDİLEMEZ\n",
    "\n",
    "Test sonucuna göre normallik varsayımı kontrol ve test grupları için sağlanıyor mu ? Elde edilen p-value değerlerini yorumlayınız.\n",
    "\n",
    "Varyans Homojenliği :\n",
    "\n",
    "H0: Varyanslar homojendir.\n",
    "\n",
    "H1: Varyanslar homojen Değildir.\n",
    "\n",
    "p < 0.05 H0 RED , p > 0.05 H0 REDDEDİLEMEZ\n",
    "\n",
    "Kontrol ve test grubu için varyans homojenliğinin sağlanıp sağlanmadığını Purchase değişkeni üzerinden test ediniz.\n",
    "\n",
    "Test sonucuna göre normallik varsayımı sağlanıyor mu? Elde edilen p-value değerlerini yorumlayınız.\n"
   ]
  },
  {
   "cell_type": "code",
   "execution_count": 88,
   "id": "8a5436d4-68d2-4bf8-aa8b-53dcdebe8e42",
   "metadata": {},
   "outputs": [
    {
     "name": "stdout",
     "output_type": "stream",
     "text": [
      "Test Stat = 0.9773, p-value = 0.5891\n"
     ]
    }
   ],
   "source": [
    "#Normallik Varsayımı\n",
    "test_stat, pvalue= shapiro(df.loc[df['Group']=='Control', 'Purchase'])\n",
    "print('Test Stat = %.4f, p-value = %.4f' % (test_stat, pvalue))"
   ]
  },
  {
   "cell_type": "markdown",
   "id": "fde9e1ca-f437-42e4-b171-b7e53763ce4d",
   "metadata": {},
   "source": [
    "* p value değeri 0.05'ten büyük oldugu için H0 reddedilemez. Yani normallik varsayımı sağlanmaktadır."
   ]
  },
  {
   "cell_type": "code",
   "execution_count": 91,
   "id": "f99e51b4-026f-4721-a5db-3291c984da24",
   "metadata": {},
   "outputs": [
    {
     "name": "stdout",
     "output_type": "stream",
     "text": [
      "Test Stat = 0.9589, p-value = 0.1541\n"
     ]
    }
   ],
   "source": [
    "#Normallik Varsayımı\n",
    "test_stat, pvalue= shapiro(df.loc[df['Group']=='Test', 'Purchase'])\n",
    "print('Test Stat = %.4f, p-value = %.4f' % (test_stat, pvalue))"
   ]
  },
  {
   "cell_type": "markdown",
   "id": "25ff9702-6218-4daf-92ff-05a894cfaf2f",
   "metadata": {},
   "source": [
    "* p value değeri 0.05'ten büyük oldugu için H0 reddedilemez. Yani normallik varsayımı sağlanmaktadır."
   ]
  },
  {
   "cell_type": "code",
   "execution_count": 103,
   "id": "9b003f8a-c717-4171-8afb-f2680b905541",
   "metadata": {},
   "outputs": [
    {
     "name": "stdout",
     "output_type": "stream",
     "text": [
      "Test Stat = 2.6393, p-value = 0.1083\n"
     ]
    }
   ],
   "source": [
    "#Varyans Homojenliği\n",
    "test_stat, pvalue= levene(df.loc[df['Group']=='Test', 'Purchase'],\n",
    "                          df.loc[df['Group']=='Control', 'Purchase'])\n",
    "print('Test Stat = %.4f, p-value = %.4f' % (test_stat, pvalue))"
   ]
  },
  {
   "cell_type": "markdown",
   "id": "4793287e-fec4-4451-81a5-3e9616de372f",
   "metadata": {},
   "source": [
    "* p value değeri 0.05'ten büyük oldugu için H0 reddedilemez. Yanivaryans homojenliği sağlanmaktadır."
   ]
  },
  {
   "cell_type": "markdown",
   "id": "d8a821ca-cfcf-4b1e-bbc1-201b87fb5248",
   "metadata": {},
   "source": [
    "**Adım 2:** Normallik Varsayımı ve Varyans Homojenliği sonuçlarına göre uygun testi seçiniz."
   ]
  },
  {
   "cell_type": "markdown",
   "id": "7e40c9e9-2665-4a83-af71-9d09863668be",
   "metadata": {},
   "source": [
    "* Her iki  varsayımda sağlandığı için parametrik olan bağımsız iki örneklem t testi yapılacaktır."
   ]
  },
  {
   "cell_type": "markdown",
   "id": "18e462ff-f7f1-4839-a01d-9c3b5c2b6bb5",
   "metadata": {},
   "source": [
    "**Adım 3:** Test sonucunda elde edilen p_value değerini göz önünde bulundurarak kontrol ve test grubu satın alma ortalamaları arasında istatistiki\n",
    "olarak anlamlı bir fark olup olmadığını yorumlayınız."
   ]
  },
  {
   "cell_type": "code",
   "execution_count": 114,
   "id": "4d109b7a-c452-4426-99ab-0d6c07c14685",
   "metadata": {},
   "outputs": [
    {
     "name": "stdout",
     "output_type": "stream",
     "text": [
      "Test Stat = 0.9416, p-value=0.3493\n"
     ]
    }
   ],
   "source": [
    "#T testi\n",
    "test_stat, pvalue = ttest_ind(df.loc[df['Group']=='Test', 'Purchase'],\n",
    "                              df.loc[df['Group']=='Control', 'Purchase'],\n",
    "                              equal_var=True)\n",
    "print('Test Stat = %.4f, p-value=%.4f' % (test_stat,pvalue))"
   ]
  },
  {
   "cell_type": "markdown",
   "id": "c479b768-0c04-4740-9768-1bc252c6604e",
   "metadata": {},
   "source": [
    "* p value değeri 0.05 den büyük oldugu için Ho reddeilemez yani purchase değişkeninde iki grup için anlamlı bir fark yoktur."
   ]
  },
  {
   "cell_type": "markdown",
   "id": "ae6b0008-0c23-4a48-adb8-8a527c1a98c3",
   "metadata": {},
   "source": [
    "<span style=\"color: blue; font-weight: bold;\">Görev 4: Sonuçların Analizi</span>"
   ]
  },
  {
   "cell_type": "markdown",
   "id": "891eb327-323a-46db-92e4-99a3e7ede919",
   "metadata": {},
   "source": [
    "**Adım 1:** Hangi testi kullandınız, sebeplerini belirtiniz."
   ]
  },
  {
   "cell_type": "markdown",
   "id": "ddc471c5-16ee-44b2-842f-148dad38cda9",
   "metadata": {},
   "source": [
    "Normallik varsayımı yaparken shapiro testini, varyans homojenliği testi yaparken levene tesi kullandık.\n",
    "\n",
    "Her iki varsayımda sağlandığı için iki bağımsız örneklem t testini kullandık."
   ]
  },
  {
   "cell_type": "markdown",
   "id": "2f81b626-f940-4a40-a40d-02f1012f3c98",
   "metadata": {},
   "source": [
    "**Adım 2:** Elde ettiğiniz test sonuçlarına göre müşteriye tavsiyede bulununuz."
   ]
  },
  {
   "cell_type": "markdown",
   "id": "ab3cea8b-a754-4786-97a7-a1bbf5239e8c",
   "metadata": {},
   "source": [
    "Sonuçlara bakıldıgında AVERAGE BIDDING'IN getirdiği satın alma ortlamaları ile\n",
    "eski ürün MAX BIDDING'ın getirdiği ortalama arasında bir fark yoktur. Bu test yapılırken 40 gözlem içeren bir veri srti ile yapıldı. Veri srtindeki gözlem sayısı artırılarak sonuclar tekrardan analiz edilebilir. Yeni ürün ile eski ürünü test etmek için biraz daha zaman harcanabilir.Eğer test için süre yoksa mevcut uygulama ile devam edilebilir. "
   ]
  },
  {
   "cell_type": "code",
   "execution_count": null,
   "id": "9c42e182-4a15-440f-bd4d-629fc9457bb5",
   "metadata": {},
   "outputs": [],
   "source": []
  }
 ],
 "metadata": {
  "kernelspec": {
   "display_name": "Python [conda env:base] *",
   "language": "python",
   "name": "conda-base-py"
  },
  "language_info": {
   "codemirror_mode": {
    "name": "ipython",
    "version": 3
   },
   "file_extension": ".py",
   "mimetype": "text/x-python",
   "name": "python",
   "nbconvert_exporter": "python",
   "pygments_lexer": "ipython3",
   "version": "3.12.7"
  }
 },
 "nbformat": 4,
 "nbformat_minor": 5
}
