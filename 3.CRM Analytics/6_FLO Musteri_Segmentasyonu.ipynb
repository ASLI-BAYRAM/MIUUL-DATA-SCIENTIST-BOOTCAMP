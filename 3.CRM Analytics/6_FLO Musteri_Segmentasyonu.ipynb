{
 "cells": [
  {
   "cell_type": "markdown",
   "id": "35d79653-7e3f-43e8-ac3f-b251cc83c518",
   "metadata": {},
   "source": [
    " <h1 style=\"text-align: center; color: RED\">RFM ANALİZİ İLE FLO MÜŞTERİ SEGMENTASYONU</h1>"
   ]
  },
  {
   "cell_type": "markdown",
   "id": "c504157f-4703-48ae-a97b-11ed8475929a",
   "metadata": {},
   "source": [
    " ![Görsel açıklaması](data:image/png;base64,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)"
   ]
  },
  {
   "cell_type": "markdown",
   "id": "80351251-03ad-4491-8812-daa16ecfc49b",
   "metadata": {},
   "source": [
    "<span style=\"color: blue; font-weight: bold;\">İŞ PROBLEMİ</span> "
   ]
  },
  {
   "cell_type": "markdown",
   "id": "b13e4db6-700b-45fc-8dca-feff8f2d8f0a",
   "metadata": {},
   "source": [
    "Online ayakkabı mağazası olan FLO müşterilerini\n",
    "segmentlere ayırıp bu segmentlere göre pazarlama\n",
    "stratejileri belirlemek istiyor. Buna yönelik olarak\n",
    "müşterilerin davranışları tanımlanacak ve bu\n",
    "davranışlardaki öbeklenmelere göre gruplar oluşturulacak.\n"
   ]
  },
  {
   "cell_type": "markdown",
   "id": "e3b4c27e-08cf-49ef-8c86-a2dced5f8f74",
   "metadata": {},
   "source": [
    "<span style=\"color: blue; font-weight: bold;\">VERİ SETİ HİKAYESİ</span> "
   ]
  },
  {
   "cell_type": "markdown",
   "id": "4ac5a009-7983-4934-bf9d-dce2d5603e18",
   "metadata": {},
   "source": [
    "Veri seti son alışverişlerini 2020 - 2021 yıllarında OmniChannel(hem online hem offline alışveriş yapan) olarak yapan müşterilerin geçmiş alışveriş davranışlarından\n",
    "elde edilen bilgilerden oluşmaktadır.\n",
    "\n",
    "* master_id: Eşsiz müşteri numarası\n",
    "* order_channel : Alışveriş yapılan platforma ait hangi kanalın kullanıldığı (Android, ios, Desktop, Mobile, Offline)\n",
    "* last_order_channel : En son alışverişin yapıldığı kanal\n",
    "* first_order_date : Müşterinin yaptığı ilk alışveriş tarihi\n",
    "* last_order_date : Müşterinin yaptığı son alışveriş tarihi\n",
    "* last_order_date_online : Muşterinin online platformda yaptığı son alışveriş tarihi\n",
    "* last_order_date_offline : Muşterinin offline platformda yaptığı son alışveriş tarihi\n",
    "* order_num_total_ever_online : Müşterinin online platformda yaptığı toplam alışveriş sayısı\n",
    "* order_num_total_ever_offline : Müşterinin offline'da yaptığı toplam alışveriş sayısı\n",
    "* customer_value_total_ever_offline : Müşterinin offline alışverişlerinde ödediği toplam ücret\n",
    "* customer_value_total_ever_online : Müşterinin online alışverişlerinde ödediği toplam ücret\n",
    "* interested_in_categories_12 : Müşterinin son 12 ayda alışveriş yaptığı kategorilerin listesi"
   ]
  },
  {
   "cell_type": "markdown",
   "id": "25b9a7c9-5cfb-4ea8-b92f-57f3d25b2a5f",
   "metadata": {},
   "source": [
    "<span style=\"color: blue; font-weight: bold;\">GÖREV 1:VERİYİ ANLAMA VE HAZIRLAMA</span> "
   ]
  },
  {
   "cell_type": "code",
   "execution_count": 38,
   "id": "5fbf8e2e-2e23-4106-a9d7-17d6afe7fb07",
   "metadata": {},
   "outputs": [],
   "source": [
    "import datetime as dt\n",
    "import pandas as pd\n",
    "import seaborn as sns\n",
    "import matplotlib.pyplot as plt\n",
    "pd.set_option('display.max_columns', None)\n",
    "pd.set_option('display.max_rows', 50)\n",
    "pd.set_option('display.width',500)\n",
    "pd.set_option('display.float.format',lambda x: '%.3f' % x)"
   ]
  },
  {
   "cell_type": "markdown",
   "id": "206f603b-0878-40c9-b689-6a6b3bd067be",
   "metadata": {},
   "source": [
    "**Adım1:** flo_data_20K.csv verisini okuyunuz.Dataframe’in kopyasını oluşturunuz."
   ]
  },
  {
   "cell_type": "code",
   "execution_count": 25,
   "id": "47ecaef0-b391-4828-9728-1f784b33625d",
   "metadata": {},
   "outputs": [],
   "source": [
    "df_ = pd.read_csv(\"C:\\\\Users\\\\ASLI\\\\Desktop\\\\Data Scientist Bootcamp\\\\3.CRM Analytics\\\\resim\\\\flo_data_20k.csv\")"
   ]
  },
  {
   "cell_type": "code",
   "execution_count": 27,
   "id": "e7ff0385-2d41-4cd9-9b7a-b1c624023364",
   "metadata": {},
   "outputs": [],
   "source": [
    "df = df_.copy()"
   ]
  },
  {
   "cell_type": "markdown",
   "id": "02bc717c-e956-40e3-8132-6f04619a42da",
   "metadata": {},
   "source": [
    "**Adım2:** \n",
    "           Veri setinde\n",
    "           \n",
    "           a. İlk 10 gözlem,\n",
    "           b. Değişken isimleri,\n",
    "           c. Betimsel istatistik,\n",
    "           d. Boş değer,\n",
    "           e. Değişken tipleri, incelemesi yapınız."
   ]
  },
  {
   "cell_type": "code",
   "execution_count": 40,
   "id": "86cc6692-ba38-4c4e-9dcd-80c63c6e33e0",
   "metadata": {},
   "outputs": [
    {
     "data": {
      "text/html": [
       "<div>\n",
       "<style scoped>\n",
       "    .dataframe tbody tr th:only-of-type {\n",
       "        vertical-align: middle;\n",
       "    }\n",
       "\n",
       "    .dataframe tbody tr th {\n",
       "        vertical-align: top;\n",
       "    }\n",
       "\n",
       "    .dataframe thead th {\n",
       "        text-align: right;\n",
       "    }\n",
       "</style>\n",
       "<table border=\"1\" class=\"dataframe\">\n",
       "  <thead>\n",
       "    <tr style=\"text-align: right;\">\n",
       "      <th></th>\n",
       "      <th>master_id</th>\n",
       "      <th>order_channel</th>\n",
       "      <th>last_order_channel</th>\n",
       "      <th>first_order_date</th>\n",
       "      <th>last_order_date</th>\n",
       "      <th>last_order_date_online</th>\n",
       "      <th>last_order_date_offline</th>\n",
       "      <th>order_num_total_ever_online</th>\n",
       "      <th>order_num_total_ever_offline</th>\n",
       "      <th>customer_value_total_ever_offline</th>\n",
       "      <th>customer_value_total_ever_online</th>\n",
       "      <th>interested_in_categories_12</th>\n",
       "    </tr>\n",
       "  </thead>\n",
       "  <tbody>\n",
       "    <tr>\n",
       "      <th>0</th>\n",
       "      <td>cc294636-19f0-11eb-8d74-000d3a38a36f</td>\n",
       "      <td>Android App</td>\n",
       "      <td>Offline</td>\n",
       "      <td>2020-10-30</td>\n",
       "      <td>2021-02-26</td>\n",
       "      <td>2021-02-21</td>\n",
       "      <td>2021-02-26</td>\n",
       "      <td>4.000</td>\n",
       "      <td>1.000</td>\n",
       "      <td>139.990</td>\n",
       "      <td>799.380</td>\n",
       "      <td>[KADIN]</td>\n",
       "    </tr>\n",
       "    <tr>\n",
       "      <th>1</th>\n",
       "      <td>f431bd5a-ab7b-11e9-a2fc-000d3a38a36f</td>\n",
       "      <td>Android App</td>\n",
       "      <td>Mobile</td>\n",
       "      <td>2017-02-08</td>\n",
       "      <td>2021-02-16</td>\n",
       "      <td>2021-02-16</td>\n",
       "      <td>2020-01-10</td>\n",
       "      <td>19.000</td>\n",
       "      <td>2.000</td>\n",
       "      <td>159.970</td>\n",
       "      <td>1853.580</td>\n",
       "      <td>[ERKEK, COCUK, KADIN, AKTIFSPOR]</td>\n",
       "    </tr>\n",
       "    <tr>\n",
       "      <th>2</th>\n",
       "      <td>69b69676-1a40-11ea-941b-000d3a38a36f</td>\n",
       "      <td>Android App</td>\n",
       "      <td>Android App</td>\n",
       "      <td>2019-11-27</td>\n",
       "      <td>2020-11-27</td>\n",
       "      <td>2020-11-27</td>\n",
       "      <td>2019-12-01</td>\n",
       "      <td>3.000</td>\n",
       "      <td>2.000</td>\n",
       "      <td>189.970</td>\n",
       "      <td>395.350</td>\n",
       "      <td>[ERKEK, KADIN]</td>\n",
       "    </tr>\n",
       "    <tr>\n",
       "      <th>3</th>\n",
       "      <td>1854e56c-491f-11eb-806e-000d3a38a36f</td>\n",
       "      <td>Android App</td>\n",
       "      <td>Android App</td>\n",
       "      <td>2021-01-06</td>\n",
       "      <td>2021-01-17</td>\n",
       "      <td>2021-01-17</td>\n",
       "      <td>2021-01-06</td>\n",
       "      <td>1.000</td>\n",
       "      <td>1.000</td>\n",
       "      <td>39.990</td>\n",
       "      <td>81.980</td>\n",
       "      <td>[AKTIFCOCUK, COCUK]</td>\n",
       "    </tr>\n",
       "    <tr>\n",
       "      <th>4</th>\n",
       "      <td>d6ea1074-f1f5-11e9-9346-000d3a38a36f</td>\n",
       "      <td>Desktop</td>\n",
       "      <td>Desktop</td>\n",
       "      <td>2019-08-03</td>\n",
       "      <td>2021-03-07</td>\n",
       "      <td>2021-03-07</td>\n",
       "      <td>2019-08-03</td>\n",
       "      <td>1.000</td>\n",
       "      <td>1.000</td>\n",
       "      <td>49.990</td>\n",
       "      <td>159.990</td>\n",
       "      <td>[AKTIFSPOR]</td>\n",
       "    </tr>\n",
       "    <tr>\n",
       "      <th>5</th>\n",
       "      <td>e585280e-aae1-11e9-a2fc-000d3a38a36f</td>\n",
       "      <td>Desktop</td>\n",
       "      <td>Offline</td>\n",
       "      <td>2018-11-18</td>\n",
       "      <td>2021-03-13</td>\n",
       "      <td>2018-11-18</td>\n",
       "      <td>2021-03-13</td>\n",
       "      <td>1.000</td>\n",
       "      <td>2.000</td>\n",
       "      <td>150.870</td>\n",
       "      <td>49.990</td>\n",
       "      <td>[KADIN]</td>\n",
       "    </tr>\n",
       "    <tr>\n",
       "      <th>6</th>\n",
       "      <td>c445e4ee-6242-11ea-9d1a-000d3a38a36f</td>\n",
       "      <td>Android App</td>\n",
       "      <td>Android App</td>\n",
       "      <td>2020-03-04</td>\n",
       "      <td>2020-10-18</td>\n",
       "      <td>2020-10-18</td>\n",
       "      <td>2020-03-04</td>\n",
       "      <td>3.000</td>\n",
       "      <td>1.000</td>\n",
       "      <td>59.990</td>\n",
       "      <td>315.940</td>\n",
       "      <td>[AKTIFSPOR]</td>\n",
       "    </tr>\n",
       "    <tr>\n",
       "      <th>7</th>\n",
       "      <td>3f1b4dc8-8a7d-11ea-8ec0-000d3a38a36f</td>\n",
       "      <td>Mobile</td>\n",
       "      <td>Offline</td>\n",
       "      <td>2020-05-15</td>\n",
       "      <td>2020-08-12</td>\n",
       "      <td>2020-05-15</td>\n",
       "      <td>2020-08-12</td>\n",
       "      <td>1.000</td>\n",
       "      <td>1.000</td>\n",
       "      <td>49.990</td>\n",
       "      <td>113.640</td>\n",
       "      <td>[COCUK]</td>\n",
       "    </tr>\n",
       "    <tr>\n",
       "      <th>8</th>\n",
       "      <td>cfbda69e-5b4f-11ea-aca7-000d3a38a36f</td>\n",
       "      <td>Android App</td>\n",
       "      <td>Android App</td>\n",
       "      <td>2020-01-23</td>\n",
       "      <td>2021-03-07</td>\n",
       "      <td>2021-03-07</td>\n",
       "      <td>2020-01-25</td>\n",
       "      <td>3.000</td>\n",
       "      <td>2.000</td>\n",
       "      <td>120.480</td>\n",
       "      <td>934.210</td>\n",
       "      <td>[ERKEK, COCUK, KADIN]</td>\n",
       "    </tr>\n",
       "    <tr>\n",
       "      <th>9</th>\n",
       "      <td>1143f032-440d-11ea-8b43-000d3a38a36f</td>\n",
       "      <td>Mobile</td>\n",
       "      <td>Mobile</td>\n",
       "      <td>2019-07-30</td>\n",
       "      <td>2020-10-04</td>\n",
       "      <td>2020-10-04</td>\n",
       "      <td>2019-07-30</td>\n",
       "      <td>1.000</td>\n",
       "      <td>1.000</td>\n",
       "      <td>69.980</td>\n",
       "      <td>95.980</td>\n",
       "      <td>[KADIN, AKTIFSPOR]</td>\n",
       "    </tr>\n",
       "  </tbody>\n",
       "</table>\n",
       "</div>"
      ],
      "text/plain": [
       "                              master_id order_channel last_order_channel first_order_date last_order_date last_order_date_online last_order_date_offline  order_num_total_ever_online  order_num_total_ever_offline  customer_value_total_ever_offline  customer_value_total_ever_online       interested_in_categories_12\n",
       "0  cc294636-19f0-11eb-8d74-000d3a38a36f   Android App            Offline       2020-10-30      2021-02-26             2021-02-21              2021-02-26                        4.000                         1.000                            139.990                           799.380                           [KADIN]\n",
       "1  f431bd5a-ab7b-11e9-a2fc-000d3a38a36f   Android App             Mobile       2017-02-08      2021-02-16             2021-02-16              2020-01-10                       19.000                         2.000                            159.970                          1853.580  [ERKEK, COCUK, KADIN, AKTIFSPOR]\n",
       "2  69b69676-1a40-11ea-941b-000d3a38a36f   Android App        Android App       2019-11-27      2020-11-27             2020-11-27              2019-12-01                        3.000                         2.000                            189.970                           395.350                    [ERKEK, KADIN]\n",
       "3  1854e56c-491f-11eb-806e-000d3a38a36f   Android App        Android App       2021-01-06      2021-01-17             2021-01-17              2021-01-06                        1.000                         1.000                             39.990                            81.980               [AKTIFCOCUK, COCUK]\n",
       "4  d6ea1074-f1f5-11e9-9346-000d3a38a36f       Desktop            Desktop       2019-08-03      2021-03-07             2021-03-07              2019-08-03                        1.000                         1.000                             49.990                           159.990                       [AKTIFSPOR]\n",
       "5  e585280e-aae1-11e9-a2fc-000d3a38a36f       Desktop            Offline       2018-11-18      2021-03-13             2018-11-18              2021-03-13                        1.000                         2.000                            150.870                            49.990                           [KADIN]\n",
       "6  c445e4ee-6242-11ea-9d1a-000d3a38a36f   Android App        Android App       2020-03-04      2020-10-18             2020-10-18              2020-03-04                        3.000                         1.000                             59.990                           315.940                       [AKTIFSPOR]\n",
       "7  3f1b4dc8-8a7d-11ea-8ec0-000d3a38a36f        Mobile            Offline       2020-05-15      2020-08-12             2020-05-15              2020-08-12                        1.000                         1.000                             49.990                           113.640                           [COCUK]\n",
       "8  cfbda69e-5b4f-11ea-aca7-000d3a38a36f   Android App        Android App       2020-01-23      2021-03-07             2021-03-07              2020-01-25                        3.000                         2.000                            120.480                           934.210             [ERKEK, COCUK, KADIN]\n",
       "9  1143f032-440d-11ea-8b43-000d3a38a36f        Mobile             Mobile       2019-07-30      2020-10-04             2020-10-04              2019-07-30                        1.000                         1.000                             69.980                            95.980                [KADIN, AKTIFSPOR]"
      ]
     },
     "execution_count": 40,
     "metadata": {},
     "output_type": "execute_result"
    }
   ],
   "source": [
    "df.head(10)"
   ]
  },
  {
   "cell_type": "code",
   "execution_count": 42,
   "id": "80ba33ee-c088-447c-8f85-4f9299e19251",
   "metadata": {},
   "outputs": [
    {
     "data": {
      "text/plain": [
       "Index(['master_id', 'order_channel', 'last_order_channel', 'first_order_date', 'last_order_date', 'last_order_date_online', 'last_order_date_offline', 'order_num_total_ever_online', 'order_num_total_ever_offline', 'customer_value_total_ever_offline', 'customer_value_total_ever_online', 'interested_in_categories_12'], dtype='object')"
      ]
     },
     "execution_count": 42,
     "metadata": {},
     "output_type": "execute_result"
    }
   ],
   "source": [
    "df.columns"
   ]
  },
  {
   "cell_type": "code",
   "execution_count": 44,
   "id": "e967a123-609f-4a40-97ab-d0161fd1ae8f",
   "metadata": {},
   "outputs": [
    {
     "data": {
      "text/html": [
       "<div>\n",
       "<style scoped>\n",
       "    .dataframe tbody tr th:only-of-type {\n",
       "        vertical-align: middle;\n",
       "    }\n",
       "\n",
       "    .dataframe tbody tr th {\n",
       "        vertical-align: top;\n",
       "    }\n",
       "\n",
       "    .dataframe thead th {\n",
       "        text-align: right;\n",
       "    }\n",
       "</style>\n",
       "<table border=\"1\" class=\"dataframe\">\n",
       "  <thead>\n",
       "    <tr style=\"text-align: right;\">\n",
       "      <th></th>\n",
       "      <th>count</th>\n",
       "      <th>mean</th>\n",
       "      <th>std</th>\n",
       "      <th>min</th>\n",
       "      <th>25%</th>\n",
       "      <th>50%</th>\n",
       "      <th>75%</th>\n",
       "      <th>max</th>\n",
       "    </tr>\n",
       "  </thead>\n",
       "  <tbody>\n",
       "    <tr>\n",
       "      <th>order_num_total_ever_online</th>\n",
       "      <td>19945.000</td>\n",
       "      <td>3.111</td>\n",
       "      <td>4.226</td>\n",
       "      <td>1.000</td>\n",
       "      <td>1.000</td>\n",
       "      <td>2.000</td>\n",
       "      <td>4.000</td>\n",
       "      <td>200.000</td>\n",
       "    </tr>\n",
       "    <tr>\n",
       "      <th>order_num_total_ever_offline</th>\n",
       "      <td>19945.000</td>\n",
       "      <td>1.914</td>\n",
       "      <td>2.063</td>\n",
       "      <td>1.000</td>\n",
       "      <td>1.000</td>\n",
       "      <td>1.000</td>\n",
       "      <td>2.000</td>\n",
       "      <td>109.000</td>\n",
       "    </tr>\n",
       "    <tr>\n",
       "      <th>customer_value_total_ever_offline</th>\n",
       "      <td>19945.000</td>\n",
       "      <td>253.923</td>\n",
       "      <td>301.533</td>\n",
       "      <td>10.000</td>\n",
       "      <td>99.990</td>\n",
       "      <td>179.980</td>\n",
       "      <td>319.970</td>\n",
       "      <td>18119.140</td>\n",
       "    </tr>\n",
       "    <tr>\n",
       "      <th>customer_value_total_ever_online</th>\n",
       "      <td>19945.000</td>\n",
       "      <td>497.322</td>\n",
       "      <td>832.602</td>\n",
       "      <td>12.990</td>\n",
       "      <td>149.980</td>\n",
       "      <td>286.460</td>\n",
       "      <td>578.440</td>\n",
       "      <td>45220.130</td>\n",
       "    </tr>\n",
       "  </tbody>\n",
       "</table>\n",
       "</div>"
      ],
      "text/plain": [
       "                                      count    mean     std    min     25%     50%     75%       max\n",
       "order_num_total_ever_online       19945.000   3.111   4.226  1.000   1.000   2.000   4.000   200.000\n",
       "order_num_total_ever_offline      19945.000   1.914   2.063  1.000   1.000   1.000   2.000   109.000\n",
       "customer_value_total_ever_offline 19945.000 253.923 301.533 10.000  99.990 179.980 319.970 18119.140\n",
       "customer_value_total_ever_online  19945.000 497.322 832.602 12.990 149.980 286.460 578.440 45220.130"
      ]
     },
     "execution_count": 44,
     "metadata": {},
     "output_type": "execute_result"
    }
   ],
   "source": [
    "df.describe().T"
   ]
  },
  {
   "cell_type": "code",
   "execution_count": 46,
   "id": "1e058dc4-3118-4410-90e2-2213fff2c4dc",
   "metadata": {},
   "outputs": [
    {
     "data": {
      "text/plain": [
       "master_id                            0\n",
       "order_channel                        0\n",
       "last_order_channel                   0\n",
       "first_order_date                     0\n",
       "last_order_date                      0\n",
       "last_order_date_online               0\n",
       "last_order_date_offline              0\n",
       "order_num_total_ever_online          0\n",
       "order_num_total_ever_offline         0\n",
       "customer_value_total_ever_offline    0\n",
       "customer_value_total_ever_online     0\n",
       "interested_in_categories_12          0\n",
       "dtype: int64"
      ]
     },
     "execution_count": 46,
     "metadata": {},
     "output_type": "execute_result"
    }
   ],
   "source": [
    "df.isnull().sum()"
   ]
  },
  {
   "cell_type": "code",
   "execution_count": 48,
   "id": "08ffb506-696d-4a0f-a4c8-de91933f4160",
   "metadata": {},
   "outputs": [
    {
     "name": "stdout",
     "output_type": "stream",
     "text": [
      "<class 'pandas.core.frame.DataFrame'>\n",
      "RangeIndex: 19945 entries, 0 to 19944\n",
      "Data columns (total 12 columns):\n",
      " #   Column                             Non-Null Count  Dtype  \n",
      "---  ------                             --------------  -----  \n",
      " 0   master_id                          19945 non-null  object \n",
      " 1   order_channel                      19945 non-null  object \n",
      " 2   last_order_channel                 19945 non-null  object \n",
      " 3   first_order_date                   19945 non-null  object \n",
      " 4   last_order_date                    19945 non-null  object \n",
      " 5   last_order_date_online             19945 non-null  object \n",
      " 6   last_order_date_offline            19945 non-null  object \n",
      " 7   order_num_total_ever_online        19945 non-null  float64\n",
      " 8   order_num_total_ever_offline       19945 non-null  float64\n",
      " 9   customer_value_total_ever_offline  19945 non-null  float64\n",
      " 10  customer_value_total_ever_online   19945 non-null  float64\n",
      " 11  interested_in_categories_12        19945 non-null  object \n",
      "dtypes: float64(4), object(8)\n",
      "memory usage: 1.8+ MB\n"
     ]
    }
   ],
   "source": [
    "df.info()"
   ]
  },
  {
   "cell_type": "markdown",
   "id": "e7c4dcb6-bb82-4ab3-95e3-12b9c372034d",
   "metadata": {},
   "source": [
    "**Adım3:** Omnichannel müşterilerin hem online'dan hemde offline platformlardan alışveriş yaptığını ifade etmektedir. Her bir müşterinin toplam\n",
    "alışveriş sayısı ve harcaması için yeni değişkenler oluşturunuz."
   ]
  },
  {
   "cell_type": "code",
   "execution_count": 53,
   "id": "eaa51f21-6e0a-4d21-9c75-4f00a8b1564c",
   "metadata": {},
   "outputs": [],
   "source": [
    "df['total_order_num'] = df['order_num_total_ever_online'] + df['order_num_total_ever_offline']"
   ]
  },
  {
   "cell_type": "code",
   "execution_count": 55,
   "id": "c271b38e-dde1-4409-9631-6b0ebfbe53d5",
   "metadata": {},
   "outputs": [],
   "source": [
    "df['total_customer_value'] = df['customer_value_total_ever_offline'] + df['customer_value_total_ever_online']"
   ]
  },
  {
   "cell_type": "code",
   "execution_count": 57,
   "id": "e89b0113-e6c1-41d1-b77a-4c36297b25a4",
   "metadata": {},
   "outputs": [
    {
     "data": {
      "text/html": [
       "<div>\n",
       "<style scoped>\n",
       "    .dataframe tbody tr th:only-of-type {\n",
       "        vertical-align: middle;\n",
       "    }\n",
       "\n",
       "    .dataframe tbody tr th {\n",
       "        vertical-align: top;\n",
       "    }\n",
       "\n",
       "    .dataframe thead th {\n",
       "        text-align: right;\n",
       "    }\n",
       "</style>\n",
       "<table border=\"1\" class=\"dataframe\">\n",
       "  <thead>\n",
       "    <tr style=\"text-align: right;\">\n",
       "      <th></th>\n",
       "      <th>master_id</th>\n",
       "      <th>order_channel</th>\n",
       "      <th>last_order_channel</th>\n",
       "      <th>first_order_date</th>\n",
       "      <th>last_order_date</th>\n",
       "      <th>last_order_date_online</th>\n",
       "      <th>last_order_date_offline</th>\n",
       "      <th>order_num_total_ever_online</th>\n",
       "      <th>order_num_total_ever_offline</th>\n",
       "      <th>customer_value_total_ever_offline</th>\n",
       "      <th>customer_value_total_ever_online</th>\n",
       "      <th>interested_in_categories_12</th>\n",
       "      <th>total_order_num</th>\n",
       "      <th>total_customer_value</th>\n",
       "    </tr>\n",
       "  </thead>\n",
       "  <tbody>\n",
       "    <tr>\n",
       "      <th>0</th>\n",
       "      <td>cc294636-19f0-11eb-8d74-000d3a38a36f</td>\n",
       "      <td>Android App</td>\n",
       "      <td>Offline</td>\n",
       "      <td>2020-10-30</td>\n",
       "      <td>2021-02-26</td>\n",
       "      <td>2021-02-21</td>\n",
       "      <td>2021-02-26</td>\n",
       "      <td>4.000</td>\n",
       "      <td>1.000</td>\n",
       "      <td>139.990</td>\n",
       "      <td>799.380</td>\n",
       "      <td>[KADIN]</td>\n",
       "      <td>5.000</td>\n",
       "      <td>939.370</td>\n",
       "    </tr>\n",
       "    <tr>\n",
       "      <th>1</th>\n",
       "      <td>f431bd5a-ab7b-11e9-a2fc-000d3a38a36f</td>\n",
       "      <td>Android App</td>\n",
       "      <td>Mobile</td>\n",
       "      <td>2017-02-08</td>\n",
       "      <td>2021-02-16</td>\n",
       "      <td>2021-02-16</td>\n",
       "      <td>2020-01-10</td>\n",
       "      <td>19.000</td>\n",
       "      <td>2.000</td>\n",
       "      <td>159.970</td>\n",
       "      <td>1853.580</td>\n",
       "      <td>[ERKEK, COCUK, KADIN, AKTIFSPOR]</td>\n",
       "      <td>21.000</td>\n",
       "      <td>2013.550</td>\n",
       "    </tr>\n",
       "    <tr>\n",
       "      <th>2</th>\n",
       "      <td>69b69676-1a40-11ea-941b-000d3a38a36f</td>\n",
       "      <td>Android App</td>\n",
       "      <td>Android App</td>\n",
       "      <td>2019-11-27</td>\n",
       "      <td>2020-11-27</td>\n",
       "      <td>2020-11-27</td>\n",
       "      <td>2019-12-01</td>\n",
       "      <td>3.000</td>\n",
       "      <td>2.000</td>\n",
       "      <td>189.970</td>\n",
       "      <td>395.350</td>\n",
       "      <td>[ERKEK, KADIN]</td>\n",
       "      <td>5.000</td>\n",
       "      <td>585.320</td>\n",
       "    </tr>\n",
       "    <tr>\n",
       "      <th>3</th>\n",
       "      <td>1854e56c-491f-11eb-806e-000d3a38a36f</td>\n",
       "      <td>Android App</td>\n",
       "      <td>Android App</td>\n",
       "      <td>2021-01-06</td>\n",
       "      <td>2021-01-17</td>\n",
       "      <td>2021-01-17</td>\n",
       "      <td>2021-01-06</td>\n",
       "      <td>1.000</td>\n",
       "      <td>1.000</td>\n",
       "      <td>39.990</td>\n",
       "      <td>81.980</td>\n",
       "      <td>[AKTIFCOCUK, COCUK]</td>\n",
       "      <td>2.000</td>\n",
       "      <td>121.970</td>\n",
       "    </tr>\n",
       "    <tr>\n",
       "      <th>4</th>\n",
       "      <td>d6ea1074-f1f5-11e9-9346-000d3a38a36f</td>\n",
       "      <td>Desktop</td>\n",
       "      <td>Desktop</td>\n",
       "      <td>2019-08-03</td>\n",
       "      <td>2021-03-07</td>\n",
       "      <td>2021-03-07</td>\n",
       "      <td>2019-08-03</td>\n",
       "      <td>1.000</td>\n",
       "      <td>1.000</td>\n",
       "      <td>49.990</td>\n",
       "      <td>159.990</td>\n",
       "      <td>[AKTIFSPOR]</td>\n",
       "      <td>2.000</td>\n",
       "      <td>209.980</td>\n",
       "    </tr>\n",
       "  </tbody>\n",
       "</table>\n",
       "</div>"
      ],
      "text/plain": [
       "                              master_id order_channel last_order_channel first_order_date last_order_date last_order_date_online last_order_date_offline  order_num_total_ever_online  order_num_total_ever_offline  customer_value_total_ever_offline  customer_value_total_ever_online       interested_in_categories_12  total_order_num  total_customer_value\n",
       "0  cc294636-19f0-11eb-8d74-000d3a38a36f   Android App            Offline       2020-10-30      2021-02-26             2021-02-21              2021-02-26                        4.000                         1.000                            139.990                           799.380                           [KADIN]            5.000               939.370\n",
       "1  f431bd5a-ab7b-11e9-a2fc-000d3a38a36f   Android App             Mobile       2017-02-08      2021-02-16             2021-02-16              2020-01-10                       19.000                         2.000                            159.970                          1853.580  [ERKEK, COCUK, KADIN, AKTIFSPOR]           21.000              2013.550\n",
       "2  69b69676-1a40-11ea-941b-000d3a38a36f   Android App        Android App       2019-11-27      2020-11-27             2020-11-27              2019-12-01                        3.000                         2.000                            189.970                           395.350                    [ERKEK, KADIN]            5.000               585.320\n",
       "3  1854e56c-491f-11eb-806e-000d3a38a36f   Android App        Android App       2021-01-06      2021-01-17             2021-01-17              2021-01-06                        1.000                         1.000                             39.990                            81.980               [AKTIFCOCUK, COCUK]            2.000               121.970\n",
       "4  d6ea1074-f1f5-11e9-9346-000d3a38a36f       Desktop            Desktop       2019-08-03      2021-03-07             2021-03-07              2019-08-03                        1.000                         1.000                             49.990                           159.990                       [AKTIFSPOR]            2.000               209.980"
      ]
     },
     "execution_count": 57,
     "metadata": {},
     "output_type": "execute_result"
    }
   ],
   "source": [
    "df.head()"
   ]
  },
  {
   "cell_type": "markdown",
   "id": "134c220d-01d2-4f21-bce9-ae45b3d2201e",
   "metadata": {},
   "source": [
    "**Adım4:** Değişken tiplerini inceleyiniz. Tarih ifade eden değişkenlerin tipini date'e çeviriniz."
   ]
  },
  {
   "cell_type": "code",
   "execution_count": 96,
   "id": "64b9559b-498d-490b-a476-9442ceb99321",
   "metadata": {},
   "outputs": [],
   "source": [
    "date_col = df.columns[df.columns.str.contains('date')]"
   ]
  },
  {
   "cell_type": "code",
   "execution_count": 98,
   "id": "7d8ab559-5a41-477c-ab13-e3cda166a05a",
   "metadata": {},
   "outputs": [
    {
     "data": {
      "text/plain": [
       "Index(['first_order_date', 'last_order_date', 'last_order_date_online', 'last_order_date_offline'], dtype='object')"
      ]
     },
     "execution_count": 98,
     "metadata": {},
     "output_type": "execute_result"
    }
   ],
   "source": [
    "date_col"
   ]
  },
  {
   "cell_type": "code",
   "execution_count": 102,
   "id": "20dfe176-c6e5-4468-b1cb-6dd86fbc66b1",
   "metadata": {},
   "outputs": [],
   "source": [
    "df[date_col] = df[date_col].apply(pd.to_datetime)"
   ]
  },
  {
   "cell_type": "code",
   "execution_count": 104,
   "id": "1ef1fda0-9338-4646-bba4-31b974c31f87",
   "metadata": {},
   "outputs": [
    {
     "name": "stdout",
     "output_type": "stream",
     "text": [
      "<class 'pandas.core.frame.DataFrame'>\n",
      "RangeIndex: 19945 entries, 0 to 19944\n",
      "Data columns (total 14 columns):\n",
      " #   Column                             Non-Null Count  Dtype         \n",
      "---  ------                             --------------  -----         \n",
      " 0   master_id                          19945 non-null  object        \n",
      " 1   order_channel                      19945 non-null  object        \n",
      " 2   last_order_channel                 19945 non-null  object        \n",
      " 3   first_order_date                   19945 non-null  datetime64[ns]\n",
      " 4   last_order_date                    19945 non-null  datetime64[ns]\n",
      " 5   last_order_date_online             19945 non-null  datetime64[ns]\n",
      " 6   last_order_date_offline            19945 non-null  datetime64[ns]\n",
      " 7   order_num_total_ever_online        19945 non-null  float64       \n",
      " 8   order_num_total_ever_offline       19945 non-null  float64       \n",
      " 9   customer_value_total_ever_offline  19945 non-null  float64       \n",
      " 10  customer_value_total_ever_online   19945 non-null  float64       \n",
      " 11  interested_in_categories_12        19945 non-null  object        \n",
      " 12  total_order_num                    19945 non-null  float64       \n",
      " 13  total_customer_value               19945 non-null  float64       \n",
      "dtypes: datetime64[ns](4), float64(6), object(4)\n",
      "memory usage: 2.1+ MB\n"
     ]
    }
   ],
   "source": [
    "df.info()"
   ]
  },
  {
   "cell_type": "markdown",
   "id": "372269ba-438b-4219-b48b-64f8d155d57e",
   "metadata": {},
   "source": [
    "**Adım5:** Alışveriş kanallarındaki müşteri sayısının, toplam alınan ürün sayısının ve toplam harcamaların dağılımına bakınız."
   ]
  },
  {
   "cell_type": "code",
   "execution_count": 109,
   "id": "cab3fce1-ddb6-4b87-9de8-c58faeef8c7b",
   "metadata": {},
   "outputs": [
    {
     "data": {
      "text/plain": [
       "order_channel\n",
       "Android App    9495\n",
       "Mobile         4882\n",
       "Ios App        2833\n",
       "Desktop        2735\n",
       "Name: count, dtype: int64"
      ]
     },
     "execution_count": 109,
     "metadata": {},
     "output_type": "execute_result"
    }
   ],
   "source": [
    "df['order_channel'].value_counts()"
   ]
  },
  {
   "cell_type": "code",
   "execution_count": 119,
   "id": "86865610-87e9-4315-8a48-1d03c03f392b",
   "metadata": {},
   "outputs": [
    {
     "data": {
      "text/html": [
       "<div>\n",
       "<style scoped>\n",
       "    .dataframe tbody tr th:only-of-type {\n",
       "        vertical-align: middle;\n",
       "    }\n",
       "\n",
       "    .dataframe tbody tr th {\n",
       "        vertical-align: top;\n",
       "    }\n",
       "\n",
       "    .dataframe thead tr th {\n",
       "        text-align: left;\n",
       "    }\n",
       "\n",
       "    .dataframe thead tr:last-of-type th {\n",
       "        text-align: right;\n",
       "    }\n",
       "</style>\n",
       "<table border=\"1\" class=\"dataframe\">\n",
       "  <thead>\n",
       "    <tr>\n",
       "      <th></th>\n",
       "      <th>master_id</th>\n",
       "      <th colspan=\"2\" halign=\"left\">total_order_num</th>\n",
       "      <th colspan=\"2\" halign=\"left\">total_customer_value</th>\n",
       "    </tr>\n",
       "    <tr>\n",
       "      <th></th>\n",
       "      <th>count</th>\n",
       "      <th>sum</th>\n",
       "      <th>mean</th>\n",
       "      <th>sum</th>\n",
       "      <th>mean</th>\n",
       "    </tr>\n",
       "    <tr>\n",
       "      <th>order_channel</th>\n",
       "      <th></th>\n",
       "      <th></th>\n",
       "      <th></th>\n",
       "      <th></th>\n",
       "      <th></th>\n",
       "    </tr>\n",
       "  </thead>\n",
       "  <tbody>\n",
       "    <tr>\n",
       "      <th>Android App</th>\n",
       "      <td>9495</td>\n",
       "      <td>52269.000</td>\n",
       "      <td>5.505</td>\n",
       "      <td>7819062.760</td>\n",
       "      <td>823.493</td>\n",
       "    </tr>\n",
       "    <tr>\n",
       "      <th>Desktop</th>\n",
       "      <td>2735</td>\n",
       "      <td>10920.000</td>\n",
       "      <td>3.993</td>\n",
       "      <td>1610321.460</td>\n",
       "      <td>588.783</td>\n",
       "    </tr>\n",
       "    <tr>\n",
       "      <th>Ios App</th>\n",
       "      <td>2833</td>\n",
       "      <td>15351.000</td>\n",
       "      <td>5.419</td>\n",
       "      <td>2525999.930</td>\n",
       "      <td>891.634</td>\n",
       "    </tr>\n",
       "    <tr>\n",
       "      <th>Mobile</th>\n",
       "      <td>4882</td>\n",
       "      <td>21679.000</td>\n",
       "      <td>4.441</td>\n",
       "      <td>3028183.160</td>\n",
       "      <td>620.275</td>\n",
       "    </tr>\n",
       "  </tbody>\n",
       "</table>\n",
       "</div>"
      ],
      "text/plain": [
       "              master_id total_order_num       total_customer_value        \n",
       "                  count             sum  mean                  sum    mean\n",
       "order_channel                                                             \n",
       "Android App        9495       52269.000 5.505          7819062.760 823.493\n",
       "Desktop            2735       10920.000 3.993          1610321.460 588.783\n",
       "Ios App            2833       15351.000 5.419          2525999.930 891.634\n",
       "Mobile             4882       21679.000 4.441          3028183.160 620.275"
      ]
     },
     "execution_count": 119,
     "metadata": {},
     "output_type": "execute_result"
    }
   ],
   "source": [
    "df.groupby('order_channel').agg({'master_id':'count',\n",
    "                                 'total_order_num':['sum','mean'],\n",
    "                                 'total_customer_value':['sum','mean']})"
   ]
  },
  {
   "cell_type": "markdown",
   "id": "2564f8c2-8804-4ceb-8d6f-262b9a42d907",
   "metadata": {},
   "source": [
    "**Adım6:** En fazla kazancı getiren ilk 10 müşteriyi sıralayınız."
   ]
  },
  {
   "cell_type": "code",
   "execution_count": null,
   "id": "87cc3b70-726b-4ff6-be00-62dfb3c4af1b",
   "metadata": {
    "scrolled": true
   },
   "outputs": [],
   "source": [
    "df.sort_values('total_customer_value', ascending=False).head(10)"
   ]
  },
  {
   "cell_type": "markdown",
   "id": "59e50fb4-327a-458e-8e0a-150d1e6a971c",
   "metadata": {},
   "source": [
    "**Adım7:** En fazla siparişi veren ilk 10 müşteriyi sıralayınız."
   ]
  },
  {
   "cell_type": "code",
   "execution_count": null,
   "id": "96cfdc11-3ac2-46e9-9809-6b23cd017bae",
   "metadata": {},
   "outputs": [],
   "source": [
    "df.sort_values('total_order_num', ascending=False).head(10)"
   ]
  },
  {
   "cell_type": "markdown",
   "id": "51c3e2a3-5289-40c9-b75c-810bac89cdb7",
   "metadata": {},
   "source": [
    "**Adım8:** Veri ön hazırlık sürecini fonksiyonlaştırınız."
   ]
  },
  {
   "cell_type": "code",
   "execution_count": 134,
   "id": "b86902aa-d22b-481b-b2d4-24a27e8f22c1",
   "metadata": {},
   "outputs": [],
   "source": [
    "def data_prep(dataframe):\n",
    "    dataframe['total_order_num'] = dataframe['order_num_total_ever_online'] + dataframe['order_num_total_ever_offline']\n",
    "    dataframe['total_customer_value'] = dataframe['customer_value_total_ever_offline'] + dataframe['customer_value_total_ever_online']\n",
    "    date_col = dataframe.columns[dataframe.columns.str.contains('date')]\n",
    "    dataframe[date_col] = dataframe[date_col].apply(pd.to_datetime)\n",
    "    return dataframe"
   ]
  },
  {
   "cell_type": "markdown",
   "id": "2ecb5394-d304-4a02-a527-c482f7453892",
   "metadata": {},
   "source": [
    "<span style=\"color: blue; font-weight: bold;\">GÖREV 2 : RFM METRİKLERİNİN HESAPLANMASI</span> "
   ]
  },
  {
   "cell_type": "markdown",
   "id": "8b0b815f-72a4-41d2-80c4-2f97d963e63b",
   "metadata": {},
   "source": [
    "**Adım 1:** Recency, Frequency ve Monetary tanımlarını yapınız."
   ]
  },
  {
   "cell_type": "markdown",
   "id": "5fd4efa9-fc88-4b64-892e-c99b7e48029c",
   "metadata": {},
   "source": [
    "Bu kısımda her bir müşteri özelinde recency, frequency,monetary değerlerini hesaplamayı amaçlıyoruz.\n",
    "\n",
    "Recency:Müşterinin yeniliğini sıcaklığını ifade eder.\n",
    "\n",
    "Bunun matematiksel karşılığı= **(analizin yapıldığı tarih-ilgili müşterinin son satın alma tarihi)**\n",
    "\n",
    "Frequency:Müşetirinin yaptığı toplam satın alma\n",
    "\n",
    "Monetary: Müşterinin yaptığı toplam satın almadan kazanılan para"
   ]
  },
  {
   "cell_type": "markdown",
   "id": "fa7bd92a-9bf9-465e-91ac-14a4c0bd4298",
   "metadata": {},
   "source": [
    "**Adım 2:** Müşteri özelinde Recency, Frequency ve Monetary metriklerini hesaplayınız.\n",
    "\n",
    "**Adım 3:** Hesapladığınız metrikleri rfm isimli bir değişkene atayınız.\n",
    "\n",
    "**Adım 4:** Oluşturduğunuz metriklerin isimlerini recency, frequency ve monetary olarak değiştiriniz."
   ]
  },
  {
   "cell_type": "code",
   "execution_count": 167,
   "id": "3056abcf-d2cc-41a9-8aa9-081579823711",
   "metadata": {},
   "outputs": [],
   "source": [
    "rfm = pd.DataFrame()"
   ]
  },
  {
   "cell_type": "code",
   "execution_count": 147,
   "id": "2b3f186e-6533-4953-9f22-683deb6158ae",
   "metadata": {},
   "outputs": [
    {
     "data": {
      "text/plain": [
       "Timestamp('2021-05-30 00:00:00')"
      ]
     },
     "execution_count": 147,
     "metadata": {},
     "output_type": "execute_result"
    }
   ],
   "source": [
    "df['last_order_date'].max()"
   ]
  },
  {
   "cell_type": "code",
   "execution_count": 149,
   "id": "2a551108-0b3d-41c1-9fde-c5c6b692bed6",
   "metadata": {},
   "outputs": [
    {
     "data": {
      "text/plain": [
       "Timestamp('2021-05-30 00:00:00')"
      ]
     },
     "execution_count": 149,
     "metadata": {},
     "output_type": "execute_result"
    }
   ],
   "source": [
    "df['last_order_date_online'].max()"
   ]
  },
  {
   "cell_type": "code",
   "execution_count": 151,
   "id": "718ec8d2-a2cf-4a29-99e7-b901d7c440af",
   "metadata": {},
   "outputs": [
    {
     "data": {
      "text/plain": [
       "Timestamp('2021-05-28 00:00:00')"
      ]
     },
     "execution_count": 151,
     "metadata": {},
     "output_type": "execute_result"
    }
   ],
   "source": [
    "df['last_order_date_offline'].max()"
   ]
  },
  {
   "cell_type": "code",
   "execution_count": 155,
   "id": "02ba7805-29cd-48fd-a461-ef39e2f91c49",
   "metadata": {},
   "outputs": [],
   "source": [
    "analys_date = dt.datetime(2021,6,1)"
   ]
  },
  {
   "cell_type": "code",
   "execution_count": 169,
   "id": "316d07bf-cdd8-4791-9db8-93ceeeb665f6",
   "metadata": {},
   "outputs": [],
   "source": [
    "rfm['master_id'] = df['master_id'] "
   ]
  },
  {
   "cell_type": "code",
   "execution_count": 173,
   "id": "33ecc452-6b2a-4920-8447-c698fc731f42",
   "metadata": {},
   "outputs": [],
   "source": [
    "rfm['recency'] = (analys_date - df['last_order_date']).dt.days"
   ]
  },
  {
   "cell_type": "code",
   "execution_count": 175,
   "id": "318223f9-6598-4e66-b3b2-f74307f9dc7b",
   "metadata": {},
   "outputs": [
    {
     "data": {
      "text/html": [
       "<div>\n",
       "<style scoped>\n",
       "    .dataframe tbody tr th:only-of-type {\n",
       "        vertical-align: middle;\n",
       "    }\n",
       "\n",
       "    .dataframe tbody tr th {\n",
       "        vertical-align: top;\n",
       "    }\n",
       "\n",
       "    .dataframe thead th {\n",
       "        text-align: right;\n",
       "    }\n",
       "</style>\n",
       "<table border=\"1\" class=\"dataframe\">\n",
       "  <thead>\n",
       "    <tr style=\"text-align: right;\">\n",
       "      <th></th>\n",
       "      <th>master_id</th>\n",
       "      <th>recency</th>\n",
       "    </tr>\n",
       "  </thead>\n",
       "  <tbody>\n",
       "    <tr>\n",
       "      <th>0</th>\n",
       "      <td>cc294636-19f0-11eb-8d74-000d3a38a36f</td>\n",
       "      <td>95</td>\n",
       "    </tr>\n",
       "    <tr>\n",
       "      <th>1</th>\n",
       "      <td>f431bd5a-ab7b-11e9-a2fc-000d3a38a36f</td>\n",
       "      <td>105</td>\n",
       "    </tr>\n",
       "    <tr>\n",
       "      <th>2</th>\n",
       "      <td>69b69676-1a40-11ea-941b-000d3a38a36f</td>\n",
       "      <td>186</td>\n",
       "    </tr>\n",
       "    <tr>\n",
       "      <th>3</th>\n",
       "      <td>1854e56c-491f-11eb-806e-000d3a38a36f</td>\n",
       "      <td>135</td>\n",
       "    </tr>\n",
       "    <tr>\n",
       "      <th>4</th>\n",
       "      <td>d6ea1074-f1f5-11e9-9346-000d3a38a36f</td>\n",
       "      <td>86</td>\n",
       "    </tr>\n",
       "    <tr>\n",
       "      <th>...</th>\n",
       "      <td>...</td>\n",
       "      <td>...</td>\n",
       "    </tr>\n",
       "    <tr>\n",
       "      <th>19940</th>\n",
       "      <td>727e2b6e-ddd4-11e9-a848-000d3a38a36f</td>\n",
       "      <td>331</td>\n",
       "    </tr>\n",
       "    <tr>\n",
       "      <th>19941</th>\n",
       "      <td>25cd53d4-61bf-11ea-8dd8-000d3a38a36f</td>\n",
       "      <td>161</td>\n",
       "    </tr>\n",
       "    <tr>\n",
       "      <th>19942</th>\n",
       "      <td>8aea4c2a-d6fc-11e9-93bc-000d3a38a36f</td>\n",
       "      <td>8</td>\n",
       "    </tr>\n",
       "    <tr>\n",
       "      <th>19943</th>\n",
       "      <td>e50bb46c-ff30-11e9-a5e8-000d3a38a36f</td>\n",
       "      <td>108</td>\n",
       "    </tr>\n",
       "    <tr>\n",
       "      <th>19944</th>\n",
       "      <td>740998d2-b1f7-11e9-89fa-000d3a38a36f</td>\n",
       "      <td>360</td>\n",
       "    </tr>\n",
       "  </tbody>\n",
       "</table>\n",
       "<p>19945 rows × 2 columns</p>\n",
       "</div>"
      ],
      "text/plain": [
       "                                  master_id  recency\n",
       "0      cc294636-19f0-11eb-8d74-000d3a38a36f       95\n",
       "1      f431bd5a-ab7b-11e9-a2fc-000d3a38a36f      105\n",
       "2      69b69676-1a40-11ea-941b-000d3a38a36f      186\n",
       "3      1854e56c-491f-11eb-806e-000d3a38a36f      135\n",
       "4      d6ea1074-f1f5-11e9-9346-000d3a38a36f       86\n",
       "...                                     ...      ...\n",
       "19940  727e2b6e-ddd4-11e9-a848-000d3a38a36f      331\n",
       "19941  25cd53d4-61bf-11ea-8dd8-000d3a38a36f      161\n",
       "19942  8aea4c2a-d6fc-11e9-93bc-000d3a38a36f        8\n",
       "19943  e50bb46c-ff30-11e9-a5e8-000d3a38a36f      108\n",
       "19944  740998d2-b1f7-11e9-89fa-000d3a38a36f      360\n",
       "\n",
       "[19945 rows x 2 columns]"
      ]
     },
     "execution_count": 175,
     "metadata": {},
     "output_type": "execute_result"
    }
   ],
   "source": [
    "rfm"
   ]
  },
  {
   "cell_type": "code",
   "execution_count": 177,
   "id": "0e92a460-7061-4aa6-b11d-579c5cbdd31a",
   "metadata": {},
   "outputs": [],
   "source": [
    "rfm['frequency'] = df['total_order_num']"
   ]
  },
  {
   "cell_type": "code",
   "execution_count": 179,
   "id": "b1be34f4-c797-4959-b107-62511e837748",
   "metadata": {},
   "outputs": [],
   "source": [
    "rfm['monetary'] = df['total_customer_value']"
   ]
  },
  {
   "cell_type": "code",
   "execution_count": 181,
   "id": "c786c098-1ecb-4bcc-bc89-0dacc5ad00c2",
   "metadata": {},
   "outputs": [
    {
     "data": {
      "text/html": [
       "<div>\n",
       "<style scoped>\n",
       "    .dataframe tbody tr th:only-of-type {\n",
       "        vertical-align: middle;\n",
       "    }\n",
       "\n",
       "    .dataframe tbody tr th {\n",
       "        vertical-align: top;\n",
       "    }\n",
       "\n",
       "    .dataframe thead th {\n",
       "        text-align: right;\n",
       "    }\n",
       "</style>\n",
       "<table border=\"1\" class=\"dataframe\">\n",
       "  <thead>\n",
       "    <tr style=\"text-align: right;\">\n",
       "      <th></th>\n",
       "      <th>master_id</th>\n",
       "      <th>recency</th>\n",
       "      <th>frequency</th>\n",
       "      <th>monetary</th>\n",
       "    </tr>\n",
       "  </thead>\n",
       "  <tbody>\n",
       "    <tr>\n",
       "      <th>0</th>\n",
       "      <td>cc294636-19f0-11eb-8d74-000d3a38a36f</td>\n",
       "      <td>95</td>\n",
       "      <td>5.000</td>\n",
       "      <td>939.370</td>\n",
       "    </tr>\n",
       "    <tr>\n",
       "      <th>1</th>\n",
       "      <td>f431bd5a-ab7b-11e9-a2fc-000d3a38a36f</td>\n",
       "      <td>105</td>\n",
       "      <td>21.000</td>\n",
       "      <td>2013.550</td>\n",
       "    </tr>\n",
       "    <tr>\n",
       "      <th>2</th>\n",
       "      <td>69b69676-1a40-11ea-941b-000d3a38a36f</td>\n",
       "      <td>186</td>\n",
       "      <td>5.000</td>\n",
       "      <td>585.320</td>\n",
       "    </tr>\n",
       "    <tr>\n",
       "      <th>3</th>\n",
       "      <td>1854e56c-491f-11eb-806e-000d3a38a36f</td>\n",
       "      <td>135</td>\n",
       "      <td>2.000</td>\n",
       "      <td>121.970</td>\n",
       "    </tr>\n",
       "    <tr>\n",
       "      <th>4</th>\n",
       "      <td>d6ea1074-f1f5-11e9-9346-000d3a38a36f</td>\n",
       "      <td>86</td>\n",
       "      <td>2.000</td>\n",
       "      <td>209.980</td>\n",
       "    </tr>\n",
       "    <tr>\n",
       "      <th>...</th>\n",
       "      <td>...</td>\n",
       "      <td>...</td>\n",
       "      <td>...</td>\n",
       "      <td>...</td>\n",
       "    </tr>\n",
       "    <tr>\n",
       "      <th>19940</th>\n",
       "      <td>727e2b6e-ddd4-11e9-a848-000d3a38a36f</td>\n",
       "      <td>331</td>\n",
       "      <td>3.000</td>\n",
       "      <td>401.960</td>\n",
       "    </tr>\n",
       "    <tr>\n",
       "      <th>19941</th>\n",
       "      <td>25cd53d4-61bf-11ea-8dd8-000d3a38a36f</td>\n",
       "      <td>161</td>\n",
       "      <td>2.000</td>\n",
       "      <td>390.470</td>\n",
       "    </tr>\n",
       "    <tr>\n",
       "      <th>19942</th>\n",
       "      <td>8aea4c2a-d6fc-11e9-93bc-000d3a38a36f</td>\n",
       "      <td>8</td>\n",
       "      <td>3.000</td>\n",
       "      <td>632.940</td>\n",
       "    </tr>\n",
       "    <tr>\n",
       "      <th>19943</th>\n",
       "      <td>e50bb46c-ff30-11e9-a5e8-000d3a38a36f</td>\n",
       "      <td>108</td>\n",
       "      <td>6.000</td>\n",
       "      <td>1009.770</td>\n",
       "    </tr>\n",
       "    <tr>\n",
       "      <th>19944</th>\n",
       "      <td>740998d2-b1f7-11e9-89fa-000d3a38a36f</td>\n",
       "      <td>360</td>\n",
       "      <td>2.000</td>\n",
       "      <td>261.970</td>\n",
       "    </tr>\n",
       "  </tbody>\n",
       "</table>\n",
       "<p>19945 rows × 4 columns</p>\n",
       "</div>"
      ],
      "text/plain": [
       "                                  master_id  recency  frequency  monetary\n",
       "0      cc294636-19f0-11eb-8d74-000d3a38a36f       95      5.000   939.370\n",
       "1      f431bd5a-ab7b-11e9-a2fc-000d3a38a36f      105     21.000  2013.550\n",
       "2      69b69676-1a40-11ea-941b-000d3a38a36f      186      5.000   585.320\n",
       "3      1854e56c-491f-11eb-806e-000d3a38a36f      135      2.000   121.970\n",
       "4      d6ea1074-f1f5-11e9-9346-000d3a38a36f       86      2.000   209.980\n",
       "...                                     ...      ...        ...       ...\n",
       "19940  727e2b6e-ddd4-11e9-a848-000d3a38a36f      331      3.000   401.960\n",
       "19941  25cd53d4-61bf-11ea-8dd8-000d3a38a36f      161      2.000   390.470\n",
       "19942  8aea4c2a-d6fc-11e9-93bc-000d3a38a36f        8      3.000   632.940\n",
       "19943  e50bb46c-ff30-11e9-a5e8-000d3a38a36f      108      6.000  1009.770\n",
       "19944  740998d2-b1f7-11e9-89fa-000d3a38a36f      360      2.000   261.970\n",
       "\n",
       "[19945 rows x 4 columns]"
      ]
     },
     "execution_count": 181,
     "metadata": {},
     "output_type": "execute_result"
    }
   ],
   "source": [
    "rfm"
   ]
  },
  {
   "cell_type": "markdown",
   "id": "fd30e940-a255-484c-ac57-16e75f350814",
   "metadata": {},
   "source": [
    "<span style=\"color: blue; font-weight: bold;\">GÖREV 3 : RF SKORLARININ HESAPLANMASI</span> "
   ]
  },
  {
   "cell_type": "markdown",
   "id": "dafbec86-f3ce-467b-95b8-ca6886563d89",
   "metadata": {},
   "source": [
    "**Adım 1:** Recency, Frequency ve Monetary metriklerini qcut yardımı ile 1-5 arasında skorlara çeviriniz.\n",
    "\n",
    "**Adım 2:** Bu skorları recency_score, frequency_score ve monetary_score olarak kaydediniz."
   ]
  },
  {
   "cell_type": "code",
   "execution_count": 194,
   "id": "7dc02425-611d-48c3-b9c1-b2af24c2c81e",
   "metadata": {},
   "outputs": [],
   "source": [
    "rfm['recency_score'] = pd.qcut(rfm['recency'],5, labels=[5,4,3,2,1])"
   ]
  },
  {
   "cell_type": "code",
   "execution_count": 198,
   "id": "b8f84cf5-d581-4336-acad-68ae603b72a4",
   "metadata": {},
   "outputs": [],
   "source": [
    "rfm['frequency_score'] = pd.qcut(rfm['frequency'].rank(method='first'), 5, labels=[1,2,3,4,5])"
   ]
  },
  {
   "cell_type": "code",
   "execution_count": 200,
   "id": "0e288d58-f88c-4e08-82ba-758feef0860c",
   "metadata": {},
   "outputs": [],
   "source": [
    "rfm['monetary_score'] = pd.qcut(rfm['monetary'], 5, labels=[1,2,3,4,5])"
   ]
  },
  {
   "cell_type": "code",
   "execution_count": 202,
   "id": "74150ce5-1406-4df4-9aa5-2f670139bd85",
   "metadata": {},
   "outputs": [
    {
     "data": {
      "text/html": [
       "<div>\n",
       "<style scoped>\n",
       "    .dataframe tbody tr th:only-of-type {\n",
       "        vertical-align: middle;\n",
       "    }\n",
       "\n",
       "    .dataframe tbody tr th {\n",
       "        vertical-align: top;\n",
       "    }\n",
       "\n",
       "    .dataframe thead th {\n",
       "        text-align: right;\n",
       "    }\n",
       "</style>\n",
       "<table border=\"1\" class=\"dataframe\">\n",
       "  <thead>\n",
       "    <tr style=\"text-align: right;\">\n",
       "      <th></th>\n",
       "      <th>master_id</th>\n",
       "      <th>recency</th>\n",
       "      <th>frequency</th>\n",
       "      <th>monetary</th>\n",
       "      <th>recency_score</th>\n",
       "      <th>frequency_score</th>\n",
       "      <th>monetary_score</th>\n",
       "    </tr>\n",
       "  </thead>\n",
       "  <tbody>\n",
       "    <tr>\n",
       "      <th>0</th>\n",
       "      <td>cc294636-19f0-11eb-8d74-000d3a38a36f</td>\n",
       "      <td>95</td>\n",
       "      <td>5.000</td>\n",
       "      <td>939.370</td>\n",
       "      <td>3</td>\n",
       "      <td>4</td>\n",
       "      <td>4</td>\n",
       "    </tr>\n",
       "    <tr>\n",
       "      <th>1</th>\n",
       "      <td>f431bd5a-ab7b-11e9-a2fc-000d3a38a36f</td>\n",
       "      <td>105</td>\n",
       "      <td>21.000</td>\n",
       "      <td>2013.550</td>\n",
       "      <td>3</td>\n",
       "      <td>5</td>\n",
       "      <td>5</td>\n",
       "    </tr>\n",
       "    <tr>\n",
       "      <th>2</th>\n",
       "      <td>69b69676-1a40-11ea-941b-000d3a38a36f</td>\n",
       "      <td>186</td>\n",
       "      <td>5.000</td>\n",
       "      <td>585.320</td>\n",
       "      <td>2</td>\n",
       "      <td>4</td>\n",
       "      <td>3</td>\n",
       "    </tr>\n",
       "    <tr>\n",
       "      <th>3</th>\n",
       "      <td>1854e56c-491f-11eb-806e-000d3a38a36f</td>\n",
       "      <td>135</td>\n",
       "      <td>2.000</td>\n",
       "      <td>121.970</td>\n",
       "      <td>3</td>\n",
       "      <td>1</td>\n",
       "      <td>1</td>\n",
       "    </tr>\n",
       "    <tr>\n",
       "      <th>4</th>\n",
       "      <td>d6ea1074-f1f5-11e9-9346-000d3a38a36f</td>\n",
       "      <td>86</td>\n",
       "      <td>2.000</td>\n",
       "      <td>209.980</td>\n",
       "      <td>3</td>\n",
       "      <td>1</td>\n",
       "      <td>1</td>\n",
       "    </tr>\n",
       "  </tbody>\n",
       "</table>\n",
       "</div>"
      ],
      "text/plain": [
       "                              master_id  recency  frequency  monetary recency_score frequency_score monetary_score\n",
       "0  cc294636-19f0-11eb-8d74-000d3a38a36f       95      5.000   939.370             3               4              4\n",
       "1  f431bd5a-ab7b-11e9-a2fc-000d3a38a36f      105     21.000  2013.550             3               5              5\n",
       "2  69b69676-1a40-11ea-941b-000d3a38a36f      186      5.000   585.320             2               4              3\n",
       "3  1854e56c-491f-11eb-806e-000d3a38a36f      135      2.000   121.970             3               1              1\n",
       "4  d6ea1074-f1f5-11e9-9346-000d3a38a36f       86      2.000   209.980             3               1              1"
      ]
     },
     "execution_count": 202,
     "metadata": {},
     "output_type": "execute_result"
    }
   ],
   "source": [
    "rfm.head()"
   ]
  },
  {
   "cell_type": "markdown",
   "id": "c8ab157c-211d-4c60-9224-9704516fd5d5",
   "metadata": {},
   "source": [
    "**Adım 3:** recency_score ve frequency_score’u tek bir değişken olarak ifade ediniz ve RF_SCORE olarak kaydediniz."
   ]
  },
  {
   "cell_type": "code",
   "execution_count": 207,
   "id": "407284f7-bb5e-4544-8426-a657bc720296",
   "metadata": {},
   "outputs": [],
   "source": [
    "rfm['RF_SCORE'] = rfm['recency_score'].astype(str) + rfm['frequency_score'].astype(str) "
   ]
  },
  {
   "cell_type": "code",
   "execution_count": 209,
   "id": "7b886036-61e3-472d-9241-210387ae64df",
   "metadata": {},
   "outputs": [
    {
     "data": {
      "text/html": [
       "<div>\n",
       "<style scoped>\n",
       "    .dataframe tbody tr th:only-of-type {\n",
       "        vertical-align: middle;\n",
       "    }\n",
       "\n",
       "    .dataframe tbody tr th {\n",
       "        vertical-align: top;\n",
       "    }\n",
       "\n",
       "    .dataframe thead th {\n",
       "        text-align: right;\n",
       "    }\n",
       "</style>\n",
       "<table border=\"1\" class=\"dataframe\">\n",
       "  <thead>\n",
       "    <tr style=\"text-align: right;\">\n",
       "      <th></th>\n",
       "      <th>master_id</th>\n",
       "      <th>recency</th>\n",
       "      <th>frequency</th>\n",
       "      <th>monetary</th>\n",
       "      <th>recency_score</th>\n",
       "      <th>frequency_score</th>\n",
       "      <th>monetary_score</th>\n",
       "      <th>RF_SCORE</th>\n",
       "    </tr>\n",
       "  </thead>\n",
       "  <tbody>\n",
       "    <tr>\n",
       "      <th>0</th>\n",
       "      <td>cc294636-19f0-11eb-8d74-000d3a38a36f</td>\n",
       "      <td>95</td>\n",
       "      <td>5.000</td>\n",
       "      <td>939.370</td>\n",
       "      <td>3</td>\n",
       "      <td>4</td>\n",
       "      <td>4</td>\n",
       "      <td>34</td>\n",
       "    </tr>\n",
       "    <tr>\n",
       "      <th>1</th>\n",
       "      <td>f431bd5a-ab7b-11e9-a2fc-000d3a38a36f</td>\n",
       "      <td>105</td>\n",
       "      <td>21.000</td>\n",
       "      <td>2013.550</td>\n",
       "      <td>3</td>\n",
       "      <td>5</td>\n",
       "      <td>5</td>\n",
       "      <td>35</td>\n",
       "    </tr>\n",
       "    <tr>\n",
       "      <th>2</th>\n",
       "      <td>69b69676-1a40-11ea-941b-000d3a38a36f</td>\n",
       "      <td>186</td>\n",
       "      <td>5.000</td>\n",
       "      <td>585.320</td>\n",
       "      <td>2</td>\n",
       "      <td>4</td>\n",
       "      <td>3</td>\n",
       "      <td>24</td>\n",
       "    </tr>\n",
       "    <tr>\n",
       "      <th>3</th>\n",
       "      <td>1854e56c-491f-11eb-806e-000d3a38a36f</td>\n",
       "      <td>135</td>\n",
       "      <td>2.000</td>\n",
       "      <td>121.970</td>\n",
       "      <td>3</td>\n",
       "      <td>1</td>\n",
       "      <td>1</td>\n",
       "      <td>31</td>\n",
       "    </tr>\n",
       "    <tr>\n",
       "      <th>4</th>\n",
       "      <td>d6ea1074-f1f5-11e9-9346-000d3a38a36f</td>\n",
       "      <td>86</td>\n",
       "      <td>2.000</td>\n",
       "      <td>209.980</td>\n",
       "      <td>3</td>\n",
       "      <td>1</td>\n",
       "      <td>1</td>\n",
       "      <td>31</td>\n",
       "    </tr>\n",
       "  </tbody>\n",
       "</table>\n",
       "</div>"
      ],
      "text/plain": [
       "                              master_id  recency  frequency  monetary recency_score frequency_score monetary_score RF_SCORE\n",
       "0  cc294636-19f0-11eb-8d74-000d3a38a36f       95      5.000   939.370             3               4              4       34\n",
       "1  f431bd5a-ab7b-11e9-a2fc-000d3a38a36f      105     21.000  2013.550             3               5              5       35\n",
       "2  69b69676-1a40-11ea-941b-000d3a38a36f      186      5.000   585.320             2               4              3       24\n",
       "3  1854e56c-491f-11eb-806e-000d3a38a36f      135      2.000   121.970             3               1              1       31\n",
       "4  d6ea1074-f1f5-11e9-9346-000d3a38a36f       86      2.000   209.980             3               1              1       31"
      ]
     },
     "execution_count": 209,
     "metadata": {},
     "output_type": "execute_result"
    }
   ],
   "source": [
    "rfm.head()"
   ]
  },
  {
   "cell_type": "markdown",
   "id": "d7ca6b0d-b2df-4fa8-923a-2ac066da1d9f",
   "metadata": {},
   "source": [
    "<span style=\"color: blue; font-weight: bold;\">GÖREV 4 : RF SKORLARININ SEGMENT OLARAK TANIMLANMASI</span> "
   ]
  },
  {
   "cell_type": "markdown",
   "id": "71f88f0a-8dcc-4f1f-8d08-08634387230e",
   "metadata": {},
   "source": [
    "**Adım 1:** Oluşturulan RF skorları için segment tanımlamaları yapınız."
   ]
  },
  {
   "cell_type": "code",
   "execution_count": 214,
   "id": "9161ff67-cab9-4766-a982-e7dde5e5a940",
   "metadata": {},
   "outputs": [],
   "source": [
    "seg_map = {\n",
    "    r'[1-2][1-2]': 'hibernating',\n",
    "    r'[1-2][3-4]': 'at_Risk',\n",
    "    r'[1-2]5': 'cant_loose',\n",
    "    r'3[1-2]': 'about_to_sleep',\n",
    "    r'33': 'need_attention',\n",
    "    r'[3-4][4-5]': 'loyal_customers',\n",
    "    r'41': 'promising',\n",
    "    r'51': 'new_customers',\n",
    "    r'[4-5][2-3]': 'potential_loyalists',\n",
    "    r'5[4-5]': 'champions'\n",
    "}"
   ]
  },
  {
   "cell_type": "code",
   "execution_count": 216,
   "id": "bd187889-0f70-4615-acaa-08a36b3502c0",
   "metadata": {},
   "outputs": [],
   "source": [
    "rfm['segment'] = rfm['RF_SCORE'].replace(seg_map, regex=True)"
   ]
  },
  {
   "cell_type": "code",
   "execution_count": 218,
   "id": "6884312d-1e61-41d4-8112-962e99523d46",
   "metadata": {},
   "outputs": [
    {
     "data": {
      "text/html": [
       "<div>\n",
       "<style scoped>\n",
       "    .dataframe tbody tr th:only-of-type {\n",
       "        vertical-align: middle;\n",
       "    }\n",
       "\n",
       "    .dataframe tbody tr th {\n",
       "        vertical-align: top;\n",
       "    }\n",
       "\n",
       "    .dataframe thead th {\n",
       "        text-align: right;\n",
       "    }\n",
       "</style>\n",
       "<table border=\"1\" class=\"dataframe\">\n",
       "  <thead>\n",
       "    <tr style=\"text-align: right;\">\n",
       "      <th></th>\n",
       "      <th>master_id</th>\n",
       "      <th>recency</th>\n",
       "      <th>frequency</th>\n",
       "      <th>monetary</th>\n",
       "      <th>recency_score</th>\n",
       "      <th>frequency_score</th>\n",
       "      <th>monetary_score</th>\n",
       "      <th>RF_SCORE</th>\n",
       "      <th>segment</th>\n",
       "    </tr>\n",
       "  </thead>\n",
       "  <tbody>\n",
       "    <tr>\n",
       "      <th>0</th>\n",
       "      <td>cc294636-19f0-11eb-8d74-000d3a38a36f</td>\n",
       "      <td>95</td>\n",
       "      <td>5.000</td>\n",
       "      <td>939.370</td>\n",
       "      <td>3</td>\n",
       "      <td>4</td>\n",
       "      <td>4</td>\n",
       "      <td>34</td>\n",
       "      <td>loyal_customers</td>\n",
       "    </tr>\n",
       "    <tr>\n",
       "      <th>1</th>\n",
       "      <td>f431bd5a-ab7b-11e9-a2fc-000d3a38a36f</td>\n",
       "      <td>105</td>\n",
       "      <td>21.000</td>\n",
       "      <td>2013.550</td>\n",
       "      <td>3</td>\n",
       "      <td>5</td>\n",
       "      <td>5</td>\n",
       "      <td>35</td>\n",
       "      <td>loyal_customers</td>\n",
       "    </tr>\n",
       "    <tr>\n",
       "      <th>2</th>\n",
       "      <td>69b69676-1a40-11ea-941b-000d3a38a36f</td>\n",
       "      <td>186</td>\n",
       "      <td>5.000</td>\n",
       "      <td>585.320</td>\n",
       "      <td>2</td>\n",
       "      <td>4</td>\n",
       "      <td>3</td>\n",
       "      <td>24</td>\n",
       "      <td>at_Risk</td>\n",
       "    </tr>\n",
       "    <tr>\n",
       "      <th>3</th>\n",
       "      <td>1854e56c-491f-11eb-806e-000d3a38a36f</td>\n",
       "      <td>135</td>\n",
       "      <td>2.000</td>\n",
       "      <td>121.970</td>\n",
       "      <td>3</td>\n",
       "      <td>1</td>\n",
       "      <td>1</td>\n",
       "      <td>31</td>\n",
       "      <td>about_to_sleep</td>\n",
       "    </tr>\n",
       "    <tr>\n",
       "      <th>4</th>\n",
       "      <td>d6ea1074-f1f5-11e9-9346-000d3a38a36f</td>\n",
       "      <td>86</td>\n",
       "      <td>2.000</td>\n",
       "      <td>209.980</td>\n",
       "      <td>3</td>\n",
       "      <td>1</td>\n",
       "      <td>1</td>\n",
       "      <td>31</td>\n",
       "      <td>about_to_sleep</td>\n",
       "    </tr>\n",
       "    <tr>\n",
       "      <th>...</th>\n",
       "      <td>...</td>\n",
       "      <td>...</td>\n",
       "      <td>...</td>\n",
       "      <td>...</td>\n",
       "      <td>...</td>\n",
       "      <td>...</td>\n",
       "      <td>...</td>\n",
       "      <td>...</td>\n",
       "      <td>...</td>\n",
       "    </tr>\n",
       "    <tr>\n",
       "      <th>19940</th>\n",
       "      <td>727e2b6e-ddd4-11e9-a848-000d3a38a36f</td>\n",
       "      <td>331</td>\n",
       "      <td>3.000</td>\n",
       "      <td>401.960</td>\n",
       "      <td>1</td>\n",
       "      <td>3</td>\n",
       "      <td>2</td>\n",
       "      <td>13</td>\n",
       "      <td>at_Risk</td>\n",
       "    </tr>\n",
       "    <tr>\n",
       "      <th>19941</th>\n",
       "      <td>25cd53d4-61bf-11ea-8dd8-000d3a38a36f</td>\n",
       "      <td>161</td>\n",
       "      <td>2.000</td>\n",
       "      <td>390.470</td>\n",
       "      <td>2</td>\n",
       "      <td>2</td>\n",
       "      <td>2</td>\n",
       "      <td>22</td>\n",
       "      <td>hibernating</td>\n",
       "    </tr>\n",
       "    <tr>\n",
       "      <th>19942</th>\n",
       "      <td>8aea4c2a-d6fc-11e9-93bc-000d3a38a36f</td>\n",
       "      <td>8</td>\n",
       "      <td>3.000</td>\n",
       "      <td>632.940</td>\n",
       "      <td>5</td>\n",
       "      <td>3</td>\n",
       "      <td>3</td>\n",
       "      <td>53</td>\n",
       "      <td>potential_loyalists</td>\n",
       "    </tr>\n",
       "    <tr>\n",
       "      <th>19943</th>\n",
       "      <td>e50bb46c-ff30-11e9-a5e8-000d3a38a36f</td>\n",
       "      <td>108</td>\n",
       "      <td>6.000</td>\n",
       "      <td>1009.770</td>\n",
       "      <td>3</td>\n",
       "      <td>4</td>\n",
       "      <td>4</td>\n",
       "      <td>34</td>\n",
       "      <td>loyal_customers</td>\n",
       "    </tr>\n",
       "    <tr>\n",
       "      <th>19944</th>\n",
       "      <td>740998d2-b1f7-11e9-89fa-000d3a38a36f</td>\n",
       "      <td>360</td>\n",
       "      <td>2.000</td>\n",
       "      <td>261.970</td>\n",
       "      <td>1</td>\n",
       "      <td>2</td>\n",
       "      <td>1</td>\n",
       "      <td>12</td>\n",
       "      <td>hibernating</td>\n",
       "    </tr>\n",
       "  </tbody>\n",
       "</table>\n",
       "<p>19945 rows × 9 columns</p>\n",
       "</div>"
      ],
      "text/plain": [
       "                                  master_id  recency  frequency  monetary recency_score frequency_score monetary_score RF_SCORE              segment\n",
       "0      cc294636-19f0-11eb-8d74-000d3a38a36f       95      5.000   939.370             3               4              4       34      loyal_customers\n",
       "1      f431bd5a-ab7b-11e9-a2fc-000d3a38a36f      105     21.000  2013.550             3               5              5       35      loyal_customers\n",
       "2      69b69676-1a40-11ea-941b-000d3a38a36f      186      5.000   585.320             2               4              3       24              at_Risk\n",
       "3      1854e56c-491f-11eb-806e-000d3a38a36f      135      2.000   121.970             3               1              1       31       about_to_sleep\n",
       "4      d6ea1074-f1f5-11e9-9346-000d3a38a36f       86      2.000   209.980             3               1              1       31       about_to_sleep\n",
       "...                                     ...      ...        ...       ...           ...             ...            ...      ...                  ...\n",
       "19940  727e2b6e-ddd4-11e9-a848-000d3a38a36f      331      3.000   401.960             1               3              2       13              at_Risk\n",
       "19941  25cd53d4-61bf-11ea-8dd8-000d3a38a36f      161      2.000   390.470             2               2              2       22          hibernating\n",
       "19942  8aea4c2a-d6fc-11e9-93bc-000d3a38a36f        8      3.000   632.940             5               3              3       53  potential_loyalists\n",
       "19943  e50bb46c-ff30-11e9-a5e8-000d3a38a36f      108      6.000  1009.770             3               4              4       34      loyal_customers\n",
       "19944  740998d2-b1f7-11e9-89fa-000d3a38a36f      360      2.000   261.970             1               2              1       12          hibernating\n",
       "\n",
       "[19945 rows x 9 columns]"
      ]
     },
     "execution_count": 218,
     "metadata": {},
     "output_type": "execute_result"
    }
   ],
   "source": [
    "rfm"
   ]
  },
  {
   "cell_type": "markdown",
   "id": "ecb14510-2c4c-4219-af03-91ba027553c2",
   "metadata": {},
   "source": [
    "<span style=\"color: blue; font-weight: bold;\">GÖREV 5 : AKSİYON ZAMANI</span> "
   ]
  },
  {
   "cell_type": "markdown",
   "id": "424ad16f-7ca2-4d4c-a38a-a6276d35a3a2",
   "metadata": {},
   "source": [
    "**Adım1:** Segmentlerin recency, frequnecy ve monetary ortalamalarını inceleyiniz."
   ]
  },
  {
   "cell_type": "code",
   "execution_count": 229,
   "id": "afccd780-16bd-4ce4-8ff0-466628bd7b70",
   "metadata": {},
   "outputs": [
    {
     "data": {
      "text/html": [
       "<div>\n",
       "<style scoped>\n",
       "    .dataframe tbody tr th:only-of-type {\n",
       "        vertical-align: middle;\n",
       "    }\n",
       "\n",
       "    .dataframe tbody tr th {\n",
       "        vertical-align: top;\n",
       "    }\n",
       "\n",
       "    .dataframe thead th {\n",
       "        text-align: right;\n",
       "    }\n",
       "</style>\n",
       "<table border=\"1\" class=\"dataframe\">\n",
       "  <thead>\n",
       "    <tr style=\"text-align: right;\">\n",
       "      <th></th>\n",
       "      <th>recency</th>\n",
       "      <th>frequency</th>\n",
       "      <th>monetary</th>\n",
       "    </tr>\n",
       "    <tr>\n",
       "      <th>segment</th>\n",
       "      <th></th>\n",
       "      <th></th>\n",
       "      <th></th>\n",
       "    </tr>\n",
       "  </thead>\n",
       "  <tbody>\n",
       "    <tr>\n",
       "      <th>about_to_sleep</th>\n",
       "      <td>113.785</td>\n",
       "      <td>2.401</td>\n",
       "      <td>359.009</td>\n",
       "    </tr>\n",
       "    <tr>\n",
       "      <th>at_Risk</th>\n",
       "      <td>241.607</td>\n",
       "      <td>4.472</td>\n",
       "      <td>646.610</td>\n",
       "    </tr>\n",
       "    <tr>\n",
       "      <th>cant_loose</th>\n",
       "      <td>235.444</td>\n",
       "      <td>10.698</td>\n",
       "      <td>1474.468</td>\n",
       "    </tr>\n",
       "    <tr>\n",
       "      <th>champions</th>\n",
       "      <td>17.107</td>\n",
       "      <td>8.934</td>\n",
       "      <td>1406.625</td>\n",
       "    </tr>\n",
       "    <tr>\n",
       "      <th>hibernating</th>\n",
       "      <td>247.950</td>\n",
       "      <td>2.394</td>\n",
       "      <td>366.267</td>\n",
       "    </tr>\n",
       "    <tr>\n",
       "      <th>loyal_customers</th>\n",
       "      <td>82.595</td>\n",
       "      <td>8.375</td>\n",
       "      <td>1216.819</td>\n",
       "    </tr>\n",
       "    <tr>\n",
       "      <th>need_attention</th>\n",
       "      <td>113.829</td>\n",
       "      <td>3.728</td>\n",
       "      <td>562.143</td>\n",
       "    </tr>\n",
       "    <tr>\n",
       "      <th>new_customers</th>\n",
       "      <td>17.918</td>\n",
       "      <td>2.000</td>\n",
       "      <td>339.956</td>\n",
       "    </tr>\n",
       "    <tr>\n",
       "      <th>potential_loyalists</th>\n",
       "      <td>37.156</td>\n",
       "      <td>3.304</td>\n",
       "      <td>533.184</td>\n",
       "    </tr>\n",
       "    <tr>\n",
       "      <th>promising</th>\n",
       "      <td>58.921</td>\n",
       "      <td>2.000</td>\n",
       "      <td>335.673</td>\n",
       "    </tr>\n",
       "  </tbody>\n",
       "</table>\n",
       "</div>"
      ],
      "text/plain": [
       "                     recency  frequency  monetary\n",
       "segment                                          \n",
       "about_to_sleep       113.785      2.401   359.009\n",
       "at_Risk              241.607      4.472   646.610\n",
       "cant_loose           235.444     10.698  1474.468\n",
       "champions             17.107      8.934  1406.625\n",
       "hibernating          247.950      2.394   366.267\n",
       "loyal_customers       82.595      8.375  1216.819\n",
       "need_attention       113.829      3.728   562.143\n",
       "new_customers         17.918      2.000   339.956\n",
       "potential_loyalists   37.156      3.304   533.184\n",
       "promising             58.921      2.000   335.673"
      ]
     },
     "execution_count": 229,
     "metadata": {},
     "output_type": "execute_result"
    }
   ],
   "source": [
    "rfm.groupby('segment').agg({'recency':'mean',\n",
    "                           'frequency':'mean',\n",
    "                            'monetary':'mean'})"
   ]
  },
  {
   "cell_type": "markdown",
   "id": "dbc68ed5-99b2-4823-ac04-275b849765c1",
   "metadata": {},
   "source": [
    "**Adım2:** RFM analizi yardımıyla aşağıda verilen 2 case için ilgili profildeki müşterileri bulun ve müşteri id'lerini csv olarak kaydediniz."
   ]
  },
  {
   "cell_type": "markdown",
   "id": "b4ec03b6-27aa-4fe8-96c9-dd38e6c19f22",
   "metadata": {},
   "source": [
    "**a.** FLO bünyesine yeni bir kadın ayakkabı markası dahil ediyor. Dahil ettiği markanın ürün fiyatları genel müşteri\n",
    "tercihlerinin üstünde. Bu nedenle markanın tanıtımı ve ürün satışları için ilgilenecek profildeki müşterilerle özel olarak\n",
    "iletişime geçmek isteniliyor. Sadık müşterilerinden(champions, loyal_customers) ve kadın kategorisinden alışveriş\n",
    "yapan kişiler özel olarak iletişim kurulacak müşteriler. Bu müşterilerin id numaralarını csv dosyasına kaydediniz."
   ]
  },
  {
   "cell_type": "code",
   "execution_count": 233,
   "id": "e4f935c2-0b53-4a4f-a13d-6b2388cadc40",
   "metadata": {},
   "outputs": [],
   "source": [
    "rfm['interested_in_categories_12'] = df['interested_in_categories_12']"
   ]
  },
  {
   "cell_type": "code",
   "execution_count": 252,
   "id": "8b620428-2ce1-4cc9-8c76-b34c530e344b",
   "metadata": {},
   "outputs": [],
   "source": [
    "hedef_müsteri = rfm.loc[(rfm['segment'] == 'champions') | (rfm['segment']=='loyal_customers') & \n",
    "(rfm['interested_in_categories_12'].str.contains('KADIN', na=False)),'master_id']"
   ]
  },
  {
   "cell_type": "code",
   "execution_count": null,
   "id": "7b351a06-92a3-4ef9-8883-fd25efb6d302",
   "metadata": {},
   "outputs": [],
   "source": [
    "hedef_müsteri_id.to_csv('hedef_müsteri_id.csv')"
   ]
  },
  {
   "cell_type": "markdown",
   "id": "6624ac93-84de-496c-bac0-66d8ab7a2201",
   "metadata": {},
   "source": [
    "**b.** Erkek ve Çocuk ürünlerinde %40'a yakın indirim planlanmaktadır. Bu indirimle ilgili kategorilerle ilgilenen geçmişte\n",
    "iyi müşteri olan ama uzun süredir alışveriş yapmayan kaybedilmemesi gereken müşteriler, uykuda olanlar ve yeni\n",
    "gelen müşteriler özel olarak hedef alınmak isteniyor. Uygun profildeki müşterilerin id'lerini csv dosyasına kaydediniz."
   ]
  },
  {
   "cell_type": "code",
   "execution_count": 269,
   "id": "e0378d7c-dd11-42b9-bf1f-3deddde5260c",
   "metadata": {},
   "outputs": [],
   "source": [
    "hedef_nüşteri2=rfm.loc[(rfm['segment'].isin([\"cant_loose\",\"hibernating\",\"new_customers\"])) & (rfm['interested_in_categories_12'].str.contains(\"ERKEK|ÇOCUK\", na=False))]\n"
   ]
  },
  {
   "cell_type": "code",
   "execution_count": 271,
   "id": "1417f469-2627-4bdb-96c2-8ae0c5b28c22",
   "metadata": {},
   "outputs": [
    {
     "data": {
      "text/html": [
       "<div>\n",
       "<style scoped>\n",
       "    .dataframe tbody tr th:only-of-type {\n",
       "        vertical-align: middle;\n",
       "    }\n",
       "\n",
       "    .dataframe tbody tr th {\n",
       "        vertical-align: top;\n",
       "    }\n",
       "\n",
       "    .dataframe thead th {\n",
       "        text-align: right;\n",
       "    }\n",
       "</style>\n",
       "<table border=\"1\" class=\"dataframe\">\n",
       "  <thead>\n",
       "    <tr style=\"text-align: right;\">\n",
       "      <th></th>\n",
       "      <th>master_id</th>\n",
       "      <th>recency</th>\n",
       "      <th>frequency</th>\n",
       "      <th>monetary</th>\n",
       "      <th>recency_score</th>\n",
       "      <th>frequency_score</th>\n",
       "      <th>monetary_score</th>\n",
       "      <th>RF_SCORE</th>\n",
       "      <th>segment</th>\n",
       "      <th>interested_in_categories_12</th>\n",
       "    </tr>\n",
       "  </thead>\n",
       "  <tbody>\n",
       "    <tr>\n",
       "      <th>19</th>\n",
       "      <td>2730793e-3908-11ea-85d6-000d3a38a36f</td>\n",
       "      <td>347</td>\n",
       "      <td>2.000</td>\n",
       "      <td>314.980</td>\n",
       "      <td>1</td>\n",
       "      <td>1</td>\n",
       "      <td>2</td>\n",
       "      <td>11</td>\n",
       "      <td>hibernating</td>\n",
       "      <td>[ERKEK]</td>\n",
       "    </tr>\n",
       "    <tr>\n",
       "      <th>21</th>\n",
       "      <td>7b289956-d691-11e9-93bc-000d3a38a36f</td>\n",
       "      <td>187</td>\n",
       "      <td>3.000</td>\n",
       "      <td>730.670</td>\n",
       "      <td>2</td>\n",
       "      <td>2</td>\n",
       "      <td>4</td>\n",
       "      <td>22</td>\n",
       "      <td>hibernating</td>\n",
       "      <td>[ERKEK, KADIN]</td>\n",
       "    </tr>\n",
       "    <tr>\n",
       "      <th>29</th>\n",
       "      <td>a46cc34a-a19f-11e9-a2fc-000d3a38a36f</td>\n",
       "      <td>184</td>\n",
       "      <td>2.000</td>\n",
       "      <td>175.980</td>\n",
       "      <td>2</td>\n",
       "      <td>1</td>\n",
       "      <td>1</td>\n",
       "      <td>21</td>\n",
       "      <td>hibernating</td>\n",
       "      <td>[ERKEK]</td>\n",
       "    </tr>\n",
       "    <tr>\n",
       "      <th>45</th>\n",
       "      <td>d45e704c-b13c-11e9-9757-000d3a38a36f</td>\n",
       "      <td>335</td>\n",
       "      <td>3.000</td>\n",
       "      <td>1095.390</td>\n",
       "      <td>1</td>\n",
       "      <td>2</td>\n",
       "      <td>5</td>\n",
       "      <td>12</td>\n",
       "      <td>hibernating</td>\n",
       "      <td>[ERKEK, KADIN]</td>\n",
       "    </tr>\n",
       "    <tr>\n",
       "      <th>48</th>\n",
       "      <td>1eb32dea-a409-11e9-a2fc-000d3a38a36f</td>\n",
       "      <td>162</td>\n",
       "      <td>3.000</td>\n",
       "      <td>271.970</td>\n",
       "      <td>2</td>\n",
       "      <td>2</td>\n",
       "      <td>1</td>\n",
       "      <td>22</td>\n",
       "      <td>hibernating</td>\n",
       "      <td>[ERKEK]</td>\n",
       "    </tr>\n",
       "    <tr>\n",
       "      <th>...</th>\n",
       "      <td>...</td>\n",
       "      <td>...</td>\n",
       "      <td>...</td>\n",
       "      <td>...</td>\n",
       "      <td>...</td>\n",
       "      <td>...</td>\n",
       "      <td>...</td>\n",
       "      <td>...</td>\n",
       "      <td>...</td>\n",
       "      <td>...</td>\n",
       "    </tr>\n",
       "    <tr>\n",
       "      <th>19894</th>\n",
       "      <td>0e16f220-ac68-11e9-a2fc-000d3a38a36f</td>\n",
       "      <td>353</td>\n",
       "      <td>2.000</td>\n",
       "      <td>244.490</td>\n",
       "      <td>1</td>\n",
       "      <td>2</td>\n",
       "      <td>1</td>\n",
       "      <td>12</td>\n",
       "      <td>hibernating</td>\n",
       "      <td>[ERKEK]</td>\n",
       "    </tr>\n",
       "    <tr>\n",
       "      <th>19899</th>\n",
       "      <td>3c799730-5b9f-11ea-b4c9-000d3a38a36f</td>\n",
       "      <td>232</td>\n",
       "      <td>2.000</td>\n",
       "      <td>179.980</td>\n",
       "      <td>2</td>\n",
       "      <td>2</td>\n",
       "      <td>1</td>\n",
       "      <td>22</td>\n",
       "      <td>hibernating</td>\n",
       "      <td>[ERKEK]</td>\n",
       "    </tr>\n",
       "    <tr>\n",
       "      <th>19928</th>\n",
       "      <td>8ef8cfc4-606f-11ea-8dd8-000d3a38a36f</td>\n",
       "      <td>335</td>\n",
       "      <td>2.000</td>\n",
       "      <td>238.480</td>\n",
       "      <td>1</td>\n",
       "      <td>2</td>\n",
       "      <td>1</td>\n",
       "      <td>12</td>\n",
       "      <td>hibernating</td>\n",
       "      <td>[ERKEK]</td>\n",
       "    </tr>\n",
       "    <tr>\n",
       "      <th>19932</th>\n",
       "      <td>13a5e98c-a824-11e9-a2fc-000d3a38a36f</td>\n",
       "      <td>208</td>\n",
       "      <td>9.000</td>\n",
       "      <td>1174.000</td>\n",
       "      <td>2</td>\n",
       "      <td>5</td>\n",
       "      <td>5</td>\n",
       "      <td>25</td>\n",
       "      <td>cant_loose</td>\n",
       "      <td>[ERKEK, KADIN, AKTIFSPOR]</td>\n",
       "    </tr>\n",
       "    <tr>\n",
       "      <th>19933</th>\n",
       "      <td>6d285c64-5e73-11ea-be5b-000d3a38a36f</td>\n",
       "      <td>220</td>\n",
       "      <td>8.000</td>\n",
       "      <td>1114.800</td>\n",
       "      <td>2</td>\n",
       "      <td>5</td>\n",
       "      <td>5</td>\n",
       "      <td>25</td>\n",
       "      <td>cant_loose</td>\n",
       "      <td>[AKTIFCOCUK, ERKEK, COCUK]</td>\n",
       "    </tr>\n",
       "  </tbody>\n",
       "</table>\n",
       "<p>1768 rows × 10 columns</p>\n",
       "</div>"
      ],
      "text/plain": [
       "                                  master_id  recency  frequency  monetary recency_score frequency_score monetary_score RF_SCORE      segment interested_in_categories_12\n",
       "19     2730793e-3908-11ea-85d6-000d3a38a36f      347      2.000   314.980             1               1              2       11  hibernating                     [ERKEK]\n",
       "21     7b289956-d691-11e9-93bc-000d3a38a36f      187      3.000   730.670             2               2              4       22  hibernating              [ERKEK, KADIN]\n",
       "29     a46cc34a-a19f-11e9-a2fc-000d3a38a36f      184      2.000   175.980             2               1              1       21  hibernating                     [ERKEK]\n",
       "45     d45e704c-b13c-11e9-9757-000d3a38a36f      335      3.000  1095.390             1               2              5       12  hibernating              [ERKEK, KADIN]\n",
       "48     1eb32dea-a409-11e9-a2fc-000d3a38a36f      162      3.000   271.970             2               2              1       22  hibernating                     [ERKEK]\n",
       "...                                     ...      ...        ...       ...           ...             ...            ...      ...          ...                         ...\n",
       "19894  0e16f220-ac68-11e9-a2fc-000d3a38a36f      353      2.000   244.490             1               2              1       12  hibernating                     [ERKEK]\n",
       "19899  3c799730-5b9f-11ea-b4c9-000d3a38a36f      232      2.000   179.980             2               2              1       22  hibernating                     [ERKEK]\n",
       "19928  8ef8cfc4-606f-11ea-8dd8-000d3a38a36f      335      2.000   238.480             1               2              1       12  hibernating                     [ERKEK]\n",
       "19932  13a5e98c-a824-11e9-a2fc-000d3a38a36f      208      9.000  1174.000             2               5              5       25   cant_loose   [ERKEK, KADIN, AKTIFSPOR]\n",
       "19933  6d285c64-5e73-11ea-be5b-000d3a38a36f      220      8.000  1114.800             2               5              5       25   cant_loose  [AKTIFCOCUK, ERKEK, COCUK]\n",
       "\n",
       "[1768 rows x 10 columns]"
      ]
     },
     "execution_count": 271,
     "metadata": {},
     "output_type": "execute_result"
    }
   ],
   "source": [
    "hedef_nüşteri2"
   ]
  },
  {
   "cell_type": "code",
   "execution_count": null,
   "id": "b8ae4baf-a827-456a-99fe-13d362fde9fb",
   "metadata": {},
   "outputs": [],
   "source": []
  }
 ],
 "metadata": {
  "kernelspec": {
   "display_name": "Python [conda env:base] *",
   "language": "python",
   "name": "conda-base-py"
  },
  "language_info": {
   "codemirror_mode": {
    "name": "ipython",
    "version": 3
   },
   "file_extension": ".py",
   "mimetype": "text/x-python",
   "name": "python",
   "nbconvert_exporter": "python",
   "pygments_lexer": "ipython3",
   "version": "3.12.7"
  }
 },
 "nbformat": 4,
 "nbformat_minor": 5
}
