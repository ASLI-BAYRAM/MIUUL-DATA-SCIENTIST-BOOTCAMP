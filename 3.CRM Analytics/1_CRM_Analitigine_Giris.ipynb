{
 "cells": [
  {
   "cell_type": "markdown",
   "id": "7e3edc47-3ae3-4317-9544-5fb2fd08db01",
   "metadata": {},
   "source": [
    " <h1 style=\"text-align: center; color: RED\">CRM ANALİTİĞİ</h1> "
   ]
  },
  {
   "cell_type": "markdown",
   "id": "003ed244-8c4a-4548-b472-885167465352",
   "metadata": {},
   "source": [
    "<span style=\"color: blue; font-weight: bold;\">CRM</span> = Customer Relationship Management(Müşteri ilişkileri yönetimi)\n",
    "\n",
    "Bir şirketin müşterileri ile olan ilşişkilerini yönetmesi söz konusudur. Bu ilişki yönetimine CRM denir. CRM dünyasındaki bazı kavramlar:\n",
    "* Müşteri Yaşam Döngüsü Optimizasyonları(customer lifecycle/journey/funnel) : Müşterilerle kurulan iletişimi ya da etkileşimi görsel tekniklerler ile  ifade edip bunları çeşitli KPI'lar(temel performans göstergeleri) ile takip edilebilir bir forma getirip takip etme imkanı sağlayan kavramlardır. Örneğin bir web sitemiz var ve bu sitede çeşitli ürünler satıyoruz.İlk defa bir kullanıcı siteyi ziyaret ettiğinde bu müşteri yaşam döngüsünün ilk adımıdır. Müşterinin siteye üye olması ikinci adımdır. Kullanıcınn satın alma işlemi ise üçüncü adımdır. İşte bu adımların hepsi müşteri yaşam döngüsüdür.\n",
    "* İletişim(dil, renk, görseller, kampanyalar)\n",
    "* Müşteri edinme/bulma çabaları: Online ya da offline kanallardan müşteri bulma çabalarıdır.Reklam verme yeni kampanyalar yapmak gibi.\n",
    "* Müşteri elde tutma(terk) çalışmaları: Yeni müşteri bulmak var olan müşterileri elde tutmaktan daha maliyetlidir.\n",
    "* Çapraz Satış(cross-sell):Tamamlayıcı ürünlerin satışını ifade eder. Örneğin hamburger alan bir kişiye cola satmak gibi\n",
    "* Üst satış(up-sell): Daha fazla satış yapma çabasıdır. Küçük ayran alana byük ayran satma çabası gibi\n",
    "* Müşteri Segmentasyon Çalışmaları: Tüm müşterileri aynı kategoride tutmak yerine alt segmentlere ayırarak daha odaklı çalışmalar yapılma çabasıdır. Böylece az insanla daha çok iş yapılma imkanıda sağlanmış olur.Örneğin şirkete en fayda sağlayan müşteriler, orta fayda sağlayanlar gibi segmentlere ayırarak her segmente farklı davranışlar sergilenir.\n",
    "  \n"
   ]
  },
  {
   "cell_type": "markdown",
   "id": "ec7dd22c-7f9d-41e8-ac5d-e0a231db4e40",
   "metadata": {},
   "source": [
    "<span style=\"color: blue; font-weight: bold;\">CRM Analitiği</span> : Tüm müşteri ilişkileri süreçlerini veriye dayalı olarak daha verimli hale getirmeye çalışmaktır.Bu yöntem bize strateji geliştimeye yardımcı olur. CRM analitiği CRM alanındaki çalışmaların veri odaklı gerçekleştirilmesi çabalarını barındıran bir veri bilimi, veri analitiği uygulama alanıdır. "
   ]
  },
  {
   "cell_type": "markdown",
   "id": "a46e1478-ec24-4bf7-8a05-5b5730e09990",
   "metadata": {},
   "source": [
    "<h2 style=\"text-align: center; color: RED\">TEMEL PERFORMANS GÖSTERGELERİ(Key Performance Indicators)</h2> "
   ]
  },
  {
   "cell_type": "markdown",
   "id": "470f9682-62ad-46fd-9e4f-6444374fc36a",
   "metadata": {},
   "source": [
    "<span style=\"color: blue; font-weight: bold;\">KPI</span> : Şirket, departman ya da çalışanların performanslarını değerlendirmek için kullanılan matematiksel göstergelerdir.\n",
    "\n",
    "**KPI ÖRNEKLERİ**\n",
    "* Customer Acquisition Rate(Müşteri Kazanma Oranı)\n",
    "* Customer Retention Rate(Müşteri Elde Tutma Oranı)\n",
    "* Customer Churn Rate(Müşteri Terk Oranı)\n",
    "* Conversion Rate(Dönüşüm Oranı): Bir reklamı 10 kişi gördü 1 kişi tıkladı bu dönüşüm oranı 1/10 'dur.\n",
    "* Growth Rate(Büyüme Oranı)"
   ]
  },
  {
   "cell_type": "markdown",
   "id": "77572411-49ca-481b-bc13-4ec911a71ac5",
   "metadata": {},
   "source": [
    "<h2 style=\"text-align: center; color: RED\">KOHORT ANALİZİ</h2> "
   ]
  },
  {
   "cell_type": "markdown",
   "id": "00081b8a-59b7-4e91-bcce-0b4198531179",
   "metadata": {},
   "source": [
    "<span style=\"color: blue; font-weight: bold;\">Cohort</span> : Ortak özelliklere sahip bir grup insan.\n",
    "Cohort analizi ise ortak özelliklere sahip bir grup insan davranışının analizidir. Örneğin churn rate, ortak özellik churn olmasıdır yani markayı terk etmesidir. Bunun analizi ise zamana göre churn oranlarının incelenmesi demektir."
   ]
  },
  {
   "cell_type": "code",
   "execution_count": null,
   "id": "c4c3be7d-18cd-4c12-93c1-c3a2a690f62d",
   "metadata": {},
   "outputs": [],
   "source": []
  }
 ],
 "metadata": {
  "kernelspec": {
   "display_name": "Python [conda env:base] *",
   "language": "python",
   "name": "conda-base-py"
  },
  "language_info": {
   "codemirror_mode": {
    "name": "ipython",
    "version": 3
   },
   "file_extension": ".py",
   "mimetype": "text/x-python",
   "name": "python",
   "nbconvert_exporter": "python",
   "pygments_lexer": "ipython3",
   "version": "3.12.7"
  }
 },
 "nbformat": 4,
 "nbformat_minor": 5
}
