{
 "cells": [
  {
   "cell_type": "markdown",
   "id": "7723a21d-a4fc-46af-a63c-19456da1a236",
   "metadata": {},
   "source": [
    " <h1 style=\"text-align: center; color: RED\">BG-NBD VE GAMMA-GAMMA İLE CLTV TAHMİNİ</h1>"
   ]
  },
  {
   "cell_type": "markdown",
   "id": "16586bb4-e323-45ef-b655-bab45fc86f06",
   "metadata": {},
   "source": [
    "<span style=\"color: blue; font-weight: bold;\">İŞ PROBLEMİ</span> "
   ]
  },
  {
   "cell_type": "markdown",
   "id": "e3bef9a9-31de-4597-a292-b408bbe125f7",
   "metadata": {},
   "source": [
    "FLO satış ve pazarlama faaliyetleri için roadmap\n",
    "belirlemek istemektedir. Şirketin orta uzun vadeli plan\n",
    "yapabilmesi için var olan müşterilerin gelecekte şirkete\n",
    "sağlayacakları potansiyel değerin tahmin edilmesi\n",
    "gerekmektedir."
   ]
  },
  {
   "cell_type": "markdown",
   "id": "641ec193-ae58-4f68-a74d-337869770e5f",
   "metadata": {},
   "source": [
    "<span style=\"color: blue; font-weight: bold;\">VERİ SETİ HİKAYESİ</span> "
   ]
  },
  {
   "cell_type": "markdown",
   "id": "cd972ef7-a661-48c2-b129-46dadb1a0948",
   "metadata": {},
   "source": [
    "Veri seti son alışverişlerini 2020 - 2021 yıllarında OmniChannel(hem online hem offline alışveriş yapan) olarak yapan müşterilerin geçmiş alışveriş davranışlarından\n",
    "elde edilen bilgilerden oluşmaktadır.\n",
    "\n",
    "* master_id: Eşsiz müşteri numarası\n",
    "* order_channel : Alışveriş yapılan platforma ait hangi kanalın kullanıldığı (Android, ios, Desktop, Mobile, Offline)\n",
    "* last_order_channel : En son alışverişin yapıldığı kanal\n",
    "* first_order_date : Müşterinin yaptığı ilk alışveriş tarihi\n",
    "* last_order_date : Müşterinin yaptığı son alışveriş tarihi\n",
    "* last_order_date_online : Muşterinin online platformda yaptığı son alışveriş tarihi\n",
    "* last_order_date_offline : Muşterinin offline platformda yaptığı son alışveriş tarihi\n",
    "* order_num_total_ever_online : Müşterinin online platformda yaptığı toplam alışveriş sayısı\n",
    "* order_num_total_ever_offline : Müşterinin offline'da yaptığı toplam alışveriş sayısı\n",
    "* customer_value_total_ever_offline : Müşterinin offline alışverişlerinde ödediği toplam ücret\n",
    "* customer_value_total_ever_online : Müşterinin online alışverişlerinde ödediği toplam ücret\n",
    "* interested_in_categories_12 : Müşterinin son 12 ayda alışveriş yaptığı kategorilerin listesi"
   ]
  },
  {
   "cell_type": "markdown",
   "id": "21f4a609-1b90-4b5e-9824-5244927734ad",
   "metadata": {},
   "source": [
    "<span style=\"color: blue; font-weight: bold;\">GÖREV1: VERİYİ HAZIRLAMA</span> "
   ]
  },
  {
   "cell_type": "code",
   "execution_count": 15,
   "id": "162613db-a646-43d0-bdf8-5d6ac9da2f7f",
   "metadata": {},
   "outputs": [],
   "source": [
    "import datetime as dt\n",
    "import pandas as pd\n",
    "import matplotlib.pyplot as plt\n",
    "from lifetimes import BetaGeoFitter\n",
    "from lifetimes import GammaGammaFitter\n",
    "from lifetimes.plotting import plot_period_transactions\n",
    "from sklearn.preprocessing import MinMaxScaler\n",
    "\n",
    "pd.set_option('display.max_columns', None)\n",
    "pd.set_option('display.width', 500)\n",
    "pd.set_option('display.float_format', lambda x: '%.4f' % x)\n"
   ]
  },
  {
   "cell_type": "markdown",
   "id": "07747470-d06f-48a5-8f9a-6725411b7fb1",
   "metadata": {},
   "source": [
    "**Adım1:** flo_data_20K.csv verisini okuyunuz."
   ]
  },
  {
   "cell_type": "code",
   "execution_count": 73,
   "id": "55fd4121-d69b-49e9-a389-28c527b30458",
   "metadata": {},
   "outputs": [],
   "source": [
    "df_ = pd.read_csv(\"C:\\\\Users\\\\ASLI\\\\Desktop\\\\Data Scientist Bootcamp\\\\3.CRM Analytics\\\\resim\\\\flo_data_20k.csv\")"
   ]
  },
  {
   "cell_type": "code",
   "execution_count": 208,
   "id": "d3e41fb2-c698-434a-a558-cbf76444f4bd",
   "metadata": {},
   "outputs": [],
   "source": [
    "df = df_.copy()"
   ]
  },
  {
   "cell_type": "markdown",
   "id": "c6995b4e-3bdd-4c97-b79f-6fe44567f231",
   "metadata": {},
   "source": [
    "**Adım2:** Aykırı değerleri baskılamak için gerekli olan outlier_thresholds ve replace_with_thresholds fonksiyonlarını tanımlayınız.\n",
    "Not: cltv hesaplanırken frequency değerleri integer olması gerekmektedir.Bu nedenle alt ve üst limitlerini round() ile yuvarlayınız."
   ]
  },
  {
   "cell_type": "code",
   "execution_count": 212,
   "id": "4f7351c4-2b7a-48bd-9d87-6f237623f753",
   "metadata": {},
   "outputs": [],
   "source": [
    "def outlier_thresholds(dataframe,variable):\n",
    "    q1 = dataframe[variable].quantile(0.01)\n",
    "    q3 = dataframe[variable].quantile(0.99)\n",
    "    IQR = q3 - q1\n",
    "    low_limit = q1 - IQR*1.5\n",
    "    up_limit = q3 + IQR*1.5\n",
    "    return low_limit,up_limit"
   ]
  },
  {
   "cell_type": "code",
   "execution_count": 214,
   "id": "2c23f092-cec1-4969-ae0b-c5319d523314",
   "metadata": {},
   "outputs": [],
   "source": [
    "def replace_with_thresholds(dataframe,variable):\n",
    "    low_limit, up_limit = outlier_thresholds(dataframe,variable)\n",
    "    dataframe.loc[(dataframe[variable] < low_limit), variable] = round(low_limit,0)\n",
    "    dataframe.loc[(dataframe[variable] > up_limit) , variable] = round(up_limit,0)"
   ]
  },
  {
   "cell_type": "markdown",
   "id": "1c7135ff-5789-4f8d-85bb-6ad8c405b899",
   "metadata": {},
   "source": [
    "**Adım3:** \"order_num_total_ever_online\", \"order_num_total_ever_offline\", \"customer_value_total_ever_offline\",\n",
    "\"customer_value_total_ever_online\" değişkenlerinin aykırı değerleri varsa baskılayanız."
   ]
  },
  {
   "cell_type": "code",
   "execution_count": 35,
   "id": "c8ffad37-e3e5-4845-a47c-c6f36aa86ecc",
   "metadata": {
    "scrolled": true
   },
   "outputs": [
    {
     "name": "stdout",
     "output_type": "stream",
     "text": [
      "<class 'pandas.core.frame.DataFrame'>\n",
      "RangeIndex: 19945 entries, 0 to 19944\n",
      "Data columns (total 12 columns):\n",
      " #   Column                             Non-Null Count  Dtype  \n",
      "---  ------                             --------------  -----  \n",
      " 0   master_id                          19945 non-null  object \n",
      " 1   order_channel                      19945 non-null  object \n",
      " 2   last_order_channel                 19945 non-null  object \n",
      " 3   first_order_date                   19945 non-null  object \n",
      " 4   last_order_date                    19945 non-null  object \n",
      " 5   last_order_date_online             19945 non-null  object \n",
      " 6   last_order_date_offline            19945 non-null  object \n",
      " 7   order_num_total_ever_online        19945 non-null  float64\n",
      " 8   order_num_total_ever_offline       19945 non-null  float64\n",
      " 9   customer_value_total_ever_offline  19945 non-null  float64\n",
      " 10  customer_value_total_ever_online   19945 non-null  float64\n",
      " 11  interested_in_categories_12        19945 non-null  object \n",
      "dtypes: float64(4), object(8)\n",
      "memory usage: 1.8+ MB\n"
     ]
    }
   ],
   "source": [
    "df.info()"
   ]
  },
  {
   "cell_type": "code",
   "execution_count": 216,
   "id": "547f0f19-5e15-4b76-84e9-68d5f658788c",
   "metadata": {},
   "outputs": [],
   "source": [
    "num_col = [col for col in df. columns if df[col].dtype !='O']"
   ]
  },
  {
   "cell_type": "code",
   "execution_count": 56,
   "id": "538af7b8-08a0-4e5e-bcb9-4e96b5b23081",
   "metadata": {},
   "outputs": [
    {
     "data": {
      "text/plain": [
       "['order_num_total_ever_online',\n",
       " 'order_num_total_ever_offline',\n",
       " 'customer_value_total_ever_offline',\n",
       " 'customer_value_total_ever_online']"
      ]
     },
     "execution_count": 56,
     "metadata": {},
     "output_type": "execute_result"
    }
   ],
   "source": [
    "num_col"
   ]
  },
  {
   "cell_type": "code",
   "execution_count": 210,
   "id": "f91bc1bf-9fe2-46a6-be57-39c0ef14c2d8",
   "metadata": {},
   "outputs": [
    {
     "data": {
      "text/html": [
       "<div>\n",
       "<style scoped>\n",
       "    .dataframe tbody tr th:only-of-type {\n",
       "        vertical-align: middle;\n",
       "    }\n",
       "\n",
       "    .dataframe tbody tr th {\n",
       "        vertical-align: top;\n",
       "    }\n",
       "\n",
       "    .dataframe thead th {\n",
       "        text-align: right;\n",
       "    }\n",
       "</style>\n",
       "<table border=\"1\" class=\"dataframe\">\n",
       "  <thead>\n",
       "    <tr style=\"text-align: right;\">\n",
       "      <th></th>\n",
       "      <th>count</th>\n",
       "      <th>mean</th>\n",
       "      <th>std</th>\n",
       "      <th>min</th>\n",
       "      <th>25%</th>\n",
       "      <th>50%</th>\n",
       "      <th>75%</th>\n",
       "      <th>max</th>\n",
       "    </tr>\n",
       "  </thead>\n",
       "  <tbody>\n",
       "    <tr>\n",
       "      <th>order_num_total_ever_online</th>\n",
       "      <td>19945.0000</td>\n",
       "      <td>3.1109</td>\n",
       "      <td>4.2256</td>\n",
       "      <td>1.0000</td>\n",
       "      <td>1.0000</td>\n",
       "      <td>2.0000</td>\n",
       "      <td>4.0000</td>\n",
       "      <td>200.0000</td>\n",
       "    </tr>\n",
       "    <tr>\n",
       "      <th>order_num_total_ever_offline</th>\n",
       "      <td>19945.0000</td>\n",
       "      <td>1.9139</td>\n",
       "      <td>2.0629</td>\n",
       "      <td>1.0000</td>\n",
       "      <td>1.0000</td>\n",
       "      <td>1.0000</td>\n",
       "      <td>2.0000</td>\n",
       "      <td>109.0000</td>\n",
       "    </tr>\n",
       "    <tr>\n",
       "      <th>customer_value_total_ever_offline</th>\n",
       "      <td>19945.0000</td>\n",
       "      <td>253.9226</td>\n",
       "      <td>301.5329</td>\n",
       "      <td>10.0000</td>\n",
       "      <td>99.9900</td>\n",
       "      <td>179.9800</td>\n",
       "      <td>319.9700</td>\n",
       "      <td>18119.1400</td>\n",
       "    </tr>\n",
       "    <tr>\n",
       "      <th>customer_value_total_ever_online</th>\n",
       "      <td>19945.0000</td>\n",
       "      <td>497.3217</td>\n",
       "      <td>832.6019</td>\n",
       "      <td>12.9900</td>\n",
       "      <td>149.9800</td>\n",
       "      <td>286.4600</td>\n",
       "      <td>578.4400</td>\n",
       "      <td>45220.1300</td>\n",
       "    </tr>\n",
       "  </tbody>\n",
       "</table>\n",
       "</div>"
      ],
      "text/plain": [
       "                                       count     mean      std     min      25%      50%      75%        max\n",
       "order_num_total_ever_online       19945.0000   3.1109   4.2256  1.0000   1.0000   2.0000   4.0000   200.0000\n",
       "order_num_total_ever_offline      19945.0000   1.9139   2.0629  1.0000   1.0000   1.0000   2.0000   109.0000\n",
       "customer_value_total_ever_offline 19945.0000 253.9226 301.5329 10.0000  99.9900 179.9800 319.9700 18119.1400\n",
       "customer_value_total_ever_online  19945.0000 497.3217 832.6019 12.9900 149.9800 286.4600 578.4400 45220.1300"
      ]
     },
     "execution_count": 210,
     "metadata": {},
     "output_type": "execute_result"
    }
   ],
   "source": [
    "df.describe().T"
   ]
  },
  {
   "cell_type": "code",
   "execution_count": 218,
   "id": "ec6f4e19-c728-4361-9d05-b51c71fb228a",
   "metadata": {},
   "outputs": [
    {
     "name": "stdout",
     "output_type": "stream",
     "text": [
      "(-27.5, 48.5)\n",
      "(-8.0, 16.0)\n",
      "(-1779.9452000000003, 3019.8820000000005)\n",
      "(-4615.7406000000055, 7799.541000000008)\n"
     ]
    }
   ],
   "source": [
    "for col in num_col:\n",
    "    print(outlier_thresholds(df,col))"
   ]
  },
  {
   "cell_type": "code",
   "execution_count": 220,
   "id": "d80c8cf7-2adf-41a6-8161-330ac95b9081",
   "metadata": {},
   "outputs": [],
   "source": [
    "for col in num_col:\n",
    "    replace_with_thresholds(df,col)"
   ]
  },
  {
   "cell_type": "code",
   "execution_count": 222,
   "id": "31bf9aa1-7aa2-4afc-85bb-9bed5bdabafa",
   "metadata": {},
   "outputs": [
    {
     "data": {
      "text/html": [
       "<div>\n",
       "<style scoped>\n",
       "    .dataframe tbody tr th:only-of-type {\n",
       "        vertical-align: middle;\n",
       "    }\n",
       "\n",
       "    .dataframe tbody tr th {\n",
       "        vertical-align: top;\n",
       "    }\n",
       "\n",
       "    .dataframe thead th {\n",
       "        text-align: right;\n",
       "    }\n",
       "</style>\n",
       "<table border=\"1\" class=\"dataframe\">\n",
       "  <thead>\n",
       "    <tr style=\"text-align: right;\">\n",
       "      <th></th>\n",
       "      <th>count</th>\n",
       "      <th>mean</th>\n",
       "      <th>std</th>\n",
       "      <th>min</th>\n",
       "      <th>25%</th>\n",
       "      <th>50%</th>\n",
       "      <th>75%</th>\n",
       "      <th>max</th>\n",
       "    </tr>\n",
       "  </thead>\n",
       "  <tbody>\n",
       "    <tr>\n",
       "      <th>order_num_total_ever_online</th>\n",
       "      <td>19945.0000</td>\n",
       "      <td>3.0920</td>\n",
       "      <td>3.8095</td>\n",
       "      <td>1.0000</td>\n",
       "      <td>1.0000</td>\n",
       "      <td>2.0000</td>\n",
       "      <td>4.0000</td>\n",
       "      <td>48.0000</td>\n",
       "    </tr>\n",
       "    <tr>\n",
       "      <th>order_num_total_ever_offline</th>\n",
       "      <td>19945.0000</td>\n",
       "      <td>1.8862</td>\n",
       "      <td>1.4347</td>\n",
       "      <td>1.0000</td>\n",
       "      <td>1.0000</td>\n",
       "      <td>1.0000</td>\n",
       "      <td>2.0000</td>\n",
       "      <td>16.0000</td>\n",
       "    </tr>\n",
       "    <tr>\n",
       "      <th>customer_value_total_ever_offline</th>\n",
       "      <td>19945.0000</td>\n",
       "      <td>251.9213</td>\n",
       "      <td>251.0237</td>\n",
       "      <td>10.0000</td>\n",
       "      <td>99.9900</td>\n",
       "      <td>179.9800</td>\n",
       "      <td>319.9700</td>\n",
       "      <td>3020.0000</td>\n",
       "    </tr>\n",
       "    <tr>\n",
       "      <th>customer_value_total_ever_online</th>\n",
       "      <td>19945.0000</td>\n",
       "      <td>489.7057</td>\n",
       "      <td>632.6098</td>\n",
       "      <td>12.9900</td>\n",
       "      <td>149.9800</td>\n",
       "      <td>286.4600</td>\n",
       "      <td>578.4400</td>\n",
       "      <td>7800.0000</td>\n",
       "    </tr>\n",
       "  </tbody>\n",
       "</table>\n",
       "</div>"
      ],
      "text/plain": [
       "                                       count     mean      std     min      25%      50%      75%       max\n",
       "order_num_total_ever_online       19945.0000   3.0920   3.8095  1.0000   1.0000   2.0000   4.0000   48.0000\n",
       "order_num_total_ever_offline      19945.0000   1.8862   1.4347  1.0000   1.0000   1.0000   2.0000   16.0000\n",
       "customer_value_total_ever_offline 19945.0000 251.9213 251.0237 10.0000  99.9900 179.9800 319.9700 3020.0000\n",
       "customer_value_total_ever_online  19945.0000 489.7057 632.6098 12.9900 149.9800 286.4600 578.4400 7800.0000"
      ]
     },
     "execution_count": 222,
     "metadata": {},
     "output_type": "execute_result"
    }
   ],
   "source": [
    "df.describe().T"
   ]
  },
  {
   "cell_type": "markdown",
   "id": "d192225f-785b-4680-b679-3c51bc66600d",
   "metadata": {},
   "source": [
    "**Adım4:** Omnichannel müşterilerin hem online'dan hem de offline platformlardan alışveriş yaptığını ifade etmektedir. Her bir müşterinin toplam alışveriş sayısı ve harcaması için yeni değişkenler oluşturunuz."
   ]
  },
  {
   "cell_type": "code",
   "execution_count": 224,
   "id": "384141ae-e71d-4fcb-80d3-ca4f42706b1d",
   "metadata": {},
   "outputs": [],
   "source": [
    "df['total_order_num'] = df['order_num_total_ever_online'] + df['order_num_total_ever_offline']"
   ]
  },
  {
   "cell_type": "code",
   "execution_count": 226,
   "id": "c4a9be68-04b7-45a5-9a95-83a0e3f07cfc",
   "metadata": {},
   "outputs": [],
   "source": [
    "df['total_customer_value'] = df['customer_value_total_ever_offline'] + df['customer_value_total_ever_online']"
   ]
  },
  {
   "cell_type": "code",
   "execution_count": 228,
   "id": "3e9f842a-4411-4c00-b884-fd4625a34b89",
   "metadata": {},
   "outputs": [
    {
     "data": {
      "text/html": [
       "<div>\n",
       "<style scoped>\n",
       "    .dataframe tbody tr th:only-of-type {\n",
       "        vertical-align: middle;\n",
       "    }\n",
       "\n",
       "    .dataframe tbody tr th {\n",
       "        vertical-align: top;\n",
       "    }\n",
       "\n",
       "    .dataframe thead th {\n",
       "        text-align: right;\n",
       "    }\n",
       "</style>\n",
       "<table border=\"1\" class=\"dataframe\">\n",
       "  <thead>\n",
       "    <tr style=\"text-align: right;\">\n",
       "      <th></th>\n",
       "      <th>master_id</th>\n",
       "      <th>order_channel</th>\n",
       "      <th>last_order_channel</th>\n",
       "      <th>first_order_date</th>\n",
       "      <th>last_order_date</th>\n",
       "      <th>last_order_date_online</th>\n",
       "      <th>last_order_date_offline</th>\n",
       "      <th>order_num_total_ever_online</th>\n",
       "      <th>order_num_total_ever_offline</th>\n",
       "      <th>customer_value_total_ever_offline</th>\n",
       "      <th>customer_value_total_ever_online</th>\n",
       "      <th>interested_in_categories_12</th>\n",
       "      <th>total_order_num</th>\n",
       "      <th>total_customer_value</th>\n",
       "    </tr>\n",
       "  </thead>\n",
       "  <tbody>\n",
       "    <tr>\n",
       "      <th>0</th>\n",
       "      <td>cc294636-19f0-11eb-8d74-000d3a38a36f</td>\n",
       "      <td>Android App</td>\n",
       "      <td>Offline</td>\n",
       "      <td>2020-10-30</td>\n",
       "      <td>2021-02-26</td>\n",
       "      <td>2021-02-21</td>\n",
       "      <td>2021-02-26</td>\n",
       "      <td>4.0000</td>\n",
       "      <td>1.0000</td>\n",
       "      <td>139.9900</td>\n",
       "      <td>799.3800</td>\n",
       "      <td>[KADIN]</td>\n",
       "      <td>5.0000</td>\n",
       "      <td>939.3700</td>\n",
       "    </tr>\n",
       "    <tr>\n",
       "      <th>1</th>\n",
       "      <td>f431bd5a-ab7b-11e9-a2fc-000d3a38a36f</td>\n",
       "      <td>Android App</td>\n",
       "      <td>Mobile</td>\n",
       "      <td>2017-02-08</td>\n",
       "      <td>2021-02-16</td>\n",
       "      <td>2021-02-16</td>\n",
       "      <td>2020-01-10</td>\n",
       "      <td>19.0000</td>\n",
       "      <td>2.0000</td>\n",
       "      <td>159.9700</td>\n",
       "      <td>1853.5800</td>\n",
       "      <td>[ERKEK, COCUK, KADIN, AKTIFSPOR]</td>\n",
       "      <td>21.0000</td>\n",
       "      <td>2013.5500</td>\n",
       "    </tr>\n",
       "    <tr>\n",
       "      <th>2</th>\n",
       "      <td>69b69676-1a40-11ea-941b-000d3a38a36f</td>\n",
       "      <td>Android App</td>\n",
       "      <td>Android App</td>\n",
       "      <td>2019-11-27</td>\n",
       "      <td>2020-11-27</td>\n",
       "      <td>2020-11-27</td>\n",
       "      <td>2019-12-01</td>\n",
       "      <td>3.0000</td>\n",
       "      <td>2.0000</td>\n",
       "      <td>189.9700</td>\n",
       "      <td>395.3500</td>\n",
       "      <td>[ERKEK, KADIN]</td>\n",
       "      <td>5.0000</td>\n",
       "      <td>585.3200</td>\n",
       "    </tr>\n",
       "    <tr>\n",
       "      <th>3</th>\n",
       "      <td>1854e56c-491f-11eb-806e-000d3a38a36f</td>\n",
       "      <td>Android App</td>\n",
       "      <td>Android App</td>\n",
       "      <td>2021-01-06</td>\n",
       "      <td>2021-01-17</td>\n",
       "      <td>2021-01-17</td>\n",
       "      <td>2021-01-06</td>\n",
       "      <td>1.0000</td>\n",
       "      <td>1.0000</td>\n",
       "      <td>39.9900</td>\n",
       "      <td>81.9800</td>\n",
       "      <td>[AKTIFCOCUK, COCUK]</td>\n",
       "      <td>2.0000</td>\n",
       "      <td>121.9700</td>\n",
       "    </tr>\n",
       "    <tr>\n",
       "      <th>4</th>\n",
       "      <td>d6ea1074-f1f5-11e9-9346-000d3a38a36f</td>\n",
       "      <td>Desktop</td>\n",
       "      <td>Desktop</td>\n",
       "      <td>2019-08-03</td>\n",
       "      <td>2021-03-07</td>\n",
       "      <td>2021-03-07</td>\n",
       "      <td>2019-08-03</td>\n",
       "      <td>1.0000</td>\n",
       "      <td>1.0000</td>\n",
       "      <td>49.9900</td>\n",
       "      <td>159.9900</td>\n",
       "      <td>[AKTIFSPOR]</td>\n",
       "      <td>2.0000</td>\n",
       "      <td>209.9800</td>\n",
       "    </tr>\n",
       "  </tbody>\n",
       "</table>\n",
       "</div>"
      ],
      "text/plain": [
       "                              master_id order_channel last_order_channel first_order_date last_order_date last_order_date_online last_order_date_offline  order_num_total_ever_online  order_num_total_ever_offline  customer_value_total_ever_offline  customer_value_total_ever_online       interested_in_categories_12  total_order_num  total_customer_value\n",
       "0  cc294636-19f0-11eb-8d74-000d3a38a36f   Android App            Offline       2020-10-30      2021-02-26             2021-02-21              2021-02-26                       4.0000                        1.0000                           139.9900                          799.3800                           [KADIN]           5.0000              939.3700\n",
       "1  f431bd5a-ab7b-11e9-a2fc-000d3a38a36f   Android App             Mobile       2017-02-08      2021-02-16             2021-02-16              2020-01-10                      19.0000                        2.0000                           159.9700                         1853.5800  [ERKEK, COCUK, KADIN, AKTIFSPOR]          21.0000             2013.5500\n",
       "2  69b69676-1a40-11ea-941b-000d3a38a36f   Android App        Android App       2019-11-27      2020-11-27             2020-11-27              2019-12-01                       3.0000                        2.0000                           189.9700                          395.3500                    [ERKEK, KADIN]           5.0000              585.3200\n",
       "3  1854e56c-491f-11eb-806e-000d3a38a36f   Android App        Android App       2021-01-06      2021-01-17             2021-01-17              2021-01-06                       1.0000                        1.0000                            39.9900                           81.9800               [AKTIFCOCUK, COCUK]           2.0000              121.9700\n",
       "4  d6ea1074-f1f5-11e9-9346-000d3a38a36f       Desktop            Desktop       2019-08-03      2021-03-07             2021-03-07              2019-08-03                       1.0000                        1.0000                            49.9900                          159.9900                       [AKTIFSPOR]           2.0000              209.9800"
      ]
     },
     "execution_count": 228,
     "metadata": {},
     "output_type": "execute_result"
    }
   ],
   "source": [
    "df.head()"
   ]
  },
  {
   "cell_type": "markdown",
   "id": "6fa5f6e3-bcf7-44bb-94f5-63680cba81dd",
   "metadata": {},
   "source": [
    "**Adım5:** Değişken tiplerini inceleyiniz. Tarih ifade eden değişkenlerin tipini date'e çeviriniz."
   ]
  },
  {
   "cell_type": "code",
   "execution_count": 94,
   "id": "86b3426c-024a-4bfc-a57f-8595657a0c4a",
   "metadata": {},
   "outputs": [
    {
     "name": "stdout",
     "output_type": "stream",
     "text": [
      "<class 'pandas.core.frame.DataFrame'>\n",
      "RangeIndex: 19945 entries, 0 to 19944\n",
      "Data columns (total 14 columns):\n",
      " #   Column                             Non-Null Count  Dtype  \n",
      "---  ------                             --------------  -----  \n",
      " 0   master_id                          19945 non-null  object \n",
      " 1   order_channel                      19945 non-null  object \n",
      " 2   last_order_channel                 19945 non-null  object \n",
      " 3   first_order_date                   19945 non-null  object \n",
      " 4   last_order_date                    19945 non-null  object \n",
      " 5   last_order_date_online             19945 non-null  object \n",
      " 6   last_order_date_offline            19945 non-null  object \n",
      " 7   order_num_total_ever_online        19945 non-null  float64\n",
      " 8   order_num_total_ever_offline       19945 non-null  float64\n",
      " 9   customer_value_total_ever_offline  19945 non-null  float64\n",
      " 10  customer_value_total_ever_online   19945 non-null  float64\n",
      " 11  interested_in_categories_12        19945 non-null  object \n",
      " 12  total_order_num                    19945 non-null  float64\n",
      " 13  total_customer_value               19945 non-null  float64\n",
      "dtypes: float64(6), object(8)\n",
      "memory usage: 2.1+ MB\n"
     ]
    }
   ],
   "source": [
    "df.info()"
   ]
  },
  {
   "cell_type": "code",
   "execution_count": 230,
   "id": "c1485261-5fff-4bf4-8157-5b8437aa2ba3",
   "metadata": {},
   "outputs": [],
   "source": [
    "date_col = df.columns[df.columns.str.contains('date', na=False)]"
   ]
  },
  {
   "cell_type": "code",
   "execution_count": 106,
   "id": "fcdf2459-a552-4320-9bcb-b6320afb11f2",
   "metadata": {},
   "outputs": [
    {
     "data": {
      "text/plain": [
       "Index(['first_order_date', 'last_order_date', 'last_order_date_online', 'last_order_date_offline'], dtype='object')"
      ]
     },
     "execution_count": 106,
     "metadata": {},
     "output_type": "execute_result"
    }
   ],
   "source": [
    "date_col"
   ]
  },
  {
   "cell_type": "code",
   "execution_count": 232,
   "id": "e1028cb4-9505-468b-954d-2ee2826319f6",
   "metadata": {},
   "outputs": [],
   "source": [
    "df[date_col] = df[date_col].apply(pd.to_datetime)"
   ]
  },
  {
   "cell_type": "code",
   "execution_count": 234,
   "id": "12781c1e-97bb-4789-acd3-97ecb48f41b3",
   "metadata": {},
   "outputs": [
    {
     "name": "stdout",
     "output_type": "stream",
     "text": [
      "<class 'pandas.core.frame.DataFrame'>\n",
      "RangeIndex: 19945 entries, 0 to 19944\n",
      "Data columns (total 14 columns):\n",
      " #   Column                             Non-Null Count  Dtype         \n",
      "---  ------                             --------------  -----         \n",
      " 0   master_id                          19945 non-null  object        \n",
      " 1   order_channel                      19945 non-null  object        \n",
      " 2   last_order_channel                 19945 non-null  object        \n",
      " 3   first_order_date                   19945 non-null  datetime64[ns]\n",
      " 4   last_order_date                    19945 non-null  datetime64[ns]\n",
      " 5   last_order_date_online             19945 non-null  datetime64[ns]\n",
      " 6   last_order_date_offline            19945 non-null  datetime64[ns]\n",
      " 7   order_num_total_ever_online        19945 non-null  float64       \n",
      " 8   order_num_total_ever_offline       19945 non-null  float64       \n",
      " 9   customer_value_total_ever_offline  19945 non-null  float64       \n",
      " 10  customer_value_total_ever_online   19945 non-null  float64       \n",
      " 11  interested_in_categories_12        19945 non-null  object        \n",
      " 12  total_order_num                    19945 non-null  float64       \n",
      " 13  total_customer_value               19945 non-null  float64       \n",
      "dtypes: datetime64[ns](4), float64(6), object(4)\n",
      "memory usage: 2.1+ MB\n"
     ]
    }
   ],
   "source": [
    "df.info()"
   ]
  },
  {
   "cell_type": "markdown",
   "id": "8a6c1449-37b5-4576-b40c-47907e73fede",
   "metadata": {},
   "source": [
    "<span style=\"color: blue; font-weight: bold;\">GÖREV2: CLTV VERİ YAPISININ OLUŞTURULMASI</span> "
   ]
  },
  {
   "cell_type": "markdown",
   "id": "5a1b85d8-6845-4716-b640-484b1d854c55",
   "metadata": {},
   "source": [
    "**Adım1:** Veri setindeki en son alışverişin yapıldığı tarihten 2 gün sonrasını analiz tarihi olarak alınız."
   ]
  },
  {
   "cell_type": "code",
   "execution_count": 118,
   "id": "3adcefa9-b406-49c2-8ebc-bb2d226ee24c",
   "metadata": {},
   "outputs": [
    {
     "data": {
      "text/plain": [
       "Timestamp('2021-05-30 00:00:00')"
      ]
     },
     "execution_count": 118,
     "metadata": {},
     "output_type": "execute_result"
    }
   ],
   "source": [
    "df['last_order_date'].max()"
   ]
  },
  {
   "cell_type": "code",
   "execution_count": 260,
   "id": "0afc0b06-e419-48fc-b1f7-082d172a4352",
   "metadata": {},
   "outputs": [],
   "source": [
    "analys_date = dt.datetime(2021,6,1) #model kurmada hata verdiği için tarihi böyle sectik"
   ]
  },
  {
   "cell_type": "markdown",
   "id": "6c591834-3006-4fdd-a1c6-82dc832eb183",
   "metadata": {},
   "source": [
    "**Adım2:** customer_id, recency_cltv_weekly, T_weekly, frequency ve monetary_cltv_avg değerlerinin yer aldığı yeni bir cltv dataframe'i\n",
    "oluşturunuz. Monetary değeri satın alma başına ortalama değer olarak, recency ve tenure değerleri ise haftalık cinsten ifade edilecek.\n",
    "\n",
    "Bu kısımda bg/nbd ve gamma gamma modelinin istediği yapıyı oluşturmayı çalışıyoruz.\n",
    "\n",
    "* recency: Son satın alma üzerinden geçen zaman. Haftalık. (kullanıcı özelinde) Bu analiz tarihine göre değil kullanıcının ilk alışveriş - son alışveriş tarihine göe belirlerim.\n",
    "* T: Müşterinin yaşı. Haftalık. (analiz tarihinden ne kadar süre önce ilk satın alma yapılmış)\n",
    "* frequency: tekrar eden toplam satın alma sayısı (frequency>1)\n",
    "* monetary: satın alma başına ortalama kazanç"
   ]
  },
  {
   "cell_type": "code",
   "execution_count": 388,
   "id": "f12c2a39-6fc7-4056-991d-3c77c55e59a1",
   "metadata": {},
   "outputs": [],
   "source": [
    "cltv = pd.DataFrame()"
   ]
  },
  {
   "cell_type": "code",
   "execution_count": 390,
   "id": "305ba508-e719-4074-a968-fe26c3dc81ce",
   "metadata": {},
   "outputs": [],
   "source": [
    "cltv['customer_id'] = df['master_id']"
   ]
  },
  {
   "cell_type": "code",
   "execution_count": 392,
   "id": "4839257c-eb51-4a43-95d1-42377faaac5b",
   "metadata": {},
   "outputs": [],
   "source": [
    "cltv['recency'] = ((df['last_order_date'] - df['first_order_date']).dt.days)/7"
   ]
  },
  {
   "cell_type": "code",
   "execution_count": 394,
   "id": "2384dfb9-0f62-4e14-8cde-ce0f8110d6a3",
   "metadata": {},
   "outputs": [],
   "source": [
    "cltv['T'] = ((analys_date - df['first_order_date']).dt.days)/7"
   ]
  },
  {
   "cell_type": "code",
   "execution_count": 396,
   "id": "941ffd91-55ca-48bd-ad75-555a397173a2",
   "metadata": {},
   "outputs": [],
   "source": [
    "cltv['frequency'] = df['total_order_num'] "
   ]
  },
  {
   "cell_type": "code",
   "execution_count": 398,
   "id": "4bbaa77d-257e-4d3a-9d6b-03370e22cebf",
   "metadata": {},
   "outputs": [],
   "source": [
    "cltv['monetary'] = df['total_customer_value'] / df['total_order_num']"
   ]
  },
  {
   "cell_type": "code",
   "execution_count": 400,
   "id": "8edf6bff-6d8a-4e9a-801a-291509a644cf",
   "metadata": {},
   "outputs": [],
   "source": [
    "cltv = cltv[cltv['frequency'] > 1]"
   ]
  },
  {
   "cell_type": "code",
   "execution_count": 402,
   "id": "6b9a4ec0-ca6b-48e9-b96a-cafcd38344ed",
   "metadata": {},
   "outputs": [
    {
     "data": {
      "text/html": [
       "<div>\n",
       "<style scoped>\n",
       "    .dataframe tbody tr th:only-of-type {\n",
       "        vertical-align: middle;\n",
       "    }\n",
       "\n",
       "    .dataframe tbody tr th {\n",
       "        vertical-align: top;\n",
       "    }\n",
       "\n",
       "    .dataframe thead th {\n",
       "        text-align: right;\n",
       "    }\n",
       "</style>\n",
       "<table border=\"1\" class=\"dataframe\">\n",
       "  <thead>\n",
       "    <tr style=\"text-align: right;\">\n",
       "      <th></th>\n",
       "      <th>customer_id</th>\n",
       "      <th>recency</th>\n",
       "      <th>T</th>\n",
       "      <th>frequency</th>\n",
       "      <th>monetary</th>\n",
       "    </tr>\n",
       "  </thead>\n",
       "  <tbody>\n",
       "    <tr>\n",
       "      <th>0</th>\n",
       "      <td>cc294636-19f0-11eb-8d74-000d3a38a36f</td>\n",
       "      <td>17.0000</td>\n",
       "      <td>30.5714</td>\n",
       "      <td>5.0000</td>\n",
       "      <td>187.8740</td>\n",
       "    </tr>\n",
       "    <tr>\n",
       "      <th>1</th>\n",
       "      <td>f431bd5a-ab7b-11e9-a2fc-000d3a38a36f</td>\n",
       "      <td>209.8571</td>\n",
       "      <td>224.8571</td>\n",
       "      <td>21.0000</td>\n",
       "      <td>95.8833</td>\n",
       "    </tr>\n",
       "    <tr>\n",
       "      <th>2</th>\n",
       "      <td>69b69676-1a40-11ea-941b-000d3a38a36f</td>\n",
       "      <td>52.2857</td>\n",
       "      <td>78.8571</td>\n",
       "      <td>5.0000</td>\n",
       "      <td>117.0640</td>\n",
       "    </tr>\n",
       "    <tr>\n",
       "      <th>3</th>\n",
       "      <td>1854e56c-491f-11eb-806e-000d3a38a36f</td>\n",
       "      <td>1.5714</td>\n",
       "      <td>20.8571</td>\n",
       "      <td>2.0000</td>\n",
       "      <td>60.9850</td>\n",
       "    </tr>\n",
       "    <tr>\n",
       "      <th>4</th>\n",
       "      <td>d6ea1074-f1f5-11e9-9346-000d3a38a36f</td>\n",
       "      <td>83.1429</td>\n",
       "      <td>95.4286</td>\n",
       "      <td>2.0000</td>\n",
       "      <td>104.9900</td>\n",
       "    </tr>\n",
       "    <tr>\n",
       "      <th>5</th>\n",
       "      <td>e585280e-aae1-11e9-a2fc-000d3a38a36f</td>\n",
       "      <td>120.8571</td>\n",
       "      <td>132.2857</td>\n",
       "      <td>3.0000</td>\n",
       "      <td>66.9533</td>\n",
       "    </tr>\n",
       "    <tr>\n",
       "      <th>6</th>\n",
       "      <td>c445e4ee-6242-11ea-9d1a-000d3a38a36f</td>\n",
       "      <td>32.5714</td>\n",
       "      <td>64.8571</td>\n",
       "      <td>4.0000</td>\n",
       "      <td>93.9825</td>\n",
       "    </tr>\n",
       "    <tr>\n",
       "      <th>7</th>\n",
       "      <td>3f1b4dc8-8a7d-11ea-8ec0-000d3a38a36f</td>\n",
       "      <td>12.7143</td>\n",
       "      <td>54.5714</td>\n",
       "      <td>2.0000</td>\n",
       "      <td>81.8150</td>\n",
       "    </tr>\n",
       "    <tr>\n",
       "      <th>8</th>\n",
       "      <td>cfbda69e-5b4f-11ea-aca7-000d3a38a36f</td>\n",
       "      <td>58.4286</td>\n",
       "      <td>70.7143</td>\n",
       "      <td>5.0000</td>\n",
       "      <td>210.9380</td>\n",
       "    </tr>\n",
       "    <tr>\n",
       "      <th>9</th>\n",
       "      <td>1143f032-440d-11ea-8b43-000d3a38a36f</td>\n",
       "      <td>61.7143</td>\n",
       "      <td>96.0000</td>\n",
       "      <td>2.0000</td>\n",
       "      <td>82.9800</td>\n",
       "    </tr>\n",
       "  </tbody>\n",
       "</table>\n",
       "</div>"
      ],
      "text/plain": [
       "                            customer_id  recency        T  frequency  monetary\n",
       "0  cc294636-19f0-11eb-8d74-000d3a38a36f  17.0000  30.5714     5.0000  187.8740\n",
       "1  f431bd5a-ab7b-11e9-a2fc-000d3a38a36f 209.8571 224.8571    21.0000   95.8833\n",
       "2  69b69676-1a40-11ea-941b-000d3a38a36f  52.2857  78.8571     5.0000  117.0640\n",
       "3  1854e56c-491f-11eb-806e-000d3a38a36f   1.5714  20.8571     2.0000   60.9850\n",
       "4  d6ea1074-f1f5-11e9-9346-000d3a38a36f  83.1429  95.4286     2.0000  104.9900\n",
       "5  e585280e-aae1-11e9-a2fc-000d3a38a36f 120.8571 132.2857     3.0000   66.9533\n",
       "6  c445e4ee-6242-11ea-9d1a-000d3a38a36f  32.5714  64.8571     4.0000   93.9825\n",
       "7  3f1b4dc8-8a7d-11ea-8ec0-000d3a38a36f  12.7143  54.5714     2.0000   81.8150\n",
       "8  cfbda69e-5b4f-11ea-aca7-000d3a38a36f  58.4286  70.7143     5.0000  210.9380\n",
       "9  1143f032-440d-11ea-8b43-000d3a38a36f  61.7143  96.0000     2.0000   82.9800"
      ]
     },
     "execution_count": 402,
     "metadata": {},
     "output_type": "execute_result"
    }
   ],
   "source": [
    "cltv.head(10)"
   ]
  },
  {
   "cell_type": "markdown",
   "id": "a84e1127-e210-4094-b79e-52c5d5c22bd3",
   "metadata": {},
   "source": [
    "<span style=\"color: blue; font-weight: bold;\">GÖREV3: BG/NBD VE GAMMA GAMMA MODELLERİNİN KURULMASI</span> "
   ]
  },
  {
   "cell_type": "markdown",
   "id": "57fe3138-d496-455c-8ff2-9c10bb43a2fa",
   "metadata": {},
   "source": [
    "**Adım 1 :** BG/NBD modelini fit ediniz.\n",
    "\n",
    "3 ay içerisinde müşterilerden beklenen satın almaları tahmin ediniz ve exp_sales_3_month olarak cltv dataframe'ine ekleyiniz.\n",
    "              \n",
    "6 ay içerisinde müşterilerden beklenen satın almaları tahmin ediniz ve exp_sales_6_month olarak cltv dataframe'ine ekleyiniz.\n"
   ]
  },
  {
   "cell_type": "code",
   "execution_count": 406,
   "id": "a28ad446-5789-40aa-acc3-7c4c4f6ead39",
   "metadata": {},
   "outputs": [],
   "source": [
    "bgf = BetaGeoFitter(penalizer_coef = 0.001)"
   ]
  },
  {
   "cell_type": "code",
   "execution_count": 408,
   "id": "528c7d0c-91b9-4334-8f4a-51ccc09c615c",
   "metadata": {},
   "outputs": [
    {
     "name": "stderr",
     "output_type": "stream",
     "text": [
      "C:\\Users\\ASLI\\anaconda3\\Lib\\site-packages\\pandas\\core\\arraylike.py:399: RuntimeWarning: invalid value encountered in sqrt\n",
      "  result = getattr(ufunc, method)(*inputs, **kwargs)\n"
     ]
    },
    {
     "data": {
      "text/plain": [
       "<lifetimes.BetaGeoFitter: fitted with 19945 subjects, a: 0.00, alpha: 76.17, b: 0.00, r: 3.66>"
      ]
     },
     "execution_count": 408,
     "metadata": {},
     "output_type": "execute_result"
    }
   ],
   "source": [
    "bgf.fit(cltv['frequency'],\n",
    "        cltv['recency'],\n",
    "        cltv['T'])"
   ]
  },
  {
   "cell_type": "code",
   "execution_count": 410,
   "id": "76c825b0-d98e-43f2-bf35-4375f0bd91db",
   "metadata": {},
   "outputs": [],
   "source": [
    "cltv['expected_sales_3_month'] = bgf.predict(4*3,\n",
    "                                            cltv['frequency'],\n",
    "                                            cltv['recency'],\n",
    "                                            cltv['T'])"
   ]
  },
  {
   "cell_type": "code",
   "execution_count": 412,
   "id": "9fca969e-5882-46d4-9079-8be82f338cd9",
   "metadata": {},
   "outputs": [],
   "source": [
    "cltv['expected_sales_6_month'] = bgf.predict(6*4,\n",
    "                                            cltv['frequency'],\n",
    "                                            cltv['recency'],\n",
    "                                            cltv['T'])"
   ]
  },
  {
   "cell_type": "code",
   "execution_count": 414,
   "id": "73a2cc58-ba3b-4964-9e34-04e73af064aa",
   "metadata": {},
   "outputs": [
    {
     "data": {
      "text/html": [
       "<div>\n",
       "<style scoped>\n",
       "    .dataframe tbody tr th:only-of-type {\n",
       "        vertical-align: middle;\n",
       "    }\n",
       "\n",
       "    .dataframe tbody tr th {\n",
       "        vertical-align: top;\n",
       "    }\n",
       "\n",
       "    .dataframe thead th {\n",
       "        text-align: right;\n",
       "    }\n",
       "</style>\n",
       "<table border=\"1\" class=\"dataframe\">\n",
       "  <thead>\n",
       "    <tr style=\"text-align: right;\">\n",
       "      <th></th>\n",
       "      <th>customer_id</th>\n",
       "      <th>recency</th>\n",
       "      <th>T</th>\n",
       "      <th>frequency</th>\n",
       "      <th>monetary</th>\n",
       "      <th>expected_sales_3_month</th>\n",
       "      <th>expected_sales_6_month</th>\n",
       "    </tr>\n",
       "  </thead>\n",
       "  <tbody>\n",
       "    <tr>\n",
       "      <th>0</th>\n",
       "      <td>cc294636-19f0-11eb-8d74-000d3a38a36f</td>\n",
       "      <td>17.0000</td>\n",
       "      <td>30.5714</td>\n",
       "      <td>5.0000</td>\n",
       "      <td>187.8740</td>\n",
       "      <td>0.9739</td>\n",
       "      <td>1.9479</td>\n",
       "    </tr>\n",
       "    <tr>\n",
       "      <th>1</th>\n",
       "      <td>f431bd5a-ab7b-11e9-a2fc-000d3a38a36f</td>\n",
       "      <td>209.8571</td>\n",
       "      <td>224.8571</td>\n",
       "      <td>21.0000</td>\n",
       "      <td>95.8833</td>\n",
       "      <td>0.9832</td>\n",
       "      <td>1.9663</td>\n",
       "    </tr>\n",
       "    <tr>\n",
       "      <th>2</th>\n",
       "      <td>69b69676-1a40-11ea-941b-000d3a38a36f</td>\n",
       "      <td>52.2857</td>\n",
       "      <td>78.8571</td>\n",
       "      <td>5.0000</td>\n",
       "      <td>117.0640</td>\n",
       "      <td>0.6706</td>\n",
       "      <td>1.3412</td>\n",
       "    </tr>\n",
       "    <tr>\n",
       "      <th>3</th>\n",
       "      <td>1854e56c-491f-11eb-806e-000d3a38a36f</td>\n",
       "      <td>1.5714</td>\n",
       "      <td>20.8571</td>\n",
       "      <td>2.0000</td>\n",
       "      <td>60.9850</td>\n",
       "      <td>0.7004</td>\n",
       "      <td>1.4008</td>\n",
       "    </tr>\n",
       "    <tr>\n",
       "      <th>4</th>\n",
       "      <td>d6ea1074-f1f5-11e9-9346-000d3a38a36f</td>\n",
       "      <td>83.1429</td>\n",
       "      <td>95.4286</td>\n",
       "      <td>2.0000</td>\n",
       "      <td>104.9900</td>\n",
       "      <td>0.3960</td>\n",
       "      <td>0.7921</td>\n",
       "    </tr>\n",
       "  </tbody>\n",
       "</table>\n",
       "</div>"
      ],
      "text/plain": [
       "                            customer_id  recency        T  frequency  monetary  expected_sales_3_month  expected_sales_6_month\n",
       "0  cc294636-19f0-11eb-8d74-000d3a38a36f  17.0000  30.5714     5.0000  187.8740                  0.9739                  1.9479\n",
       "1  f431bd5a-ab7b-11e9-a2fc-000d3a38a36f 209.8571 224.8571    21.0000   95.8833                  0.9832                  1.9663\n",
       "2  69b69676-1a40-11ea-941b-000d3a38a36f  52.2857  78.8571     5.0000  117.0640                  0.6706                  1.3412\n",
       "3  1854e56c-491f-11eb-806e-000d3a38a36f   1.5714  20.8571     2.0000   60.9850                  0.7004                  1.4008\n",
       "4  d6ea1074-f1f5-11e9-9346-000d3a38a36f  83.1429  95.4286     2.0000  104.9900                  0.3960                  0.7921"
      ]
     },
     "execution_count": 414,
     "metadata": {},
     "output_type": "execute_result"
    }
   ],
   "source": [
    "cltv.head()"
   ]
  },
  {
   "cell_type": "markdown",
   "id": "968ae972-ec06-496e-8914-77e0f4a4f412",
   "metadata": {},
   "source": [
    "**Adım2:** Gamma-Gamma modelini fit ediniz. Müşterilerin ortalama bırakacakları değeri tahminleyip exp_average_value olarak cltv dataframe'ine ekleyiniz."
   ]
  },
  {
   "cell_type": "code",
   "execution_count": 417,
   "id": "9738d82d-b973-4f0b-915c-01df2a0c38e5",
   "metadata": {},
   "outputs": [],
   "source": [
    "ggf = GammaGammaFitter(penalizer_coef=0.001)"
   ]
  },
  {
   "cell_type": "code",
   "execution_count": 419,
   "id": "bd9d0957-6ae8-4321-bf9f-3a71b2e1f463",
   "metadata": {},
   "outputs": [
    {
     "data": {
      "text/plain": [
       "<lifetimes.GammaGammaFitter: fitted with 19945 subjects, p: 13.19, q: 1.70, v: 12.96>"
      ]
     },
     "execution_count": 419,
     "metadata": {},
     "output_type": "execute_result"
    }
   ],
   "source": [
    "ggf.fit(cltv['frequency'],cltv['monetary'])"
   ]
  },
  {
   "cell_type": "code",
   "execution_count": 421,
   "id": "abb76220-a32f-4d57-a923-22290bcd4b53",
   "metadata": {},
   "outputs": [],
   "source": [
    "cltv['exp_average_value'] = ggf.conditional_expected_average_profit(cltv['frequency'],cltv['monetary'])"
   ]
  },
  {
   "cell_type": "code",
   "execution_count": 423,
   "id": "f91e0965-769b-4e9e-8dfe-b4b134035453",
   "metadata": {},
   "outputs": [
    {
     "data": {
      "text/html": [
       "<div>\n",
       "<style scoped>\n",
       "    .dataframe tbody tr th:only-of-type {\n",
       "        vertical-align: middle;\n",
       "    }\n",
       "\n",
       "    .dataframe tbody tr th {\n",
       "        vertical-align: top;\n",
       "    }\n",
       "\n",
       "    .dataframe thead th {\n",
       "        text-align: right;\n",
       "    }\n",
       "</style>\n",
       "<table border=\"1\" class=\"dataframe\">\n",
       "  <thead>\n",
       "    <tr style=\"text-align: right;\">\n",
       "      <th></th>\n",
       "      <th>customer_id</th>\n",
       "      <th>recency</th>\n",
       "      <th>T</th>\n",
       "      <th>frequency</th>\n",
       "      <th>monetary</th>\n",
       "      <th>expected_sales_3_month</th>\n",
       "      <th>expected_sales_6_month</th>\n",
       "      <th>exp_average_value</th>\n",
       "    </tr>\n",
       "  </thead>\n",
       "  <tbody>\n",
       "    <tr>\n",
       "      <th>0</th>\n",
       "      <td>cc294636-19f0-11eb-8d74-000d3a38a36f</td>\n",
       "      <td>17.0000</td>\n",
       "      <td>30.5714</td>\n",
       "      <td>5.0000</td>\n",
       "      <td>187.8740</td>\n",
       "      <td>0.9739</td>\n",
       "      <td>1.9479</td>\n",
       "      <td>188.4700</td>\n",
       "    </tr>\n",
       "    <tr>\n",
       "      <th>1</th>\n",
       "      <td>f431bd5a-ab7b-11e9-a2fc-000d3a38a36f</td>\n",
       "      <td>209.8571</td>\n",
       "      <td>224.8571</td>\n",
       "      <td>21.0000</td>\n",
       "      <td>95.8833</td>\n",
       "      <td>0.9832</td>\n",
       "      <td>1.9663</td>\n",
       "      <td>96.2577</td>\n",
       "    </tr>\n",
       "    <tr>\n",
       "      <th>2</th>\n",
       "      <td>69b69676-1a40-11ea-941b-000d3a38a36f</td>\n",
       "      <td>52.2857</td>\n",
       "      <td>78.8571</td>\n",
       "      <td>5.0000</td>\n",
       "      <td>117.0640</td>\n",
       "      <td>0.6706</td>\n",
       "      <td>1.3412</td>\n",
       "      <td>118.4019</td>\n",
       "    </tr>\n",
       "    <tr>\n",
       "      <th>3</th>\n",
       "      <td>1854e56c-491f-11eb-806e-000d3a38a36f</td>\n",
       "      <td>1.5714</td>\n",
       "      <td>20.8571</td>\n",
       "      <td>2.0000</td>\n",
       "      <td>60.9850</td>\n",
       "      <td>0.7004</td>\n",
       "      <td>1.4008</td>\n",
       "      <td>65.7243</td>\n",
       "    </tr>\n",
       "    <tr>\n",
       "      <th>4</th>\n",
       "      <td>d6ea1074-f1f5-11e9-9346-000d3a38a36f</td>\n",
       "      <td>83.1429</td>\n",
       "      <td>95.4286</td>\n",
       "      <td>2.0000</td>\n",
       "      <td>104.9900</td>\n",
       "      <td>0.3960</td>\n",
       "      <td>0.7921</td>\n",
       "      <td>108.5945</td>\n",
       "    </tr>\n",
       "  </tbody>\n",
       "</table>\n",
       "</div>"
      ],
      "text/plain": [
       "                            customer_id  recency        T  frequency  monetary  expected_sales_3_month  expected_sales_6_month  exp_average_value\n",
       "0  cc294636-19f0-11eb-8d74-000d3a38a36f  17.0000  30.5714     5.0000  187.8740                  0.9739                  1.9479           188.4700\n",
       "1  f431bd5a-ab7b-11e9-a2fc-000d3a38a36f 209.8571 224.8571    21.0000   95.8833                  0.9832                  1.9663            96.2577\n",
       "2  69b69676-1a40-11ea-941b-000d3a38a36f  52.2857  78.8571     5.0000  117.0640                  0.6706                  1.3412           118.4019\n",
       "3  1854e56c-491f-11eb-806e-000d3a38a36f   1.5714  20.8571     2.0000   60.9850                  0.7004                  1.4008            65.7243\n",
       "4  d6ea1074-f1f5-11e9-9346-000d3a38a36f  83.1429  95.4286     2.0000  104.9900                  0.3960                  0.7921           108.5945"
      ]
     },
     "execution_count": 423,
     "metadata": {},
     "output_type": "execute_result"
    }
   ],
   "source": [
    "cltv.head()"
   ]
  },
  {
   "cell_type": "markdown",
   "id": "cfd23663-80f4-41cf-b1ff-0b718ec71d1e",
   "metadata": {},
   "source": [
    "**Adım3:** 6 aylık CLTV hesaplayınız ve cltv ismiyle dataframe'e ekleyiniz. Cltv değeri en yüksek 20 kişiyi gözlemleyiniz."
   ]
  },
  {
   "cell_type": "code",
   "execution_count": 426,
   "id": "24b2d54b-c72b-40bc-b6de-375d13b8fcce",
   "metadata": {},
   "outputs": [],
   "source": [
    "clt = ggf.customer_lifetime_value(bgf,\n",
    "                                  cltv['frequency'],\n",
    "                                  cltv['recency'],\n",
    "                                  cltv['T'],\n",
    "                                  cltv['monetary'],\n",
    "                                  time = 6,\n",
    "                                  freq = 'W',\n",
    "                                  discount_rate = 0.01)"
   ]
  },
  {
   "cell_type": "code",
   "execution_count": 428,
   "id": "d3c1dad3-e07c-4084-a895-8341e39a8d18",
   "metadata": {},
   "outputs": [],
   "source": [
    "cltv['cltv'] = clt"
   ]
  },
  {
   "cell_type": "code",
   "execution_count": 430,
   "id": "81944232-22a9-4e4a-8f43-efdb8e821c87",
   "metadata": {},
   "outputs": [
    {
     "data": {
      "text/html": [
       "<div>\n",
       "<style scoped>\n",
       "    .dataframe tbody tr th:only-of-type {\n",
       "        vertical-align: middle;\n",
       "    }\n",
       "\n",
       "    .dataframe tbody tr th {\n",
       "        vertical-align: top;\n",
       "    }\n",
       "\n",
       "    .dataframe thead th {\n",
       "        text-align: right;\n",
       "    }\n",
       "</style>\n",
       "<table border=\"1\" class=\"dataframe\">\n",
       "  <thead>\n",
       "    <tr style=\"text-align: right;\">\n",
       "      <th></th>\n",
       "      <th>customer_id</th>\n",
       "      <th>recency</th>\n",
       "      <th>T</th>\n",
       "      <th>frequency</th>\n",
       "      <th>monetary</th>\n",
       "      <th>expected_sales_3_month</th>\n",
       "      <th>expected_sales_6_month</th>\n",
       "      <th>exp_average_value</th>\n",
       "      <th>cltv</th>\n",
       "    </tr>\n",
       "  </thead>\n",
       "  <tbody>\n",
       "    <tr>\n",
       "      <th>0</th>\n",
       "      <td>cc294636-19f0-11eb-8d74-000d3a38a36f</td>\n",
       "      <td>17.0000</td>\n",
       "      <td>30.5714</td>\n",
       "      <td>5.0000</td>\n",
       "      <td>187.8740</td>\n",
       "      <td>0.9739</td>\n",
       "      <td>1.9479</td>\n",
       "      <td>188.4700</td>\n",
       "      <td>385.1821</td>\n",
       "    </tr>\n",
       "    <tr>\n",
       "      <th>1</th>\n",
       "      <td>f431bd5a-ab7b-11e9-a2fc-000d3a38a36f</td>\n",
       "      <td>209.8571</td>\n",
       "      <td>224.8571</td>\n",
       "      <td>21.0000</td>\n",
       "      <td>95.8833</td>\n",
       "      <td>0.9832</td>\n",
       "      <td>1.9663</td>\n",
       "      <td>96.2577</td>\n",
       "      <td>198.5903</td>\n",
       "    </tr>\n",
       "    <tr>\n",
       "      <th>2</th>\n",
       "      <td>69b69676-1a40-11ea-941b-000d3a38a36f</td>\n",
       "      <td>52.2857</td>\n",
       "      <td>78.8571</td>\n",
       "      <td>5.0000</td>\n",
       "      <td>117.0640</td>\n",
       "      <td>0.6706</td>\n",
       "      <td>1.3412</td>\n",
       "      <td>118.4019</td>\n",
       "      <td>166.6138</td>\n",
       "    </tr>\n",
       "    <tr>\n",
       "      <th>3</th>\n",
       "      <td>1854e56c-491f-11eb-806e-000d3a38a36f</td>\n",
       "      <td>1.5714</td>\n",
       "      <td>20.8571</td>\n",
       "      <td>2.0000</td>\n",
       "      <td>60.9850</td>\n",
       "      <td>0.7004</td>\n",
       "      <td>1.4008</td>\n",
       "      <td>65.7243</td>\n",
       "      <td>96.6000</td>\n",
       "    </tr>\n",
       "    <tr>\n",
       "      <th>4</th>\n",
       "      <td>d6ea1074-f1f5-11e9-9346-000d3a38a36f</td>\n",
       "      <td>83.1429</td>\n",
       "      <td>95.4286</td>\n",
       "      <td>2.0000</td>\n",
       "      <td>104.9900</td>\n",
       "      <td>0.3960</td>\n",
       "      <td>0.7921</td>\n",
       "      <td>108.5945</td>\n",
       "      <td>90.2491</td>\n",
       "    </tr>\n",
       "  </tbody>\n",
       "</table>\n",
       "</div>"
      ],
      "text/plain": [
       "                            customer_id  recency        T  frequency  monetary  expected_sales_3_month  expected_sales_6_month  exp_average_value     cltv\n",
       "0  cc294636-19f0-11eb-8d74-000d3a38a36f  17.0000  30.5714     5.0000  187.8740                  0.9739                  1.9479           188.4700 385.1821\n",
       "1  f431bd5a-ab7b-11e9-a2fc-000d3a38a36f 209.8571 224.8571    21.0000   95.8833                  0.9832                  1.9663            96.2577 198.5903\n",
       "2  69b69676-1a40-11ea-941b-000d3a38a36f  52.2857  78.8571     5.0000  117.0640                  0.6706                  1.3412           118.4019 166.6138\n",
       "3  1854e56c-491f-11eb-806e-000d3a38a36f   1.5714  20.8571     2.0000   60.9850                  0.7004                  1.4008            65.7243  96.6000\n",
       "4  d6ea1074-f1f5-11e9-9346-000d3a38a36f  83.1429  95.4286     2.0000  104.9900                  0.3960                  0.7921           108.5945  90.2491"
      ]
     },
     "execution_count": 430,
     "metadata": {},
     "output_type": "execute_result"
    }
   ],
   "source": [
    "cltv.head()"
   ]
  },
  {
   "cell_type": "code",
   "execution_count": 436,
   "id": "098a39e9-ac2f-49cc-8b3b-52cff245f343",
   "metadata": {},
   "outputs": [
    {
     "data": {
      "text/html": [
       "<div>\n",
       "<style scoped>\n",
       "    .dataframe tbody tr th:only-of-type {\n",
       "        vertical-align: middle;\n",
       "    }\n",
       "\n",
       "    .dataframe tbody tr th {\n",
       "        vertical-align: top;\n",
       "    }\n",
       "\n",
       "    .dataframe thead th {\n",
       "        text-align: right;\n",
       "    }\n",
       "</style>\n",
       "<table border=\"1\" class=\"dataframe\">\n",
       "  <thead>\n",
       "    <tr style=\"text-align: right;\">\n",
       "      <th></th>\n",
       "      <th>customer_id</th>\n",
       "      <th>recency</th>\n",
       "      <th>T</th>\n",
       "      <th>frequency</th>\n",
       "      <th>monetary</th>\n",
       "      <th>expected_sales_3_month</th>\n",
       "      <th>expected_sales_6_month</th>\n",
       "      <th>exp_average_value</th>\n",
       "      <th>cltv</th>\n",
       "    </tr>\n",
       "  </thead>\n",
       "  <tbody>\n",
       "    <tr>\n",
       "      <th>9055</th>\n",
       "      <td>47a642fe-975b-11eb-8c2a-000d3a38a36f</td>\n",
       "      <td>2.8571</td>\n",
       "      <td>7.8571</td>\n",
       "      <td>4.0000</td>\n",
       "      <td>1401.8000</td>\n",
       "      <td>1.0944</td>\n",
       "      <td>2.1888</td>\n",
       "      <td>1386.6859</td>\n",
       "      <td>3184.5334</td>\n",
       "    </tr>\n",
       "    <tr>\n",
       "      <th>13880</th>\n",
       "      <td>7137a5c0-7aad-11ea-8f20-000d3a38a36f</td>\n",
       "      <td>6.1429</td>\n",
       "      <td>13.1429</td>\n",
       "      <td>11.0000</td>\n",
       "      <td>758.0855</td>\n",
       "      <td>1.9701</td>\n",
       "      <td>3.9402</td>\n",
       "      <td>755.6267</td>\n",
       "      <td>3123.8844</td>\n",
       "    </tr>\n",
       "    <tr>\n",
       "      <th>17323</th>\n",
       "      <td>f59053e2-a503-11e9-a2fc-000d3a38a36f</td>\n",
       "      <td>51.7143</td>\n",
       "      <td>101.0000</td>\n",
       "      <td>7.0000</td>\n",
       "      <td>1106.4671</td>\n",
       "      <td>0.7222</td>\n",
       "      <td>1.4445</td>\n",
       "      <td>1099.9988</td>\n",
       "      <td>1667.1328</td>\n",
       "    </tr>\n",
       "    <tr>\n",
       "      <th>12438</th>\n",
       "      <td>625f40a2-5bd2-11ea-98b0-000d3a38a36f</td>\n",
       "      <td>74.2857</td>\n",
       "      <td>74.5714</td>\n",
       "      <td>16.0000</td>\n",
       "      <td>501.8737</td>\n",
       "      <td>1.5653</td>\n",
       "      <td>3.1306</td>\n",
       "      <td>501.0258</td>\n",
       "      <td>1645.7272</td>\n",
       "    </tr>\n",
       "    <tr>\n",
       "      <th>7330</th>\n",
       "      <td>a4d534a2-5b1b-11eb-8dbd-000d3a38a36f</td>\n",
       "      <td>62.7143</td>\n",
       "      <td>67.2857</td>\n",
       "      <td>52.0000</td>\n",
       "      <td>166.2246</td>\n",
       "      <td>4.6561</td>\n",
       "      <td>9.3123</td>\n",
       "      <td>166.3045</td>\n",
       "      <td>1624.9033</td>\n",
       "    </tr>\n",
       "    <tr>\n",
       "      <th>8868</th>\n",
       "      <td>9ce6e520-89b0-11ea-a6e7-000d3a38a36f</td>\n",
       "      <td>3.4286</td>\n",
       "      <td>34.4286</td>\n",
       "      <td>8.0000</td>\n",
       "      <td>601.2262</td>\n",
       "      <td>1.2655</td>\n",
       "      <td>2.5309</td>\n",
       "      <td>598.8827</td>\n",
       "      <td>1590.3273</td>\n",
       "    </tr>\n",
       "    <tr>\n",
       "      <th>6666</th>\n",
       "      <td>53fe00d4-7b7a-11eb-960b-000d3a38a36f</td>\n",
       "      <td>9.7143</td>\n",
       "      <td>13.0000</td>\n",
       "      <td>17.0000</td>\n",
       "      <td>259.8653</td>\n",
       "      <td>2.7807</td>\n",
       "      <td>5.5614</td>\n",
       "      <td>259.8184</td>\n",
       "      <td>1516.0726</td>\n",
       "    </tr>\n",
       "    <tr>\n",
       "      <th>19538</th>\n",
       "      <td>55d54d9e-8ac7-11ea-8ec0-000d3a38a36f</td>\n",
       "      <td>52.5714</td>\n",
       "      <td>58.7143</td>\n",
       "      <td>31.0000</td>\n",
       "      <td>228.5300</td>\n",
       "      <td>3.0838</td>\n",
       "      <td>6.1676</td>\n",
       "      <td>228.5577</td>\n",
       "      <td>1479.0291</td>\n",
       "    </tr>\n",
       "    <tr>\n",
       "      <th>6402</th>\n",
       "      <td>851de3b4-8f0c-11eb-8cb8-000d3a38a36f</td>\n",
       "      <td>8.2857</td>\n",
       "      <td>9.4286</td>\n",
       "      <td>2.0000</td>\n",
       "      <td>862.6900</td>\n",
       "      <td>0.7939</td>\n",
       "      <td>1.5878</td>\n",
       "      <td>846.7544</td>\n",
       "      <td>1410.6976</td>\n",
       "    </tr>\n",
       "    <tr>\n",
       "      <th>4157</th>\n",
       "      <td>7eed6468-4540-11ea-acaf-000d3a38a36f</td>\n",
       "      <td>89.1429</td>\n",
       "      <td>90.0000</td>\n",
       "      <td>27.0000</td>\n",
       "      <td>289.7641</td>\n",
       "      <td>2.2143</td>\n",
       "      <td>4.4287</td>\n",
       "      <td>289.6760</td>\n",
       "      <td>1346.0238</td>\n",
       "    </tr>\n",
       "    <tr>\n",
       "      <th>14858</th>\n",
       "      <td>031b2954-6d28-11eb-99c4-000d3a38a36f</td>\n",
       "      <td>14.8571</td>\n",
       "      <td>15.5714</td>\n",
       "      <td>3.0000</td>\n",
       "      <td>743.5867</td>\n",
       "      <td>0.8716</td>\n",
       "      <td>1.7431</td>\n",
       "      <td>734.9363</td>\n",
       "      <td>1344.1470</td>\n",
       "    </tr>\n",
       "    <tr>\n",
       "      <th>17963</th>\n",
       "      <td>8fd88976-6708-11ea-9d38-000d3a38a36f</td>\n",
       "      <td>50.2857</td>\n",
       "      <td>63.2857</td>\n",
       "      <td>7.0000</td>\n",
       "      <td>694.1986</td>\n",
       "      <td>0.9176</td>\n",
       "      <td>1.8351</td>\n",
       "      <td>690.8249</td>\n",
       "      <td>1330.1428</td>\n",
       "    </tr>\n",
       "    <tr>\n",
       "      <th>6717</th>\n",
       "      <td>40b4f318-9dfb-11eb-9c47-000d3a38a36f</td>\n",
       "      <td>27.1429</td>\n",
       "      <td>33.8571</td>\n",
       "      <td>7.0000</td>\n",
       "      <td>544.7000</td>\n",
       "      <td>1.1630</td>\n",
       "      <td>2.3259</td>\n",
       "      <td>542.4485</td>\n",
       "      <td>1323.8029</td>\n",
       "    </tr>\n",
       "    <tr>\n",
       "      <th>4735</th>\n",
       "      <td>dbabb58e-6312-11ea-a6dc-000d3a38a36f</td>\n",
       "      <td>61.2857</td>\n",
       "      <td>64.2857</td>\n",
       "      <td>13.0000</td>\n",
       "      <td>442.1154</td>\n",
       "      <td>1.4236</td>\n",
       "      <td>2.8473</td>\n",
       "      <td>441.3149</td>\n",
       "      <td>1318.3904</td>\n",
       "    </tr>\n",
       "    <tr>\n",
       "      <th>15516</th>\n",
       "      <td>9083981a-f59e-11e9-841e-000d3a38a36f</td>\n",
       "      <td>63.5714</td>\n",
       "      <td>83.8571</td>\n",
       "      <td>4.0000</td>\n",
       "      <td>1090.3600</td>\n",
       "      <td>0.5746</td>\n",
       "      <td>1.1493</td>\n",
       "      <td>1079.3141</td>\n",
       "      <td>1301.5094</td>\n",
       "    </tr>\n",
       "    <tr>\n",
       "      <th>11694</th>\n",
       "      <td>90f1b7f2-bbad-11ea-a0c9-000d3a38a36f</td>\n",
       "      <td>47.2857</td>\n",
       "      <td>48.0000</td>\n",
       "      <td>6.0000</td>\n",
       "      <td>647.3450</td>\n",
       "      <td>0.9339</td>\n",
       "      <td>1.8677</td>\n",
       "      <td>643.8238</td>\n",
       "      <td>1261.6829</td>\n",
       "    </tr>\n",
       "    <tr>\n",
       "      <th>5775</th>\n",
       "      <td>e31293ac-d63a-11e9-93bc-000d3a38a36f</td>\n",
       "      <td>91.7143</td>\n",
       "      <td>93.1429</td>\n",
       "      <td>8.0000</td>\n",
       "      <td>727.0862</td>\n",
       "      <td>0.8266</td>\n",
       "      <td>1.6533</td>\n",
       "      <td>723.9153</td>\n",
       "      <td>1255.7271</td>\n",
       "    </tr>\n",
       "    <tr>\n",
       "      <th>7312</th>\n",
       "      <td>90befc98-925a-11eb-b584-000d3a38a36f</td>\n",
       "      <td>4.1429</td>\n",
       "      <td>8.8571</td>\n",
       "      <td>6.0000</td>\n",
       "      <td>431.3283</td>\n",
       "      <td>1.3638</td>\n",
       "      <td>2.7275</td>\n",
       "      <td>429.6965</td>\n",
       "      <td>1229.7033</td>\n",
       "    </tr>\n",
       "    <tr>\n",
       "      <th>11179</th>\n",
       "      <td>d2e74a36-3228-11eb-860c-000d3a38a36f</td>\n",
       "      <td>1.1429</td>\n",
       "      <td>26.2857</td>\n",
       "      <td>3.0000</td>\n",
       "      <td>750.5700</td>\n",
       "      <td>0.7804</td>\n",
       "      <td>1.5608</td>\n",
       "      <td>741.7985</td>\n",
       "      <td>1214.8244</td>\n",
       "    </tr>\n",
       "    <tr>\n",
       "      <th>10876</th>\n",
       "      <td>ae149d98-9b6a-11eb-9c47-000d3a38a36f</td>\n",
       "      <td>6.1429</td>\n",
       "      <td>7.1429</td>\n",
       "      <td>9.0000</td>\n",
       "      <td>317.4844</td>\n",
       "      <td>1.8239</td>\n",
       "      <td>3.6478</td>\n",
       "      <td>317.0591</td>\n",
       "      <td>1213.5136</td>\n",
       "    </tr>\n",
       "  </tbody>\n",
       "</table>\n",
       "</div>"
      ],
      "text/plain": [
       "                                customer_id  recency        T  frequency  monetary  expected_sales_3_month  expected_sales_6_month  exp_average_value      cltv\n",
       "9055   47a642fe-975b-11eb-8c2a-000d3a38a36f   2.8571   7.8571     4.0000 1401.8000                  1.0944                  2.1888          1386.6859 3184.5334\n",
       "13880  7137a5c0-7aad-11ea-8f20-000d3a38a36f   6.1429  13.1429    11.0000  758.0855                  1.9701                  3.9402           755.6267 3123.8844\n",
       "17323  f59053e2-a503-11e9-a2fc-000d3a38a36f  51.7143 101.0000     7.0000 1106.4671                  0.7222                  1.4445          1099.9988 1667.1328\n",
       "12438  625f40a2-5bd2-11ea-98b0-000d3a38a36f  74.2857  74.5714    16.0000  501.8737                  1.5653                  3.1306           501.0258 1645.7272\n",
       "7330   a4d534a2-5b1b-11eb-8dbd-000d3a38a36f  62.7143  67.2857    52.0000  166.2246                  4.6561                  9.3123           166.3045 1624.9033\n",
       "8868   9ce6e520-89b0-11ea-a6e7-000d3a38a36f   3.4286  34.4286     8.0000  601.2262                  1.2655                  2.5309           598.8827 1590.3273\n",
       "6666   53fe00d4-7b7a-11eb-960b-000d3a38a36f   9.7143  13.0000    17.0000  259.8653                  2.7807                  5.5614           259.8184 1516.0726\n",
       "19538  55d54d9e-8ac7-11ea-8ec0-000d3a38a36f  52.5714  58.7143    31.0000  228.5300                  3.0838                  6.1676           228.5577 1479.0291\n",
       "6402   851de3b4-8f0c-11eb-8cb8-000d3a38a36f   8.2857   9.4286     2.0000  862.6900                  0.7939                  1.5878           846.7544 1410.6976\n",
       "4157   7eed6468-4540-11ea-acaf-000d3a38a36f  89.1429  90.0000    27.0000  289.7641                  2.2143                  4.4287           289.6760 1346.0238\n",
       "14858  031b2954-6d28-11eb-99c4-000d3a38a36f  14.8571  15.5714     3.0000  743.5867                  0.8716                  1.7431           734.9363 1344.1470\n",
       "17963  8fd88976-6708-11ea-9d38-000d3a38a36f  50.2857  63.2857     7.0000  694.1986                  0.9176                  1.8351           690.8249 1330.1428\n",
       "6717   40b4f318-9dfb-11eb-9c47-000d3a38a36f  27.1429  33.8571     7.0000  544.7000                  1.1630                  2.3259           542.4485 1323.8029\n",
       "4735   dbabb58e-6312-11ea-a6dc-000d3a38a36f  61.2857  64.2857    13.0000  442.1154                  1.4236                  2.8473           441.3149 1318.3904\n",
       "15516  9083981a-f59e-11e9-841e-000d3a38a36f  63.5714  83.8571     4.0000 1090.3600                  0.5746                  1.1493          1079.3141 1301.5094\n",
       "11694  90f1b7f2-bbad-11ea-a0c9-000d3a38a36f  47.2857  48.0000     6.0000  647.3450                  0.9339                  1.8677           643.8238 1261.6829\n",
       "5775   e31293ac-d63a-11e9-93bc-000d3a38a36f  91.7143  93.1429     8.0000  727.0862                  0.8266                  1.6533           723.9153 1255.7271\n",
       "7312   90befc98-925a-11eb-b584-000d3a38a36f   4.1429   8.8571     6.0000  431.3283                  1.3638                  2.7275           429.6965 1229.7033\n",
       "11179  d2e74a36-3228-11eb-860c-000d3a38a36f   1.1429  26.2857     3.0000  750.5700                  0.7804                  1.5608           741.7985 1214.8244\n",
       "10876  ae149d98-9b6a-11eb-9c47-000d3a38a36f   6.1429   7.1429     9.0000  317.4844                  1.8239                  3.6478           317.0591 1213.5136"
      ]
     },
     "execution_count": 436,
     "metadata": {},
     "output_type": "execute_result"
    }
   ],
   "source": [
    "cltv.sort_values('cltv', ascending=False).head(20)"
   ]
  },
  {
   "cell_type": "markdown",
   "id": "39df09ce-e852-454f-b3c2-4ecb786d4f50",
   "metadata": {},
   "source": [
    "<span style=\"color: blue; font-weight: bold;\">GÖREV4: CLTV DEĞERİNE GÖRE SEGMENTLERİN OLUŞTURULMASI</span> "
   ]
  },
  {
   "cell_type": "markdown",
   "id": "45c2c505-6449-4865-b392-bf134b9b2161",
   "metadata": {},
   "source": [
    "**Adım1:** 6 aylık CLTV'ye göre tüm müşterilerinizi 4 gruba (segmente) ayırınız ve grup isimlerini veri setine ekleyiniz."
   ]
  },
  {
   "cell_type": "code",
   "execution_count": 443,
   "id": "01a86727-1e09-4dc7-9d6a-a2246cc310ca",
   "metadata": {},
   "outputs": [],
   "source": [
    "cltv['segment'] = pd.qcut(cltv['cltv'],4, labels = ['D','C','B','A'])"
   ]
  },
  {
   "cell_type": "code",
   "execution_count": 445,
   "id": "947d2755-a841-4d94-a023-5a2711957730",
   "metadata": {},
   "outputs": [
    {
     "data": {
      "text/html": [
       "<div>\n",
       "<style scoped>\n",
       "    .dataframe tbody tr th:only-of-type {\n",
       "        vertical-align: middle;\n",
       "    }\n",
       "\n",
       "    .dataframe tbody tr th {\n",
       "        vertical-align: top;\n",
       "    }\n",
       "\n",
       "    .dataframe thead th {\n",
       "        text-align: right;\n",
       "    }\n",
       "</style>\n",
       "<table border=\"1\" class=\"dataframe\">\n",
       "  <thead>\n",
       "    <tr style=\"text-align: right;\">\n",
       "      <th></th>\n",
       "      <th>customer_id</th>\n",
       "      <th>recency</th>\n",
       "      <th>T</th>\n",
       "      <th>frequency</th>\n",
       "      <th>monetary</th>\n",
       "      <th>expected_sales_3_month</th>\n",
       "      <th>expected_sales_6_month</th>\n",
       "      <th>exp_average_value</th>\n",
       "      <th>cltv</th>\n",
       "      <th>segment</th>\n",
       "    </tr>\n",
       "  </thead>\n",
       "  <tbody>\n",
       "    <tr>\n",
       "      <th>0</th>\n",
       "      <td>cc294636-19f0-11eb-8d74-000d3a38a36f</td>\n",
       "      <td>17.0000</td>\n",
       "      <td>30.5714</td>\n",
       "      <td>5.0000</td>\n",
       "      <td>187.8740</td>\n",
       "      <td>0.9739</td>\n",
       "      <td>1.9479</td>\n",
       "      <td>188.4700</td>\n",
       "      <td>385.1821</td>\n",
       "      <td>A</td>\n",
       "    </tr>\n",
       "    <tr>\n",
       "      <th>1</th>\n",
       "      <td>f431bd5a-ab7b-11e9-a2fc-000d3a38a36f</td>\n",
       "      <td>209.8571</td>\n",
       "      <td>224.8571</td>\n",
       "      <td>21.0000</td>\n",
       "      <td>95.8833</td>\n",
       "      <td>0.9832</td>\n",
       "      <td>1.9663</td>\n",
       "      <td>96.2577</td>\n",
       "      <td>198.5903</td>\n",
       "      <td>B</td>\n",
       "    </tr>\n",
       "    <tr>\n",
       "      <th>2</th>\n",
       "      <td>69b69676-1a40-11ea-941b-000d3a38a36f</td>\n",
       "      <td>52.2857</td>\n",
       "      <td>78.8571</td>\n",
       "      <td>5.0000</td>\n",
       "      <td>117.0640</td>\n",
       "      <td>0.6706</td>\n",
       "      <td>1.3412</td>\n",
       "      <td>118.4019</td>\n",
       "      <td>166.6138</td>\n",
       "      <td>B</td>\n",
       "    </tr>\n",
       "    <tr>\n",
       "      <th>3</th>\n",
       "      <td>1854e56c-491f-11eb-806e-000d3a38a36f</td>\n",
       "      <td>1.5714</td>\n",
       "      <td>20.8571</td>\n",
       "      <td>2.0000</td>\n",
       "      <td>60.9850</td>\n",
       "      <td>0.7004</td>\n",
       "      <td>1.4008</td>\n",
       "      <td>65.7243</td>\n",
       "      <td>96.6000</td>\n",
       "      <td>D</td>\n",
       "    </tr>\n",
       "    <tr>\n",
       "      <th>4</th>\n",
       "      <td>d6ea1074-f1f5-11e9-9346-000d3a38a36f</td>\n",
       "      <td>83.1429</td>\n",
       "      <td>95.4286</td>\n",
       "      <td>2.0000</td>\n",
       "      <td>104.9900</td>\n",
       "      <td>0.3960</td>\n",
       "      <td>0.7921</td>\n",
       "      <td>108.5945</td>\n",
       "      <td>90.2491</td>\n",
       "      <td>D</td>\n",
       "    </tr>\n",
       "  </tbody>\n",
       "</table>\n",
       "</div>"
      ],
      "text/plain": [
       "                            customer_id  recency        T  frequency  monetary  expected_sales_3_month  expected_sales_6_month  exp_average_value     cltv segment\n",
       "0  cc294636-19f0-11eb-8d74-000d3a38a36f  17.0000  30.5714     5.0000  187.8740                  0.9739                  1.9479           188.4700 385.1821       A\n",
       "1  f431bd5a-ab7b-11e9-a2fc-000d3a38a36f 209.8571 224.8571    21.0000   95.8833                  0.9832                  1.9663            96.2577 198.5903       B\n",
       "2  69b69676-1a40-11ea-941b-000d3a38a36f  52.2857  78.8571     5.0000  117.0640                  0.6706                  1.3412           118.4019 166.6138       B\n",
       "3  1854e56c-491f-11eb-806e-000d3a38a36f   1.5714  20.8571     2.0000   60.9850                  0.7004                  1.4008            65.7243  96.6000       D\n",
       "4  d6ea1074-f1f5-11e9-9346-000d3a38a36f  83.1429  95.4286     2.0000  104.9900                  0.3960                  0.7921           108.5945  90.2491       D"
      ]
     },
     "execution_count": 445,
     "metadata": {},
     "output_type": "execute_result"
    }
   ],
   "source": [
    "cltv.head()"
   ]
  },
  {
   "cell_type": "code",
   "execution_count": null,
   "id": "aca3913b-ab0d-4ed3-a806-2aa62a9ff73a",
   "metadata": {},
   "outputs": [],
   "source": []
  }
 ],
 "metadata": {
  "kernelspec": {
   "display_name": "Python [conda env:base] *",
   "language": "python",
   "name": "conda-base-py"
  },
  "language_info": {
   "codemirror_mode": {
    "name": "ipython",
    "version": 3
   },
   "file_extension": ".py",
   "mimetype": "text/x-python",
   "name": "python",
   "nbconvert_exporter": "python",
   "pygments_lexer": "ipython3",
   "version": "3.12.7"
  }
 },
 "nbformat": 4,
 "nbformat_minor": 5
}
