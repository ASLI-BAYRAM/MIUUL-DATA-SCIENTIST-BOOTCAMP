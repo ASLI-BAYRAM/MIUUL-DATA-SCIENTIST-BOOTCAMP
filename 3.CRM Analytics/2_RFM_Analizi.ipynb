{
 "cells": [
  {
   "cell_type": "markdown",
   "id": "4148ccba-fdd2-41ee-9bb8-fd61fcd38b99",
   "metadata": {},
   "source": [
    " <h1 style=\"text-align: center; color: RED\">RFM ANALİZİ</h1> "
   ]
  },
  {
   "cell_type": "markdown",
   "id": "88964e6e-35c3-4059-b3b1-6458d5513f36",
   "metadata": {},
   "source": [
    " <h2 style=\"text-align: center; color: RED\">RFM İLE MÜŞTERİ SEGMENTASYONU</h2> "
   ]
  },
  {
   "cell_type": "markdown",
   "id": "b57b584b-7b40-49a1-944d-190212acd686",
   "metadata": {},
   "source": [
    "RFM = Recency, Freguency, Monetary ifadelerinin baş harflerinden oluşur. CRM analitiği, müşteri segmentasyonu denildiğinde aklan gelen ilk analiz teknilerindendir.\n",
    "\n",
    "* RFM analizi müşteri segmentasyonu için kullanılan bir tekniktir.\n",
    "* Müşterilerin satın alma alışkanlıkları üzerinden gruplara ayrılması ve bu gruplar özelinde stratejiler geliştirilebilmesini sağlar.\n",
    "* CRM çalışmları için birçok başlıkta veriye dayalı aksiyon alma imkanı sağlar. "
   ]
  },
  {
   "cell_type": "markdown",
   "id": "3ad8fb4c-05ac-48c7-bc98-8eb4e75a6116",
   "metadata": {},
   "source": [
    "<span style=\"color: blue; font-weight: bold;\">RFM METRİKLERİ</span> "
   ]
  },
  {
   "cell_type": "markdown",
   "id": "e0d0aa39-cdbc-4ac0-8b21-ddc5aeb77b45",
   "metadata": {},
   "source": [
    "**Recency(Yenilik):** Müşterinin en son ne zaman alışveriş yaptığı dumunu ifade eder.Yna müşterinin sıcaklığını, yeniliğini ifade etmektedir. Bir müşterinin recency değeri 1 ise bu bizim için daha değerlerdir. Çünkü henüz 1 gün önce alışveriş yapmış demektir.\n",
    "\n",
    "**Frequency(Sıklık):** Müşterinin toplam yaptığı alışveriş sayısını ifade eder. Diğer ifade ile işlem sayısıdır.\n",
    "\n",
    "**Monetary(Parasal Değer):** Müşterinin bize bırakmış olduğu parasal değeri ifade eder."
   ]
  },
  {
   "cell_type": "markdown",
   "id": "24e19a81-99ca-48b0-bef0-27e3af05f8d0",
   "metadata": {},
   "source": [
    "<img src=\"resim\\rfm.png\" width=\"650\">"
   ]
  },
  {
   "cell_type": "markdown",
   "id": "55abc3a5-828d-4507-b9b9-39bd00aefe62",
   "metadata": {},
   "source": [
    "Yukarıdaki tabloyu incelediğimizde 1.müşteri 80 gün önce alışveriş yapmış , toplamda 250 tane işlem yani alışveriş yapmış ve bu alışverişlerin sonucunda bize bıraktığı parasal değer 5200'dür. Tabloda recency'e göre baktığımızda bizim için en iyi olan değer 1'dir. Çünkü müşteri bir gün önce alışveriş yapmış.Yani sıcak bir müşteridir. Frequency ve monetary için de yüksek olan değerler bizim için iyidir.\n"
   ]
  },
  {
   "cell_type": "markdown",
   "id": "c0bea17d-d56b-4ea6-af31-1321f3831341",
   "metadata": {},
   "source": [
    "RFM metriklerini biribiri içerisinde karşılaştırabilmek için RFM skorlarına çevirmemiz gerekmektedir. Bunları skorlara çevirmek demek hepsini aynı cinsten ifade etmek demektir.Hepsini standartlaştırarak birbiri ile kıyaslama imkanı sağlayacaz. Bütün değerleri 1-5 arasındaki skorlarla ifade ederek daha net bir bilgiye sahip olabiliriz.1 puan en küçük iken 5 puan en iyi puandır.\n",
    "\n",
    "**Not:** Recency değerinin küçük olmasın müşterinin sıcaklığını iade ettiği için skorlama yaparken küçük olan değere yüksek skor verilir."
   ]
  },
  {
   "cell_type": "markdown",
   "id": "7a4f49b2-27ba-4f8b-9d16-33c478cbc904",
   "metadata": {},
   "source": [
    "<img src=\"resim\\Skor.png\" width=\"650\">"
   ]
  },
  {
   "cell_type": "markdown",
   "id": "0fb70276-a114-477d-b1ac-dee09e100278",
   "metadata": {},
   "source": [
    "Örneğin 1. Müşteri R açısından iyi F ve M açısından iyi oldugu için bu müşteri benim için önemli demektir."
   ]
  },
  {
   "cell_type": "markdown",
   "id": "e96c4737-aba9-4b2e-a605-a2110e923983",
   "metadata": {},
   "source": [
    "<span style=\"color: blue; font-weight: bold;\">RFM METRİKLERİ ÜZERİNDEN SEGMENTLER OLUŞTURMAK</span> \n",
    "\n",
    "Yukarıdaki tabloda görüldüğü üzere RFM skorları birbirine çok yakın ve bir çok kombinasyon var. Bu skorlar üzerinden mantıklı sınıflandırmalar oluşturamayabiliriz. Bu aşamada öyle bir şey yapamalıyız ki RFM skorlarını grupladığımızda mantıklı bir gruplandırma ortaya çıkmış olsun. Bunu da sektörde yaygın kullanımı olan RF üzerinden yapılan bir sınıflandırma ile yapacaz. Alttaki görselde x ekseninde recency y ekseninde frequency var.. Yani monetary değerine göre bir segment oluşturulmamış. Bunu sebebi müşterilerin bizimle kurduğu ilişkilerde frekans daha önemlidir. Çünkü bizimle etkileşim halinde olan müşteriye daha fazla satış gerçekleştirebiliriz. Fakat bizimle etkileşimi olmayan bir müşteri için monetary değerine bakarak yorum yapmanın bir anlamı olmayacaktır.\n"
   ]
  },
  {
   "cell_type": "markdown",
   "id": "88785599-d3cd-48be-956e-5661e5e6bda3",
   "metadata": {},
   "source": [
    "<img src=\"resim\\seg.png\" width=\"750\">"
   ]
  },
  {
   "cell_type": "markdown",
   "id": "bbf06aca-fc6c-411c-9015-64fd94d7490e",
   "metadata": {},
   "source": [
    "Yukarıdaki tabloya göre receny'i 1 frequency'i 1 olan müşteri hibernating segmentinde, receny'i 2 frequency'i 5 olan  müşteri cant loose them segmentinde. Bu segmentasyon sonucunda artık her segmente farklı kampanyalar, pazarlama stratejileri geliştirebilirim."
   ]
  },
  {
   "cell_type": "code",
   "execution_count": null,
   "id": "9b00ff61-1b63-41d4-8c6c-789a700e4860",
   "metadata": {},
   "outputs": [],
   "source": []
  }
 ],
 "metadata": {
  "kernelspec": {
   "display_name": "Python [conda env:base] *",
   "language": "python",
   "name": "conda-base-py"
  },
  "language_info": {
   "codemirror_mode": {
    "name": "ipython",
    "version": 3
   },
   "file_extension": ".py",
   "mimetype": "text/x-python",
   "name": "python",
   "nbconvert_exporter": "python",
   "pygments_lexer": "ipython3",
   "version": "3.12.7"
  }
 },
 "nbformat": 4,
 "nbformat_minor": 5
}
